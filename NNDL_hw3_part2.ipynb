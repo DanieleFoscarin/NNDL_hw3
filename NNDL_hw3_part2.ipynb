{
  "nbformat": 4,
  "nbformat_minor": 0,
  "metadata": {
    "colab": {
      "name": "NNDL_hw3_part2.ipynb",
      "provenance": [],
      "mount_file_id": "https://github.com/DanieleFoscarin/NNDL_hw3/blob/main/NNDL_hw3_part2.ipynb",
      "authorship_tag": "ABX9TyPPCVCluwJL/24IXHtvd3U0",
      "include_colab_link": true
    },
    "kernelspec": {
      "name": "python3",
      "display_name": "Python 3"
    }
  },
  "cells": [
    {
      "cell_type": "markdown",
      "metadata": {
        "id": "view-in-github",
        "colab_type": "text"
      },
      "source": [
        "<a href=\"https://colab.research.google.com/github/DanieleFoscarin/NNDL_hw3/blob/main/NNDL_hw3_part2.ipynb\" target=\"_parent\"><img src=\"https://colab.research.google.com/assets/colab-badge.svg\" alt=\"Open In Colab\"/></a>"
      ]
    },
    {
      "cell_type": "markdown",
      "metadata": {
        "id": "jMm9ZPM7w7ir"
      },
      "source": [
        "# Part 1"
      ]
    },
    {
      "cell_type": "markdown",
      "metadata": {
        "id": "poiXxYrdw-Nz"
      },
      "source": [
        "Prepare enviroment"
      ]
    },
    {
      "cell_type": "code",
      "metadata": {
        "id": "jBelL8nBZVsn",
        "colab": {
          "base_uri": "https://localhost:8080/"
        },
        "outputId": "99ddcfb9-a38c-479b-cc8c-dddef5a5ffd7"
      },
      "source": [
        "!pip install gym"
      ],
      "execution_count": 2,
      "outputs": [
        {
          "output_type": "stream",
          "text": [
            "Requirement already satisfied: gym in /usr/local/lib/python3.6/dist-packages (0.17.3)\n",
            "Requirement already satisfied: pyglet<=1.5.0,>=1.4.0 in /usr/local/lib/python3.6/dist-packages (from gym) (1.5.0)\n",
            "Requirement already satisfied: cloudpickle<1.7.0,>=1.2.0 in /usr/local/lib/python3.6/dist-packages (from gym) (1.3.0)\n",
            "Requirement already satisfied: scipy in /usr/local/lib/python3.6/dist-packages (from gym) (1.4.1)\n",
            "Requirement already satisfied: numpy>=1.10.4 in /usr/local/lib/python3.6/dist-packages (from gym) (1.19.5)\n",
            "Requirement already satisfied: future in /usr/local/lib/python3.6/dist-packages (from pyglet<=1.5.0,>=1.4.0->gym) (0.16.0)\n"
          ],
          "name": "stdout"
        }
      ]
    },
    {
      "cell_type": "code",
      "metadata": {
        "id": "a7EkHQ0VsNnJ"
      },
      "source": [
        "import random\n",
        "import torch\n",
        "import numpy as np\n",
        "import gym\n",
        "import matplotlib.pyplot as plt\n",
        "from tqdm.notebook import tqdm\n",
        "import cv2\n",
        "\n",
        "from torch import nn\n",
        "from collections import deque # this python module implements exactly what we need for the replay memeory"
      ],
      "execution_count": 3,
      "outputs": []
    },
    {
      "cell_type": "markdown",
      "metadata": {
        "id": "LKzDB1SPZYY1"
      },
      "source": [
        "## Enable gym environment rendering in Colab\n",
        "\n",
        "> This section is not required if you are executing the notebook in a local environment. It enables the video generation from Gym environments, and it is only required in Colab since we do not have access to a screen.\n",
        "\n",
        "Source: https://colab.research.google.com/drive/18LdlDDT87eb8cCTHZsXyS9ksQPzL3i6H"
      ]
    },
    {
      "cell_type": "code",
      "metadata": {
        "id": "V0HIwpatSteb",
        "colab": {
          "base_uri": "https://localhost:8080/"
        },
        "outputId": "1596d12a-92c5-461c-bda3-52173a38d6ca"
      },
      "source": [
        "!apt update\n",
        "!apt-get install python-opengl -y\n",
        "!apt install xvfb -y\n",
        "!pip install pyvirtualdisplay\n",
        "!pip install piglet"
      ],
      "execution_count": 4,
      "outputs": [
        {
          "output_type": "stream",
          "text": [
            "\u001b[33m\r0% [Working]\u001b[0m\r            \rIgn:1 https://developer.download.nvidia.com/compute/cuda/repos/ubuntu1804/x86_64  InRelease\n",
            "\u001b[33m\r0% [Connecting to archive.ubuntu.com] [Connecting to security.ubuntu.com (91.18\u001b[0m\r                                                                               \rIgn:2 https://developer.download.nvidia.com/compute/machine-learning/repos/ubuntu1804/x86_64  InRelease\n",
            "\u001b[33m\r0% [Connecting to archive.ubuntu.com] [Connecting to security.ubuntu.com (91.18\u001b[0m\r                                                                               \rHit:3 https://developer.download.nvidia.com/compute/cuda/repos/ubuntu1804/x86_64  Release\n",
            "Hit:4 https://developer.download.nvidia.com/compute/machine-learning/repos/ubuntu1804/x86_64  Release\n",
            "Get:5 https://cloud.r-project.org/bin/linux/ubuntu bionic-cran40/ InRelease [3,626 B]\n",
            "Get:7 http://security.ubuntu.com/ubuntu bionic-security InRelease [88.7 kB]\n",
            "Get:8 http://ppa.launchpad.net/c2d4u.team/c2d4u4.0+/ubuntu bionic InRelease [15.9 kB]\n",
            "Hit:9 http://archive.ubuntu.com/ubuntu bionic InRelease\n",
            "Get:11 http://archive.ubuntu.com/ubuntu bionic-updates InRelease [88.7 kB]\n",
            "Hit:12 http://ppa.launchpad.net/cran/libgit2/ubuntu bionic InRelease\n",
            "Hit:13 http://ppa.launchpad.net/graphics-drivers/ppa/ubuntu bionic InRelease\n",
            "Get:14 http://archive.ubuntu.com/ubuntu bionic-backports InRelease [74.6 kB]\n",
            "Get:15 http://ppa.launchpad.net/c2d4u.team/c2d4u4.0+/ubuntu bionic/main Sources [1,724 kB]\n",
            "Get:16 http://security.ubuntu.com/ubuntu bionic-security/main amd64 Packages [1,921 kB]\n",
            "Get:17 http://archive.ubuntu.com/ubuntu bionic-updates/universe amd64 Packages [2,158 kB]\n",
            "Get:18 http://security.ubuntu.com/ubuntu bionic-security/universe amd64 Packages [1,387 kB]\n",
            "Get:19 http://ppa.launchpad.net/c2d4u.team/c2d4u4.0+/ubuntu bionic/main amd64 Packages [882 kB]\n",
            "Get:20 http://archive.ubuntu.com/ubuntu bionic-updates/main amd64 Packages [2,352 kB]\n",
            "Fetched 10.7 MB in 4s (2,863 kB/s)\n",
            "Reading package lists... Done\n",
            "Building dependency tree       \n",
            "Reading state information... Done\n",
            "22 packages can be upgraded. Run 'apt list --upgradable' to see them.\n",
            "Reading package lists... Done\n",
            "Building dependency tree       \n",
            "Reading state information... Done\n",
            "Suggested packages:\n",
            "  libgle3\n",
            "The following NEW packages will be installed:\n",
            "  python-opengl\n",
            "0 upgraded, 1 newly installed, 0 to remove and 22 not upgraded.\n",
            "Need to get 496 kB of archives.\n",
            "After this operation, 5,416 kB of additional disk space will be used.\n",
            "Get:1 http://archive.ubuntu.com/ubuntu bionic/universe amd64 python-opengl all 3.1.0+dfsg-1 [496 kB]\n",
            "Fetched 496 kB in 1s (429 kB/s)\n",
            "Selecting previously unselected package python-opengl.\n",
            "(Reading database ... 146456 files and directories currently installed.)\n",
            "Preparing to unpack .../python-opengl_3.1.0+dfsg-1_all.deb ...\n",
            "Unpacking python-opengl (3.1.0+dfsg-1) ...\n",
            "Setting up python-opengl (3.1.0+dfsg-1) ...\n",
            "Reading package lists... Done\n",
            "Building dependency tree       \n",
            "Reading state information... Done\n",
            "The following NEW packages will be installed:\n",
            "  xvfb\n",
            "0 upgraded, 1 newly installed, 0 to remove and 22 not upgraded.\n",
            "Need to get 784 kB of archives.\n",
            "After this operation, 2,270 kB of additional disk space will be used.\n",
            "Get:1 http://archive.ubuntu.com/ubuntu bionic-updates/universe amd64 xvfb amd64 2:1.19.6-1ubuntu4.8 [784 kB]\n",
            "Fetched 784 kB in 1s (620 kB/s)\n",
            "Selecting previously unselected package xvfb.\n",
            "(Reading database ... 148811 files and directories currently installed.)\n",
            "Preparing to unpack .../xvfb_2%3a1.19.6-1ubuntu4.8_amd64.deb ...\n",
            "Unpacking xvfb (2:1.19.6-1ubuntu4.8) ...\n",
            "Setting up xvfb (2:1.19.6-1ubuntu4.8) ...\n",
            "Processing triggers for man-db (2.8.3-2ubuntu0.1) ...\n",
            "Collecting pyvirtualdisplay\n",
            "  Downloading https://files.pythonhosted.org/packages/ad/05/6568620fed440941b704664b9cfe5f836ad699ac7694745e7787fbdc8063/PyVirtualDisplay-2.0-py2.py3-none-any.whl\n",
            "Collecting EasyProcess\n",
            "  Downloading https://files.pythonhosted.org/packages/48/3c/75573613641c90c6d094059ac28adb748560d99bd27ee6f80cce398f404e/EasyProcess-0.3-py2.py3-none-any.whl\n",
            "Installing collected packages: EasyProcess, pyvirtualdisplay\n",
            "Successfully installed EasyProcess-0.3 pyvirtualdisplay-2.0\n",
            "Collecting piglet\n",
            "  Downloading https://files.pythonhosted.org/packages/11/56/6840e5f45626dc7eb7cd5dff57d11880b3113723b3b7b1fb1fa537855b75/piglet-1.0.0-py2.py3-none-any.whl\n",
            "Collecting piglet-templates\n",
            "\u001b[?25l  Downloading https://files.pythonhosted.org/packages/34/1e/49d7e0df9420eeb13a636487b8e606cf099f2ee0793159edd8ffe905125b/piglet_templates-1.1.0-py3-none-any.whl (63kB)\n",
            "\u001b[K     |████████████████████████████████| 71kB 4.8MB/s \n",
            "\u001b[?25hRequirement already satisfied: markupsafe in /usr/local/lib/python3.6/dist-packages (from piglet-templates->piglet) (1.1.1)\n",
            "Requirement already satisfied: astunparse in /usr/local/lib/python3.6/dist-packages (from piglet-templates->piglet) (1.6.3)\n",
            "Collecting Parsley\n",
            "\u001b[?25l  Downloading https://files.pythonhosted.org/packages/2b/d6/4fed8d65e28a970e1c5cb33ce9c7e22e3de745e1b2ae37af051ef16aea3b/Parsley-1.3-py2.py3-none-any.whl (88kB)\n",
            "\u001b[K     |████████████████████████████████| 92kB 5.6MB/s \n",
            "\u001b[?25hRequirement already satisfied: attrs in /usr/local/lib/python3.6/dist-packages (from piglet-templates->piglet) (20.3.0)\n",
            "Requirement already satisfied: six<2.0,>=1.6.1 in /usr/local/lib/python3.6/dist-packages (from astunparse->piglet-templates->piglet) (1.15.0)\n",
            "Requirement already satisfied: wheel<1.0,>=0.23.0 in /usr/local/lib/python3.6/dist-packages (from astunparse->piglet-templates->piglet) (0.36.2)\n",
            "Installing collected packages: Parsley, piglet-templates, piglet\n",
            "Successfully installed Parsley-1.3 piglet-1.0.0 piglet-templates-1.1.0\n"
          ],
          "name": "stdout"
        }
      ]
    },
    {
      "cell_type": "code",
      "metadata": {
        "id": "jxM-vHKz1r_M"
      },
      "source": [
        "import glob\n",
        "import io\n",
        "import base64\n",
        "import os\n",
        "from IPython.display import HTML\n",
        "from IPython import display as ipythondisplay\n",
        "from pyvirtualdisplay import Display\n",
        "from gym.wrappers import Monitor"
      ],
      "execution_count": 4,
      "outputs": []
    },
    {
      "cell_type": "code",
      "metadata": {
        "id": "E0oXbzI2ZAfv",
        "colab": {
          "base_uri": "https://localhost:8080/"
        },
        "outputId": "43f9931f-b3d4-4dff-d9f9-fb866e270506"
      },
      "source": [
        "display = Display(visible=0, size=(1400, 900))\n",
        "display.start()"
      ],
      "execution_count": 5,
      "outputs": [
        {
          "output_type": "execute_result",
          "data": {
            "text/plain": [
              "<pyvirtualdisplay.display.Display at 0x7f1674e01588>"
            ]
          },
          "metadata": {
            "tags": []
          },
          "execution_count": 5
        }
      ]
    },
    {
      "cell_type": "code",
      "metadata": {
        "id": "yr5j5rz0ZEJf"
      },
      "source": [
        "# This code creates a virtual display to draw game images on. \n",
        "# If you are running locally, just ignore it\n",
        "if type(os.environ.get(\"DISPLAY\")) is not str or len(os.environ.get(\"DISPLAY\"))==0:\n",
        "    !bash ../xvfb start\n",
        "    %env DISPLAY=:1"
      ],
      "execution_count": 6,
      "outputs": []
    },
    {
      "cell_type": "code",
      "metadata": {
        "id": "StaxWEA0Z-O1"
      },
      "source": [
        "\"\"\"\n",
        "Utility functions to enable video recording of gym environment and displaying it\n",
        "To enable video, just do \"env = wrap_env(env)\"\"\n",
        "\"\"\"\n",
        "\n",
        "def show_videos():\n",
        "  mp4list = glob.glob('video/*.mp4')\n",
        "  mp4list.sort()\n",
        "  for mp4 in mp4list:\n",
        "    print(f\"\\nSHOWING VIDEO {mp4}\")\n",
        "    video = io.open(mp4, 'r+b').read()\n",
        "    encoded = base64.b64encode(video)\n",
        "    ipythondisplay.display(HTML(data='''<video alt=\"test\" autoplay \n",
        "                loop controls style=\"height: 400px;\">\n",
        "                <source src=\"data:video/mp4;base64,{0}\" type=\"video/mp4\" />\n",
        "             </video>'''.format(encoded.decode('ascii'))))\n",
        "    \n",
        "def wrap_env(env, video_callable=None):\n",
        "  env = Monitor(env, './video', force=True, video_callable=video_callable)\n",
        "  return env"
      ],
      "execution_count": 7,
      "outputs": []
    },
    {
      "cell_type": "markdown",
      "metadata": {
        "id": "wA_0gAmJfFlT"
      },
      "source": [
        "## Experience replay (Replay Memory)"
      ]
    },
    {
      "cell_type": "markdown",
      "metadata": {
        "id": "dqPUYNrpZhPw"
      },
      "source": [
        "\"*To perform experience replay, we store the agent's experiences e_t=(s_t,a_t,r_t,s_t+1) at each time-step t in a data set D_t={e_1,…,e_t}. During learning, we apply Q-learning updates, on samples (or mini-batches) of experience (s,a,r,s′)∼U(D), drawn uniformly at random from the pool of stored samples.*\"\n",
        "\n",
        "Source: https://www.nature.com/articles/nature14236\n",
        "\n",
        "In practice, what we need is a queue with a predefined capacity. When we reach the maximum capacity, the oldest element in the queue will be replaced with the new one.\n",
        "\n",
        "This exact behavior is implemented by the `deque` object from the python `collections` library (https://docs.python.org/3/library/collections.html#collections.deque):\n",
        "\n",
        "\"*If maxlen is not specified or is None, deques may grow to an arbitrary length. Otherwise, the deque is bounded to the specified maximum length. Once a bounded length deque is full, when new items are added, a corresponding number of items are discarded from the opposite end.*\"\n",
        "\n",
        "The random sampling can be easily achieved using the `random.sample` method (https://docs.python.org/3/library/random.html). "
      ]
    },
    {
      "cell_type": "code",
      "metadata": {
        "id": "1axKWEBl8uik"
      },
      "source": [
        "class ReplayMemory(object):\n",
        "\n",
        "    def __init__(self, capacity):\n",
        "        self.memory = deque(maxlen=capacity) # Define a queue with maxlen \"capacity\"\n",
        "\n",
        "    def push(self, state, action, next_state, reward):\n",
        "        self.memory.append( (state, action, next_state, reward) ) # Add the tuple (state, action, next_state, reward) to the queue\n",
        "\n",
        "    def sample(self, batch_size):\n",
        "        batch_size = min(batch_size, len(self)) # Get all the samples if the requested batch_size is higher than the number of sample currently in the memory\n",
        "        return random.sample(self.memory, batch_size) # Randomly select \"batch_size\" samples\n",
        "\n",
        "    def __len__(self):\n",
        "        return len(self.memory) # Return the number of samples currently stored in the memory"
      ],
      "execution_count": 14,
      "outputs": []
    },
    {
      "cell_type": "markdown",
      "metadata": {
        "id": "Y-nBdx6KfKNE"
      },
      "source": [
        "## Policy network"
      ]
    },
    {
      "cell_type": "markdown",
      "metadata": {
        "id": "vt2uYYCSrL8q"
      },
      "source": [
        "The policy network takes a state as input, and provides the Q-value for each of the possible actions.\r\n",
        "\r\n",
        "Let's define a simple generic fully-connected feed forward network with `state_space_dim` inputs and `action_space_dim` outputs (e.g. 2 hidden layers with 64 neurons each). \r\n",
        "\r\n",
        "Be sure to keep a linear output activation."
      ]
    },
    {
      "cell_type": "markdown",
      "metadata": {
        "id": "ynfEXqjGfbpl"
      },
      "source": [
        "### Exploration Policy"
      ]
    },
    {
      "cell_type": "markdown",
      "metadata": {
        "id": "b1Hs7GrEw5FW"
      },
      "source": [
        "Starting from the estimated Q-values, we need to choose the proper action. This action may be the one expected to provide the highest long term reward (exploitation), or maybe we want to find a better policy by choosing a different action (exploration).\r\n",
        "\r\n",
        "The exploration policy controls this behavior, typically by varying a single parameter.\r\n",
        "\r\n",
        "Since our Q-values estimates are far from the true values at the beginning of the training, a high exploration is preferred in the initial phase.\r\n",
        "\r\n",
        "The steps are:\r\n",
        "\r\n",
        "`Current state -> Policy network -> Q-values -> Exploration Policy -> Action`"
      ]
    },
    {
      "cell_type": "markdown",
      "metadata": {
        "id": "3x-kRJbQfqBR"
      },
      "source": [
        "### Epsilon-greedy policy\n"
      ]
    },
    {
      "cell_type": "markdown",
      "metadata": {
        "id": "RFVPF0aMy3be"
      },
      "source": [
        "With an epsilon-greedy policy we choose a **non optimal** action with probability epsilon, otherwise choose the best action (the one corresponding to the highest Q-value)."
      ]
    },
    {
      "cell_type": "code",
      "metadata": {
        "id": "ZXfh_Ub1fv4c"
      },
      "source": [
        "def choose_action_epsilon_greedy(net, state, epsilon):\n",
        "    \n",
        "    if epsilon > 1 or epsilon < 0:\n",
        "        raise Exception('The epsilon value must be between 0 and 1')\n",
        "                \n",
        "    # Evaluate the network output from the current state\n",
        "    with torch.no_grad():\n",
        "        net.eval()\n",
        "        state = torch.tensor(state, dtype=torch.float32) # Convert the state to tensor\n",
        "        net_out = net(state)\n",
        "\n",
        "    # Get the best action (argmax of the network output)\n",
        "    best_action = int(net_out.argmax())\n",
        "    # Get the number of possible actions\n",
        "    action_space_dim = net_out.shape[-1]\n",
        "\n",
        "    # Select a non optimal action with probability epsilon, otherwise choose the best action\n",
        "    if random.random() < epsilon:\n",
        "        # List of non-optimal actions\n",
        "        non_optimal_actions = [a for a in range(action_space_dim) if a != best_action]\n",
        "        # Select randomly\n",
        "        action = random.choice(non_optimal_actions)\n",
        "    else:\n",
        "        # Select best action\n",
        "        action = best_action\n",
        "        \n",
        "    return action, net_out.numpy()"
      ],
      "execution_count": 8,
      "outputs": []
    },
    {
      "cell_type": "code",
      "metadata": {
        "id": "nklFJdMoiDVo"
      },
      "source": [
        "# # Test if it works as expected\n",
        "# state = (0, 0, 0, 0)\n",
        "# epsilon = 0.5\n",
        "# chosen_action, q_values = choose_action_epsilon_greedy(net, state, epsilon)\n",
        "\n",
        "# print(f\"ACTION: {chosen_action}\")\n",
        "# print(f\"Q-VALUES: {q_values}\")"
      ],
      "execution_count": 10,
      "outputs": []
    },
    {
      "cell_type": "markdown",
      "metadata": {
        "id": "Vvxi7b82f0g4"
      },
      "source": [
        "### Softmax policy"
      ]
    },
    {
      "cell_type": "markdown",
      "metadata": {
        "id": "8I0r6m-p1UQG"
      },
      "source": [
        "With a softmax policy we choose the action based on a distribution obtained applying a softmax (with temperature $\\tau$) to the estimated Q-values. The highest the temperature, the more the distribution will converge to a random uniform distribution. At zero temperature, instead, the policy will always choose the action with the highest Q-value.\r\n",
        "\r\n",
        "> **HINT**\r\n",
        ">\r\n",
        "> To sample from a random (discrete) distribution you can use the numpy function `numpy.random.choice` (https://docs.scipy.org/doc//numpy-1.10.4/reference/generated/numpy.random.choice.html), by setting the parameter `p` properly.\r\n",
        "\r\n",
        "> **HINT**\r\n",
        ">\r\n",
        "> Even if the PyTorch softmax function does not support the temperature parameter directly, you can still use it and apply the temperature outside the function. Just look carefully at the softmax formula in the slide above.\r\n",
        "\r\n",
        "> **HINT**\r\n",
        ">\r\n",
        "> The softmax function may be numerically unstable with very low temperature values. In practice, it is suggested to set a minimum value for the temperature (e.g. 1e-8)."
      ]
    },
    {
      "cell_type": "code",
      "metadata": {
        "id": "taW_cjBsf4sW"
      },
      "source": [
        "def choose_action_softmax(net, state, temperature):\n",
        "    \n",
        "    if temperature < 0:\n",
        "        raise Exception('The temperature value must be greater than or equal to 0 ')\n",
        "        \n",
        "    # If the temperature is 0, just select the best action using the eps-greedy policy with epsilon = 0\n",
        "    if temperature == 0:\n",
        "        return choose_action_epsilon_greedy(net, state, 0)\n",
        "    \n",
        "    # Evaluate the network output from the current state\n",
        "    with torch.no_grad():\n",
        "        net.eval()\n",
        "        state = torch.tensor(state, dtype=torch.float32)\n",
        "        net_out = net(state)\n",
        "\n",
        "    # Apply softmax with temp\n",
        "    temperature = max(temperature, 1e-8) # set a minimum to the temperature for numerical stability\n",
        "    softmax_out = nn.functional.softmax(net_out / temperature, dim=0).numpy()\n",
        "                \n",
        "    # Sample the action using softmax output as mass pdf\n",
        "    all_possible_actions = np.arange(0, softmax_out.shape[-1])\n",
        "    action = np.random.choice(all_possible_actions, p=softmax_out) # this samples a random element from \"all_possible_actions\" with the probability distribution p (softmax_out in this case)\n",
        "    \n",
        "    return action, net_out.numpy()"
      ],
      "execution_count": 11,
      "outputs": []
    },
    {
      "cell_type": "code",
      "metadata": {
        "id": "CAIMqC5kldtB"
      },
      "source": [
        "# state = (0, 0, 0, 0)\n",
        "# temperature = 1\n",
        "# chosen_action, q_values = choose_action_softmax(net, state, temperature)\n",
        "\n",
        "# print(f\"ACTION: {chosen_action}\")\n",
        "# print(f\"Q-VALUES: {q_values}\")"
      ],
      "execution_count": 13,
      "outputs": []
    },
    {
      "cell_type": "markdown",
      "metadata": {
        "id": "QMXhJfZcpqIA"
      },
      "source": [
        "### Exploration profile"
      ]
    },
    {
      "cell_type": "markdown",
      "metadata": {
        "id": "7rOvTpcbMPnR"
      },
      "source": [
        "Let's consider, for example, an exponentially decreasing exploration profile using a softmax policy.\n",
        "\n",
        "$$\n",
        "\\text{softmax_temperature}  = \\text{initial_temperature} * \\text{exp_decay}^i \\qquad \\text{for $i$ = 1, 2, ..., num_iterations } \n",
        "$$\n",
        "\n",
        "Alternatively, you can consider an epsilon greedy policy. In this case the exploration would be controlled by the epsilon parameter, for which you should consider a different initial value (max 1). "
      ]
    },
    {
      "cell_type": "code",
      "metadata": {
        "colab": {
          "base_uri": "https://localhost:8080/",
          "height": 514
        },
        "id": "BLGXTxrpWuFe",
        "outputId": "c9ced74c-b0e0-4b83-b428-45015cfb4e54"
      },
      "source": [
        "### Define experimental exploration profile\r\n",
        "initial_value = 5\r\n",
        "num_iterations = 800\r\n",
        "exp_decay = np.exp(-np.log(initial_value) / num_iterations * 4) # We compute the exponential decay in such a way the shape of the exploration profile does not depend on the number of iterations\r\n",
        "# exploration_profile = [np.clip(initial_value * (exp_decay ** i) *np.abs(np.cos(i/15)), 1e-8, 10) for i in range(num_iterations)]\r\n",
        "exploration_profile = [np.clip(initial_value * (exp_decay ** i) *np.abs(np.cos(i*np.pi/10)), 1e-8, 10) for i in range(num_iterations)]\r\n",
        "\r\n",
        "\r\n",
        "### Plot exploration profile\r\n",
        "plt.figure(figsize=(12,8))\r\n",
        "plt.plot(exploration_profile)\r\n",
        "plt.grid()\r\n",
        "plt.xlabel('Iteration')\r\n",
        "plt.ylabel('Exploration profile (Softmax temperature)')"
      ],
      "execution_count": 14,
      "outputs": [
        {
          "output_type": "execute_result",
          "data": {
            "text/plain": [
              "Text(0, 0.5, 'Exploration profile (Softmax temperature)')"
            ]
          },
          "metadata": {
            "tags": []
          },
          "execution_count": 14
        },
        {
          "output_type": "display_data",
          "data": {
            "image/png": "[encoded data removed]",
            "text/plain": [
              "<Figure size 864x576 with 1 Axes>"
            ]
          },
          "metadata": {
            "tags": [],
            "needs_background": "light"
          }
        }
      ]
    },
    {
      "cell_type": "code",
      "metadata": {
        "id": "G-f78CC3ptt2",
        "colab": {
          "base_uri": "https://localhost:8080/",
          "height": 514
        },
        "outputId": "b254ac40-1948-4dd7-bc99-94b003221ae3"
      },
      "source": [
        "### Define exploration profile\n",
        "initial_value = 5\n",
        "num_iterations = 1000\n",
        "exp_decay = np.exp(-np.log(initial_value) / num_iterations * 4) # We compute the exponential decay in such a way the shape of the exploration profile does not depend on the number of iterations\n",
        "exploration_profile = [initial_value * (exp_decay ** i) for i in range(num_iterations)]\n",
        "\n",
        "### Plot exploration profile\n",
        "plt.figure(figsize=(12,8))\n",
        "plt.plot(exploration_profile)\n",
        "plt.grid()\n",
        "plt.xlabel('Iteration')\n",
        "plt.ylabel('Exploration profile (Softmax temperature)')"
      ],
      "execution_count": 15,
      "outputs": [
        {
          "output_type": "execute_result",
          "data": {
            "text/plain": [
              "Text(0, 0.5, 'Exploration profile (Softmax temperature)')"
            ]
          },
          "metadata": {
            "tags": []
          },
          "execution_count": 15
        },
        {
          "output_type": "display_data",
          "data": {
            "image/png": "[encoded data removed]",
            "text/plain": [
              "<Figure size 864x576 with 1 Axes>"
            ]
          },
          "metadata": {
            "tags": [],
            "needs_background": "light"
          }
        }
      ]
    },
    {
      "cell_type": "code",
      "metadata": {
        "id": "iX7JpFeObm08"
      },
      "source": [
        "# ### Define experimental exploration profile\r\n",
        "# initial_value = 3\r\n",
        "# num_iterations = 1000\r\n",
        "\r\n",
        "# def gaussian(x, mu, sig):\r\n",
        "#     return np.exp(-np.power(x - mu, 2.) / (2 * np.power(sig, 2.)))\r\n",
        "\r\n",
        "# exp_decay = np.exp(-np.log(initial_value) / num_iterations * 6) # We compute the exponential decay in such a way the shape of the exploration profile does not depend on the number of iterations\r\n",
        "# exploration_profile = [initial_value * (exp_decay ** i) *np.abs(np.cos(i/20)) + gaussian(i, 0, 200)*initial_value for i in range(num_iterations)] \r\n",
        "# # exploration_profile = [gaussian(x, 0, 200)*initial_value for x in range(num_iterations)]\r\n",
        "\r\n",
        "# ### Plot exploration profile\r\n",
        "# plt.figure(figsize=(12,8))\r\n",
        "# plt.plot(exploration_profile)\r\n",
        "# plt.grid()\r\n",
        "# plt.xlabel('Iteration')\r\n",
        "# plt.ylabel('Exploration profile (Softmax temperature)')"
      ],
      "execution_count": 16,
      "outputs": []
    },
    {
      "cell_type": "markdown",
      "metadata": {
        "id": "oXLB_rUCyoUT"
      },
      "source": [
        "### State from image processing\r\n",
        "Exploit computer vision tecniques to made a state\r\n",
        "\r\n",
        "blob detection https://learnopencv.com/blob-detection-using-opencv-python-c/"
      ]
    },
    {
      "cell_type": "code",
      "metadata": {
        "id": "Rl-TC_NfYRGg"
      },
      "source": [
        "def state_from_image(frame2, frame1):\r\n",
        "    #consider frame1 as old and frame2 as current\r\n",
        "    \r\n",
        "    frame1 = frame1[160:300]\r\n",
        "    frame2 = frame2[160:300]\r\n",
        "    cart_pos1 = np.mean(np.arange(600)[frame1[139,:,0]<255])\r\n",
        "    cart_pos2 = np.mean(np.arange(600)[frame2[139,:,0]<255])\r\n",
        "\r\n",
        "    cart_vel = cart_pos2 - cart_pos1\r\n",
        "\r\n",
        "\r\n",
        "    # resctrict the searched area in the neighborhood of the cart\r\n",
        "    ros_L1 = int(max(cart_pos1-60, 0))\r\n",
        "    ros_R1 = int(min(cart_pos1+60, np.shape(frame1)[1]))\r\n",
        "\r\n",
        "    ros_L2 = int(max(cart_pos2-60, 0))\r\n",
        "    ros_R2 = int(min(cart_pos2+60, np.shape(frame2)[1]))\r\n",
        "\r\n",
        "    flat_search1 = frame1[:,ros_L1:ros_R1, 0]\r\n",
        "    flat_search2 = frame2[:,ros_L2:ros_R2, 0]\r\n",
        "\r\n",
        "    #reshape varying the last dimension first\r\n",
        "    flat_search1 = np.reshape(flat_search1, ((ros_R1-ros_L1)*140,1))\r\n",
        "    flat_search2 = np.reshape(flat_search2, ((ros_R2-ros_L2)*140,1))\r\n",
        "\r\n",
        "    idx1 = np.argmax(flat_search1<255)\r\n",
        "    point1 = [idx1//120, idx1%120] \r\n",
        "    point1 = (point1[0], point1[1]-60)\r\n",
        "    pole_pos1 = (point1[0], cart_pos1 + point1[1])\r\n",
        "    pole_rel_pos1 = point1[1]\r\n",
        "\r\n",
        "    idx2 = np.argmax(flat_search2<255)\r\n",
        "    point2 = [idx2//120, idx2%120]\r\n",
        "    point2 = (point2[0], point2[1]-60)\r\n",
        "    pole_pos2 = (point2[0], cart_pos2 + point2[1])\r\n",
        "    pole_rel_pos2 = point2[1]\r\n",
        "\r\n",
        "    pole_vel = pole_rel_pos2 - pole_rel_pos1\r\n",
        "\r\n",
        "    #normalize the values\r\n",
        "    #[-1,+1] range\r\n",
        "    cart_pos2 = (cart_pos2 - 300) / 100\r\n",
        "    cart_vel = cart_vel/10\r\n",
        "    pole_rel_pos2 = pole_rel_pos2/10\r\n",
        "    pole_vel = pole_vel/10\r\n",
        "\r\n",
        "\r\n",
        "    return cart_pos2, cart_vel, pole_rel_pos2, pole_vel"
      ],
      "execution_count": 18,
      "outputs": []
    },
    {
      "cell_type": "code",
      "metadata": {
        "id": "cQEyGibgghsF"
      },
      "source": [
        "def state_from_image2(frame_list):\r\n",
        "    ''''\r\n",
        "    it takes 3 frames, observation space 6 dimensions\r\n",
        "    ''' \r\n",
        "\r\n",
        "    cart_pos_list = []\r\n",
        "    pole_rel_pos_list = []\r\n",
        "    for frame in frame_list:\r\n",
        "        frame = frame[160:300]\r\n",
        "        # cart_pos = np.mean(np.arange(600)[frame[139,:,0]<255])\r\n",
        "        cart_pos = 24.5 + np.argmin(frame[139,:,0])\r\n",
        "        ros_L = int(max(cart_pos-60, 0))\r\n",
        "        ros_R = int(min(cart_pos+60, np.shape(frame)[1]))\r\n",
        "        flat_search = frame[:,ros_L:ros_R, 0]\r\n",
        "        flat_search = np.reshape(flat_search, ((ros_R-ros_L)*140,1))\r\n",
        "        idx = np.argmax(flat_search<255)\r\n",
        "        point = [idx//120, idx%120] \r\n",
        "        point = (point[0], point[1]-60)\r\n",
        "        pole_pos = (point[0], cart_pos + point[1])\r\n",
        "        pole_rel_pos = point[1]\r\n",
        "\r\n",
        "        cart_pos_list.append(cart_pos)\r\n",
        "        pole_rel_pos_list.append(pole_rel_pos)\r\n",
        "        #######\r\n",
        "    \r\n",
        "    cart_vel = cart_pos_list[-1] - cart_pos_list[-2]\r\n",
        "    cart_acc = cart_vel - (cart_pos_list[-2] - cart_pos_list[-3])\r\n",
        "\r\n",
        "    pole_vel = pole_rel_pos_list[-1] - pole_rel_pos_list[-2]\r\n",
        "    pole_acc = pole_vel - (pole_rel_pos_list[-2] - pole_rel_pos_list[-3])\r\n",
        "\r\n",
        "    #reduce the range of values\r\n",
        "    cart_pos_out = (cart_pos_list[-1] - 300) / 100\r\n",
        "    pole_rel_pos_out = pole_rel_pos_list[-1] / 10\r\n",
        "\r\n",
        "    cart_vel = cart_vel / 10\r\n",
        "    cart_acc = cart_acc / 1\r\n",
        "    pole_vel = pole_vel / 10\r\n",
        "    pole_acc = pole_acc / 1\r\n",
        "\r\n",
        "    return cart_pos_out, cart_vel, cart_acc, pole_rel_pos_out, pole_vel, pole_acc\r\n"
      ],
      "execution_count": 22,
      "outputs": []
    },
    {
      "cell_type": "markdown",
      "metadata": {
        "id": "-rdsRx6wfZw1"
      },
      "source": [
        "### Network definition"
      ]
    },
    {
      "cell_type": "markdown",
      "metadata": {
        "id": "nJjj8rIGJ-mw"
      },
      "source": [
        "using a dueling deep q network\r\n",
        "reference https://towardsdatascience.com/dueling-deep-q-networks-81ffab672751"
      ]
    },
    {
      "cell_type": "code",
      "metadata": {
        "id": "W41rXekb8x7K"
      },
      "source": [
        "class DQN(nn.Module):\n",
        "\n",
        "    def __init__(self, state_space_dim, action_space_dim, layer_size):\n",
        "        super().__init__()\n",
        "\n",
        "        self.feature_layer = nn.Sequential(\n",
        "                nn.Linear(state_space_dim, layer_size),\n",
        "                nn.ReLU(True),\n",
        "\n",
        "                nn.Linear(layer_size, layer_size),\n",
        "                nn.ReLU(True),\n",
        "\n",
        "                # nn.Linear(layer_size, layer_size),\n",
        "                # nn.ReLU(True),\n",
        "                )\n",
        "        \n",
        "        self.value_stream = nn.Sequential(\n",
        "            nn.Linear(layer_size, layer_size),\n",
        "            nn.ReLU(),\n",
        "            nn.Linear(layer_size, 1)\n",
        "        )\n",
        "\n",
        "        self.advantage_stream = nn.Sequential(\n",
        "            nn.Linear(layer_size, layer_size),\n",
        "            nn.ReLU(),\n",
        "            nn.Linear(layer_size, action_space_dim)\n",
        "        )\n",
        "\n",
        "    def forward(self, x):\n",
        "        features = self.feature_layer(x)\n",
        "        values = self.value_stream(features)\n",
        "        advantages = self.advantage_stream(features)\n",
        "        qvals = values + (advantages - advantages.mean())\n",
        "\n",
        "        return qvals"
      ],
      "execution_count": 36,
      "outputs": []
    },
    {
      "cell_type": "code",
      "metadata": {
        "id": "tLPAsTT4gpeW"
      },
      "source": [
        "# # Define an example network\n",
        "# net = DQN(state_space_dim=4, action_space_dim=2)"
      ],
      "execution_count": 11,
      "outputs": []
    },
    {
      "cell_type": "markdown",
      "metadata": {
        "id": "nU6b5gwXJ5wj"
      },
      "source": [
        "### Loss function definition"
      ]
    },
    {
      "cell_type": "code",
      "metadata": {
        "id": "rslRKyjEJ9Ow"
      },
      "source": [
        ""
      ],
      "execution_count": 20,
      "outputs": []
    },
    {
      "cell_type": "markdown",
      "metadata": {
        "id": "zjKmdFhowRbj"
      },
      "source": [
        "## Gym Environment (CartPole-v1)"
      ]
    },
    {
      "cell_type": "markdown",
      "metadata": {
        "id": "uC_cbOXjEJlb"
      },
      "source": [
        "A pole is attached by an un-actuated joint to a cart, which moves along a frictionless track. The system is controlled by applying a force of +1 or -1 to the cart. The pendulum starts upright, and the goal is to prevent it from falling over. A reward of +1 is provided for every timestep that the pole remains upright. The episode ends when the pole is more than 15 degrees from vertical, or the cart moves more than 2.4 units from the center.\n",
        "\n",
        "https://gym.openai.com/envs/CartPole-v1/"
      ]
    },
    {
      "cell_type": "markdown",
      "metadata": {
        "id": "9FmV7DVqEikG"
      },
      "source": [
        "![image.png](data:image/png;base64,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)"
      ]
    },
    {
      "cell_type": "code",
      "metadata": {
        "id": "Ar0yNaNrCnjn"
      },
      "source": [
        "# ### Create environment\n",
        "# env = gym.make('CartPole-v1') # Initialize the Gym environment\n",
        "# env.seed(0) # Set a random seed for the environment (reproducible results)\n",
        "\n",
        "# # Get the shapes of the state space (observation_space) and action space (action_space)\n",
        "# state_space_dim = env.observation_space.shape[0]\n",
        "# action_space_dim = env.action_space.n\n",
        "\n",
        "# print(f\"STATE SPACE SIZE: {state_space_dim}\")\n",
        "# print(f\"ACTION SPACE SIZE: {action_space_dim}\")\n",
        "\n",
        "# print(env.observation_space)"
      ],
      "execution_count": 23,
      "outputs": []
    },
    {
      "cell_type": "markdown",
      "metadata": {
        "id": "9KXpjzf2vdeL"
      },
      "source": [
        "## Network update"
      ]
    },
    {
      "cell_type": "markdown",
      "metadata": {
        "id": "LQUTrt8DzJXO"
      },
      "source": [
        "### Update function"
      ]
    },
    {
      "cell_type": "code",
      "metadata": {
        "id": "Sj1hEvPOvkBX"
      },
      "source": [
        "def update_step(policy_net, target_net, replay_mem, gamma, optimizer, loss_fn, batch_size):\n",
        "        \n",
        "    # Sample the data from the replay memory\n",
        "    batch = replay_mem.sample(batch_size)\n",
        "    batch_size = len(batch)\n",
        "\n",
        "    # Create tensors for each element of the batch\n",
        "    states      = torch.tensor([s[0] for s in batch], dtype=torch.float32)\n",
        "    actions     = torch.tensor([s[1] for s in batch], dtype=torch.int64)\n",
        "    rewards     = torch.tensor([s[3] for s in batch], dtype=torch.float32)\n",
        "\n",
        "    # Compute a mask of non-final states (all the elements where the next state is not None)\n",
        "    non_final_next_states = torch.tensor([s[2] for s in batch if s[2] is not None], dtype=torch.float32) # the next state can be None if the game has ended\n",
        "    non_final_mask = torch.tensor([s[2] is not None for s in batch], dtype=torch.bool)\n",
        "\n",
        "    # Compute all the Q values (forward pass)\n",
        "    policy_net.train()\n",
        "    q_values = policy_net(states)\n",
        "    # Select the proper Q value for the corresponding action taken Q(s_t, a)\n",
        "    state_action_values = q_values.gather(1, actions.unsqueeze(1))\n",
        "\n",
        "    # Compute the value function of the next states using the target network V(s_{t+1}) = max_a( Q_target(s_{t+1}, a)) )\n",
        "    with torch.no_grad():\n",
        "      target_net.eval()\n",
        "      q_values_target = target_net(non_final_next_states)\n",
        "    next_state_max_q_values = torch.zeros(batch_size)\n",
        "    next_state_max_q_values[non_final_mask] = q_values_target.max(dim=1)[0]\n",
        "\n",
        "    # Compute the expected Q values\n",
        "    expected_state_action_values = rewards + (next_state_max_q_values * gamma)\n",
        "    expected_state_action_values = expected_state_action_values.unsqueeze(1) # Set the required tensor shape\n",
        "\n",
        "    # Compute the Huber loss\n",
        "    loss = loss_fn(state_action_values, expected_state_action_values)\n",
        "\n",
        "    # Optimize the model\n",
        "    optimizer.zero_grad()\n",
        "    loss.backward()\n",
        "    # Apply gradient clipping (clip all the gradients greater than 2 for training stability)\n",
        "    nn.utils.clip_grad_norm_(policy_net.parameters(), 2)\n",
        "    optimizer.step()"
      ],
      "execution_count": 12,
      "outputs": []
    },
    {
      "cell_type": "markdown",
      "metadata": {
        "id": "NZ3P9MKjxCAL"
      },
      "source": [
        "### Initialization"
      ]
    },
    {
      "cell_type": "markdown",
      "metadata": {
        "id": "Y7gSKTn-ymDZ"
      },
      "source": [
        "In this case we will use the Huber loss as loss function (https://pytorch.org/docs/stable/generated/torch.nn.SmoothL1Loss.html). The Huber loss uses a squared term if the absolute element-wise error falls below beta and an L1 term otherwise. It is less sensitive to outliers than the MSELoss and in some cases prevents exploding gradients."
      ]
    },
    {
      "cell_type": "code",
      "metadata": {
        "id": "lVpk-g0i9d-B"
      },
      "source": [
        "# Set random seeds\n",
        "torch.manual_seed(0)\n",
        "np.random.seed(0)\n",
        "random.seed(0)\n",
        "\n",
        "### PARAMETERS\n",
        "gamma = 0.97   # gamma parameter for the long term reward\n",
        "replay_memory_capacity = 10000   # Replay memory capacity\n",
        "lr = 1e-2   # Optimizer learning rate\n",
        "target_net_update_steps = 10   # Number of episodes to wait before updating the target network\n",
        "batch_size = 128   # Number of samples to take from the replay memory for each update\n",
        "bad_state_penalty = 0   # Penalty to the reward when we are in a bad state (in this case when the pole falls down) \n",
        "min_samples_for_training = 1000   # Minimum samples in the replay memory to enable the training"
      ],
      "execution_count": 25,
      "outputs": []
    },
    {
      "cell_type": "code",
      "metadata": {
        "id": "2k3ZQuh8xHo7",
        "colab": {
          "base_uri": "https://localhost:8080/",
          "height": 0
        },
        "outputId": "0537cfd7-e898-4e40-8b36-6f5d0974e079"
      },
      "source": [
        "### Initialize the replay memory\n",
        "replay_mem = ReplayMemory(replay_memory_capacity)    \n",
        "\n",
        "### Initialize the policy network\n",
        "policy_net = DQN(state_space_dim, action_space_dim)\n",
        "\n",
        "### Initialize the target network with the same weights of the policy network\n",
        "target_net = DQN(state_space_dim, action_space_dim)\n",
        "target_net.load_state_dict(policy_net.state_dict()) # This will copy the weights of the policy network to the target network\n",
        "\n",
        "### Initialize the optimizer\n",
        "optimizer = torch.optim.SGD(policy_net.parameters(), lr=lr) # The optimizer will update ONLY the parameters of the policy network\n",
        "# optimizer = torch.optim.RMSprop(policy_net.parameters(), lr=lr)\n",
        "\n",
        "### Initialize the loss function (Huber loss)\n",
        "loss_fn = nn.SmoothL1Loss()"
      ],
      "execution_count": 26,
      "outputs": [
        {
          "output_type": "error",
          "ename": "TypeError",
          "evalue": "ignored",
          "traceback": [
            "\u001b[0;31m---------------------------------------------------------------------------\u001b[0m",
            "\u001b[0;31mTypeError\u001b[0m                                 Traceback (most recent call last)",
            "\u001b[0;32m<ipython-input-26-81d8480238ff>\u001b[0m in \u001b[0;36m<module>\u001b[0;34m()\u001b[0m\n\u001b[1;32m      3\u001b[0m \u001b[0;34m\u001b[0m\u001b[0m\n\u001b[1;32m      4\u001b[0m \u001b[0;31m### Initialize the policy network\u001b[0m\u001b[0;34m\u001b[0m\u001b[0;34m\u001b[0m\u001b[0;34m\u001b[0m\u001b[0m\n\u001b[0;32m----> 5\u001b[0;31m \u001b[0mpolicy_net\u001b[0m \u001b[0;34m=\u001b[0m \u001b[0mDQN\u001b[0m\u001b[0;34m(\u001b[0m\u001b[0mstate_space_dim\u001b[0m\u001b[0;34m,\u001b[0m \u001b[0maction_space_dim\u001b[0m\u001b[0;34m)\u001b[0m\u001b[0;34m\u001b[0m\u001b[0;34m\u001b[0m\u001b[0m\n\u001b[0m\u001b[1;32m      6\u001b[0m \u001b[0;34m\u001b[0m\u001b[0m\n\u001b[1;32m      7\u001b[0m \u001b[0;31m### Initialize the target network with the same weights of the policy network\u001b[0m\u001b[0;34m\u001b[0m\u001b[0;34m\u001b[0m\u001b[0;34m\u001b[0m\u001b[0m\n",
            "\u001b[0;31mTypeError\u001b[0m: __init__() missing 1 required positional argument: 'layer_size'"
          ]
        }
      ]
    },
    {
      "cell_type": "markdown",
      "metadata": {
        "id": "03Ab0RMB5CCC"
      },
      "source": [
        "### Training loop"
      ]
    },
    {
      "cell_type": "code",
      "metadata": {
        "id": "WF6Zf53FoRDZ"
      },
      "source": [
        "# Set random seeds\n",
        "torch.manual_seed(0)\n",
        "np.random.seed(0)\n",
        "random.seed(0)\n",
        "\n",
        "def running_mean(x, N):\n",
        "    cumsum = np.cumsum(np.insert(x, 0, 0)) \n",
        "    return (cumsum[N:] - cumsum[:-N]) / float(N)\n",
        "\n",
        "### PARAMETERS\n",
        "gamma = 0.97   # gamma parameter for the long term reward\n",
        "replay_memory_capacity = 10000   # Replay memory capacity\n",
        "lr = 1e-2   # Optimizer learning rate\n",
        "target_net_update_steps = 10   # Number of episodes to wait before updating the target network\n",
        "batch_size = 128  # Number of samples to take from the replay memory for each update\n",
        "bad_state_penalty = 0   # Penalty to the reward when we are in a bad state (in this case when the pole falls down) \n",
        "min_samples_for_training = 1000   # Minimum samples in the replay memory to enable the training\n",
        "\n",
        "layer_size = 512\n",
        "\n",
        "# depending on the state_from_image function\n",
        "state_space_dim = 6     #6 for state_from_image2\n",
        "action_space_dim = 2\n",
        "\n",
        "### Initialize the replay memory\n",
        "replay_mem = ReplayMemory(replay_memory_capacity)    \n",
        "\n",
        "### Initialize the policy network\n",
        "policy_net = DQN(state_space_dim, action_space_dim, layer_size)\n",
        "\n",
        "### Initialize the target network with the same weights of the policy network\n",
        "target_net = DQN(state_space_dim, action_space_dim, layer_size)\n",
        "target_net.load_state_dict(policy_net.state_dict()) # This will copy the weights of the policy network to the target network\n",
        "\n",
        "### Initialize the optimizer\n",
        "optimizer = torch.optim.SGD(policy_net.parameters(), lr=lr) # The optimizer will update ONLY the parameters of the policy network\n",
        "# optimizer = torch.optim.RMSprop(policy_net.parameters(), lr=lr)\n",
        "\n",
        "### Initialize the loss function (Huber loss)\n",
        "loss_fn = nn.SmoothL1Loss()\n",
        "\n",
        "# Initialize the Gym environment\n",
        "env = gym.make('CartPole-v1') \n",
        "env.seed(0) # Set a random seed for the environment (reproducible results)\n",
        "\n",
        "# This is for creating the output video in Colab, not required outside Colab\n",
        "env = wrap_env(env, video_callable=lambda episode_id: episode_id % 100 == 0) # Save a video every 100 episodes\n",
        "\n",
        "score_record = []\n",
        "win_counter = 0\n",
        "for episode_num, tau in enumerate(exploration_profile):\n",
        "\n",
        "    # Reset the environment and get the initial state\n",
        "    state = env.reset()\n",
        "    init_frame = env.render(mode=\"rgb_array\")\n",
        "    frame_list = [init_frame, init_frame, init_frame]\n",
        "\n",
        "    image_state = state_from_image2(frame_list)\n",
        "\n",
        "    # Reset the score. The final score will be the total amount of steps before the pole falls\n",
        "    score = 0\n",
        "    done = False\n",
        "\n",
        "    # Go on until the pole falls off\n",
        "    while not done:\n",
        "\n",
        "        # Choose the action following the policy\n",
        "        action, q_values = choose_action_softmax(policy_net, state, temperature=tau)\n",
        "        \n",
        "        # Apply the action and get the next state, the reward and a flag \"done\" that is True if the game is ended\n",
        "        _, reward, done, info = env.step(action)\n",
        "\n",
        "        # save the frame in a array\n",
        "        frame_curr = env.render(mode=\"rgb_array\")\n",
        "        frame_list.pop(0)\n",
        "        frame_list.append(frame_curr)\n",
        "\n",
        "        next_image_state = state_from_image2(frame_list)\n",
        "\n",
        "        # We apply a (linear) penalty when the cart is far from center\n",
        "        pos_weight = 1\n",
        "        reward = reward - pos_weight * np.abs(image_state[0]) \n",
        "        # apply penalty also if on the pole angle velocity\n",
        "        pole_weight = 1\n",
        "        reward = reward - pos_weight * np.abs(image_state[3])\n",
        "        pole_weight = 1\n",
        "        reward = reward - pos_weight * np.abs(image_state[4])\n",
        "        pole_weight = 1\n",
        "        reward = reward - pos_weight * np.abs(image_state[5])  \n",
        "\n",
        "        # Update the final score (+1 for each step)\n",
        "        score += 1\n",
        "\n",
        "        # Apply penalty for bad state\n",
        "        if done: # if the pole has fallen down \n",
        "            reward += bad_state_penalty\n",
        "            next_state = None\n",
        "\n",
        "        # Update the replay memory\n",
        "        replay_mem.push(image_state, action, next_image_state, reward)\n",
        "\n",
        "        # Update the network\n",
        "        if len(replay_mem) > min_samples_for_training: # we enable the training only if we have enough samples in the replay memory, otherwise the training will use the same samples too often\n",
        "            update_step(policy_net, target_net, replay_mem, gamma, optimizer, loss_fn, batch_size)\n",
        "\n",
        "        # Visually render the environment (disable to speed up the training)\n",
        "        env.render()\n",
        "\n",
        "        # Set the current state for the next iteration\n",
        "        image_state = next_image_state\n",
        "\n",
        "    # Update the target network every target_net_update_steps episodes\n",
        "    if episode_num % target_net_update_steps == 0:\n",
        "        print('Updating target network...')\n",
        "        target_net.load_state_dict(policy_net.state_dict()) # This will copy the weights of the policy network to the target network\n",
        "        # win_counter = 0\n",
        "    score_record.append(score)\n",
        "\n",
        "    if score == 500:\n",
        "        win_counter +=1\n",
        "    else:\n",
        "        win_score = 0\n",
        "    # Print the final score\n",
        "    print(f\"EPISODE: {episode_num + 1} - FINAL SCORE: {score} - Temperature: {tau}\") # Print the final score\n",
        "\n",
        "    #exit if we have 10 consecutive wins with the same net\n",
        "    if win_counter == target_net_update_steps:\n",
        "        break\n",
        "env.close()"
      ],
      "execution_count": null,
      "outputs": []
    },
    {
      "cell_type": "code",
      "metadata": {
        "id": "5xIRGZjD77D2"
      },
      "source": [
        "# plt.plot(score_record)"
      ],
      "execution_count": null,
      "outputs": []
    },
    {
      "cell_type": "code",
      "metadata": {
        "id": "7FQjjVTiP2T6"
      },
      "source": [
        "# Display the videos, not required outside Colab\n",
        "# show_videos()"
      ],
      "execution_count": null,
      "outputs": []
    },
    {
      "cell_type": "markdown",
      "metadata": {
        "id": "LoMkXR5W4Ar8"
      },
      "source": [
        "## training with greedy policy"
      ]
    },
    {
      "cell_type": "code",
      "metadata": {
        "id": "YsWF9_mx4ANJ",
        "colab": {
          "base_uri": "https://localhost:8080/"
        },
        "outputId": "498ecbe0-ae39-48a3-d79a-dc6bfa03ee84"
      },
      "source": [
        "# Set random seeds\r\n",
        "torch.manual_seed(0)\r\n",
        "np.random.seed(0)\r\n",
        "random.seed(0)\r\n",
        "\r\n",
        "def running_mean(x, N):\r\n",
        "    cumsum = np.cumsum(np.insert(x, 0, 0)) \r\n",
        "    return (cumsum[N:] - cumsum[:-N]) / float(N)\r\n",
        "\r\n",
        "### PARAMETERS\r\n",
        "gamma = 0.97   # gamma parameter for the long term reward\r\n",
        "replay_memory_capacity = 10000   # Replay memory capacity\r\n",
        "lr = 1e-2   # Optimizer learning rate\r\n",
        "target_net_update_steps = 10   # Number of episodes to wait before updating the target network\r\n",
        "batch_size = 128  # Number of samples to take from the replay memory for each update\r\n",
        "bad_state_penalty = 0   # Penalty to the reward when we are in a bad state (in this case when the pole falls down) \r\n",
        "min_samples_for_training = 1000   # Minimum samples in the replay memory to enable the training\r\n",
        "\r\n",
        "layer_size = 128\r\n",
        "\r\n",
        "# depending on the state_from_image function\r\n",
        "state_space_dim = 6     #6 for state_from_image2\r\n",
        "action_space_dim = 2\r\n",
        "\r\n",
        "### Initialize the replay memory\r\n",
        "replay_mem = ReplayMemory(replay_memory_capacity)    \r\n",
        "\r\n",
        "### Initialize the policy network\r\n",
        "policy_net = DQN(state_space_dim, action_space_dim, layer_size)\r\n",
        "\r\n",
        "### Initialize the target network with the same weights of the policy network\r\n",
        "target_net = DQN(state_space_dim, action_space_dim, layer_size)\r\n",
        "target_net.load_state_dict(policy_net.state_dict()) # This will copy the weights of the policy network to the target network\r\n",
        "\r\n",
        "### Initialize the optimizer\r\n",
        "optimizer = torch.optim.SGD(policy_net.parameters(), lr=lr) # The optimizer will update ONLY the parameters of the policy network\r\n",
        "# optimizer = torch.optim.RMSprop(policy_net.parameters(), lr=lr)\r\n",
        "\r\n",
        "### Initialize the loss function (Huber loss)\r\n",
        "loss_fn = nn.SmoothL1Loss()\r\n",
        "\r\n",
        "\r\n",
        "# Initialize the Gym environment\r\n",
        "env = gym.make('CartPole-v1') \r\n",
        "env.seed(0) # Set a random seed for the environment (reproducible results)\r\n",
        "\r\n",
        "# This is for creating the output video in Colab, not required outside Colab\r\n",
        "env = wrap_env(env, video_callable=lambda episode_id: episode_id % 100 == 0) # Save a video every 100 episodes\r\n",
        "\r\n",
        "num_iterations = 1000\r\n",
        "epsilon = 0.1\r\n",
        "\r\n",
        "score_record = []\r\n",
        "frame_list = []\r\n",
        "\r\n",
        "win_counter = 0\r\n",
        "# for episode_num, tau in enumerate(exploration_profile):\r\n",
        "for episode_num in range(num_iterations):\r\n",
        "\r\n",
        "    # Reset the environment and get the initial state\r\n",
        "    state = env.reset()\r\n",
        "    # frame_past = env.render(mode=\"rgb_array\")\r\n",
        "    init_frame = env.render(mode=\"rgb_array\")\r\n",
        "    frame_list = [init_frame, init_frame, init_frame]\r\n",
        "\r\n",
        "    image_state = state_from_image2(frame_list)\r\n",
        "\r\n",
        "    # Reset the score. The final score will be the total amount of steps before the pole falls\r\n",
        "    score = 0\r\n",
        "    done = False\r\n",
        "\r\n",
        "    verbose = True\r\n",
        "\r\n",
        "    # Go on until the pole falls off\r\n",
        "    while not done:\r\n",
        "\r\n",
        "        # Choose the action following the policy\r\n",
        "        # epsilon = np.clip(tau/10,1e-8,1)\r\n",
        "\r\n",
        "        action, q_values = choose_action_epsilon_greedy(policy_net, image_state, epsilon) \r\n",
        "        \r\n",
        "        # Apply the action and get the next state, the reward and a flag \"done\" that is True if the game is ended\r\n",
        "        _, reward, done, info = env.step(action)\r\n",
        "\r\n",
        "\r\n",
        "\r\n",
        "        # save the frame in a array\r\n",
        "        frame_curr = env.render(mode=\"rgb_array\")\r\n",
        "        frame_list.pop(0)\r\n",
        "        frame_list.append(frame_curr)\r\n",
        "\r\n",
        "        next_image_state = state_from_image2(frame_list)\r\n",
        "\r\n",
        "        # We apply a (linear) penalty when the cart is far from center\r\n",
        "        pos_weight = 1\r\n",
        "        reward = reward - pos_weight * np.abs(image_state[0]) \r\n",
        "        # apply penalty also if on the pole angle velocity\r\n",
        "        pole_weight = 1\r\n",
        "        reward = reward - pos_weight * np.abs(image_state[3])\r\n",
        "        pole_weight = 1\r\n",
        "        reward = reward - pos_weight * np.abs(image_state[4])\r\n",
        "        pole_weight = 1\r\n",
        "        reward = reward - pos_weight * np.abs(image_state[5])  \r\n",
        "\r\n",
        "        # Update the final score (+1 for each step)\r\n",
        "        score += 1\r\n",
        "\r\n",
        "        # Apply penalty for bad state\r\n",
        "        if done: # if the pole has fallen down \r\n",
        "            reward += bad_state_penalty\r\n",
        "            next_image_state = None\r\n",
        "\r\n",
        "        # Update the replay memory\r\n",
        "        replay_mem.push(image_state, action, next_image_state, reward)\r\n",
        "\r\n",
        "        # Update the network\r\n",
        "        if len(replay_mem) > min_samples_for_training: # we enable the training only if we have enough samples in the replay memory, otherwise the training will use the same samples too often\r\n",
        "            update_step(policy_net, target_net, replay_mem, gamma, optimizer, loss_fn, batch_size)\r\n",
        "\r\n",
        "\r\n",
        "        # print(np.shape(frame))\r\n",
        "        # call  image process\r\n",
        "        # print(state_from_image(frame))\r\n",
        "\r\n",
        "        # Set the current state for the next iteration\r\n",
        "        image_state = next_image_state\r\n",
        "        # frame_past = frame_curr\r\n",
        "\r\n",
        "        if verbose:\r\n",
        "            if episode_num % 200 == 0 :\r\n",
        "                print(image_state)\r\n",
        "\r\n",
        "    # Update the target network every target_net_update_steps episodes\r\n",
        "    if episode_num % target_net_update_steps == 0:\r\n",
        "        if verbose:\r\n",
        "            print('Updating target network...')\r\n",
        "        target_net.load_state_dict(policy_net.state_dict()) # This will copy the weights of the policy network to the target network\r\n",
        "        # win_counter = 0\r\n",
        "    score_record.append(score)\r\n",
        "\r\n",
        "    if score == 500:\r\n",
        "        win_counter +=1\r\n",
        "    else:\r\n",
        "        win_counter = 0\r\n",
        "    # Print the final score\r\n",
        "    if verbose:\r\n",
        "        print(f\"EPISODE: {episode_num + 1} - FINAL SCORE: {score} - Epsilon: {epsilon}\") # Print the final score\r\n",
        "\r\n",
        "    # #exit if we have 10 consecutive wins with the same net\r\n",
        "    # if win_counter == target_net_update_steps:\r\n",
        "    #     break\r\n",
        "\r\n",
        "    \r\n",
        "env.close()"
      ],
      "execution_count": 39,
      "outputs": [
        {
          "output_type": "stream",
          "text": [
            "(-0.055, 0.1, 1.0, -0.3, -0.1, -1.0)\n",
            "(-0.065, -0.1, -2.0, -0.2, 0.1, 2.0)\n",
            "(-0.075, -0.1, 0.0, 0.0, 0.2, 1.0)\n",
            "(-0.075, 0.0, 1.0, 0.0, 0.0, -2.0)\n",
            "(-0.085, -0.1, -1.0, 0.2, 0.2, 2.0)\n",
            "(-0.095, -0.1, 0.0, 0.4, 0.2, 0.0)\n",
            "(-0.105, -0.1, 0.0, 0.5, 0.1, -1.0)\n",
            "(-0.115, -0.1, 0.0, 0.7, 0.2, 1.0)\n",
            "(-0.135, -0.2, -1.0, 1.0, 0.3, 1.0)\n",
            "(-0.165, -0.3, -1.0, 1.5, 0.5, 2.0)\n",
            "(-0.185, -0.2, 1.0, 1.8, 0.3, -2.0)\n",
            "(-0.195, -0.1, 1.0, 2.0, 0.2, -1.0)\n",
            "None\n",
            "Updating target network...\n",
            "EPISODE: 1 - FINAL SCORE: 13 - Epsilon: 0.1\n",
            "EPISODE: 2 - FINAL SCORE: 14 - Epsilon: 0.1\n",
            "EPISODE: 3 - FINAL SCORE: 21 - Epsilon: 0.1\n",
            "EPISODE: 4 - FINAL SCORE: 23 - Epsilon: 0.1\n",
            "EPISODE: 5 - FINAL SCORE: 14 - Epsilon: 0.1\n",
            "EPISODE: 6 - FINAL SCORE: 14 - Epsilon: 0.1\n",
            "EPISODE: 7 - FINAL SCORE: 12 - Epsilon: 0.1\n",
            "EPISODE: 8 - FINAL SCORE: 13 - Epsilon: 0.1\n",
            "EPISODE: 9 - FINAL SCORE: 14 - Epsilon: 0.1\n",
            "EPISODE: 10 - FINAL SCORE: 14 - Epsilon: 0.1\n",
            "Updating target network...\n",
            "EPISODE: 11 - FINAL SCORE: 22 - Epsilon: 0.1\n",
            "EPISODE: 12 - FINAL SCORE: 9 - Epsilon: 0.1\n",
            "EPISODE: 13 - FINAL SCORE: 13 - Epsilon: 0.1\n",
            "EPISODE: 14 - FINAL SCORE: 19 - Epsilon: 0.1\n",
            "EPISODE: 15 - FINAL SCORE: 9 - Epsilon: 0.1\n",
            "EPISODE: 16 - FINAL SCORE: 23 - Epsilon: 0.1\n",
            "EPISODE: 17 - FINAL SCORE: 12 - Epsilon: 0.1\n",
            "EPISODE: 18 - FINAL SCORE: 14 - Epsilon: 0.1\n",
            "EPISODE: 19 - FINAL SCORE: 17 - Epsilon: 0.1\n",
            "EPISODE: 20 - FINAL SCORE: 15 - Epsilon: 0.1\n",
            "Updating target network...\n",
            "EPISODE: 21 - FINAL SCORE: 13 - Epsilon: 0.1\n",
            "EPISODE: 22 - FINAL SCORE: 15 - Epsilon: 0.1\n",
            "EPISODE: 23 - FINAL SCORE: 11 - Epsilon: 0.1\n",
            "EPISODE: 24 - FINAL SCORE: 10 - Epsilon: 0.1\n",
            "EPISODE: 25 - FINAL SCORE: 19 - Epsilon: 0.1\n",
            "EPISODE: 26 - FINAL SCORE: 13 - Epsilon: 0.1\n",
            "EPISODE: 27 - FINAL SCORE: 14 - Epsilon: 0.1\n",
            "EPISODE: 28 - FINAL SCORE: 22 - Epsilon: 0.1\n",
            "EPISODE: 29 - FINAL SCORE: 32 - Epsilon: 0.1\n",
            "EPISODE: 30 - FINAL SCORE: 15 - Epsilon: 0.1\n",
            "Updating target network...\n",
            "EPISODE: 31 - FINAL SCORE: 13 - Epsilon: 0.1\n",
            "EPISODE: 32 - FINAL SCORE: 20 - Epsilon: 0.1\n",
            "EPISODE: 33 - FINAL SCORE: 26 - Epsilon: 0.1\n",
            "EPISODE: 34 - FINAL SCORE: 20 - Epsilon: 0.1\n",
            "EPISODE: 35 - FINAL SCORE: 19 - Epsilon: 0.1\n",
            "EPISODE: 36 - FINAL SCORE: 11 - Epsilon: 0.1\n",
            "EPISODE: 37 - FINAL SCORE: 15 - Epsilon: 0.1\n",
            "EPISODE: 38 - FINAL SCORE: 13 - Epsilon: 0.1\n",
            "EPISODE: 39 - FINAL SCORE: 19 - Epsilon: 0.1\n",
            "EPISODE: 40 - FINAL SCORE: 13 - Epsilon: 0.1\n",
            "Updating target network...\n",
            "EPISODE: 41 - FINAL SCORE: 16 - Epsilon: 0.1\n",
            "EPISODE: 42 - FINAL SCORE: 15 - Epsilon: 0.1\n",
            "EPISODE: 43 - FINAL SCORE: 17 - Epsilon: 0.1\n",
            "EPISODE: 44 - FINAL SCORE: 11 - Epsilon: 0.1\n",
            "EPISODE: 45 - FINAL SCORE: 21 - Epsilon: 0.1\n",
            "EPISODE: 46 - FINAL SCORE: 19 - Epsilon: 0.1\n",
            "EPISODE: 47 - FINAL SCORE: 11 - Epsilon: 0.1\n",
            "EPISODE: 48 - FINAL SCORE: 10 - Epsilon: 0.1\n",
            "EPISODE: 49 - FINAL SCORE: 16 - Epsilon: 0.1\n",
            "EPISODE: 50 - FINAL SCORE: 10 - Epsilon: 0.1\n",
            "Updating target network...\n",
            "EPISODE: 51 - FINAL SCORE: 12 - Epsilon: 0.1\n",
            "EPISODE: 52 - FINAL SCORE: 12 - Epsilon: 0.1\n",
            "EPISODE: 53 - FINAL SCORE: 11 - Epsilon: 0.1\n",
            "EPISODE: 54 - FINAL SCORE: 13 - Epsilon: 0.1\n",
            "EPISODE: 55 - FINAL SCORE: 9 - Epsilon: 0.1\n",
            "EPISODE: 56 - FINAL SCORE: 13 - Epsilon: 0.1\n",
            "EPISODE: 57 - FINAL SCORE: 14 - Epsilon: 0.1\n",
            "EPISODE: 58 - FINAL SCORE: 16 - Epsilon: 0.1\n",
            "EPISODE: 59 - FINAL SCORE: 13 - Epsilon: 0.1\n",
            "EPISODE: 60 - FINAL SCORE: 22 - Epsilon: 0.1\n",
            "Updating target network...\n",
            "EPISODE: 61 - FINAL SCORE: 20 - Epsilon: 0.1\n",
            "EPISODE: 62 - FINAL SCORE: 11 - Epsilon: 0.1\n",
            "EPISODE: 63 - FINAL SCORE: 27 - Epsilon: 0.1\n",
            "EPISODE: 64 - FINAL SCORE: 18 - Epsilon: 0.1\n",
            "EPISODE: 65 - FINAL SCORE: 13 - Epsilon: 0.1\n",
            "EPISODE: 66 - FINAL SCORE: 9 - Epsilon: 0.1\n",
            "EPISODE: 67 - FINAL SCORE: 10 - Epsilon: 0.1\n",
            "EPISODE: 68 - FINAL SCORE: 8 - Epsilon: 0.1\n",
            "EPISODE: 69 - FINAL SCORE: 11 - Epsilon: 0.1\n",
            "EPISODE: 70 - FINAL SCORE: 8 - Epsilon: 0.1\n",
            "Updating target network...\n",
            "EPISODE: 71 - FINAL SCORE: 12 - Epsilon: 0.1\n",
            "EPISODE: 72 - FINAL SCORE: 11 - Epsilon: 0.1\n",
            "EPISODE: 73 - FINAL SCORE: 9 - Epsilon: 0.1\n",
            "EPISODE: 74 - FINAL SCORE: 9 - Epsilon: 0.1\n",
            "EPISODE: 75 - FINAL SCORE: 9 - Epsilon: 0.1\n",
            "EPISODE: 76 - FINAL SCORE: 10 - Epsilon: 0.1\n",
            "EPISODE: 77 - FINAL SCORE: 11 - Epsilon: 0.1\n",
            "EPISODE: 78 - FINAL SCORE: 11 - Epsilon: 0.1\n",
            "EPISODE: 79 - FINAL SCORE: 10 - Epsilon: 0.1\n",
            "EPISODE: 80 - FINAL SCORE: 11 - Epsilon: 0.1\n",
            "Updating target network...\n",
            "EPISODE: 81 - FINAL SCORE: 10 - Epsilon: 0.1\n",
            "EPISODE: 82 - FINAL SCORE: 9 - Epsilon: 0.1\n",
            "EPISODE: 83 - FINAL SCORE: 10 - Epsilon: 0.1\n",
            "EPISODE: 84 - FINAL SCORE: 13 - Epsilon: 0.1\n",
            "EPISODE: 85 - FINAL SCORE: 11 - Epsilon: 0.1\n",
            "EPISODE: 86 - FINAL SCORE: 10 - Epsilon: 0.1\n",
            "EPISODE: 87 - FINAL SCORE: 12 - Epsilon: 0.1\n",
            "EPISODE: 88 - FINAL SCORE: 13 - Epsilon: 0.1\n",
            "EPISODE: 89 - FINAL SCORE: 8 - Epsilon: 0.1\n",
            "EPISODE: 90 - FINAL SCORE: 8 - Epsilon: 0.1\n",
            "Updating target network...\n",
            "EPISODE: 91 - FINAL SCORE: 10 - Epsilon: 0.1\n",
            "EPISODE: 92 - FINAL SCORE: 10 - Epsilon: 0.1\n",
            "EPISODE: 93 - FINAL SCORE: 9 - Epsilon: 0.1\n",
            "EPISODE: 94 - FINAL SCORE: 9 - Epsilon: 0.1\n",
            "EPISODE: 95 - FINAL SCORE: 9 - Epsilon: 0.1\n",
            "EPISODE: 96 - FINAL SCORE: 9 - Epsilon: 0.1\n",
            "EPISODE: 97 - FINAL SCORE: 10 - Epsilon: 0.1\n",
            "EPISODE: 98 - FINAL SCORE: 9 - Epsilon: 0.1\n",
            "EPISODE: 99 - FINAL SCORE: 8 - Epsilon: 0.1\n",
            "EPISODE: 100 - FINAL SCORE: 11 - Epsilon: 0.1\n",
            "Updating target network...\n",
            "EPISODE: 101 - FINAL SCORE: 9 - Epsilon: 0.1\n",
            "EPISODE: 102 - FINAL SCORE: 13 - Epsilon: 0.1\n",
            "EPISODE: 103 - FINAL SCORE: 12 - Epsilon: 0.1\n",
            "EPISODE: 104 - FINAL SCORE: 9 - Epsilon: 0.1\n",
            "EPISODE: 105 - FINAL SCORE: 10 - Epsilon: 0.1\n",
            "EPISODE: 106 - FINAL SCORE: 12 - Epsilon: 0.1\n",
            "EPISODE: 107 - FINAL SCORE: 16 - Epsilon: 0.1\n",
            "EPISODE: 108 - FINAL SCORE: 14 - Epsilon: 0.1\n",
            "EPISODE: 109 - FINAL SCORE: 44 - Epsilon: 0.1\n",
            "EPISODE: 110 - FINAL SCORE: 9 - Epsilon: 0.1\n",
            "Updating target network...\n",
            "EPISODE: 111 - FINAL SCORE: 9 - Epsilon: 0.1\n",
            "EPISODE: 112 - FINAL SCORE: 30 - Epsilon: 0.1\n",
            "EPISODE: 113 - FINAL SCORE: 21 - Epsilon: 0.1\n",
            "EPISODE: 114 - FINAL SCORE: 18 - Epsilon: 0.1\n",
            "EPISODE: 115 - FINAL SCORE: 28 - Epsilon: 0.1\n",
            "EPISODE: 116 - FINAL SCORE: 28 - Epsilon: 0.1\n",
            "EPISODE: 117 - FINAL SCORE: 28 - Epsilon: 0.1\n",
            "EPISODE: 118 - FINAL SCORE: 12 - Epsilon: 0.1\n",
            "EPISODE: 119 - FINAL SCORE: 60 - Epsilon: 0.1\n",
            "EPISODE: 120 - FINAL SCORE: 11 - Epsilon: 0.1\n",
            "Updating target network...\n",
            "EPISODE: 121 - FINAL SCORE: 39 - Epsilon: 0.1\n",
            "EPISODE: 122 - FINAL SCORE: 49 - Epsilon: 0.1\n",
            "EPISODE: 123 - FINAL SCORE: 12 - Epsilon: 0.1\n",
            "EPISODE: 124 - FINAL SCORE: 62 - Epsilon: 0.1\n",
            "EPISODE: 125 - FINAL SCORE: 12 - Epsilon: 0.1\n",
            "EPISODE: 126 - FINAL SCORE: 20 - Epsilon: 0.1\n",
            "EPISODE: 127 - FINAL SCORE: 13 - Epsilon: 0.1\n",
            "EPISODE: 128 - FINAL SCORE: 35 - Epsilon: 0.1\n",
            "EPISODE: 129 - FINAL SCORE: 30 - Epsilon: 0.1\n",
            "EPISODE: 130 - FINAL SCORE: 32 - Epsilon: 0.1\n",
            "Updating target network...\n",
            "EPISODE: 131 - FINAL SCORE: 35 - Epsilon: 0.1\n",
            "EPISODE: 132 - FINAL SCORE: 10 - Epsilon: 0.1\n",
            "EPISODE: 133 - FINAL SCORE: 26 - Epsilon: 0.1\n",
            "EPISODE: 134 - FINAL SCORE: 94 - Epsilon: 0.1\n",
            "EPISODE: 135 - FINAL SCORE: 35 - Epsilon: 0.1\n",
            "EPISODE: 136 - FINAL SCORE: 23 - Epsilon: 0.1\n",
            "EPISODE: 137 - FINAL SCORE: 26 - Epsilon: 0.1\n",
            "EPISODE: 138 - FINAL SCORE: 31 - Epsilon: 0.1\n",
            "EPISODE: 139 - FINAL SCORE: 38 - Epsilon: 0.1\n",
            "EPISODE: 140 - FINAL SCORE: 36 - Epsilon: 0.1\n",
            "Updating target network...\n",
            "EPISODE: 141 - FINAL SCORE: 14 - Epsilon: 0.1\n",
            "EPISODE: 142 - FINAL SCORE: 28 - Epsilon: 0.1\n",
            "EPISODE: 143 - FINAL SCORE: 12 - Epsilon: 0.1\n",
            "EPISODE: 144 - FINAL SCORE: 11 - Epsilon: 0.1\n",
            "EPISODE: 145 - FINAL SCORE: 31 - Epsilon: 0.1\n",
            "EPISODE: 146 - FINAL SCORE: 20 - Epsilon: 0.1\n",
            "EPISODE: 147 - FINAL SCORE: 24 - Epsilon: 0.1\n",
            "EPISODE: 148 - FINAL SCORE: 27 - Epsilon: 0.1\n",
            "EPISODE: 149 - FINAL SCORE: 27 - Epsilon: 0.1\n",
            "EPISODE: 150 - FINAL SCORE: 73 - Epsilon: 0.1\n",
            "Updating target network...\n",
            "EPISODE: 151 - FINAL SCORE: 25 - Epsilon: 0.1\n",
            "EPISODE: 152 - FINAL SCORE: 22 - Epsilon: 0.1\n",
            "EPISODE: 153 - FINAL SCORE: 14 - Epsilon: 0.1\n",
            "EPISODE: 154 - FINAL SCORE: 29 - Epsilon: 0.1\n",
            "EPISODE: 155 - FINAL SCORE: 14 - Epsilon: 0.1\n",
            "EPISODE: 156 - FINAL SCORE: 14 - Epsilon: 0.1\n",
            "EPISODE: 157 - FINAL SCORE: 13 - Epsilon: 0.1\n",
            "EPISODE: 158 - FINAL SCORE: 19 - Epsilon: 0.1\n",
            "EPISODE: 159 - FINAL SCORE: 14 - Epsilon: 0.1\n",
            "EPISODE: 160 - FINAL SCORE: 13 - Epsilon: 0.1\n",
            "Updating target network...\n",
            "EPISODE: 161 - FINAL SCORE: 13 - Epsilon: 0.1\n",
            "EPISODE: 162 - FINAL SCORE: 22 - Epsilon: 0.1\n",
            "EPISODE: 163 - FINAL SCORE: 22 - Epsilon: 0.1\n",
            "EPISODE: 164 - FINAL SCORE: 13 - Epsilon: 0.1\n",
            "EPISODE: 165 - FINAL SCORE: 12 - Epsilon: 0.1\n",
            "EPISODE: 166 - FINAL SCORE: 14 - Epsilon: 0.1\n",
            "EPISODE: 167 - FINAL SCORE: 12 - Epsilon: 0.1\n",
            "EPISODE: 168 - FINAL SCORE: 10 - Epsilon: 0.1\n",
            "EPISODE: 169 - FINAL SCORE: 9 - Epsilon: 0.1\n",
            "EPISODE: 170 - FINAL SCORE: 12 - Epsilon: 0.1\n",
            "Updating target network...\n",
            "EPISODE: 171 - FINAL SCORE: 12 - Epsilon: 0.1\n",
            "EPISODE: 172 - FINAL SCORE: 13 - Epsilon: 0.1\n",
            "EPISODE: 173 - FINAL SCORE: 9 - Epsilon: 0.1\n",
            "EPISODE: 174 - FINAL SCORE: 12 - Epsilon: 0.1\n",
            "EPISODE: 175 - FINAL SCORE: 10 - Epsilon: 0.1\n",
            "EPISODE: 176 - FINAL SCORE: 12 - Epsilon: 0.1\n",
            "EPISODE: 177 - FINAL SCORE: 16 - Epsilon: 0.1\n",
            "EPISODE: 178 - FINAL SCORE: 9 - Epsilon: 0.1\n",
            "EPISODE: 179 - FINAL SCORE: 12 - Epsilon: 0.1\n",
            "EPISODE: 180 - FINAL SCORE: 8 - Epsilon: 0.1\n",
            "Updating target network...\n",
            "EPISODE: 181 - FINAL SCORE: 10 - Epsilon: 0.1\n",
            "EPISODE: 182 - FINAL SCORE: 13 - Epsilon: 0.1\n",
            "EPISODE: 183 - FINAL SCORE: 13 - Epsilon: 0.1\n",
            "EPISODE: 184 - FINAL SCORE: 10 - Epsilon: 0.1\n",
            "EPISODE: 185 - FINAL SCORE: 10 - Epsilon: 0.1\n",
            "EPISODE: 186 - FINAL SCORE: 9 - Epsilon: 0.1\n",
            "EPISODE: 187 - FINAL SCORE: 9 - Epsilon: 0.1\n",
            "EPISODE: 188 - FINAL SCORE: 12 - Epsilon: 0.1\n",
            "EPISODE: 189 - FINAL SCORE: 12 - Epsilon: 0.1\n",
            "EPISODE: 190 - FINAL SCORE: 10 - Epsilon: 0.1\n",
            "Updating target network...\n",
            "EPISODE: 191 - FINAL SCORE: 16 - Epsilon: 0.1\n",
            "EPISODE: 192 - FINAL SCORE: 11 - Epsilon: 0.1\n",
            "EPISODE: 193 - FINAL SCORE: 10 - Epsilon: 0.1\n",
            "EPISODE: 194 - FINAL SCORE: 8 - Epsilon: 0.1\n",
            "EPISODE: 195 - FINAL SCORE: 9 - Epsilon: 0.1\n",
            "EPISODE: 196 - FINAL SCORE: 11 - Epsilon: 0.1\n",
            "EPISODE: 197 - FINAL SCORE: 8 - Epsilon: 0.1\n",
            "EPISODE: 198 - FINAL SCORE: 11 - Epsilon: 0.1\n",
            "EPISODE: 199 - FINAL SCORE: 12 - Epsilon: 0.1\n",
            "EPISODE: 200 - FINAL SCORE: 13 - Epsilon: 0.1\n",
            "(0.005, 0.0, 0.0, 0.1, 0.0, 0.0)\n",
            "(0.005, 0.0, 0.0, 0.1, 0.0, 0.0)\n",
            "(0.005, 0.0, 0.0, 0.1, 0.0, 0.0)\n",
            "(0.015, 0.1, 1.0, 0.0, -0.1, -1.0)\n",
            "(0.025, 0.1, 0.0, -0.1, -0.1, 0.0)\n",
            "(0.035, 0.1, 0.0, -0.1, 0.0, 1.0)\n",
            "(0.055, 0.2, 1.0, -0.2, -0.1, -1.0)\n",
            "(0.085, 0.3, 1.0, -1.5, -1.3, -12.0)\n",
            "(0.115, 0.3, 0.0, -1.5, 0.0, 13.0)\n",
            "(0.145, 0.3, 0.0, -1.5, 0.0, 0.0)\n",
            "(0.175, 0.3, 0.0, -2.1, -0.6, -6.0)\n",
            "None\n",
            "Updating target network...\n",
            "EPISODE: 201 - FINAL SCORE: 12 - Epsilon: 0.1\n",
            "EPISODE: 202 - FINAL SCORE: 10 - Epsilon: 0.1\n",
            "EPISODE: 203 - FINAL SCORE: 11 - Epsilon: 0.1\n",
            "EPISODE: 204 - FINAL SCORE: 9 - Epsilon: 0.1\n",
            "EPISODE: 205 - FINAL SCORE: 13 - Epsilon: 0.1\n",
            "EPISODE: 206 - FINAL SCORE: 11 - Epsilon: 0.1\n",
            "EPISODE: 207 - FINAL SCORE: 13 - Epsilon: 0.1\n",
            "EPISODE: 208 - FINAL SCORE: 9 - Epsilon: 0.1\n",
            "EPISODE: 209 - FINAL SCORE: 14 - Epsilon: 0.1\n",
            "EPISODE: 210 - FINAL SCORE: 9 - Epsilon: 0.1\n",
            "Updating target network...\n",
            "EPISODE: 211 - FINAL SCORE: 11 - Epsilon: 0.1\n",
            "EPISODE: 212 - FINAL SCORE: 14 - Epsilon: 0.1\n",
            "EPISODE: 213 - FINAL SCORE: 13 - Epsilon: 0.1\n",
            "EPISODE: 214 - FINAL SCORE: 9 - Epsilon: 0.1\n",
            "EPISODE: 215 - FINAL SCORE: 12 - Epsilon: 0.1\n",
            "EPISODE: 216 - FINAL SCORE: 12 - Epsilon: 0.1\n",
            "EPISODE: 217 - FINAL SCORE: 13 - Epsilon: 0.1\n",
            "EPISODE: 218 - FINAL SCORE: 13 - Epsilon: 0.1\n",
            "EPISODE: 219 - FINAL SCORE: 12 - Epsilon: 0.1\n",
            "EPISODE: 220 - FINAL SCORE: 11 - Epsilon: 0.1\n",
            "Updating target network...\n",
            "EPISODE: 221 - FINAL SCORE: 11 - Epsilon: 0.1\n",
            "EPISODE: 222 - FINAL SCORE: 11 - Epsilon: 0.1\n",
            "EPISODE: 223 - FINAL SCORE: 11 - Epsilon: 0.1\n",
            "EPISODE: 224 - FINAL SCORE: 14 - Epsilon: 0.1\n",
            "EPISODE: 225 - FINAL SCORE: 9 - Epsilon: 0.1\n",
            "EPISODE: 226 - FINAL SCORE: 11 - Epsilon: 0.1\n",
            "EPISODE: 227 - FINAL SCORE: 18 - Epsilon: 0.1\n",
            "EPISODE: 228 - FINAL SCORE: 11 - Epsilon: 0.1\n",
            "EPISODE: 229 - FINAL SCORE: 9 - Epsilon: 0.1\n",
            "EPISODE: 230 - FINAL SCORE: 11 - Epsilon: 0.1\n",
            "Updating target network...\n",
            "EPISODE: 231 - FINAL SCORE: 11 - Epsilon: 0.1\n",
            "EPISODE: 232 - FINAL SCORE: 9 - Epsilon: 0.1\n",
            "EPISODE: 233 - FINAL SCORE: 16 - Epsilon: 0.1\n",
            "EPISODE: 234 - FINAL SCORE: 11 - Epsilon: 0.1\n",
            "EPISODE: 235 - FINAL SCORE: 10 - Epsilon: 0.1\n",
            "EPISODE: 236 - FINAL SCORE: 8 - Epsilon: 0.1\n",
            "EPISODE: 237 - FINAL SCORE: 13 - Epsilon: 0.1\n",
            "EPISODE: 238 - FINAL SCORE: 9 - Epsilon: 0.1\n",
            "EPISODE: 239 - FINAL SCORE: 9 - Epsilon: 0.1\n",
            "EPISODE: 240 - FINAL SCORE: 11 - Epsilon: 0.1\n",
            "Updating target network...\n",
            "EPISODE: 241 - FINAL SCORE: 9 - Epsilon: 0.1\n",
            "EPISODE: 242 - FINAL SCORE: 11 - Epsilon: 0.1\n",
            "EPISODE: 243 - FINAL SCORE: 9 - Epsilon: 0.1\n",
            "EPISODE: 244 - FINAL SCORE: 11 - Epsilon: 0.1\n",
            "EPISODE: 245 - FINAL SCORE: 13 - Epsilon: 0.1\n",
            "EPISODE: 246 - FINAL SCORE: 9 - Epsilon: 0.1\n",
            "EPISODE: 247 - FINAL SCORE: 11 - Epsilon: 0.1\n",
            "EPISODE: 248 - FINAL SCORE: 9 - Epsilon: 0.1\n",
            "EPISODE: 249 - FINAL SCORE: 10 - Epsilon: 0.1\n",
            "EPISODE: 250 - FINAL SCORE: 10 - Epsilon: 0.1\n",
            "Updating target network...\n",
            "EPISODE: 251 - FINAL SCORE: 13 - Epsilon: 0.1\n",
            "EPISODE: 252 - FINAL SCORE: 14 - Epsilon: 0.1\n",
            "EPISODE: 253 - FINAL SCORE: 10 - Epsilon: 0.1\n",
            "EPISODE: 254 - FINAL SCORE: 9 - Epsilon: 0.1\n",
            "EPISODE: 255 - FINAL SCORE: 9 - Epsilon: 0.1\n",
            "EPISODE: 256 - FINAL SCORE: 11 - Epsilon: 0.1\n",
            "EPISODE: 257 - FINAL SCORE: 12 - Epsilon: 0.1\n",
            "EPISODE: 258 - FINAL SCORE: 16 - Epsilon: 0.1\n",
            "EPISODE: 259 - FINAL SCORE: 9 - Epsilon: 0.1\n",
            "EPISODE: 260 - FINAL SCORE: 15 - Epsilon: 0.1\n",
            "Updating target network...\n",
            "EPISODE: 261 - FINAL SCORE: 12 - Epsilon: 0.1\n",
            "EPISODE: 262 - FINAL SCORE: 9 - Epsilon: 0.1\n",
            "EPISODE: 263 - FINAL SCORE: 11 - Epsilon: 0.1\n",
            "EPISODE: 264 - FINAL SCORE: 12 - Epsilon: 0.1\n",
            "EPISODE: 265 - FINAL SCORE: 13 - Epsilon: 0.1\n",
            "EPISODE: 266 - FINAL SCORE: 22 - Epsilon: 0.1\n",
            "EPISODE: 267 - FINAL SCORE: 9 - Epsilon: 0.1\n",
            "EPISODE: 268 - FINAL SCORE: 9 - Epsilon: 0.1\n",
            "EPISODE: 269 - FINAL SCORE: 9 - Epsilon: 0.1\n",
            "EPISODE: 270 - FINAL SCORE: 10 - Epsilon: 0.1\n",
            "Updating target network...\n",
            "EPISODE: 271 - FINAL SCORE: 9 - Epsilon: 0.1\n",
            "EPISODE: 272 - FINAL SCORE: 11 - Epsilon: 0.1\n",
            "EPISODE: 273 - FINAL SCORE: 9 - Epsilon: 0.1\n",
            "EPISODE: 274 - FINAL SCORE: 11 - Epsilon: 0.1\n",
            "EPISODE: 275 - FINAL SCORE: 10 - Epsilon: 0.1\n",
            "EPISODE: 276 - FINAL SCORE: 9 - Epsilon: 0.1\n",
            "EPISODE: 277 - FINAL SCORE: 11 - Epsilon: 0.1\n",
            "EPISODE: 278 - FINAL SCORE: 11 - Epsilon: 0.1\n",
            "EPISODE: 279 - FINAL SCORE: 9 - Epsilon: 0.1\n",
            "EPISODE: 280 - FINAL SCORE: 11 - Epsilon: 0.1\n",
            "Updating target network...\n",
            "EPISODE: 281 - FINAL SCORE: 13 - Epsilon: 0.1\n",
            "EPISODE: 282 - FINAL SCORE: 13 - Epsilon: 0.1\n",
            "EPISODE: 283 - FINAL SCORE: 10 - Epsilon: 0.1\n",
            "EPISODE: 284 - FINAL SCORE: 9 - Epsilon: 0.1\n",
            "EPISODE: 285 - FINAL SCORE: 10 - Epsilon: 0.1\n",
            "EPISODE: 286 - FINAL SCORE: 14 - Epsilon: 0.1\n",
            "EPISODE: 287 - FINAL SCORE: 15 - Epsilon: 0.1\n",
            "EPISODE: 288 - FINAL SCORE: 11 - Epsilon: 0.1\n",
            "EPISODE: 289 - FINAL SCORE: 15 - Epsilon: 0.1\n",
            "EPISODE: 290 - FINAL SCORE: 13 - Epsilon: 0.1\n",
            "Updating target network...\n",
            "EPISODE: 291 - FINAL SCORE: 9 - Epsilon: 0.1\n",
            "EPISODE: 292 - FINAL SCORE: 12 - Epsilon: 0.1\n",
            "EPISODE: 293 - FINAL SCORE: 16 - Epsilon: 0.1\n",
            "EPISODE: 294 - FINAL SCORE: 12 - Epsilon: 0.1\n",
            "EPISODE: 295 - FINAL SCORE: 11 - Epsilon: 0.1\n",
            "EPISODE: 296 - FINAL SCORE: 17 - Epsilon: 0.1\n",
            "EPISODE: 297 - FINAL SCORE: 44 - Epsilon: 0.1\n",
            "EPISODE: 298 - FINAL SCORE: 28 - Epsilon: 0.1\n",
            "EPISODE: 299 - FINAL SCORE: 13 - Epsilon: 0.1\n",
            "EPISODE: 300 - FINAL SCORE: 27 - Epsilon: 0.1\n",
            "Updating target network...\n",
            "EPISODE: 301 - FINAL SCORE: 22 - Epsilon: 0.1\n",
            "EPISODE: 302 - FINAL SCORE: 25 - Epsilon: 0.1\n",
            "EPISODE: 303 - FINAL SCORE: 16 - Epsilon: 0.1\n",
            "EPISODE: 304 - FINAL SCORE: 13 - Epsilon: 0.1\n",
            "EPISODE: 305 - FINAL SCORE: 12 - Epsilon: 0.1\n",
            "EPISODE: 306 - FINAL SCORE: 27 - Epsilon: 0.1\n",
            "EPISODE: 307 - FINAL SCORE: 21 - Epsilon: 0.1\n",
            "EPISODE: 308 - FINAL SCORE: 36 - Epsilon: 0.1\n",
            "EPISODE: 309 - FINAL SCORE: 23 - Epsilon: 0.1\n",
            "EPISODE: 310 - FINAL SCORE: 9 - Epsilon: 0.1\n",
            "Updating target network...\n",
            "EPISODE: 311 - FINAL SCORE: 13 - Epsilon: 0.1\n",
            "EPISODE: 312 - FINAL SCORE: 17 - Epsilon: 0.1\n",
            "EPISODE: 313 - FINAL SCORE: 11 - Epsilon: 0.1\n",
            "EPISODE: 314 - FINAL SCORE: 29 - Epsilon: 0.1\n",
            "EPISODE: 315 - FINAL SCORE: 10 - Epsilon: 0.1\n",
            "EPISODE: 316 - FINAL SCORE: 17 - Epsilon: 0.1\n",
            "EPISODE: 317 - FINAL SCORE: 10 - Epsilon: 0.1\n",
            "EPISODE: 318 - FINAL SCORE: 14 - Epsilon: 0.1\n",
            "EPISODE: 319 - FINAL SCORE: 41 - Epsilon: 0.1\n",
            "EPISODE: 320 - FINAL SCORE: 24 - Epsilon: 0.1\n",
            "Updating target network...\n",
            "EPISODE: 321 - FINAL SCORE: 29 - Epsilon: 0.1\n",
            "EPISODE: 322 - FINAL SCORE: 15 - Epsilon: 0.1\n",
            "EPISODE: 323 - FINAL SCORE: 12 - Epsilon: 0.1\n",
            "EPISODE: 324 - FINAL SCORE: 22 - Epsilon: 0.1\n",
            "EPISODE: 325 - FINAL SCORE: 10 - Epsilon: 0.1\n",
            "EPISODE: 326 - FINAL SCORE: 9 - Epsilon: 0.1\n",
            "EPISODE: 327 - FINAL SCORE: 14 - Epsilon: 0.1\n",
            "EPISODE: 328 - FINAL SCORE: 9 - Epsilon: 0.1\n",
            "EPISODE: 329 - FINAL SCORE: 13 - Epsilon: 0.1\n",
            "EPISODE: 330 - FINAL SCORE: 14 - Epsilon: 0.1\n",
            "Updating target network...\n",
            "EPISODE: 331 - FINAL SCORE: 11 - Epsilon: 0.1\n",
            "EPISODE: 332 - FINAL SCORE: 12 - Epsilon: 0.1\n",
            "EPISODE: 333 - FINAL SCORE: 30 - Epsilon: 0.1\n",
            "EPISODE: 334 - FINAL SCORE: 22 - Epsilon: 0.1\n",
            "EPISODE: 335 - FINAL SCORE: 15 - Epsilon: 0.1\n",
            "EPISODE: 336 - FINAL SCORE: 11 - Epsilon: 0.1\n",
            "EPISODE: 337 - FINAL SCORE: 10 - Epsilon: 0.1\n",
            "EPISODE: 338 - FINAL SCORE: 9 - Epsilon: 0.1\n",
            "EPISODE: 339 - FINAL SCORE: 9 - Epsilon: 0.1\n",
            "EPISODE: 340 - FINAL SCORE: 12 - Epsilon: 0.1\n",
            "Updating target network...\n",
            "EPISODE: 341 - FINAL SCORE: 16 - Epsilon: 0.1\n",
            "EPISODE: 342 - FINAL SCORE: 18 - Epsilon: 0.1\n",
            "EPISODE: 343 - FINAL SCORE: 15 - Epsilon: 0.1\n",
            "EPISODE: 344 - FINAL SCORE: 10 - Epsilon: 0.1\n",
            "EPISODE: 345 - FINAL SCORE: 12 - Epsilon: 0.1\n",
            "EPISODE: 346 - FINAL SCORE: 9 - Epsilon: 0.1\n",
            "EPISODE: 347 - FINAL SCORE: 10 - Epsilon: 0.1\n",
            "EPISODE: 348 - FINAL SCORE: 16 - Epsilon: 0.1\n",
            "EPISODE: 349 - FINAL SCORE: 9 - Epsilon: 0.1\n",
            "EPISODE: 350 - FINAL SCORE: 17 - Epsilon: 0.1\n",
            "Updating target network...\n",
            "EPISODE: 351 - FINAL SCORE: 11 - Epsilon: 0.1\n",
            "EPISODE: 352 - FINAL SCORE: 10 - Epsilon: 0.1\n",
            "EPISODE: 353 - FINAL SCORE: 10 - Epsilon: 0.1\n",
            "EPISODE: 354 - FINAL SCORE: 11 - Epsilon: 0.1\n",
            "EPISODE: 355 - FINAL SCORE: 12 - Epsilon: 0.1\n",
            "EPISODE: 356 - FINAL SCORE: 8 - Epsilon: 0.1\n",
            "EPISODE: 357 - FINAL SCORE: 10 - Epsilon: 0.1\n",
            "EPISODE: 358 - FINAL SCORE: 8 - Epsilon: 0.1\n",
            "EPISODE: 359 - FINAL SCORE: 14 - Epsilon: 0.1\n",
            "EPISODE: 360 - FINAL SCORE: 8 - Epsilon: 0.1\n",
            "Updating target network...\n",
            "EPISODE: 361 - FINAL SCORE: 13 - Epsilon: 0.1\n",
            "EPISODE: 362 - FINAL SCORE: 12 - Epsilon: 0.1\n",
            "EPISODE: 363 - FINAL SCORE: 15 - Epsilon: 0.1\n",
            "EPISODE: 364 - FINAL SCORE: 9 - Epsilon: 0.1\n",
            "EPISODE: 365 - FINAL SCORE: 13 - Epsilon: 0.1\n",
            "EPISODE: 366 - FINAL SCORE: 10 - Epsilon: 0.1\n",
            "EPISODE: 367 - FINAL SCORE: 9 - Epsilon: 0.1\n",
            "EPISODE: 368 - FINAL SCORE: 12 - Epsilon: 0.1\n",
            "EPISODE: 369 - FINAL SCORE: 11 - Epsilon: 0.1\n",
            "EPISODE: 370 - FINAL SCORE: 10 - Epsilon: 0.1\n",
            "Updating target network...\n",
            "EPISODE: 371 - FINAL SCORE: 12 - Epsilon: 0.1\n",
            "EPISODE: 372 - FINAL SCORE: 11 - Epsilon: 0.1\n",
            "EPISODE: 373 - FINAL SCORE: 9 - Epsilon: 0.1\n",
            "EPISODE: 374 - FINAL SCORE: 9 - Epsilon: 0.1\n",
            "EPISODE: 375 - FINAL SCORE: 10 - Epsilon: 0.1\n",
            "EPISODE: 376 - FINAL SCORE: 11 - Epsilon: 0.1\n",
            "EPISODE: 377 - FINAL SCORE: 11 - Epsilon: 0.1\n",
            "EPISODE: 378 - FINAL SCORE: 9 - Epsilon: 0.1\n",
            "EPISODE: 379 - FINAL SCORE: 16 - Epsilon: 0.1\n",
            "EPISODE: 380 - FINAL SCORE: 12 - Epsilon: 0.1\n",
            "Updating target network...\n",
            "EPISODE: 381 - FINAL SCORE: 12 - Epsilon: 0.1\n",
            "EPISODE: 382 - FINAL SCORE: 10 - Epsilon: 0.1\n",
            "EPISODE: 383 - FINAL SCORE: 9 - Epsilon: 0.1\n",
            "EPISODE: 384 - FINAL SCORE: 12 - Epsilon: 0.1\n",
            "EPISODE: 385 - FINAL SCORE: 8 - Epsilon: 0.1\n",
            "EPISODE: 386 - FINAL SCORE: 9 - Epsilon: 0.1\n",
            "EPISODE: 387 - FINAL SCORE: 9 - Epsilon: 0.1\n",
            "EPISODE: 388 - FINAL SCORE: 9 - Epsilon: 0.1\n",
            "EPISODE: 389 - FINAL SCORE: 15 - Epsilon: 0.1\n",
            "EPISODE: 390 - FINAL SCORE: 11 - Epsilon: 0.1\n",
            "Updating target network...\n",
            "EPISODE: 391 - FINAL SCORE: 9 - Epsilon: 0.1\n",
            "EPISODE: 392 - FINAL SCORE: 10 - Epsilon: 0.1\n",
            "EPISODE: 393 - FINAL SCORE: 10 - Epsilon: 0.1\n",
            "EPISODE: 394 - FINAL SCORE: 9 - Epsilon: 0.1\n",
            "EPISODE: 395 - FINAL SCORE: 8 - Epsilon: 0.1\n",
            "EPISODE: 396 - FINAL SCORE: 10 - Epsilon: 0.1\n",
            "EPISODE: 397 - FINAL SCORE: 10 - Epsilon: 0.1\n",
            "EPISODE: 398 - FINAL SCORE: 12 - Epsilon: 0.1\n",
            "EPISODE: 399 - FINAL SCORE: 9 - Epsilon: 0.1\n",
            "EPISODE: 400 - FINAL SCORE: 14 - Epsilon: 0.1\n",
            "(0.045, 0.0, 0.0, 0.0, 0.0, 0.0)\n",
            "(0.045, 0.0, 0.0, 0.0, 0.0, 0.0)\n",
            "(0.035, -0.1, -1.0, 0.0, 0.0, 0.0)\n",
            "(0.015, -0.2, -1.0, -0.3, -0.3, -3.0)\n",
            "(-0.005, -0.2, 0.0, 0.0, 0.3, 6.0)\n",
            "(-0.025, -0.2, 0.0, 0.3, 0.3, 0.0)\n",
            "(-0.065, -0.4, -2.0, 0.8, 0.5, 2.0)\n",
            "(-0.095, -0.3, 1.0, 1.2, 0.4, -1.0)\n",
            "(-0.135, -0.4, -1.0, 1.8, 0.6, 2.0)\n",
            "None\n",
            "Updating target network...\n",
            "EPISODE: 401 - FINAL SCORE: 10 - Epsilon: 0.1\n",
            "EPISODE: 402 - FINAL SCORE: 10 - Epsilon: 0.1\n",
            "EPISODE: 403 - FINAL SCORE: 12 - Epsilon: 0.1\n",
            "EPISODE: 404 - FINAL SCORE: 9 - Epsilon: 0.1\n",
            "EPISODE: 405 - FINAL SCORE: 9 - Epsilon: 0.1\n",
            "EPISODE: 406 - FINAL SCORE: 10 - Epsilon: 0.1\n",
            "EPISODE: 407 - FINAL SCORE: 8 - Epsilon: 0.1\n",
            "EPISODE: 408 - FINAL SCORE: 9 - Epsilon: 0.1\n",
            "EPISODE: 409 - FINAL SCORE: 10 - Epsilon: 0.1\n",
            "EPISODE: 410 - FINAL SCORE: 9 - Epsilon: 0.1\n",
            "Updating target network...\n",
            "EPISODE: 411 - FINAL SCORE: 10 - Epsilon: 0.1\n",
            "EPISODE: 412 - FINAL SCORE: 11 - Epsilon: 0.1\n",
            "EPISODE: 413 - FINAL SCORE: 9 - Epsilon: 0.1\n",
            "EPISODE: 414 - FINAL SCORE: 10 - Epsilon: 0.1\n",
            "EPISODE: 415 - FINAL SCORE: 11 - Epsilon: 0.1\n",
            "EPISODE: 416 - FINAL SCORE: 10 - Epsilon: 0.1\n",
            "EPISODE: 417 - FINAL SCORE: 10 - Epsilon: 0.1\n",
            "EPISODE: 418 - FINAL SCORE: 11 - Epsilon: 0.1\n",
            "EPISODE: 419 - FINAL SCORE: 9 - Epsilon: 0.1\n",
            "EPISODE: 420 - FINAL SCORE: 9 - Epsilon: 0.1\n",
            "Updating target network...\n",
            "EPISODE: 421 - FINAL SCORE: 13 - Epsilon: 0.1\n",
            "EPISODE: 422 - FINAL SCORE: 13 - Epsilon: 0.1\n",
            "EPISODE: 423 - FINAL SCORE: 9 - Epsilon: 0.1\n",
            "EPISODE: 424 - FINAL SCORE: 8 - Epsilon: 0.1\n",
            "EPISODE: 425 - FINAL SCORE: 11 - Epsilon: 0.1\n",
            "EPISODE: 426 - FINAL SCORE: 10 - Epsilon: 0.1\n",
            "EPISODE: 427 - FINAL SCORE: 9 - Epsilon: 0.1\n",
            "EPISODE: 428 - FINAL SCORE: 10 - Epsilon: 0.1\n",
            "EPISODE: 429 - FINAL SCORE: 10 - Epsilon: 0.1\n",
            "EPISODE: 430 - FINAL SCORE: 9 - Epsilon: 0.1\n",
            "Updating target network...\n",
            "EPISODE: 431 - FINAL SCORE: 9 - Epsilon: 0.1\n",
            "EPISODE: 432 - FINAL SCORE: 10 - Epsilon: 0.1\n",
            "EPISODE: 433 - FINAL SCORE: 10 - Epsilon: 0.1\n",
            "EPISODE: 434 - FINAL SCORE: 10 - Epsilon: 0.1\n",
            "EPISODE: 435 - FINAL SCORE: 9 - Epsilon: 0.1\n",
            "EPISODE: 436 - FINAL SCORE: 10 - Epsilon: 0.1\n",
            "EPISODE: 437 - FINAL SCORE: 9 - Epsilon: 0.1\n",
            "EPISODE: 438 - FINAL SCORE: 8 - Epsilon: 0.1\n",
            "EPISODE: 439 - FINAL SCORE: 9 - Epsilon: 0.1\n",
            "EPISODE: 440 - FINAL SCORE: 11 - Epsilon: 0.1\n",
            "Updating target network...\n",
            "EPISODE: 441 - FINAL SCORE: 8 - Epsilon: 0.1\n",
            "EPISODE: 442 - FINAL SCORE: 10 - Epsilon: 0.1\n",
            "EPISODE: 443 - FINAL SCORE: 12 - Epsilon: 0.1\n",
            "EPISODE: 444 - FINAL SCORE: 10 - Epsilon: 0.1\n",
            "EPISODE: 445 - FINAL SCORE: 9 - Epsilon: 0.1\n",
            "EPISODE: 446 - FINAL SCORE: 10 - Epsilon: 0.1\n",
            "EPISODE: 447 - FINAL SCORE: 9 - Epsilon: 0.1\n",
            "EPISODE: 448 - FINAL SCORE: 12 - Epsilon: 0.1\n",
            "EPISODE: 449 - FINAL SCORE: 8 - Epsilon: 0.1\n",
            "EPISODE: 450 - FINAL SCORE: 11 - Epsilon: 0.1\n",
            "Updating target network...\n",
            "EPISODE: 451 - FINAL SCORE: 9 - Epsilon: 0.1\n",
            "EPISODE: 452 - FINAL SCORE: 10 - Epsilon: 0.1\n",
            "EPISODE: 453 - FINAL SCORE: 11 - Epsilon: 0.1\n",
            "EPISODE: 454 - FINAL SCORE: 9 - Epsilon: 0.1\n",
            "EPISODE: 455 - FINAL SCORE: 11 - Epsilon: 0.1\n",
            "EPISODE: 456 - FINAL SCORE: 13 - Epsilon: 0.1\n",
            "EPISODE: 457 - FINAL SCORE: 11 - Epsilon: 0.1\n",
            "EPISODE: 458 - FINAL SCORE: 11 - Epsilon: 0.1\n",
            "EPISODE: 459 - FINAL SCORE: 10 - Epsilon: 0.1\n",
            "EPISODE: 460 - FINAL SCORE: 10 - Epsilon: 0.1\n",
            "Updating target network...\n",
            "EPISODE: 461 - FINAL SCORE: 9 - Epsilon: 0.1\n",
            "EPISODE: 462 - FINAL SCORE: 10 - Epsilon: 0.1\n",
            "EPISODE: 463 - FINAL SCORE: 10 - Epsilon: 0.1\n",
            "EPISODE: 464 - FINAL SCORE: 9 - Epsilon: 0.1\n",
            "EPISODE: 465 - FINAL SCORE: 13 - Epsilon: 0.1\n",
            "EPISODE: 466 - FINAL SCORE: 17 - Epsilon: 0.1\n",
            "EPISODE: 467 - FINAL SCORE: 11 - Epsilon: 0.1\n",
            "EPISODE: 468 - FINAL SCORE: 14 - Epsilon: 0.1\n",
            "EPISODE: 469 - FINAL SCORE: 14 - Epsilon: 0.1\n",
            "EPISODE: 470 - FINAL SCORE: 15 - Epsilon: 0.1\n",
            "Updating target network...\n",
            "EPISODE: 471 - FINAL SCORE: 11 - Epsilon: 0.1\n",
            "EPISODE: 472 - FINAL SCORE: 10 - Epsilon: 0.1\n",
            "EPISODE: 473 - FINAL SCORE: 14 - Epsilon: 0.1\n",
            "EPISODE: 474 - FINAL SCORE: 10 - Epsilon: 0.1\n",
            "EPISODE: 475 - FINAL SCORE: 10 - Epsilon: 0.1\n",
            "EPISODE: 476 - FINAL SCORE: 9 - Epsilon: 0.1\n",
            "EPISODE: 477 - FINAL SCORE: 10 - Epsilon: 0.1\n",
            "EPISODE: 478 - FINAL SCORE: 9 - Epsilon: 0.1\n",
            "EPISODE: 479 - FINAL SCORE: 8 - Epsilon: 0.1\n",
            "EPISODE: 480 - FINAL SCORE: 9 - Epsilon: 0.1\n",
            "Updating target network...\n",
            "EPISODE: 481 - FINAL SCORE: 10 - Epsilon: 0.1\n",
            "EPISODE: 482 - FINAL SCORE: 12 - Epsilon: 0.1\n",
            "EPISODE: 483 - FINAL SCORE: 11 - Epsilon: 0.1\n",
            "EPISODE: 484 - FINAL SCORE: 9 - Epsilon: 0.1\n",
            "EPISODE: 485 - FINAL SCORE: 9 - Epsilon: 0.1\n",
            "EPISODE: 486 - FINAL SCORE: 10 - Epsilon: 0.1\n",
            "EPISODE: 487 - FINAL SCORE: 11 - Epsilon: 0.1\n",
            "EPISODE: 488 - FINAL SCORE: 8 - Epsilon: 0.1\n",
            "EPISODE: 489 - FINAL SCORE: 9 - Epsilon: 0.1\n",
            "EPISODE: 490 - FINAL SCORE: 13 - Epsilon: 0.1\n",
            "Updating target network...\n",
            "EPISODE: 491 - FINAL SCORE: 10 - Epsilon: 0.1\n",
            "EPISODE: 492 - FINAL SCORE: 9 - Epsilon: 0.1\n",
            "EPISODE: 493 - FINAL SCORE: 10 - Epsilon: 0.1\n",
            "EPISODE: 494 - FINAL SCORE: 10 - Epsilon: 0.1\n",
            "EPISODE: 495 - FINAL SCORE: 9 - Epsilon: 0.1\n",
            "EPISODE: 496 - FINAL SCORE: 9 - Epsilon: 0.1\n",
            "EPISODE: 497 - FINAL SCORE: 9 - Epsilon: 0.1\n",
            "EPISODE: 498 - FINAL SCORE: 12 - Epsilon: 0.1\n",
            "EPISODE: 499 - FINAL SCORE: 12 - Epsilon: 0.1\n",
            "EPISODE: 500 - FINAL SCORE: 10 - Epsilon: 0.1\n",
            "Updating target network...\n",
            "EPISODE: 501 - FINAL SCORE: 10 - Epsilon: 0.1\n",
            "EPISODE: 502 - FINAL SCORE: 10 - Epsilon: 0.1\n",
            "EPISODE: 503 - FINAL SCORE: 21 - Epsilon: 0.1\n",
            "EPISODE: 504 - FINAL SCORE: 9 - Epsilon: 0.1\n",
            "EPISODE: 505 - FINAL SCORE: 13 - Epsilon: 0.1\n",
            "EPISODE: 506 - FINAL SCORE: 12 - Epsilon: 0.1\n",
            "EPISODE: 507 - FINAL SCORE: 9 - Epsilon: 0.1\n",
            "EPISODE: 508 - FINAL SCORE: 10 - Epsilon: 0.1\n",
            "EPISODE: 509 - FINAL SCORE: 10 - Epsilon: 0.1\n",
            "EPISODE: 510 - FINAL SCORE: 12 - Epsilon: 0.1\n",
            "Updating target network...\n",
            "EPISODE: 511 - FINAL SCORE: 15 - Epsilon: 0.1\n",
            "EPISODE: 512 - FINAL SCORE: 13 - Epsilon: 0.1\n",
            "EPISODE: 513 - FINAL SCORE: 10 - Epsilon: 0.1\n",
            "EPISODE: 514 - FINAL SCORE: 9 - Epsilon: 0.1\n",
            "EPISODE: 515 - FINAL SCORE: 9 - Epsilon: 0.1\n",
            "EPISODE: 516 - FINAL SCORE: 11 - Epsilon: 0.1\n",
            "EPISODE: 517 - FINAL SCORE: 16 - Epsilon: 0.1\n",
            "EPISODE: 518 - FINAL SCORE: 9 - Epsilon: 0.1\n",
            "EPISODE: 519 - FINAL SCORE: 10 - Epsilon: 0.1\n",
            "EPISODE: 520 - FINAL SCORE: 12 - Epsilon: 0.1\n",
            "Updating target network...\n",
            "EPISODE: 521 - FINAL SCORE: 10 - Epsilon: 0.1\n",
            "EPISODE: 522 - FINAL SCORE: 16 - Epsilon: 0.1\n",
            "EPISODE: 523 - FINAL SCORE: 13 - Epsilon: 0.1\n",
            "EPISODE: 524 - FINAL SCORE: 10 - Epsilon: 0.1\n",
            "EPISODE: 525 - FINAL SCORE: 10 - Epsilon: 0.1\n",
            "EPISODE: 526 - FINAL SCORE: 10 - Epsilon: 0.1\n",
            "EPISODE: 527 - FINAL SCORE: 10 - Epsilon: 0.1\n",
            "EPISODE: 528 - FINAL SCORE: 11 - Epsilon: 0.1\n",
            "EPISODE: 529 - FINAL SCORE: 8 - Epsilon: 0.1\n",
            "EPISODE: 530 - FINAL SCORE: 12 - Epsilon: 0.1\n",
            "Updating target network...\n",
            "EPISODE: 531 - FINAL SCORE: 10 - Epsilon: 0.1\n",
            "EPISODE: 532 - FINAL SCORE: 12 - Epsilon: 0.1\n",
            "EPISODE: 533 - FINAL SCORE: 12 - Epsilon: 0.1\n",
            "EPISODE: 534 - FINAL SCORE: 10 - Epsilon: 0.1\n",
            "EPISODE: 535 - FINAL SCORE: 10 - Epsilon: 0.1\n",
            "EPISODE: 536 - FINAL SCORE: 9 - Epsilon: 0.1\n",
            "EPISODE: 537 - FINAL SCORE: 10 - Epsilon: 0.1\n",
            "EPISODE: 538 - FINAL SCORE: 9 - Epsilon: 0.1\n",
            "EPISODE: 539 - FINAL SCORE: 9 - Epsilon: 0.1\n",
            "EPISODE: 540 - FINAL SCORE: 10 - Epsilon: 0.1\n",
            "Updating target network...\n",
            "EPISODE: 541 - FINAL SCORE: 9 - Epsilon: 0.1\n",
            "EPISODE: 542 - FINAL SCORE: 10 - Epsilon: 0.1\n",
            "EPISODE: 543 - FINAL SCORE: 8 - Epsilon: 0.1\n",
            "EPISODE: 544 - FINAL SCORE: 8 - Epsilon: 0.1\n",
            "EPISODE: 545 - FINAL SCORE: 11 - Epsilon: 0.1\n",
            "EPISODE: 546 - FINAL SCORE: 11 - Epsilon: 0.1\n",
            "EPISODE: 547 - FINAL SCORE: 11 - Epsilon: 0.1\n",
            "EPISODE: 548 - FINAL SCORE: 10 - Epsilon: 0.1\n",
            "EPISODE: 549 - FINAL SCORE: 9 - Epsilon: 0.1\n",
            "EPISODE: 550 - FINAL SCORE: 12 - Epsilon: 0.1\n",
            "Updating target network...\n",
            "EPISODE: 551 - FINAL SCORE: 9 - Epsilon: 0.1\n",
            "EPISODE: 552 - FINAL SCORE: 12 - Epsilon: 0.1\n",
            "EPISODE: 553 - FINAL SCORE: 10 - Epsilon: 0.1\n",
            "EPISODE: 554 - FINAL SCORE: 12 - Epsilon: 0.1\n",
            "EPISODE: 555 - FINAL SCORE: 9 - Epsilon: 0.1\n",
            "EPISODE: 556 - FINAL SCORE: 16 - Epsilon: 0.1\n",
            "EPISODE: 557 - FINAL SCORE: 11 - Epsilon: 0.1\n",
            "EPISODE: 558 - FINAL SCORE: 9 - Epsilon: 0.1\n",
            "EPISODE: 559 - FINAL SCORE: 10 - Epsilon: 0.1\n",
            "EPISODE: 560 - FINAL SCORE: 8 - Epsilon: 0.1\n",
            "Updating target network...\n",
            "EPISODE: 561 - FINAL SCORE: 10 - Epsilon: 0.1\n",
            "EPISODE: 562 - FINAL SCORE: 9 - Epsilon: 0.1\n",
            "EPISODE: 563 - FINAL SCORE: 8 - Epsilon: 0.1\n",
            "EPISODE: 564 - FINAL SCORE: 13 - Epsilon: 0.1\n",
            "EPISODE: 565 - FINAL SCORE: 9 - Epsilon: 0.1\n",
            "EPISODE: 566 - FINAL SCORE: 9 - Epsilon: 0.1\n",
            "EPISODE: 567 - FINAL SCORE: 12 - Epsilon: 0.1\n",
            "EPISODE: 568 - FINAL SCORE: 13 - Epsilon: 0.1\n",
            "EPISODE: 569 - FINAL SCORE: 9 - Epsilon: 0.1\n",
            "EPISODE: 570 - FINAL SCORE: 9 - Epsilon: 0.1\n",
            "Updating target network...\n",
            "EPISODE: 571 - FINAL SCORE: 10 - Epsilon: 0.1\n",
            "EPISODE: 572 - FINAL SCORE: 10 - Epsilon: 0.1\n",
            "EPISODE: 573 - FINAL SCORE: 13 - Epsilon: 0.1\n",
            "EPISODE: 574 - FINAL SCORE: 13 - Epsilon: 0.1\n",
            "EPISODE: 575 - FINAL SCORE: 10 - Epsilon: 0.1\n",
            "EPISODE: 576 - FINAL SCORE: 12 - Epsilon: 0.1\n",
            "EPISODE: 577 - FINAL SCORE: 12 - Epsilon: 0.1\n",
            "EPISODE: 578 - FINAL SCORE: 9 - Epsilon: 0.1\n",
            "EPISODE: 579 - FINAL SCORE: 10 - Epsilon: 0.1\n",
            "EPISODE: 580 - FINAL SCORE: 12 - Epsilon: 0.1\n",
            "Updating target network...\n",
            "EPISODE: 581 - FINAL SCORE: 12 - Epsilon: 0.1\n",
            "EPISODE: 582 - FINAL SCORE: 9 - Epsilon: 0.1\n",
            "EPISODE: 583 - FINAL SCORE: 9 - Epsilon: 0.1\n",
            "EPISODE: 584 - FINAL SCORE: 9 - Epsilon: 0.1\n",
            "EPISODE: 585 - FINAL SCORE: 9 - Epsilon: 0.1\n",
            "EPISODE: 586 - FINAL SCORE: 12 - Epsilon: 0.1\n",
            "EPISODE: 587 - FINAL SCORE: 8 - Epsilon: 0.1\n",
            "EPISODE: 588 - FINAL SCORE: 9 - Epsilon: 0.1\n",
            "EPISODE: 589 - FINAL SCORE: 10 - Epsilon: 0.1\n",
            "EPISODE: 590 - FINAL SCORE: 8 - Epsilon: 0.1\n",
            "Updating target network...\n",
            "EPISODE: 591 - FINAL SCORE: 10 - Epsilon: 0.1\n",
            "EPISODE: 592 - FINAL SCORE: 9 - Epsilon: 0.1\n",
            "EPISODE: 593 - FINAL SCORE: 11 - Epsilon: 0.1\n",
            "EPISODE: 594 - FINAL SCORE: 10 - Epsilon: 0.1\n",
            "EPISODE: 595 - FINAL SCORE: 11 - Epsilon: 0.1\n",
            "EPISODE: 596 - FINAL SCORE: 12 - Epsilon: 0.1\n",
            "EPISODE: 597 - FINAL SCORE: 10 - Epsilon: 0.1\n",
            "EPISODE: 598 - FINAL SCORE: 14 - Epsilon: 0.1\n",
            "EPISODE: 599 - FINAL SCORE: 9 - Epsilon: 0.1\n",
            "EPISODE: 600 - FINAL SCORE: 17 - Epsilon: 0.1\n",
            "(0.005, 0.0, 0.0, 0.0, 0.0, 0.0)\n",
            "(-0.005, -0.1, -1.0, 0.1, 0.1, 1.0)\n",
            "(-0.015, -0.1, 0.0, -0.4, -0.5, -6.0)\n",
            "(-0.025, -0.1, 0.0, -0.2, 0.2, 7.0)\n",
            "(-0.045, -0.2, -1.0, 0.1, 0.3, 1.0)\n",
            "(-0.065, -0.2, 0.0, 0.4, 0.3, 0.0)\n",
            "(-0.095, -0.3, -1.0, 0.8, 0.4, 1.0)\n",
            "(-0.125, -0.3, 0.0, 1.3, 0.5, 1.0)\n",
            "(-0.165, -0.4, -1.0, 1.8, 0.5, 0.0)\n",
            "None\n",
            "Updating target network...\n",
            "EPISODE: 601 - FINAL SCORE: 10 - Epsilon: 0.1\n",
            "EPISODE: 602 - FINAL SCORE: 9 - Epsilon: 0.1\n",
            "EPISODE: 603 - FINAL SCORE: 10 - Epsilon: 0.1\n",
            "EPISODE: 604 - FINAL SCORE: 11 - Epsilon: 0.1\n",
            "EPISODE: 605 - FINAL SCORE: 11 - Epsilon: 0.1\n",
            "EPISODE: 606 - FINAL SCORE: 9 - Epsilon: 0.1\n",
            "EPISODE: 607 - FINAL SCORE: 13 - Epsilon: 0.1\n",
            "EPISODE: 608 - FINAL SCORE: 9 - Epsilon: 0.1\n",
            "EPISODE: 609 - FINAL SCORE: 10 - Epsilon: 0.1\n",
            "EPISODE: 610 - FINAL SCORE: 9 - Epsilon: 0.1\n",
            "Updating target network...\n",
            "EPISODE: 611 - FINAL SCORE: 10 - Epsilon: 0.1\n",
            "EPISODE: 612 - FINAL SCORE: 10 - Epsilon: 0.1\n",
            "EPISODE: 613 - FINAL SCORE: 10 - Epsilon: 0.1\n",
            "EPISODE: 614 - FINAL SCORE: 10 - Epsilon: 0.1\n",
            "EPISODE: 615 - FINAL SCORE: 14 - Epsilon: 0.1\n",
            "EPISODE: 616 - FINAL SCORE: 9 - Epsilon: 0.1\n",
            "EPISODE: 617 - FINAL SCORE: 9 - Epsilon: 0.1\n",
            "EPISODE: 618 - FINAL SCORE: 10 - Epsilon: 0.1\n",
            "EPISODE: 619 - FINAL SCORE: 10 - Epsilon: 0.1\n",
            "EPISODE: 620 - FINAL SCORE: 12 - Epsilon: 0.1\n",
            "Updating target network...\n",
            "EPISODE: 621 - FINAL SCORE: 10 - Epsilon: 0.1\n",
            "EPISODE: 622 - FINAL SCORE: 10 - Epsilon: 0.1\n",
            "EPISODE: 623 - FINAL SCORE: 11 - Epsilon: 0.1\n",
            "EPISODE: 624 - FINAL SCORE: 10 - Epsilon: 0.1\n",
            "EPISODE: 625 - FINAL SCORE: 10 - Epsilon: 0.1\n",
            "EPISODE: 626 - FINAL SCORE: 10 - Epsilon: 0.1\n",
            "EPISODE: 627 - FINAL SCORE: 12 - Epsilon: 0.1\n",
            "EPISODE: 628 - FINAL SCORE: 9 - Epsilon: 0.1\n",
            "EPISODE: 629 - FINAL SCORE: 10 - Epsilon: 0.1\n",
            "EPISODE: 630 - FINAL SCORE: 10 - Epsilon: 0.1\n",
            "Updating target network...\n",
            "EPISODE: 631 - FINAL SCORE: 14 - Epsilon: 0.1\n",
            "EPISODE: 632 - FINAL SCORE: 11 - Epsilon: 0.1\n",
            "EPISODE: 633 - FINAL SCORE: 11 - Epsilon: 0.1\n",
            "EPISODE: 634 - FINAL SCORE: 10 - Epsilon: 0.1\n",
            "EPISODE: 635 - FINAL SCORE: 14 - Epsilon: 0.1\n",
            "EPISODE: 636 - FINAL SCORE: 12 - Epsilon: 0.1\n",
            "EPISODE: 637 - FINAL SCORE: 11 - Epsilon: 0.1\n",
            "EPISODE: 638 - FINAL SCORE: 10 - Epsilon: 0.1\n",
            "EPISODE: 639 - FINAL SCORE: 9 - Epsilon: 0.1\n",
            "EPISODE: 640 - FINAL SCORE: 9 - Epsilon: 0.1\n",
            "Updating target network...\n",
            "EPISODE: 641 - FINAL SCORE: 11 - Epsilon: 0.1\n",
            "EPISODE: 642 - FINAL SCORE: 12 - Epsilon: 0.1\n",
            "EPISODE: 643 - FINAL SCORE: 12 - Epsilon: 0.1\n",
            "EPISODE: 644 - FINAL SCORE: 8 - Epsilon: 0.1\n",
            "EPISODE: 645 - FINAL SCORE: 10 - Epsilon: 0.1\n",
            "EPISODE: 646 - FINAL SCORE: 12 - Epsilon: 0.1\n",
            "EPISODE: 647 - FINAL SCORE: 11 - Epsilon: 0.1\n",
            "EPISODE: 648 - FINAL SCORE: 9 - Epsilon: 0.1\n",
            "EPISODE: 649 - FINAL SCORE: 9 - Epsilon: 0.1\n",
            "EPISODE: 650 - FINAL SCORE: 9 - Epsilon: 0.1\n",
            "Updating target network...\n",
            "EPISODE: 651 - FINAL SCORE: 10 - Epsilon: 0.1\n",
            "EPISODE: 652 - FINAL SCORE: 10 - Epsilon: 0.1\n",
            "EPISODE: 653 - FINAL SCORE: 10 - Epsilon: 0.1\n",
            "EPISODE: 654 - FINAL SCORE: 10 - Epsilon: 0.1\n",
            "EPISODE: 655 - FINAL SCORE: 12 - Epsilon: 0.1\n",
            "EPISODE: 656 - FINAL SCORE: 11 - Epsilon: 0.1\n",
            "EPISODE: 657 - FINAL SCORE: 10 - Epsilon: 0.1\n",
            "EPISODE: 658 - FINAL SCORE: 13 - Epsilon: 0.1\n",
            "EPISODE: 659 - FINAL SCORE: 10 - Epsilon: 0.1\n",
            "EPISODE: 660 - FINAL SCORE: 9 - Epsilon: 0.1\n",
            "Updating target network...\n",
            "EPISODE: 661 - FINAL SCORE: 11 - Epsilon: 0.1\n",
            "EPISODE: 662 - FINAL SCORE: 12 - Epsilon: 0.1\n",
            "EPISODE: 663 - FINAL SCORE: 13 - Epsilon: 0.1\n",
            "EPISODE: 664 - FINAL SCORE: 10 - Epsilon: 0.1\n",
            "EPISODE: 665 - FINAL SCORE: 8 - Epsilon: 0.1\n",
            "EPISODE: 666 - FINAL SCORE: 12 - Epsilon: 0.1\n",
            "EPISODE: 667 - FINAL SCORE: 10 - Epsilon: 0.1\n",
            "EPISODE: 668 - FINAL SCORE: 16 - Epsilon: 0.1\n",
            "EPISODE: 669 - FINAL SCORE: 10 - Epsilon: 0.1\n",
            "EPISODE: 670 - FINAL SCORE: 10 - Epsilon: 0.1\n",
            "Updating target network...\n",
            "EPISODE: 671 - FINAL SCORE: 11 - Epsilon: 0.1\n",
            "EPISODE: 672 - FINAL SCORE: 10 - Epsilon: 0.1\n",
            "EPISODE: 673 - FINAL SCORE: 10 - Epsilon: 0.1\n",
            "EPISODE: 674 - FINAL SCORE: 9 - Epsilon: 0.1\n",
            "EPISODE: 675 - FINAL SCORE: 9 - Epsilon: 0.1\n",
            "EPISODE: 676 - FINAL SCORE: 11 - Epsilon: 0.1\n",
            "EPISODE: 677 - FINAL SCORE: 13 - Epsilon: 0.1\n",
            "EPISODE: 678 - FINAL SCORE: 9 - Epsilon: 0.1\n",
            "EPISODE: 679 - FINAL SCORE: 9 - Epsilon: 0.1\n",
            "EPISODE: 680 - FINAL SCORE: 10 - Epsilon: 0.1\n",
            "Updating target network...\n",
            "EPISODE: 681 - FINAL SCORE: 10 - Epsilon: 0.1\n",
            "EPISODE: 682 - FINAL SCORE: 13 - Epsilon: 0.1\n",
            "EPISODE: 683 - FINAL SCORE: 9 - Epsilon: 0.1\n",
            "EPISODE: 684 - FINAL SCORE: 9 - Epsilon: 0.1\n",
            "EPISODE: 685 - FINAL SCORE: 12 - Epsilon: 0.1\n",
            "EPISODE: 686 - FINAL SCORE: 10 - Epsilon: 0.1\n",
            "EPISODE: 687 - FINAL SCORE: 9 - Epsilon: 0.1\n",
            "EPISODE: 688 - FINAL SCORE: 11 - Epsilon: 0.1\n",
            "EPISODE: 689 - FINAL SCORE: 9 - Epsilon: 0.1\n",
            "EPISODE: 690 - FINAL SCORE: 10 - Epsilon: 0.1\n",
            "Updating target network...\n",
            "EPISODE: 691 - FINAL SCORE: 12 - Epsilon: 0.1\n",
            "EPISODE: 692 - FINAL SCORE: 11 - Epsilon: 0.1\n",
            "EPISODE: 693 - FINAL SCORE: 10 - Epsilon: 0.1\n",
            "EPISODE: 694 - FINAL SCORE: 11 - Epsilon: 0.1\n",
            "EPISODE: 695 - FINAL SCORE: 9 - Epsilon: 0.1\n",
            "EPISODE: 696 - FINAL SCORE: 11 - Epsilon: 0.1\n",
            "EPISODE: 697 - FINAL SCORE: 11 - Epsilon: 0.1\n",
            "EPISODE: 698 - FINAL SCORE: 9 - Epsilon: 0.1\n",
            "EPISODE: 699 - FINAL SCORE: 15 - Epsilon: 0.1\n",
            "EPISODE: 700 - FINAL SCORE: 10 - Epsilon: 0.1\n",
            "Updating target network...\n",
            "EPISODE: 701 - FINAL SCORE: 10 - Epsilon: 0.1\n",
            "EPISODE: 702 - FINAL SCORE: 11 - Epsilon: 0.1\n",
            "EPISODE: 703 - FINAL SCORE: 12 - Epsilon: 0.1\n",
            "EPISODE: 704 - FINAL SCORE: 10 - Epsilon: 0.1\n",
            "EPISODE: 705 - FINAL SCORE: 15 - Epsilon: 0.1\n",
            "EPISODE: 706 - FINAL SCORE: 9 - Epsilon: 0.1\n",
            "EPISODE: 707 - FINAL SCORE: 9 - Epsilon: 0.1\n",
            "EPISODE: 708 - FINAL SCORE: 11 - Epsilon: 0.1\n",
            "EPISODE: 709 - FINAL SCORE: 10 - Epsilon: 0.1\n",
            "EPISODE: 710 - FINAL SCORE: 13 - Epsilon: 0.1\n",
            "Updating target network...\n",
            "EPISODE: 711 - FINAL SCORE: 8 - Epsilon: 0.1\n",
            "EPISODE: 712 - FINAL SCORE: 9 - Epsilon: 0.1\n",
            "EPISODE: 713 - FINAL SCORE: 11 - Epsilon: 0.1\n",
            "EPISODE: 714 - FINAL SCORE: 9 - Epsilon: 0.1\n",
            "EPISODE: 715 - FINAL SCORE: 10 - Epsilon: 0.1\n",
            "EPISODE: 716 - FINAL SCORE: 8 - Epsilon: 0.1\n",
            "EPISODE: 717 - FINAL SCORE: 10 - Epsilon: 0.1\n",
            "EPISODE: 718 - FINAL SCORE: 12 - Epsilon: 0.1\n",
            "EPISODE: 719 - FINAL SCORE: 8 - Epsilon: 0.1\n",
            "EPISODE: 720 - FINAL SCORE: 12 - Epsilon: 0.1\n",
            "Updating target network...\n",
            "EPISODE: 721 - FINAL SCORE: 12 - Epsilon: 0.1\n",
            "EPISODE: 722 - FINAL SCORE: 9 - Epsilon: 0.1\n",
            "EPISODE: 723 - FINAL SCORE: 9 - Epsilon: 0.1\n",
            "EPISODE: 724 - FINAL SCORE: 13 - Epsilon: 0.1\n",
            "EPISODE: 725 - FINAL SCORE: 8 - Epsilon: 0.1\n",
            "EPISODE: 726 - FINAL SCORE: 9 - Epsilon: 0.1\n",
            "EPISODE: 727 - FINAL SCORE: 9 - Epsilon: 0.1\n",
            "EPISODE: 728 - FINAL SCORE: 9 - Epsilon: 0.1\n",
            "EPISODE: 729 - FINAL SCORE: 9 - Epsilon: 0.1\n",
            "EPISODE: 730 - FINAL SCORE: 8 - Epsilon: 0.1\n",
            "Updating target network...\n",
            "EPISODE: 731 - FINAL SCORE: 12 - Epsilon: 0.1\n",
            "EPISODE: 732 - FINAL SCORE: 10 - Epsilon: 0.1\n",
            "EPISODE: 733 - FINAL SCORE: 9 - Epsilon: 0.1\n",
            "EPISODE: 734 - FINAL SCORE: 12 - Epsilon: 0.1\n",
            "EPISODE: 735 - FINAL SCORE: 10 - Epsilon: 0.1\n",
            "EPISODE: 736 - FINAL SCORE: 11 - Epsilon: 0.1\n",
            "EPISODE: 737 - FINAL SCORE: 9 - Epsilon: 0.1\n",
            "EPISODE: 738 - FINAL SCORE: 10 - Epsilon: 0.1\n",
            "EPISODE: 739 - FINAL SCORE: 10 - Epsilon: 0.1\n",
            "EPISODE: 740 - FINAL SCORE: 10 - Epsilon: 0.1\n",
            "Updating target network...\n",
            "EPISODE: 741 - FINAL SCORE: 13 - Epsilon: 0.1\n",
            "EPISODE: 742 - FINAL SCORE: 9 - Epsilon: 0.1\n",
            "EPISODE: 743 - FINAL SCORE: 12 - Epsilon: 0.1\n",
            "EPISODE: 744 - FINAL SCORE: 12 - Epsilon: 0.1\n",
            "EPISODE: 745 - FINAL SCORE: 10 - Epsilon: 0.1\n",
            "EPISODE: 746 - FINAL SCORE: 8 - Epsilon: 0.1\n",
            "EPISODE: 747 - FINAL SCORE: 10 - Epsilon: 0.1\n",
            "EPISODE: 748 - FINAL SCORE: 9 - Epsilon: 0.1\n",
            "EPISODE: 749 - FINAL SCORE: 9 - Epsilon: 0.1\n",
            "EPISODE: 750 - FINAL SCORE: 9 - Epsilon: 0.1\n",
            "Updating target network...\n",
            "EPISODE: 751 - FINAL SCORE: 10 - Epsilon: 0.1\n",
            "EPISODE: 752 - FINAL SCORE: 10 - Epsilon: 0.1\n",
            "EPISODE: 753 - FINAL SCORE: 9 - Epsilon: 0.1\n",
            "EPISODE: 754 - FINAL SCORE: 9 - Epsilon: 0.1\n",
            "EPISODE: 755 - FINAL SCORE: 10 - Epsilon: 0.1\n",
            "EPISODE: 756 - FINAL SCORE: 8 - Epsilon: 0.1\n",
            "EPISODE: 757 - FINAL SCORE: 9 - Epsilon: 0.1\n",
            "EPISODE: 758 - FINAL SCORE: 12 - Epsilon: 0.1\n",
            "EPISODE: 759 - FINAL SCORE: 10 - Epsilon: 0.1\n",
            "EPISODE: 760 - FINAL SCORE: 9 - Epsilon: 0.1\n",
            "Updating target network...\n",
            "EPISODE: 761 - FINAL SCORE: 10 - Epsilon: 0.1\n",
            "EPISODE: 762 - FINAL SCORE: 10 - Epsilon: 0.1\n",
            "EPISODE: 763 - FINAL SCORE: 13 - Epsilon: 0.1\n",
            "EPISODE: 764 - FINAL SCORE: 9 - Epsilon: 0.1\n",
            "EPISODE: 765 - FINAL SCORE: 10 - Epsilon: 0.1\n",
            "EPISODE: 766 - FINAL SCORE: 11 - Epsilon: 0.1\n",
            "EPISODE: 767 - FINAL SCORE: 9 - Epsilon: 0.1\n",
            "EPISODE: 768 - FINAL SCORE: 11 - Epsilon: 0.1\n",
            "EPISODE: 769 - FINAL SCORE: 10 - Epsilon: 0.1\n",
            "EPISODE: 770 - FINAL SCORE: 10 - Epsilon: 0.1\n",
            "Updating target network...\n",
            "EPISODE: 771 - FINAL SCORE: 12 - Epsilon: 0.1\n",
            "EPISODE: 772 - FINAL SCORE: 9 - Epsilon: 0.1\n",
            "EPISODE: 773 - FINAL SCORE: 10 - Epsilon: 0.1\n",
            "EPISODE: 774 - FINAL SCORE: 10 - Epsilon: 0.1\n",
            "EPISODE: 775 - FINAL SCORE: 9 - Epsilon: 0.1\n",
            "EPISODE: 776 - FINAL SCORE: 11 - Epsilon: 0.1\n",
            "EPISODE: 777 - FINAL SCORE: 10 - Epsilon: 0.1\n",
            "EPISODE: 778 - FINAL SCORE: 11 - Epsilon: 0.1\n",
            "EPISODE: 779 - FINAL SCORE: 10 - Epsilon: 0.1\n",
            "EPISODE: 780 - FINAL SCORE: 12 - Epsilon: 0.1\n",
            "Updating target network...\n",
            "EPISODE: 781 - FINAL SCORE: 12 - Epsilon: 0.1\n",
            "EPISODE: 782 - FINAL SCORE: 12 - Epsilon: 0.1\n",
            "EPISODE: 783 - FINAL SCORE: 8 - Epsilon: 0.1\n",
            "EPISODE: 784 - FINAL SCORE: 9 - Epsilon: 0.1\n",
            "EPISODE: 785 - FINAL SCORE: 13 - Epsilon: 0.1\n",
            "EPISODE: 786 - FINAL SCORE: 10 - Epsilon: 0.1\n",
            "EPISODE: 787 - FINAL SCORE: 12 - Epsilon: 0.1\n",
            "EPISODE: 788 - FINAL SCORE: 11 - Epsilon: 0.1\n",
            "EPISODE: 789 - FINAL SCORE: 10 - Epsilon: 0.1\n",
            "EPISODE: 790 - FINAL SCORE: 11 - Epsilon: 0.1\n",
            "Updating target network...\n",
            "EPISODE: 791 - FINAL SCORE: 10 - Epsilon: 0.1\n",
            "EPISODE: 792 - FINAL SCORE: 13 - Epsilon: 0.1\n",
            "EPISODE: 793 - FINAL SCORE: 10 - Epsilon: 0.1\n",
            "EPISODE: 794 - FINAL SCORE: 9 - Epsilon: 0.1\n",
            "EPISODE: 795 - FINAL SCORE: 10 - Epsilon: 0.1\n",
            "EPISODE: 796 - FINAL SCORE: 11 - Epsilon: 0.1\n",
            "EPISODE: 797 - FINAL SCORE: 11 - Epsilon: 0.1\n",
            "EPISODE: 798 - FINAL SCORE: 9 - Epsilon: 0.1\n",
            "EPISODE: 799 - FINAL SCORE: 12 - Epsilon: 0.1\n",
            "EPISODE: 800 - FINAL SCORE: 9 - Epsilon: 0.1\n",
            "(-0.005, 0.0, 0.0, -0.1, 0.0, 0.0)\n",
            "(-0.005, 0.0, 0.0, -0.1, 0.0, 0.0)\n",
            "(-0.015, -0.1, -1.0, 0.1, 0.2, 2.0)\n",
            "(-0.025, -0.1, 0.0, 0.2, 0.1, -1.0)\n",
            "(-0.045, -0.2, -1.0, 0.5, 0.3, 2.0)\n",
            "(-0.065, -0.2, 0.0, 0.8, 0.3, 0.0)\n",
            "(-0.095, -0.3, -1.0, 1.3, 0.5, 2.0)\n",
            "(-0.135, -0.4, -1.0, 1.9, 0.6, 1.0)\n",
            "None\n",
            "Updating target network...\n",
            "EPISODE: 801 - FINAL SCORE: 9 - Epsilon: 0.1\n",
            "EPISODE: 802 - FINAL SCORE: 12 - Epsilon: 0.1\n",
            "EPISODE: 803 - FINAL SCORE: 16 - Epsilon: 0.1\n",
            "EPISODE: 804 - FINAL SCORE: 11 - Epsilon: 0.1\n",
            "EPISODE: 805 - FINAL SCORE: 10 - Epsilon: 0.1\n",
            "EPISODE: 806 - FINAL SCORE: 10 - Epsilon: 0.1\n",
            "EPISODE: 807 - FINAL SCORE: 12 - Epsilon: 0.1\n",
            "EPISODE: 808 - FINAL SCORE: 13 - Epsilon: 0.1\n",
            "EPISODE: 809 - FINAL SCORE: 10 - Epsilon: 0.1\n",
            "EPISODE: 810 - FINAL SCORE: 12 - Epsilon: 0.1\n",
            "Updating target network...\n",
            "EPISODE: 811 - FINAL SCORE: 14 - Epsilon: 0.1\n",
            "EPISODE: 812 - FINAL SCORE: 11 - Epsilon: 0.1\n",
            "EPISODE: 813 - FINAL SCORE: 9 - Epsilon: 0.1\n",
            "EPISODE: 814 - FINAL SCORE: 10 - Epsilon: 0.1\n",
            "EPISODE: 815 - FINAL SCORE: 10 - Epsilon: 0.1\n",
            "EPISODE: 816 - FINAL SCORE: 10 - Epsilon: 0.1\n",
            "EPISODE: 817 - FINAL SCORE: 11 - Epsilon: 0.1\n",
            "EPISODE: 818 - FINAL SCORE: 12 - Epsilon: 0.1\n",
            "EPISODE: 819 - FINAL SCORE: 17 - Epsilon: 0.1\n",
            "EPISODE: 820 - FINAL SCORE: 9 - Epsilon: 0.1\n",
            "Updating target network...\n",
            "EPISODE: 821 - FINAL SCORE: 10 - Epsilon: 0.1\n",
            "EPISODE: 822 - FINAL SCORE: 9 - Epsilon: 0.1\n",
            "EPISODE: 823 - FINAL SCORE: 10 - Epsilon: 0.1\n",
            "EPISODE: 824 - FINAL SCORE: 11 - Epsilon: 0.1\n",
            "EPISODE: 825 - FINAL SCORE: 13 - Epsilon: 0.1\n",
            "EPISODE: 826 - FINAL SCORE: 11 - Epsilon: 0.1\n",
            "EPISODE: 827 - FINAL SCORE: 9 - Epsilon: 0.1\n",
            "EPISODE: 828 - FINAL SCORE: 8 - Epsilon: 0.1\n",
            "EPISODE: 829 - FINAL SCORE: 9 - Epsilon: 0.1\n",
            "EPISODE: 830 - FINAL SCORE: 11 - Epsilon: 0.1\n",
            "Updating target network...\n",
            "EPISODE: 831 - FINAL SCORE: 9 - Epsilon: 0.1\n",
            "EPISODE: 832 - FINAL SCORE: 10 - Epsilon: 0.1\n",
            "EPISODE: 833 - FINAL SCORE: 10 - Epsilon: 0.1\n",
            "EPISODE: 834 - FINAL SCORE: 9 - Epsilon: 0.1\n",
            "EPISODE: 835 - FINAL SCORE: 10 - Epsilon: 0.1\n",
            "EPISODE: 836 - FINAL SCORE: 8 - Epsilon: 0.1\n",
            "EPISODE: 837 - FINAL SCORE: 9 - Epsilon: 0.1\n",
            "EPISODE: 838 - FINAL SCORE: 9 - Epsilon: 0.1\n",
            "EPISODE: 839 - FINAL SCORE: 13 - Epsilon: 0.1\n",
            "EPISODE: 840 - FINAL SCORE: 9 - Epsilon: 0.1\n",
            "Updating target network...\n",
            "EPISODE: 841 - FINAL SCORE: 22 - Epsilon: 0.1\n",
            "EPISODE: 842 - FINAL SCORE: 10 - Epsilon: 0.1\n",
            "EPISODE: 843 - FINAL SCORE: 9 - Epsilon: 0.1\n",
            "EPISODE: 844 - FINAL SCORE: 11 - Epsilon: 0.1\n",
            "EPISODE: 845 - FINAL SCORE: 10 - Epsilon: 0.1\n",
            "EPISODE: 846 - FINAL SCORE: 10 - Epsilon: 0.1\n",
            "EPISODE: 847 - FINAL SCORE: 10 - Epsilon: 0.1\n",
            "EPISODE: 848 - FINAL SCORE: 11 - Epsilon: 0.1\n",
            "EPISODE: 849 - FINAL SCORE: 12 - Epsilon: 0.1\n",
            "EPISODE: 850 - FINAL SCORE: 8 - Epsilon: 0.1\n",
            "Updating target network...\n",
            "EPISODE: 851 - FINAL SCORE: 12 - Epsilon: 0.1\n",
            "EPISODE: 852 - FINAL SCORE: 12 - Epsilon: 0.1\n",
            "EPISODE: 853 - FINAL SCORE: 11 - Epsilon: 0.1\n",
            "EPISODE: 854 - FINAL SCORE: 11 - Epsilon: 0.1\n",
            "EPISODE: 855 - FINAL SCORE: 10 - Epsilon: 0.1\n",
            "EPISODE: 856 - FINAL SCORE: 8 - Epsilon: 0.1\n",
            "EPISODE: 857 - FINAL SCORE: 11 - Epsilon: 0.1\n",
            "EPISODE: 858 - FINAL SCORE: 9 - Epsilon: 0.1\n",
            "EPISODE: 859 - FINAL SCORE: 13 - Epsilon: 0.1\n",
            "EPISODE: 860 - FINAL SCORE: 12 - Epsilon: 0.1\n",
            "Updating target network...\n",
            "EPISODE: 861 - FINAL SCORE: 11 - Epsilon: 0.1\n",
            "EPISODE: 862 - FINAL SCORE: 10 - Epsilon: 0.1\n",
            "EPISODE: 863 - FINAL SCORE: 9 - Epsilon: 0.1\n",
            "EPISODE: 864 - FINAL SCORE: 9 - Epsilon: 0.1\n",
            "EPISODE: 865 - FINAL SCORE: 13 - Epsilon: 0.1\n",
            "EPISODE: 866 - FINAL SCORE: 10 - Epsilon: 0.1\n",
            "EPISODE: 867 - FINAL SCORE: 15 - Epsilon: 0.1\n",
            "EPISODE: 868 - FINAL SCORE: 9 - Epsilon: 0.1\n",
            "EPISODE: 869 - FINAL SCORE: 13 - Epsilon: 0.1\n",
            "EPISODE: 870 - FINAL SCORE: 21 - Epsilon: 0.1\n",
            "Updating target network...\n",
            "EPISODE: 871 - FINAL SCORE: 13 - Epsilon: 0.1\n",
            "EPISODE: 872 - FINAL SCORE: 10 - Epsilon: 0.1\n",
            "EPISODE: 873 - FINAL SCORE: 11 - Epsilon: 0.1\n",
            "EPISODE: 874 - FINAL SCORE: 10 - Epsilon: 0.1\n",
            "EPISODE: 875 - FINAL SCORE: 18 - Epsilon: 0.1\n",
            "EPISODE: 876 - FINAL SCORE: 9 - Epsilon: 0.1\n",
            "EPISODE: 877 - FINAL SCORE: 12 - Epsilon: 0.1\n",
            "EPISODE: 878 - FINAL SCORE: 9 - Epsilon: 0.1\n",
            "EPISODE: 879 - FINAL SCORE: 12 - Epsilon: 0.1\n",
            "EPISODE: 880 - FINAL SCORE: 11 - Epsilon: 0.1\n",
            "Updating target network...\n",
            "EPISODE: 881 - FINAL SCORE: 9 - Epsilon: 0.1\n",
            "EPISODE: 882 - FINAL SCORE: 10 - Epsilon: 0.1\n",
            "EPISODE: 883 - FINAL SCORE: 10 - Epsilon: 0.1\n",
            "EPISODE: 884 - FINAL SCORE: 9 - Epsilon: 0.1\n",
            "EPISODE: 885 - FINAL SCORE: 10 - Epsilon: 0.1\n",
            "EPISODE: 886 - FINAL SCORE: 13 - Epsilon: 0.1\n",
            "EPISODE: 887 - FINAL SCORE: 9 - Epsilon: 0.1\n",
            "EPISODE: 888 - FINAL SCORE: 12 - Epsilon: 0.1\n",
            "EPISODE: 889 - FINAL SCORE: 8 - Epsilon: 0.1\n",
            "EPISODE: 890 - FINAL SCORE: 11 - Epsilon: 0.1\n",
            "Updating target network...\n",
            "EPISODE: 891 - FINAL SCORE: 10 - Epsilon: 0.1\n",
            "EPISODE: 892 - FINAL SCORE: 10 - Epsilon: 0.1\n",
            "EPISODE: 893 - FINAL SCORE: 13 - Epsilon: 0.1\n",
            "EPISODE: 894 - FINAL SCORE: 10 - Epsilon: 0.1\n",
            "EPISODE: 895 - FINAL SCORE: 8 - Epsilon: 0.1\n",
            "EPISODE: 896 - FINAL SCORE: 11 - Epsilon: 0.1\n",
            "EPISODE: 897 - FINAL SCORE: 10 - Epsilon: 0.1\n",
            "EPISODE: 898 - FINAL SCORE: 11 - Epsilon: 0.1\n",
            "EPISODE: 899 - FINAL SCORE: 10 - Epsilon: 0.1\n",
            "EPISODE: 900 - FINAL SCORE: 9 - Epsilon: 0.1\n",
            "Updating target network...\n",
            "EPISODE: 901 - FINAL SCORE: 12 - Epsilon: 0.1\n",
            "EPISODE: 902 - FINAL SCORE: 10 - Epsilon: 0.1\n",
            "EPISODE: 903 - FINAL SCORE: 10 - Epsilon: 0.1\n",
            "EPISODE: 904 - FINAL SCORE: 9 - Epsilon: 0.1\n",
            "EPISODE: 905 - FINAL SCORE: 10 - Epsilon: 0.1\n",
            "EPISODE: 906 - FINAL SCORE: 11 - Epsilon: 0.1\n",
            "EPISODE: 907 - FINAL SCORE: 10 - Epsilon: 0.1\n",
            "EPISODE: 908 - FINAL SCORE: 9 - Epsilon: 0.1\n",
            "EPISODE: 909 - FINAL SCORE: 8 - Epsilon: 0.1\n",
            "EPISODE: 910 - FINAL SCORE: 11 - Epsilon: 0.1\n",
            "Updating target network...\n",
            "EPISODE: 911 - FINAL SCORE: 12 - Epsilon: 0.1\n",
            "EPISODE: 912 - FINAL SCORE: 10 - Epsilon: 0.1\n",
            "EPISODE: 913 - FINAL SCORE: 10 - Epsilon: 0.1\n",
            "EPISODE: 914 - FINAL SCORE: 11 - Epsilon: 0.1\n",
            "EPISODE: 915 - FINAL SCORE: 9 - Epsilon: 0.1\n",
            "EPISODE: 916 - FINAL SCORE: 11 - Epsilon: 0.1\n",
            "EPISODE: 917 - FINAL SCORE: 9 - Epsilon: 0.1\n",
            "EPISODE: 918 - FINAL SCORE: 10 - Epsilon: 0.1\n",
            "EPISODE: 919 - FINAL SCORE: 11 - Epsilon: 0.1\n",
            "EPISODE: 920 - FINAL SCORE: 11 - Epsilon: 0.1\n",
            "Updating target network...\n",
            "EPISODE: 921 - FINAL SCORE: 11 - Epsilon: 0.1\n",
            "EPISODE: 922 - FINAL SCORE: 9 - Epsilon: 0.1\n",
            "EPISODE: 923 - FINAL SCORE: 11 - Epsilon: 0.1\n",
            "EPISODE: 924 - FINAL SCORE: 11 - Epsilon: 0.1\n",
            "EPISODE: 925 - FINAL SCORE: 10 - Epsilon: 0.1\n",
            "EPISODE: 926 - FINAL SCORE: 10 - Epsilon: 0.1\n",
            "EPISODE: 927 - FINAL SCORE: 15 - Epsilon: 0.1\n",
            "EPISODE: 928 - FINAL SCORE: 10 - Epsilon: 0.1\n",
            "EPISODE: 929 - FINAL SCORE: 11 - Epsilon: 0.1\n",
            "EPISODE: 930 - FINAL SCORE: 8 - Epsilon: 0.1\n",
            "Updating target network...\n",
            "EPISODE: 931 - FINAL SCORE: 10 - Epsilon: 0.1\n",
            "EPISODE: 932 - FINAL SCORE: 10 - Epsilon: 0.1\n",
            "EPISODE: 933 - FINAL SCORE: 10 - Epsilon: 0.1\n",
            "EPISODE: 934 - FINAL SCORE: 12 - Epsilon: 0.1\n",
            "EPISODE: 935 - FINAL SCORE: 10 - Epsilon: 0.1\n",
            "EPISODE: 936 - FINAL SCORE: 12 - Epsilon: 0.1\n",
            "EPISODE: 937 - FINAL SCORE: 9 - Epsilon: 0.1\n",
            "EPISODE: 938 - FINAL SCORE: 11 - Epsilon: 0.1\n",
            "EPISODE: 939 - FINAL SCORE: 11 - Epsilon: 0.1\n",
            "EPISODE: 940 - FINAL SCORE: 11 - Epsilon: 0.1\n",
            "Updating target network...\n",
            "EPISODE: 941 - FINAL SCORE: 10 - Epsilon: 0.1\n",
            "EPISODE: 942 - FINAL SCORE: 10 - Epsilon: 0.1\n",
            "EPISODE: 943 - FINAL SCORE: 8 - Epsilon: 0.1\n",
            "EPISODE: 944 - FINAL SCORE: 10 - Epsilon: 0.1\n",
            "EPISODE: 945 - FINAL SCORE: 10 - Epsilon: 0.1\n",
            "EPISODE: 946 - FINAL SCORE: 11 - Epsilon: 0.1\n",
            "EPISODE: 947 - FINAL SCORE: 8 - Epsilon: 0.1\n",
            "EPISODE: 948 - FINAL SCORE: 9 - Epsilon: 0.1\n",
            "EPISODE: 949 - FINAL SCORE: 10 - Epsilon: 0.1\n",
            "EPISODE: 950 - FINAL SCORE: 10 - Epsilon: 0.1\n",
            "Updating target network...\n",
            "EPISODE: 951 - FINAL SCORE: 14 - Epsilon: 0.1\n",
            "EPISODE: 952 - FINAL SCORE: 13 - Epsilon: 0.1\n",
            "EPISODE: 953 - FINAL SCORE: 14 - Epsilon: 0.1\n",
            "EPISODE: 954 - FINAL SCORE: 11 - Epsilon: 0.1\n",
            "EPISODE: 955 - FINAL SCORE: 9 - Epsilon: 0.1\n",
            "EPISODE: 956 - FINAL SCORE: 11 - Epsilon: 0.1\n",
            "EPISODE: 957 - FINAL SCORE: 12 - Epsilon: 0.1\n",
            "EPISODE: 958 - FINAL SCORE: 9 - Epsilon: 0.1\n",
            "EPISODE: 959 - FINAL SCORE: 10 - Epsilon: 0.1\n",
            "EPISODE: 960 - FINAL SCORE: 9 - Epsilon: 0.1\n",
            "Updating target network...\n",
            "EPISODE: 961 - FINAL SCORE: 12 - Epsilon: 0.1\n",
            "EPISODE: 962 - FINAL SCORE: 8 - Epsilon: 0.1\n",
            "EPISODE: 963 - FINAL SCORE: 9 - Epsilon: 0.1\n",
            "EPISODE: 964 - FINAL SCORE: 11 - Epsilon: 0.1\n",
            "EPISODE: 965 - FINAL SCORE: 15 - Epsilon: 0.1\n",
            "EPISODE: 966 - FINAL SCORE: 10 - Epsilon: 0.1\n",
            "EPISODE: 967 - FINAL SCORE: 13 - Epsilon: 0.1\n",
            "EPISODE: 968 - FINAL SCORE: 10 - Epsilon: 0.1\n",
            "EPISODE: 969 - FINAL SCORE: 16 - Epsilon: 0.1\n",
            "EPISODE: 970 - FINAL SCORE: 11 - Epsilon: 0.1\n",
            "Updating target network...\n",
            "EPISODE: 971 - FINAL SCORE: 8 - Epsilon: 0.1\n",
            "EPISODE: 972 - FINAL SCORE: 16 - Epsilon: 0.1\n",
            "EPISODE: 973 - FINAL SCORE: 8 - Epsilon: 0.1\n",
            "EPISODE: 974 - FINAL SCORE: 9 - Epsilon: 0.1\n",
            "EPISODE: 975 - FINAL SCORE: 9 - Epsilon: 0.1\n",
            "EPISODE: 976 - FINAL SCORE: 10 - Epsilon: 0.1\n",
            "EPISODE: 977 - FINAL SCORE: 9 - Epsilon: 0.1\n",
            "EPISODE: 978 - FINAL SCORE: 11 - Epsilon: 0.1\n",
            "EPISODE: 979 - FINAL SCORE: 10 - Epsilon: 0.1\n",
            "EPISODE: 980 - FINAL SCORE: 12 - Epsilon: 0.1\n",
            "Updating target network...\n",
            "EPISODE: 981 - FINAL SCORE: 12 - Epsilon: 0.1\n",
            "EPISODE: 982 - FINAL SCORE: 10 - Epsilon: 0.1\n",
            "EPISODE: 983 - FINAL SCORE: 12 - Epsilon: 0.1\n",
            "EPISODE: 984 - FINAL SCORE: 12 - Epsilon: 0.1\n",
            "EPISODE: 985 - FINAL SCORE: 9 - Epsilon: 0.1\n",
            "EPISODE: 986 - FINAL SCORE: 14 - Epsilon: 0.1\n",
            "EPISODE: 987 - FINAL SCORE: 9 - Epsilon: 0.1\n",
            "EPISODE: 988 - FINAL SCORE: 11 - Epsilon: 0.1\n",
            "EPISODE: 989 - FINAL SCORE: 12 - Epsilon: 0.1\n",
            "EPISODE: 990 - FINAL SCORE: 11 - Epsilon: 0.1\n",
            "Updating target network...\n",
            "EPISODE: 991 - FINAL SCORE: 9 - Epsilon: 0.1\n",
            "EPISODE: 992 - FINAL SCORE: 10 - Epsilon: 0.1\n",
            "EPISODE: 993 - FINAL SCORE: 10 - Epsilon: 0.1\n",
            "EPISODE: 994 - FINAL SCORE: 9 - Epsilon: 0.1\n",
            "EPISODE: 995 - FINAL SCORE: 14 - Epsilon: 0.1\n",
            "EPISODE: 996 - FINAL SCORE: 10 - Epsilon: 0.1\n",
            "EPISODE: 997 - FINAL SCORE: 13 - Epsilon: 0.1\n",
            "EPISODE: 998 - FINAL SCORE: 12 - Epsilon: 0.1\n",
            "EPISODE: 999 - FINAL SCORE: 12 - Epsilon: 0.1\n",
            "EPISODE: 1000 - FINAL SCORE: 18 - Epsilon: 0.1\n"
          ],
          "name": "stdout"
        }
      ]
    },
    {
      "cell_type": "code",
      "metadata": {
        "id": "rOymZx4w5grf",
        "colab": {
          "base_uri": "https://localhost:8080/",
          "height": 238
        },
        "outputId": "adec118a-0869-4ba7-9e69-ad265832bc41"
      },
      "source": [
        "# train_quality = \r\n",
        "\r\n",
        "def running_mean(x, N):\r\n",
        "    cumsum = np.cumsum(np.insert(x, 0, 0)) \r\n",
        "    return (cumsum[N:] - cumsum[:-N]) / float(N)\r\n",
        "\r\n",
        "plt.plot(score_record)\r\n",
        "plt.plot(running_mean(score_record,30))\r\n",
        "plt.plot(running_mean(score_record,100))\r\n",
        "# plt.plot(running_mean(running_mean(score_record,10),10))\r\n",
        "# plt.ylim([0,500])\r\n",
        "plt.grid(linestyle=\":\")"
      ],
      "execution_count": 1,
      "outputs": [
        {
          "output_type": "error",
          "ename": "NameError",
          "evalue": "ignored",
          "traceback": [
            "\u001b[0;31m---------------------------------------------------------------------------\u001b[0m",
            "\u001b[0;31mNameError\u001b[0m                                 Traceback (most recent call last)",
            "\u001b[0;32m<ipython-input-1-e3b51c8df3a6>\u001b[0m in \u001b[0;36m<module>\u001b[0;34m()\u001b[0m\n\u001b[1;32m      5\u001b[0m     \u001b[0;32mreturn\u001b[0m \u001b[0;34m(\u001b[0m\u001b[0mcumsum\u001b[0m\u001b[0;34m[\u001b[0m\u001b[0mN\u001b[0m\u001b[0;34m:\u001b[0m\u001b[0;34m]\u001b[0m \u001b[0;34m-\u001b[0m \u001b[0mcumsum\u001b[0m\u001b[0;34m[\u001b[0m\u001b[0;34m:\u001b[0m\u001b[0;34m-\u001b[0m\u001b[0mN\u001b[0m\u001b[0;34m]\u001b[0m\u001b[0;34m)\u001b[0m \u001b[0;34m/\u001b[0m \u001b[0mfloat\u001b[0m\u001b[0;34m(\u001b[0m\u001b[0mN\u001b[0m\u001b[0;34m)\u001b[0m\u001b[0;34m\u001b[0m\u001b[0;34m\u001b[0m\u001b[0m\n\u001b[1;32m      6\u001b[0m \u001b[0;34m\u001b[0m\u001b[0m\n\u001b[0;32m----> 7\u001b[0;31m \u001b[0mplt\u001b[0m\u001b[0;34m.\u001b[0m\u001b[0mplot\u001b[0m\u001b[0;34m(\u001b[0m\u001b[0mscore_record\u001b[0m\u001b[0;34m)\u001b[0m\u001b[0;34m\u001b[0m\u001b[0;34m\u001b[0m\u001b[0m\n\u001b[0m\u001b[1;32m      8\u001b[0m \u001b[0mplt\u001b[0m\u001b[0;34m.\u001b[0m\u001b[0mplot\u001b[0m\u001b[0;34m(\u001b[0m\u001b[0mrunning_mean\u001b[0m\u001b[0;34m(\u001b[0m\u001b[0mscore_record\u001b[0m\u001b[0;34m,\u001b[0m\u001b[0;36m30\u001b[0m\u001b[0;34m)\u001b[0m\u001b[0;34m)\u001b[0m\u001b[0;34m\u001b[0m\u001b[0;34m\u001b[0m\u001b[0m\n\u001b[1;32m      9\u001b[0m \u001b[0mplt\u001b[0m\u001b[0;34m.\u001b[0m\u001b[0mplot\u001b[0m\u001b[0;34m(\u001b[0m\u001b[0mrunning_mean\u001b[0m\u001b[0;34m(\u001b[0m\u001b[0mscore_record\u001b[0m\u001b[0;34m,\u001b[0m\u001b[0;36m100\u001b[0m\u001b[0;34m)\u001b[0m\u001b[0;34m)\u001b[0m\u001b[0;34m\u001b[0m\u001b[0;34m\u001b[0m\u001b[0m\n",
            "\u001b[0;31mNameError\u001b[0m: name 'plt' is not defined"
          ]
        }
      ]
    },
    {
      "cell_type": "code",
      "metadata": {
        "id": "d2FCW0fI5grl",
        "colab": {
          "base_uri": "https://localhost:8080/",
          "height": 1000
        },
        "outputId": "98b0e4da-659b-41b2-b41e-5f224cacfba3"
      },
      "source": [
        "# Display the videos, not required outside Colab\n",
        "show_videos()"
      ],
      "execution_count": 26,
      "outputs": [
        {
          "output_type": "stream",
          "text": [
            "\n",
            "SHOWING VIDEO video/openaigym.video.2.4127.video000000.mp4\n"
          ],
          "name": "stdout"
        },
        {
          "output_type": "display_data",
          "data": {
            "text/html": [
              "<video alt=\"test\" autoplay \n",
              "                loop controls style=\"height: 400px;\">\n",
              "                <source src=\"data:video/mp4;base64,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\" type=\"video/mp4\" />\n",
              "             </video>"
            ],
            "text/plain": [
              "<IPython.core.display.HTML object>"
            ]
          },
          "metadata": {
            "tags": []
          }
        },
        {
          "output_type": "stream",
          "text": [
            "\n",
            "SHOWING VIDEO video/openaigym.video.2.4127.video000100.mp4\n"
          ],
          "name": "stdout"
        },
        {
          "output_type": "display_data",
          "data": {
            "text/html": [
              "<video alt=\"test\" autoplay \n",
              "                loop controls style=\"height: 400px;\">\n",
              "                <source src=\"data:video/mp4;base64,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\" type=\"video/mp4\" />\n",
              "             </video>"
            ],
            "text/plain": [
              "<IPython.core.display.HTML object>"
            ]
          },
          "metadata": {
            "tags": []
          }
        },
        {
          "output_type": "stream",
          "text": [
            "\n",
            "SHOWING VIDEO video/openaigym.video.2.4127.video000200.mp4\n"
          ],
          "name": "stdout"
        },
        {
          "output_type": "display_data",
          "data": {
            "text/html": [
              "<video alt=\"test\" autoplay \n",
              "                loop controls style=\"height: 400px;\">\n",
              "                <source src=\"data:video/mp4;base64,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\" type=\"video/mp4\" />\n",
              "             </video>"
            ],
            "text/plain": [
              "<IPython.core.display.HTML object>"
            ]
          },
          "metadata": {
            "tags": []
          }
        },
        {
          "output_type": "stream",
          "text": [
            "\n",
            "SHOWING VIDEO video/openaigym.video.2.4127.video000300.mp4\n"
          ],
          "name": "stdout"
        },
        {
          "output_type": "display_data",
          "data": {
            "text/html": [
              "<video alt=\"test\" autoplay \n",
              "                loop controls style=\"height: 400px;\">\n",
              "                <source src=\"data:video/mp4;base64,AAAAIGZ0eXBpc29tAAACAGlzb21pc28yYXZjMW1wNDEAAAAIZnJlZQAACmBtZGF0AAACrgYF//+q3EXpvebZSLeWLNgg2SPu73gyNjQgLSBjb3JlIDE1MiByMjg1NCBlOWE1OTAzIC0gSC4yNjQvTVBFRy00IEFWQyBjb2RlYyAtIENvcHlsZWZ0IDIwMDMtMjAxNyAtIGh0dHA6Ly93d3cudmlkZW9sYW4ub3JnL3gyNjQuaHRtbCAtIG9wdGlvbnM6IGNhYmFjPTEgcmVmPTMgZGVibG9jaz0xOjA6MCBhbmFseXNlPTB4MzoweDExMyBtZT1oZXggc3VibWU9NyBwc3k9MSBwc3lfcmQ9MS4wMDowLjAwIG1peGVkX3JlZj0xIG1lX3JhbmdlPTE2IGNocm9tYV9tZT0xIHRyZWxsaXM9MSA4eDhkY3Q9MSBjcW09MCBkZWFkem9uZT0yMSwxMSBmYXN0X3Bza2lwPTEgY2hyb21hX3FwX29mZnNldD0tMiB0aHJlYWRzPTMgbG9va2FoZWFkX3RocmVhZHM9MSBzbGljZWRfdGhyZWFkcz0wIG5yPTAgZGVjaW1hdGU9MSBpbnRlcmxhY2VkPTAgYmx1cmF5X2NvbXBhdD0wIGNvbnN0cmFpbmVkX2ludHJhPTAgYmZyYW1lcz0zIGJfcHlyYW1pZD0yIGJfYWRhcHQ9MSBiX2JpYXM9MCBkaXJlY3Q9MSB3ZWlnaHRiPTEgb3Blbl9nb3A9MCB3ZWlnaHRwPTIga2V5aW50PTI1MCBrZXlpbnRfbWluPTI1IHNjZW5lY3V0PTQwIGludHJhX3JlZnJlc2g9MCByY19sb29rYWhlYWQ9NDAgcmM9Y3JmIG1idHJlZT0xIGNyZj0yMy4wIHFjb21wPTAuNjAgcXBtaW49MCBxcG1heD02OSBxcHN0ZXA9NCBpcF9yYXRpbz0xLjQwIGFxPTE6MS4wMACAAAAB4WWIhAAv//72rvzLK0cLlS4dWXuzUfLoSXL9iDB9aAAAAwAAAwAAJuKiZ0WFMeJsgAAALmAIWElDyDzETFWKgSvGXwSjAgAIotK/ImYTPv38g1Bsad9fB/QPyCrVFWE6tIpRLJ5jkcf2pMV4ER2obKw4RfGqY2nVtv6UVuyCrToIMx+iUXVwbXBlgya1feDyQvvRgWVH2acwFEV0HMfylHF0Sg0ikisVbcvzg0FgouhJv/+jkk1izbV7u8qsZSlwqz6FAL34YeXpafKnJjEVj7y95Rc2awRaiovfAouQADIB8u8i6yp2OnAkhgFriAFhFKu+xGwBZU/G5ufbtJBND+7GiOwL4iLjf+sViVY1pbSIUEnYXCunCQuPD8fpTXIcS6IGPzk5tFWb9WOMSrPXVnY9kJfbrn+c+u84s7atbw9zNu/TFIIF7IU0nL1qM6MrIYCMCVTe6FLJ3VTcaXc3K9tt+SqlG9fvvGkJhwrXLL5Nva5LynHMkfQWGMmrSaTABjgPen5SCAvqnjYshuVAiJ+Ddf0BSatA8A05F49btkCAsJ75GQFiNXM87NaUCPxWofdNnfqvXDez/E6aNUthUtpB3ZNjlNHsWMD7kDri19ProdB0V+r4IyAAAAMAAAMAAnsAAADXQZokbEK//jhAAAENE+nmgAWtLtu8tqtu1QOD/NHFeNL9ZXdZ+O2T+KJ/6dn7yMTTPsajIH+rpT1a9VubSMLQ9paxYoIAkiY/Y5cig+uVa/Y83lisb3TDUJelXDb8YgMD8B/MnIYhOn0R1XciJqcFXAClIpheuX7KQuwCta3vvUZpSlvkEeMTY19466nr2yYK+IDJiKZsKngzJ7tO7UlF78XmQCMjXuBH/SdjsigGi7KtVAjEbgsRHsxxEdhg7PSWtMvtThnu7VNsM9CQpgwOeCd2AmX9INAAAAB2QZ5CeIR/AAAWyJ+AK1Ja7s29kY8tRD2M+j1wUQ6wCae82GP9n5zYMJCwvOfUvJ/MRBkg6jVgxeSt8GcYDYd46bpb1INxv6ry+JXZ31du9/5Kf08kYct38BfoNF2BN91SK1cUnVX+AAEIpNz9T6sTrWjLBdGzVwAAAFUBnmF0R/8AACLDQmnAiS8R/iPzy646oWMwdkH2jciBcvM285HcMmMfI+io7LD9T1xxCaRakyDc60wDviI5SLryf2DetokgAAhYIa8PZm2tSqBsN6KAAAAAYQGeY2pH/wAAI78EJ+4HTovWrpgxDgdK2pr7XzPszbPaW0J/GACZ/ECyVQ/qUx8zxXF6pjtf18HYvpZTjcvIDcrP6Mu7xUkDP5df+suDgkXBgcgAA4QIMXwLlq3a1KoABQ0AAADKQZpmSahBaJlMFPCv/jhAAAEOA7Rp02ADiziRnrpHWuujUhQJtyC6GtlisSKQkjnTvOVR2sZ84BTS8xTcphfaOis81XcUpKJjwZVTzo+kPwrOCIOMG7mt3tFhT1ZCkW9EMc/4946JeRVlW99tZKqvAMDBnl6QJW0LQMm+cpkZGa90vEWccw/JnQ7s5YJISSEgX+5y+cd9NmrL9x+dmE7gCEj34n95edG9xZBOmyL65imGfktmdzDPxx3JIONMiRUa1K6EAlq8J8t/rQAAAEQBnoVqR/8AACPBgQinmcDQ+mNGUUGLTSjmuKWDy39K6DBXIk74zgAAAwAAQGTx7dv05xVn2OyVInpgnW5cxrbVKoAB8wAAAKNBmodJ4QpSZTAhX/44QAABDZMlpD5bGDdD2IuN0gG8ss7E0n3d2wAWtr09Glf1oNwR+imBx4H9vMdyLov8UXH7P5U05xMpyh15ml1g8BU/f+gpXznVdS2U2cwSQZcWKvhkQmN0cnBihgJsiT6+LhLiDh2yrZr51vnbmWluI1FepOCxw0stRH6IeBYu2BfGLvnO/qW6RRUvD6QDUHz3QuBMsCJhAAAA2kGaqknhDomUwI///IQAAA/YYSk6HEAOe0d0FueD4MQ+stYlaLlDz2lRNBZWEh/ZRF3r6v3LrmqKJTshxFcwbzY/wJvmTT2UYYFg6Wdg6fUMRQCAFvTfIfmQkdD5A5yCD/qJVvinKMUuFo0nuEszwSEVU5/KuKtyQ/V9Vz6LzlN2UV8BH0kdv7ZUDUfTCKUJSiGFfqBm0xei4Pc0G7cGQld+XJb+ku7gJsDheMwadLT6MekLz6vEvxKzuGIkGoDw6i5AVuRZIb+8gG0Q+r83DlEsdpDL5GMBoALKAAAAm0GeyEURPCP/AAAWpLuL4tREpp9DPdX2rWb4safKjFogoABOzqH8M5A/2QprnWS+RR7so4PvSLvHi8Kmzydjlz8IS7crHXfwWNhmK8QWLnfZy9WQlS+JNLU7X80LUqk2V/JqhiERFwF5XtvUODWwT+PUtmtXH//aH8Ucjfz6KDTTfjjVI37paHB9D0hfokxIAGaE2L44sZCeEBxwAAAAcAGe6WpH/wAAIzsmUKMsAd5xFFbBQzP5oPTaJyS5ShOgha4tH+vRJdvv+bLm45YPbMNea4JImAoyOlqVurG2ho3OOOyaRQgAIAJ8NDcmRrnkD6nNS0w7QkDf530HWGlFRXolL1R3NAAAL6WR5ayLAUkAAAOPbW9vdgAAAGxtdmhkAAAAAAAAAAAAAAAAAAAD6AAAANwAAQAAAQAAAAAAAAAAAAAAAAEAAAAAAAAAAAAAAAAAAAABAAAAAAAAAAAAAAAAAABAAAAAAAAAAAAAAAAAAAAAAAAAAAAAAAAAAAAAAAAAAgAAArl0cmFrAAAAXHRraGQAAAADAAAAAAAAAAAAAAABAAAAAAAAANwAAAAAAAAAAAAAAAAAAAAAAAEAAAAAAAAAAAAAAAAAAAABAAAAAAAAAAAAAAAAAABAAAAAAlgAAAGQAAAAAAAkZWR0cwAAABxlbHN0AAAAAAAAAAEAAADcAAACAAABAAAAAAIxbWRpYQAAACBtZGhkAAAAAAAAAAAAAAAAAAAyAAAACwBVxAAAAAAALWhkbHIAAAAAAAAAAHZpZGUAAAAAAAAAAAAAAABWaWRlb0hhbmRsZXIAAAAB3G1pbmYAAAAUdm1oZAAAAAEAAAAAAAAAAAAAACRkaW5mAAAAHGRyZWYAAAAAAAAAAQAAAAx1cmwgAAAAAQAAAZxzdGJsAAAAmHN0c2QAAAAAAAAAAQAAAIhhdmMxAAAAAAAAAAEAAAAAAAAAAAAAAAAAAAAAAlgBkABIAAAASAAAAAAAAAABAAAAAAAAAAAAAAAAAAAAAAAAAAAAAAAAAAAAAAAAAAAAGP//AAAAMmF2Y0MBZAAf/+EAGWdkAB+s2UCYM+XhAAADAAEAAAMAZA8YMZYBAAZo6+PLIsAAAAAYc3R0cwAAAAAAAAABAAAACwAAAQAAAAAUc3RzcwAAAAAAAAABAAAAAQAAAGBjdHRzAAAAAAAAAAoAAAABAAACAAAAAAEAAAUAAAAAAQAAAgAAAAABAAAAAAAAAAEAAAEAAAAAAQAAAwAAAAABAAABAAAAAAEAAAIAAAAAAQAABAAAAAACAAABAAAAABxzdHNjAAAAAAAAAAEAAAABAAAACwAAAAEAAABAc3RzegAAAAAAAAAAAAAACwAABJcAAADbAAAAegAAAFkAAABlAAAAzgAAAEgAAACnAAAA3gAAAJ8AAAB0AAAAFHN0Y28AAAAAAAAAAQAAADAAAABidWR0YQAAAFptZXRhAAAAAAAAACFoZGxyAAAAAAAAAABtZGlyYXBwbAAAAAAAAAAAAAAAAC1pbHN0AAAAJal0b28AAAAdZGF0YQAAAAEAAAAATGF2ZjU3LjgzLjEwMA==\" type=\"video/mp4\" />\n",
              "             </video>"
            ],
            "text/plain": [
              "<IPython.core.display.HTML object>"
            ]
          },
          "metadata": {
            "tags": []
          }
        },
        {
          "output_type": "stream",
          "text": [
            "\n",
            "SHOWING VIDEO video/openaigym.video.2.4127.video000400.mp4\n"
          ],
          "name": "stdout"
        },
        {
          "output_type": "display_data",
          "data": {
            "text/html": [
              "<video alt=\"test\" autoplay \n",
              "                loop controls style=\"height: 400px;\">\n",
              "                <source src=\"data:video/mp4;base64,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\" type=\"video/mp4\" />\n",
              "             </video>"
            ],
            "text/plain": [
              "<IPython.core.display.HTML object>"
            ]
          },
          "metadata": {
            "tags": []
          }
        },
        {
          "output_type": "stream",
          "text": [
            "\n",
            "SHOWING VIDEO video/openaigym.video.2.4127.video000500.mp4\n"
          ],
          "name": "stdout"
        },
        {
          "output_type": "display_data",
          "data": {
            "text/html": [
              "<video alt=\"test\" autoplay \n",
              "                loop controls style=\"height: 400px;\">\n",
              "                <source src=\"data:video/mp4;base64,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\" type=\"video/mp4\" />\n",
              "             </video>"
            ],
            "text/plain": [
              "<IPython.core.display.HTML object>"
            ]
          },
          "metadata": {
            "tags": []
          }
        },
        {
          "output_type": "stream",
          "text": [
            "\n",
            "SHOWING VIDEO video/openaigym.video.2.4127.video000600.mp4\n"
          ],
          "name": "stdout"
        },
        {
          "output_type": "display_data",
          "data": {
            "text/html": [
              "<video alt=\"test\" autoplay \n",
              "                loop controls style=\"height: 400px;\">\n",
              "                <source src=\"data:video/mp4;base64,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\" type=\"video/mp4\" />\n",
              "             </video>"
            ],
            "text/plain": [
              "<IPython.core.display.HTML object>"
            ]
          },
          "metadata": {
            "tags": []
          }
        },
        {
          "output_type": "stream",
          "text": [
            "\n",
            "SHOWING VIDEO video/openaigym.video.2.4127.video000700.mp4\n"
          ],
          "name": "stdout"
        },
        {
          "output_type": "display_data",
          "data": {
            "text/html": [
              "<video alt=\"test\" autoplay \n",
              "                loop controls style=\"height: 400px;\">\n",
              "                <source src=\"data:video/mp4;base64,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\" type=\"video/mp4\" />\n",
              "             </video>"
            ],
            "text/plain": [
              "<IPython.core.display.HTML object>"
            ]
          },
          "metadata": {
            "tags": []
          }
        },
        {
          "output_type": "stream",
          "text": [
            "\n",
            "SHOWING VIDEO video/openaigym.video.2.4127.video000800.mp4\n"
          ],
          "name": "stdout"
        },
        {
          "output_type": "display_data",
          "data": {
            "text/html": [
              "<video alt=\"test\" autoplay \n",
              "                loop controls style=\"height: 400px;\">\n",
              "                <source src=\"data:video/mp4;base64,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\" type=\"video/mp4\" />\n",
              "             </video>"
            ],
            "text/plain": [
              "<IPython.core.display.HTML object>"
            ]
          },
          "metadata": {
            "tags": []
          }
        },
        {
          "output_type": "stream",
          "text": [
            "\n",
            "SHOWING VIDEO video/openaigym.video.2.4127.video000900.mp4\n"
          ],
          "name": "stdout"
        },
        {
          "output_type": "display_data",
          "data": {
            "text/html": [
              "<video alt=\"test\" autoplay \n",
              "                loop controls style=\"height: 400px;\">\n",
              "                <source src=\"data:video/mp4;base64,AAAAIGZ0eXBpc29tAAACAGlzb21pc28yYXZjMW1wNDEAAAAIZnJlZQAAIzJtZGF0AAACrgYF//+q3EXpvebZSLeWLNgg2SPu73gyNjQgLSBjb3JlIDE1MiByMjg1NCBlOWE1OTAzIC0gSC4yNjQvTVBFRy00IEFWQyBjb2RlYyAtIENvcHlsZWZ0IDIwMDMtMjAxNyAtIGh0dHA6Ly93d3cudmlkZW9sYW4ub3JnL3gyNjQuaHRtbCAtIG9wdGlvbnM6IGNhYmFjPTEgcmVmPTMgZGVibG9jaz0xOjA6MCBhbmFseXNlPTB4MzoweDExMyBtZT1oZXggc3VibWU9NyBwc3k9MSBwc3lfcmQ9MS4wMDowLjAwIG1peGVkX3JlZj0xIG1lX3JhbmdlPTE2IGNocm9tYV9tZT0xIHRyZWxsaXM9MSA4eDhkY3Q9MSBjcW09MCBkZWFkem9uZT0yMSwxMSBmYXN0X3Bza2lwPTEgY2hyb21hX3FwX29mZnNldD0tMiB0aHJlYWRzPTMgbG9va2FoZWFkX3RocmVhZHM9MSBzbGljZWRfdGhyZWFkcz0wIG5yPTAgZGVjaW1hdGU9MSBpbnRlcmxhY2VkPTAgYmx1cmF5X2NvbXBhdD0wIGNvbnN0cmFpbmVkX2ludHJhPTAgYmZyYW1lcz0zIGJfcHlyYW1pZD0yIGJfYWRhcHQ9MSBiX2JpYXM9MCBkaXJlY3Q9MSB3ZWlnaHRiPTEgb3Blbl9nb3A9MCB3ZWlnaHRwPTIga2V5aW50PTI1MCBrZXlpbnRfbWluPTI1IHNjZW5lY3V0PTQwIGludHJhX3JlZnJlc2g9MCByY19sb29rYWhlYWQ9NDAgcmM9Y3JmIG1idHJlZT0xIGNyZj0yMy4wIHFjb21wPTAuNjAgcXBtaW49MCBxcG1heD02OSBxcHN0ZXA9NCBpcF9yYXRpbz0xLjQwIGFxPTE6MS4wMACAAAACH2WIhAAz//727L4FNf2f0JcRLMXaSnA+KqSAgHc0wAAAAwAAAwAAFgn0I7DkqgN3QAAAHGAFBCwCPCVC2EhH2OlcSkf8Hq8tBqwErmKBt3wrB1QcoSeg8UPiHcVhqNKbKy9jmjcM4aVx5iviTDHeF1hAP5zeHL/3WLGyRLHO+RtNtG4hpXLvs603hWHiXViSbavYjiZz5SjH0vGjRdbXirTMvPoCcDvthSw17QTNxBm2GJIO2k4+KuAAXIc2Ap3Jc+O1pr5grGRO+d8OYSV5oqqWXOiiJfR/+dKDjnLBP1ykhJdL7UVUUmCGNhGaHsoREOMzAap8H3WWSQ8DPNxIkCCegU5D7ldNvbC+YNiMkPhh/+5ow7NZFhGrqcZcEcpnLWuZsy3RpLQ7yFjbHFwGz/F/Z0XSjLPI2kFGa/kACmDdKihO4zuz/0AvgBAPyYDUCGK70378TAg7BzGWFCXfkLigrLxJEOfcsMnKuQ2aVjeVEeE43s64I9T0k52GSUYvA6YxCjwN+5z+L6HLwAmTOFbz1BkJpjG9xSj9j942CzcjI01hv3WBJKnpiZDtbjjMwYXzyKRkgxvUtwxHaJIE+0/G/8pcs0NRpxdqG//mfc5MUiZ755MxFjeY99cwCF/9xV4jdBWGR0i5OBaT7B9ama0cZvbR2NOzRx4TZVFgY98k/zuhhxn+7ExYSt8/sCW+D8+B9mas6AAAAwAAAwAEBQAAAMZBmiRsQz/+nhAAAEVLVqSAEQcjxzx02QZ30yFG7YLeycwjvw6ObelZij7ohdZW3RsrAuRGdaocepk9bmugz156TFPLGVt4+z0BjMUeR3LWf9Ba6OtNCweRMF1NSrQmVBmty1pTu7ZBVTEDSwxqduqq2L/wZqZjc+ZmdoPG930UFSjJ8unl0DBtoqQkofIKGKxxS8ElUpimTCqKu6/LUwJ5oYchPMm/RUAmO7GVESqgAAFnHFbkhY+kFqW2hqfCr4mucox4X0AAAABRQZ5CeIR/AAAWvl1EG32xYQ0KjB79/pm5N4BhgHEZ7H4zYAH7M9MhChhDlFkSzv47ihpuJOgo3+VpdXDOSVlq2MHrUAAAAwADErA5J3rsMsETAAAASQGeYXRH/wAADXdGjqRWbLadmQO8TEsBVLp/O4hxxdLQAIfc0+KipkqmmZsuqVlFNAlBH5dJaZSoCg3wAAADAAN6GYV3cZlgUkAAAABUAZ5jakf/AAAjea99sV1OgN5AikdK8njxXFaszA+A3kKu0AF0AGuddVdHHV2swveaRmXs/HP1vzUW/tP5AfVtHfeUFRW6Tw6k3YAAJWZ5mhEwgNSBAAAA0kGaaEmoQWiZTAhf//6MsAAARjEu8M3wAjtafa1kamN8wa/om+hmYeOtaUDTqBA1i0SrizD0Hx3783m5IPAkeMdJeEoB1aSDyl7JaquLVC4JbQGFK6ICjaPc/0dQEydkqYbHCU0CY3iGMdkg6lfYvz3k8bR5VMZHo332/KbA1ifWt+kriLEQWT6HcBHZHUhSlEA5MVswupPJDEXgjOLvI2tMoREsN7d8QNUe2A7wjY25vWnu3voXRD5GyvMsBDtnan6x1RmaLiHYxJ1s8KYYSAVk2QAAADJBnoZFESwj/wAAFm+XxUE+kdjXoG/k/h92rrhi8xIXDKAeKyybGKd4uzMfkNS+qBKZgQAAACABnqV0R/8AACOr+Ft4Ep1rIS93OQgqBWmwa2maV2w9YQAAACwBnqdqR/8AACOYeHZ9RVyQRDksN4QAsEM/RS/LaK8ByI/nsyK4OVI0JnhkkwAAAMlBmqxJqEFsmUwIX//+jLAAAEYURaLcAmkdvSAHhc7LYEdcX3bFmx/ui6b4LIKG/Tvb6xWNTmTVyy8VXQX3xysbeUmy5DNLCxFasS6TbfJgikds+hOZ2l82gd3S+onLCEa/TWySy6V42CDVueRqpm804LKq+dhysKNWHbbRAgYCVa8ju4KfQa91ZEmvvww4qn1g5lxwAXdYkPcV4vWVwxIZp19FQC1MT4ESTNhmZmRTTyqI5sW8aFz7tc986yNuHjh/EO1qL/Pyvk4AAABPQZ7KRRUsI/8AABa1KzPaT4v8conn6h+R3Iy7GgO6pC3iM7HfUwdTqQZBQjfl3szAncez7gvgBLZLu5k7Ig/0Ckv5h3l1sekilleRHo6uVQAAAD4Bnul0R/8AACM9ysCK7FQeuGw1boO2kmz8EskfhZqZhd1BuUedk0bGIMzrjFi0VvNr/pAo5oGhKB9p68IzcAAAAD4BnutqR/8AAA2CTtmyhC6ogaBMBdG0z/v7XBp1qnqKAZnAw8tlMliMXimHE4AJwgltsvKHQFgSpzWUKjripAAAAGxBmvBJqEFsmUwIX//+jLAAAEYDcT4AT+gTnK3x6bneVO2dodA5IPB39BI01sMluNliddaZMjHqdwWAuV+DKw4zfztWBFyGx0+UdgXIiftRDiefF/ThdPuzPKp4cYTtBqYGGT0YaXfPVdAiZF0AAABNQZ8ORRUsI/8AABa8Q81+S6EST4h/rWkwAeDpJ9+3vJIcj5nByl1g3qpAAWohsyBreHgP0fh965Wni8XKLD/elV3HbXlgKtHAVi3vmRcAAAAwAZ8tdEf/AAAjt/YIboqQXyNL9YDCc0YlKVH+eGPs4ThJ6I3dUTagA9/WR8XZg9e5AAAALgGfL2pH/wAADXpgamACvR6pJ7vxILpUshuhH2RcwFsVgwAgYbKNbCVfmR7s0hsAAABgQZsxSahBbJlMCGf//p4QAAAaY4YF7KgA1Djnkw0qaATOL+Xo82TZIcFnw2MtyWz4dG/71bvQQ/Hjpf7eEQQ/TAFnb4zbkUUEXcZu2WDg9L54a5DcULw4etZcLpQt5BlcAAAAc0GbVUnhClJlMCGf/p4QAABFVKs+4/4jOHylA8SErGHJZUeeDNYGpbAh63I4NJ3xcF8SnThXhgLeQANJ5H2xWfGD7ytFwUQ+vOA6FGuUTRUo1WKwzT8SFacQPIGQf1l7y/Q6dbG+Qj6/3YEkK/slQiC+9YEAAABDQZ9zRTRMI/8AABazLAOkjm/L75kEYM4a2U27w9r7JuqzVLD2eZlX0/zngIlwEZ0AErOAhfTI0GkN6rY8KUIeVUfuAQAAADgBn5J0R/8AACOsQeS2kno8auMeY4QlYBQy5Qt76raYlIHknZv0ABL1Bo3H+sLiIHPGxxIYhc673AAAADMBn5RqR/8AACOlhZAHBQeWrQkYSIB0shr3Hb59Y8roqJAwMIZTHu0nbIIi7QqG9I5+m4EAAACvQZuZSahBaJlMCGf//p4QAABFVJiqCIMaAOYe+j81RiJUJeaNcwd2UxewJhCrKvdijYZfz3TfWY24T3TIIVNhQOHksIa2isWvR7u6fNw2N6U22d89AR/6nISwVkwH4zu7ko/EEvxp7VG1YooiLBwNcpZp7ptM53e05ZEBD3ck+MowHzpbBBkuvgkPfpcNG1/H1RGv94Al4hOzgtEjnsjUbfvQxzbtz/nU6J1kFUoXgAAAAD5Bn7dFESwj/wAAFrMr+UB4LD/Vdq+0j8BlM7ellMfR7ztaHoh9MXYSMfuOUvSKdAlhTUsjq78QAJsnKqcURwAAAEIBn9Z0R/8AACOpzsWTFAMqdd7zXbeXhH8Nj8NSkA0NwU8P108xnBr6MJf9ABOrlojxZPCliv/kXyZoY1req8b8vlUAAAAsAZ/Yakf/AAAjscwPe/Ju2C+2f3Rom2bkpv56t+/9of8z7SLy/+pUInhu/4AAAACFQZvdSahBbJlMCGf//p4QAABFum8+wNhgw2mt1EWbb6JgBdU8W/FLK7OaRkEmerqoYuRnLLnkKXbD6lrLV4v8crbG4AYLvtDtwAtWriFvaV1E86nVX2WxgLEZaFiLUu5LrR4NXjDbdMDN7SvBIraL1yo9GI9ZktmFUahwTux62gOqIp4giQAAAFdBn/tFFSwj/wAAFqma80A0S8YTxsPlGq5oMHH4gaIyIRuvjdwUBfJ93kaL9nAoM/uA+J6ZQASLdAdP6k8CenUauoTCJDmPZ8/STKfi9+b58yvrUCEWBswAAAA4AZ4adEf/AAAjsKLrYaWMfAn0HEq8zwHXOpLzSPxpss8cVQ1Gpqg4Ltsfc5qRmes8/b6GuVQCojEAAAAzAZ4cakf/AAAjsf1T2NKBWFzJMy0EARywKT4YXcF33fPX1TiSvpTCKq061nMagA+/I/vRAAAAXEGaAUmoQWyZTAhf//6MsAAARAE08kAHGQscaDab1eTozgnMujePKYD5NliLK6R/D5tJpv81ZMlHrjHSH/jgLbGK4uVKSdrUOYftMYAqbYn68tmldKNyRNSFwguAAAAAU0GeP0UVLCP/AAAWK19wzeH8dcpawIYvhISKcDzbw1HNRAcy1wrbzA3n5PMatFaSroUaL18fAC3LH4wlWRjCXEoOPjy1kwJ9Dy30A5bKetftj03JAAAAQgGeXnRH/wAAIp7JNnXeSexUOO6pQwwZcfA04SHXg4V7bVkn77Qf3u7qUVy6mylhf8lwAP4XMcgEye6qNBmfLekW4QAAAC0BnkBqR/8AACI7kMV13NAtGKo3Ulf04Ou/ToiOiGuANcwHb8mmNXLNdAPW2zAAAACNQZpFSahBbJlMCF///oywAABEEKfykiABxgW3RaYtFJsFCLS1FCuRniCqwaGjjBVDNmjAcn87HDcV9o+Jp73X0/x/w7+8wTl7mbBJxvaFX7b/We1o0+Kx4qjPLizpmbN9sVcOhPHWgTDRt0Oub3qUN/TPr9x4fWtnzpN4AJb8tgq5FVW5BNXEJbdPbVBBAAAAUkGeY0UVLCP/AAAWG2DsG5+AEebhqhoQD5TGmFX6e9p5R2vhalATDD8Cc7q/oqcJSHmKrw5E8ZUfbAPhuMKXb5kk9d1f1NjxLfuXP0Mdmt26+2YAAAA1AZ6CdEf/AAAimIYBc9C9Q2waf8s1Gw+UTurxsvKZ4NpkiI9915M+0ix/DCjtmHpDKqbLDt0AAABNAZ6Eakf/AAAirXdJgCI3CnSbePjM6sFWcnLEbsgJYTq5RJhOWf7YBq81oz8h6H02OBs3ri9J55ol7TbC+YphgLdOnMk4S/QJO16G24EAAAByQZqJSahBbJlMCF///oywAABEem9Fd26NQ/ZvgAsPU293yHRTL3of5ekHMyHmlnn/gUh0me2P5sinfZJmSnC6GQxcPjxL88klNDuG0YydRkCS3lCXmQvC89/o7s1mIpdJJk6NCuDjpmOYZyh0KbIpkrZVAAAAV0Gep0UVLCP/AAAWIf2oHD4ZNy6LAN7y5FnrNcrbDMOgs6Gf1+Aq1DxSmabfxUcSVCv/QtOJxDGnG4GGd3bjFRtUfMo87gAsDFrbaWIXMBP8+BOePka24QAAAD0BnsZ0R/8AACKpo5tp/1hpJFn8L7+k3gufJJlAq7Xrf7n+0JkLq5RQOyaQUoN1JivipiLGRACwfC47vTJMAAAAQAGeyGpH/wAAIr02vnlPPw5yWag7JWFKmvtit2NlIJQthZwsxz+8JIS44q+uHq9mXAJ+hEg/DUSAfUeFYgn+2YAAAACUQZrLSahBbJlMFEwv//6MsAAAQiUjOnzJYAiY0i1vYhGjrP6Br+L7uQasUUvTfmabNvuTBmygrJcWZiAsFwDO4eim/3GnXcnQ60V9MTyUtiRdyvib3bn4uHtoWcPVG8rs+7nXopa7E0wGSEgv5fyH8USv5hecMd5tPUcK2lfydR8G9iOrsF4OBMotY5F26QfKbWTWwQAAAEwBnupqR/8AACKx6HdPujpPjMzH7iD4wd3W2444PASpOFqOnHiDZU0W5gUqrPckxJKO1xc3NIKCAB+t7zPNjM8wcnyEhLVMSGlRGMpUAAAAuEGa70nhClJlMCFf/jhAAAD9mYyunFgBYEpwi1OM7iwI7sBwfxebYE3K9FqZqdkySfG/WOwH7tLdhcz65ofvmdeMd94HkxLEGvmCQnq8+uUUR40thyXjoUnHFQo/w9ed8nL6nk1YyR+tZ3O4IgDL4Khtmtm/ffd0Oed4MTiR+o5cbRZpYIwmE3gi/IeHlQM8gcFfS/ZVIIAb2bua9veLUJ9yrTNGQJmc+wJtjQJB5F8206QsCepLeCAAAABpQZ8NRTRMI/8AABWKSrT5MLtiQGFupDXrmRjAKACvqAhwsOKEVVv+wcqs2U+MpQ0y28F3KIsYBMw1qVKzgXMkDiS+3FC0cwxJbZFwTJeNc7k2Rtp1sJsodud9bSxtwF7/mmygcklUdoYJAAAATQGfLHRH/wAAIZoqwiXbJWJGrDZ7kwjZKVu45f7KVG4gN3OH/zOXp4Ds4BXthgg0Y6+ACaugd39m8qysebczpO88iNox0CoASy7wdTJXAAAAYgGfLmpH/wAAIa5NthHURm22tAcW6KaIRZyFIn9gFLjbNFdzRjQyeAHl0BCgyvlB8dp7S2MueUuGQjRWsYXwa9FwARBpc/VUH/gSADUgD/JmkgV11skIbTROwWCzW/IHJIhZAAAAgUGbMEmoQWiZTAhf//6MsAAAQgKwgwAcWeYLQxs58xXlijDal7JMEfM+YPd78/3Ht9UlATyol0oXVZ2ZPBtEoGcMKAqj5MfdrUi8aDonUzPEdbKvSe+/yqMqfhnBWARV096bnlDJUOiksBuoOkRMlCXW02gVM9gveI10y6mdo7YvMgAAAHRBm1NJ4QpSZTAhf/6MsAAAQhCd8WNSziIAiOWL6r1jqtKpxmAk7WDpSGZq7AD57cND9af4gMS4Qm1IghQNQiIYwAGu4/Xgcr2cGxAovyGCEL7sHRRj9GDnL8Io0Pk76N+U7WFz8YpMHn6Dn72Y61ZCG9IWcAAAAF9Bn3FFNEwj/wAAFaAyIxJAC2K26FYgdTXg1CdFIfKSDKGzKOhWmxtTOqk6R7UfCNQKOlWkXpTB/OKn0oRoWXmPDXDPIoqwWGqGeU4/EZurZ7yDQTjMLwsDAeCZvwUZIQAAADQBn5JqR/8AACGtRX6PwoWQuNIQjEfZ/SZRqQcTX/3cGOMfRdfyjrSaPIk9gH3HR5Z97jkVAAAAlUGblEmoQWiZTAhn//6eEAAAQbpvQMj6c7dK4AWz1aqHFZZvtKBj7d7vTVTUeZ5hpFmoSBMOM4qTjrn+Nu9AAIrtXl5bxDBhqYy2wnnbpI6347d3J/hOlk+hp3e9tMn138eZxhaIHAUUDP3ufGsIBmylRwDhraM8B5l07q0f/J558gDsrSURrr31QfbWI6J+/JMFNaMwAAAAVEGbuEnhClJlMCF//oywAABAAaRtl0LWjVbWjtaQhdIc0GVAA0WO6y13W0Ns4/oWzM2OYOU3J09f4KLwmSm3/ygOgpTHS6BQTHsZll/5DBboWxt/gQAAAFdBn9ZFNEwj/wAAFQs2lY5mv2UiACauorCE7Q5YcdVVgXQ9F/xtjEVPTroL6Wo8rerqMLeND1HWYQzhy4cbOo7hg3oN7NSwuOgcbTI4+cVR85GJ4WdbU6YAAABLAZ/1dEf/AAAgv/8zv+2gAugBT+ja/FhEqXG3U6THuvHF0rmbtmZgTr+9oWHgqPWIbdTnrL/eFo2DCZwew3k3ppoIoK1nqXPbNh0xAAAAKgGf92pH/wAAIK1F5nDfPDBbigjzRhMdADGFsKrgZuUBD+PmhTS+NKlZgQAAAKBBm/xJqEFomUwIX//+jLAAAEB6b0GN3/mt5NFABxmDlYO58ZMoqy9htrzPM7cAhBcendWtWHHI/2gEhR1yhEvN/F/k3IiyRjAcOjmmsVHVJ9kEOixYErwOwAe4OdsvOlumoMOiP5SfnW32piMDramQxvAM4y5loPyrgCXbxvOIPy927X706LC+9E6+Ljp2hR1/Bg/k+f/HoSBZWdv+dZbAAAAAQUGeGkURLCP/AAAUvex1nQ5iV/mFR8lACS6vg9ZRRTk9Gmqgel3v3WszY0ePQLAdmayB2HHwM6dQhSc1LGm96jyhAAAAJwGeOXRH/wAAIKlAPvUOoI3CdHM/2lgxzlIs5aGRWzOIeNhwfiYswAAAADoBnjtqR/8AACCx5gqnZPjeVLVSI8kH9OftwcWx+/V3/Az6gw8paxIdxugAg8Ge5U/KrLqeezzO7a1ZAAAAhUGaPkmoQWyZTBRML//+jLAAAD5rFomuQAR1uBL5chxlt8+mk+54qbwoYt6h26reD5510hdOEr6YNcRlqtDClkiYhi8XU7q1i9VURV88Mm9pRG+x3UrvUdoa7Nvi/WZoajfKeLAXwdNF/pMUPvN9MgNzGjzm0xQPPe2vyiFfrSKO7MyoLWsAAABCAZ5dakf/AAAfpr1GJRUKSkQSuprl1nVAsC4H/VpJBZXB8nw+RNFOoUTHHnyAK6U4npAAP3NJb1/AFv9oOVSk8AnlAAAAuEGaQknhClJlMCF//oywAAA+vCc/3VoDKI8AHFnaHPmgRg8NP2uVuRlKnJDHivexv6vHgMqlKMgYMl2gFvsIW4ju9E8xaarR9C7I+CgelHO7Lli37D3RUyhCGNI+CoDFL6hA/JU6jwPaXwsuqbrfVJSANB/4SB8is1PkwKeViNANFCuTKvOyj1QtBf4p3NgeRVPDAcZ0FPqc5lHxNUvj90XaIWh5pC93WQcuuIFD8z6CFD9PXUbHq8AAAABlQZ5gRTRMI/8AABRyUH1CA3qU5wWR8uDt18ZlZCW4A4/O05f/QW2JTHaEj4QyELAeDDFNq/uYQo2M8Wou3sTF/1FAB+zPTFPFHDROfrfyoDieKuT6z7tn40SNPsciydXgLumhs7sAAABFAZ6fdEf/AAAftnJAjilYSi2tJ2mW2FVFZ7Z2Vpn9pw225Tz0oWvvzFco+l8nWlrlreBPJp3hpxfRd2IHA5OjMlPXRhF6AAAAPwGegWpH/wAAH7ymw6vGpUlrFrftg9N59LLBlfRj0w1QzPzDlVYeS085vHkvFcJ5F6TdTuquJh0zkVsoRehKgQAAAHlBmoZJqEFomUwIX//+jLAAADz8u88zgCt29SQSdmG3jAoeuY1xNZlPaII/Muo/1b6mRmDM1BoAj8krf5FYg4Xarr9TgHZ+u0W8YLlS4BTSaIhLbpaO8Xn9PWIbrcFXkyWckDBYr5q/YJVaZyfhxGMJHOA+kL2Vn7agAAAAckGepEURLCP/AAATnewh/gBHuAhlMampcDzeHs5UjjUF+rVUoOqm1exV9WtU1glx3WDNwKiSnPSl2yHRqozopeuCpPfayJ4AwzmqkPIKeRMT47KgYupGmAxMvP4hnDZKamrNVi6+razZeLfbPqnKORlXHQAAAEUBnsN0R/8AAB8YLQzOvEEh6YRZec8vUnS5pGm3pdzIb+ozKOTDt72mQ5DEy/6CwUcSIW4b3z2k/6uXZ+xJvhLKkARTZd0AAAA+AZ7Fakf/AAAfFmN4BCvAdc2ZU+9vFnTzwexYT84Pqvo6SXcd6saq2htzE0AUEPtxukDFYJgizWTxsIdJFsEAAACcQZrKSahBbJlMCFf//jhAAADufgsfiOSZ8UojgFQj2OYKTWXW6HXM+G5rCn4E25zBAV5rSfEjAA+vRkeAxiRjBUNN2DbngdvZ6Ylgc175po9Z7FXUi2H1iQJsQWkWSlsJ8rok89GOAyDx7tZ6EGz6eDAjNuKNb8842/we0T+x2SD1NOOWhIFRtGCDDca8FMyB9nE7K/6FAmcLQCG9AAAAXEGe6EUVLCP/AAAT5RlEvqaofDad9TFeap9WDvh13gPNhoBFRuLZXrk0hEFzxFKRfiPM8TMNQIANuTQ4K8typhjKOaT1Fsck+0OacBzbpAQWLSM74ldELRX+7UgIAAAAbgGfB3RH/wAAHyfJgGr2j4ijGhDRaZWfJMRT3zuV7JAr0lEa34xXdCot/PDpJQ3WThzPmb7r9D3Y+eymjNIA5i6zhO56fVF6+c7SPqZlAEHCCa2Jq4AVGweI3yq9hFHRX5Pmvjs/7fG08ek0KMu4AAAATwGfCWpH/wAAHmZ6rfABulUjFE9i9w7Gq/zGuCaoV/52Y6Ct1PrZaM2SJIuT1X0VYAX4Y7c/Tkn2arQSxkdPJRyrkpzxAeI9Tma7OA6gPccAAADFQZsMSahBbJlMFEwr//44QAAA6DAYsIuCMdKV4Aq8QUqi+Slkv/AQ2E6KvluWFk39RiFqdg47uZcY97D1Dbxp1+gbFoCFa2LN5djrFxx0Zfi659YFcX3LMMqVkf+lwt7tLjiNTpW24C06hyo6//+wr6k36wLIP38OepO2601H/xx1YOJCcQ/IEny6XweGX23b8YT6gP+UQp67WBdz/T8vtJ9Pgy/AwJmjerEiv8wBWmQv+2uvwxdJ0jQNuhDadKlKF18heLgAAAA/AZ8rakf/AAAebkIhRgBusQvOYGSM5LVIzhbNdfCd9JGUuGaSP3SGYxYa2cxCdqJgDx7Wg9cZcfQ5kNo0VMWAAAAAy0GbL0nhClJlMCP//IQAAA3Mv3Xgw7NKPDZFNkAC6gELEwj3Mz62Cdt1HMp2aCVRtIi14mfyxg4jtTJtMSey7YGf0iH+eeQqD/RzKcMo3m3BoOK/ssl62f6/Cd2zstKk/nA2uKscPPIMAl5aNrOE6ucjHhL3MrDIQ5nEzM4XooWj3XwFp8XTEmwZ0J4UbBodkFXs0PigXk0vF0raUkkeqBJsSwA412d0o4pKvUqedWWirogKbricbg3FF57HWLBbMWatkt+8fuj8yMlLAAAAgEGfTUU0TCP/AAATXZsveAIjA5xEqELq1h9qbrBSacb2zw6u1109tnUPVVWZ2vdM25QDaexZjFGDtgqCAeWv7J8fg+oelM2H19ouIwmkdGFu1QLXU6Jj/90AAXHFV7TzTnZo/MSjgG+PnGZiWuC1eK24c7/1QceUZmBz+kYTNEVbAAAAeQGfbmpH/wAAHmbM1k6UY3sCZIJB1NfYNAQ8cMu4QfcEMMOWtxjNCuYCQC2snVsi4jm3L+PAeeE0AJajauriv814NtsFkHMF5VlfxsFXLmsUGkoMHwE//vMmWecxMboWr/LowAi1zvNlnPGUh6CkmxO82vhiwZopkVMAAAbDbW9vdgAAAGxtdmhkAAAAAAAAAAAAAAAAAAAD6AAABkAAAQAAAQAAAAAAAAAAAAAAAAEAAAAAAAAAAAAAAAAAAAABAAAAAAAAAAAAAAAAAABAAAAAAAAAAAAAAAAAAAAAAAAAAAAAAAAAAAAAAAAAAgAABe10cmFrAAAAXHRraGQAAAADAAAAAAAAAAAAAAABAAAAAAAABkAAAAAAAAAAAAAAAAAAAAAAAAEAAAAAAAAAAAAAAAAAAAABAAAAAAAAAAAAAAAAAABAAAAAAlgAAAGQAAAAAAAkZWR0cwAAABxlbHN0AAAAAAAAAAEAAAZAAAACAAABAAAAAAVlbWRpYQAAACBtZGhkAAAAAAAAAAAAAAAAAAAyAAAAUABVxAAAAAAALWhkbHIAAAAAAAAAAHZpZGUAAAAAAAAAAAAAAABWaWRlb0hhbmRsZXIAAAAFEG1pbmYAAAAUdm1oZAAAAAEAAAAAAAAAAAAAACRkaW5mAAAAHGRyZWYAAAAAAAAAAQAAAAx1cmwgAAAAAQAABNBzdGJsAAAAmHN0c2QAAAAAAAAAAQAAAIhhdmMxAAAAAAAAAAEAAAAAAAAAAAAAAAAAAAAAAlgBkABIAAAASAAAAAAAAAABAAAAAAAAAAAAAAAAAAAAAAAAAAAAAAAAAAAAAAAAAAAAGP//AAAAMmF2Y0MBZAAf/+EAGWdkAB+s2UCYM+XhAAADAAEAAAMAZA8YMZYBAAZo6+PLIsAAAAAYc3R0cwAAAAAAAAABAAAAUAAAAQAAAAAUc3RzcwAAAAAAAAABAAAAAQAAAoBjdHRzAAAAAAAAAE4AAAABAAACAAAAAAEAAAUAAAAAAQAAAgAAAAABAAAAAAAAAAEAAAEAAAAAAQAABQAAAAABAAACAAAAAAEAAAAAAAAAAQAAAQAAAAABAAAFAAAAAAEAAAIAAAAAAQAAAAAAAAABAAABAAAAAAEAAAUAAAAAAQAAAgAAAAABAAAAAAAAAAEAAAEAAAAAAQAAAgAAAAABAAAFAAAAAAEAAAIAAAAAAQAAAAAAAAABAAABAAAAAAEAAAUAAAAAAQAAAgAAAAABAAAAAAAAAAEAAAEAAAAAAQAABQAAAAABAAACAAAAAAEAAAAAAAAAAQAAAQAAAAABAAAFAAAAAAEAAAIAAAAAAQAAAAAAAAABAAABAAAAAAEAAAUAAAAAAQAAAgAAAAABAAAAAAAAAAEAAAEAAAAAAQAABQAAAAABAAACAAAAAAEAAAAAAAAAAQAAAQAAAAABAAADAAAAAAEAAAEAAAAAAQAABQAAAAABAAACAAAAAAEAAAAAAAAAAQAAAQAAAAABAAACAAAAAAEAAAQAAAAAAgAAAQAAAAABAAACAAAAAAEAAAUAAAAAAQAAAgAAAAABAAAAAAAAAAEAAAEAAAAAAQAABQAAAAABAAACAAAAAAEAAAAAAAAAAQAAAQAAAAABAAADAAAAAAEAAAEAAAAAAQAABQAAAAABAAACAAAAAAEAAAAAAAAAAQAAAQAAAAABAAAFAAAAAAEAAAIAAAAAAQAAAAAAAAABAAABAAAAAAEAAAUAAAAAAQAAAgAAAAABAAAAAAAAAAEAAAEAAAAAAQAAAwAAAAABAAABAAAAAAEAAAQAAAAAAgAAAQAAAAAcc3RzYwAAAAAAAAABAAAAAQAAAFAAAAABAAABVHN0c3oAAAAAAAAAAAAAAFAAAATVAAAAygAAAFUAAABNAAAAWAAAANYAAAA2AAAAJAAAADAAAADNAAAAUwAAAEIAAABCAAAAcAAAAFEAAAA0AAAAMgAAAGQAAAB3AAAARwAAADwAAAA3AAAAswAAAEIAAABGAAAAMAAAAIkAAABbAAAAPAAAADcAAABgAAAAVwAAAEYAAAAxAAAAkQAAAFYAAAA5AAAAUQAAAHYAAABbAAAAQQAAAEQAAACYAAAAUAAAALwAAABtAAAAUQAAAGYAAACFAAAAeAAAAGMAAAA4AAAAmQAAAFgAAABbAAAATwAAAC4AAACkAAAARQAAACsAAAA+AAAAiQAAAEYAAAC8AAAAaQAAAEkAAABDAAAAfQAAAHYAAABJAAAAQgAAAKAAAABgAAAAcgAAAFMAAADJAAAAQwAAAM8AAACEAAAAfQAAABRzdGNvAAAAAAAAAAEAAAAwAAAAYnVkdGEAAABabWV0YQAAAAAAAAAhaGRscgAAAAAAAAAAbWRpcmFwcGwAAAAAAAAAAAAAAAAtaWxzdAAAACWpdG9vAAAAHWRhdGEAAAABAAAAAExhdmY1Ny44My4xMDA=\" type=\"video/mp4\" />\n",
              "             </video>"
            ],
            "text/plain": [
              "<IPython.core.display.HTML object>"
            ]
          },
          "metadata": {
            "tags": []
          }
        }
      ]
    },
    {
      "cell_type": "markdown",
      "metadata": {
        "id": "JkG9iDZTIhzc"
      },
      "source": [
        "## Final test"
      ]
    },
    {
      "cell_type": "code",
      "metadata": {
        "id": "vJKgnu3_IjWE",
        "colab": {
          "base_uri": "https://localhost:8080/"
        },
        "outputId": "23fc346d-70c1-4c93-b6c3-165b01d3de65"
      },
      "source": [
        "# Initialize the Gym environment\n",
        "env = gym.make('CartPole-v1') \n",
        "env.seed(1) # Set a random seed for the environment (reproducible results)\n",
        "\n",
        "# This is for creating the output video in Colab, not required outside Colab\n",
        "env = wrap_env(env, video_callable=lambda episode_id: True) # Save a video every episode\n",
        "\n",
        "# Let's try for a total of 10 episodes\n",
        "for num_episode in range(10): \n",
        "    # Reset the environment and get the initial state\n",
        "    _ = env.reset()\n",
        "    frame_past = env.render(mode=\"rgb_array\")\n",
        "\n",
        "    image_state = state_from_image(frame_past, frame_past)\n",
        "\n",
        "    # Reset the score. The final score will be the total amount of steps before the pole falls\n",
        "    score = 0\n",
        "    done = False\n",
        "    # Go on until the pole falls off or the score reach 490\n",
        "    while not done:\n",
        "      # Choose the best action (temperature 0)\n",
        "      action, q_values = choose_action_softmax(policy_net, image_state, temperature=0)\n",
        "      # Apply the action and get the next state, the reward and a flag \"done\" that is True if the game is ended\n",
        "      _, reward, done, info = env.step(action)\n",
        "      # Visually render the environment\n",
        "      frame_curr = env.render(mode=\"rgb_array\")\n",
        "\n",
        "      next_image_state = state_from_image(frame_curr, frame_past)\n",
        "\n",
        "      # Update the final score (+1 for each step)\n",
        "      score += reward \n",
        "      # Set the current state for the next iteration\n",
        "      image_state = next_image_state\n",
        "      frame_past = frame_curr\n",
        "      # Check if the episode ended (the pole fell down)\n",
        "    # Print the final score\n",
        "    print(f\"EPISODE {num_episode + 1} - FINAL SCORE: {score}\") \n",
        "env.close()"
      ],
      "execution_count": 30,
      "outputs": [
        {
          "output_type": "stream",
          "text": [
            "EPISODE 1 - FINAL SCORE: 40.0\n",
            "EPISODE 2 - FINAL SCORE: 100.0\n",
            "EPISODE 3 - FINAL SCORE: 64.0\n",
            "EPISODE 4 - FINAL SCORE: 70.0\n",
            "EPISODE 5 - FINAL SCORE: 70.0\n",
            "EPISODE 6 - FINAL SCORE: 74.0\n",
            "EPISODE 7 - FINAL SCORE: 83.0\n",
            "EPISODE 8 - FINAL SCORE: 62.0\n",
            "EPISODE 9 - FINAL SCORE: 73.0\n",
            "EPISODE 10 - FINAL SCORE: 72.0\n"
          ],
          "name": "stdout"
        }
      ]
    },
    {
      "cell_type": "code",
      "metadata": {
        "id": "mxdtGJutLqlw",
        "colab": {
          "base_uri": "https://localhost:8080/",
          "height": 1000
        },
        "outputId": "c8826934-f84b-411e-d62d-2785f8ec7701"
      },
      "source": [
        "# Display the videos, not required outside Colab\n",
        "show_videos()"
      ],
      "execution_count": 31,
      "outputs": [
        {
          "output_type": "stream",
          "text": [
            "\n",
            "SHOWING VIDEO video/openaigym.video.1.61.video000000.mp4\n"
          ],
          "name": "stdout"
        },
        {
          "output_type": "display_data",
          "data": {
            "text/html": [
              "<video alt=\"test\" autoplay \n",
              "                loop controls style=\"height: 400px;\">\n",
              "                <source src=\"data:video/mp4;base64,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\" type=\"video/mp4\" />\n",
              "             </video>"
            ],
            "text/plain": [
              "<IPython.core.display.HTML object>"
            ]
          },
          "metadata": {
            "tags": []
          }
        },
        {
          "output_type": "stream",
          "text": [
            "\n",
            "SHOWING VIDEO video/openaigym.video.1.61.video000001.mp4\n"
          ],
          "name": "stdout"
        },
        {
          "output_type": "display_data",
          "data": {
            "text/html": [
              "<video alt=\"test\" autoplay \n",
              "                loop controls style=\"height: 400px;\">\n",
              "                <source src=\"data:video/mp4;base64,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\" type=\"video/mp4\" />\n",
              "             </video>"
            ],
            "text/plain": [
              "<IPython.core.display.HTML object>"
            ]
          },
          "metadata": {
            "tags": []
          }
        },
        {
          "output_type": "stream",
          "text": [
            "\n",
            "SHOWING VIDEO video/openaigym.video.1.61.video000002.mp4\n"
          ],
          "name": "stdout"
        },
        {
          "output_type": "display_data",
          "data": {
            "text/html": [
              "<video alt=\"test\" autoplay \n",
              "                loop controls style=\"height: 400px;\">\n",
              "                <source src=\"data:video/mp4;base64,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\" type=\"video/mp4\" />\n",
              "             </video>"
            ],
            "text/plain": [
              "<IPython.core.display.HTML object>"
            ]
          },
          "metadata": {
            "tags": []
          }
        },
        {
          "output_type": "stream",
          "text": [
            "\n",
            "SHOWING VIDEO video/openaigym.video.1.61.video000003.mp4\n"
          ],
          "name": "stdout"
        },
        {
          "output_type": "display_data",
          "data": {
            "text/html": [
              "<video alt=\"test\" autoplay \n",
              "                loop controls style=\"height: 400px;\">\n",
              "                <source src=\"data:video/mp4;base64,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\" type=\"video/mp4\" />\n",
              "             </video>"
            ],
            "text/plain": [
              "<IPython.core.display.HTML object>"
            ]
          },
          "metadata": {
            "tags": []
          }
        },
        {
          "output_type": "stream",
          "text": [
            "\n",
            "SHOWING VIDEO video/openaigym.video.1.61.video000004.mp4\n"
          ],
          "name": "stdout"
        },
        {
          "output_type": "display_data",
          "data": {
            "text/html": [
              "<video alt=\"test\" autoplay \n",
              "                loop controls style=\"height: 400px;\">\n",
              "                <source src=\"data:video/mp4;base64,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\" type=\"video/mp4\" />\n",
              "             </video>"
            ],
            "text/plain": [
              "<IPython.core.display.HTML object>"
            ]
          },
          "metadata": {
            "tags": []
          }
        },
        {
          "output_type": "stream",
          "text": [
            "\n",
            "SHOWING VIDEO video/openaigym.video.1.61.video000005.mp4\n"
          ],
          "name": "stdout"
        },
        {
          "output_type": "display_data",
          "data": {
            "text/html": [
              "<video alt=\"test\" autoplay \n",
              "                loop controls style=\"height: 400px;\">\n",
              "                <source src=\"data:video/mp4;base64,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\" type=\"video/mp4\" />\n",
              "             </video>"
            ],
            "text/plain": [
              "<IPython.core.display.HTML object>"
            ]
          },
          "metadata": {
            "tags": []
          }
        },
        {
          "output_type": "stream",
          "text": [
            "\n",
            "SHOWING VIDEO video/openaigym.video.1.61.video000006.mp4\n"
          ],
          "name": "stdout"
        },
        {
          "output_type": "display_data",
          "data": {
            "text/html": [
              "<video alt=\"test\" autoplay \n",
              "                loop controls style=\"height: 400px;\">\n",
              "                <source src=\"data:video/mp4;base64,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\" type=\"video/mp4\" />\n",
              "             </video>"
            ],
            "text/plain": [
              "<IPython.core.display.HTML object>"
            ]
          },
          "metadata": {
            "tags": []
          }
        },
        {
          "output_type": "stream",
          "text": [
            "\n",
            "SHOWING VIDEO video/openaigym.video.1.61.video000007.mp4\n"
          ],
          "name": "stdout"
        },
        {
          "output_type": "display_data",
          "data": {
            "text/html": [
              "<video alt=\"test\" autoplay \n",
              "                loop controls style=\"height: 400px;\">\n",
              "                <source src=\"data:video/mp4;base64,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\" type=\"video/mp4\" />\n",
              "             </video>"
            ],
            "text/plain": [
              "<IPython.core.display.HTML object>"
            ]
          },
          "metadata": {
            "tags": []
          }
        },
        {
          "output_type": "stream",
          "text": [
            "\n",
            "SHOWING VIDEO video/openaigym.video.1.61.video000008.mp4\n"
          ],
          "name": "stdout"
        },
        {
          "output_type": "display_data",
          "data": {
            "text/html": [
              "<video alt=\"test\" autoplay \n",
              "                loop controls style=\"height: 400px;\">\n",
              "                <source src=\"data:video/mp4;base64,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\" type=\"video/mp4\" />\n",
              "             </video>"
            ],
            "text/plain": [
              "<IPython.core.display.HTML object>"
            ]
          },
          "metadata": {
            "tags": []
          }
        },
        {
          "output_type": "stream",
          "text": [
            "\n",
            "SHOWING VIDEO video/openaigym.video.1.61.video000009.mp4\n"
          ],
          "name": "stdout"
        },
        {
          "output_type": "display_data",
          "data": {
            "text/html": [
              "<video alt=\"test\" autoplay \n",
              "                loop controls style=\"height: 400px;\">\n",
              "                <source src=\"data:video/mp4;base64,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\" type=\"video/mp4\" />\n",
              "             </video>"
            ],
            "text/plain": [
              "<IPython.core.display.HTML object>"
            ]
          },
          "metadata": {
            "tags": []
          }
        }
      ]
    },
    {
      "cell_type": "code",
      "metadata": {
        "id": "mpw9WLrSQqWN"
      },
      "source": [
        ""
      ],
      "execution_count": null,
      "outputs": []
    }
  ]
}