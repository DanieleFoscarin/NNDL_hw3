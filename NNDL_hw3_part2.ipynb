{
  "nbformat": 4,
  "nbformat_minor": 0,
  "metadata": {
    "colab": {
      "name": "NNDL_hw3_part2.ipynb",
      "provenance": [],
      "toc_visible": true,
      "mount_file_id": "https://github.com/DanieleFoscarin/NNDL_hw3/blob/main/NNDL_hw3_part2.ipynb",
      "authorship_tag": "ABX9TyPTGqKuDC1Qzf1OWa1kBu5K",
      "include_colab_link": true
    },
    "kernelspec": {
      "name": "python3",
      "display_name": "Python 3"
    }
  },
  "cells": [
    {
      "cell_type": "markdown",
      "metadata": {
        "id": "view-in-github",
        "colab_type": "text"
      },
      "source": [
        "<a href=\"https://colab.research.google.com/github/DanieleFoscarin/NNDL_hw3/blob/main/NNDL_hw3_part2.ipynb\" target=\"_parent\"><img src=\"https://colab.research.google.com/assets/colab-badge.svg\" alt=\"Open In Colab\"/></a>"
      ]
    },
    {
      "cell_type": "markdown",
      "metadata": {
        "id": "jMm9ZPM7w7ir"
      },
      "source": [
        "# Part 1"
      ]
    },
    {
      "cell_type": "markdown",
      "metadata": {
        "id": "poiXxYrdw-Nz"
      },
      "source": [
        "Prepare enviroment"
      ]
    },
    {
      "cell_type": "code",
      "metadata": {
        "id": "jBelL8nBZVsn",
        "colab": {
          "base_uri": "https://localhost:8080/"
        },
        "outputId": "987f00d1-3338-47c2-99f2-7646a4ae3023"
      },
      "source": [
        "!pip install gym"
      ],
      "execution_count": 1,
      "outputs": [
        {
          "output_type": "stream",
          "text": [
            "Requirement already satisfied: gym in /usr/local/lib/python3.6/dist-packages (0.17.3)\n",
            "Requirement already satisfied: scipy in /usr/local/lib/python3.6/dist-packages (from gym) (1.4.1)\n",
            "Requirement already satisfied: pyglet<=1.5.0,>=1.4.0 in /usr/local/lib/python3.6/dist-packages (from gym) (1.5.0)\n",
            "Requirement already satisfied: cloudpickle<1.7.0,>=1.2.0 in /usr/local/lib/python3.6/dist-packages (from gym) (1.3.0)\n",
            "Requirement already satisfied: numpy>=1.10.4 in /usr/local/lib/python3.6/dist-packages (from gym) (1.19.5)\n",
            "Requirement already satisfied: future in /usr/local/lib/python3.6/dist-packages (from pyglet<=1.5.0,>=1.4.0->gym) (0.16.0)\n"
          ],
          "name": "stdout"
        }
      ]
    },
    {
      "cell_type": "code",
      "metadata": {
        "id": "a7EkHQ0VsNnJ"
      },
      "source": [
        "import random\n",
        "import torch\n",
        "import numpy as np\n",
        "import gym\n",
        "import matplotlib.pyplot as plt\n",
        "from tqdm.notebook import tqdm\n",
        "import cv2\n",
        "\n",
        "from torch import nn\n",
        "from collections import deque # this python module implements exactly what we need for the replay memeory"
      ],
      "execution_count": 2,
      "outputs": []
    },
    {
      "cell_type": "markdown",
      "metadata": {
        "id": "LKzDB1SPZYY1"
      },
      "source": [
        "## Enable gym environment rendering in Colab\n",
        "\n",
        "> This section is not required if you are executing the notebook in a local environment. It enables the video generation from Gym environments, and it is only required in Colab since we do not have access to a screen.\n",
        "\n",
        "Source: https://colab.research.google.com/drive/18LdlDDT87eb8cCTHZsXyS9ksQPzL3i6H"
      ]
    },
    {
      "cell_type": "code",
      "metadata": {
        "id": "V0HIwpatSteb",
        "colab": {
          "base_uri": "https://localhost:8080/"
        },
        "outputId": "622cd452-5797-4cc3-a562-c0fb314516d2"
      },
      "source": [
        "!apt update\n",
        "!apt-get install python-opengl -y\n",
        "!apt install xvfb -y\n",
        "!pip install pyvirtualdisplay\n",
        "!pip install piglet"
      ],
      "execution_count": 3,
      "outputs": [
        {
          "output_type": "stream",
          "text": [
            "\u001b[33m\r0% [Working]\u001b[0m\r            \rGet:1 http://security.ubuntu.com/ubuntu bionic-security InRelease [88.7 kB]\n",
            "\u001b[33m\r0% [Connecting to archive.ubuntu.com (91.189.88.152)] [1 InRelease 14.2 kB/88.7\u001b[0m\r                                                                               \rIgn:2 https://developer.download.nvidia.com/compute/cuda/repos/ubuntu1804/x86_64  InRelease\n",
            "\u001b[33m\r0% [Waiting for headers] [1 InRelease 69.2 kB/88.7 kB 78%] [Waiting for headers\u001b[0m\u001b[33m\r0% [Waiting for headers] [Waiting for headers] [Waiting for headers] [Waiting f\u001b[0m\r                                                                               \rHit:3 https://cloud.r-project.org/bin/linux/ubuntu bionic-cran40/ InRelease\n",
            "\u001b[33m\r                                                                               \r0% [Waiting for headers] [Waiting for headers] [Waiting for headers]\u001b[0m\u001b[33m\r0% [1 InRelease gpgv 88.7 kB] [Waiting for headers] [Waiting for headers] [Wait\u001b[0m\r                                                                               \rIgn:4 https://developer.download.nvidia.com/compute/machine-learning/repos/ubuntu1804/x86_64  InRelease\n",
            "\u001b[33m\r                                                                               \r0% [1 InRelease gpgv 88.7 kB] [Waiting for headers] [Waiting for headers]\u001b[0m\r                                                                         \rHit:5 http://archive.ubuntu.com/ubuntu bionic InRelease\n",
            "\u001b[33m\r0% [1 InRelease gpgv 88.7 kB] [Waiting for headers] [Waiting for headers]\u001b[0m\r                                                                         \rHit:6 http://ppa.launchpad.net/c2d4u.team/c2d4u4.0+/ubuntu bionic InRelease\n",
            "Hit:7 https://developer.download.nvidia.com/compute/cuda/repos/ubuntu1804/x86_64  Release\n",
            "Hit:8 https://developer.download.nvidia.com/compute/machine-learning/repos/ubuntu1804/x86_64  Release\n",
            "Get:9 http://archive.ubuntu.com/ubuntu bionic-updates InRelease [88.7 kB]\n",
            "Hit:10 http://ppa.launchpad.net/cran/libgit2/ubuntu bionic InRelease\n",
            "Hit:11 http://ppa.launchpad.net/graphics-drivers/ppa/ubuntu bionic InRelease\n",
            "Get:12 http://archive.ubuntu.com/ubuntu bionic-backports InRelease [74.6 kB]\n",
            "Fetched 252 kB in 2s (113 kB/s)\n",
            "Reading package lists... Done\n",
            "Building dependency tree       \n",
            "Reading state information... Done\n",
            "18 packages can be upgraded. Run 'apt list --upgradable' to see them.\n",
            "Reading package lists... Done\n",
            "Building dependency tree       \n",
            "Reading state information... Done\n",
            "python-opengl is already the newest version (3.1.0+dfsg-1).\n",
            "0 upgraded, 0 newly installed, 0 to remove and 18 not upgraded.\n",
            "Reading package lists... Done\n",
            "Building dependency tree       \n",
            "Reading state information... Done\n",
            "xvfb is already the newest version (2:1.19.6-1ubuntu4.8).\n",
            "0 upgraded, 0 newly installed, 0 to remove and 18 not upgraded.\n",
            "Requirement already satisfied: pyvirtualdisplay in /usr/local/lib/python3.6/dist-packages (2.0)\n",
            "Requirement already satisfied: EasyProcess in /usr/local/lib/python3.6/dist-packages (from pyvirtualdisplay) (0.3)\n",
            "Requirement already satisfied: piglet in /usr/local/lib/python3.6/dist-packages (1.0.0)\n",
            "Requirement already satisfied: piglet-templates in /usr/local/lib/python3.6/dist-packages (from piglet) (1.1.0)\n",
            "Requirement already satisfied: Parsley in /usr/local/lib/python3.6/dist-packages (from piglet-templates->piglet) (1.3)\n",
            "Requirement already satisfied: astunparse in /usr/local/lib/python3.6/dist-packages (from piglet-templates->piglet) (1.6.3)\n",
            "Requirement already satisfied: markupsafe in /usr/local/lib/python3.6/dist-packages (from piglet-templates->piglet) (1.1.1)\n",
            "Requirement already satisfied: attrs in /usr/local/lib/python3.6/dist-packages (from piglet-templates->piglet) (20.3.0)\n",
            "Requirement already satisfied: six<2.0,>=1.6.1 in /usr/local/lib/python3.6/dist-packages (from astunparse->piglet-templates->piglet) (1.15.0)\n",
            "Requirement already satisfied: wheel<1.0,>=0.23.0 in /usr/local/lib/python3.6/dist-packages (from astunparse->piglet-templates->piglet) (0.36.2)\n"
          ],
          "name": "stdout"
        }
      ]
    },
    {
      "cell_type": "code",
      "metadata": {
        "id": "jxM-vHKz1r_M"
      },
      "source": [
        "import glob\n",
        "import io\n",
        "import base64\n",
        "import os\n",
        "from IPython.display import HTML\n",
        "from IPython import display as ipythondisplay\n",
        "from pyvirtualdisplay import Display\n",
        "from gym.wrappers import Monitor"
      ],
      "execution_count": 4,
      "outputs": []
    },
    {
      "cell_type": "code",
      "metadata": {
        "id": "E0oXbzI2ZAfv",
        "colab": {
          "base_uri": "https://localhost:8080/"
        },
        "outputId": "8b352013-af9f-4074-c9a4-dc3124efceff"
      },
      "source": [
        "display = Display(visible=0, size=(1400, 900))\n",
        "display.start()"
      ],
      "execution_count": 5,
      "outputs": [
        {
          "output_type": "execute_result",
          "data": {
            "text/plain": [
              "<pyvirtualdisplay.display.Display at 0x7fe0002c6208>"
            ]
          },
          "metadata": {
            "tags": []
          },
          "execution_count": 5
        }
      ]
    },
    {
      "cell_type": "code",
      "metadata": {
        "id": "yr5j5rz0ZEJf"
      },
      "source": [
        "# This code creates a virtual display to draw game images on. \n",
        "# If you are running locally, just ignore it\n",
        "if type(os.environ.get(\"DISPLAY\")) is not str or len(os.environ.get(\"DISPLAY\"))==0:\n",
        "    !bash ../xvfb start\n",
        "    %env DISPLAY=:1"
      ],
      "execution_count": 6,
      "outputs": []
    },
    {
      "cell_type": "code",
      "metadata": {
        "id": "StaxWEA0Z-O1"
      },
      "source": [
        "\"\"\"\n",
        "Utility functions to enable video recording of gym environment and displaying it\n",
        "To enable video, just do \"env = wrap_env(env)\"\"\n",
        "\"\"\"\n",
        "\n",
        "def show_videos():\n",
        "  mp4list = glob.glob('video/*.mp4')\n",
        "  mp4list.sort()\n",
        "  for mp4 in mp4list:\n",
        "    print(f\"\\nSHOWING VIDEO {mp4}\")\n",
        "    video = io.open(mp4, 'r+b').read()\n",
        "    encoded = base64.b64encode(video)\n",
        "    ipythondisplay.display(HTML(data='''<video alt=\"test\" autoplay \n",
        "                loop controls style=\"height: 400px;\">\n",
        "                <source src=\"data:video/mp4;base64,{0}\" type=\"video/mp4\" />\n",
        "             </video>'''.format(encoded.decode('ascii'))))\n",
        "    \n",
        "def wrap_env(env, video_callable=None):\n",
        "  env = Monitor(env, './video', force=True, video_callable=video_callable)\n",
        "  return env"
      ],
      "execution_count": 7,
      "outputs": []
    },
    {
      "cell_type": "markdown",
      "metadata": {
        "id": "wA_0gAmJfFlT"
      },
      "source": [
        "## Experience replay (Replay Memory)"
      ]
    },
    {
      "cell_type": "markdown",
      "metadata": {
        "id": "dqPUYNrpZhPw"
      },
      "source": [
        "\"*To perform experience replay, we store the agent's experiences e_t=(s_t,a_t,r_t,s_t+1) at each time-step t in a data set D_t={e_1,…,e_t}. During learning, we apply Q-learning updates, on samples (or mini-batches) of experience (s,a,r,s′)∼U(D), drawn uniformly at random from the pool of stored samples.*\"\n",
        "\n",
        "Source: https://www.nature.com/articles/nature14236\n",
        "\n",
        "In practice, what we need is a queue with a predefined capacity. When we reach the maximum capacity, the oldest element in the queue will be replaced with the new one.\n",
        "\n",
        "This exact behavior is implemented by the `deque` object from the python `collections` library (https://docs.python.org/3/library/collections.html#collections.deque):\n",
        "\n",
        "\"*If maxlen is not specified or is None, deques may grow to an arbitrary length. Otherwise, the deque is bounded to the specified maximum length. Once a bounded length deque is full, when new items are added, a corresponding number of items are discarded from the opposite end.*\"\n",
        "\n",
        "The random sampling can be easily achieved using the `random.sample` method (https://docs.python.org/3/library/random.html). "
      ]
    },
    {
      "cell_type": "code",
      "metadata": {
        "id": "1axKWEBl8uik"
      },
      "source": [
        "class ReplayMemory(object):\n",
        "\n",
        "    def __init__(self, capacity):\n",
        "        self.memory = deque(maxlen=capacity) # Define a queue with maxlen \"capacity\"\n",
        "\n",
        "    def push(self, state, action, next_state, reward):\n",
        "        self.memory.append( (state, action, next_state, reward) ) # Add the tuple (state, action, next_state, reward) to the queue\n",
        "\n",
        "    def sample(self, batch_size):\n",
        "        batch_size = min(batch_size, len(self)) # Get all the samples if the requested batch_size is higher than the number of sample currently in the memory\n",
        "        return random.sample(self.memory, batch_size) # Randomly select \"batch_size\" samples\n",
        "\n",
        "    def __len__(self):\n",
        "        return len(self.memory) # Return the number of samples currently stored in the memory"
      ],
      "execution_count": 8,
      "outputs": []
    },
    {
      "cell_type": "markdown",
      "metadata": {
        "id": "Y-nBdx6KfKNE"
      },
      "source": [
        "## Policy network"
      ]
    },
    {
      "cell_type": "markdown",
      "metadata": {
        "id": "vt2uYYCSrL8q"
      },
      "source": [
        "The policy network takes a state as input, and provides the Q-value for each of the possible actions.\r\n",
        "\r\n",
        "Let's define a simple generic fully-connected feed forward network with `state_space_dim` inputs and `action_space_dim` outputs (e.g. 2 hidden layers with 64 neurons each). \r\n",
        "\r\n",
        "Be sure to keep a linear output activation."
      ]
    },
    {
      "cell_type": "markdown",
      "metadata": {
        "id": "3x-kRJbQfqBR"
      },
      "source": [
        "### Epsilon-greedy policy\n"
      ]
    },
    {
      "cell_type": "markdown",
      "metadata": {
        "id": "RFVPF0aMy3be"
      },
      "source": [
        "With an epsilon-greedy policy we choose a **non optimal** action with probability epsilon, otherwise choose the best action (the one corresponding to the highest Q-value)."
      ]
    },
    {
      "cell_type": "code",
      "metadata": {
        "id": "ZXfh_Ub1fv4c"
      },
      "source": [
        "def choose_action_epsilon_greedy(net, state, epsilon):\n",
        "    \n",
        "    if epsilon > 1 or epsilon < 0:\n",
        "        raise Exception('The epsilon value must be between 0 and 1')\n",
        "                \n",
        "    # Evaluate the network output from the current state\n",
        "    with torch.no_grad():\n",
        "        net.eval()\n",
        "        state = torch.tensor(state, dtype=torch.float32) # Convert the state to tensor\n",
        "        net_out = net(state)\n",
        "\n",
        "    # Get the best action (argmax of the network output)\n",
        "    best_action = int(net_out.argmax())\n",
        "    # Get the number of possible actions\n",
        "    action_space_dim = net_out.shape[-1]\n",
        "\n",
        "    # Select a non optimal action with probability epsilon, otherwise choose the best action\n",
        "    if random.random() < epsilon:\n",
        "        # List of non-optimal actions\n",
        "        non_optimal_actions = [a for a in range(action_space_dim) if a != best_action]\n",
        "        # Select randomly\n",
        "        action = random.choice(non_optimal_actions)\n",
        "    else:\n",
        "        # Select best action\n",
        "        action = best_action\n",
        "        \n",
        "    return action, net_out.numpy()"
      ],
      "execution_count": 9,
      "outputs": []
    },
    {
      "cell_type": "markdown",
      "metadata": {
        "id": "Vvxi7b82f0g4"
      },
      "source": [
        "### Softmax policy"
      ]
    },
    {
      "cell_type": "markdown",
      "metadata": {
        "id": "8I0r6m-p1UQG"
      },
      "source": [
        "With a softmax policy we choose the action based on a distribution obtained applying a softmax (with temperature $\\tau$) to the estimated Q-values. The highest the temperature, the more the distribution will converge to a random uniform distribution. At zero temperature, instead, the policy will always choose the action with the highest Q-value.\r\n",
        "\r\n",
        "> **HINT**\r\n",
        ">\r\n",
        "> To sample from a random (discrete) distribution you can use the numpy function `numpy.random.choice` (https://docs.scipy.org/doc//numpy-1.10.4/reference/generated/numpy.random.choice.html), by setting the parameter `p` properly.\r\n",
        "\r\n",
        "> **HINT**\r\n",
        ">\r\n",
        "> Even if the PyTorch softmax function does not support the temperature parameter directly, you can still use it and apply the temperature outside the function. Just look carefully at the softmax formula in the slide above.\r\n",
        "\r\n",
        "> **HINT**\r\n",
        ">\r\n",
        "> The softmax function may be numerically unstable with very low temperature values. In practice, it is suggested to set a minimum value for the temperature (e.g. 1e-8)."
      ]
    },
    {
      "cell_type": "code",
      "metadata": {
        "id": "taW_cjBsf4sW"
      },
      "source": [
        "def choose_action_softmax(net, state, temperature):\n",
        "    \n",
        "    if temperature < 0:\n",
        "        raise Exception('The temperature value must be greater than or equal to 0 ')\n",
        "        \n",
        "    # If the temperature is 0, just select the best action using the eps-greedy policy with epsilon = 0\n",
        "    if temperature == 0:\n",
        "        return choose_action_epsilon_greedy(net, state, 0)\n",
        "    \n",
        "    # Evaluate the network output from the current state\n",
        "    with torch.no_grad():\n",
        "        net.eval()\n",
        "        state = torch.tensor(state, dtype=torch.float32)\n",
        "        net_out = net(state)\n",
        "\n",
        "    # Apply softmax with temp\n",
        "    temperature = max(temperature, 1e-8) # set a minimum to the temperature for numerical stability\n",
        "    softmax_out = nn.functional.softmax(net_out / temperature, dim=0).numpy()\n",
        "                \n",
        "    # Sample the action using softmax output as mass pdf\n",
        "    all_possible_actions = np.arange(0, softmax_out.shape[-1])\n",
        "    action = np.random.choice(all_possible_actions, p=softmax_out) # this samples a random element from \"all_possible_actions\" with the probability distribution p (softmax_out in this case)\n",
        "    \n",
        "    return action, net_out.numpy()"
      ],
      "execution_count": 10,
      "outputs": []
    },
    {
      "cell_type": "markdown",
      "metadata": {
        "id": "QMXhJfZcpqIA"
      },
      "source": [
        "### Exploration profile"
      ]
    },
    {
      "cell_type": "markdown",
      "metadata": {
        "id": "7rOvTpcbMPnR"
      },
      "source": [
        "Let's consider, for example, an exponentially decreasing exploration profile using a softmax policy.\n",
        "\n",
        "$$\n",
        "\\text{softmax_temperature}  = \\text{initial_temperature} * \\text{exp_decay}^i \\qquad \\text{for $i$ = 1, 2, ..., num_iterations } \n",
        "$$\n",
        "\n",
        "Alternatively, you can consider an epsilon greedy policy. In this case the exploration would be controlled by the epsilon parameter, for which you should consider a different initial value (max 1). "
      ]
    },
    {
      "cell_type": "code",
      "metadata": {
        "colab": {
          "base_uri": "https://localhost:8080/",
          "height": 515
        },
        "id": "BLGXTxrpWuFe",
        "outputId": "8fd52b49-6afc-4277-830c-58adeaa02e4f"
      },
      "source": [
        "### Define experimental exploration profile\r\n",
        "initial_value = 5\r\n",
        "num_iterations = 800\r\n",
        "exp_decay = np.exp(-np.log(initial_value) / num_iterations * 4) # We compute the exponential decay in such a way the shape of the exploration profile does not depend on the number of iterations\r\n",
        "# exploration_profile = [np.clip(initial_value * (exp_decay ** i) *np.abs(np.cos(i/15)), 1e-8, 10) for i in range(num_iterations)]\r\n",
        "exploration_profile = [np.clip(initial_value * (exp_decay ** i) *np.abs(np.cos(i*np.pi/10)), 1e-8, 10) for i in range(num_iterations)]\r\n",
        "\r\n",
        "\r\n",
        "### Plot exploration profile\r\n",
        "plt.figure(figsize=(12,8))\r\n",
        "plt.plot(exploration_profile)\r\n",
        "plt.grid()\r\n",
        "plt.xlabel('Iteration')\r\n",
        "plt.ylabel('Exploration profile (Softmax temperature)')"
      ],
      "execution_count": 11,
      "outputs": [
        {
          "output_type": "execute_result",
          "data": {
            "text/plain": [
              "Text(0, 0.5, 'Exploration profile (Softmax temperature)')"
            ]
          },
          "metadata": {
            "tags": []
          },
          "execution_count": 11
        },
        {
          "output_type": "display_data",
          "data": {
            "image/png": "[encoded data removed]",
            "text/plain": [
              "<Figure size 864x576 with 1 Axes>"
            ]
          },
          "metadata": {
            "tags": [],
            "needs_background": "light"
          }
        }
      ]
    },
    {
      "cell_type": "code",
      "metadata": {
        "id": "G-f78CC3ptt2",
        "colab": {
          "base_uri": "https://localhost:8080/",
          "height": 515
        },
        "outputId": "15c74672-d5ab-4ec5-c460-a22b7c473061"
      },
      "source": [
        "### Define exploration profile\n",
        "initial_value = 5\n",
        "num_iterations = 1000\n",
        "exp_decay = np.exp(-np.log(initial_value) / num_iterations * 4) # We compute the exponential decay in such a way the shape of the exploration profile does not depend on the number of iterations\n",
        "exploration_profile = [initial_value * (exp_decay ** i) for i in range(num_iterations)]\n",
        "\n",
        "### Plot exploration profile\n",
        "plt.figure(figsize=(12,8))\n",
        "plt.plot(exploration_profile)\n",
        "plt.grid()\n",
        "plt.xlabel('Iteration')\n",
        "plt.ylabel('Exploration profile (Softmax temperature)')"
      ],
      "execution_count": 12,
      "outputs": [
        {
          "output_type": "execute_result",
          "data": {
            "text/plain": [
              "Text(0, 0.5, 'Exploration profile (Softmax temperature)')"
            ]
          },
          "metadata": {
            "tags": []
          },
          "execution_count": 12
        },
        {
          "output_type": "display_data",
          "data": {
            "image/png": "[encoded data removed]",
            "text/plain": [
              "<Figure size 864x576 with 1 Axes>"
            ]
          },
          "metadata": {
            "tags": [],
            "needs_background": "light"
          }
        }
      ]
    },
    {
      "cell_type": "code",
      "metadata": {
        "id": "iX7JpFeObm08"
      },
      "source": [
        "# ### Define experimental exploration profile\r\n",
        "# initial_value = 3\r\n",
        "# num_iterations = 1000\r\n",
        "\r\n",
        "# def gaussian(x, mu, sig):\r\n",
        "#     return np.exp(-np.power(x - mu, 2.) / (2 * np.power(sig, 2.)))\r\n",
        "\r\n",
        "# exp_decay = np.exp(-np.log(initial_value) / num_iterations * 6) # We compute the exponential decay in such a way the shape of the exploration profile does not depend on the number of iterations\r\n",
        "# exploration_profile = [initial_value * (exp_decay ** i) *np.abs(np.cos(i/20)) + gaussian(i, 0, 200)*initial_value for i in range(num_iterations)] \r\n",
        "# # exploration_profile = [gaussian(x, 0, 200)*initial_value for x in range(num_iterations)]\r\n",
        "\r\n",
        "# ### Plot exploration profile\r\n",
        "# plt.figure(figsize=(12,8))\r\n",
        "# plt.plot(exploration_profile)\r\n",
        "# plt.grid()\r\n",
        "# plt.xlabel('Iteration')\r\n",
        "# plt.ylabel('Exploration profile (Softmax temperature)')"
      ],
      "execution_count": 13,
      "outputs": []
    },
    {
      "cell_type": "markdown",
      "metadata": {
        "id": "oXLB_rUCyoUT"
      },
      "source": [
        "### State from image processing\r\n",
        "Exploit computer vision tecniques to made a state\r\n",
        "\r\n",
        "blob detection https://learnopencv.com/blob-detection-using-opencv-python-c/"
      ]
    },
    {
      "cell_type": "code",
      "metadata": {
        "id": "Rl-TC_NfYRGg"
      },
      "source": [
        "def state_from_image(frame2, frame1):\r\n",
        "    #consider frame1 as old and frame2 as current\r\n",
        "    \r\n",
        "    frame1 = frame1[160:300]\r\n",
        "    frame2 = frame2[160:300]\r\n",
        "    cart_pos1 = np.mean(np.arange(600)[frame1[139,:,0]<255])\r\n",
        "    cart_pos2 = np.mean(np.arange(600)[frame2[139,:,0]<255])\r\n",
        "\r\n",
        "    cart_vel = cart_pos2 - cart_pos1\r\n",
        "\r\n",
        "\r\n",
        "    # resctrict the searched area in the neighborhood of the cart\r\n",
        "    ros_L1 = int(max(cart_pos1-60, 0))\r\n",
        "    ros_R1 = int(min(cart_pos1+60, np.shape(frame1)[1]))\r\n",
        "\r\n",
        "    ros_L2 = int(max(cart_pos2-60, 0))\r\n",
        "    ros_R2 = int(min(cart_pos2+60, np.shape(frame2)[1]))\r\n",
        "\r\n",
        "    flat_search1 = frame1[:,ros_L1:ros_R1, 0]\r\n",
        "    flat_search2 = frame2[:,ros_L2:ros_R2, 0]\r\n",
        "\r\n",
        "    #reshape varying the last dimension first\r\n",
        "    flat_search1 = np.reshape(flat_search1, ((ros_R1-ros_L1)*140,1))\r\n",
        "    flat_search2 = np.reshape(flat_search2, ((ros_R2-ros_L2)*140,1))\r\n",
        "\r\n",
        "    idx1 = np.argmax(flat_search1<255)\r\n",
        "    point1 = [idx1//120, idx1%120] \r\n",
        "    point1 = (point1[0], point1[1]-60)\r\n",
        "    pole_pos1 = (point1[0], cart_pos1 + point1[1])\r\n",
        "    pole_rel_pos1 = point1[1]\r\n",
        "\r\n",
        "    idx2 = np.argmax(flat_search2<255)\r\n",
        "    point2 = [idx2//120, idx2%120]\r\n",
        "    point2 = (point2[0], point2[1]-60)\r\n",
        "    pole_pos2 = (point2[0], cart_pos2 + point2[1])\r\n",
        "    pole_rel_pos2 = point2[1]\r\n",
        "\r\n",
        "    pole_vel = pole_rel_pos2 - pole_rel_pos1\r\n",
        "\r\n",
        "    #normalize the values\r\n",
        "    #[-1,+1] range\r\n",
        "    cart_pos2 = (cart_pos2 - 300) / 100\r\n",
        "    cart_vel = cart_vel/10\r\n",
        "    pole_rel_pos2 = pole_rel_pos2/10\r\n",
        "    pole_vel = pole_vel/10\r\n",
        "\r\n",
        "\r\n",
        "    return cart_pos2, cart_vel, pole_rel_pos2, pole_vel"
      ],
      "execution_count": 14,
      "outputs": []
    },
    {
      "cell_type": "code",
      "metadata": {
        "id": "cQEyGibgghsF"
      },
      "source": [
        "def state_from_image2(frame_list):\r\n",
        "    ''''\r\n",
        "    it takes 3 frames, observation space 6 dimensions\r\n",
        "    ''' \r\n",
        "\r\n",
        "    cart_pos_list = []\r\n",
        "    pole_rel_pos_list = []\r\n",
        "    for frame in frame_list:\r\n",
        "        frame = frame[160:300]\r\n",
        "        # cart_pos = np.mean(np.arange(600)[frame[139,:,0]<255])\r\n",
        "        cart_pos = 24.5 + np.argmin(frame[139,:,0])\r\n",
        "        ros_L = int(max(cart_pos-60, 0))\r\n",
        "        ros_R = int(min(cart_pos+60, np.shape(frame)[1]))\r\n",
        "        flat_search = frame[:,ros_L:ros_R, 0]\r\n",
        "        flat_search = np.reshape(flat_search, ((ros_R-ros_L)*140,1))\r\n",
        "        idx = np.argmax(flat_search<255)\r\n",
        "        point = [idx//120, idx%120] \r\n",
        "        point = (point[0], point[1]-60)\r\n",
        "        pole_pos = (point[0], cart_pos + point[1])\r\n",
        "        pole_rel_pos = point[1]\r\n",
        "\r\n",
        "        cart_pos_list.append(cart_pos)\r\n",
        "        pole_rel_pos_list.append(pole_rel_pos)\r\n",
        "        #######\r\n",
        "    \r\n",
        "    cart_vel = cart_pos_list[-1] - cart_pos_list[-2]\r\n",
        "    cart_acc = cart_vel - (cart_pos_list[-2] - cart_pos_list[-3])\r\n",
        "\r\n",
        "    pole_vel = pole_rel_pos_list[-1] - pole_rel_pos_list[-2]\r\n",
        "    pole_acc = pole_vel - (pole_rel_pos_list[-2] - pole_rel_pos_list[-3])\r\n",
        "\r\n",
        "    #reduce the range of values\r\n",
        "    cart_pos_out = (cart_pos_list[-1] - 300) / 100\r\n",
        "    pole_rel_pos_out = pole_rel_pos_list[-1] / 10\r\n",
        "\r\n",
        "    cart_vel = cart_vel / 10\r\n",
        "    cart_acc = cart_acc / 1\r\n",
        "    pole_vel = pole_vel / 10\r\n",
        "    pole_acc = pole_acc / 1\r\n",
        "\r\n",
        "    return cart_pos_out, cart_vel, cart_acc, pole_rel_pos_out, pole_vel, pole_acc\r\n"
      ],
      "execution_count": 15,
      "outputs": []
    },
    {
      "cell_type": "markdown",
      "metadata": {
        "id": "-rdsRx6wfZw1"
      },
      "source": [
        "### Network definition"
      ]
    },
    {
      "cell_type": "markdown",
      "metadata": {
        "id": "nJjj8rIGJ-mw"
      },
      "source": [
        "using a dueling deep q network\r\n",
        "reference https://towardsdatascience.com/dueling-deep-q-networks-81ffab672751"
      ]
    },
    {
      "cell_type": "code",
      "metadata": {
        "id": "W41rXekb8x7K"
      },
      "source": [
        "class DQN(nn.Module):\n",
        "\n",
        "    def __init__(self, state_space_dim, action_space_dim, layer_size):\n",
        "        super().__init__()\n",
        "\n",
        "        self.feature_layer = nn.Sequential(\n",
        "                nn.Linear(state_space_dim, layer_size),\n",
        "                nn.ReLU(True),\n",
        "\n",
        "                nn.Linear(layer_size, layer_size),\n",
        "                nn.ReLU(True),\n",
        "\n",
        "                # nn.Linear(layer_size, layer_size),\n",
        "                # nn.ReLU(True),\n",
        "                )\n",
        "        \n",
        "        self.value_stream = nn.Sequential(\n",
        "            nn.Linear(layer_size, layer_size),\n",
        "            nn.ReLU(),\n",
        "            nn.Linear(layer_size, 1)\n",
        "        )\n",
        "\n",
        "        self.advantage_stream = nn.Sequential(\n",
        "            nn.Linear(layer_size, layer_size),\n",
        "            nn.ReLU(),\n",
        "            nn.Linear(layer_size, action_space_dim)\n",
        "        )\n",
        "\n",
        "    def forward(self, x):\n",
        "        features = self.feature_layer(x)\n",
        "        values = self.value_stream(features)\n",
        "        advantages = self.advantage_stream(features)\n",
        "        qvals = values + (advantages - advantages.mean())\n",
        "\n",
        "        return qvals"
      ],
      "execution_count": 16,
      "outputs": []
    },
    {
      "cell_type": "markdown",
      "metadata": {
        "id": "9KXpjzf2vdeL"
      },
      "source": [
        "## Network update"
      ]
    },
    {
      "cell_type": "markdown",
      "metadata": {
        "id": "LQUTrt8DzJXO"
      },
      "source": [
        "### Update function"
      ]
    },
    {
      "cell_type": "code",
      "metadata": {
        "id": "Sj1hEvPOvkBX"
      },
      "source": [
        "def update_step(policy_net, target_net, replay_mem, gamma, optimizer, loss_fn, batch_size):\n",
        "        \n",
        "    # Sample the data from the replay memory\n",
        "    batch = replay_mem.sample(batch_size)\n",
        "    batch_size = len(batch)\n",
        "\n",
        "    # Create tensors for each element of the batch\n",
        "    states      = torch.tensor([s[0] for s in batch], dtype=torch.float32)\n",
        "    actions     = torch.tensor([s[1] for s in batch], dtype=torch.int64)\n",
        "    rewards     = torch.tensor([s[3] for s in batch], dtype=torch.float32)\n",
        "\n",
        "    # Compute a mask of non-final states (all the elements where the next state is not None)\n",
        "    non_final_next_states = torch.tensor([s[2] for s in batch if s[2] is not None], dtype=torch.float32) # the next state can be None if the game has ended\n",
        "    non_final_mask = torch.tensor([s[2] is not None for s in batch], dtype=torch.bool)\n",
        "\n",
        "    # Compute all the Q values (forward pass)\n",
        "    policy_net.train()\n",
        "    q_values = policy_net(states)\n",
        "    # Select the proper Q value for the corresponding action taken Q(s_t, a)\n",
        "    state_action_values = q_values.gather(1, actions.unsqueeze(1))\n",
        "\n",
        "    # Compute the value function of the next states using the target network V(s_{t+1}) = max_a( Q_target(s_{t+1}, a)) )\n",
        "    with torch.no_grad():\n",
        "      target_net.eval()\n",
        "      q_values_target = target_net(non_final_next_states)\n",
        "    next_state_max_q_values = torch.zeros(batch_size)\n",
        "    next_state_max_q_values[non_final_mask] = q_values_target.max(dim=1)[0]\n",
        "\n",
        "    # Compute the expected Q values\n",
        "    expected_state_action_values = rewards + (next_state_max_q_values * gamma)\n",
        "    expected_state_action_values = expected_state_action_values.unsqueeze(1) # Set the required tensor shape\n",
        "\n",
        "    # Compute the Huber loss\n",
        "    loss = loss_fn(state_action_values, expected_state_action_values)\n",
        "\n",
        "    # Optimize the model\n",
        "    optimizer.zero_grad()\n",
        "    loss.backward()\n",
        "    # Apply gradient clipping (clip all the gradients greater than 2 for training stability)\n",
        "    nn.utils.clip_grad_norm_(policy_net.parameters(), 2)\n",
        "    optimizer.step()"
      ],
      "execution_count": 17,
      "outputs": []
    },
    {
      "cell_type": "markdown",
      "metadata": {
        "id": "03Ab0RMB5CCC"
      },
      "source": [
        "## Training loop with softmax policy"
      ]
    },
    {
      "cell_type": "code",
      "metadata": {
        "id": "WF6Zf53FoRDZ"
      },
      "source": [
        "# Set random seeds\n",
        "torch.manual_seed(0)\n",
        "np.random.seed(0)\n",
        "random.seed(0)\n",
        "\n",
        "def running_mean(x, N):\n",
        "    cumsum = np.cumsum(np.insert(x, 0, 0)) \n",
        "    return (cumsum[N:] - cumsum[:-N]) / float(N)\n",
        "\n",
        "### PARAMETERS\n",
        "gamma = 0.97   # gamma parameter for the long term reward\n",
        "replay_memory_capacity = 10000   # Replay memory capacity\n",
        "lr = 1e-2   # Optimizer learning rate\n",
        "target_net_update_steps = 10   # Number of episodes to wait before updating the target network\n",
        "batch_size = 128  # Number of samples to take from the replay memory for each update\n",
        "bad_state_penalty = 0   # Penalty to the reward when we are in a bad state (in this case when the pole falls down) \n",
        "min_samples_for_training = 1000   # Minimum samples in the replay memory to enable the training\n",
        "\n",
        "layer_size = 128\n",
        "\n",
        "# depending on the state_from_image function\n",
        "state_space_dim = 6     #6 for state_from_image2\n",
        "action_space_dim = 2\n",
        "\n",
        "### Initialize the replay memory\n",
        "replay_mem = ReplayMemory(replay_memory_capacity)    \n",
        "\n",
        "### Initialize the policy network\n",
        "policy_net = DQN(state_space_dim, action_space_dim, layer_size)\n",
        "\n",
        "### Initialize the target network with the same weights of the policy network\n",
        "target_net = DQN(state_space_dim, action_space_dim, layer_size)\n",
        "target_net.load_state_dict(policy_net.state_dict()) # This will copy the weights of the policy network to the target network\n",
        "\n",
        "### Initialize the optimizer\n",
        "optimizer = torch.optim.SGD(policy_net.parameters(), lr=lr) # The optimizer will update ONLY the parameters of the policy network\n",
        "# optimizer = torch.optim.RMSprop(policy_net.parameters(), lr=lr)\n",
        "\n",
        "### Initialize the loss function (Huber loss)\n",
        "loss_fn = nn.SmoothL1Loss()\n",
        "\n",
        "# Initialize the Gym environment\n",
        "env = gym.make('CartPole-v1') \n",
        "env.seed(0) # Set a random seed for the environment (reproducible results)\n",
        "\n",
        "# This is for creating the output video in Colab, not required outside Colab\n",
        "env = wrap_env(env, video_callable=lambda episode_id: episode_id % 100 == 0) # Save a video every 100 episodes\n",
        "\n",
        "score_record = []\n",
        "win_counter = 0\n",
        "for episode_num, tau in enumerate(exploration_profile):\n",
        "\n",
        "    # Reset the environment and get the initial state\n",
        "    _ = env.reset()\n",
        "    init_frame = env.render(mode=\"rgb_array\")\n",
        "    frame_list = [init_frame, init_frame, init_frame]\n",
        "\n",
        "    image_state = state_from_image2(frame_list)\n",
        "\n",
        "    # Reset the score. The final score will be the total amount of steps before the pole falls\n",
        "    score = 0\n",
        "    done = False\n",
        "\n",
        "    # Go on until the pole falls off\n",
        "    while not done:\n",
        "\n",
        "        # Choose the action following the policy\n",
        "        action, q_values = choose_action_softmax(policy_net, image_state, temperature=tau)\n",
        "        \n",
        "        # Apply the action and get the next state, the reward and a flag \"done\" that is True if the game is ended\n",
        "        _, reward, done, info = env.step(action)\n",
        "\n",
        "        # save the frame in a array\n",
        "        frame_curr = env.render(mode=\"rgb_array\")\n",
        "        frame_list.pop(0)\n",
        "        frame_list.append(frame_curr)\n",
        "\n",
        "        next_image_state = state_from_image2(frame_list)\n",
        "\n",
        "        # We apply a (linear) penalty when the cart is far from center\n",
        "        pos_weight = 1\n",
        "        reward = reward - pos_weight * np.abs(image_state[0]) \n",
        "        # apply penalty also if on the pole angle velocity\n",
        "        pole_weight = 0\n",
        "        reward = reward - pos_weight * np.abs(image_state[3])\n",
        "        pole_weight = 0\n",
        "        reward = reward - pos_weight * np.abs(image_state[4])\n",
        "        pole_weight = 0\n",
        "        reward = reward - pos_weight * np.abs(image_state[5])  \n",
        "\n",
        "        # Update the final score (+1 for each step)\n",
        "        score += 1\n",
        "\n",
        "        # Apply penalty for bad state\n",
        "        if done: # if the pole has fallen down \n",
        "            reward += bad_state_penalty\n",
        "            next_state = None\n",
        "\n",
        "        # Update the replay memory\n",
        "        replay_mem.push(image_state, action, next_image_state, reward)\n",
        "\n",
        "        # Update the network\n",
        "        if len(replay_mem) > min_samples_for_training: # we enable the training only if we have enough samples in the replay memory, otherwise the training will use the same samples too often\n",
        "            update_step(policy_net, target_net, replay_mem, gamma, optimizer, loss_fn, batch_size)\n",
        "\n",
        "        # Visually render the environment (disable to speed up the training)\n",
        "        env.render()\n",
        "\n",
        "        # Set the current state for the next iteration\n",
        "        image_state = next_image_state\n",
        "\n",
        "    # Update the target network every target_net_update_steps episodes\n",
        "    if episode_num % target_net_update_steps == 0:\n",
        "        print('Updating target network...')\n",
        "        target_net.load_state_dict(policy_net.state_dict()) # This will copy the weights of the policy network to the target network\n",
        "        # win_counter = 0\n",
        "    score_record.append(score)\n",
        "\n",
        "    if score == 500:\n",
        "        win_counter +=1\n",
        "    else:\n",
        "        win_score = 0\n",
        "    # Print the final score\n",
        "    print(f\"EPISODE: {episode_num + 1} - FINAL SCORE: {score} - Temperature: {tau}\") # Print the final score\n",
        "\n",
        "    #exit if we have 10 consecutive wins with the same net\n",
        "    if win_counter == target_net_update_steps:\n",
        "        break\n",
        "env.close()"
      ],
      "execution_count": null,
      "outputs": []
    },
    {
      "cell_type": "code",
      "metadata": {
        "id": "5xIRGZjD77D2",
        "colab": {
          "base_uri": "https://localhost:8080/",
          "height": 265
        },
        "outputId": "dd8f3280-808a-447f-f3e3-e72e6dabeb1e"
      },
      "source": [
        "def running_mean(x, N):\r\n",
        "    cumsum = np.cumsum(np.insert(x, 0, 0)) \r\n",
        "    return (cumsum[N:] - cumsum[:-N]) / float(N)\r\n",
        "\r\n",
        "plt.plot(score_record)\r\n",
        "plt.plot(running_mean(score_record,30))\r\n",
        "plt.plot(running_mean(score_record,100))\r\n",
        "# plt.plot(running_mean(running_mean(score_record,10),10))\r\n",
        "# plt.ylim([0,500])\r\n",
        "plt.grid(linestyle=\":\")"
      ],
      "execution_count": 30,
      "outputs": [
        {
          "output_type": "display_data",
          "data": {
            "image/png": "[encoded data removed]",
            "text/plain": [
              "<Figure size 432x288 with 1 Axes>"
            ]
          },
          "metadata": {
            "tags": [],
            "needs_background": "light"
          }
        }
      ]
    },
    {
      "cell_type": "code",
      "metadata": {
        "id": "7FQjjVTiP2T6"
      },
      "source": [
        "# Display the videos, not required outside Colab\n",
        "# show_videos()"
      ],
      "execution_count": null,
      "outputs": []
    },
    {
      "cell_type": "markdown",
      "metadata": {
        "id": "LoMkXR5W4Ar8"
      },
      "source": [
        "## training with greedy policy"
      ]
    },
    {
      "cell_type": "code",
      "metadata": {
        "id": "YsWF9_mx4ANJ",
        "colab": {
          "base_uri": "https://localhost:8080/"
        },
        "outputId": "09f45a79-c7c6-406d-c7c8-84d4703c411c"
      },
      "source": [
        "# Set random seeds\r\n",
        "torch.manual_seed(0)\r\n",
        "np.random.seed(0)\r\n",
        "random.seed(0)\r\n",
        "\r\n",
        "def running_mean(x, N):\r\n",
        "    cumsum = np.cumsum(np.insert(x, 0, 0)) \r\n",
        "    return (cumsum[N:] - cumsum[:-N]) / float(N)\r\n",
        "\r\n",
        "### PARAMETERS\r\n",
        "gamma = 0.97   # gamma parameter for the long term reward\r\n",
        "replay_memory_capacity = 10000   # Replay memory capacity\r\n",
        "lr = 1e-2   # Optimizer learning rate\r\n",
        "target_net_update_steps = 10   # Number of episodes to wait before updating the target network\r\n",
        "batch_size = 128  # Number of samples to take from the replay memory for each update\r\n",
        "bad_state_penalty = 0   # Penalty to the reward when we are in a bad state (in this case when the pole falls down) \r\n",
        "min_samples_for_training = 1000   # Minimum samples in the replay memory to enable the training\r\n",
        "\r\n",
        "layer_size = 128\r\n",
        "\r\n",
        "# depending on the state_from_image function\r\n",
        "state_space_dim = 6     #6 for state_from_image2\r\n",
        "action_space_dim = 2\r\n",
        "\r\n",
        "### Initialize the replay memory\r\n",
        "replay_mem = ReplayMemory(replay_memory_capacity)    \r\n",
        "\r\n",
        "### Initialize the policy network\r\n",
        "policy_net = DQN(state_space_dim, action_space_dim, layer_size)\r\n",
        "\r\n",
        "### Initialize the target network with the same weights of the policy network\r\n",
        "target_net = DQN(state_space_dim, action_space_dim, layer_size)\r\n",
        "target_net.load_state_dict(policy_net.state_dict()) # This will copy the weights of the policy network to the target network\r\n",
        "\r\n",
        "### Initialize the optimizer\r\n",
        "optimizer = torch.optim.SGD(policy_net.parameters(), lr=lr) # The optimizer will update ONLY the parameters of the policy network\r\n",
        "# optimizer = torch.optim.RMSprop(policy_net.parameters(), lr=lr)\r\n",
        "\r\n",
        "### Initialize the loss function (Huber loss)\r\n",
        "loss_fn = nn.SmoothL1Loss()\r\n",
        "\r\n",
        "\r\n",
        "# Initialize the Gym environment\r\n",
        "env = gym.make('CartPole-v1') \r\n",
        "env.seed(0) # Set a random seed for the environment (reproducible results)\r\n",
        "\r\n",
        "# This is for creating the output video in Colab, not required outside Colab\r\n",
        "env = wrap_env(env, video_callable=lambda episode_id: episode_id % 100 == 0) # Save a video every 100 episodes\r\n",
        "\r\n",
        "num_iterations = 1000\r\n",
        "epsilon = 0.03\r\n",
        "\r\n",
        "score_record = []\r\n",
        "frame_list = []\r\n",
        "\r\n",
        "win_counter = 0\r\n",
        "# for episode_num, tau in enumerate(exploration_profile):\r\n",
        "for episode_num in range(num_iterations):\r\n",
        "\r\n",
        "    # if score % 2 == 0:\r\n",
        "    #         epsilon = 0\r\n",
        "\r\n",
        "    # Reset the environment and get the initial state\r\n",
        "    _ = env.reset()\r\n",
        "    # frame_past = env.render(mode=\"rgb_array\")\r\n",
        "    init_frame = env.render(mode=\"rgb_array\")\r\n",
        "    frame_list = [init_frame, init_frame, init_frame]\r\n",
        "\r\n",
        "    image_state = state_from_image2(frame_list)\r\n",
        "\r\n",
        "    # Reset the score. The final score will be the total amount of steps before the pole falls\r\n",
        "    score = 0\r\n",
        "    done = False\r\n",
        "\r\n",
        "    verbose = True\r\n",
        "\r\n",
        "    # Go on until the pole falls off\r\n",
        "    while not done:\r\n",
        "\r\n",
        "        # if score % 2 == 0:\r\n",
        "        #     epsilon = 0\r\n",
        "        action, q_values = choose_action_epsilon_greedy(policy_net, image_state, epsilon) \r\n",
        "        \r\n",
        "        # Apply the action and get the next state, the reward and a flag \"done\" that is True if the game is ended\r\n",
        "        _, reward, done, info = env.step(action)\r\n",
        "\r\n",
        "\r\n",
        "\r\n",
        "        # save the frame in a array\r\n",
        "        frame_curr = env.render(mode=\"rgb_array\")\r\n",
        "        frame_list.pop(0)\r\n",
        "        frame_list.append(frame_curr)\r\n",
        "\r\n",
        "        next_image_state = state_from_image2(frame_list)\r\n",
        "\r\n",
        "        # We apply a (linear) penalty when the cart is far from center\r\n",
        "        pos_weight = 0.1\r\n",
        "        reward = reward - pos_weight * np.abs(image_state[0]) \r\n",
        "        # apply penalty also if on the pole angle velocity\r\n",
        "        pole_weight = 0.1\r\n",
        "        reward = reward - pos_weight * np.abs(image_state[3])\r\n",
        "        # pole_weight = 1\r\n",
        "        # reward = reward - pos_weight * np.abs(image_state[4])\r\n",
        "        # pole_weight = 1\r\n",
        "        # reward = reward - pos_weight * np.abs(image_state[5])  \r\n",
        "\r\n",
        "        # Update the final score (+1 for each step)\r\n",
        "        score += 1\r\n",
        "\r\n",
        "        # Apply penalty for bad state\r\n",
        "        if done: # if the pole has fallen down \r\n",
        "            reward += bad_state_penalty\r\n",
        "            next_image_state = None\r\n",
        "\r\n",
        "        # Update the replay memory\r\n",
        "        replay_mem.push(image_state, action, next_image_state, reward)\r\n",
        "\r\n",
        "        # Update the network\r\n",
        "        if len(replay_mem) > min_samples_for_training: # we enable the training only if we have enough samples in the replay memory, otherwise the training will use the same samples too often\r\n",
        "            update_step(policy_net, target_net, replay_mem, gamma, optimizer, loss_fn, batch_size)\r\n",
        "\r\n",
        "\r\n",
        "        # print(np.shape(frame))\r\n",
        "        # call  image process\r\n",
        "        # print(state_from_image(frame))\r\n",
        "\r\n",
        "        # Set the current state for the next iteration\r\n",
        "        image_state = next_image_state\r\n",
        "        # frame_past = frame_curr\r\n",
        "\r\n",
        "        # if verbose:\r\n",
        "        #     if episode_num % 200 == 0 :\r\n",
        "        #         print(image_state)\r\n",
        "\r\n",
        "    # Update the target network every target_net_update_steps episodes\r\n",
        "    if episode_num % target_net_update_steps == 0:\r\n",
        "        if verbose:\r\n",
        "            print('Updating target network...')\r\n",
        "        target_net.load_state_dict(policy_net.state_dict()) # This will copy the weights of the policy network to the target network\r\n",
        "        # win_counter = 0\r\n",
        "    score_record.append(score)\r\n",
        "\r\n",
        "    if score == 500:\r\n",
        "        win_counter +=1\r\n",
        "    else:\r\n",
        "        win_counter = 0\r\n",
        "    # Print the final score\r\n",
        "    if verbose:\r\n",
        "        print(f\"EPISODE: {episode_num + 1} - FINAL SCORE: {score} - Epsilon: {epsilon}\") # Print the final score\r\n",
        "\r\n",
        "    # #exit if we have 10 consecutive wins with the same net\r\n",
        "    # if win_counter == target_net_update_steps:\r\n",
        "    #     break\r\n",
        "\r\n",
        "    \r\n",
        "env.close()"
      ],
      "execution_count": 28,
      "outputs": [
        {
          "output_type": "stream",
          "text": [
            "Updating target network...\n",
            "EPISODE: 1 - FINAL SCORE: 13 - Epsilon: 0.03\n",
            "EPISODE: 2 - FINAL SCORE: 14 - Epsilon: 0.03\n",
            "EPISODE: 3 - FINAL SCORE: 23 - Epsilon: 0.03\n",
            "EPISODE: 4 - FINAL SCORE: 13 - Epsilon: 0.03\n",
            "EPISODE: 5 - FINAL SCORE: 14 - Epsilon: 0.03\n",
            "EPISODE: 6 - FINAL SCORE: 16 - Epsilon: 0.03\n",
            "EPISODE: 7 - FINAL SCORE: 12 - Epsilon: 0.03\n",
            "EPISODE: 8 - FINAL SCORE: 15 - Epsilon: 0.03\n",
            "EPISODE: 9 - FINAL SCORE: 14 - Epsilon: 0.03\n",
            "EPISODE: 10 - FINAL SCORE: 18 - Epsilon: 0.03\n",
            "Updating target network...\n",
            "EPISODE: 11 - FINAL SCORE: 13 - Epsilon: 0.03\n",
            "EPISODE: 12 - FINAL SCORE: 12 - Epsilon: 0.03\n",
            "EPISODE: 13 - FINAL SCORE: 15 - Epsilon: 0.03\n",
            "EPISODE: 14 - FINAL SCORE: 20 - Epsilon: 0.03\n",
            "EPISODE: 15 - FINAL SCORE: 9 - Epsilon: 0.03\n",
            "EPISODE: 16 - FINAL SCORE: 16 - Epsilon: 0.03\n",
            "EPISODE: 17 - FINAL SCORE: 12 - Epsilon: 0.03\n",
            "EPISODE: 18 - FINAL SCORE: 17 - Epsilon: 0.03\n",
            "EPISODE: 19 - FINAL SCORE: 12 - Epsilon: 0.03\n",
            "EPISODE: 20 - FINAL SCORE: 13 - Epsilon: 0.03\n",
            "Updating target network...\n",
            "EPISODE: 21 - FINAL SCORE: 13 - Epsilon: 0.03\n",
            "EPISODE: 22 - FINAL SCORE: 12 - Epsilon: 0.03\n",
            "EPISODE: 23 - FINAL SCORE: 15 - Epsilon: 0.03\n",
            "EPISODE: 24 - FINAL SCORE: 10 - Epsilon: 0.03\n",
            "EPISODE: 25 - FINAL SCORE: 18 - Epsilon: 0.03\n",
            "EPISODE: 26 - FINAL SCORE: 15 - Epsilon: 0.03\n",
            "EPISODE: 27 - FINAL SCORE: 11 - Epsilon: 0.03\n",
            "EPISODE: 28 - FINAL SCORE: 15 - Epsilon: 0.03\n",
            "EPISODE: 29 - FINAL SCORE: 15 - Epsilon: 0.03\n",
            "EPISODE: 30 - FINAL SCORE: 15 - Epsilon: 0.03\n",
            "Updating target network...\n",
            "EPISODE: 31 - FINAL SCORE: 13 - Epsilon: 0.03\n",
            "EPISODE: 32 - FINAL SCORE: 19 - Epsilon: 0.03\n",
            "EPISODE: 33 - FINAL SCORE: 15 - Epsilon: 0.03\n",
            "EPISODE: 34 - FINAL SCORE: 14 - Epsilon: 0.03\n",
            "EPISODE: 35 - FINAL SCORE: 18 - Epsilon: 0.03\n",
            "EPISODE: 36 - FINAL SCORE: 11 - Epsilon: 0.03\n",
            "EPISODE: 37 - FINAL SCORE: 12 - Epsilon: 0.03\n",
            "EPISODE: 38 - FINAL SCORE: 13 - Epsilon: 0.03\n",
            "EPISODE: 39 - FINAL SCORE: 19 - Epsilon: 0.03\n",
            "EPISODE: 40 - FINAL SCORE: 13 - Epsilon: 0.03\n",
            "Updating target network...\n",
            "EPISODE: 41 - FINAL SCORE: 19 - Epsilon: 0.03\n",
            "EPISODE: 42 - FINAL SCORE: 17 - Epsilon: 0.03\n",
            "EPISODE: 43 - FINAL SCORE: 16 - Epsilon: 0.03\n",
            "EPISODE: 44 - FINAL SCORE: 16 - Epsilon: 0.03\n",
            "EPISODE: 45 - FINAL SCORE: 18 - Epsilon: 0.03\n",
            "EPISODE: 46 - FINAL SCORE: 19 - Epsilon: 0.03\n",
            "EPISODE: 47 - FINAL SCORE: 11 - Epsilon: 0.03\n",
            "EPISODE: 48 - FINAL SCORE: 10 - Epsilon: 0.03\n",
            "EPISODE: 49 - FINAL SCORE: 23 - Epsilon: 0.03\n",
            "EPISODE: 50 - FINAL SCORE: 13 - Epsilon: 0.03\n",
            "Updating target network...\n",
            "EPISODE: 51 - FINAL SCORE: 11 - Epsilon: 0.03\n",
            "EPISODE: 52 - FINAL SCORE: 10 - Epsilon: 0.03\n",
            "EPISODE: 53 - FINAL SCORE: 11 - Epsilon: 0.03\n",
            "EPISODE: 54 - FINAL SCORE: 10 - Epsilon: 0.03\n",
            "EPISODE: 55 - FINAL SCORE: 11 - Epsilon: 0.03\n",
            "EPISODE: 56 - FINAL SCORE: 12 - Epsilon: 0.03\n",
            "EPISODE: 57 - FINAL SCORE: 17 - Epsilon: 0.03\n",
            "EPISODE: 58 - FINAL SCORE: 16 - Epsilon: 0.03\n",
            "EPISODE: 59 - FINAL SCORE: 11 - Epsilon: 0.03\n",
            "EPISODE: 60 - FINAL SCORE: 14 - Epsilon: 0.03\n",
            "Updating target network...\n",
            "EPISODE: 61 - FINAL SCORE: 23 - Epsilon: 0.03\n",
            "EPISODE: 62 - FINAL SCORE: 12 - Epsilon: 0.03\n",
            "EPISODE: 63 - FINAL SCORE: 16 - Epsilon: 0.03\n",
            "EPISODE: 64 - FINAL SCORE: 14 - Epsilon: 0.03\n",
            "EPISODE: 65 - FINAL SCORE: 15 - Epsilon: 0.03\n",
            "EPISODE: 66 - FINAL SCORE: 12 - Epsilon: 0.03\n",
            "EPISODE: 67 - FINAL SCORE: 13 - Epsilon: 0.03\n",
            "EPISODE: 68 - FINAL SCORE: 14 - Epsilon: 0.03\n",
            "EPISODE: 69 - FINAL SCORE: 18 - Epsilon: 0.03\n",
            "EPISODE: 70 - FINAL SCORE: 12 - Epsilon: 0.03\n",
            "Updating target network...\n",
            "EPISODE: 71 - FINAL SCORE: 12 - Epsilon: 0.03\n",
            "EPISODE: 72 - FINAL SCORE: 10 - Epsilon: 0.03\n",
            "EPISODE: 73 - FINAL SCORE: 10 - Epsilon: 0.03\n",
            "EPISODE: 74 - FINAL SCORE: 9 - Epsilon: 0.03\n",
            "EPISODE: 75 - FINAL SCORE: 8 - Epsilon: 0.03\n",
            "EPISODE: 76 - FINAL SCORE: 10 - Epsilon: 0.03\n",
            "EPISODE: 77 - FINAL SCORE: 10 - Epsilon: 0.03\n",
            "EPISODE: 78 - FINAL SCORE: 12 - Epsilon: 0.03\n",
            "EPISODE: 79 - FINAL SCORE: 9 - Epsilon: 0.03\n",
            "EPISODE: 80 - FINAL SCORE: 10 - Epsilon: 0.03\n",
            "Updating target network...\n",
            "EPISODE: 81 - FINAL SCORE: 10 - Epsilon: 0.03\n",
            "EPISODE: 82 - FINAL SCORE: 9 - Epsilon: 0.03\n",
            "EPISODE: 83 - FINAL SCORE: 11 - Epsilon: 0.03\n",
            "EPISODE: 84 - FINAL SCORE: 11 - Epsilon: 0.03\n",
            "EPISODE: 85 - FINAL SCORE: 10 - Epsilon: 0.03\n",
            "EPISODE: 86 - FINAL SCORE: 10 - Epsilon: 0.03\n",
            "EPISODE: 87 - FINAL SCORE: 10 - Epsilon: 0.03\n",
            "EPISODE: 88 - FINAL SCORE: 11 - Epsilon: 0.03\n",
            "EPISODE: 89 - FINAL SCORE: 8 - Epsilon: 0.03\n",
            "EPISODE: 90 - FINAL SCORE: 8 - Epsilon: 0.03\n",
            "Updating target network...\n",
            "EPISODE: 91 - FINAL SCORE: 10 - Epsilon: 0.03\n",
            "EPISODE: 92 - FINAL SCORE: 10 - Epsilon: 0.03\n",
            "EPISODE: 93 - FINAL SCORE: 9 - Epsilon: 0.03\n",
            "EPISODE: 94 - FINAL SCORE: 9 - Epsilon: 0.03\n",
            "EPISODE: 95 - FINAL SCORE: 9 - Epsilon: 0.03\n",
            "EPISODE: 96 - FINAL SCORE: 8 - Epsilon: 0.03\n",
            "EPISODE: 97 - FINAL SCORE: 10 - Epsilon: 0.03\n",
            "EPISODE: 98 - FINAL SCORE: 9 - Epsilon: 0.03\n",
            "EPISODE: 99 - FINAL SCORE: 8 - Epsilon: 0.03\n",
            "EPISODE: 100 - FINAL SCORE: 9 - Epsilon: 0.03\n",
            "Updating target network...\n",
            "EPISODE: 101 - FINAL SCORE: 9 - Epsilon: 0.03\n",
            "EPISODE: 102 - FINAL SCORE: 10 - Epsilon: 0.03\n",
            "EPISODE: 103 - FINAL SCORE: 12 - Epsilon: 0.03\n",
            "EPISODE: 104 - FINAL SCORE: 9 - Epsilon: 0.03\n",
            "EPISODE: 105 - FINAL SCORE: 9 - Epsilon: 0.03\n",
            "EPISODE: 106 - FINAL SCORE: 11 - Epsilon: 0.03\n",
            "EPISODE: 107 - FINAL SCORE: 9 - Epsilon: 0.03\n",
            "EPISODE: 108 - FINAL SCORE: 11 - Epsilon: 0.03\n",
            "EPISODE: 109 - FINAL SCORE: 11 - Epsilon: 0.03\n",
            "EPISODE: 110 - FINAL SCORE: 10 - Epsilon: 0.03\n",
            "Updating target network...\n",
            "EPISODE: 111 - FINAL SCORE: 9 - Epsilon: 0.03\n",
            "EPISODE: 112 - FINAL SCORE: 10 - Epsilon: 0.03\n",
            "EPISODE: 113 - FINAL SCORE: 11 - Epsilon: 0.03\n",
            "EPISODE: 114 - FINAL SCORE: 9 - Epsilon: 0.03\n",
            "EPISODE: 115 - FINAL SCORE: 11 - Epsilon: 0.03\n",
            "EPISODE: 116 - FINAL SCORE: 9 - Epsilon: 0.03\n",
            "EPISODE: 117 - FINAL SCORE: 16 - Epsilon: 0.03\n",
            "EPISODE: 118 - FINAL SCORE: 12 - Epsilon: 0.03\n",
            "EPISODE: 119 - FINAL SCORE: 10 - Epsilon: 0.03\n",
            "EPISODE: 120 - FINAL SCORE: 8 - Epsilon: 0.03\n",
            "Updating target network...\n",
            "EPISODE: 121 - FINAL SCORE: 11 - Epsilon: 0.03\n",
            "EPISODE: 122 - FINAL SCORE: 11 - Epsilon: 0.03\n",
            "EPISODE: 123 - FINAL SCORE: 11 - Epsilon: 0.03\n",
            "EPISODE: 124 - FINAL SCORE: 10 - Epsilon: 0.03\n",
            "EPISODE: 125 - FINAL SCORE: 10 - Epsilon: 0.03\n",
            "EPISODE: 126 - FINAL SCORE: 10 - Epsilon: 0.03\n",
            "EPISODE: 127 - FINAL SCORE: 10 - Epsilon: 0.03\n",
            "EPISODE: 128 - FINAL SCORE: 11 - Epsilon: 0.03\n",
            "EPISODE: 129 - FINAL SCORE: 13 - Epsilon: 0.03\n",
            "EPISODE: 130 - FINAL SCORE: 10 - Epsilon: 0.03\n",
            "Updating target network...\n",
            "EPISODE: 131 - FINAL SCORE: 12 - Epsilon: 0.03\n",
            "EPISODE: 132 - FINAL SCORE: 15 - Epsilon: 0.03\n",
            "EPISODE: 133 - FINAL SCORE: 12 - Epsilon: 0.03\n",
            "EPISODE: 134 - FINAL SCORE: 12 - Epsilon: 0.03\n",
            "EPISODE: 135 - FINAL SCORE: 11 - Epsilon: 0.03\n",
            "EPISODE: 136 - FINAL SCORE: 10 - Epsilon: 0.03\n",
            "EPISODE: 137 - FINAL SCORE: 10 - Epsilon: 0.03\n",
            "EPISODE: 138 - FINAL SCORE: 13 - Epsilon: 0.03\n",
            "EPISODE: 139 - FINAL SCORE: 17 - Epsilon: 0.03\n",
            "EPISODE: 140 - FINAL SCORE: 11 - Epsilon: 0.03\n",
            "Updating target network...\n",
            "EPISODE: 141 - FINAL SCORE: 11 - Epsilon: 0.03\n",
            "EPISODE: 142 - FINAL SCORE: 12 - Epsilon: 0.03\n",
            "EPISODE: 143 - FINAL SCORE: 12 - Epsilon: 0.03\n",
            "EPISODE: 144 - FINAL SCORE: 12 - Epsilon: 0.03\n",
            "EPISODE: 145 - FINAL SCORE: 12 - Epsilon: 0.03\n",
            "EPISODE: 146 - FINAL SCORE: 10 - Epsilon: 0.03\n",
            "EPISODE: 147 - FINAL SCORE: 16 - Epsilon: 0.03\n",
            "EPISODE: 148 - FINAL SCORE: 37 - Epsilon: 0.03\n",
            "EPISODE: 149 - FINAL SCORE: 15 - Epsilon: 0.03\n",
            "EPISODE: 150 - FINAL SCORE: 12 - Epsilon: 0.03\n",
            "Updating target network...\n",
            "EPISODE: 151 - FINAL SCORE: 70 - Epsilon: 0.03\n",
            "EPISODE: 152 - FINAL SCORE: 79 - Epsilon: 0.03\n",
            "EPISODE: 153 - FINAL SCORE: 64 - Epsilon: 0.03\n",
            "EPISODE: 154 - FINAL SCORE: 44 - Epsilon: 0.03\n",
            "EPISODE: 155 - FINAL SCORE: 28 - Epsilon: 0.03\n",
            "EPISODE: 156 - FINAL SCORE: 68 - Epsilon: 0.03\n",
            "EPISODE: 157 - FINAL SCORE: 50 - Epsilon: 0.03\n",
            "EPISODE: 158 - FINAL SCORE: 82 - Epsilon: 0.03\n",
            "EPISODE: 159 - FINAL SCORE: 16 - Epsilon: 0.03\n",
            "EPISODE: 160 - FINAL SCORE: 115 - Epsilon: 0.03\n",
            "Updating target network...\n",
            "EPISODE: 161 - FINAL SCORE: 31 - Epsilon: 0.03\n",
            "EPISODE: 162 - FINAL SCORE: 26 - Epsilon: 0.03\n",
            "EPISODE: 163 - FINAL SCORE: 19 - Epsilon: 0.03\n",
            "EPISODE: 164 - FINAL SCORE: 10 - Epsilon: 0.03\n",
            "EPISODE: 165 - FINAL SCORE: 10 - Epsilon: 0.03\n",
            "EPISODE: 166 - FINAL SCORE: 12 - Epsilon: 0.03\n",
            "EPISODE: 167 - FINAL SCORE: 9 - Epsilon: 0.03\n",
            "EPISODE: 168 - FINAL SCORE: 11 - Epsilon: 0.03\n",
            "EPISODE: 169 - FINAL SCORE: 9 - Epsilon: 0.03\n",
            "EPISODE: 170 - FINAL SCORE: 12 - Epsilon: 0.03\n",
            "Updating target network...\n",
            "EPISODE: 171 - FINAL SCORE: 9 - Epsilon: 0.03\n",
            "EPISODE: 172 - FINAL SCORE: 13 - Epsilon: 0.03\n",
            "EPISODE: 173 - FINAL SCORE: 9 - Epsilon: 0.03\n",
            "EPISODE: 174 - FINAL SCORE: 11 - Epsilon: 0.03\n",
            "EPISODE: 175 - FINAL SCORE: 10 - Epsilon: 0.03\n",
            "EPISODE: 176 - FINAL SCORE: 12 - Epsilon: 0.03\n",
            "EPISODE: 177 - FINAL SCORE: 10 - Epsilon: 0.03\n",
            "EPISODE: 178 - FINAL SCORE: 9 - Epsilon: 0.03\n",
            "EPISODE: 179 - FINAL SCORE: 10 - Epsilon: 0.03\n",
            "EPISODE: 180 - FINAL SCORE: 8 - Epsilon: 0.03\n",
            "Updating target network...\n",
            "EPISODE: 181 - FINAL SCORE: 11 - Epsilon: 0.03\n",
            "EPISODE: 182 - FINAL SCORE: 11 - Epsilon: 0.03\n",
            "EPISODE: 183 - FINAL SCORE: 10 - Epsilon: 0.03\n",
            "EPISODE: 184 - FINAL SCORE: 9 - Epsilon: 0.03\n",
            "EPISODE: 185 - FINAL SCORE: 8 - Epsilon: 0.03\n",
            "EPISODE: 186 - FINAL SCORE: 9 - Epsilon: 0.03\n",
            "EPISODE: 187 - FINAL SCORE: 9 - Epsilon: 0.03\n",
            "EPISODE: 188 - FINAL SCORE: 9 - Epsilon: 0.03\n",
            "EPISODE: 189 - FINAL SCORE: 10 - Epsilon: 0.03\n",
            "EPISODE: 190 - FINAL SCORE: 10 - Epsilon: 0.03\n",
            "Updating target network...\n",
            "EPISODE: 191 - FINAL SCORE: 10 - Epsilon: 0.03\n",
            "EPISODE: 192 - FINAL SCORE: 12 - Epsilon: 0.03\n",
            "EPISODE: 193 - FINAL SCORE: 10 - Epsilon: 0.03\n",
            "EPISODE: 194 - FINAL SCORE: 8 - Epsilon: 0.03\n",
            "EPISODE: 195 - FINAL SCORE: 9 - Epsilon: 0.03\n",
            "EPISODE: 196 - FINAL SCORE: 9 - Epsilon: 0.03\n",
            "EPISODE: 197 - FINAL SCORE: 8 - Epsilon: 0.03\n",
            "EPISODE: 198 - FINAL SCORE: 11 - Epsilon: 0.03\n",
            "EPISODE: 199 - FINAL SCORE: 9 - Epsilon: 0.03\n",
            "EPISODE: 200 - FINAL SCORE: 10 - Epsilon: 0.03\n",
            "Updating target network...\n",
            "EPISODE: 201 - FINAL SCORE: 10 - Epsilon: 0.03\n",
            "EPISODE: 202 - FINAL SCORE: 10 - Epsilon: 0.03\n",
            "EPISODE: 203 - FINAL SCORE: 10 - Epsilon: 0.03\n",
            "EPISODE: 204 - FINAL SCORE: 9 - Epsilon: 0.03\n",
            "EPISODE: 205 - FINAL SCORE: 10 - Epsilon: 0.03\n",
            "EPISODE: 206 - FINAL SCORE: 12 - Epsilon: 0.03\n",
            "EPISODE: 207 - FINAL SCORE: 10 - Epsilon: 0.03\n",
            "EPISODE: 208 - FINAL SCORE: 9 - Epsilon: 0.03\n",
            "EPISODE: 209 - FINAL SCORE: 13 - Epsilon: 0.03\n",
            "EPISODE: 210 - FINAL SCORE: 10 - Epsilon: 0.03\n",
            "Updating target network...\n",
            "EPISODE: 211 - FINAL SCORE: 10 - Epsilon: 0.03\n",
            "EPISODE: 212 - FINAL SCORE: 10 - Epsilon: 0.03\n",
            "EPISODE: 213 - FINAL SCORE: 9 - Epsilon: 0.03\n",
            "EPISODE: 214 - FINAL SCORE: 9 - Epsilon: 0.03\n",
            "EPISODE: 215 - FINAL SCORE: 10 - Epsilon: 0.03\n",
            "EPISODE: 216 - FINAL SCORE: 10 - Epsilon: 0.03\n",
            "EPISODE: 217 - FINAL SCORE: 9 - Epsilon: 0.03\n",
            "EPISODE: 218 - FINAL SCORE: 10 - Epsilon: 0.03\n",
            "EPISODE: 219 - FINAL SCORE: 10 - Epsilon: 0.03\n",
            "EPISODE: 220 - FINAL SCORE: 8 - Epsilon: 0.03\n",
            "Updating target network...\n",
            "EPISODE: 221 - FINAL SCORE: 9 - Epsilon: 0.03\n",
            "EPISODE: 222 - FINAL SCORE: 9 - Epsilon: 0.03\n",
            "EPISODE: 223 - FINAL SCORE: 9 - Epsilon: 0.03\n",
            "EPISODE: 224 - FINAL SCORE: 9 - Epsilon: 0.03\n",
            "EPISODE: 225 - FINAL SCORE: 9 - Epsilon: 0.03\n",
            "EPISODE: 226 - FINAL SCORE: 13 - Epsilon: 0.03\n",
            "EPISODE: 227 - FINAL SCORE: 9 - Epsilon: 0.03\n",
            "EPISODE: 228 - FINAL SCORE: 11 - Epsilon: 0.03\n",
            "EPISODE: 229 - FINAL SCORE: 8 - Epsilon: 0.03\n",
            "EPISODE: 230 - FINAL SCORE: 9 - Epsilon: 0.03\n",
            "Updating target network...\n",
            "EPISODE: 231 - FINAL SCORE: 11 - Epsilon: 0.03\n",
            "EPISODE: 232 - FINAL SCORE: 9 - Epsilon: 0.03\n",
            "EPISODE: 233 - FINAL SCORE: 10 - Epsilon: 0.03\n",
            "EPISODE: 234 - FINAL SCORE: 9 - Epsilon: 0.03\n",
            "EPISODE: 235 - FINAL SCORE: 10 - Epsilon: 0.03\n",
            "EPISODE: 236 - FINAL SCORE: 8 - Epsilon: 0.03\n",
            "EPISODE: 237 - FINAL SCORE: 10 - Epsilon: 0.03\n",
            "EPISODE: 238 - FINAL SCORE: 9 - Epsilon: 0.03\n",
            "EPISODE: 239 - FINAL SCORE: 9 - Epsilon: 0.03\n",
            "EPISODE: 240 - FINAL SCORE: 8 - Epsilon: 0.03\n",
            "Updating target network...\n",
            "EPISODE: 241 - FINAL SCORE: 9 - Epsilon: 0.03\n",
            "EPISODE: 242 - FINAL SCORE: 9 - Epsilon: 0.03\n",
            "EPISODE: 243 - FINAL SCORE: 9 - Epsilon: 0.03\n",
            "EPISODE: 244 - FINAL SCORE: 10 - Epsilon: 0.03\n",
            "EPISODE: 245 - FINAL SCORE: 10 - Epsilon: 0.03\n",
            "EPISODE: 246 - FINAL SCORE: 8 - Epsilon: 0.03\n",
            "EPISODE: 247 - FINAL SCORE: 10 - Epsilon: 0.03\n",
            "EPISODE: 248 - FINAL SCORE: 9 - Epsilon: 0.03\n",
            "EPISODE: 249 - FINAL SCORE: 9 - Epsilon: 0.03\n",
            "EPISODE: 250 - FINAL SCORE: 9 - Epsilon: 0.03\n",
            "Updating target network...\n",
            "EPISODE: 251 - FINAL SCORE: 11 - Epsilon: 0.03\n",
            "EPISODE: 252 - FINAL SCORE: 10 - Epsilon: 0.03\n",
            "EPISODE: 253 - FINAL SCORE: 10 - Epsilon: 0.03\n",
            "EPISODE: 254 - FINAL SCORE: 10 - Epsilon: 0.03\n",
            "EPISODE: 255 - FINAL SCORE: 9 - Epsilon: 0.03\n",
            "EPISODE: 256 - FINAL SCORE: 9 - Epsilon: 0.03\n",
            "EPISODE: 257 - FINAL SCORE: 12 - Epsilon: 0.03\n",
            "EPISODE: 258 - FINAL SCORE: 10 - Epsilon: 0.03\n",
            "EPISODE: 259 - FINAL SCORE: 9 - Epsilon: 0.03\n",
            "EPISODE: 260 - FINAL SCORE: 10 - Epsilon: 0.03\n",
            "Updating target network...\n",
            "EPISODE: 261 - FINAL SCORE: 10 - Epsilon: 0.03\n",
            "EPISODE: 262 - FINAL SCORE: 9 - Epsilon: 0.03\n",
            "EPISODE: 263 - FINAL SCORE: 10 - Epsilon: 0.03\n",
            "EPISODE: 264 - FINAL SCORE: 10 - Epsilon: 0.03\n",
            "EPISODE: 265 - FINAL SCORE: 10 - Epsilon: 0.03\n",
            "EPISODE: 266 - FINAL SCORE: 10 - Epsilon: 0.03\n",
            "EPISODE: 267 - FINAL SCORE: 9 - Epsilon: 0.03\n",
            "EPISODE: 268 - FINAL SCORE: 8 - Epsilon: 0.03\n",
            "EPISODE: 269 - FINAL SCORE: 11 - Epsilon: 0.03\n",
            "EPISODE: 270 - FINAL SCORE: 9 - Epsilon: 0.03\n",
            "Updating target network...\n",
            "EPISODE: 271 - FINAL SCORE: 10 - Epsilon: 0.03\n",
            "EPISODE: 272 - FINAL SCORE: 10 - Epsilon: 0.03\n",
            "EPISODE: 273 - FINAL SCORE: 9 - Epsilon: 0.03\n",
            "EPISODE: 274 - FINAL SCORE: 10 - Epsilon: 0.03\n",
            "EPISODE: 275 - FINAL SCORE: 10 - Epsilon: 0.03\n",
            "EPISODE: 276 - FINAL SCORE: 8 - Epsilon: 0.03\n",
            "EPISODE: 277 - FINAL SCORE: 10 - Epsilon: 0.03\n",
            "EPISODE: 278 - FINAL SCORE: 9 - Epsilon: 0.03\n",
            "EPISODE: 279 - FINAL SCORE: 9 - Epsilon: 0.03\n",
            "EPISODE: 280 - FINAL SCORE: 12 - Epsilon: 0.03\n",
            "Updating target network...\n",
            "EPISODE: 281 - FINAL SCORE: 10 - Epsilon: 0.03\n",
            "EPISODE: 282 - FINAL SCORE: 12 - Epsilon: 0.03\n",
            "EPISODE: 283 - FINAL SCORE: 10 - Epsilon: 0.03\n",
            "EPISODE: 284 - FINAL SCORE: 9 - Epsilon: 0.03\n",
            "EPISODE: 285 - FINAL SCORE: 9 - Epsilon: 0.03\n",
            "EPISODE: 286 - FINAL SCORE: 10 - Epsilon: 0.03\n",
            "EPISODE: 287 - FINAL SCORE: 10 - Epsilon: 0.03\n",
            "EPISODE: 288 - FINAL SCORE: 8 - Epsilon: 0.03\n",
            "EPISODE: 289 - FINAL SCORE: 11 - Epsilon: 0.03\n",
            "EPISODE: 290 - FINAL SCORE: 9 - Epsilon: 0.03\n",
            "Updating target network...\n",
            "EPISODE: 291 - FINAL SCORE: 9 - Epsilon: 0.03\n",
            "EPISODE: 292 - FINAL SCORE: 9 - Epsilon: 0.03\n",
            "EPISODE: 293 - FINAL SCORE: 9 - Epsilon: 0.03\n",
            "EPISODE: 294 - FINAL SCORE: 12 - Epsilon: 0.03\n",
            "EPISODE: 295 - FINAL SCORE: 11 - Epsilon: 0.03\n",
            "EPISODE: 296 - FINAL SCORE: 9 - Epsilon: 0.03\n",
            "EPISODE: 297 - FINAL SCORE: 10 - Epsilon: 0.03\n",
            "EPISODE: 298 - FINAL SCORE: 10 - Epsilon: 0.03\n",
            "EPISODE: 299 - FINAL SCORE: 9 - Epsilon: 0.03\n",
            "EPISODE: 300 - FINAL SCORE: 10 - Epsilon: 0.03\n",
            "Updating target network...\n",
            "EPISODE: 301 - FINAL SCORE: 10 - Epsilon: 0.03\n",
            "EPISODE: 302 - FINAL SCORE: 9 - Epsilon: 0.03\n",
            "EPISODE: 303 - FINAL SCORE: 9 - Epsilon: 0.03\n",
            "EPISODE: 304 - FINAL SCORE: 9 - Epsilon: 0.03\n",
            "EPISODE: 305 - FINAL SCORE: 9 - Epsilon: 0.03\n",
            "EPISODE: 306 - FINAL SCORE: 11 - Epsilon: 0.03\n",
            "EPISODE: 307 - FINAL SCORE: 10 - Epsilon: 0.03\n",
            "EPISODE: 308 - FINAL SCORE: 9 - Epsilon: 0.03\n",
            "EPISODE: 309 - FINAL SCORE: 10 - Epsilon: 0.03\n",
            "EPISODE: 310 - FINAL SCORE: 12 - Epsilon: 0.03\n",
            "Updating target network...\n",
            "EPISODE: 311 - FINAL SCORE: 10 - Epsilon: 0.03\n",
            "EPISODE: 312 - FINAL SCORE: 9 - Epsilon: 0.03\n",
            "EPISODE: 313 - FINAL SCORE: 10 - Epsilon: 0.03\n",
            "EPISODE: 314 - FINAL SCORE: 9 - Epsilon: 0.03\n",
            "EPISODE: 315 - FINAL SCORE: 10 - Epsilon: 0.03\n",
            "EPISODE: 316 - FINAL SCORE: 9 - Epsilon: 0.03\n",
            "EPISODE: 317 - FINAL SCORE: 9 - Epsilon: 0.03\n",
            "EPISODE: 318 - FINAL SCORE: 9 - Epsilon: 0.03\n",
            "EPISODE: 319 - FINAL SCORE: 11 - Epsilon: 0.03\n",
            "EPISODE: 320 - FINAL SCORE: 9 - Epsilon: 0.03\n",
            "Updating target network...\n",
            "EPISODE: 321 - FINAL SCORE: 9 - Epsilon: 0.03\n",
            "EPISODE: 322 - FINAL SCORE: 10 - Epsilon: 0.03\n",
            "EPISODE: 323 - FINAL SCORE: 10 - Epsilon: 0.03\n",
            "EPISODE: 324 - FINAL SCORE: 10 - Epsilon: 0.03\n",
            "EPISODE: 325 - FINAL SCORE: 11 - Epsilon: 0.03\n",
            "EPISODE: 326 - FINAL SCORE: 11 - Epsilon: 0.03\n",
            "EPISODE: 327 - FINAL SCORE: 10 - Epsilon: 0.03\n",
            "EPISODE: 328 - FINAL SCORE: 10 - Epsilon: 0.03\n",
            "EPISODE: 329 - FINAL SCORE: 38 - Epsilon: 0.03\n",
            "EPISODE: 330 - FINAL SCORE: 11 - Epsilon: 0.03\n",
            "Updating target network...\n",
            "EPISODE: 331 - FINAL SCORE: 9 - Epsilon: 0.03\n",
            "EPISODE: 332 - FINAL SCORE: 9 - Epsilon: 0.03\n",
            "EPISODE: 333 - FINAL SCORE: 12 - Epsilon: 0.03\n",
            "EPISODE: 334 - FINAL SCORE: 9 - Epsilon: 0.03\n",
            "EPISODE: 335 - FINAL SCORE: 14 - Epsilon: 0.03\n",
            "EPISODE: 336 - FINAL SCORE: 10 - Epsilon: 0.03\n",
            "EPISODE: 337 - FINAL SCORE: 10 - Epsilon: 0.03\n",
            "EPISODE: 338 - FINAL SCORE: 11 - Epsilon: 0.03\n",
            "EPISODE: 339 - FINAL SCORE: 12 - Epsilon: 0.03\n",
            "EPISODE: 340 - FINAL SCORE: 45 - Epsilon: 0.03\n",
            "Updating target network...\n",
            "EPISODE: 341 - FINAL SCORE: 9 - Epsilon: 0.03\n",
            "EPISODE: 342 - FINAL SCORE: 11 - Epsilon: 0.03\n",
            "EPISODE: 343 - FINAL SCORE: 9 - Epsilon: 0.03\n",
            "EPISODE: 344 - FINAL SCORE: 9 - Epsilon: 0.03\n",
            "EPISODE: 345 - FINAL SCORE: 10 - Epsilon: 0.03\n",
            "EPISODE: 346 - FINAL SCORE: 10 - Epsilon: 0.03\n",
            "EPISODE: 347 - FINAL SCORE: 11 - Epsilon: 0.03\n",
            "EPISODE: 348 - FINAL SCORE: 11 - Epsilon: 0.03\n",
            "EPISODE: 349 - FINAL SCORE: 10 - Epsilon: 0.03\n",
            "EPISODE: 350 - FINAL SCORE: 8 - Epsilon: 0.03\n",
            "Updating target network...\n",
            "EPISODE: 351 - FINAL SCORE: 10 - Epsilon: 0.03\n",
            "EPISODE: 352 - FINAL SCORE: 10 - Epsilon: 0.03\n",
            "EPISODE: 353 - FINAL SCORE: 11 - Epsilon: 0.03\n",
            "EPISODE: 354 - FINAL SCORE: 11 - Epsilon: 0.03\n",
            "EPISODE: 355 - FINAL SCORE: 9 - Epsilon: 0.03\n",
            "EPISODE: 356 - FINAL SCORE: 40 - Epsilon: 0.03\n",
            "EPISODE: 357 - FINAL SCORE: 16 - Epsilon: 0.03\n",
            "EPISODE: 358 - FINAL SCORE: 13 - Epsilon: 0.03\n",
            "EPISODE: 359 - FINAL SCORE: 9 - Epsilon: 0.03\n",
            "EPISODE: 360 - FINAL SCORE: 13 - Epsilon: 0.03\n",
            "Updating target network...\n",
            "EPISODE: 361 - FINAL SCORE: 11 - Epsilon: 0.03\n",
            "EPISODE: 362 - FINAL SCORE: 11 - Epsilon: 0.03\n",
            "EPISODE: 363 - FINAL SCORE: 13 - Epsilon: 0.03\n",
            "EPISODE: 364 - FINAL SCORE: 19 - Epsilon: 0.03\n",
            "EPISODE: 365 - FINAL SCORE: 31 - Epsilon: 0.03\n",
            "EPISODE: 366 - FINAL SCORE: 20 - Epsilon: 0.03\n",
            "EPISODE: 367 - FINAL SCORE: 17 - Epsilon: 0.03\n",
            "EPISODE: 368 - FINAL SCORE: 19 - Epsilon: 0.03\n",
            "EPISODE: 369 - FINAL SCORE: 21 - Epsilon: 0.03\n",
            "EPISODE: 370 - FINAL SCORE: 19 - Epsilon: 0.03\n",
            "Updating target network...\n",
            "EPISODE: 371 - FINAL SCORE: 55 - Epsilon: 0.03\n",
            "EPISODE: 372 - FINAL SCORE: 57 - Epsilon: 0.03\n",
            "EPISODE: 373 - FINAL SCORE: 55 - Epsilon: 0.03\n",
            "EPISODE: 374 - FINAL SCORE: 62 - Epsilon: 0.03\n",
            "EPISODE: 375 - FINAL SCORE: 19 - Epsilon: 0.03\n",
            "EPISODE: 376 - FINAL SCORE: 27 - Epsilon: 0.03\n",
            "EPISODE: 377 - FINAL SCORE: 116 - Epsilon: 0.03\n",
            "EPISODE: 378 - FINAL SCORE: 105 - Epsilon: 0.03\n",
            "EPISODE: 379 - FINAL SCORE: 50 - Epsilon: 0.03\n",
            "EPISODE: 380 - FINAL SCORE: 46 - Epsilon: 0.03\n",
            "Updating target network...\n",
            "EPISODE: 381 - FINAL SCORE: 26 - Epsilon: 0.03\n",
            "EPISODE: 382 - FINAL SCORE: 49 - Epsilon: 0.03\n",
            "EPISODE: 383 - FINAL SCORE: 63 - Epsilon: 0.03\n",
            "EPISODE: 384 - FINAL SCORE: 22 - Epsilon: 0.03\n",
            "EPISODE: 385 - FINAL SCORE: 46 - Epsilon: 0.03\n",
            "EPISODE: 386 - FINAL SCORE: 17 - Epsilon: 0.03\n",
            "EPISODE: 387 - FINAL SCORE: 25 - Epsilon: 0.03\n",
            "EPISODE: 388 - FINAL SCORE: 97 - Epsilon: 0.03\n",
            "EPISODE: 389 - FINAL SCORE: 101 - Epsilon: 0.03\n",
            "EPISODE: 390 - FINAL SCORE: 25 - Epsilon: 0.03\n",
            "Updating target network...\n",
            "EPISODE: 391 - FINAL SCORE: 33 - Epsilon: 0.03\n",
            "EPISODE: 392 - FINAL SCORE: 85 - Epsilon: 0.03\n",
            "EPISODE: 393 - FINAL SCORE: 52 - Epsilon: 0.03\n",
            "EPISODE: 394 - FINAL SCORE: 22 - Epsilon: 0.03\n",
            "EPISODE: 395 - FINAL SCORE: 13 - Epsilon: 0.03\n",
            "EPISODE: 396 - FINAL SCORE: 58 - Epsilon: 0.03\n",
            "EPISODE: 397 - FINAL SCORE: 42 - Epsilon: 0.03\n",
            "EPISODE: 398 - FINAL SCORE: 25 - Epsilon: 0.03\n",
            "EPISODE: 399 - FINAL SCORE: 67 - Epsilon: 0.03\n",
            "EPISODE: 400 - FINAL SCORE: 128 - Epsilon: 0.03\n",
            "Updating target network...\n",
            "EPISODE: 401 - FINAL SCORE: 21 - Epsilon: 0.03\n",
            "EPISODE: 402 - FINAL SCORE: 22 - Epsilon: 0.03\n",
            "EPISODE: 403 - FINAL SCORE: 85 - Epsilon: 0.03\n",
            "EPISODE: 404 - FINAL SCORE: 98 - Epsilon: 0.03\n",
            "EPISODE: 405 - FINAL SCORE: 124 - Epsilon: 0.03\n",
            "EPISODE: 406 - FINAL SCORE: 27 - Epsilon: 0.03\n",
            "EPISODE: 407 - FINAL SCORE: 216 - Epsilon: 0.03\n",
            "EPISODE: 408 - FINAL SCORE: 65 - Epsilon: 0.03\n",
            "EPISODE: 409 - FINAL SCORE: 265 - Epsilon: 0.03\n",
            "EPISODE: 410 - FINAL SCORE: 51 - Epsilon: 0.03\n",
            "Updating target network...\n",
            "EPISODE: 411 - FINAL SCORE: 67 - Epsilon: 0.03\n",
            "EPISODE: 412 - FINAL SCORE: 35 - Epsilon: 0.03\n",
            "EPISODE: 413 - FINAL SCORE: 105 - Epsilon: 0.03\n",
            "EPISODE: 414 - FINAL SCORE: 103 - Epsilon: 0.03\n",
            "EPISODE: 415 - FINAL SCORE: 146 - Epsilon: 0.03\n",
            "EPISODE: 416 - FINAL SCORE: 99 - Epsilon: 0.03\n",
            "EPISODE: 417 - FINAL SCORE: 20 - Epsilon: 0.03\n",
            "EPISODE: 418 - FINAL SCORE: 70 - Epsilon: 0.03\n",
            "EPISODE: 419 - FINAL SCORE: 47 - Epsilon: 0.03\n",
            "EPISODE: 420 - FINAL SCORE: 72 - Epsilon: 0.03\n",
            "Updating target network...\n",
            "EPISODE: 421 - FINAL SCORE: 130 - Epsilon: 0.03\n",
            "EPISODE: 422 - FINAL SCORE: 46 - Epsilon: 0.03\n",
            "EPISODE: 423 - FINAL SCORE: 191 - Epsilon: 0.03\n",
            "EPISODE: 424 - FINAL SCORE: 97 - Epsilon: 0.03\n",
            "EPISODE: 425 - FINAL SCORE: 151 - Epsilon: 0.03\n",
            "EPISODE: 426 - FINAL SCORE: 113 - Epsilon: 0.03\n",
            "EPISODE: 427 - FINAL SCORE: 116 - Epsilon: 0.03\n",
            "EPISODE: 428 - FINAL SCORE: 122 - Epsilon: 0.03\n",
            "EPISODE: 429 - FINAL SCORE: 25 - Epsilon: 0.03\n",
            "EPISODE: 430 - FINAL SCORE: 70 - Epsilon: 0.03\n",
            "Updating target network...\n",
            "EPISODE: 431 - FINAL SCORE: 82 - Epsilon: 0.03\n",
            "EPISODE: 432 - FINAL SCORE: 109 - Epsilon: 0.03\n",
            "EPISODE: 433 - FINAL SCORE: 133 - Epsilon: 0.03\n",
            "EPISODE: 434 - FINAL SCORE: 30 - Epsilon: 0.03\n",
            "EPISODE: 435 - FINAL SCORE: 89 - Epsilon: 0.03\n",
            "EPISODE: 436 - FINAL SCORE: 106 - Epsilon: 0.03\n",
            "EPISODE: 437 - FINAL SCORE: 98 - Epsilon: 0.03\n",
            "EPISODE: 438 - FINAL SCORE: 94 - Epsilon: 0.03\n",
            "EPISODE: 439 - FINAL SCORE: 66 - Epsilon: 0.03\n",
            "EPISODE: 440 - FINAL SCORE: 100 - Epsilon: 0.03\n",
            "Updating target network...\n",
            "EPISODE: 441 - FINAL SCORE: 96 - Epsilon: 0.03\n",
            "EPISODE: 442 - FINAL SCORE: 75 - Epsilon: 0.03\n",
            "EPISODE: 443 - FINAL SCORE: 11 - Epsilon: 0.03\n",
            "EPISODE: 444 - FINAL SCORE: 83 - Epsilon: 0.03\n",
            "EPISODE: 445 - FINAL SCORE: 70 - Epsilon: 0.03\n",
            "EPISODE: 446 - FINAL SCORE: 77 - Epsilon: 0.03\n",
            "EPISODE: 447 - FINAL SCORE: 95 - Epsilon: 0.03\n",
            "EPISODE: 448 - FINAL SCORE: 62 - Epsilon: 0.03\n",
            "EPISODE: 449 - FINAL SCORE: 105 - Epsilon: 0.03\n",
            "EPISODE: 450 - FINAL SCORE: 195 - Epsilon: 0.03\n",
            "Updating target network...\n",
            "EPISODE: 451 - FINAL SCORE: 40 - Epsilon: 0.03\n",
            "EPISODE: 452 - FINAL SCORE: 86 - Epsilon: 0.03\n",
            "EPISODE: 453 - FINAL SCORE: 118 - Epsilon: 0.03\n",
            "EPISODE: 454 - FINAL SCORE: 46 - Epsilon: 0.03\n",
            "EPISODE: 455 - FINAL SCORE: 98 - Epsilon: 0.03\n",
            "EPISODE: 456 - FINAL SCORE: 96 - Epsilon: 0.03\n",
            "EPISODE: 457 - FINAL SCORE: 86 - Epsilon: 0.03\n",
            "EPISODE: 458 - FINAL SCORE: 95 - Epsilon: 0.03\n",
            "EPISODE: 459 - FINAL SCORE: 124 - Epsilon: 0.03\n",
            "EPISODE: 460 - FINAL SCORE: 54 - Epsilon: 0.03\n",
            "Updating target network...\n",
            "EPISODE: 461 - FINAL SCORE: 72 - Epsilon: 0.03\n",
            "EPISODE: 462 - FINAL SCORE: 71 - Epsilon: 0.03\n",
            "EPISODE: 463 - FINAL SCORE: 80 - Epsilon: 0.03\n",
            "EPISODE: 464 - FINAL SCORE: 79 - Epsilon: 0.03\n",
            "EPISODE: 465 - FINAL SCORE: 85 - Epsilon: 0.03\n",
            "EPISODE: 466 - FINAL SCORE: 82 - Epsilon: 0.03\n",
            "EPISODE: 467 - FINAL SCORE: 79 - Epsilon: 0.03\n",
            "EPISODE: 468 - FINAL SCORE: 15 - Epsilon: 0.03\n",
            "EPISODE: 469 - FINAL SCORE: 35 - Epsilon: 0.03\n",
            "EPISODE: 470 - FINAL SCORE: 89 - Epsilon: 0.03\n",
            "Updating target network...\n",
            "EPISODE: 471 - FINAL SCORE: 80 - Epsilon: 0.03\n",
            "EPISODE: 472 - FINAL SCORE: 90 - Epsilon: 0.03\n",
            "EPISODE: 473 - FINAL SCORE: 79 - Epsilon: 0.03\n",
            "EPISODE: 474 - FINAL SCORE: 76 - Epsilon: 0.03\n",
            "EPISODE: 475 - FINAL SCORE: 85 - Epsilon: 0.03\n",
            "EPISODE: 476 - FINAL SCORE: 57 - Epsilon: 0.03\n",
            "EPISODE: 477 - FINAL SCORE: 75 - Epsilon: 0.03\n",
            "EPISODE: 478 - FINAL SCORE: 80 - Epsilon: 0.03\n",
            "EPISODE: 479 - FINAL SCORE: 63 - Epsilon: 0.03\n",
            "EPISODE: 480 - FINAL SCORE: 77 - Epsilon: 0.03\n",
            "Updating target network...\n",
            "EPISODE: 481 - FINAL SCORE: 65 - Epsilon: 0.03\n",
            "EPISODE: 482 - FINAL SCORE: 53 - Epsilon: 0.03\n",
            "EPISODE: 483 - FINAL SCORE: 63 - Epsilon: 0.03\n",
            "EPISODE: 484 - FINAL SCORE: 63 - Epsilon: 0.03\n",
            "EPISODE: 485 - FINAL SCORE: 71 - Epsilon: 0.03\n",
            "EPISODE: 486 - FINAL SCORE: 54 - Epsilon: 0.03\n",
            "EPISODE: 487 - FINAL SCORE: 73 - Epsilon: 0.03\n",
            "EPISODE: 488 - FINAL SCORE: 66 - Epsilon: 0.03\n",
            "EPISODE: 489 - FINAL SCORE: 68 - Epsilon: 0.03\n",
            "EPISODE: 490 - FINAL SCORE: 69 - Epsilon: 0.03\n",
            "Updating target network...\n",
            "EPISODE: 491 - FINAL SCORE: 69 - Epsilon: 0.03\n",
            "EPISODE: 492 - FINAL SCORE: 60 - Epsilon: 0.03\n",
            "EPISODE: 493 - FINAL SCORE: 73 - Epsilon: 0.03\n",
            "EPISODE: 494 - FINAL SCORE: 56 - Epsilon: 0.03\n",
            "EPISODE: 495 - FINAL SCORE: 63 - Epsilon: 0.03\n",
            "EPISODE: 496 - FINAL SCORE: 59 - Epsilon: 0.03\n",
            "EPISODE: 497 - FINAL SCORE: 62 - Epsilon: 0.03\n",
            "EPISODE: 498 - FINAL SCORE: 76 - Epsilon: 0.03\n",
            "EPISODE: 499 - FINAL SCORE: 54 - Epsilon: 0.03\n",
            "EPISODE: 500 - FINAL SCORE: 63 - Epsilon: 0.03\n",
            "Updating target network...\n",
            "EPISODE: 501 - FINAL SCORE: 80 - Epsilon: 0.03\n",
            "EPISODE: 502 - FINAL SCORE: 72 - Epsilon: 0.03\n",
            "EPISODE: 503 - FINAL SCORE: 69 - Epsilon: 0.03\n",
            "EPISODE: 504 - FINAL SCORE: 82 - Epsilon: 0.03\n",
            "EPISODE: 505 - FINAL SCORE: 81 - Epsilon: 0.03\n",
            "EPISODE: 506 - FINAL SCORE: 87 - Epsilon: 0.03\n",
            "EPISODE: 507 - FINAL SCORE: 70 - Epsilon: 0.03\n",
            "EPISODE: 508 - FINAL SCORE: 76 - Epsilon: 0.03\n",
            "EPISODE: 509 - FINAL SCORE: 78 - Epsilon: 0.03\n",
            "EPISODE: 510 - FINAL SCORE: 91 - Epsilon: 0.03\n",
            "Updating target network...\n",
            "EPISODE: 511 - FINAL SCORE: 79 - Epsilon: 0.03\n",
            "EPISODE: 512 - FINAL SCORE: 55 - Epsilon: 0.03\n",
            "EPISODE: 513 - FINAL SCORE: 100 - Epsilon: 0.03\n",
            "EPISODE: 514 - FINAL SCORE: 90 - Epsilon: 0.03\n",
            "EPISODE: 515 - FINAL SCORE: 96 - Epsilon: 0.03\n",
            "EPISODE: 516 - FINAL SCORE: 88 - Epsilon: 0.03\n",
            "EPISODE: 517 - FINAL SCORE: 88 - Epsilon: 0.03\n",
            "EPISODE: 518 - FINAL SCORE: 144 - Epsilon: 0.03\n",
            "EPISODE: 519 - FINAL SCORE: 111 - Epsilon: 0.03\n",
            "EPISODE: 520 - FINAL SCORE: 80 - Epsilon: 0.03\n",
            "Updating target network...\n",
            "EPISODE: 521 - FINAL SCORE: 97 - Epsilon: 0.03\n",
            "EPISODE: 522 - FINAL SCORE: 92 - Epsilon: 0.03\n",
            "EPISODE: 523 - FINAL SCORE: 158 - Epsilon: 0.03\n",
            "EPISODE: 524 - FINAL SCORE: 66 - Epsilon: 0.03\n",
            "EPISODE: 525 - FINAL SCORE: 70 - Epsilon: 0.03\n",
            "EPISODE: 526 - FINAL SCORE: 98 - Epsilon: 0.03\n",
            "EPISODE: 527 - FINAL SCORE: 14 - Epsilon: 0.03\n",
            "EPISODE: 528 - FINAL SCORE: 74 - Epsilon: 0.03\n",
            "EPISODE: 529 - FINAL SCORE: 82 - Epsilon: 0.03\n",
            "EPISODE: 530 - FINAL SCORE: 107 - Epsilon: 0.03\n",
            "Updating target network...\n",
            "EPISODE: 531 - FINAL SCORE: 71 - Epsilon: 0.03\n",
            "EPISODE: 532 - FINAL SCORE: 118 - Epsilon: 0.03\n",
            "EPISODE: 533 - FINAL SCORE: 41 - Epsilon: 0.03\n",
            "EPISODE: 534 - FINAL SCORE: 84 - Epsilon: 0.03\n",
            "EPISODE: 535 - FINAL SCORE: 69 - Epsilon: 0.03\n",
            "EPISODE: 536 - FINAL SCORE: 131 - Epsilon: 0.03\n",
            "EPISODE: 537 - FINAL SCORE: 98 - Epsilon: 0.03\n",
            "EPISODE: 538 - FINAL SCORE: 94 - Epsilon: 0.03\n",
            "EPISODE: 539 - FINAL SCORE: 79 - Epsilon: 0.03\n",
            "EPISODE: 540 - FINAL SCORE: 123 - Epsilon: 0.03\n",
            "Updating target network...\n",
            "EPISODE: 541 - FINAL SCORE: 95 - Epsilon: 0.03\n",
            "EPISODE: 542 - FINAL SCORE: 113 - Epsilon: 0.03\n",
            "EPISODE: 543 - FINAL SCORE: 68 - Epsilon: 0.03\n",
            "EPISODE: 544 - FINAL SCORE: 66 - Epsilon: 0.03\n",
            "EPISODE: 545 - FINAL SCORE: 54 - Epsilon: 0.03\n",
            "EPISODE: 546 - FINAL SCORE: 14 - Epsilon: 0.03\n",
            "EPISODE: 547 - FINAL SCORE: 50 - Epsilon: 0.03\n",
            "EPISODE: 548 - FINAL SCORE: 55 - Epsilon: 0.03\n",
            "EPISODE: 549 - FINAL SCORE: 12 - Epsilon: 0.03\n",
            "EPISODE: 550 - FINAL SCORE: 64 - Epsilon: 0.03\n",
            "Updating target network...\n",
            "EPISODE: 551 - FINAL SCORE: 73 - Epsilon: 0.03\n",
            "EPISODE: 552 - FINAL SCORE: 38 - Epsilon: 0.03\n",
            "EPISODE: 553 - FINAL SCORE: 140 - Epsilon: 0.03\n",
            "EPISODE: 554 - FINAL SCORE: 71 - Epsilon: 0.03\n",
            "EPISODE: 555 - FINAL SCORE: 93 - Epsilon: 0.03\n",
            "EPISODE: 556 - FINAL SCORE: 46 - Epsilon: 0.03\n",
            "EPISODE: 557 - FINAL SCORE: 91 - Epsilon: 0.03\n",
            "EPISODE: 558 - FINAL SCORE: 101 - Epsilon: 0.03\n",
            "EPISODE: 559 - FINAL SCORE: 44 - Epsilon: 0.03\n",
            "EPISODE: 560 - FINAL SCORE: 177 - Epsilon: 0.03\n",
            "Updating target network...\n",
            "EPISODE: 561 - FINAL SCORE: 119 - Epsilon: 0.03\n",
            "EPISODE: 562 - FINAL SCORE: 98 - Epsilon: 0.03\n",
            "EPISODE: 563 - FINAL SCORE: 106 - Epsilon: 0.03\n",
            "EPISODE: 564 - FINAL SCORE: 13 - Epsilon: 0.03\n",
            "EPISODE: 565 - FINAL SCORE: 15 - Epsilon: 0.03\n",
            "EPISODE: 566 - FINAL SCORE: 39 - Epsilon: 0.03\n",
            "EPISODE: 567 - FINAL SCORE: 22 - Epsilon: 0.03\n",
            "EPISODE: 568 - FINAL SCORE: 18 - Epsilon: 0.03\n",
            "EPISODE: 569 - FINAL SCORE: 27 - Epsilon: 0.03\n",
            "EPISODE: 570 - FINAL SCORE: 50 - Epsilon: 0.03\n",
            "Updating target network...\n",
            "EPISODE: 571 - FINAL SCORE: 68 - Epsilon: 0.03\n",
            "EPISODE: 572 - FINAL SCORE: 58 - Epsilon: 0.03\n",
            "EPISODE: 573 - FINAL SCORE: 72 - Epsilon: 0.03\n",
            "EPISODE: 574 - FINAL SCORE: 48 - Epsilon: 0.03\n",
            "EPISODE: 575 - FINAL SCORE: 48 - Epsilon: 0.03\n",
            "EPISODE: 576 - FINAL SCORE: 55 - Epsilon: 0.03\n",
            "EPISODE: 577 - FINAL SCORE: 64 - Epsilon: 0.03\n",
            "EPISODE: 578 - FINAL SCORE: 70 - Epsilon: 0.03\n",
            "EPISODE: 579 - FINAL SCORE: 88 - Epsilon: 0.03\n",
            "EPISODE: 580 - FINAL SCORE: 54 - Epsilon: 0.03\n",
            "Updating target network...\n",
            "EPISODE: 581 - FINAL SCORE: 33 - Epsilon: 0.03\n",
            "EPISODE: 582 - FINAL SCORE: 38 - Epsilon: 0.03\n",
            "EPISODE: 583 - FINAL SCORE: 32 - Epsilon: 0.03\n",
            "EPISODE: 584 - FINAL SCORE: 15 - Epsilon: 0.03\n",
            "EPISODE: 585 - FINAL SCORE: 70 - Epsilon: 0.03\n",
            "EPISODE: 586 - FINAL SCORE: 57 - Epsilon: 0.03\n",
            "EPISODE: 587 - FINAL SCORE: 76 - Epsilon: 0.03\n",
            "EPISODE: 588 - FINAL SCORE: 45 - Epsilon: 0.03\n",
            "EPISODE: 589 - FINAL SCORE: 62 - Epsilon: 0.03\n",
            "EPISODE: 590 - FINAL SCORE: 25 - Epsilon: 0.03\n",
            "Updating target network...\n",
            "EPISODE: 591 - FINAL SCORE: 37 - Epsilon: 0.03\n",
            "EPISODE: 592 - FINAL SCORE: 62 - Epsilon: 0.03\n",
            "EPISODE: 593 - FINAL SCORE: 89 - Epsilon: 0.03\n",
            "EPISODE: 594 - FINAL SCORE: 88 - Epsilon: 0.03\n",
            "EPISODE: 595 - FINAL SCORE: 87 - Epsilon: 0.03\n",
            "EPISODE: 596 - FINAL SCORE: 54 - Epsilon: 0.03\n",
            "EPISODE: 597 - FINAL SCORE: 117 - Epsilon: 0.03\n",
            "EPISODE: 598 - FINAL SCORE: 38 - Epsilon: 0.03\n",
            "EPISODE: 599 - FINAL SCORE: 51 - Epsilon: 0.03\n",
            "EPISODE: 600 - FINAL SCORE: 87 - Epsilon: 0.03\n",
            "Updating target network...\n",
            "EPISODE: 601 - FINAL SCORE: 56 - Epsilon: 0.03\n",
            "EPISODE: 602 - FINAL SCORE: 101 - Epsilon: 0.03\n",
            "EPISODE: 603 - FINAL SCORE: 60 - Epsilon: 0.03\n",
            "EPISODE: 604 - FINAL SCORE: 108 - Epsilon: 0.03\n",
            "EPISODE: 605 - FINAL SCORE: 128 - Epsilon: 0.03\n",
            "EPISODE: 606 - FINAL SCORE: 199 - Epsilon: 0.03\n",
            "EPISODE: 607 - FINAL SCORE: 205 - Epsilon: 0.03\n",
            "EPISODE: 608 - FINAL SCORE: 34 - Epsilon: 0.03\n",
            "EPISODE: 609 - FINAL SCORE: 51 - Epsilon: 0.03\n",
            "EPISODE: 610 - FINAL SCORE: 125 - Epsilon: 0.03\n",
            "Updating target network...\n",
            "EPISODE: 611 - FINAL SCORE: 49 - Epsilon: 0.03\n",
            "EPISODE: 612 - FINAL SCORE: 117 - Epsilon: 0.03\n",
            "EPISODE: 613 - FINAL SCORE: 133 - Epsilon: 0.03\n",
            "EPISODE: 614 - FINAL SCORE: 154 - Epsilon: 0.03\n",
            "EPISODE: 615 - FINAL SCORE: 167 - Epsilon: 0.03\n",
            "EPISODE: 616 - FINAL SCORE: 113 - Epsilon: 0.03\n",
            "EPISODE: 617 - FINAL SCORE: 162 - Epsilon: 0.03\n",
            "EPISODE: 618 - FINAL SCORE: 118 - Epsilon: 0.03\n",
            "EPISODE: 619 - FINAL SCORE: 105 - Epsilon: 0.03\n",
            "EPISODE: 620 - FINAL SCORE: 99 - Epsilon: 0.03\n",
            "Updating target network...\n",
            "EPISODE: 621 - FINAL SCORE: 126 - Epsilon: 0.03\n",
            "EPISODE: 622 - FINAL SCORE: 130 - Epsilon: 0.03\n",
            "EPISODE: 623 - FINAL SCORE: 130 - Epsilon: 0.03\n",
            "EPISODE: 624 - FINAL SCORE: 154 - Epsilon: 0.03\n",
            "EPISODE: 625 - FINAL SCORE: 131 - Epsilon: 0.03\n",
            "EPISODE: 626 - FINAL SCORE: 178 - Epsilon: 0.03\n",
            "EPISODE: 627 - FINAL SCORE: 120 - Epsilon: 0.03\n",
            "EPISODE: 628 - FINAL SCORE: 174 - Epsilon: 0.03\n",
            "EPISODE: 629 - FINAL SCORE: 89 - Epsilon: 0.03\n",
            "EPISODE: 630 - FINAL SCORE: 110 - Epsilon: 0.03\n",
            "Updating target network...\n",
            "EPISODE: 631 - FINAL SCORE: 151 - Epsilon: 0.03\n",
            "EPISODE: 632 - FINAL SCORE: 78 - Epsilon: 0.03\n",
            "EPISODE: 633 - FINAL SCORE: 109 - Epsilon: 0.03\n",
            "EPISODE: 634 - FINAL SCORE: 90 - Epsilon: 0.03\n",
            "EPISODE: 635 - FINAL SCORE: 120 - Epsilon: 0.03\n",
            "EPISODE: 636 - FINAL SCORE: 61 - Epsilon: 0.03\n",
            "EPISODE: 637 - FINAL SCORE: 88 - Epsilon: 0.03\n",
            "EPISODE: 638 - FINAL SCORE: 143 - Epsilon: 0.03\n",
            "EPISODE: 639 - FINAL SCORE: 61 - Epsilon: 0.03\n",
            "EPISODE: 640 - FINAL SCORE: 112 - Epsilon: 0.03\n",
            "Updating target network...\n",
            "EPISODE: 641 - FINAL SCORE: 94 - Epsilon: 0.03\n",
            "EPISODE: 642 - FINAL SCORE: 120 - Epsilon: 0.03\n",
            "EPISODE: 643 - FINAL SCORE: 83 - Epsilon: 0.03\n",
            "EPISODE: 644 - FINAL SCORE: 52 - Epsilon: 0.03\n",
            "EPISODE: 645 - FINAL SCORE: 154 - Epsilon: 0.03\n",
            "EPISODE: 646 - FINAL SCORE: 121 - Epsilon: 0.03\n",
            "EPISODE: 647 - FINAL SCORE: 82 - Epsilon: 0.03\n",
            "EPISODE: 648 - FINAL SCORE: 135 - Epsilon: 0.03\n",
            "EPISODE: 649 - FINAL SCORE: 120 - Epsilon: 0.03\n",
            "EPISODE: 650 - FINAL SCORE: 132 - Epsilon: 0.03\n",
            "Updating target network...\n",
            "EPISODE: 651 - FINAL SCORE: 121 - Epsilon: 0.03\n",
            "EPISODE: 652 - FINAL SCORE: 120 - Epsilon: 0.03\n",
            "EPISODE: 653 - FINAL SCORE: 100 - Epsilon: 0.03\n",
            "EPISODE: 654 - FINAL SCORE: 88 - Epsilon: 0.03\n",
            "EPISODE: 655 - FINAL SCORE: 127 - Epsilon: 0.03\n",
            "EPISODE: 656 - FINAL SCORE: 108 - Epsilon: 0.03\n",
            "EPISODE: 657 - FINAL SCORE: 95 - Epsilon: 0.03\n",
            "EPISODE: 658 - FINAL SCORE: 97 - Epsilon: 0.03\n",
            "EPISODE: 659 - FINAL SCORE: 142 - Epsilon: 0.03\n",
            "EPISODE: 660 - FINAL SCORE: 117 - Epsilon: 0.03\n",
            "Updating target network...\n",
            "EPISODE: 661 - FINAL SCORE: 78 - Epsilon: 0.03\n",
            "EPISODE: 662 - FINAL SCORE: 105 - Epsilon: 0.03\n",
            "EPISODE: 663 - FINAL SCORE: 100 - Epsilon: 0.03\n",
            "EPISODE: 664 - FINAL SCORE: 53 - Epsilon: 0.03\n",
            "EPISODE: 665 - FINAL SCORE: 11 - Epsilon: 0.03\n",
            "EPISODE: 666 - FINAL SCORE: 114 - Epsilon: 0.03\n",
            "EPISODE: 667 - FINAL SCORE: 104 - Epsilon: 0.03\n",
            "EPISODE: 668 - FINAL SCORE: 37 - Epsilon: 0.03\n",
            "EPISODE: 669 - FINAL SCORE: 91 - Epsilon: 0.03\n",
            "EPISODE: 670 - FINAL SCORE: 126 - Epsilon: 0.03\n",
            "Updating target network...\n",
            "EPISODE: 671 - FINAL SCORE: 122 - Epsilon: 0.03\n",
            "EPISODE: 672 - FINAL SCORE: 105 - Epsilon: 0.03\n",
            "EPISODE: 673 - FINAL SCORE: 29 - Epsilon: 0.03\n",
            "EPISODE: 674 - FINAL SCORE: 101 - Epsilon: 0.03\n",
            "EPISODE: 675 - FINAL SCORE: 112 - Epsilon: 0.03\n",
            "EPISODE: 676 - FINAL SCORE: 119 - Epsilon: 0.03\n",
            "EPISODE: 677 - FINAL SCORE: 108 - Epsilon: 0.03\n",
            "EPISODE: 678 - FINAL SCORE: 118 - Epsilon: 0.03\n",
            "EPISODE: 679 - FINAL SCORE: 121 - Epsilon: 0.03\n",
            "EPISODE: 680 - FINAL SCORE: 120 - Epsilon: 0.03\n",
            "Updating target network...\n",
            "EPISODE: 681 - FINAL SCORE: 108 - Epsilon: 0.03\n",
            "EPISODE: 682 - FINAL SCORE: 99 - Epsilon: 0.03\n",
            "EPISODE: 683 - FINAL SCORE: 126 - Epsilon: 0.03\n",
            "EPISODE: 684 - FINAL SCORE: 116 - Epsilon: 0.03\n",
            "EPISODE: 685 - FINAL SCORE: 107 - Epsilon: 0.03\n",
            "EPISODE: 686 - FINAL SCORE: 116 - Epsilon: 0.03\n",
            "EPISODE: 687 - FINAL SCORE: 122 - Epsilon: 0.03\n",
            "EPISODE: 688 - FINAL SCORE: 116 - Epsilon: 0.03\n",
            "EPISODE: 689 - FINAL SCORE: 105 - Epsilon: 0.03\n",
            "EPISODE: 690 - FINAL SCORE: 127 - Epsilon: 0.03\n",
            "Updating target network...\n",
            "EPISODE: 691 - FINAL SCORE: 112 - Epsilon: 0.03\n",
            "EPISODE: 692 - FINAL SCORE: 97 - Epsilon: 0.03\n",
            "EPISODE: 693 - FINAL SCORE: 102 - Epsilon: 0.03\n",
            "EPISODE: 694 - FINAL SCORE: 97 - Epsilon: 0.03\n",
            "EPISODE: 695 - FINAL SCORE: 108 - Epsilon: 0.03\n",
            "EPISODE: 696 - FINAL SCORE: 98 - Epsilon: 0.03\n",
            "EPISODE: 697 - FINAL SCORE: 98 - Epsilon: 0.03\n",
            "EPISODE: 698 - FINAL SCORE: 106 - Epsilon: 0.03\n",
            "EPISODE: 699 - FINAL SCORE: 99 - Epsilon: 0.03\n",
            "EPISODE: 700 - FINAL SCORE: 87 - Epsilon: 0.03\n",
            "Updating target network...\n",
            "EPISODE: 701 - FINAL SCORE: 121 - Epsilon: 0.03\n",
            "EPISODE: 702 - FINAL SCORE: 113 - Epsilon: 0.03\n",
            "EPISODE: 703 - FINAL SCORE: 112 - Epsilon: 0.03\n",
            "EPISODE: 704 - FINAL SCORE: 112 - Epsilon: 0.03\n",
            "EPISODE: 705 - FINAL SCORE: 103 - Epsilon: 0.03\n",
            "EPISODE: 706 - FINAL SCORE: 113 - Epsilon: 0.03\n",
            "EPISODE: 707 - FINAL SCORE: 106 - Epsilon: 0.03\n",
            "EPISODE: 708 - FINAL SCORE: 106 - Epsilon: 0.03\n",
            "EPISODE: 709 - FINAL SCORE: 96 - Epsilon: 0.03\n",
            "EPISODE: 710 - FINAL SCORE: 47 - Epsilon: 0.03\n",
            "Updating target network...\n",
            "EPISODE: 711 - FINAL SCORE: 101 - Epsilon: 0.03\n",
            "EPISODE: 712 - FINAL SCORE: 105 - Epsilon: 0.03\n",
            "EPISODE: 713 - FINAL SCORE: 101 - Epsilon: 0.03\n",
            "EPISODE: 714 - FINAL SCORE: 111 - Epsilon: 0.03\n",
            "EPISODE: 715 - FINAL SCORE: 121 - Epsilon: 0.03\n",
            "EPISODE: 716 - FINAL SCORE: 48 - Epsilon: 0.03\n",
            "EPISODE: 717 - FINAL SCORE: 108 - Epsilon: 0.03\n",
            "EPISODE: 718 - FINAL SCORE: 92 - Epsilon: 0.03\n",
            "EPISODE: 719 - FINAL SCORE: 12 - Epsilon: 0.03\n",
            "EPISODE: 720 - FINAL SCORE: 104 - Epsilon: 0.03\n",
            "Updating target network...\n",
            "EPISODE: 721 - FINAL SCORE: 133 - Epsilon: 0.03\n",
            "EPISODE: 722 - FINAL SCORE: 94 - Epsilon: 0.03\n",
            "EPISODE: 723 - FINAL SCORE: 110 - Epsilon: 0.03\n",
            "EPISODE: 724 - FINAL SCORE: 111 - Epsilon: 0.03\n",
            "EPISODE: 725 - FINAL SCORE: 101 - Epsilon: 0.03\n",
            "EPISODE: 726 - FINAL SCORE: 143 - Epsilon: 0.03\n",
            "EPISODE: 727 - FINAL SCORE: 100 - Epsilon: 0.03\n",
            "EPISODE: 728 - FINAL SCORE: 108 - Epsilon: 0.03\n",
            "EPISODE: 729 - FINAL SCORE: 88 - Epsilon: 0.03\n",
            "EPISODE: 730 - FINAL SCORE: 108 - Epsilon: 0.03\n",
            "Updating target network...\n",
            "EPISODE: 731 - FINAL SCORE: 129 - Epsilon: 0.03\n",
            "EPISODE: 732 - FINAL SCORE: 124 - Epsilon: 0.03\n",
            "EPISODE: 733 - FINAL SCORE: 115 - Epsilon: 0.03\n",
            "EPISODE: 734 - FINAL SCORE: 122 - Epsilon: 0.03\n",
            "EPISODE: 735 - FINAL SCORE: 108 - Epsilon: 0.03\n",
            "EPISODE: 736 - FINAL SCORE: 115 - Epsilon: 0.03\n",
            "EPISODE: 737 - FINAL SCORE: 114 - Epsilon: 0.03\n",
            "EPISODE: 738 - FINAL SCORE: 107 - Epsilon: 0.03\n",
            "EPISODE: 739 - FINAL SCORE: 101 - Epsilon: 0.03\n",
            "EPISODE: 740 - FINAL SCORE: 112 - Epsilon: 0.03\n",
            "Updating target network...\n",
            "EPISODE: 741 - FINAL SCORE: 107 - Epsilon: 0.03\n",
            "EPISODE: 742 - FINAL SCORE: 40 - Epsilon: 0.03\n",
            "EPISODE: 743 - FINAL SCORE: 12 - Epsilon: 0.03\n",
            "EPISODE: 744 - FINAL SCORE: 109 - Epsilon: 0.03\n",
            "EPISODE: 745 - FINAL SCORE: 42 - Epsilon: 0.03\n",
            "EPISODE: 746 - FINAL SCORE: 133 - Epsilon: 0.03\n",
            "EPISODE: 747 - FINAL SCORE: 117 - Epsilon: 0.03\n",
            "EPISODE: 748 - FINAL SCORE: 116 - Epsilon: 0.03\n",
            "EPISODE: 749 - FINAL SCORE: 110 - Epsilon: 0.03\n",
            "EPISODE: 750 - FINAL SCORE: 129 - Epsilon: 0.03\n",
            "Updating target network...\n",
            "EPISODE: 751 - FINAL SCORE: 107 - Epsilon: 0.03\n",
            "EPISODE: 752 - FINAL SCORE: 44 - Epsilon: 0.03\n",
            "EPISODE: 753 - FINAL SCORE: 30 - Epsilon: 0.03\n",
            "EPISODE: 754 - FINAL SCORE: 107 - Epsilon: 0.03\n",
            "EPISODE: 755 - FINAL SCORE: 102 - Epsilon: 0.03\n",
            "EPISODE: 756 - FINAL SCORE: 92 - Epsilon: 0.03\n",
            "EPISODE: 757 - FINAL SCORE: 107 - Epsilon: 0.03\n",
            "EPISODE: 758 - FINAL SCORE: 122 - Epsilon: 0.03\n",
            "EPISODE: 759 - FINAL SCORE: 99 - Epsilon: 0.03\n",
            "EPISODE: 760 - FINAL SCORE: 113 - Epsilon: 0.03\n",
            "Updating target network...\n",
            "EPISODE: 761 - FINAL SCORE: 36 - Epsilon: 0.03\n",
            "EPISODE: 762 - FINAL SCORE: 112 - Epsilon: 0.03\n",
            "EPISODE: 763 - FINAL SCORE: 105 - Epsilon: 0.03\n",
            "EPISODE: 764 - FINAL SCORE: 136 - Epsilon: 0.03\n",
            "EPISODE: 765 - FINAL SCORE: 111 - Epsilon: 0.03\n",
            "EPISODE: 766 - FINAL SCORE: 85 - Epsilon: 0.03\n",
            "EPISODE: 767 - FINAL SCORE: 104 - Epsilon: 0.03\n",
            "EPISODE: 768 - FINAL SCORE: 103 - Epsilon: 0.03\n",
            "EPISODE: 769 - FINAL SCORE: 113 - Epsilon: 0.03\n",
            "EPISODE: 770 - FINAL SCORE: 111 - Epsilon: 0.03\n",
            "Updating target network...\n",
            "EPISODE: 771 - FINAL SCORE: 120 - Epsilon: 0.03\n",
            "EPISODE: 772 - FINAL SCORE: 116 - Epsilon: 0.03\n",
            "EPISODE: 773 - FINAL SCORE: 108 - Epsilon: 0.03\n",
            "EPISODE: 774 - FINAL SCORE: 115 - Epsilon: 0.03\n",
            "EPISODE: 775 - FINAL SCORE: 103 - Epsilon: 0.03\n",
            "EPISODE: 776 - FINAL SCORE: 108 - Epsilon: 0.03\n",
            "EPISODE: 777 - FINAL SCORE: 111 - Epsilon: 0.03\n",
            "EPISODE: 778 - FINAL SCORE: 100 - Epsilon: 0.03\n",
            "EPISODE: 779 - FINAL SCORE: 130 - Epsilon: 0.03\n",
            "EPISODE: 780 - FINAL SCORE: 118 - Epsilon: 0.03\n",
            "Updating target network...\n",
            "EPISODE: 781 - FINAL SCORE: 101 - Epsilon: 0.03\n",
            "EPISODE: 782 - FINAL SCORE: 127 - Epsilon: 0.03\n",
            "EPISODE: 783 - FINAL SCORE: 100 - Epsilon: 0.03\n",
            "EPISODE: 784 - FINAL SCORE: 109 - Epsilon: 0.03\n",
            "EPISODE: 785 - FINAL SCORE: 102 - Epsilon: 0.03\n",
            "EPISODE: 786 - FINAL SCORE: 112 - Epsilon: 0.03\n",
            "EPISODE: 787 - FINAL SCORE: 106 - Epsilon: 0.03\n",
            "EPISODE: 788 - FINAL SCORE: 12 - Epsilon: 0.03\n",
            "EPISODE: 789 - FINAL SCORE: 110 - Epsilon: 0.03\n",
            "EPISODE: 790 - FINAL SCORE: 102 - Epsilon: 0.03\n",
            "Updating target network...\n",
            "EPISODE: 791 - FINAL SCORE: 116 - Epsilon: 0.03\n",
            "EPISODE: 792 - FINAL SCORE: 34 - Epsilon: 0.03\n",
            "EPISODE: 793 - FINAL SCORE: 103 - Epsilon: 0.03\n",
            "EPISODE: 794 - FINAL SCORE: 120 - Epsilon: 0.03\n",
            "EPISODE: 795 - FINAL SCORE: 105 - Epsilon: 0.03\n",
            "EPISODE: 796 - FINAL SCORE: 11 - Epsilon: 0.03\n",
            "EPISODE: 797 - FINAL SCORE: 51 - Epsilon: 0.03\n",
            "EPISODE: 798 - FINAL SCORE: 115 - Epsilon: 0.03\n",
            "EPISODE: 799 - FINAL SCORE: 104 - Epsilon: 0.03\n",
            "EPISODE: 800 - FINAL SCORE: 104 - Epsilon: 0.03\n",
            "Updating target network...\n",
            "EPISODE: 801 - FINAL SCORE: 120 - Epsilon: 0.03\n",
            "EPISODE: 802 - FINAL SCORE: 13 - Epsilon: 0.03\n",
            "EPISODE: 803 - FINAL SCORE: 105 - Epsilon: 0.03\n",
            "EPISODE: 804 - FINAL SCORE: 109 - Epsilon: 0.03\n",
            "EPISODE: 805 - FINAL SCORE: 104 - Epsilon: 0.03\n",
            "EPISODE: 806 - FINAL SCORE: 117 - Epsilon: 0.03\n",
            "EPISODE: 807 - FINAL SCORE: 106 - Epsilon: 0.03\n",
            "EPISODE: 808 - FINAL SCORE: 13 - Epsilon: 0.03\n",
            "EPISODE: 809 - FINAL SCORE: 106 - Epsilon: 0.03\n",
            "EPISODE: 810 - FINAL SCORE: 115 - Epsilon: 0.03\n",
            "Updating target network...\n",
            "EPISODE: 811 - FINAL SCORE: 109 - Epsilon: 0.03\n",
            "EPISODE: 812 - FINAL SCORE: 105 - Epsilon: 0.03\n",
            "EPISODE: 813 - FINAL SCORE: 112 - Epsilon: 0.03\n",
            "EPISODE: 814 - FINAL SCORE: 99 - Epsilon: 0.03\n",
            "EPISODE: 815 - FINAL SCORE: 112 - Epsilon: 0.03\n",
            "EPISODE: 816 - FINAL SCORE: 122 - Epsilon: 0.03\n",
            "EPISODE: 817 - FINAL SCORE: 108 - Epsilon: 0.03\n",
            "EPISODE: 818 - FINAL SCORE: 136 - Epsilon: 0.03\n",
            "EPISODE: 819 - FINAL SCORE: 119 - Epsilon: 0.03\n",
            "EPISODE: 820 - FINAL SCORE: 120 - Epsilon: 0.03\n",
            "Updating target network...\n",
            "EPISODE: 821 - FINAL SCORE: 126 - Epsilon: 0.03\n",
            "EPISODE: 822 - FINAL SCORE: 123 - Epsilon: 0.03\n",
            "EPISODE: 823 - FINAL SCORE: 117 - Epsilon: 0.03\n",
            "EPISODE: 824 - FINAL SCORE: 117 - Epsilon: 0.03\n",
            "EPISODE: 825 - FINAL SCORE: 125 - Epsilon: 0.03\n",
            "EPISODE: 826 - FINAL SCORE: 117 - Epsilon: 0.03\n",
            "EPISODE: 827 - FINAL SCORE: 110 - Epsilon: 0.03\n",
            "EPISODE: 828 - FINAL SCORE: 104 - Epsilon: 0.03\n",
            "EPISODE: 829 - FINAL SCORE: 115 - Epsilon: 0.03\n",
            "EPISODE: 830 - FINAL SCORE: 110 - Epsilon: 0.03\n",
            "Updating target network...\n",
            "EPISODE: 831 - FINAL SCORE: 129 - Epsilon: 0.03\n",
            "EPISODE: 832 - FINAL SCORE: 101 - Epsilon: 0.03\n",
            "EPISODE: 833 - FINAL SCORE: 113 - Epsilon: 0.03\n",
            "EPISODE: 834 - FINAL SCORE: 143 - Epsilon: 0.03\n",
            "EPISODE: 835 - FINAL SCORE: 115 - Epsilon: 0.03\n",
            "EPISODE: 836 - FINAL SCORE: 106 - Epsilon: 0.03\n",
            "EPISODE: 837 - FINAL SCORE: 122 - Epsilon: 0.03\n",
            "EPISODE: 838 - FINAL SCORE: 111 - Epsilon: 0.03\n",
            "EPISODE: 839 - FINAL SCORE: 144 - Epsilon: 0.03\n",
            "EPISODE: 840 - FINAL SCORE: 120 - Epsilon: 0.03\n",
            "Updating target network...\n",
            "EPISODE: 841 - FINAL SCORE: 118 - Epsilon: 0.03\n",
            "EPISODE: 842 - FINAL SCORE: 120 - Epsilon: 0.03\n",
            "EPISODE: 843 - FINAL SCORE: 127 - Epsilon: 0.03\n",
            "EPISODE: 844 - FINAL SCORE: 112 - Epsilon: 0.03\n",
            "EPISODE: 845 - FINAL SCORE: 135 - Epsilon: 0.03\n",
            "EPISODE: 846 - FINAL SCORE: 114 - Epsilon: 0.03\n",
            "EPISODE: 847 - FINAL SCORE: 145 - Epsilon: 0.03\n",
            "EPISODE: 848 - FINAL SCORE: 116 - Epsilon: 0.03\n",
            "EPISODE: 849 - FINAL SCORE: 15 - Epsilon: 0.03\n",
            "EPISODE: 850 - FINAL SCORE: 142 - Epsilon: 0.03\n",
            "Updating target network...\n",
            "EPISODE: 851 - FINAL SCORE: 141 - Epsilon: 0.03\n",
            "EPISODE: 852 - FINAL SCORE: 152 - Epsilon: 0.03\n",
            "EPISODE: 853 - FINAL SCORE: 132 - Epsilon: 0.03\n",
            "EPISODE: 854 - FINAL SCORE: 118 - Epsilon: 0.03\n",
            "EPISODE: 855 - FINAL SCORE: 117 - Epsilon: 0.03\n",
            "EPISODE: 856 - FINAL SCORE: 116 - Epsilon: 0.03\n",
            "EPISODE: 857 - FINAL SCORE: 131 - Epsilon: 0.03\n",
            "EPISODE: 858 - FINAL SCORE: 120 - Epsilon: 0.03\n",
            "EPISODE: 859 - FINAL SCORE: 119 - Epsilon: 0.03\n",
            "EPISODE: 860 - FINAL SCORE: 138 - Epsilon: 0.03\n",
            "Updating target network...\n",
            "EPISODE: 861 - FINAL SCORE: 133 - Epsilon: 0.03\n",
            "EPISODE: 862 - FINAL SCORE: 115 - Epsilon: 0.03\n",
            "EPISODE: 863 - FINAL SCORE: 107 - Epsilon: 0.03\n",
            "EPISODE: 864 - FINAL SCORE: 116 - Epsilon: 0.03\n",
            "EPISODE: 865 - FINAL SCORE: 124 - Epsilon: 0.03\n",
            "EPISODE: 866 - FINAL SCORE: 118 - Epsilon: 0.03\n",
            "EPISODE: 867 - FINAL SCORE: 130 - Epsilon: 0.03\n",
            "EPISODE: 868 - FINAL SCORE: 117 - Epsilon: 0.03\n",
            "EPISODE: 869 - FINAL SCORE: 145 - Epsilon: 0.03\n",
            "EPISODE: 870 - FINAL SCORE: 129 - Epsilon: 0.03\n",
            "Updating target network...\n",
            "EPISODE: 871 - FINAL SCORE: 132 - Epsilon: 0.03\n",
            "EPISODE: 872 - FINAL SCORE: 119 - Epsilon: 0.03\n",
            "EPISODE: 873 - FINAL SCORE: 128 - Epsilon: 0.03\n",
            "EPISODE: 874 - FINAL SCORE: 116 - Epsilon: 0.03\n",
            "EPISODE: 875 - FINAL SCORE: 115 - Epsilon: 0.03\n",
            "EPISODE: 876 - FINAL SCORE: 126 - Epsilon: 0.03\n",
            "EPISODE: 877 - FINAL SCORE: 121 - Epsilon: 0.03\n",
            "EPISODE: 878 - FINAL SCORE: 115 - Epsilon: 0.03\n",
            "EPISODE: 879 - FINAL SCORE: 142 - Epsilon: 0.03\n",
            "EPISODE: 880 - FINAL SCORE: 134 - Epsilon: 0.03\n",
            "Updating target network...\n",
            "EPISODE: 881 - FINAL SCORE: 118 - Epsilon: 0.03\n",
            "EPISODE: 882 - FINAL SCORE: 184 - Epsilon: 0.03\n",
            "EPISODE: 883 - FINAL SCORE: 164 - Epsilon: 0.03\n",
            "EPISODE: 884 - FINAL SCORE: 136 - Epsilon: 0.03\n",
            "EPISODE: 885 - FINAL SCORE: 139 - Epsilon: 0.03\n",
            "EPISODE: 886 - FINAL SCORE: 137 - Epsilon: 0.03\n",
            "EPISODE: 887 - FINAL SCORE: 159 - Epsilon: 0.03\n",
            "EPISODE: 888 - FINAL SCORE: 172 - Epsilon: 0.03\n",
            "EPISODE: 889 - FINAL SCORE: 131 - Epsilon: 0.03\n",
            "EPISODE: 890 - FINAL SCORE: 136 - Epsilon: 0.03\n",
            "Updating target network...\n",
            "EPISODE: 891 - FINAL SCORE: 140 - Epsilon: 0.03\n",
            "EPISODE: 892 - FINAL SCORE: 173 - Epsilon: 0.03\n",
            "EPISODE: 893 - FINAL SCORE: 128 - Epsilon: 0.03\n",
            "EPISODE: 894 - FINAL SCORE: 148 - Epsilon: 0.03\n",
            "EPISODE: 895 - FINAL SCORE: 135 - Epsilon: 0.03\n",
            "EPISODE: 896 - FINAL SCORE: 137 - Epsilon: 0.03\n",
            "EPISODE: 897 - FINAL SCORE: 133 - Epsilon: 0.03\n",
            "EPISODE: 898 - FINAL SCORE: 130 - Epsilon: 0.03\n",
            "EPISODE: 899 - FINAL SCORE: 164 - Epsilon: 0.03\n",
            "EPISODE: 900 - FINAL SCORE: 156 - Epsilon: 0.03\n",
            "Updating target network...\n",
            "EPISODE: 901 - FINAL SCORE: 138 - Epsilon: 0.03\n",
            "EPISODE: 902 - FINAL SCORE: 166 - Epsilon: 0.03\n",
            "EPISODE: 903 - FINAL SCORE: 140 - Epsilon: 0.03\n",
            "EPISODE: 904 - FINAL SCORE: 136 - Epsilon: 0.03\n",
            "EPISODE: 905 - FINAL SCORE: 171 - Epsilon: 0.03\n",
            "EPISODE: 906 - FINAL SCORE: 253 - Epsilon: 0.03\n",
            "EPISODE: 907 - FINAL SCORE: 118 - Epsilon: 0.03\n",
            "EPISODE: 908 - FINAL SCORE: 123 - Epsilon: 0.03\n",
            "EPISODE: 909 - FINAL SCORE: 218 - Epsilon: 0.03\n",
            "EPISODE: 910 - FINAL SCORE: 187 - Epsilon: 0.03\n",
            "Updating target network...\n",
            "EPISODE: 911 - FINAL SCORE: 95 - Epsilon: 0.03\n",
            "EPISODE: 912 - FINAL SCORE: 100 - Epsilon: 0.03\n",
            "EPISODE: 913 - FINAL SCORE: 177 - Epsilon: 0.03\n",
            "EPISODE: 914 - FINAL SCORE: 126 - Epsilon: 0.03\n",
            "EPISODE: 915 - FINAL SCORE: 152 - Epsilon: 0.03\n",
            "EPISODE: 916 - FINAL SCORE: 90 - Epsilon: 0.03\n",
            "EPISODE: 917 - FINAL SCORE: 96 - Epsilon: 0.03\n",
            "EPISODE: 918 - FINAL SCORE: 84 - Epsilon: 0.03\n",
            "EPISODE: 919 - FINAL SCORE: 113 - Epsilon: 0.03\n",
            "EPISODE: 920 - FINAL SCORE: 168 - Epsilon: 0.03\n",
            "Updating target network...\n",
            "EPISODE: 921 - FINAL SCORE: 162 - Epsilon: 0.03\n",
            "EPISODE: 922 - FINAL SCORE: 93 - Epsilon: 0.03\n",
            "EPISODE: 923 - FINAL SCORE: 124 - Epsilon: 0.03\n",
            "EPISODE: 924 - FINAL SCORE: 136 - Epsilon: 0.03\n",
            "EPISODE: 925 - FINAL SCORE: 152 - Epsilon: 0.03\n",
            "EPISODE: 926 - FINAL SCORE: 115 - Epsilon: 0.03\n",
            "EPISODE: 927 - FINAL SCORE: 128 - Epsilon: 0.03\n",
            "EPISODE: 928 - FINAL SCORE: 180 - Epsilon: 0.03\n",
            "EPISODE: 929 - FINAL SCORE: 126 - Epsilon: 0.03\n",
            "EPISODE: 930 - FINAL SCORE: 116 - Epsilon: 0.03\n",
            "Updating target network...\n",
            "EPISODE: 931 - FINAL SCORE: 198 - Epsilon: 0.03\n",
            "EPISODE: 932 - FINAL SCORE: 125 - Epsilon: 0.03\n",
            "EPISODE: 933 - FINAL SCORE: 275 - Epsilon: 0.03\n",
            "EPISODE: 934 - FINAL SCORE: 66 - Epsilon: 0.03\n",
            "EPISODE: 935 - FINAL SCORE: 109 - Epsilon: 0.03\n",
            "EPISODE: 936 - FINAL SCORE: 68 - Epsilon: 0.03\n",
            "EPISODE: 937 - FINAL SCORE: 92 - Epsilon: 0.03\n",
            "EPISODE: 938 - FINAL SCORE: 59 - Epsilon: 0.03\n",
            "EPISODE: 939 - FINAL SCORE: 63 - Epsilon: 0.03\n",
            "EPISODE: 940 - FINAL SCORE: 90 - Epsilon: 0.03\n",
            "Updating target network...\n",
            "EPISODE: 941 - FINAL SCORE: 68 - Epsilon: 0.03\n",
            "EPISODE: 942 - FINAL SCORE: 112 - Epsilon: 0.03\n",
            "EPISODE: 943 - FINAL SCORE: 147 - Epsilon: 0.03\n",
            "EPISODE: 944 - FINAL SCORE: 87 - Epsilon: 0.03\n",
            "EPISODE: 945 - FINAL SCORE: 72 - Epsilon: 0.03\n",
            "EPISODE: 946 - FINAL SCORE: 170 - Epsilon: 0.03\n",
            "EPISODE: 947 - FINAL SCORE: 110 - Epsilon: 0.03\n",
            "EPISODE: 948 - FINAL SCORE: 89 - Epsilon: 0.03\n",
            "EPISODE: 949 - FINAL SCORE: 94 - Epsilon: 0.03\n",
            "EPISODE: 950 - FINAL SCORE: 82 - Epsilon: 0.03\n",
            "Updating target network...\n",
            "EPISODE: 951 - FINAL SCORE: 49 - Epsilon: 0.03\n",
            "EPISODE: 952 - FINAL SCORE: 78 - Epsilon: 0.03\n",
            "EPISODE: 953 - FINAL SCORE: 142 - Epsilon: 0.03\n",
            "EPISODE: 954 - FINAL SCORE: 108 - Epsilon: 0.03\n",
            "EPISODE: 955 - FINAL SCORE: 85 - Epsilon: 0.03\n",
            "EPISODE: 956 - FINAL SCORE: 68 - Epsilon: 0.03\n",
            "EPISODE: 957 - FINAL SCORE: 73 - Epsilon: 0.03\n",
            "EPISODE: 958 - FINAL SCORE: 69 - Epsilon: 0.03\n",
            "EPISODE: 959 - FINAL SCORE: 109 - Epsilon: 0.03\n",
            "EPISODE: 960 - FINAL SCORE: 82 - Epsilon: 0.03\n",
            "Updating target network...\n",
            "EPISODE: 961 - FINAL SCORE: 72 - Epsilon: 0.03\n",
            "EPISODE: 962 - FINAL SCORE: 84 - Epsilon: 0.03\n",
            "EPISODE: 963 - FINAL SCORE: 71 - Epsilon: 0.03\n",
            "EPISODE: 964 - FINAL SCORE: 88 - Epsilon: 0.03\n",
            "EPISODE: 965 - FINAL SCORE: 104 - Epsilon: 0.03\n",
            "EPISODE: 966 - FINAL SCORE: 94 - Epsilon: 0.03\n",
            "EPISODE: 967 - FINAL SCORE: 70 - Epsilon: 0.03\n",
            "EPISODE: 968 - FINAL SCORE: 67 - Epsilon: 0.03\n",
            "EPISODE: 969 - FINAL SCORE: 91 - Epsilon: 0.03\n",
            "EPISODE: 970 - FINAL SCORE: 111 - Epsilon: 0.03\n",
            "Updating target network...\n",
            "EPISODE: 971 - FINAL SCORE: 47 - Epsilon: 0.03\n",
            "EPISODE: 972 - FINAL SCORE: 88 - Epsilon: 0.03\n",
            "EPISODE: 973 - FINAL SCORE: 143 - Epsilon: 0.03\n",
            "EPISODE: 974 - FINAL SCORE: 86 - Epsilon: 0.03\n",
            "EPISODE: 975 - FINAL SCORE: 76 - Epsilon: 0.03\n",
            "EPISODE: 976 - FINAL SCORE: 73 - Epsilon: 0.03\n",
            "EPISODE: 977 - FINAL SCORE: 73 - Epsilon: 0.03\n",
            "EPISODE: 978 - FINAL SCORE: 73 - Epsilon: 0.03\n",
            "EPISODE: 979 - FINAL SCORE: 153 - Epsilon: 0.03\n",
            "EPISODE: 980 - FINAL SCORE: 177 - Epsilon: 0.03\n",
            "Updating target network...\n",
            "EPISODE: 981 - FINAL SCORE: 140 - Epsilon: 0.03\n",
            "EPISODE: 982 - FINAL SCORE: 167 - Epsilon: 0.03\n",
            "EPISODE: 983 - FINAL SCORE: 229 - Epsilon: 0.03\n",
            "EPISODE: 984 - FINAL SCORE: 97 - Epsilon: 0.03\n",
            "EPISODE: 985 - FINAL SCORE: 31 - Epsilon: 0.03\n",
            "EPISODE: 986 - FINAL SCORE: 116 - Epsilon: 0.03\n",
            "EPISODE: 987 - FINAL SCORE: 92 - Epsilon: 0.03\n",
            "EPISODE: 988 - FINAL SCORE: 53 - Epsilon: 0.03\n",
            "EPISODE: 989 - FINAL SCORE: 30 - Epsilon: 0.03\n",
            "EPISODE: 990 - FINAL SCORE: 118 - Epsilon: 0.03\n",
            "Updating target network...\n",
            "EPISODE: 991 - FINAL SCORE: 104 - Epsilon: 0.03\n",
            "EPISODE: 992 - FINAL SCORE: 100 - Epsilon: 0.03\n",
            "EPISODE: 993 - FINAL SCORE: 130 - Epsilon: 0.03\n",
            "EPISODE: 994 - FINAL SCORE: 84 - Epsilon: 0.03\n",
            "EPISODE: 995 - FINAL SCORE: 56 - Epsilon: 0.03\n",
            "EPISODE: 996 - FINAL SCORE: 138 - Epsilon: 0.03\n",
            "EPISODE: 997 - FINAL SCORE: 140 - Epsilon: 0.03\n",
            "EPISODE: 998 - FINAL SCORE: 120 - Epsilon: 0.03\n",
            "EPISODE: 999 - FINAL SCORE: 97 - Epsilon: 0.03\n",
            "EPISODE: 1000 - FINAL SCORE: 64 - Epsilon: 0.03\n"
          ],
          "name": "stdout"
        }
      ]
    },
    {
      "cell_type": "code",
      "metadata": {
        "id": "rOymZx4w5grf",
        "colab": {
          "base_uri": "https://localhost:8080/",
          "height": 265
        },
        "outputId": "7d98952d-97f4-4086-cd1b-4f3bcb0a85fd"
      },
      "source": [
        "# train_quality = \r\n",
        "\r\n",
        "def running_mean(x, N):\r\n",
        "    cumsum = np.cumsum(np.insert(x, 0, 0)) \r\n",
        "    return (cumsum[N:] - cumsum[:-N]) / float(N)\r\n",
        "\r\n",
        "plt.plot(score_record)\r\n",
        "plt.plot(running_mean(score_record,30))\r\n",
        "plt.plot(running_mean(score_record,100))\r\n",
        "\r\n",
        "# plt.ylim([0,500])\r\n",
        "plt.grid(linestyle=\":\")"
      ],
      "execution_count": 29,
      "outputs": [
        {
          "output_type": "display_data",
          "data": {
            "image/png": "[encoded data removed]",
            "text/plain": [
              "<Figure size 432x288 with 1 Axes>"
            ]
          },
          "metadata": {
            "tags": [],
            "needs_background": "light"
          }
        }
      ]
    },
    {
      "cell_type": "code",
      "metadata": {
        "id": "d2FCW0fI5grl",
        "colab": {
          "base_uri": "https://localhost:8080/",
          "height": 1000
        },
        "outputId": "0408d54f-6b2f-4b3f-cb7c-cf17a426efd9"
      },
      "source": [
        "# Display the videos, not required outside Colab\n",
        "show_videos()"
      ],
      "execution_count": 30,
      "outputs": [
        {
          "output_type": "stream",
          "text": [
            "\n",
            "SHOWING VIDEO video/openaigym.video.4.3544.video000000.mp4\n"
          ],
          "name": "stdout"
        },
        {
          "output_type": "display_data",
          "data": {
            "text/html": [
              "<video alt=\"test\" autoplay \n",
              "                loop controls style=\"height: 400px;\">\n",
              "                <source src=\"data:video/mp4;base64,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\" type=\"video/mp4\" />\n",
              "             </video>"
            ],
            "text/plain": [
              "<IPython.core.display.HTML object>"
            ]
          },
          "metadata": {
            "tags": []
          }
        },
        {
          "output_type": "stream",
          "text": [
            "\n",
            "SHOWING VIDEO video/openaigym.video.4.3544.video000100.mp4\n"
          ],
          "name": "stdout"
        },
        {
          "output_type": "display_data",
          "data": {
            "text/html": [
              "<video alt=\"test\" autoplay \n",
              "                loop controls style=\"height: 400px;\">\n",
              "                <source src=\"data:video/mp4;base64,AAAAIGZ0eXBpc29tAAACAGlzb21pc28yYXZjMW1wNDEAAAAIZnJlZQAACSRtZGF0AAACrgYF//+q3EXpvebZSLeWLNgg2SPu73gyNjQgLSBjb3JlIDE1MiByMjg1NCBlOWE1OTAzIC0gSC4yNjQvTVBFRy00IEFWQyBjb2RlYyAtIENvcHlsZWZ0IDIwMDMtMjAxNyAtIGh0dHA6Ly93d3cudmlkZW9sYW4ub3JnL3gyNjQuaHRtbCAtIG9wdGlvbnM6IGNhYmFjPTEgcmVmPTMgZGVibG9jaz0xOjA6MCBhbmFseXNlPTB4MzoweDExMyBtZT1oZXggc3VibWU9NyBwc3k9MSBwc3lfcmQ9MS4wMDowLjAwIG1peGVkX3JlZj0xIG1lX3JhbmdlPTE2IGNocm9tYV9tZT0xIHRyZWxsaXM9MSA4eDhkY3Q9MSBjcW09MCBkZWFkem9uZT0yMSwxMSBmYXN0X3Bza2lwPTEgY2hyb21hX3FwX29mZnNldD0tMiB0aHJlYWRzPTMgbG9va2FoZWFkX3RocmVhZHM9MSBzbGljZWRfdGhyZWFkcz0wIG5yPTAgZGVjaW1hdGU9MSBpbnRlcmxhY2VkPTAgYmx1cmF5X2NvbXBhdD0wIGNvbnN0cmFpbmVkX2ludHJhPTAgYmZyYW1lcz0zIGJfcHlyYW1pZD0yIGJfYWRhcHQ9MSBiX2JpYXM9MCBkaXJlY3Q9MSB3ZWlnaHRiPTEgb3Blbl9nb3A9MCB3ZWlnaHRwPTIga2V5aW50PTI1MCBrZXlpbnRfbWluPTI1IHNjZW5lY3V0PTQwIGludHJhX3JlZnJlc2g9MCByY19sb29rYWhlYWQ9NDAgcmM9Y3JmIG1idHJlZT0xIGNyZj0yMy4wIHFjb21wPTAuNjAgcXBtaW49MCBxcG1heD02OSBxcHN0ZXA9NCBpcF9yYXRpbz0xLjQwIGFxPTE6MS4wMACAAAAB9WWIhAAv//72rvzLK0cLlS4dWXuzUfLoSXL9iDB9aAAAAwAAAwAAJuKiZ0WFMeJsgAAALmAIWElDyDzETFWKgSvGXwOeIADoU/kYysRk0QcwuHUh1KYNy5oMa7kIl2verze6iX1y+AMCsPskghei/8fr+7bfm7abuFAGC9NK92ifS9Mo/jQB0fGzMOOPXid6XYr163YWgPub8hdKLNl0gEoO2A0ai88uYUHwVeAFEQmi9wJLtZuHAdXWYo1Xf2rGDfrlkSTip6w45OSNpVrP8EBSmh32IlZaeBVkrYpeaByDqha84BQKHGWmIPu4LRujoXHwXwPCF9Y85ShByznzu9SBcahykYKPHpDyeUuZ8dyukDmNg0flkenZg8fq6q0jpE923uSvRkMbzxQi5rk12iDmDD3Ob2EjAi+6OvwkORib0zGmiN4v1R1KNt8f9LwVQ0czRhpRbgsUSBCc92aVc98WakAVtN6DMNCEerGDCY9zxURbxfIrsCL0KmB9LLrbrjSHOp6EGtQfY3yH8BHKBFMG9BLlM5SzG/9B7/3nj9JJb/r/enBH9Gdaszw5ltPdSkN1RbhhD/7NcAKpzdyxWZGQemEohzXQKSgSx24QRufSf7lpsvnSJlAJyzm0p5S3tllPqiLSLgxi/6KxgAAAAwAAAwAEpQAAALlBmiRsQr/+OEAAAQ7omuOPaUAA4siXI7uM9xHy6bOtsYYQofkn3+0z+53qPveR4M5D6zozxdz+OP4r4I8Suru/njQBVnkYxwEG5f/2svuI4DVc2SGlUmP1mvvsa8at6zLjG8hI8wsJ1oWTU+G4gFoVvXyjvXHeLlFCh6DidyZdf5XphQu6u747uQKGiGEChhcnh/19Wx6ULUhRRSOPmwe/v94Upt5SAALtq7VWyI+TVZf5zDrCKicZoAAAAEhBnkJ4hH8AABa+S7BCdpVztpEpN1/cY+rSiZagIBwaIuGKxXK9Zr7kv/LDAqRXHT4RAgJw0MZ4818wAAADAACIG7Lw8jlgH+EAAAA9AZ5hdEf/AAAFHPP1GRoBQ4JkspG+QYsXI7gBB2gCgn+jqPUCE6injKlZ8MuCAAADAAADAADnUu53nVAM+AAAAEsBnmNqR/8AACOxnH65+I+xZMBaI4myOVLEZ55Fo4LG0AC3gEIxuU/Q28VcOUmGm3hE3oPVsK+d1YtFk7ftdwAAAwAZffm0X9GWAtsAAADsQZpoSahBaJlMCEf//eEAAAMD+M5XnD2rMtwnDYvgWTg66ADd9/48BUJrMvgy0wZUc0Kv4CpUV3qoAaqvRIVCmd89dCTuP/kWX5rlqDHHyco/Sc1RjaWAFu+2ZoHrgXsZSctC/6etOkZKaesFyLjo6j4ZdXZydkC1yds1Mefb30HFDGDnR6/Z1MqUkJlwml7DOUDa0nTrSRG4t1fOrX2S7FxLJkCbbKuK82MwYivoOrkm6QUg7o9h/b845NbLEgEPyo/1mXz5xQTQkv7raa379bPDzVwyi/hL3SDDy2uR8bPFKqEEOC4ybnsFMvEAAACVQZ6GRREsI/8AABYwOEXBovoJuutXLJeH9btmgpEtltGNMSxqmMzA4t6BaIAjeqctn8engBW7eL+jM29n9wOM6EWw22u6VojRY3kbXgaSvRofmpi0gv0jAGkZfVuy4GDWlYy8z889Zhi0Wgc0pkhOldhpO1w2DNkf6J/Y3ScK4ySzHFwW3vdLYfT/rwa5isHXq9glg68AAABUAZ6ldEf/AAAiwMGjAAtTJkFDuTCGo9vdUu8stwzCVHs299CknYu3t+hVDJcvEKbInliVaf/UOIEvECZB4otvjzOmM0mPnt5Hq0zS7F8sf+4hssF3AAAAXAGep2pH/wAAIq1XjVT0OJfSdJx2//jfSu9/FHCqR0xxlzpp1op1pk9bqVYZl7R0bSsFowqntLuWugS0PlbVeoHl7zadAkgqDfSr+9lD7tmD2duah4lRwk7Ty5LwAAAAk0GaqUmoQWyZTAj//IQAAA+Fu+JMeWKfoQgoe26gBa3bY8rWpcqZvPTf+Suw4qpLnjDF0L77dEMTOASeNIcKDggSa1nJsafSQPwN8C8Z29qz8jr47EnHo0ZNh+YgxecgORX3JnQ/pbVcTewESx18WPSFZS8WNMtPcHz5C0TqxcgFm5GPz85M+AZ+V4omU0DujL6kgAAAA4ttb292AAAAbG12aGQAAAAAAAAAAAAAAAAAAAPoAAAAyAABAAABAAAAAAAAAAAAAAAAAQAAAAAAAAAAAAAAAAAAAAEAAAAAAAAAAAAAAAAAAEAAAAAAAAAAAAAAAAAAAAAAAAAAAAAAAAAAAAAAAAACAAACtXRyYWsAAABcdGtoZAAAAAMAAAAAAAAAAAAAAAEAAAAAAAAAyAAAAAAAAAAAAAAAAAAAAAAAAQAAAAAAAAAAAAAAAAAAAAEAAAAAAAAAAAAAAAAAAEAAAAACWAAAAZAAAAAAACRlZHRzAAAAHGVsc3QAAAAAAAAAAQAAAMgAAAIAAAEAAAAAAi1tZGlhAAAAIG1kaGQAAAAAAAAAAAAAAAAAADIAAAAKAFXEAAAAAAAtaGRscgAAAAAAAAAAdmlkZQAAAAAAAAAAAAAAAFZpZGVvSGFuZGxlcgAAAAHYbWluZgAAABR2bWhkAAAAAQAAAAAAAAAAAAAAJGRpbmYAAAAcZHJlZgAAAAAAAAABAAAADHVybCAAAAABAAABmHN0YmwAAACYc3RzZAAAAAAAAAABAAAAiGF2YzEAAAAAAAAAAQAAAAAAAAAAAAAAAAAAAAACWAGQAEgAAABIAAAAAAAAAAEAAAAAAAAAAAAAAAAAAAAAAAAAAAAAAAAAAAAAAAAAAAAY//8AAAAyYXZjQwFkAB//4QAZZ2QAH6zZQJgz5eEAAAMAAQAAAwBkDxgxlgEABmjr48siwAAAABhzdHRzAAAAAAAAAAEAAAAKAAABAAAAABRzdHNzAAAAAAAAAAEAAAABAAAAYGN0dHMAAAAAAAAACgAAAAEAAAIAAAAAAQAABQAAAAABAAACAAAAAAEAAAAAAAAAAQAAAQAAAAABAAAFAAAAAAEAAAIAAAAAAQAAAAAAAAABAAABAAAAAAEAAAIAAAAAHHN0c2MAAAAAAAAAAQAAAAEAAAAKAAAAAQAAADxzdHN6AAAAAAAAAAAAAAAKAAAEqwAAAL0AAABMAAAAQQAAAE8AAADwAAAAmQAAAFgAAABgAAAAlwAAABRzdGNvAAAAAAAAAAEAAAAwAAAAYnVkdGEAAABabWV0YQAAAAAAAAAhaGRscgAAAAAAAAAAbWRpcmFwcGwAAAAAAAAAAAAAAAAtaWxzdAAAACWpdG9vAAAAHWRhdGEAAAABAAAAAExhdmY1Ny44My4xMDA=\" type=\"video/mp4\" />\n",
              "             </video>"
            ],
            "text/plain": [
              "<IPython.core.display.HTML object>"
            ]
          },
          "metadata": {
            "tags": []
          }
        },
        {
          "output_type": "stream",
          "text": [
            "\n",
            "SHOWING VIDEO video/openaigym.video.4.3544.video000200.mp4\n"
          ],
          "name": "stdout"
        },
        {
          "output_type": "display_data",
          "data": {
            "text/html": [
              "<video alt=\"test\" autoplay \n",
              "                loop controls style=\"height: 400px;\">\n",
              "                <source src=\"data:video/mp4;base64,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\" type=\"video/mp4\" />\n",
              "             </video>"
            ],
            "text/plain": [
              "<IPython.core.display.HTML object>"
            ]
          },
          "metadata": {
            "tags": []
          }
        },
        {
          "output_type": "stream",
          "text": [
            "\n",
            "SHOWING VIDEO video/openaigym.video.4.3544.video000300.mp4\n"
          ],
          "name": "stdout"
        },
        {
          "output_type": "display_data",
          "data": {
            "text/html": [
              "<video alt=\"test\" autoplay \n",
              "                loop controls style=\"height: 400px;\">\n",
              "                <source src=\"data:video/mp4;base64,AAAAIGZ0eXBpc29tAAACAGlzb21pc28yYXZjMW1wNDEAAAAIZnJlZQAACmBtZGF0AAACrgYF//+q3EXpvebZSLeWLNgg2SPu73gyNjQgLSBjb3JlIDE1MiByMjg1NCBlOWE1OTAzIC0gSC4yNjQvTVBFRy00IEFWQyBjb2RlYyAtIENvcHlsZWZ0IDIwMDMtMjAxNyAtIGh0dHA6Ly93d3cudmlkZW9sYW4ub3JnL3gyNjQuaHRtbCAtIG9wdGlvbnM6IGNhYmFjPTEgcmVmPTMgZGVibG9jaz0xOjA6MCBhbmFseXNlPTB4MzoweDExMyBtZT1oZXggc3VibWU9NyBwc3k9MSBwc3lfcmQ9MS4wMDowLjAwIG1peGVkX3JlZj0xIG1lX3JhbmdlPTE2IGNocm9tYV9tZT0xIHRyZWxsaXM9MSA4eDhkY3Q9MSBjcW09MCBkZWFkem9uZT0yMSwxMSBmYXN0X3Bza2lwPTEgY2hyb21hX3FwX29mZnNldD0tMiB0aHJlYWRzPTMgbG9va2FoZWFkX3RocmVhZHM9MSBzbGljZWRfdGhyZWFkcz0wIG5yPTAgZGVjaW1hdGU9MSBpbnRlcmxhY2VkPTAgYmx1cmF5X2NvbXBhdD0wIGNvbnN0cmFpbmVkX2ludHJhPTAgYmZyYW1lcz0zIGJfcHlyYW1pZD0yIGJfYWRhcHQ9MSBiX2JpYXM9MCBkaXJlY3Q9MSB3ZWlnaHRiPTEgb3Blbl9nb3A9MCB3ZWlnaHRwPTIga2V5aW50PTI1MCBrZXlpbnRfbWluPTI1IHNjZW5lY3V0PTQwIGludHJhX3JlZnJlc2g9MCByY19sb29rYWhlYWQ9NDAgcmM9Y3JmIG1idHJlZT0xIGNyZj0yMy4wIHFjb21wPTAuNjAgcXBtaW49MCBxcG1heD02OSBxcHN0ZXA9NCBpcF9yYXRpbz0xLjQwIGFxPTE6MS4wMACAAAAB4WWIhAAv//72rvzLK0cLlS4dWXuzUfLoSXL9iDB9aAAAAwAAAwAAJuKiZ0WFMeJsgAAALmAIWElDyDzETFWKgSvGXwSjAgAIotK/ImYTPv38g1Bsad9fB/QPyCrVFWE6tIpRLJ5jkcf2pMV4ER2obKw4RfGqY2nVtv6UVuyCrToIMx+iUXVwbXBlgya1feDyQvvRgWVH2acwFEV0HMfylHF0Sg0ikisVbcvzg0FgouhJv/+jkk1izbV7u8qsZSlwqz6FAL34YeXpafKnJjEVj7y95Rc2awRaiovfAouQADIB8u8i6yp2OnAkhgFriAFhFKu+xGwBZU/G5ufbtJBND+7GiOwL4iLjf+sViVY1pbSIUEnYXCunCQuPD8fpTXIcS6IGPzk5tFWb9WOMSrPXVnY9kJfbrn+c+u84s7atbw9zNu/TFIIF7IU0nL1qM6MrIYCMCVTe6FLJ3VTcaXc3K9tt+SqlG9fvvGkJhwrXLL5Nva5LynHMkfQWGMmrSaTABjgPen5SCAvqnjYshuVAiJ+Ddf0BSatA8A05F49btkCAsJ75GQFiNXM87NaUCPxWofdNnfqvXDez/E6aNUthUtpB3ZNjlNHsWMD7kDri19ProdB0V+r4IyAAAAMAAAMAAnsAAADXQZokbEK//jhAAAENE+nmgAWtLtu8tqtu1QOD/NHFeNL9ZXdZ+O2T+KJ/6dn7yMTTPsajIH+rpT1a9VubSMLQ9paxYoIAkiY/Y5cig+uVa/Y83lisb3TDUJelXDb8YgMD8B/MnIYhOn0R1XciJqcFXAClIpheuX7KQuwCta3vvUZpSlvkEeMTY19466nr2yYK+IDJiKZsKngzJ7tO7UlF78XmQCMjXuBH/SdjsigGi7KtVAjEbgsRHsxxEdhg7PSWtMvtThnu7VNsM9CQpgwOeCd2AmX9INAAAAB2QZ5CeIR/AAAWyJ+AK1Ja7s29kY8tRD2M+j1wUQ6wCae82GP9n5zYMJCwvOfUvJ/MRBkg6jVgxeSt8GcYDYd46bpb1INxv6ry+JXZ31du9/5Kf08kYct38BfoNF2BN91SK1cUnVX+AAEIpNz9T6sTrWjLBdGzVwAAAFUBnmF0R/8AACLDQmnAiS8R/iPzy646oWMwdkH2jciBcvM285HcMmMfI+io7LD9T1xxCaRakyDc60wDviI5SLryf2DetokgAAhYIa8PZm2tSqBsN6KAAAAAYQGeY2pH/wAAI78EJ+4HTovWrpgxDgdK2pr7XzPszbPaW0J/GACZ/ECyVQ/qUx8zxXF6pjtf18HYvpZTjcvIDcrP6Mu7xUkDP5df+suDgkXBgcgAA4QIMXwLlq3a1KoABQ0AAADKQZpmSahBaJlMFPCv/jhAAAEOA7Rp02ADiziRnrpHWuujUhQJtyC6GtlisSKQkjnTvOVR2sZ84BTS8xTcphfaOis81XcUpKJjwZVTzo+kPwrOCIOMG7mt3tFhT1ZCkW9EMc/4946JeRVlW99tZKqvAMDBnl6QJW0LQMm+cpkZGa90vEWccw/JnQ7s5YJISSEgX+5y+cd9NmrL9x+dmE7gCEj34n95edG9xZBOmyL65imGfktmdzDPxx3JIONMiRUa1K6EAlq8J8t/rQAAAEQBnoVqR/8AACPBgQinmcDQ+mNGUUGLTSjmuKWDy39K6DBXIk74zgAAAwAAQGTx7dv05xVn2OyVInpgnW5cxrbVKoAB8wAAAKNBmodJ4QpSZTAhX/44QAABDZMlpD5bGDdD2IuN0gG8ss7E0n3d2wAWtr09Glf1oNwR+imBx4H9vMdyLov8UXH7P5U05xMpyh15ml1g8BU/f+gpXznVdS2U2cwSQZcWKvhkQmN0cnBihgJsiT6+LhLiDh2yrZr51vnbmWluI1FepOCxw0stRH6IeBYu2BfGLvnO/qW6RRUvD6QDUHz3QuBMsCJhAAAA2kGaqknhDomUwI///IQAAA/YYSk6HEAOe0d0FueD4MQ+stYlaLlDz2lRNBZWEh/ZRF3r6v3LrmqKJTshxFcwbzY/wJvmTT2UYYFg6Wdg6fUMRQCAFvTfIfmQkdD5A5yCD/qJVvinKMUuFo0nuEszwSEVU5/KuKtyQ/V9Vz6LzlN2UV8BH0kdv7ZUDUfTCKUJSiGFfqBm0xei4Pc0G7cGQld+XJb+ku7gJsDheMwadLT6MekLz6vEvxKzuGIkGoDw6i5AVuRZIb+8gG0Q+r83DlEsdpDL5GMBoALKAAAAm0GeyEURPCP/AAAWpLuL4tREpp9DPdX2rWb4safKjFogoABOzqH8M5A/2QprnWS+RR7so4PvSLvHi8Kmzydjlz8IS7crHXfwWNhmK8QWLnfZy9WQlS+JNLU7X80LUqk2V/JqhiERFwF5XtvUODWwT+PUtmtXH//aH8Ucjfz6KDTTfjjVI37paHB9D0hfokxIAGaE2L44sZCeEBxwAAAAcAGe6WpH/wAAIzsmUKMsAd5xFFbBQzP5oPTaJyS5ShOgha4tH+vRJdvv+bLm45YPbMNea4JImAoyOlqVurG2ho3OOOyaRQgAIAJ8NDcmRrnkD6nNS0w7QkDf530HWGlFRXolL1R3NAAAL6WR5ayLAUkAAAOPbW9vdgAAAGxtdmhkAAAAAAAAAAAAAAAAAAAD6AAAANwAAQAAAQAAAAAAAAAAAAAAAAEAAAAAAAAAAAAAAAAAAAABAAAAAAAAAAAAAAAAAABAAAAAAAAAAAAAAAAAAAAAAAAAAAAAAAAAAAAAAAAAAgAAArl0cmFrAAAAXHRraGQAAAADAAAAAAAAAAAAAAABAAAAAAAAANwAAAAAAAAAAAAAAAAAAAAAAAEAAAAAAAAAAAAAAAAAAAABAAAAAAAAAAAAAAAAAABAAAAAAlgAAAGQAAAAAAAkZWR0cwAAABxlbHN0AAAAAAAAAAEAAADcAAACAAABAAAAAAIxbWRpYQAAACBtZGhkAAAAAAAAAAAAAAAAAAAyAAAACwBVxAAAAAAALWhkbHIAAAAAAAAAAHZpZGUAAAAAAAAAAAAAAABWaWRlb0hhbmRsZXIAAAAB3G1pbmYAAAAUdm1oZAAAAAEAAAAAAAAAAAAAACRkaW5mAAAAHGRyZWYAAAAAAAAAAQAAAAx1cmwgAAAAAQAAAZxzdGJsAAAAmHN0c2QAAAAAAAAAAQAAAIhhdmMxAAAAAAAAAAEAAAAAAAAAAAAAAAAAAAAAAlgBkABIAAAASAAAAAAAAAABAAAAAAAAAAAAAAAAAAAAAAAAAAAAAAAAAAAAAAAAAAAAGP//AAAAMmF2Y0MBZAAf/+EAGWdkAB+s2UCYM+XhAAADAAEAAAMAZA8YMZYBAAZo6+PLIsAAAAAYc3R0cwAAAAAAAAABAAAACwAAAQAAAAAUc3RzcwAAAAAAAAABAAAAAQAAAGBjdHRzAAAAAAAAAAoAAAABAAACAAAAAAEAAAUAAAAAAQAAAgAAAAABAAAAAAAAAAEAAAEAAAAAAQAAAwAAAAABAAABAAAAAAEAAAIAAAAAAQAABAAAAAACAAABAAAAABxzdHNjAAAAAAAAAAEAAAABAAAACwAAAAEAAABAc3RzegAAAAAAAAAAAAAACwAABJcAAADbAAAAegAAAFkAAABlAAAAzgAAAEgAAACnAAAA3gAAAJ8AAAB0AAAAFHN0Y28AAAAAAAAAAQAAADAAAABidWR0YQAAAFptZXRhAAAAAAAAACFoZGxyAAAAAAAAAABtZGlyYXBwbAAAAAAAAAAAAAAAAC1pbHN0AAAAJal0b28AAAAdZGF0YQAAAAEAAAAATGF2ZjU3LjgzLjEwMA==\" type=\"video/mp4\" />\n",
              "             </video>"
            ],
            "text/plain": [
              "<IPython.core.display.HTML object>"
            ]
          },
          "metadata": {
            "tags": []
          }
        },
        {
          "output_type": "stream",
          "text": [
            "\n",
            "SHOWING VIDEO video/openaigym.video.4.3544.video000400.mp4\n"
          ],
          "name": "stdout"
        },
        {
          "output_type": "display_data",
          "data": {
            "text/html": [
              "<video alt=\"test\" autoplay \n",
              "                loop controls style=\"height: 400px;\">\n",
              "                <source src=\"data:video/mp4;base64,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\" type=\"video/mp4\" />\n",
              "             </video>"
            ],
            "text/plain": [
              "<IPython.core.display.HTML object>"
            ]
          },
          "metadata": {
            "tags": []
          }
        },
        {
          "output_type": "stream",
          "text": [
            "\n",
            "SHOWING VIDEO video/openaigym.video.4.3544.video000500.mp4\n"
          ],
          "name": "stdout"
        },
        {
          "output_type": "display_data",
          "data": {
            "text/html": [
              "<video alt=\"test\" autoplay \n",
              "                loop controls style=\"height: 400px;\">\n",
              "                <source src=\"data:video/mp4;base64,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\" type=\"video/mp4\" />\n",
              "             </video>"
            ],
            "text/plain": [
              "<IPython.core.display.HTML object>"
            ]
          },
          "metadata": {
            "tags": []
          }
        },
        {
          "output_type": "stream",
          "text": [
            "\n",
            "SHOWING VIDEO video/openaigym.video.4.3544.video000600.mp4\n"
          ],
          "name": "stdout"
        },
        {
          "output_type": "display_data",
          "data": {
            "text/html": [
              "<video alt=\"test\" autoplay \n",
              "                loop controls style=\"height: 400px;\">\n",
              "                <source src=\"data:video/mp4;base64,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\" type=\"video/mp4\" />\n",
              "             </video>"
            ],
            "text/plain": [
              "<IPython.core.display.HTML object>"
            ]
          },
          "metadata": {
            "tags": []
          }
        },
        {
          "output_type": "stream",
          "text": [
            "\n",
            "SHOWING VIDEO video/openaigym.video.4.3544.video000700.mp4\n"
          ],
          "name": "stdout"
        },
        {
          "output_type": "display_data",
          "data": {
            "text/html": [
              "<video alt=\"test\" autoplay \n",
              "                loop controls style=\"height: 400px;\">\n",
              "                <source src=\"data:video/mp4;base64,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\" type=\"video/mp4\" />\n",
              "             </video>"
            ],
            "text/plain": [
              "<IPython.core.display.HTML object>"
            ]
          },
          "metadata": {
            "tags": []
          }
        },
        {
          "output_type": "stream",
          "text": [
            "\n",
            "SHOWING VIDEO video/openaigym.video.4.3544.video000800.mp4\n"
          ],
          "name": "stdout"
        },
        {
          "output_type": "display_data",
          "data": {
            "text/html": [
              "<video alt=\"test\" autoplay \n",
              "                loop controls style=\"height: 400px;\">\n",
              "                <source src=\"data:video/mp4;base64,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\" type=\"video/mp4\" />\n",
              "             </video>"
            ],
            "text/plain": [
              "<IPython.core.display.HTML object>"
            ]
          },
          "metadata": {
            "tags": []
          }
        },
        {
          "output_type": "stream",
          "text": [
            "\n",
            "SHOWING VIDEO video/openaigym.video.4.3544.video000900.mp4\n"
          ],
          "name": "stdout"
        },
        {
          "output_type": "display_data",
          "data": {
            "text/html": [
              "<video alt=\"test\" autoplay \n",
              "                loop controls style=\"height: 400px;\">\n",
              "                <source src=\"data:video/mp4;base64,AAAAIGZ0eXBpc29tAAACAGlzb21pc28yYXZjMW1wNDEAAAAIZnJlZQAAPNxtZGF0AAACrgYF//+q3EXpvebZSLeWLNgg2SPu73gyNjQgLSBjb3JlIDE1MiByMjg1NCBlOWE1OTAzIC0gSC4yNjQvTVBFRy00IEFWQyBjb2RlYyAtIENvcHlsZWZ0IDIwMDMtMjAxNyAtIGh0dHA6Ly93d3cudmlkZW9sYW4ub3JnL3gyNjQuaHRtbCAtIG9wdGlvbnM6IGNhYmFjPTEgcmVmPTMgZGVibG9jaz0xOjA6MCBhbmFseXNlPTB4MzoweDExMyBtZT1oZXggc3VibWU9NyBwc3k9MSBwc3lfcmQ9MS4wMDowLjAwIG1peGVkX3JlZj0xIG1lX3JhbmdlPTE2IGNocm9tYV9tZT0xIHRyZWxsaXM9MSA4eDhkY3Q9MSBjcW09MCBkZWFkem9uZT0yMSwxMSBmYXN0X3Bza2lwPTEgY2hyb21hX3FwX29mZnNldD0tMiB0aHJlYWRzPTMgbG9va2FoZWFkX3RocmVhZHM9MSBzbGljZWRfdGhyZWFkcz0wIG5yPTAgZGVjaW1hdGU9MSBpbnRlcmxhY2VkPTAgYmx1cmF5X2NvbXBhdD0wIGNvbnN0cmFpbmVkX2ludHJhPTAgYmZyYW1lcz0zIGJfcHlyYW1pZD0yIGJfYWRhcHQ9MSBiX2JpYXM9MCBkaXJlY3Q9MSB3ZWlnaHRiPTEgb3Blbl9nb3A9MCB3ZWlnaHRwPTIga2V5aW50PTI1MCBrZXlpbnRfbWluPTI1IHNjZW5lY3V0PTQwIGludHJhX3JlZnJlc2g9MCByY19sb29rYWhlYWQ9NDAgcmM9Y3JmIG1idHJlZT0xIGNyZj0yMy4wIHFjb21wPTAuNjAgcXBtaW49MCBxcG1heD02OSBxcHN0ZXA9NCBpcF9yYXRpbz0xLjQwIGFxPTE6MS4wMACAAAACHmWIhAAz//727L4FNf2f0JcRLMXaSnA+KqSAgHc0wAAAAwAAAwAAFgn0I7DkqgN3QAAAHGAFBCwCPCVC2EhH2OkN/wer9sgCsgSuJlL4UfXW21gAWLAeibDnqxZ48sUQZe3dgaF0fWHl3aBSwaGf4D866TT1U8n67T4Ii0QNw8XXysUiQ/bYnpPO/bTY3G8f5YuTD9jUjYHeq7DXr4X0JzIEYH60oiGcv0mbfwK7SAQjUto+STu7hUmj0QPYTUm7wtEgr1K+Xra3jdsx6XNwuLcLQhORgELj9Pz7p1r+BmOfreeXs+Q4EMd61feO4FLyrzk0cuFndCOgPJOkIIUNjpzc/hNz2rhG4oNtIM94d4ORPzbrZuWL9yA77DGwJO6M23AH+w7/hJVEVgoBNafdEDkfHqlBX4yaELda94MQgBWTOyYVGvK3bfuv5huF0dzanU4OHM1Pw+Zvn68eIP3sEXWM9lYSFx5liL5CYOTj4BqGRvgibTiragU/JJCLfYndch+NSWdJ/xzVWuEcTNg02QHocR12rpjUsdEXaKt+sb67kar1PYJbGaoOTd9oeWnsMtWYGdKpCAADPThsM77gA1FV8GRNsA3HfFzflyQM1DaL5UJ4dUkTjoCdlGF5DphOQ3k6auvCg94v89lR2qHoGjwYY32Oau/jXCCNjDlCntk8oJt6UjWL5BdAAF3AABCgAAADAAADAAADAAADAA55AAAA5kGaJGxC//6MsAAARgpsRgBYfS0ZEBFiRQhWXs9D7W4b02X6HYH29Dhz+fI4RbwiqzH7t2zSC1EGGe6pPWsvPV5Y8UevCFhVL34+tq88Dz3UlVInmjwFwECl30/Trq6kiG6dEQK9QxKtOrbgiKcQ/jPh32TmTK9i7wLEXAj4P4njFnTP5XdHHQIpu0xilOFnHKutw5qZyeLUZp2+1954qk/J7aG2H4oE8BxYf/rCLwtlnv//hrS6DIlhf1DpE/6ivs1csUbe1zKL5k0ijXvMFYyzRE958/pMuwDpoZatxu7VN3NhKgQ8AAAAeEGeQniEfwAAFr5LrZbvPa+XDb1Fz/3Zw1tCfBQQLkHhRKRBznYi/AUgawLqzrIiJcnXK8bTy1MVGmL0jO+e9+dKILz5GS3mm+PYNUsRZdSVYNN8sceXaTpUvknAAAADAA9R6WN+tKsDsnS3XJ5LO/XG7bVKoAA9oQAAAE0BnmF0R/8AAA1oiBn8FJfKn5++gXuCgSwnyQck7FDsAACE3NQD5RstSmnEFlXvIRc9AAADAAADABwGkPLvF9omhIAUQ4JAA5f54QABUwAAAE4BnmNqR/8AACOjbYEM9q9Da3zaFcgYXkKZ2WoXsmj3jmeLniJdhbWcWkTWLIEuABdQh/z5mqR82c2geV+JgAAAAwAAAwBPzM3JuJZYFbEAAADVQZpoSahBaJlMCF///oywAABGJDlg70m7nilmPSABY//tX0WLWuFOlf3oBahC/S0JKvz45z+2jOr2j2H8zcnAmbfLuJHvytwhgYj1xrzAvO3trCv4FX/0CemwH6d2NxRyjIlDTZAZiMWZFlIFehIQl+YhrjoaERRqdTUktXMQCUDJF05gQ1xdVPao2tisfRjBVraUDYet+C2SGeOhct9PSDEUvxQaqunfLjQo6yMuduuLGCa0Ww4Tb7cDTyTpCbQPl1Jxk4pzgsQqs+Cnpmn3vXVKoHLBAAAAd0GehkURLCP/AAAWbh9JyVgBunGZd4LhfnCPFfO7El0yTlFZtltRd9vDL8wNQRGILXJAAkcCpBXQH6BIluL1yFAznG9sRn56HiqSh7raxFNxFrtNuZrH/0M82KtycoRIwxdQhr7WRknP7niqNBgAAcURMXOVQFbBAAAAUgGepXRH/wAAI57q1Gvlh6TPHPcnU2NawQ5+jfPRiqBAAtboMEiqqrUUIFsUMRBGL5WzKldmb583PJFu21Dgo4K2J5+oAAADAAAMywNcC0MsC4kAAABGAZ6nakf/AAAjhJEb8wBXxPztbg/mbJ7t3N6eECDqtzeEASsOjeW167fOQAkn6QEfyRnSqrZcphb40UAAAAMCBJaZ8IDfgAAAAIhBmqxJqEFsmUwIX//+jLAAAEYkNH2kE9y0ge1MbIeTjjf5z4K/SlIynS1Fn8XnptxOOVRPIJg8oDee0x87QR/CcACz7COwZbpFNx9uBrr+YJ8ArNI6bojkj94IO5CaKuAyo6MURRxH4ygcwX7xFdBfvhibe+lI5A5q/9Gx3bW4j2/qrjNhpvWgAAAATEGeykUVLCP/AAAWhZoxNJLpyCub2sEaQQVeEV7z5LDRCOEXO9FVVckUAeeYGS2pMpqkunXZMf7FheRQ6VPOQAlDSZkN5BHv+YPNXZkAAAAxAZ7pdEf/AAAjw0cIcGUUDCTxz7Sonm2lb2HU15SFLYLx+8gKNPaEACdSlc1h6MrNJwAAADoBnutqR/8AACOUQ5oUY1M0U3ZmsvDFdY8iYM8UVmNKDCiikeunalgJf6Iw3NKFYQQBACYADzdtz6w3AAAAl0Ga8EmoQWyZTAhX//44QAABDgqi7SoGAFeTeQXBrHUo0g4vlg9SZ/Wo6//AvEwN9R2BwWUcbiUbgbRewVStgLX6VpftHRriPCK8umnAOwIUthkjef29fBsr75RRmqRJ35s0HaNsNWy1P6yxLvkk9iAlP7NlMzb1eJJovpHIW3eo0QisUyRq6J0jc00/Kp6pJL6xdCnZCsEAAABtQZ8ORRUsI/8AABaNboswgAi/kKGQwGA5aw1kdkSnRiJ5plkXO8dtAmaukgNt2S8GPfl6OTGc/kTD/c6Xpl/uGIeST7aBZibOznjSOg2n1h+lkwVXIgXreJQ7RkWhNDM/3UmcMtHtsWXSkH4SVQAAAEkBny10R/8AACTDj2B6Z965JtpfMuLfV8NF2jtEHh+MWBZH/hsHfOUIygn1HshC6N5+gBCnZDgPolHGX2lhTZedDkOGK1W9sfj/AAAASQGfL2pH/wAAJLGchkxxYd8X57LMvDs2cFZpHyqri7A8rV0MUIjR7H9iH72yan6i0sAEPuaqucpOWXhkEaorbUn6kPGIFLk1ZMAAAACRQZsxSahBbJlMCF///oywAABGFHguPEVAhEBjoxInAW7vLtJdk24dnMUko4L4oooltZcxPZKVRT6CD2HR34a6fhvtDPX6ft7E84TruI57R256BPTThKEURQ1u+caIerpYqPTMPNYY4RiCAmIom6CGh0+6r3cSGNq4lCSN1+H/21PEP/qChSuzhHgCLynYS22xeAAAANZBm1NJ4QpSZTBRUsL//oywAABGPN3ncE0AVqi0dUxM8Ix3u5SH3CO2PgR2qlPxHVjSJkLMEE/QlU3F0TnnQZhS/jnaDAogOTqCrB/emCLrgPIWwLsDuncwkpCGDR/jmpfJGSGUuMDCYazz1zSZY/mOpFLtGKJgQFwqa9ckIciNuoPc3N3c+S+ZpnN10HzagfTIVAY5IwDoHOToBXrY2up5QK1kCWzq1QmnWzf9swyWo5DQXt4/pzb/RGIqTWcESt1atvYdaXIB/E3Gx3E+naFC8VxVLAj5AAAAMQGfcmpH/wAAI5oU9lIZ+5aGyMZoXzaTfmlPtpaDs7rS6lw1CLfhO3S0Sgk9zHSkTrwAAADVQZt1SeEOiZTBRML//oywAABGIGinzQBWhXkeGW7yQ1D2fM6OmHrkW8riFYIRcq0dtlq7wHfrMUnsW6FhoSMvO0C3lXLxsRywOBtqWa9698b1ARf3jOvCNUd2yNPyJVt8NA2l9GdChhezddJMAofQUArS5cpEkOzfKHeIghiUuNNDBiDOxTSdfXkS/Otuzy74v+U7DSTPDs/fxbI0s+86PmkUV934OZ3ENNzN7tROf5UTWXRjq1DnynRZe+ZS3NR+Zhm4mCxg6yVl16GlPzTr5ZYC27Q+AAAAUAGflGpH/wAAJL8bRkbFUdiq2UIVNyuHhV0VRrJV5gyCKhMak5XDtuWDMVRrZ1cruYmdC41sAD3rQ1VXwyxvO/4o7H+KaiyBteJRFyhGpd7hAAAAu0GbmUnhDyZTAhf//oywAABGLwiD8GwBWha9jZ4mSAflbiLZzj1whj/88wYs7Ah0RTkz9ZtdbMw+aDg1Tl3QmtYHfPR49iOpJrGQWm1MBDcs3vw9It1dEmWMPzrXvXVXQFajRFPX400k5tSDyvCoLbzeD9Y6mhgIpxWZU2c/YiSU/Ob0J+KH+zPxfOXNLqyj6E46F/9YinTpnK6t9aBQLokLoIU/aC/UqaM+/xdgiYCoNURk7t10uNMIZ4AAAABfQZ+3RRE8I/8AABdQnW4gAi4ynwRy3ln+vQvjekR0pBRX7q1m3StiOe6ky4de0kPzkg3BZPgGcla+zCjgl5bWBHelk67vEirqOO59qA9IelQxNRj9IH2S2kb8iL0ZZqUAAABUAZ/WdEf/AAANrrk1GEM1Ltg1yC7aVVgdnJoalIpFDpkWZs81yXJUAmUx3qbkp4X6Fa+Yvwg4Jlg0AB+x5iYUUZOXZ0F075Ju2z6fZdlXOUl1Ab7hAAAASAGf2GpH/wAADdIyJPmNEMJPt4utoOn9F7Se3QAA/UPB4fr1+3ny658xW+CAou8XSoTmgA83JE2UhTflEfpzZ7biulIyKnqQYAAAAH9Bm91JqEFomUwIX//+jLAAAEgB8kQbdkRSb9u351g99I45g4h+hVfBDA/9uJXpg5i511Hq1tkfJm0qK/eSC04uwjqoAEVioMqeWbXSCAJAQhPAx3W143Bp9SYWEk55VO4SlhoRVdYU0ycai/hwymt409DcFYB7I1HMR5H5XnlRAAAAVUGf+0URLCP/AAAXDH9TPa8JlDWCeYxTRPw6l30xrUYMN7EmwpaJ4By5CWZ/3fis3paxDRYGn0kALYXfFiLD/RdG/Kx5p3/zL2xkCK9cDb1TDvseAQIAAAAtAZ4adEf/AAAkq974xAXHNhgyMKCn83eNz0RpbUiPfKe62Z6i4CSkNaugxithAAAAOQGeHGpH/wAAJL74l+Y8aS//vREaJWkTFvendbBuxc6WGba/DXwAWpQWRmOV4dYtvWRG4Em/+47ggQAAAHZBmh5JqEFsmUwIZ//+nhAAAEdOHA6AsaCSIJV+osUUVT/nHXABLH7HyK/6P+BN3Hj81miYlnqZU84pr046PROhySGGELLv4TK3bCfKjAU3LgDANj0OA8gL7DzSWobZ2UYHm+7k0PJuGXuqSc8RUzvS8b2MWQhwAAAAt0GaIknhClJlMCF//oywAABIAtDcT6xHVNQBMciWEl4C7Q67iZhnz6Vsezsj6MqdSUXoFHxsAmFq1AaIGbmQGZEnSLBNEP9Ox6UVuLAT01CEsx7m9J+MFiQhYN15DWf4aTWM49PvwZBMDTBvPLT8WgqxE424Ql/s3XLtXC58FBPS021C0XQJjZ357EmJJsbN1cmyNHZ/PSw8AMdiUe4KFMNvlPzjz02z7HkLGX1KAsFYD5IdL7aGdgAAAExBnkBFNEwj/wAAF0UPkfjNbYuHwRLj4u8AT3bT2Ra0pYFUu5rvvq+BRYX3FEEIx9UO8hODF2ZS+vDQSoi8koIwu9W6ffXomPFYLDaBAAAAOwGef3RH/wAAJMLMhPZ5U1knUtP4bGi7DQEeUu1uKyRpizCsiPgaO0D94lXGq1khBrqImqHlWHnUa93AAAAAMgGeYWpH/wAADclNBkcAUQgPxhnqK6TI1gnZ6/63wyCcHtVq06Gb60/pdm2qTlryX0XBAAAAiEGaZUmoQWiZTAhn//6eEAAAR1FQoS3sqahvaAEbfuQeSOZ0cX7HdjuQvupRN8YZ8MnaJVxrMGNboq/p+IqyjLWKS7Z9Ga9+z2k2lGQywPxDP+HZC6+DntWREpCiGfiNeOboRTxosTfdBfvKBqlvjEnQoBKiRk44SkFDRnYss7z2U85ZaJjxhsAAAABIQZ6DRREsI/8AABdMRL9vQBHUqhHl1CLlF3KTpqUfJZFr23msvr+WsabsEodCfoKg9DcrwuOblCNnmSYdTrc70KX1JKaWKrbhAAAARgGepGpH/wAAJMcyXZaMxpm25HeHg7kdKRRoZLlFOZmnTWt/GqdyGwubK25oAD2tB9z7oeTEsHTrle3RHsRSCyE5+IHL6kEAAACEQZqpSahBbJlMCF///oywAABIem9FSj7ZY8ACw9OOT7y2rGgyAQgxD1whFIRC3w3pbwHKWGR3uACvRVLhElUT370lWIEgqVHS/9WrZHieTbA7RjoZ+Cvl/9h5usZLAu0f6L4R4KXP2la7BfMcS36+l4+niLyaoI2gNwXMHS40AOS6wuLBAAAAYkGex0UVLCP/AAAXDH9Wfz1kVKiU0SPW6jUAJLmJlFGs5MiQIcv2jHMgxqrlT3aWgHcf+KiX+9FS4WxQ6so9BaP4IBehCF5k3UKxVQvPaTb9/1Jnm3f3PbtFbl77HF9g0VydAAAAMQGe5nRH/wAAJKvYEJODGmGRdVzV6wtZMUpMyzgCVsAWQAM/1d1gT/Zj0noncknx9iwAAAAzAZ7oakf/AAAkvwQmbS/et52zbp52FIEm9P+GORrtm2/cjk6N05skPo2+vCeNgS5TH7FgAAAAeEGa7UmoQWyZTAhf//6MsAAARgIIkYARfLF/asCF6modGgv7Dz5b4EWgJcGq6rU18WrneDHBbyFzJRT375PA6I+AD7ZBJ7nP4TB//5SfIb9Of7+uXPca91MyzqdYLVExRZjY5mQAxT4miJSDCZGtiVx1aP6RejrhNQAAAFdBnwtFFSwj/wAAFm5Z79orawcu/d1wADdPwGnHVlEX72lXijXFooQVXLvzYlNWJ2Oxs8pdy3qE5ZnWqMrfaPIeb1VmRmPyzodq0OkvVKEnqvAFtstjfMAAAAA2AZ8qdEf/AAAkuKW4kKuX3Q2LPWfu+WWuPYZ6zouTSRd9ui4O4BL3CVdAZRgzhi+RYhPen33QAAAATgGfLGpH/wAAJLIOxYAbdkNb1SIFBhh1chx5D01VZp7O5I1WdjSbY8mdELIYWxe7cJkmlhPuj6OQgEzkdUXW5PLNIxMCLubhmOpCkgYXTQAAAIdBmzFJqEFsmUwIX//+jLAAAEYlHRidyn3kE4De5mwQA2OGPZ9Zph11zzmusHD/DWEcndtanPKnXUJe7/kxgBa9SPUoTJ2Og8LuXP+sfyR4mkBmGEaWqoNvmPRZE6VR7Ml+XX86CQV+PDrG67sYqmH0aRg7/P3bd1N7G94BzZ6FPCJ2eMyUA4EAAABAQZ9PRRUsI/8AABazLIav5Rj9RpmnN8cFDV5yAEbTGqyslAEeQJLypazKAQ6QwIdFMIIbwCvaH5f64AhQp07UgQAAAEEBn250R/8AACOpz+fUC7foBCuyKmelD7bC6OCMvh0r+Hkcf82/7qIMrF735+yWDyEWtqnbG+uq7p5iMAz7+kJOvAAAACQBn3BqR/8AACO/Gd2QHou9yh4azIO9Y8vMzfa9Nxvee6BfIsAAAACHQZt0SahBbJlMCF///oywAABGFE+KtwByAJgRBmhQ9DtCdYyw7fkx1dul+2hDFsmxVLBKK2p/9oNmt13+2QnxWGnDjCzOhjeOetkHHfPifqLFy43fb4//l4aXr/zbLYGmQN/HzI+CoX73jvcBBtS2za1g5hnYJZkymo4dZ478KXRMlc1xO95hAAAAM0GfkkUVLCP/AAAWqAghCzce5A0ictq/MQCDgWpYBR3cLDoVo7rLtX6XwbXOhSWO7Co73AAAADYBn7NqR/8AACO9lgKJfcHM4E8krtvEaVwsXRJq6iK6JPgysm2EaK3UXMSF/VbQhPHVgnek7UgAAABnQZu3SahBbJlMCF///oywAABGEJ1rEGuu1gVLfwGGbuYFNWC4IafyrT8FeCyRK/YHcxuioZ6BffMXzyBKFCtRAgAqolVg3dI8s9+01KL/+qn4UgPptP94k2+v9l7reH3hy14cGlFxwQAAADNBn9VFFSwj/wAAFrKe2Oed63aCAhE/Pt5W4/io6iAe/sW9wJ75JrIXRgBeyQ48L5PVbMAAAABFAZ/2akf/AAAjrjEv0dQlTqDuUSS1L10gF2ipjZKWbwOxbbTQNGyjoFit4heg10AE4vNwf1TC5GtDSg+f7k3nkJ84wEmBAAAAdEGb+EmoQWyZTAhf//6MsAAARgL2WOP2OFYN7Rzr/DicFNnrdcC4NulQA1uz1oYhUN8U7jeWZkP/+uZWCZaPkcPTqqBLPUgLC1dnUG+PE9/fTyD0G9Qyt6Xgy6fbbM4MdY01xuwCK7hU5UBL8Ve20g9cOoYDAAAAeEGaHEnhClJlMCF//oywAABGem2eU1aJkBPHFLmR9o3WSGAKr6qCOe91CShqGpubL7s9JfALrEB69LGo+xa9OpMxkkRmWKHNnguFGdHXQdfjlGXp4dxrWeevpcxlaImXXR57Cdt1SEXnoC/llW+SItyVeO8zy14+wAAAAE9BnjpFNEwj/wAAFrUlO8VQBWhKXZbGK14SgcN8pFwLdPOUCi3bwH81lBo7qlY9qXMP3F27Z+3eQBeUwoMyvT/TYf5z3EaeDJsZzqxuSTbNAAAAOAGeWXRH/wAAI6v0lICn41JQD3hVGfCRR7c9jxFKw6uwfybHZoma0SvrcUDBImct/ZM5xOavY8GAAAAANQGeW2pH/wAAIr0wPU9GCbPFSj2FpFiSdL/JZ6EaCWtuFu13ZmYnfO/F5/4+rN/vm/47JzbNAAAAb0GaXUmoQWiZTAhf//6MsAAARAL2b3IgZFFwmXTbkZnDHxmfgfVk7R2KGZNyWmLBsdhHj38De75CQpBblZTNQafrPsPKwjHRCAWVAO74fN250uV1YQBVBUw8cttcpLEG1qH36YdbRCugz4kaFEEGYQAAAHlBmmBJ4QpSZTAhf/6MsAAARBCdaxBrCfe620RGa1P0BIvKme3/aGZUDAB2Ax9/8SomK/4t6f0bW9Wd4iAATmJiT0EuhosjxobK8h6zPPmNUndGn2j4HXvNNBuKfd4916CsdzUfPMhC6RSi6mIYe4W3lTjnUp8BDE/wAAAAUkGenkU0TCP/AAAV35a9Kbp7y8qek9vgmOE9APNeWdP7SYELq2KPzNHIY2JXg58Hv7GEfTJ7Wtogu1fD7zAiUBdTKOaXqJARyrhYGHE5m7lttmAAAAA9AZ6/akf/AAAirUa4RN4VbmJ9r6njo/ggIYcePXczqXRN05FuabS0esQAIg6FP2FE0N86F+8WOWeAgaQskwAAAFVBmqJJqEFomUwU8M/+nhAAAENQ65KbF4YvqoJqKMqQygP5cneOOnoAt8mghLryHXbDnOsMA8XYXgXWEewLfrHvpTxsx6PlxJfhB1Mv39C57jM7rTIQAAAARAGewWpH/wAAIq1SViAEYlK/NmzVouK5KULhWpcBMzzyCEIcLGNdQRu+vcSgSPHFXiLD4z2w/ubA5i5nvJTNfAxGOrixAAAAqUGaxknhClJlMCF//oywAABEem891VCkwA49sjwsLlMPNsXbUzt7EFHDFJL09lvjSXR37YeosYRldP8vkspBEbukPROAafG3nz9FGCwbjCGH/o2MP0vENkyVzEuKMFsQUk7av/LpXR3fsh36XNfW84gz54LuLkQzoLuPIntdFDKhs/pNPKptaqOtqPtgngyJsulKmgqor1Om+18qDZ/CS+3eNfR2PmV2kJQAAABaQZ7kRTRMI/8AABYlG9OfVBcl7od0iP3tDTeSA/QDMOLwODTL9xE1KdjQObrsaEfNJECXtelxkyZgALpYDpBWsRUBmrI/QnMnfV3GunSYNRONiAWAu5DBS8VXAAAAQAGfA3RH/wAAIqwUQQ0+e7F2MW99z13lsZ4JoShpwYtTafB+xTYgpQEgALA2H5gEjHBN6n0G1uD+CvMYLknGZ70AAABAAZ8Fakf/AAAhrUaWq68AmZhx2lTfqgy8X/yTnY82NsJ0tAhMd50GGIvqATNys9b7F7A7cip0q8wWb0d9nnPegQAAAGhBmwpJqEFomUwIX//+jLAAAEIBna0zga8/z1QPl0lFe9TcoX8j7vu/+mQR4HSe3+LTcx1+0pR20hKVTI9zmMgEACu7TVdgwXsNPudvw/HPmqyGbHPQvRBe8h5TtdULPkcIe2X3fimjgQAAAFBBnyhFESwj/wAAFZsyPLGJ4E96rYr801NSsUXnSPOzP3UMYyKFPuYgJf7/WSUR64p4t/xOFhYAH7+eBLind+pLLf3bm0qcLIP/zHxYK03VVgAAADoBn0d0R/8AACG//m6c3Qxhx0L6Q9/UW5LymgAMjKEVqkYZwBIk0pzO2ga7lcEr/MHNRHKdn0KFEMVWAAAAPwGfSWpH/wAAIa1GQryUosKcwx5Zsyj0WFcAi+G8RRFhWRBaxKarChxc+AG5Da355R8la+iqVK0bpqHsBE729QAAAKtBm01JqEFsmUwIX//+jLAAAEJ6b0LpKkGVP+gCIihRY5Q3CBkUlALf3P/uqR35InPRFimPopxLcDiqNAmFgpYOSTYXMH8zIestmP8yIQMI1BxXxB5z20UqYhYwjHrIxyorGYRZPUQBtfbeQtErBw4SE7RQr8LiKoYtNkKzSIgDDC6lgG+VCzpur1z/QqhzvDDrFIQY2+6AWOpHxCsXaEDVtEWIM/U7uXTsOfAAAABcQZ9rRRUsI/8AABWVNswMkAHHsQhjt1jhTkDeNt/46gcFEypDjHhCPhcjcRaMz3Ii+ERnW1ol4MR8kw0upYgAW5+HZljRsZfwJ8yJWmkjoucPdh4DivDoo5MN26kAAABJAZ+Makf/AAAgvTXSrkEWbh7Pb/4G0EDURQBPFIouRjLRomk2xO9dBXaylhjkyRgTELoRAB/FanwCKWxVkAuZbDqcOWWzaOucKwAAAJFBm5BJqEFsmUwIX//+jLAAAEAQrNrKNxEAcadrrEmzmUa59II5J8iqD9N7goiM6P9Tyg4dyNzToJSF+0Viwrcht/zjfIRFXV2vDeL/bJ7BxCOBiUW02BcbTjFlXNB4WOdD9E5rKk+1wWrhXSb3stAWtHbyOlJs/xlA8+pFN9GOke+FGQj32Lowxmx228UhF4uRAAAAVEGfrkUVLCP/AAAVC19hdIrqgDi1cS0SfNkYWdjzs1jH/YwDP9ZTJ6YUvuFe+9ocwXuXJhcr6lgi5vmDQ6zcB26ycwsPlDgfTWlrmcaAYrrOu2SbjwAAAFEBn89qR/8AACCrys4RiEO4kwSrU9sUQOOLQwsEIIQW6qa3f6xrAlVancqazlZxY8ECb3LxC4KAEJ97x9AZyrj7pqc59qdEB27VlbhJGxWMuSAAAAB4QZvSSahBbJlMFEwv//6MsAAAQHpvPc5pV6TfO1mC3JqfLhlqupHACDdQdGkbAPDq5hcH4zuMunzmslI/dodtKzVx/ulRbdXGXljYBOavMcRo4iGL2UhAu7J/1RW+ONVBjL9/cZrXN/zulkN27bjhn7wH22+yWOrJAAAARwGf8WpH/wAAILDZ4RUv3Jk2dlDC17ltILZI6qc3xCtXftF7ri3ygRct8BEK6sA1mym2ACckJyhkyq7vACWlhw3hn60pKXnTAAAAh0Gb9UnhClJlMCF//oywAAA+XLUtuAK36MOxA/WvrIMSll/LVarxmW3fOFato7/GRpJnJ+tA/J+kYifN8BGKCgSeqaa8/KW1lVYYjboRMwfOGYfrA+Qr0+Rh46cyF8RvUhijgtj52N98krt0hLa2bJa2CZJjqL1nq3h4xev/eTefQUela772ZgAAAEhBnhNFNEwj/wAAFFwwVLrm3TXYMTPyMZ04nBDkDeAc2HCrzC+6KZmSVB+6O7STqFZ5hBArdf3xE4tvLDqFfBKclH6BhYqverAAAABUAZ40akf/AAAfuAYpm1h/HDPGbT1/KeUceBY1oJ9v7GHz6MjuMBhtyYhOVoykfO+NXZmZrMWMS3H26JnM1TwAlxl5IzQJXvuntiIN2FjrICOMlFmBAAAAf0GaNkmoQWiZTAhf//6MsAAAPl0KQ4toq0RAHLKhRT6EbWAuXL+SduMKuRHwVUGH6iUgmMTOqyU4Q7CzAIL//qkvAEzRw8IueIQlwkerB1rWQZ6uW/JJu9ep0vmNYY4NegaYbv0FrLG0tY4vLv0E/9m5Jqt/wLVReCFhTm0lUcAAAACRQZpaSeEKUmUwIX/+jLAAAD6+tmVv6OQA4bxDiwlnXBnAq4o8hZSvw57BSzKFo3EcJ1z2hinGkkICl3xY0SlSP8hwoT32WUuaNzh1AO2HuXfzzQFmY9dMRT0ZMe6XoB1J7fh5SufnRXFDKL+k8MBkPcP5q8goGeTiEsYNT7yVDhYUm2K7tSLixzvVSKil59kpgQAAAFNBnnhFNEwj/wAAFHU3AYzoAWHe+xm1EzjIw4kykz0d9p363v0Pg0dP9EhtsvPkXhddiG4vCqTFUULXNABGmmrnUB/wryGgnuhx5yyfcFvaguNv3QAAAEsBnpd0R/8AAB+4efexQdTSfiwTFS4AmCnyP8Zhoyvv/4cK5/Ze4ltF01Om8lwAAnboVs0FozmVdHWZtPOj/3M0XDbeYzRVRaQeE24AAAA/AZ6Zakf/AAAfFfIYoa2MujF4829cGcwuzB8XGplcat94z+NDxxb1o+U2qfNvMko6VP4/hnqM/c/m6+LucAvRAAAAdEGanEmoQWiZTBTwv/6MsAAAPVwnQYiEHsPvCM92drAs+wQ7AqPQA3UTRYoPsSt9KiLxFk65Y0wjxMDoFj19N3w5R6Mh6Z7HVJw13mohCa6dautlqmJeFwug+VPn5pHDDSmtvlCvcylyJ8MA4HtXZTfA6DLAAAAAQQGeu2pH/wAAHwgFSARAuYXDBG2OdL/s+611vdHzcL4jbHA9uea1QHzRfIN1ELNA64el0Gme+yCPf3u/hIWEmOthAAAAUEGavknhClJlMFLC//6MsAAAO7aCHb6q/i++gmGbavRgPYYpZ+yKOBGCdQa9HDnpQAQBIP/xCcoPQXEUpKwnISG1gzV/yI6HeTVOphy2/LSRAAAAQQGe3WpH/wAAHlE/WVaIa4c+7hQrs2Q7MFEoXMuQjLdYIc0Ndw2Uu5PJUSXFY0z7LsfYAAEyvVVvHiG6hdPdZuaOAAAAS0GawEnhDomUwUTC//6MsAAAO6fevojHdVchzXu/cdC/xFApFtoxdrafyVc869JziBO7VKI1O6ZN/OGbFKUMDWqUYwPkFkNbHeOQuAAAAF8Bnv9qR/8AAB5YOybEa0AEWp6xDlQIZqMtJI18InS4N/iO+9Iy/0B/6E8I88FYwlKAEnGMEXAoao2dpF0pMjr13jtFNM4BBLEJ40EnYl0IGjoednZpq1ypMTPWaa15QQAAAJ5BmuRJ4Q8mUwIV//44QAAA6PqNZhGn6zDZgEHnCjc/BR3KC5UeYcu/41E1URYfcxb708iwGp/rgfpuVsST+GJa/195SWSW4PNnPvVdgqCgyEL6jHCRrSGrOeSdtpaNfftbsvKGKywF749QYxWq2VRTlTnuNyhsAjRMaRqqbgwOccfbinH4Ec8+F+9yascAq07OZ3gm4sDV27ncO8N2UAAAAFZBnwJFETwj/wAAE1gC6hNv4ARK0fyq8LNFuu1PCEoONZvdbzfkm9oxMhPYfdyuomEUcxPpuwtbArmOSgDr/q4TDatOh/R1hRf9LTHwLXQ8huXa6DdnoQAAAFIBnyF0R/8AAB5YcxEGOpf7gY4CFsBr+Gl8uZnqp/RuPR1XCBiUabKk0c3DsMhvnrYaC1CGt7EXusmLvKrT8AD8K0+A+o4O8d4UrJ/Pqz8nOq+GAAAAQQGfI2pH/wAAHaFBdmhowVv2MV4bOc4Azr03hO4oxYTA8lXL222FQ6WKmrI+9lbHWMudzaDKntdKE86p36VPPfzBAAAAZUGbJUmoQWiZTAhf//6MsAAAOpwnRPImwsNMMrwWlHaSc+ykZl2MyUHMlIAozVWqb6y6IE8d455VP0+nLp3VOZ23wXcexMC6xK+jYXA9gkKWxcfKZN1+GTzw/6VIkvwN0usuODYZAAAAdEGbSEnhClJlMCFf/jhAAADcnve6LB6ACwD2QkM6f/NzwnV7b5CgAT8omI++yO+bfohU5hpTM9AE4/ry66KWD4n+vJo/ZSBmqfWcmPRhT1bg8QDVGXvgnTxvNCKJ7+TYEIamMVkiaIZMy/Nk9L3nO5KFsqGBAAAAPUGfZkU0TCP/AAASXTaVkO1VV6wr2yPoDhqo1pNTtSeEdrANPfOFmh6/gG2V8r2u6/NjA1yKtHLoklRG/8EAAABJAZ+Hakf/AAAc5R8ntHNeFLUzNLAe9UzHb9DZzs/hJMjnFm73W2zHJGdpW9uwLQ/1s0HAA9hXHUyungsMa7qjMaOb768PqZuN0AAAAIRBm4lJqEFomUwIX//+jLAAADjcbMZEO50SijEV/h+83tG+vEJX+Zf6U5KuCI8yJeIAbnlZLIOYLz8v0JwsahRc2SyK+CQRf19wVJv/lQT8D5ceDHjXmw7gQpxFQQJYTmcHxOrUwEBCCVRPFrUeMLeThLU+gvFFVSTLp3wCDX/Y5+TwZmQAAACrQZutSeEKUmUwIV/+OEAAAN36kOZorc0BXaTAARfE5CRpGia/kuKIL5RSuemrko2ebz8+kD9jahQ9fyTW6a4IbjqvrkwWV6kyxmF1PLhmm7yO7yi3yTsZyE+hRPdZSHHVSForT2qj0to9UgG4g3Hdc+RMfE4P4qjUcrWTm3T5bXZu7BUhnFH+BPP3sQ/9A1k8wdBAJ9+QeF6ur4G/v0m3J9sfJC89QinHf375AAAAWUGfy0U0TCP/AAASV6rJyXsuZhuxBRezFr2eI9P6pf/aylBTczzr8DEAj1Svd8yFtYCSBzUsXBAo8u1EigDZ3m1Rzv0ms0HkRvJozttp4CqSXai5YgQoWE4VAAAATgGf6nRH/wAAHPiNFqeGtryCU5C/8soC/UtVaBPBXvaXcLrApj+qcEbJpHNfh4hBw9Nz1NDgihugcFvZYABN+4iHMQoRX8tDabU3MYLwqAAAAE0Bn+xqR/8AABxeUIMvjkFAP49qCrT6bnBZUxLnbvnatu37pBB3d6QEEWh3pcVqH66v3yMYF6ZfopwgyAASp4ZxEJntcoEoncqMeKTy5wAAAJBBm+5JqEFomUwIV//+OEAAANKdsHwACMUdHMd6fTdKPJ9XH+Xu8k9BYhoIxZO1b8MDtNWY0b0aS1M26JEBZ5IWWZtr8m3iRSCAbyyBIym13QzU4uD+XNl2FaPqYamCGMsfo/rx92XXK5HQaIRLi5ViKssn8bHg7Q5EFMjkzw+TrLB21uF90YXLw8SSX6E+IKUAAAB5QZoQSeEKUmUwURLCv/44QAAA0thZ9p/5+GG8mD7MOx2K1u0f+m+KlbUKt1jvjJVwi+AR4xweHhDNTnRPjeuyIAtgHw/svneoECTlnl+ps0lgeXOyBZ5PA+6Nt2ibecv6VztzgP6rKDgay1stt3R4zBV2rygfBr7T4QAAAEQBni9qR/8AABuumwXrxs8w+vTdNtFc5pPcctjpgQe+KoD+U6E/9OgdgvhBrwRpFeBCXw3a3McRLpkzTEOV9phpBK3JoAAAAJlBmjFJ4Q6JlMCFf/44QAAA0+/812YROAEY/bISNIw1d44qw4tZa9M6GurKm/9lqJpMpi9B6mx3wTi2JUH1W7mz1oRVu5ZbBqBZtqGAIDZqm4VtkrrHoJAxJSh0ohL19V2jHP7KWzewd01s0PX/C2JWYS7mSyYSG7cV3GR6keOBhBubnv40IkE4Yk1rNrBucB5Pz+ya+s9aL9gAAAC+QZpTSeEPJlMFFTwr//44QAAAzZ7Xp7ACwSKqh/bxLMoIzNGhTzy7CseK/sE3/s+HRjACFh+KFgz2jBJpENqpi8/lCB82f2lWe2f1BoswRXxh23CjYfee6D8DqAB9mkTXXSBIhqOwlsDd7+REHxprP2ZNQbRWR+6U1f3CjnRdrOu/7SsxNzaAt8Px25FyCtREUPb0ZN1Nr0xPviOOdfY1aHsWmo+EmFItP1vIhBm/tFP5U5blZMviM0UwP7HhYQAAAFUBnnJqR/8AABrzF7h98UwHF595Z9M2YYRu3d/5U1LeaXjdksLNBITevdP0sEPkWkuJsM7rkW36bpA4gMWIMACDqhvwdXZs4K8Pr8NVGRJ5CCNxMU/mAAAAY0GadEnhDyZTAhf//oywAAA1FIK+iCd2P6L1s7/Nj5AAcfOkaJuybB+RZHFUVv4Yff8iGWlFpnwbNOmPehw9smNfLeCzV71wg4n6N+8gxfzBaXxKki5QOTgEiB3iMqqWKVYucAAAAKFBmpdJ4Q8mUwIV//44QAAAzvqNZepW0gbFpAFeuCKZ9cJPI0EEzU4P8p9d3fKRphXvm2GgGai3duuZFc1PNGeos3iMeVeaZB0KYadx+K9IwDDqW7y42TbUunag0U9MYjvG1VdoqqMj+lXAJ3jOELtPHpMSTL6zS+Y3Mx5H5FslqodmGoXihCkDV+VjWEtuDQKZiCgz7KnxXZa3J8H0dXj9wQAAAFFBnrVFETwj/wAAENf+huEfTTNAmzl2qcrsDTauoArndyq+F49GizD/s5vRk8w93lSgAmrttMUKlNhIYbDyG+rF/au7T6YOsD0wL7G30+rUN6AAAABbAZ7Wakf/AAAaOxwrQWViPppTPxwVC7TuSmclI23jmhddcfx51Kj+s+Fx/EXI+0XGinMXA8BhmgAQANn1bionFBwe/Ui58NS3LEvyUmdYid2sR7jQy47RJhiMPQAAAIRBmthJqEFomUwIV//+OEAAAMnv/Nd3MsAA4cBvhCHyAF40KPSb/7EMAvuiEYlCHQcFKsOj2PvmQAvI9lxm3dMBVgV5pqg/BBIdbHF+Q/m8TMs8HQSV8RSIyey2dDsH4VuUVJNudzrIvF4DKAY3qwqFrVyghypGnNFzPjsz3US+kNpMuEEAAACCQZr6SeEKUmUwURLCv/44QAAAw8uCK1nFVq8AVmeXoFAvMsk4LHArpT9k9IcsQ6j+X03r9Wgauuf+1vd5A/xyCtmpAOeXVOxsIvNbV2AVl9y/dv7YumsG6yTQeogs96kpujfI5uHt7/VNRWeR1UE34wnPeJq1sy5x0qoEnMmzClHIyAAAAEcBnxlqR/8AABm76Bt5juu+9SLL4qYNTSLllB02KyqWwcTTjj2/+XZdKqonSUykCAt2iSpZVYAthp54HMU/THxBDOSJD2QpgQAAAHxBmxtJ4Q6JlMCFf/44QAAAxO/813P9u8Wcf49gXsxQPBo24V9uMArGH1mNwLppYgEivnIjFDcAAtWvqX18CfCxJ2Gdk6Rz/uW9RNofC2VrGLe0lE3edpK1MjBM0+1YIc4gK0K/J7EETrCk9bgjqXLwtYkO4ihGbhnx0eZAAAAAj0GbPUnhDyZTBRU8K//+OEAAAL6e54osHoALBOE8gWF4PrfPvhKg+iffHgOuQ+/Yexn5wCNnoxy8DVUh8Oo/NMeWvZ+sJQmbc5thM3K7GQqFUlsHfb4CwacxNK15lsTl8g+mKMa0c1g0zvmGkmY7EXxwuUiRnoNh50ruub6A7J6rebRDb7cpO8HZb3cadmMhAAAAWwGfXGpH/wAAGQwCzQBaYBw2vUc2GznTd7L+Jc+uaG82zU/wYyTQf1ACTBvbpq2olPbLngGOe1ngUc58w6d7A4FN33xwNf4ncXDgvUNZWFi3yZigtL9eFyB9iTkAAACMQZteSeEPJlMCFf/+OEAAAL/v/Ndz/bvFfiI+fG+J1V+4q3+u4RLM6DwrS4jFyyF2QkMJCOnAB+5+R3Ot4MD5DAZriK4D6vlyz9f3GNsJEDQ7qKO+YcqghBhB/tpVBK1SEyyIjNoGzPmH7cd6jEgVWvnXNU8HhMjPEPQs7LzTFIoituhsMhi9i5dTmEAAAACEQZtgSeEPJlMFETwr//44QAAAucb9IywAsNegWHrb24BiAnIhgviIJr510ZD1+hoYdRgd/fYjYlQPTuA6uD+uyopIKT/iHhTL6qAVpnTyT1+xaXzbkgEipf/C65jqLoZLc+CNERdUpnGRBeWZMDQmak0B+z2BqYv1uxjcYxJYQXhAEiiAAAAAUwGfn2pH/wAAGDJZRmWV53WlueJMawX9xeuoxU3UWvBhZ0kVOa1ZzkPbg6Q2MycH2jmj8IldVUximsh5Vpzq8Feph8C+3muOgzACd9co34N5vB6TAAAAikGbgUnhDyZTAhX//jhAAAC68n1gK4ndrABxvKoSxjtliNNtj/04zW+uayQtB/jcxS0K2gEaX7Jdq9A0ma+uUsPX6sc1S+Om8gJH8Hrwi/VS73f3lFQ79m5reXsu3vBKE7hNyONxoyn/hL49ekyi0DrFOfk71/59hXqOAjzohe/nXnBm4Wgl01kRIAAAAI5Bm6NJ4Q8mUwURPCv//jhAAAC1RvvFa0rxhrPLMvnIwuyhpNF3jmywI7AASxESOmGsQtmAkOswxsx5WALOjPkNDly1RjmIu4nYtASDsFovxO2ZMs5IHXPcp9vRJ/AkSZMnBcYrRZil80PGfCZEQ08xPzZBqQ0lVF6sEaOuFW5Sle7+q/u0xujpoja+Pg4xAAAAUwGfwmpH/wAAF+6cIN7uqCxU7Z1pfg8KsaPPefP/VDwq534nqoeVv8na3NxQAEBU1OKU/zjaafl3dpqJX37s70NzHcSvNso06V6cnBBl7VQTRJdMAAAAjkGbxEnhDyZTAhX//jhAAAC2cn1Wr3i0ALcKqEi6XNYjIpAnARKEwcNoXz51CQ5A9xedz+8ewEzl3bO5z/Om0IyyxSlj3RCfKoHIlDeuH1R+7Qt/vmHxo1PtE2Hsj1aF0q0skmzG9tVahyC0ycLGeTpTFc4T4TGN9+K31eRTZlMy5vhpoxxuIyrQQ3q/4QcAAACKQZvoSeEPJlMCE//98QAAAwGx3/YLlEOjn4W0wtgE+X3F/ZN8KYxgdNEOkKgAIc8xEWJPJUKwvJGTsZ2m9CWQ0AMMonLfx4J0TIz3eSOaRURXaFLT+nZ9b+GeJg+FGCSaP3KgMduFoz6hFJ1ijLSe9s7uSKs7g3dY5P7GjuzYjWyWopf1HQIAPK3tAAAAaEGeBkURPCP/AAAOfmMGxZRR5BlXdiXVgUsXfmBlmCe7B5T5Pg7kBdy9EIL8Heuy1brb9Q2hYhw/34/fJcYOsxuVHwVqcTH1Vqn4s+9bMm3I0JzYjvV88RE3C1yOguzw+merleE7TXdBAAAAVQGeJXRH/wAAFzcXKWbca+GX0cY0Si73yTXuIvtUy+PWs9wAygHKo7D1xyyuT7s+QtEEmrZLgSwAbT+JtfXi6USnR8SaCeYAByRdE6zATdp31amglYEAAABfAZ4nakf/AAAXRNDj3tABaSaJ9JXX87Yy983xmyVBr51cR4GRRdQBLwgY/Jo6kl/SFwCoKOyKLVcdcEl31/AncdkDjCuo5pZOsuGB526EBFl6CrAR3BPXPkBiENQx/KgAAABuQZopSahBaJlMCEf//eEAAAMCnsYxSLpjmoAbq4gJsddcxB2+hutcXNseKFRaIBKeEV6PQ7hX0uMJnpV29Ahtz3VneIZNfxGTdOvM17hJdD1+ryHf10ZYDdwL6TVZs4bqi9fHdDuClpq/KTOO/yAAAABfQZpKSeEKUmUwI//8hAAACkejRobOZ6V46N4//B1mwSAG5W1VfnYGj57EjvEd2DKymb/udqyoz1dQI389OTKL9ZETfUFI99E+Oc78hC1r9a3hEAzBZRpb0RxJ32p7iCEAAAlHbW9vdgAAAGxtdmhkAAAAAAAAAAAAAAAAAAAD6AAACtwAAQAAAQAAAAAAAAAAAAAAAAEAAAAAAAAAAAAAAAAAAAABAAAAAAAAAAAAAAAAAABAAAAAAAAAAAAAAAAAAAAAAAAAAAAAAAAAAAAAAAAAAgAACHF0cmFrAAAAXHRraGQAAAADAAAAAAAAAAAAAAABAAAAAAAACtwAAAAAAAAAAAAAAAAAAAAAAAEAAAAAAAAAAAAAAAAAAAABAAAAAAAAAAAAAAAAAABAAAAAAlgAAAGQAAAAAAAkZWR0cwAAABxlbHN0AAAAAAAAAAEAAArcAAACAAABAAAAAAfpbWRpYQAAACBtZGhkAAAAAAAAAAAAAAAAAAAyAAAAiwBVxAAAAAAALWhkbHIAAAAAAAAAAHZpZGUAAAAAAAAAAAAAAABWaWRlb0hhbmRsZXIAAAAHlG1pbmYAAAAUdm1oZAAAAAEAAAAAAAAAAAAAACRkaW5mAAAAHGRyZWYAAAAAAAAAAQAAAAx1cmwgAAAAAQAAB1RzdGJsAAAAmHN0c2QAAAAAAAAAAQAAAIhhdmMxAAAAAAAAAAEAAAAAAAAAAAAAAAAAAAAAAlgBkABIAAAASAAAAAAAAAABAAAAAAAAAAAAAAAAAAAAAAAAAAAAAAAAAAAAAAAAAAAAGP//AAAAMmF2Y0MBZAAf/+EAGWdkAB+s2UCYM+XhAAADAAEAAAMAZA8YMZYBAAZo6+PLIsAAAAAYc3R0cwAAAAAAAAABAAAAiwAAAQAAAAAUc3RzcwAAAAAAAAABAAAAAQAABBhjdHRzAAAAAAAAAIEAAAABAAACAAAAAAEAAAUAAAAAAQAAAgAAAAABAAAAAAAAAAEAAAEAAAAAAQAABQAAAAABAAACAAAAAAEAAAAAAAAAAQAAAQAAAAABAAAFAAAAAAEAAAIAAAAAAQAAAAAAAAABAAABAAAAAAEAAAUAAAAAAQAAAgAAAAABAAAAAAAAAAEAAAEAAAAAAQAAAgAAAAABAAADAAAAAAEAAAEAAAAAAQAAAwAAAAABAAABAAAAAAEAAAUAAAAAAQAAAgAAAAABAAAAAAAAAAEAAAEAAAAAAQAABQAAAAABAAACAAAAAAEAAAAAAAAAAQAAAQAAAAABAAACAAAAAAEAAAUAAAAAAQAAAgAAAAABAAAAAAAAAAEAAAEAAAAAAQAABAAAAAACAAABAAAAAAEAAAUAAAAAAQAAAgAAAAABAAAAAAAAAAEAAAEAAAAAAQAABQAAAAABAAACAAAAAAEAAAAAAAAAAQAAAQAAAAABAAAFAAAAAAEAAAIAAAAAAQAAAAAAAAABAAABAAAAAAEAAAQAAAAAAgAAAQAAAAABAAAEAAAAAAIAAAEAAAAAAQAAAgAAAAABAAAFAAAAAAEAAAIAAAAAAQAAAAAAAAABAAABAAAAAAEAAAIAAAAAAQAABAAAAAACAAABAAAAAAEAAAMAAAAAAQAAAQAAAAABAAAFAAAAAAEAAAIAAAAAAQAAAAAAAAABAAABAAAAAAEAAAUAAAAAAQAAAgAAAAABAAAAAAAAAAEAAAEAAAAAAQAABAAAAAACAAABAAAAAAEAAAQAAAAAAgAAAQAAAAABAAADAAAAAAEAAAEAAAAAAQAABAAAAAACAAABAAAAAAEAAAIAAAAAAQAABQAAAAABAAACAAAAAAEAAAAAAAAAAQAAAQAAAAABAAADAAAAAAEAAAEAAAAAAQAAAwAAAAABAAABAAAAAAEAAAMAAAAAAQAAAQAAAAABAAAFAAAAAAEAAAIAAAAAAQAAAAAAAAABAAABAAAAAAEAAAIAAAAAAQAABAAAAAACAAABAAAAAAEAAAIAAAAAAQAABQAAAAABAAACAAAAAAEAAAAAAAAAAQAAAQAAAAABAAACAAAAAAEAAAMAAAAAAQAAAQAAAAABAAACAAAAAAEAAAMAAAAAAQAAAQAAAAABAAACAAAAAAEAAAQAAAAAAgAAAQAAAAABAAACAAAAAAEAAAMAAAAAAQAAAQAAAAABAAACAAAAAAEAAAMAAAAAAQAAAQAAAAABAAACAAAAAAEAAAMAAAAAAQAAAQAAAAABAAACAAAAAAEAAAMAAAAAAQAAAQAAAAABAAACAAAAAAEAAAUAAAAAAQAAAgAAAAABAAAAAAAAAAEAAAEAAAAAAgAAAgAAAAAcc3RzYwAAAAAAAAABAAAAAQAAAIsAAAABAAACQHN0c3oAAAAAAAAAAAAAAIsAAATUAAAA6gAAAHwAAABRAAAAUgAAANkAAAB7AAAAVgAAAEoAAACMAAAAUAAAADUAAAA+AAAAmwAAAHEAAABNAAAATQAAAJUAAADaAAAANQAAANkAAABUAAAAvwAAAGMAAABYAAAATAAAAIMAAABZAAAAMQAAAD0AAAB6AAAAuwAAAFAAAAA/AAAANgAAAIwAAABMAAAASgAAAIgAAABmAAAANQAAADcAAAB8AAAAWwAAADoAAABSAAAAiwAAAEQAAABFAAAAKAAAAIsAAAA3AAAAOgAAAGsAAAA3AAAASQAAAHgAAAB8AAAAUwAAADwAAAA5AAAAcwAAAH0AAABWAAAAQQAAAFkAAABIAAAArQAAAF4AAABEAAAARAAAAGwAAABUAAAAPgAAAEMAAACvAAAAYAAAAE0AAACVAAAAWAAAAFUAAAB8AAAASwAAAIsAAABMAAAAWAAAAIMAAACVAAAAVwAAAE8AAABDAAAAeAAAAEUAAABUAAAARQAAAE8AAABjAAAAogAAAFoAAABWAAAARQAAAGkAAAB4AAAAQQAAAE0AAACIAAAArwAAAF0AAABSAAAAUQAAAJQAAAB9AAAASAAAAJ0AAADCAAAAWQAAAGcAAAClAAAAVQAAAF8AAACIAAAAhgAAAEsAAACAAAAAkwAAAF8AAACQAAAAiAAAAFcAAACOAAAAkgAAAFcAAACSAAAAjgAAAGwAAABZAAAAYwAAAHIAAABjAAAAFHN0Y28AAAAAAAAAAQAAADAAAABidWR0YQAAAFptZXRhAAAAAAAAACFoZGxyAAAAAAAAAABtZGlyYXBwbAAAAAAAAAAAAAAAAC1pbHN0AAAAJal0b28AAAAdZGF0YQAAAAEAAAAATGF2ZjU3LjgzLjEwMA==\" type=\"video/mp4\" />\n",
              "             </video>"
            ],
            "text/plain": [
              "<IPython.core.display.HTML object>"
            ]
          },
          "metadata": {
            "tags": []
          }
        }
      ]
    },
    {
      "cell_type": "markdown",
      "metadata": {
        "id": "JkG9iDZTIhzc"
      },
      "source": [
        "## Final test"
      ]
    },
    {
      "cell_type": "code",
      "metadata": {
        "id": "vJKgnu3_IjWE",
        "colab": {
          "base_uri": "https://localhost:8080/"
        },
        "outputId": "40257067-6b67-43d2-ea82-57ccd925507b"
      },
      "source": [
        "# Initialize the Gym environment\n",
        "env = gym.make('CartPole-v1') \n",
        "env.seed(1) # Set a random seed for the environment (reproducible results)\n",
        "\n",
        "# This is for creating the output video in Colab, not required outside Colab\n",
        "env = wrap_env(env, video_callable=lambda episode_id: True) # Save a video every episode\n",
        "\n",
        "# Let's try for a total of 10 episodes\n",
        "for num_episode in range(10): \n",
        "    # Reset the environment and get the initial state\n",
        "    _ = env.reset()\n",
        "    init_frame = env.render(mode=\"rgb_array\")\n",
        "    frame_list = [init_frame, init_frame, init_frame]\n",
        "\n",
        "    image_state = state_from_image2(frame_list)\n",
        "\n",
        "    # Reset the score. The final score will be the total amount of steps before the pole falls\n",
        "    score = 0\n",
        "    done = False\n",
        "    # Go on until the pole falls off or the score reach 490\n",
        "    while not done:\n",
        "        # Choose the best action (temperature 0)\n",
        "        action, q_values = choose_action_epsilon_greedy(policy_net, image_state, epsilon=0)\n",
        "        #   action, q_values = choose_action_softmax(policy_net, image_state, temperature=0)\n",
        "        # Apply the action and get the next state, the reward and a flag \"done\" that is True if the game is ended\n",
        "        _, reward, done, info = env.step(action)\n",
        "        # Visually render the environment\n",
        "        frame_curr = env.render(mode=\"rgb_array\")\n",
        "\n",
        "        frame_curr = env.render(mode=\"rgb_array\")\n",
        "        frame_list.pop(0)\n",
        "        frame_list.append(frame_curr)\n",
        "\n",
        "        next_image_state = state_from_image2(frame_list)\n",
        "\n",
        "        # Update the final score (+1 for each step)\n",
        "        score += reward \n",
        "        # Set the current state for the next iteration\n",
        "        image_state = next_image_state\n",
        "        frame_past = frame_curr\n",
        "        # Check if the episode ended (the pole fell down)\n",
        "    # Print the final score\n",
        "    print(f\"EPISODE {num_episode + 1} - FINAL SCORE: {score}\") \n",
        "env.close()"
      ],
      "execution_count": 31,
      "outputs": [
        {
          "output_type": "stream",
          "text": [
            "EPISODE 1 - FINAL SCORE: 123.0\n",
            "EPISODE 2 - FINAL SCORE: 83.0\n",
            "EPISODE 3 - FINAL SCORE: 97.0\n",
            "EPISODE 4 - FINAL SCORE: 113.0\n",
            "EPISODE 5 - FINAL SCORE: 82.0\n",
            "EPISODE 6 - FINAL SCORE: 97.0\n",
            "EPISODE 7 - FINAL SCORE: 89.0\n",
            "EPISODE 8 - FINAL SCORE: 138.0\n",
            "EPISODE 9 - FINAL SCORE: 93.0\n",
            "EPISODE 10 - FINAL SCORE: 99.0\n"
          ],
          "name": "stdout"
        }
      ]
    },
    {
      "cell_type": "code",
      "metadata": {
        "id": "mxdtGJutLqlw",
        "colab": {
          "base_uri": "https://localhost:8080/",
          "height": 1000
        },
        "outputId": "b974a1a3-7388-43e2-f388-c76eea71bc48"
      },
      "source": [
        "# Display the videos, not required outside Colab\n",
        "show_videos()"
      ],
      "execution_count": 32,
      "outputs": [
        {
          "output_type": "stream",
          "text": [
            "\n",
            "SHOWING VIDEO video/openaigym.video.5.3544.video000000.mp4\n"
          ],
          "name": "stdout"
        },
        {
          "output_type": "display_data",
          "data": {
            "text/html": [
              "<video alt=\"test\" autoplay \n",
              "                loop controls style=\"height: 400px;\">\n",
              "                <source src=\"data:video/mp4;base64,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\" type=\"video/mp4\" />\n",
              "             </video>"
            ],
            "text/plain": [
              "<IPython.core.display.HTML object>"
            ]
          },
          "metadata": {
            "tags": []
          }
        },
        {
          "output_type": "stream",
          "text": [
            "\n",
            "SHOWING VIDEO video/openaigym.video.5.3544.video000001.mp4\n"
          ],
          "name": "stdout"
        },
        {
          "output_type": "display_data",
          "data": {
            "text/html": [
              "<video alt=\"test\" autoplay \n",
              "                loop controls style=\"height: 400px;\">\n",
              "                <source src=\"data:video/mp4;base64,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\" type=\"video/mp4\" />\n",
              "             </video>"
            ],
            "text/plain": [
              "<IPython.core.display.HTML object>"
            ]
          },
          "metadata": {
            "tags": []
          }
        },
        {
          "output_type": "stream",
          "text": [
            "\n",
            "SHOWING VIDEO video/openaigym.video.5.3544.video000002.mp4\n"
          ],
          "name": "stdout"
        },
        {
          "output_type": "display_data",
          "data": {
            "text/html": [
              "<video alt=\"test\" autoplay \n",
              "                loop controls style=\"height: 400px;\">\n",
              "                <source src=\"data:video/mp4;base64,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\" type=\"video/mp4\" />\n",
              "             </video>"
            ],
            "text/plain": [
              "<IPython.core.display.HTML object>"
            ]
          },
          "metadata": {
            "tags": []
          }
        },
        {
          "output_type": "stream",
          "text": [
            "\n",
            "SHOWING VIDEO video/openaigym.video.5.3544.video000003.mp4\n"
          ],
          "name": "stdout"
        },
        {
          "output_type": "display_data",
          "data": {
            "text/html": [
              "<video alt=\"test\" autoplay \n",
              "                loop controls style=\"height: 400px;\">\n",
              "                <source src=\"data:video/mp4;base64,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\" type=\"video/mp4\" />\n",
              "             </video>"
            ],
            "text/plain": [
              "<IPython.core.display.HTML object>"
            ]
          },
          "metadata": {
            "tags": []
          }
        },
        {
          "output_type": "stream",
          "text": [
            "\n",
            "SHOWING VIDEO video/openaigym.video.5.3544.video000004.mp4\n"
          ],
          "name": "stdout"
        },
        {
          "output_type": "display_data",
          "data": {
            "text/html": [
              "<video alt=\"test\" autoplay \n",
              "                loop controls style=\"height: 400px;\">\n",
              "                <source src=\"data:video/mp4;base64,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\" type=\"video/mp4\" />\n",
              "             </video>"
            ],
            "text/plain": [
              "<IPython.core.display.HTML object>"
            ]
          },
          "metadata": {
            "tags": []
          }
        },
        {
          "output_type": "stream",
          "text": [
            "\n",
            "SHOWING VIDEO video/openaigym.video.5.3544.video000005.mp4\n"
          ],
          "name": "stdout"
        },
        {
          "output_type": "display_data",
          "data": {
            "text/html": [
              "<video alt=\"test\" autoplay \n",
              "                loop controls style=\"height: 400px;\">\n",
              "                <source src=\"data:video/mp4;base64,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\" type=\"video/mp4\" />\n",
              "             </video>"
            ],
            "text/plain": [
              "<IPython.core.display.HTML object>"
            ]
          },
          "metadata": {
            "tags": []
          }
        },
        {
          "output_type": "stream",
          "text": [
            "\n",
            "SHOWING VIDEO video/openaigym.video.5.3544.video000006.mp4\n"
          ],
          "name": "stdout"
        },
        {
          "output_type": "display_data",
          "data": {
            "text/html": [
              "<video alt=\"test\" autoplay \n",
              "                loop controls style=\"height: 400px;\">\n",
              "                <source src=\"data:video/mp4;base64,AAAAIGZ0eXBpc29tAAACAGlzb21pc28yYXZjMW1wNDEAAAAIZnJlZQAAIkFtZGF0AAACrgYF//+q3EXpvebZSLeWLNgg2SPu73gyNjQgLSBjb3JlIDE1MiByMjg1NCBlOWE1OTAzIC0gSC4yNjQvTVBFRy00IEFWQyBjb2RlYyAtIENvcHlsZWZ0IDIwMDMtMjAxNyAtIGh0dHA6Ly93d3cudmlkZW9sYW4ub3JnL3gyNjQuaHRtbCAtIG9wdGlvbnM6IGNhYmFjPTEgcmVmPTMgZGVibG9jaz0xOjA6MCBhbmFseXNlPTB4MzoweDExMyBtZT1oZXggc3VibWU9NyBwc3k9MSBwc3lfcmQ9MS4wMDowLjAwIG1peGVkX3JlZj0xIG1lX3JhbmdlPTE2IGNocm9tYV9tZT0xIHRyZWxsaXM9MSA4eDhkY3Q9MSBjcW09MCBkZWFkem9uZT0yMSwxMSBmYXN0X3Bza2lwPTEgY2hyb21hX3FwX29mZnNldD0tMiB0aHJlYWRzPTMgbG9va2FoZWFkX3RocmVhZHM9MSBzbGljZWRfdGhyZWFkcz0wIG5yPTAgZGVjaW1hdGU9MSBpbnRlcmxhY2VkPTAgYmx1cmF5X2NvbXBhdD0wIGNvbnN0cmFpbmVkX2ludHJhPTAgYmZyYW1lcz0zIGJfcHlyYW1pZD0yIGJfYWRhcHQ9MSBiX2JpYXM9MCBkaXJlY3Q9MSB3ZWlnaHRiPTEgb3Blbl9nb3A9MCB3ZWlnaHRwPTIga2V5aW50PTI1MCBrZXlpbnRfbWluPTI1IHNjZW5lY3V0PTQwIGludHJhX3JlZnJlc2g9MCByY19sb29rYWhlYWQ9NDAgcmM9Y3JmIG1idHJlZT0xIGNyZj0yMy4wIHFjb21wPTAuNjAgcXBtaW49MCBxcG1heD02OSBxcHN0ZXA9NCBpcF9yYXRpbz0xLjQwIGFxPTE6MS4wMACAAAAB8GWIhAAv//72rvzLK0cLlS4dWXuzUfLoSXL9iDB9aAAAAwAAAwAAJuKiZ0WFMeJsgAAALmAIWElDyDzETFWKgS4v4K+ByKAulzYf+R/CyzZAPQO34IVnJJZ0qdmzMPMjzafgNQAAGDPYG2IqoHHWHv4gmOcjgHGLiB1AcKA41TfOH4aV+t6CiX+wrnJNCJFDQY80g9j5fXq2l5Sfq9Q1m1Smreu7WVW8GWwX7mjNc0s0iyF6Xbt0VMm8BPHsevY5s8+8ScNimeWRpMmdF+R2/Xvtmyr7wtgzxBTbttx2IdFsiOnKA+ZjjAG3+XI/nFRcyZpE7JjhjCAQUHeUdYYpprRLtI/PO3qX1Nn1Pb5AnfoadJ6Smux4gD2eya6cgtEzA9l+c2UWXRQ8QST67uGkXVmX2ouugtu3U+7iuSwsmrWyBYTI0TF+7OLlZLnq7TvO6sGir4wv3WwOb3tqL3t8n/unLGq9F8aQDpHxQw0eOyc2zmC/ylpx/BzkhP9N/msLr2jgJsZppl4ib9FzFv6idszTugAlAbYS2ZeOOodjI5VXbWzdF1tXH3I5GWeadMxc1Wv5l7cYnRwJHApR/J1OAMKnnDnDuVyvRZKmu2N8w3HKxSI+0UzIr1r5KghBGfX+OrChO2O+88gAAAMAAAMAAkMAAAC/QZokbEL//oywAABICmxGAUkhHUy2KEmih9WHdV8X3fWyWYuZcW7M0c8NtYWhWRhPlLymUEcujwH0c7Ajh1VEYqty+gNMvLuoS5zdv7EoPte9strT3JPPaEVq+WNR8q04BRgPjmzulN1KyBZ3m406mi2eZVbsVKWu16xY0L07HXQAca6LUw36rstaSfnsycK7q8pvQVyzDjUTdOW5IGtZBD4f1RVxIiTfAFhkQWiEEtmIgRjbGqej0F8rFeJX3nwAAABQQZ5CeIR/AAAXQ0gYwDFqCTPn2F4N1y/ZkwH2e2p8ncabj3k1bcStgFKPZEpPUEqJMhK4myP/nfXBqbhWEjmPOgRzUAAAAwAu7HQeHDVAOWEAAAA0AZ5hdEf/AAANz09pmiq5U23mIk58somNjflqeL6MOYt9cCafWclAAAADAAAEDymyKsQDegAAAD4BnmNqR/8AACS/BCQ5EJ7qzp2YGo1Ae6OFo1Jjidmj8LXdPLJRT6U8rvr/qz3BloAAAAMAByQDlT4cVQD0gQAAAHRBmmZJqEFomUwU8L/+jLAAAEgCz9cG0AF/fbegKIlgRisehWakAhNtuW8xX9mnO6J/r7tTVxpVYiJP44POZeAQ59fl5wGMJhyL5Im58pcEshVRF2HzqY8N5+Y6w4WRMNjV9ck/0A6STRWz9Q0/K1B0/+K2wQAAAC0BnoVqR/8AACS/BCZwxYyvzkdtMvBeMlErqxfr4DSDMZjVZLdnAsPzh/QkHpEAAABxQZqJSeEKUmUwIX/+jLAAAEf/lcwBt6YBmIZfpkoBklBG8a2x9+JFvxsoW5cKrRUT5mC7Lp3ovHyfomv0EA7GOs7yGm+oel5oNVrStKtNhDS1YvEpuJ+E00jqhk5IT0bpHFGuELXyAp2Z9rlW0IQPDZkAAAAwQZ6nRTRMI/8AABdMQ83NzCz7frgqslp/jPTpi1GJWm0IY1dRCTRyj+Iy8r/+/4toAAAAOgGeyGpH/wAAJL8EJxLLm3xJ+/l6qENuvXI8S0FI0st0q+iUAE7a3jXgBnsvsBGvexdc+EYgUL1zOSAAAACCQZrMSahBaJlMCGf//p4QAABHUQ496KuwAWH14K+79JO3bPuWqJD69RL27/BBVG/vHnM+vwTfS3E2k1hMxB+b6TY5NfJJ/3kImIpPWD9Aw0lbFGmiR+6Pwmma2xoCKM2frqBsi4+tfr7hCBOVOq3F6KCx1p6XlYF7JSS4hxHaz9uR7QAAAFhBnupFESwj/wAAF1BaCo1QBEn7rJwhcqBLnTkVe4ExmCmLu4OydZvuZqRv73gmivJu3Zn5OQz3OexqgMfMr+Ybp2sSXyxJTQEb2v7zkVfI/3xJ5Sm0miWzAAAAUQGfC2pH/wAAJL8a+ruSAtsb6sMTa1w9C82dCnDwUkRQ4QLLMR5clLJ0EG0PqeBzQVGkheSFmZrCqfA8jWAD2tD90IhPlXtUjv+07o83e6+pGAAAAHNBmxBJqEFsmUwIX//+jLAAAEgRsNSfGAOS68/NxyXZ7NPCb188Hb6awmGUBXcz3IddBGZ03gFyBA9WIWdsgLN5JjPOm+4YPfn/LetI4MXf+sDnzYgRdejw2W320aJkPeXxHwhbzWhaOb3pZ27UHMTCZZHxAAAAPEGfLkUVLCP/AAAXUJjmmBqOeb0bCpfs0mEBlX1IsrJRL2ww+SYc6YRk041GqLnxDDm63QGOp0e4dWm1IQAAAC4Bn010R/8AACTDPggO02G5Hl0E/gBFVGTm9haOBYCLU/O/u/joPRQOVGlkB49xAAAAKwGfT2pH/wAADa6NxzJVzluYAFnxC4EPsdB7HNRboX5/5Tq6Bks8iUniSLAAAACgQZtUSahBbJlMCF///oywAABIMfkj6B/0AEcUZb9TzJMzib1Ri56eifFJ+31XW/PwR5l1exefS9853hco1NlUyXwMxb9QFcVdsHfWBPE1zHXOKNsjco1n0j9jZtvutHzTp7U9Los2K4etwAhSe6h60IrqI3XAtv73LLpvToaSNGTltUD2pm+CZadU0NDaA+suce44IIFy8vlvBI7HvxdV8AAAADZBn3JFFSwj/wAAF0LKbVCtl8IkwhFClWHKol970iaEtaPepgAOru0e1iFmIOanOt0AGk55G1MAAAA4AZ+RdEf/AAAkt8wDtCkHDlci5eiYhQtESAvjvbyk3JwAcboVszyT8niinA0QDqYwy2QjKHi214AAAAA2AZ+Takf/AAAkrl+PUgBEwCFjmHZ2TKBwIyNYmeTqXxuJPXhOQhPJdr93lqVKGHzn9KaG9HuAAAAAZEGblkmoQWyZTBRMM//+nhAAAEdo8UabMaAKvckaF0mCg3OLITW7q8MKoEjjiokoxkhtOug7wabla13kcXZFgROHHpTlAa12Kc7w11AgP5vWQSoWnx3HbXKyq4ZAwuJ/ET6Q30EAAAAsAZ+1akf/AAAkscwTofZzMNTMBzGTCh0zqnQcF4hTYh1oqaR8D1O6Inro4PcAAACxQZu6SeEKUmUwIX/+jLAAAEgkWoJT7sAVsGTVsO3UZ9wYruWuBbBYRULSAUVRkyLgExZoCKy59GerYQvVCCoUWC0lcaP4aNX3sVq9XWH2UTopYSaAfakf6Dq+YcBIeYftoCMPK8NhT1sDdt19Eh6NLdZHf2jxd8KFjMOeqUHAFDYAB3oaofZNZ3j7cNTkauA3Z6rIJD3DxkRyYZHshE8Ubzr2uX7sR26HQVQGlneJz1oHAAAAPUGf2EU0TCP/AAAXS3r1cKN4lAmtT9vBG9cfDXN1339AgLm39v1ZVpf6NbjlmCVS2vPpsJeCt7WjEUArFNkAAABAAZ/3dEf/AAAkkrusojD6MBanm2PUo2D232ZAglfIZthwU3uVV9V6fIaM4eTr6cAD9mEm7wNj2qiQ133jEpKCLAAAAD8Bn/lqR/8AACSeDt4D0xH+sajlolHTeiJNsYHvtnGz/yYyek+LR7+TuUjR2LMV9KTLtXutHDgLoLEkvIMcteEAAABvQZv+SahBaJlMCF///oywAABIANryQAiymj2oa/UVlmOgG3WhJjHBAtTuqnRRDsMmBXudZmmRxPNxJRlcI1ZHqxZ8pL7xuvfbwBXAt042patLa8Z9FT/3mEURs6G6GXwcoeAW2tjxvsCCH125U+igAAAAX0GeHEURLCP/AAAXNUgAcLd7myhEZ9MR5CHTKCmAGxsEncezUw6bwYRH8txxtCIgLwmOzJy4bPNBP/CSAEzW5FYTssWLfL0o/VpAJFuFrYoZoN3feoGib+4/aaR2WQWBAAAANwGeO3RH/wAAJJlSB9+zNrByX3aC0XRP7EAk4pSPXSYBgNRTskLfG66cTaUqFhQvBwU4KMTuhMEAAABGAZ49akf/AAAlx78bJ2jkF3lw+46f+O7Jpd+zDhq0nnd3GrP4LkkO9a3krMu2RK7yoAJ1c0+A3cmsiSXd5wnCUIN8XF7akAAAAHxBmiJJqEFsmUwIX//+jLAAAEp6bz9vk9PAAcb0bHEQj7HHDfyGqEGai3qX9lApQgCc9HBrBxUkbQTCCR12wr++FufJmbeDlmorNwmJOmRLbcIsLJkrZEvzjKBz7RMF+6PX9ywg3G9ijP7MBUWe0iJACJEFOjEwqMd1Uj1IAAAASEGeQEUVLCP/AAAW/k85sfIeV5+QlpEnRQyPOUHDrF3zPp1qwdS50WdOsKF0ypU+Fm9NM9c2fNtUBxCus6AiquM8+y3fYWntSQAAAE0Bnn90R/8AACW4w6AvZCSf/K/rfI8vZ/Og+u2wtuQJgPmDkEHtfs/zuSnhjQ9eRdaJVQ5uGCIyus8kABtRehwNQ49oBs2MSOTqISJO9wAAAEwBnmFqR/8AAA3SPfTnGhR6/Ug7yy737rxI9vOWcPJ+01l/YZi4NIMWTjvSxAFgAbQAp+TOlcE+Wdpwmj0kRhWyhuJFYxoyxypLNLrxAAAAY0GaY0moQWyZTAhn//6eEAAAR2uBher2OqXShcIigAqxT3ArdrVK4YJ4pKnmWuEZNQr+4qqan/3Zex5ZT8RbbBmbfFgqBvunM7FQQg6X5n6u1KJB3S1eP+PNgLilMfYkaffhwAAAALVBmodJ4QpSZTAhn/6eEAAASUOV4S26PsgBYKKiIQF7XhWpzaebhJzIRMN3SkB7XqE5sKpyvRQ7TwtqqwZmSkqRra/yWUTrk88E1DJEaRJyiSsSqvrepY6lXOtu8kTBxaMKSZyb/QZCitlmsejuKqFJP/TvEcJtujZbl4GueBekIkSAnjihl6WGDGo4h5BdYxrHH9oPRnuZwK7Y3pF8UJh297Nl01oQleZKrreISDfSQeI9DexRAAAAUEGepUU0TCP/AAAX6XzFREACw9JesVpEQzcuegp0hkgN+bnJY5UwD3v4LA47tv/3CSEzpJ5wyeE4fXZZ4AUTkKalQkOmksUFYg581lVG8VDZAAAANQGexHRH/wAAJKpFYCnUg/CArwiFHP0aIjXhjPChodABMiGeDMMvBLm2SzoYLE68OsteYJYbAAAAOgGexmpH/wAAJb8CZIzJEYTqYCjEtUR4MgAjIlp+uOTE8OWSoA/AOsvjNFpcU3544N15J+QWHF8E+HEAAABQQZrLSahBaJlMCGf//p4QAABJUOr2yXMxAMpHXPWT4dPv4hsCSAgA9K01dR+1CG/x6FRdsNGpkqcsXqAGltQbPIzWU3/DEP/35zcaegka+sAAAABGQZ7pRREsI/8AABffQ71P3EACwSI0DQAGOhpRyxH8ggAOClr7dwf3rG+aQR+1nLjQ5rEt3t/FtzV9IcBTFrTvJ5AIlZCHaAAAADIBnwh0R/8AACXC7OFr+qNUoASzjAJOCFx2rX2lpoyBhRbT/2/0wFI8UqV3gLG8RUB8OQAAACgBnwpqR/8AACWuXsvfd5bsSYaFC8GQnoKtkPmeaP3mGiTV0IjhfxJwAAAAdkGbD0moQWyZTAhn//6eEAAASWifduCwdAEdUFFEMgVY7b8rcF+x0qvn2Bx18Syx1r56UMgWMEfs1eophsz6IrD/z30ceV0dsvNjjlrf7/KlkACzD0byfMNtqZwuoccyK7VGZlHA3DvnKvgrcSKj7dXeDBEnw44AAAA1QZ8tRRUsI/8AABfom2LkorRVTJB89mixU41EfkEIR5gvZuG5kpLUAsSBJ3+F5xEz+XTka3EAAAA/AZ9MdEf/AAAlwJkfz2WEtD2yQbaH1ABIohd+B6LHlO/duFOHk0KVG0vrLcueY0g1Ydt8MbVeJ3MeL8IK1tKxAAAAKgGfTmpH/wAAJb2DQn7JF1ll+LKX/PO8fFzcBOQQ3ofPs5/+B4Hl+sd1gQAAAG9Bm1NJqEFsmUwIZ//+nhAAAEl/G7OKmACBwPpl5dhyDH1h3/9XgW3bMw9IK+gmotzLFh0K7FVvsaVPpQ5/srycd9TH7aytC8Y5bSRYrlQ6u0KaETL6BQREMWdzBPvovazjLWyNdFfYz3KtluzNUYAAAAA7QZ9xRRUsI/8AABfom2YEbaW444xcGz9q3WGIyfWfwuYzev/b81wAD3xP9NUgIGIXtjmGtQV6UbCMUEAAAAAxAZ+QdEf/AAAlwJnd6C46yLl65sL0+wrngLJsDSPlpRAqmypRzQ6ffHvlMpk7GlzFtQAAADEBn5JqR/8AACWuX/s4LfOlGHACHhVoALbq7h7u0HutCNTgiMZ9Z4a3hphszGsqyHpAAAAAbEGbl0moQWyZTAhn//6eEAAASW8lkVFOQBEdbvoULEHJGj9WnnQTLMoUms7m4WL8G7PvvR8/+XZupoNAW6Whupxib+98KGKHSR58hAI7oBvV2bsN04Kd6quPtkcq5TOXzPZdJaYNPm3s/9tWwgAAADNBn7VFFSwj/wAAF8/aHL6d9XU+EN6Uc2ZnZFuNFrb9Gh/jwtncfBcmw77E/Swz2S22OUEAAABDAZ/UdEf/AAAlqeru0S5JM54wASxTb724PcXRJ95nMVZyDhao14ZA8zmgT2bNvQE5a2GsOoSbil1/zEY0irqR+CapgAAAACgBn9ZqR/8AACW/Gs52tgZMpRDK0ZcUJPCI+uDLbLAfi3DesYwN2hwRAAAAjkGb20moQWyZTAhf//6MsAAATBB7MbFdendS4AAnEcAeGUhnLbAmPsbp6y9FNKT7w25fBJBmZUHCJA2bn1eRfMMRJ5fqatKVb+C2ik4QWuSWdI+JEHbGsq0mmKKr9ybKjtRnFC/s60nZWpzGL+RsjAkn446nR29SvVTJTZEFPfsPnheEJbDt5TdXU5PDsYEAAABBQZ/5RRUsI/8AABiJdFDamYxV2HwxTgMHY2F8tzkg5ATFra/WogqvdJrsXa2AEBi6FC8vG/M20qf7UZCcrmPwa5QAAAAvAZ4YdEf/AAAlqeru4fVLDxF32yERAMKcB0W6jKx1i2+d1RZKfA0hkTFQHUuznKkAAAAxAZ4aakf/AAAmvZIb9HM5XR7uNgVKBJAQ4t3nOAxtVCblZ5kSdh8Nqc6CqlAhKAfB3AAAAGhBmh5JqEFsmUwIZ//+nhAAAEtRDZBZCxAW47itpw4iJvKbRrrshCebNn5wBJKh5Es33e1LkL+c13DuAyeei6053QvclP9Kxa+HK6GBZA7HYzrvHaSTMjks7lrBx5PQD3N76kXkW4cEMQAAAEdBnjxFFSwj/wAAGIZzn/MY/CfMoSr0VJJAn7yIXQlQ2SsgguQXQQAswpxqG3w1zv5DBLgA92CkGHOb/+NI3AtWCJ/k/lpKYQAAAEgBnl1qR/8AAA6BbQ+SjEIWDQ8hDXhXpo16nEhoBN386h7kv7nE+yadYDHl1dcUrQcQ+Kpe64AJ2Kcu0IdgCLSokVlenRpfyoAAAADAQZpCSahBbJlMCGf//p4QAABLRQW1KdS0AHFlLfQXGaADMKOt705PsH/unBtwKAEb+E1TpZelRefcGiY917T85iIkNvVMZW8ke1vXfSH9C97rDbBhTLs4tNZkPi9P8qtgF5DaUdXVDbSHo2bdU+IAATitkD1etmReNoQsuu+S1RxnfldF4zrPa/IlR9ZiKcbyX8PARhyhWuOeRGgnBta+djV69xu0iOmXdonwEqPTkTQpTiaERSKw1w3cRTeRYKVAAAAAWEGeYEUVLCP/AAAYiVWT66Z7iJfNDkl13NBpzygAS9zBWsF8VJROgu6SBO/6bKqhoEP/wo3bl58AEsjG6x+pE8x28vpMSS3dtI4VtS1tryCE5cgqkCzR8A8AAABFAZ6fdEf/AAAOgOIZfL4d9pemLYqoPRmxsmyB7VWzVRSiYB2uJH6vqxD8P1OYPc0nFI/vfnxACVz7oqM7y9jJPdCNVNEfAAAAMgGegWpH/wAAJr71PhzRsUD5HcPoCAy1li5B5uffHBhUQCINXOyV61D9j26WuYWMyqFxAAAAckGahkmoQWyZTAhn//6eEAAAS1SP5jH+RiJfq96iwi/4iRrOgAK075zHVlo5l6edHZHAAClZ5aBB7vPDh6BRaY8krUfiu+sQlVX4j4QKzOsNcG92fJ+tBrY5YMlivBQ7pDLP/9ISx8lmrdK4LlKSrcWo+AAAAD1BnqRFFSwj/wAAGICHvDpG+LAq9ouIWpAl1SVjMwgM1ue/o5Fu1COG8y9iy4bmuBBFSjCf5HfIAPZRYe/NAAAALgGew3RH/wAADoecr7ytCeKjs4b1nLi2EK8ZWTR3PVputDcCp2txIx2kGZqvP4EAAAA1AZ7Fakf/AAAmsixypjWg0PKgurvbEz7px8qXVCcZ6iP3zJ2Qpt5mmwATfhZfCYoWyp3XY0EAAACZQZrKSahBbJlMCF///oywAABMFXJnAJqtHxIkhxkhYJ8YOZ7JtRhsMZeHKA2fO6/GyKUHnad6H9D4Xvnhx/mZSxskavm5gS48fGGAVRvrHwavCZsPOdi4crfb7aY/pCQAFAqyrWzjmIMK/4kVWP0/KUNIb+GttMIy8Uan+rtx37b7L5rINcZHnp5pHDdg5kcEpBHBM//7NXYJAAAAVkGe6EUVLCP/AAAYjdv1xqEgBHZVJZhMjCrJ7zNFKLcSNPrKNG2SBTVBBwfepdZvjyomfwyO/E8eeFy29qYKrMsuO31MfSk7UhZnbMY1J0wUUyIZ9xFwAAAANAGfB3RH/wAAJsMHR4fR2UVlqt+5VJVVVGqB7VwvmDp2VbadGR2xBKAblJ/1ff/fkh9smLgAAABLAZ8Jakf/AAAmvwsuTGE8yIpgyhl3kxM0cDjx5/agBW3IgAuogt76jfykURjYwLKAWJI0p4p7e7u0Fd1Z75sJjrb277V/l2/BtJi5AAAAj0GbDkmoQWyZTAhf//6MsAAATAOVGcAmufX3FHf9+iM5BifKP0m1LKR3vfkvmehBp30Bu73/IDStsLDS969LdkpZulx6d91mC8yDO7294IKLlKuzrtKfjQJUwKEozqI1VZb2lzoNvaZzG/8j1fu5xZr1PYZgS0V7Ve64Y/QXLtklNtfjeAudfgM+PQBBUk4IAAAAWkGfLEUVLCP/AAAYiNxRaGqFw/r0B8MZkBXz0KxKyNeHBROx8IXBgFIEVrSd/IkwxouNZa2ktRu5PBFok4+9LYgviYTnrZwDNK4P6i4iwfzOVsi4B2vjB7/QYAAAADkBn0t0R/8AACapzowj2NupPSmM2MG4YR6Phi52aklHPxfOHYyFLcrLoV9/g7D8lK0xC9ssul6MNoEAAAAvAZ9Nakf/AAAmvxp0HGkTvHqRFFtWlHpgvdlow94Wt9jtIgATEJ2iRhXBZ8ZuBcEAAACCQZtSSahBbJlMCF///oywAABMEQXbv1/oAI9CSd8cVhciba4rxYI3ggrI8z1nWLw3neV1+/WRXzsWX2d+dGaS1uuLqFlpOvj7W90zJ//3P/2qWe+KqQjOd6EA3HhD1lh8o+9EJIEsjIoFRQTOAG1K36MItwtnm0ka5wFOkDleaOk+gQAAAEpBn3BFFSwj/wAAGIu4B0I+foC0Ea1NhJXHy6fWjVRw2cwC38biMGEb0yUM7XLjZg/SsI2HRNR4AgAxqeVTrGJweaRBWKMTCfXpgAAAAEYBn490R/8AACbC3G8A/ApmfWIvfRLeTKbnWY84i4fXkMvmmTmIEQ8A4wASx+ZVB1ACV27FdcFbtxts0TTm1wzLDCRvh07oAAAARwGfkWpH/wAAJr7pwnjewveo7Bd5QhJvgm8j5wuc3a2pbncT6XecqZYBXNracCfYHMZq0ACY9AXfUv4rTcnuaAVt3Sw64lixAAAAYEGblkmoQWyZTAhX//44QAABJuia52lf5IAFqV7xtZVXSlSzV40/pu9nXkOQYc/w4fbmdAIvieZZ+Teld555hWYfZRTkrUQNA3SXyyOkRUyBbGkQf1GnhqCWoVZGj1wiUAAAAE9Bn7RFFSwj/wAAGEW+5MhQlnA5lWAQgKvP3Gkqj8Pt9RAZ0+9EgGJmh80gxL+J6NJViyQA34AP2zXqXCYxTuWDxtAO1tOFcQxzujFLXDdwAAAAOAGf03RH/wAAJqnOWyZ5oJ7QUh5oAxHJb9rg6pNSIH6dfssiA2JLfQhrsDPK7Yrv1qDr+g6lb2pBAAAAQwGf1WpH/wAAJW83UAqeMRzY2R6AALYwQRjvbKDjfJP4kj5jUMp76gO35YReFsv1D2bq+kYUxyPoJP3FVTc4sMy29MAAAAB6QZvYSahBbJlMFEwj//3hAAAEU0GKT9Hk+KhRvxbr+YSiFwfITADczHVWGhM5ocUlB4V7fqaZa4DCJgBnWhUrl49ajcjsemBEsCO567w4Fi0NgQG33s4KhZ79mqDtdrW2LGxCJ2ySkxUAMPgNaoQCQFi9dd/eqGGRg0EAAABUAZ/3akf/AAAmx7EtKR+6R1BcLDj6DkltQNSCjw0K4KBnOUBIpGyaXUW9X7z3umOigm+bOUs5l9aAE0lQpvwWcg3/gJdqrpssHcB+whNWA4Z7HcNpAAAATkGb+UnhClJlMCP//IQAABDYrp5RgCtJ+xsGWqNcOXnkkvpJU8E2hGe1M4ovIp+9LNVr5WtTqWeVjs/Xf1Ugc8NXJWurmurjC3CpjT2qoAAABzNtb292AAAAbG12aGQAAAAAAAAAAAAAAAAAAAPoAAAHCAABAAABAAAAAAAAAAAAAAAAAQAAAAAAAAAAAAAAAAAAAAEAAAAAAAAAAAAAAAAAAEAAAAAAAAAAAAAAAAAAAAAAAAAAAAAAAAAAAAAAAAACAAAGXXRyYWsAAABcdGtoZAAAAAMAAAAAAAAAAAAAAAEAAAAAAAAHCAAAAAAAAAAAAAAAAAAAAAAAAQAAAAAAAAAAAAAAAAAAAAEAAAAAAAAAAAAAAAAAAEAAAAACWAAAAZAAAAAAACRlZHRzAAAAHGVsc3QAAAAAAAAAAQAABwgAAAIAAAEAAAAABdVtZGlhAAAAIG1kaGQAAAAAAAAAAAAAAAAAADIAAABaAFXEAAAAAAAtaGRscgAAAAAAAAAAdmlkZQAAAAAAAAAAAAAAAFZpZGVvSGFuZGxlcgAAAAWAbWluZgAAABR2bWhkAAAAAQAAAAAAAAAAAAAAJGRpbmYAAAAcZHJlZgAAAAAAAAABAAAADHVybCAAAAABAAAFQHN0YmwAAACYc3RzZAAAAAAAAAABAAAAiGF2YzEAAAAAAAAAAQAAAAAAAAAAAAAAAAAAAAACWAGQAEgAAABIAAAAAAAAAAEAAAAAAAAAAAAAAAAAAAAAAAAAAAAAAAAAAAAAAAAAAAAY//8AAAAyYXZjQwFkAB//4QAZZ2QAH6zZQJgz5eEAAAMAAQAAAwBkDxgxlgEABmjr48siwAAAABhzdHRzAAAAAAAAAAEAAABaAAABAAAAABRzdHNzAAAAAAAAAAEAAAABAAACyGN0dHMAAAAAAAAAVwAAAAEAAAIAAAAAAQAABQAAAAABAAACAAAAAAEAAAAAAAAAAQAAAQAAAAABAAADAAAAAAEAAAEAAAAAAQAABAAAAAACAAABAAAAAAEAAAQAAAAAAgAAAQAAAAABAAAFAAAAAAEAAAIAAAAAAQAAAAAAAAABAAABAAAAAAEAAAUAAAAAAQAAAgAAAAABAAAAAAAAAAEAAAEAAAAAAQAAAwAAAAABAAABAAAAAAEAAAUAAAAAAQAAAgAAAAABAAAAAAAAAAEAAAEAAAAAAQAABQAAAAABAAACAAAAAAEAAAAAAAAAAQAAAQAAAAABAAAFAAAAAAEAAAIAAAAAAQAAAAAAAAABAAABAAAAAAEAAAIAAAAAAQAABQAAAAABAAACAAAAAAEAAAAAAAAAAQAAAQAAAAABAAAFAAAAAAEAAAIAAAAAAQAAAAAAAAABAAABAAAAAAEAAAUAAAAAAQAAAgAAAAABAAAAAAAAAAEAAAEAAAAAAQAABQAAAAABAAACAAAAAAEAAAAAAAAAAQAAAQAAAAABAAAFAAAAAAEAAAIAAAAAAQAAAAAAAAABAAABAAAAAAEAAAUAAAAAAQAAAgAAAAABAAAAAAAAAAEAAAEAAAAAAQAABAAAAAACAAABAAAAAAEAAAUAAAAAAQAAAgAAAAABAAAAAAAAAAEAAAEAAAAAAQAABQAAAAABAAACAAAAAAEAAAAAAAAAAQAAAQAAAAABAAAFAAAAAAEAAAIAAAAAAQAAAAAAAAABAAABAAAAAAEAAAUAAAAAAQAAAgAAAAABAAAAAAAAAAEAAAEAAAAAAQAABQAAAAABAAACAAAAAAEAAAAAAAAAAQAAAQAAAAABAAAFAAAAAAEAAAIAAAAAAQAAAAAAAAABAAABAAAAAAEAAAMAAAAAAQAAAQAAAAABAAACAAAAABxzdHNjAAAAAAAAAAEAAAABAAAAWgAAAAEAAAF8c3RzegAAAAAAAAAAAAAAWgAABKYAAADDAAAAVAAAADgAAABCAAAAeAAAADEAAAB1AAAANAAAAD4AAACGAAAAXAAAAFUAAAB3AAAAQAAAADIAAAAvAAAApAAAADoAAAA8AAAAOgAAAGgAAAAwAAAAtQAAAEEAAABEAAAAQwAAAHMAAABjAAAAOwAAAEoAAACAAAAATAAAAFEAAABQAAAAZwAAALkAAABUAAAAOQAAAD4AAABUAAAASgAAADYAAAAsAAAAegAAADkAAABDAAAALgAAAHMAAAA/AAAANQAAADUAAABwAAAANwAAAEcAAAAsAAAAkgAAAEUAAAAzAAAANQAAAGwAAABLAAAATAAAAMQAAABcAAAASQAAADYAAAB2AAAAQQAAADIAAAA5AAAAnQAAAFoAAAA4AAAATwAAAJMAAABeAAAAPQAAADMAAACGAAAATgAAAEoAAABLAAAAZAAAAFMAAAA8AAAARwAAAH4AAABYAAAAUgAAABRzdGNvAAAAAAAAAAEAAAAwAAAAYnVkdGEAAABabWV0YQAAAAAAAAAhaGRscgAAAAAAAAAAbWRpcmFwcGwAAAAAAAAAAAAAAAAtaWxzdAAAACWpdG9vAAAAHWRhdGEAAAABAAAAAExhdmY1Ny44My4xMDA=\" type=\"video/mp4\" />\n",
              "             </video>"
            ],
            "text/plain": [
              "<IPython.core.display.HTML object>"
            ]
          },
          "metadata": {
            "tags": []
          }
        },
        {
          "output_type": "stream",
          "text": [
            "\n",
            "SHOWING VIDEO video/openaigym.video.5.3544.video000007.mp4\n"
          ],
          "name": "stdout"
        },
        {
          "output_type": "display_data",
          "data": {
            "text/html": [
              "<video alt=\"test\" autoplay \n",
              "                loop controls style=\"height: 400px;\">\n",
              "                <source src=\"data:video/mp4;base64,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\" type=\"video/mp4\" />\n",
              "             </video>"
            ],
            "text/plain": [
              "<IPython.core.display.HTML object>"
            ]
          },
          "metadata": {
            "tags": []
          }
        },
        {
          "output_type": "stream",
          "text": [
            "\n",
            "SHOWING VIDEO video/openaigym.video.5.3544.video000008.mp4\n"
          ],
          "name": "stdout"
        },
        {
          "output_type": "display_data",
          "data": {
            "text/html": [
              "<video alt=\"test\" autoplay \n",
              "                loop controls style=\"height: 400px;\">\n",
              "                <source src=\"data:video/mp4;base64,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\" type=\"video/mp4\" />\n",
              "             </video>"
            ],
            "text/plain": [
              "<IPython.core.display.HTML object>"
            ]
          },
          "metadata": {
            "tags": []
          }
        },
        {
          "output_type": "stream",
          "text": [
            "\n",
            "SHOWING VIDEO video/openaigym.video.5.3544.video000009.mp4\n"
          ],
          "name": "stdout"
        },
        {
          "output_type": "display_data",
          "data": {
            "text/html": [
              "<video alt=\"test\" autoplay \n",
              "                loop controls style=\"height: 400px;\">\n",
              "                <source src=\"data:video/mp4;base64,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\" type=\"video/mp4\" />\n",
              "             </video>"
            ],
            "text/plain": [
              "<IPython.core.display.HTML object>"
            ]
          },
          "metadata": {
            "tags": []
          }
        }
      ]
    },
    {
      "cell_type": "code",
      "metadata": {
        "id": "mpw9WLrSQqWN"
      },
      "source": [
        ""
      ],
      "execution_count": null,
      "outputs": []
    }
  ]
}