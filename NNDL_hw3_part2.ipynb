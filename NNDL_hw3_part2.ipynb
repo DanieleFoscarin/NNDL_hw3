{
  "nbformat": 4,
  "nbformat_minor": 0,
  "metadata": {
    "colab": {
      "name": "NNDL_hw3_part2.ipynb",
      "provenance": [],
      "toc_visible": true,
      "mount_file_id": "https://github.com/DanieleFoscarin/NNDL_hw3/blob/main/NNDL_hw3_part2.ipynb",
      "authorship_tag": "ABX9TyO6lwwMulKKObr28VhLqikE",
      "include_colab_link": true
    },
    "kernelspec": {
      "name": "python3",
      "display_name": "Python 3"
    }
  },
  "cells": [
    {
      "cell_type": "markdown",
      "metadata": {
        "id": "view-in-github",
        "colab_type": "text"
      },
      "source": [
        "<a href=\"https://colab.research.google.com/github/DanieleFoscarin/NNDL_hw3/blob/main/NNDL_hw3_part2.ipynb\" target=\"_parent\"><img src=\"https://colab.research.google.com/assets/colab-badge.svg\" alt=\"Open In Colab\"/></a>"
      ]
    },
    {
      "cell_type": "markdown",
      "metadata": {
        "id": "jMm9ZPM7w7ir"
      },
      "source": [
        "# Part 1"
      ]
    },
    {
      "cell_type": "markdown",
      "metadata": {
        "id": "poiXxYrdw-Nz"
      },
      "source": [
        "Prepare enviroment"
      ]
    },
    {
      "cell_type": "code",
      "metadata": {
        "id": "jBelL8nBZVsn",
        "colab": {
          "base_uri": "https://localhost:8080/"
        },
        "outputId": "1752a635-4942-4a76-9fd2-626f28adcb96"
      },
      "source": [
        "!pip install gym"
      ],
      "execution_count": 1,
      "outputs": [
        {
          "output_type": "stream",
          "text": [
            "Requirement already satisfied: gym in /usr/local/lib/python3.6/dist-packages (0.17.3)\n",
            "Requirement already satisfied: pyglet<=1.5.0,>=1.4.0 in /usr/local/lib/python3.6/dist-packages (from gym) (1.5.0)\n",
            "Requirement already satisfied: numpy>=1.10.4 in /usr/local/lib/python3.6/dist-packages (from gym) (1.19.5)\n",
            "Requirement already satisfied: cloudpickle<1.7.0,>=1.2.0 in /usr/local/lib/python3.6/dist-packages (from gym) (1.3.0)\n",
            "Requirement already satisfied: scipy in /usr/local/lib/python3.6/dist-packages (from gym) (1.4.1)\n",
            "Requirement already satisfied: future in /usr/local/lib/python3.6/dist-packages (from pyglet<=1.5.0,>=1.4.0->gym) (0.16.0)\n"
          ],
          "name": "stdout"
        }
      ]
    },
    {
      "cell_type": "code",
      "metadata": {
        "id": "a7EkHQ0VsNnJ"
      },
      "source": [
        "import random\n",
        "import torch\n",
        "import numpy as np\n",
        "import gym\n",
        "import matplotlib.pyplot as plt\n",
        "from tqdm.notebook import tqdm\n",
        "import cv2\n",
        "\n",
        "from torch import nn\n",
        "from collections import deque # this python module implements exactly what we need for the replay memeory"
      ],
      "execution_count": 2,
      "outputs": []
    },
    {
      "cell_type": "markdown",
      "metadata": {
        "id": "LKzDB1SPZYY1"
      },
      "source": [
        "## Enable gym environment rendering in Colab\n",
        "\n",
        "> This section is not required if you are executing the notebook in a local environment. It enables the video generation from Gym environments, and it is only required in Colab since we do not have access to a screen.\n",
        "\n",
        "Source: https://colab.research.google.com/drive/18LdlDDT87eb8cCTHZsXyS9ksQPzL3i6H"
      ]
    },
    {
      "cell_type": "code",
      "metadata": {
        "id": "V0HIwpatSteb",
        "colab": {
          "base_uri": "https://localhost:8080/"
        },
        "outputId": "9170d99d-980e-43e0-a2d5-a1b4e4fd4c82"
      },
      "source": [
        "!apt update\n",
        "!apt-get install python-opengl -y\n",
        "!apt install xvfb -y\n",
        "!pip install pyvirtualdisplay\n",
        "!pip install piglet"
      ],
      "execution_count": 3,
      "outputs": [
        {
          "output_type": "stream",
          "text": [
            "\u001b[33m\r0% [Working]\u001b[0m\r            \rGet:1 https://cloud.r-project.org/bin/linux/ubuntu bionic-cran40/ InRelease [3,626 B]\n",
            "\u001b[33m\r0% [Waiting for headers] [Connecting to security.ubuntu.com (91.189.88.152)] [1\u001b[0m\u001b[33m\r0% [Waiting for headers] [Connecting to security.ubuntu.com (91.189.88.152)] [W\u001b[0m\r                                                                               \rIgn:2 https://developer.download.nvidia.com/compute/cuda/repos/ubuntu1804/x86_64  InRelease\n",
            "\u001b[33m\r0% [Waiting for headers] [Connecting to security.ubuntu.com (91.189.88.152)] [W\u001b[0m\u001b[33m\r0% [1 InRelease gpgv 3,626 B] [Waiting for headers] [Connecting to security.ubu\u001b[0m\r                                                                               \rHit:3 http://archive.ubuntu.com/ubuntu bionic InRelease\n",
            "Get:4 http://ppa.launchpad.net/c2d4u.team/c2d4u4.0+/ubuntu bionic InRelease [15.9 kB]\n",
            "Ign:5 https://developer.download.nvidia.com/compute/machine-learning/repos/ubuntu1804/x86_64  InRelease\n",
            "Get:6 https://developer.download.nvidia.com/compute/cuda/repos/ubuntu1804/x86_64  Release [697 B]\n",
            "Hit:7 https://developer.download.nvidia.com/compute/machine-learning/repos/ubuntu1804/x86_64  Release\n",
            "Get:8 https://developer.download.nvidia.com/compute/cuda/repos/ubuntu1804/x86_64  Release.gpg [836 B]\n",
            "Get:9 http://archive.ubuntu.com/ubuntu bionic-updates InRelease [88.7 kB]\n",
            "Get:10 http://security.ubuntu.com/ubuntu bionic-security InRelease [88.7 kB]\n",
            "Hit:11 http://ppa.launchpad.net/cran/libgit2/ubuntu bionic InRelease\n",
            "Get:12 https://cloud.r-project.org/bin/linux/ubuntu bionic-cran40/ Packages [44.4 kB]\n",
            "Get:13 http://archive.ubuntu.com/ubuntu bionic-backports InRelease [74.6 kB]\n",
            "Get:14 http://ppa.launchpad.net/graphics-drivers/ppa/ubuntu bionic InRelease [21.3 kB]\n",
            "Ign:16 https://developer.download.nvidia.com/compute/cuda/repos/ubuntu1804/x86_64  Packages\n",
            "Get:16 https://developer.download.nvidia.com/compute/cuda/repos/ubuntu1804/x86_64  Packages [549 kB]\n",
            "Get:17 http://ppa.launchpad.net/c2d4u.team/c2d4u4.0+/ubuntu bionic/main Sources [1,718 kB]\n",
            "Get:18 http://archive.ubuntu.com/ubuntu bionic-updates/universe amd64 Packages [2,156 kB]\n",
            "Get:19 http://security.ubuntu.com/ubuntu bionic-security/restricted amd64 Packages [291 kB]\n",
            "Get:20 http://ppa.launchpad.net/c2d4u.team/c2d4u4.0+/ubuntu bionic/main amd64 Packages [879 kB]\n",
            "Get:21 http://security.ubuntu.com/ubuntu bionic-security/main amd64 Packages [1,908 kB]\n",
            "Get:22 http://archive.ubuntu.com/ubuntu bionic-updates/main amd64 Packages [2,348 kB]\n",
            "Get:23 http://archive.ubuntu.com/ubuntu bionic-updates/multiverse amd64 Packages [42.6 kB]\n",
            "Get:24 http://archive.ubuntu.com/ubuntu bionic-updates/restricted amd64 Packages [323 kB]\n",
            "Get:25 http://security.ubuntu.com/ubuntu bionic-security/universe amd64 Packages [1,383 kB]\n",
            "Get:26 http://ppa.launchpad.net/graphics-drivers/ppa/ubuntu bionic/main amd64 Packages [49.2 kB]\n",
            "Fetched 12.0 MB in 3s (3,630 kB/s)\n",
            "Reading package lists... Done\n",
            "Building dependency tree       \n",
            "Reading state information... Done\n",
            "48 packages can be upgraded. Run 'apt list --upgradable' to see them.\n",
            "Reading package lists... Done\n",
            "Building dependency tree       \n",
            "Reading state information... Done\n",
            "Suggested packages:\n",
            "  libgle3\n",
            "The following NEW packages will be installed:\n",
            "  python-opengl\n",
            "0 upgraded, 1 newly installed, 0 to remove and 48 not upgraded.\n",
            "Need to get 496 kB of archives.\n",
            "After this operation, 5,416 kB of additional disk space will be used.\n",
            "Get:1 http://archive.ubuntu.com/ubuntu bionic/universe amd64 python-opengl all 3.1.0+dfsg-1 [496 kB]\n",
            "Fetched 496 kB in 1s (762 kB/s)\n",
            "Selecting previously unselected package python-opengl.\n",
            "(Reading database ... 146374 files and directories currently installed.)\n",
            "Preparing to unpack .../python-opengl_3.1.0+dfsg-1_all.deb ...\n",
            "Unpacking python-opengl (3.1.0+dfsg-1) ...\n",
            "Setting up python-opengl (3.1.0+dfsg-1) ...\n",
            "Reading package lists... Done\n",
            "Building dependency tree       \n",
            "Reading state information... Done\n",
            "The following NEW packages will be installed:\n",
            "  xvfb\n",
            "0 upgraded, 1 newly installed, 0 to remove and 48 not upgraded.\n",
            "Need to get 784 kB of archives.\n",
            "After this operation, 2,270 kB of additional disk space will be used.\n",
            "Get:1 http://archive.ubuntu.com/ubuntu bionic-updates/universe amd64 xvfb amd64 2:1.19.6-1ubuntu4.8 [784 kB]\n",
            "Fetched 784 kB in 1s (1,100 kB/s)\n",
            "Selecting previously unselected package xvfb.\n",
            "(Reading database ... 148729 files and directories currently installed.)\n",
            "Preparing to unpack .../xvfb_2%3a1.19.6-1ubuntu4.8_amd64.deb ...\n",
            "Unpacking xvfb (2:1.19.6-1ubuntu4.8) ...\n",
            "Setting up xvfb (2:1.19.6-1ubuntu4.8) ...\n",
            "Processing triggers for man-db (2.8.3-2ubuntu0.1) ...\n",
            "Collecting pyvirtualdisplay\n",
            "  Downloading https://files.pythonhosted.org/packages/ad/05/6568620fed440941b704664b9cfe5f836ad699ac7694745e7787fbdc8063/PyVirtualDisplay-2.0-py2.py3-none-any.whl\n",
            "Collecting EasyProcess\n",
            "  Downloading https://files.pythonhosted.org/packages/48/3c/75573613641c90c6d094059ac28adb748560d99bd27ee6f80cce398f404e/EasyProcess-0.3-py2.py3-none-any.whl\n",
            "Installing collected packages: EasyProcess, pyvirtualdisplay\n",
            "Successfully installed EasyProcess-0.3 pyvirtualdisplay-2.0\n",
            "Collecting piglet\n",
            "  Downloading https://files.pythonhosted.org/packages/11/56/6840e5f45626dc7eb7cd5dff57d11880b3113723b3b7b1fb1fa537855b75/piglet-1.0.0-py2.py3-none-any.whl\n",
            "Collecting piglet-templates\n",
            "\u001b[?25l  Downloading https://files.pythonhosted.org/packages/34/1e/49d7e0df9420eeb13a636487b8e606cf099f2ee0793159edd8ffe905125b/piglet_templates-1.1.0-py3-none-any.whl (63kB)\n",
            "\u001b[K     |████████████████████████████████| 71kB 3.0MB/s \n",
            "\u001b[?25hRequirement already satisfied: astunparse in /usr/local/lib/python3.6/dist-packages (from piglet-templates->piglet) (1.6.3)\n",
            "Requirement already satisfied: markupsafe in /usr/local/lib/python3.6/dist-packages (from piglet-templates->piglet) (1.1.1)\n",
            "Requirement already satisfied: attrs in /usr/local/lib/python3.6/dist-packages (from piglet-templates->piglet) (20.3.0)\n",
            "Collecting Parsley\n",
            "\u001b[?25l  Downloading https://files.pythonhosted.org/packages/2b/d6/4fed8d65e28a970e1c5cb33ce9c7e22e3de745e1b2ae37af051ef16aea3b/Parsley-1.3-py2.py3-none-any.whl (88kB)\n",
            "\u001b[K     |████████████████████████████████| 92kB 4.5MB/s \n",
            "\u001b[?25hRequirement already satisfied: wheel<1.0,>=0.23.0 in /usr/local/lib/python3.6/dist-packages (from astunparse->piglet-templates->piglet) (0.36.2)\n",
            "Requirement already satisfied: six<2.0,>=1.6.1 in /usr/local/lib/python3.6/dist-packages (from astunparse->piglet-templates->piglet) (1.15.0)\n",
            "Installing collected packages: Parsley, piglet-templates, piglet\n",
            "Successfully installed Parsley-1.3 piglet-1.0.0 piglet-templates-1.1.0\n"
          ],
          "name": "stdout"
        }
      ]
    },
    {
      "cell_type": "code",
      "metadata": {
        "id": "jxM-vHKz1r_M"
      },
      "source": [
        "import glob\n",
        "import io\n",
        "import base64\n",
        "import os\n",
        "from IPython.display import HTML\n",
        "from IPython import display as ipythondisplay\n",
        "from pyvirtualdisplay import Display\n",
        "from gym.wrappers import Monitor"
      ],
      "execution_count": 4,
      "outputs": []
    },
    {
      "cell_type": "code",
      "metadata": {
        "id": "E0oXbzI2ZAfv",
        "colab": {
          "base_uri": "https://localhost:8080/"
        },
        "outputId": "f80cf621-ed32-4307-ab99-c2bd20633652"
      },
      "source": [
        "display = Display(visible=0, size=(1400, 900))\n",
        "display.start()"
      ],
      "execution_count": 5,
      "outputs": [
        {
          "output_type": "execute_result",
          "data": {
            "text/plain": [
              "<pyvirtualdisplay.display.Display at 0x7f76099f5240>"
            ]
          },
          "metadata": {
            "tags": []
          },
          "execution_count": 5
        }
      ]
    },
    {
      "cell_type": "code",
      "metadata": {
        "id": "yr5j5rz0ZEJf"
      },
      "source": [
        "# This code creates a virtual display to draw game images on. \n",
        "# If you are running locally, just ignore it\n",
        "if type(os.environ.get(\"DISPLAY\")) is not str or len(os.environ.get(\"DISPLAY\"))==0:\n",
        "    !bash ../xvfb start\n",
        "    %env DISPLAY=:1"
      ],
      "execution_count": 6,
      "outputs": []
    },
    {
      "cell_type": "code",
      "metadata": {
        "id": "StaxWEA0Z-O1"
      },
      "source": [
        "\"\"\"\n",
        "Utility functions to enable video recording of gym environment and displaying it\n",
        "To enable video, just do \"env = wrap_env(env)\"\"\n",
        "\"\"\"\n",
        "\n",
        "def show_videos():\n",
        "  mp4list = glob.glob('video/*.mp4')\n",
        "  mp4list.sort()\n",
        "  for mp4 in mp4list:\n",
        "    print(f\"\\nSHOWING VIDEO {mp4}\")\n",
        "    video = io.open(mp4, 'r+b').read()\n",
        "    encoded = base64.b64encode(video)\n",
        "    ipythondisplay.display(HTML(data='''<video alt=\"test\" autoplay \n",
        "                loop controls style=\"height: 400px;\">\n",
        "                <source src=\"data:video/mp4;base64,{0}\" type=\"video/mp4\" />\n",
        "             </video>'''.format(encoded.decode('ascii'))))\n",
        "    \n",
        "def wrap_env(env, video_callable=None):\n",
        "  env = Monitor(env, './video', force=True, video_callable=video_callable)\n",
        "  return env"
      ],
      "execution_count": 7,
      "outputs": []
    },
    {
      "cell_type": "markdown",
      "metadata": {
        "id": "wA_0gAmJfFlT"
      },
      "source": [
        "## Experience replay (Replay Memory)"
      ]
    },
    {
      "cell_type": "markdown",
      "metadata": {
        "id": "dqPUYNrpZhPw"
      },
      "source": [
        "\"*To perform experience replay, we store the agent's experiences e_t=(s_t,a_t,r_t,s_t+1) at each time-step t in a data set D_t={e_1,…,e_t}. During learning, we apply Q-learning updates, on samples (or mini-batches) of experience (s,a,r,s′)∼U(D), drawn uniformly at random from the pool of stored samples.*\"\n",
        "\n",
        "Source: https://www.nature.com/articles/nature14236\n",
        "\n",
        "In practice, what we need is a queue with a predefined capacity. When we reach the maximum capacity, the oldest element in the queue will be replaced with the new one.\n",
        "\n",
        "This exact behavior is implemented by the `deque` object from the python `collections` library (https://docs.python.org/3/library/collections.html#collections.deque):\n",
        "\n",
        "\"*If maxlen is not specified or is None, deques may grow to an arbitrary length. Otherwise, the deque is bounded to the specified maximum length. Once a bounded length deque is full, when new items are added, a corresponding number of items are discarded from the opposite end.*\"\n",
        "\n",
        "The random sampling can be easily achieved using the `random.sample` method (https://docs.python.org/3/library/random.html). "
      ]
    },
    {
      "cell_type": "code",
      "metadata": {
        "id": "1axKWEBl8uik"
      },
      "source": [
        "class ReplayMemory(object):\n",
        "\n",
        "    def __init__(self, capacity):\n",
        "        self.memory = deque(maxlen=capacity) # Define a queue with maxlen \"capacity\"\n",
        "\n",
        "    def push(self, state, action, next_state, reward):\n",
        "        self.memory.append( (state, action, next_state, reward) ) # Add the tuple (state, action, next_state, reward) to the queue\n",
        "\n",
        "    def sample(self, batch_size):\n",
        "        batch_size = min(batch_size, len(self)) # Get all the samples if the requested batch_size is higher than the number of sample currently in the memory\n",
        "        return random.sample(self.memory, batch_size) # Randomly select \"batch_size\" samples\n",
        "\n",
        "    def __len__(self):\n",
        "        return len(self.memory) # Return the number of samples currently stored in the memory"
      ],
      "execution_count": 8,
      "outputs": []
    },
    {
      "cell_type": "markdown",
      "metadata": {
        "id": "74v3ChPPqox3"
      },
      "source": [
        "Test if it works as expected."
      ]
    },
    {
      "cell_type": "code",
      "metadata": {
        "id": "mtwQjNqjaT4E",
        "colab": {
          "base_uri": "https://localhost:8080/"
        },
        "outputId": "0b7fea8e-fbdd-4412-fad3-013fae193b9a"
      },
      "source": [
        "# Define the replay memory\n",
        "replay_mem = ReplayMemory(capacity=3)\n",
        "\n",
        "# Push some samples\n",
        "print(f\"CURRENT MEMORY SIZE: {len(replay_mem)}\")\n",
        "replay_mem.push(1,1,1,1)\n",
        "print(f\"CURRENT MEMORY SIZE: {len(replay_mem)}\")\n",
        "replay_mem.push(2,2,2,2)\n",
        "print(f\"CURRENT MEMORY SIZE: {len(replay_mem)}\")\n",
        "replay_mem.push(3,3,3,3)\n",
        "print(f\"CURRENT MEMORY SIZE: {len(replay_mem)}\")\n",
        "replay_mem.push(4,4,4,4)\n",
        "print(f\"CURRENT MEMORY SIZE: {len(replay_mem)}\")\n",
        "replay_mem.push(5,5,5,5)\n",
        "print(f\"CURRENT MEMORY SIZE: {len(replay_mem)}\")\n",
        "\n",
        "# Check the content of the memory\n",
        "print('\\nCONTENT OF THE MEMORY')\n",
        "print(replay_mem.memory)\n",
        "\n",
        "# Random sample\n",
        "print('\\nRANDOM SAMPLING')\n",
        "for i in range(5):\n",
        "  print(replay_mem.sample(2)) # Select 2 samples randomly from the memory"
      ],
      "execution_count": 9,
      "outputs": [
        {
          "output_type": "stream",
          "text": [
            "CURRENT MEMORY SIZE: 0\n",
            "CURRENT MEMORY SIZE: 1\n",
            "CURRENT MEMORY SIZE: 2\n",
            "CURRENT MEMORY SIZE: 3\n",
            "CURRENT MEMORY SIZE: 3\n",
            "CURRENT MEMORY SIZE: 3\n",
            "\n",
            "CONTENT OF THE MEMORY\n",
            "deque([(3, 3, 3, 3), (4, 4, 4, 4), (5, 5, 5, 5)], maxlen=3)\n",
            "\n",
            "RANDOM SAMPLING\n",
            "[(4, 4, 4, 4), (5, 5, 5, 5)]\n",
            "[(3, 3, 3, 3), (5, 5, 5, 5)]\n",
            "[(4, 4, 4, 4), (3, 3, 3, 3)]\n",
            "[(4, 4, 4, 4), (3, 3, 3, 3)]\n",
            "[(5, 5, 5, 5), (4, 4, 4, 4)]\n"
          ],
          "name": "stdout"
        }
      ]
    },
    {
      "cell_type": "markdown",
      "metadata": {
        "id": "lwWFTQntyPdE"
      },
      "source": [
        ""
      ]
    },
    {
      "cell_type": "markdown",
      "metadata": {
        "id": "Y-nBdx6KfKNE"
      },
      "source": [
        "## Policy network"
      ]
    },
    {
      "cell_type": "markdown",
      "metadata": {
        "id": "vt2uYYCSrL8q"
      },
      "source": [
        "The policy network takes a state as input, and provides the Q-value for each of the possible actions.\r\n",
        "\r\n",
        "Let's define a simple generic fully-connected feed forward network with `state_space_dim` inputs and `action_space_dim` outputs (e.g. 2 hidden layers with 64 neurons each). \r\n",
        "\r\n",
        "Be sure to keep a linear output activation."
      ]
    },
    {
      "cell_type": "markdown",
      "metadata": {
        "id": "-rdsRx6wfZw1"
      },
      "source": [
        "### Network definition"
      ]
    },
    {
      "cell_type": "code",
      "metadata": {
        "id": "W41rXekb8x7K"
      },
      "source": [
        "class DQN(nn.Module):\n",
        "\n",
        "    def __init__(self, state_space_dim, action_space_dim):\n",
        "        super().__init__()\n",
        "\n",
        "        self.linear = nn.Sequential(\n",
        "                nn.Linear(state_space_dim, 128),\n",
        "                nn.Tanh(),\n",
        "                nn.Linear(128, 128),\n",
        "                nn.Tanh(),\n",
        "                nn.Linear(128, action_space_dim)\n",
        "                )\n",
        "\n",
        "    def forward(self, x):\n",
        "        return self.linear(x)"
      ],
      "execution_count": 10,
      "outputs": []
    },
    {
      "cell_type": "code",
      "metadata": {
        "id": "tLPAsTT4gpeW"
      },
      "source": [
        "# Define an example network\n",
        "net = DQN(state_space_dim=4, action_space_dim=2)"
      ],
      "execution_count": 11,
      "outputs": []
    },
    {
      "cell_type": "markdown",
      "metadata": {
        "id": "ynfEXqjGfbpl"
      },
      "source": [
        "### Exploration Policy"
      ]
    },
    {
      "cell_type": "markdown",
      "metadata": {
        "id": "b1Hs7GrEw5FW"
      },
      "source": [
        "Starting from the estimated Q-values, we need to choose the proper action. This action may be the one expected to provide the highest long term reward (exploitation), or maybe we want to find a better policy by choosing a different action (exploration).\r\n",
        "\r\n",
        "The exploration policy controls this behavior, typically by varying a single parameter.\r\n",
        "\r\n",
        "Since our Q-values estimates are far from the true values at the beginning of the training, a high exploration is preferred in the initial phase.\r\n",
        "\r\n",
        "The steps are:\r\n",
        "\r\n",
        "`Current state -> Policy network -> Q-values -> Exploration Policy -> Action`"
      ]
    },
    {
      "cell_type": "markdown",
      "metadata": {
        "id": "3x-kRJbQfqBR"
      },
      "source": [
        "### Epsilon-greedy policy\n"
      ]
    },
    {
      "cell_type": "markdown",
      "metadata": {
        "id": "RFVPF0aMy3be"
      },
      "source": [
        "With an epsilon-greedy policy we choose a **non optimal** action with probability epsilon, otherwise choose the best action (the one corresponding to the highest Q-value)."
      ]
    },
    {
      "cell_type": "code",
      "metadata": {
        "id": "ZXfh_Ub1fv4c"
      },
      "source": [
        "def choose_action_epsilon_greedy(net, state, epsilon):\n",
        "    \n",
        "    if epsilon > 1 or epsilon < 0:\n",
        "        raise Exception('The epsilon value must be between 0 and 1')\n",
        "                \n",
        "    # Evaluate the network output from the current state\n",
        "    with torch.no_grad():\n",
        "        net.eval()\n",
        "        state = torch.tensor(state, dtype=torch.float32) # Convert the state to tensor\n",
        "        net_out = net(state)\n",
        "\n",
        "    # Get the best action (argmax of the network output)\n",
        "    best_action = int(net_out.argmax())\n",
        "    # Get the number of possible actions\n",
        "    action_space_dim = net_out.shape[-1]\n",
        "\n",
        "    # Select a non optimal action with probability epsilon, otherwise choose the best action\n",
        "    if random.random() < epsilon:\n",
        "        # List of non-optimal actions\n",
        "        non_optimal_actions = [a for a in range(action_space_dim) if a != best_action]\n",
        "        # Select randomly\n",
        "        action = random.choice(non_optimal_actions)\n",
        "    else:\n",
        "        # Select best action\n",
        "        action = best_action\n",
        "        \n",
        "    return action, net_out.numpy()"
      ],
      "execution_count": 12,
      "outputs": []
    },
    {
      "cell_type": "code",
      "metadata": {
        "id": "nklFJdMoiDVo",
        "colab": {
          "base_uri": "https://localhost:8080/"
        },
        "outputId": "5a4e5455-68bf-4089-fb73-870d17ec663d"
      },
      "source": [
        "# Test if it works as expected\n",
        "state = (0, 0, 0, 0)\n",
        "epsilon = 0.5\n",
        "chosen_action, q_values = choose_action_epsilon_greedy(net, state, epsilon)\n",
        "\n",
        "print(f\"ACTION: {chosen_action}\")\n",
        "print(f\"Q-VALUES: {q_values}\")"
      ],
      "execution_count": 13,
      "outputs": [
        {
          "output_type": "stream",
          "text": [
            "ACTION: 0\n",
            "Q-VALUES: [-0.050895   -0.12518607]\n"
          ],
          "name": "stdout"
        }
      ]
    },
    {
      "cell_type": "markdown",
      "metadata": {
        "id": "Vvxi7b82f0g4"
      },
      "source": [
        "### Softmax policy"
      ]
    },
    {
      "cell_type": "markdown",
      "metadata": {
        "id": "8I0r6m-p1UQG"
      },
      "source": [
        "With a softmax policy we choose the action based on a distribution obtained applying a softmax (with temperature $\\tau$) to the estimated Q-values. The highest the temperature, the more the distribution will converge to a random uniform distribution. At zero temperature, instead, the policy will always choose the action with the highest Q-value.\r\n",
        "\r\n",
        "> **HINT**\r\n",
        ">\r\n",
        "> To sample from a random (discrete) distribution you can use the numpy function `numpy.random.choice` (https://docs.scipy.org/doc//numpy-1.10.4/reference/generated/numpy.random.choice.html), by setting the parameter `p` properly.\r\n",
        "\r\n",
        "> **HINT**\r\n",
        ">\r\n",
        "> Even if the PyTorch softmax function does not support the temperature parameter directly, you can still use it and apply the temperature outside the function. Just look carefully at the softmax formula in the slide above.\r\n",
        "\r\n",
        "> **HINT**\r\n",
        ">\r\n",
        "> The softmax function may be numerically unstable with very low temperature values. In practice, it is suggested to set a minimum value for the temperature (e.g. 1e-8)."
      ]
    },
    {
      "cell_type": "code",
      "metadata": {
        "id": "taW_cjBsf4sW"
      },
      "source": [
        "def choose_action_softmax(net, state, temperature):\n",
        "    \n",
        "    if temperature < 0:\n",
        "        raise Exception('The temperature value must be greater than or equal to 0 ')\n",
        "        \n",
        "    # If the temperature is 0, just select the best action using the eps-greedy policy with epsilon = 0\n",
        "    if temperature == 0:\n",
        "        return choose_action_epsilon_greedy(net, state, 0)\n",
        "    \n",
        "    # Evaluate the network output from the current state\n",
        "    with torch.no_grad():\n",
        "        net.eval()\n",
        "        state = torch.tensor(state, dtype=torch.float32)\n",
        "        net_out = net(state)\n",
        "\n",
        "    # Apply softmax with temp\n",
        "    temperature = max(temperature, 1e-8) # set a minimum to the temperature for numerical stability\n",
        "    softmax_out = nn.functional.softmax(net_out / temperature, dim=0).numpy()\n",
        "                \n",
        "    # Sample the action using softmax output as mass pdf\n",
        "    all_possible_actions = np.arange(0, softmax_out.shape[-1])\n",
        "    action = np.random.choice(all_possible_actions, p=softmax_out) # this samples a random element from \"all_possible_actions\" with the probability distribution p (softmax_out in this case)\n",
        "    \n",
        "    return action, net_out.numpy()"
      ],
      "execution_count": 14,
      "outputs": []
    },
    {
      "cell_type": "code",
      "metadata": {
        "id": "CAIMqC5kldtB",
        "colab": {
          "base_uri": "https://localhost:8080/"
        },
        "outputId": "3f2ad5d9-a211-4e2a-ad59-92a970b7eaef"
      },
      "source": [
        "state = (0, 0, 0, 0)\n",
        "temperature = 1\n",
        "chosen_action, q_values = choose_action_softmax(net, state, temperature)\n",
        "\n",
        "print(f\"ACTION: {chosen_action}\")\n",
        "print(f\"Q-VALUES: {q_values}\")"
      ],
      "execution_count": 15,
      "outputs": [
        {
          "output_type": "stream",
          "text": [
            "ACTION: 1\n",
            "Q-VALUES: [-0.050895   -0.12518607]\n"
          ],
          "name": "stdout"
        }
      ]
    },
    {
      "cell_type": "markdown",
      "metadata": {
        "id": "QMXhJfZcpqIA"
      },
      "source": [
        "### Exploration profile"
      ]
    },
    {
      "cell_type": "markdown",
      "metadata": {
        "id": "7rOvTpcbMPnR"
      },
      "source": [
        "Let's consider, for example, an exponentially decreasing exploration profile using a softmax policy.\n",
        "\n",
        "$$\n",
        "\\text{softmax_temperature}  = \\text{initial_temperature} * \\text{exp_decay}^i \\qquad \\text{for $i$ = 1, 2, ..., num_iterations } \n",
        "$$\n",
        "\n",
        "Alternatively, you can consider an epsilon greedy policy. In this case the exploration would be controlled by the epsilon parameter, for which you should consider a different initial value (max 1). "
      ]
    },
    {
      "cell_type": "code",
      "metadata": {
        "colab": {
          "base_uri": "https://localhost:8080/",
          "height": 515
        },
        "id": "BLGXTxrpWuFe",
        "outputId": "bed10438-7da1-42e7-cf53-9ed2f7127578"
      },
      "source": [
        "### Define experimental exploration profile\r\n",
        "initial_value = 5\r\n",
        "num_iterations = 800\r\n",
        "exp_decay = np.exp(-np.log(initial_value) / num_iterations * 4) # We compute the exponential decay in such a way the shape of the exploration profile does not depend on the number of iterations\r\n",
        "# exploration_profile = [np.clip(initial_value * (exp_decay ** i) *np.abs(np.cos(i/15)), 1e-8, 10) for i in range(num_iterations)]\r\n",
        "exploration_profile = [np.clip(initial_value * (exp_decay ** i) *np.abs(np.cos(i*np.pi/10)), 1e-8, 10) for i in range(num_iterations)]\r\n",
        "\r\n",
        "\r\n",
        "### Plot exploration profile\r\n",
        "plt.figure(figsize=(12,8))\r\n",
        "plt.plot(exploration_profile)\r\n",
        "plt.grid()\r\n",
        "plt.xlabel('Iteration')\r\n",
        "plt.ylabel('Exploration profile (Softmax temperature)')"
      ],
      "execution_count": 16,
      "outputs": [
        {
          "output_type": "execute_result",
          "data": {
            "text/plain": [
              "Text(0, 0.5, 'Exploration profile (Softmax temperature)')"
            ]
          },
          "metadata": {
            "tags": []
          },
          "execution_count": 16
        },
        {
          "output_type": "display_data",
          "data": {
            "image/png": "[encoded data removed]",
            "text/plain": [
              "<Figure size 864x576 with 1 Axes>"
            ]
          },
          "metadata": {
            "tags": [],
            "needs_background": "light"
          }
        }
      ]
    },
    {
      "cell_type": "code",
      "metadata": {
        "id": "G-f78CC3ptt2",
        "colab": {
          "base_uri": "https://localhost:8080/",
          "height": 515
        },
        "outputId": "cb91c6b1-06fa-4e12-a174-1f0a7220d74b"
      },
      "source": [
        "### Define exploration profile\n",
        "initial_value = 5\n",
        "num_iterations = 1000\n",
        "exp_decay = np.exp(-np.log(initial_value) / num_iterations * 4) # We compute the exponential decay in such a way the shape of the exploration profile does not depend on the number of iterations\n",
        "exploration_profile = [initial_value * (exp_decay ** i) for i in range(num_iterations)]\n",
        "\n",
        "### Plot exploration profile\n",
        "plt.figure(figsize=(12,8))\n",
        "plt.plot(exploration_profile)\n",
        "plt.grid()\n",
        "plt.xlabel('Iteration')\n",
        "plt.ylabel('Exploration profile (Softmax temperature)')"
      ],
      "execution_count": 17,
      "outputs": [
        {
          "output_type": "execute_result",
          "data": {
            "text/plain": [
              "Text(0, 0.5, 'Exploration profile (Softmax temperature)')"
            ]
          },
          "metadata": {
            "tags": []
          },
          "execution_count": 17
        },
        {
          "output_type": "display_data",
          "data": {
            "image/png": "[encoded data removed]",
            "text/plain": [
              "<Figure size 864x576 with 1 Axes>"
            ]
          },
          "metadata": {
            "tags": [],
            "needs_background": "light"
          }
        }
      ]
    },
    {
      "cell_type": "code",
      "metadata": {
        "id": "iX7JpFeObm08"
      },
      "source": [
        "# ### Define experimental exploration profile\r\n",
        "# initial_value = 3\r\n",
        "# num_iterations = 1000\r\n",
        "\r\n",
        "# def gaussian(x, mu, sig):\r\n",
        "#     return np.exp(-np.power(x - mu, 2.) / (2 * np.power(sig, 2.)))\r\n",
        "\r\n",
        "# exp_decay = np.exp(-np.log(initial_value) / num_iterations * 6) # We compute the exponential decay in such a way the shape of the exploration profile does not depend on the number of iterations\r\n",
        "# exploration_profile = [initial_value * (exp_decay ** i) *np.abs(np.cos(i/20)) + gaussian(i, 0, 200)*initial_value for i in range(num_iterations)] \r\n",
        "# # exploration_profile = [gaussian(x, 0, 200)*initial_value for x in range(num_iterations)]\r\n",
        "\r\n",
        "# ### Plot exploration profile\r\n",
        "# plt.figure(figsize=(12,8))\r\n",
        "# plt.plot(exploration_profile)\r\n",
        "# plt.grid()\r\n",
        "# plt.xlabel('Iteration')\r\n",
        "# plt.ylabel('Exploration profile (Softmax temperature)')"
      ],
      "execution_count": 18,
      "outputs": []
    },
    {
      "cell_type": "markdown",
      "metadata": {
        "id": "oXLB_rUCyoUT"
      },
      "source": [
        "### State from image processing\r\n",
        "Exploit computer vision tecniques to made a state\r\n",
        "\r\n",
        "blob detection https://learnopencv.com/blob-detection-using-opencv-python-c/"
      ]
    },
    {
      "cell_type": "code",
      "metadata": {
        "id": "Rl-TC_NfYRGg"
      },
      "source": [
        "def state_from_image(frame2, frame1):\r\n",
        "    #consider frame1 as old and frame2 as current\r\n",
        "    \r\n",
        "    frame1 = frame1[160:300]\r\n",
        "    frame2 = frame2[160:300]\r\n",
        "    cart_pos1 = np.mean(np.arange(600)[frame1[139,:,0]<255])\r\n",
        "    cart_pos2 = np.mean(np.arange(600)[frame2[139,:,0]<255])\r\n",
        "\r\n",
        "    cart_vel = cart_pos2 - cart_pos1\r\n",
        "\r\n",
        "\r\n",
        "    # resctrict the searched area in the neighborhood of the cart\r\n",
        "    ros_L1 = int(max(cart_pos1-60, 0))\r\n",
        "    ros_R1 = int(min(cart_pos1+60, np.shape(frame1)[1]))\r\n",
        "\r\n",
        "    ros_L2 = int(max(cart_pos2-60, 0))\r\n",
        "    ros_R2 = int(min(cart_pos2+60, np.shape(frame2)[1]))\r\n",
        "\r\n",
        "    flat_search1 = frame1[:,ros_L1:ros_R1, 0]\r\n",
        "    flat_search2 = frame2[:,ros_L2:ros_R2, 0]\r\n",
        "\r\n",
        "    #reshape varying the last dimension first\r\n",
        "    flat_search1 = np.reshape(flat_search1, (120*140,1))\r\n",
        "    flat_search2 = np.reshape(flat_search2, (120*140,1))\r\n",
        "\r\n",
        "    idx1 = np.argmax(flat_search1<255)\r\n",
        "    point1 = [idx1//120, idx1%120] \r\n",
        "    point1 = (point1[0], point1[1]-60)\r\n",
        "    pole_pos1 = (point1[0], cart_pos1 + point1[1])\r\n",
        "    pole_rel_pos1 = point1[1]\r\n",
        "\r\n",
        "    idx2 = np.argmax(flat_search1<255)\r\n",
        "    point2 = [idx2//120, idx2%120]\r\n",
        "    point2 = (point2[0], point2[1]-60)\r\n",
        "    pole_pos2 = (point2[0], cart_pos2 + point2[1])\r\n",
        "    pole_rel_pos2 = point2[1]\r\n",
        "\r\n",
        "    pole_vel = pole_rel_pos2 - pole_rel_pos1\r\n",
        "\r\n",
        "    return cart_pos2, cart_vel, pole_rel_pos2, pole_vel"
      ],
      "execution_count": 28,
      "outputs": []
    },
    {
      "cell_type": "code",
      "metadata": {
        "id": "cQEyGibgghsF"
      },
      "source": [
        "# detector = cv2.SimpleBlobDetector_create()\r\n",
        "# print(np.shape(frame))\r\n",
        "# print(state_from_image(frame))"
      ],
      "execution_count": 21,
      "outputs": []
    },
    {
      "cell_type": "markdown",
      "metadata": {
        "id": "zjKmdFhowRbj"
      },
      "source": [
        "## Gym Environment (CartPole-v1)"
      ]
    },
    {
      "cell_type": "markdown",
      "metadata": {
        "id": "uC_cbOXjEJlb"
      },
      "source": [
        "A pole is attached by an un-actuated joint to a cart, which moves along a frictionless track. The system is controlled by applying a force of +1 or -1 to the cart. The pendulum starts upright, and the goal is to prevent it from falling over. A reward of +1 is provided for every timestep that the pole remains upright. The episode ends when the pole is more than 15 degrees from vertical, or the cart moves more than 2.4 units from the center.\n",
        "\n",
        "https://gym.openai.com/envs/CartPole-v1/"
      ]
    },
    {
      "cell_type": "markdown",
      "metadata": {
        "id": "9FmV7DVqEikG"
      },
      "source": [
        "![image.png](data:image/png;base64,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)"
      ]
    },
    {
      "cell_type": "code",
      "metadata": {
        "id": "Ar0yNaNrCnjn",
        "colab": {
          "base_uri": "https://localhost:8080/"
        },
        "outputId": "db3faa87-f506-40aa-8939-645482d29a66"
      },
      "source": [
        "### Create environment\n",
        "env = gym.make('CartPole-v1') # Initialize the Gym environment\n",
        "env.seed(0) # Set a random seed for the environment (reproducible results)\n",
        "\n",
        "# Get the shapes of the state space (observation_space) and action space (action_space)\n",
        "state_space_dim = env.observation_space.shape[0]\n",
        "action_space_dim = env.action_space.n\n",
        "\n",
        "print(f\"STATE SPACE SIZE: {state_space_dim}\")\n",
        "print(f\"ACTION SPACE SIZE: {action_space_dim}\")\n",
        "\n",
        "print(env.observation_space)"
      ],
      "execution_count": 20,
      "outputs": [
        {
          "output_type": "stream",
          "text": [
            "STATE SPACE SIZE: 4\n",
            "ACTION SPACE SIZE: 2\n",
            "Box(-3.4028234663852886e+38, 3.4028234663852886e+38, (4,), float32)\n"
          ],
          "name": "stdout"
        }
      ]
    },
    {
      "cell_type": "markdown",
      "metadata": {
        "id": "GR0X30SQwwC7"
      },
      "source": [
        "### Random agent"
      ]
    },
    {
      "cell_type": "markdown",
      "metadata": {
        "id": "eJP0ggFyOLLG"
      },
      "source": [
        "First of all, to check that the environment is working properly, let's try with an agent which simply choose an action randomly."
      ]
    },
    {
      "cell_type": "code",
      "metadata": {
        "id": "2g4NatpgSpbc"
      },
      "source": [
        "# # Initialize the Gym environment\n",
        "# env = gym.make('CartPole-v1') \n",
        "# env.seed(0) # Set a random seed for the environment (reproducible results)\n",
        "\n",
        "# # This is for creating the output video in Colab, not required outside Colab\n",
        "# env = wrap_env(env, video_callable=lambda episode_id: True)\n",
        "\n",
        "# # Let's try for a total of 10 episodes\n",
        "# for num_episode in range(10): \n",
        "#     # Reset the environment and get the initial state\n",
        "#     state = env.reset()\n",
        "#     # Reset the score. The final score will be the total amount of steps before the pole falls\n",
        "#     score = 0\n",
        "#     done = False\n",
        "#     # Go on until the pole falls off or the score reach 490\n",
        "#     while not done and score < 490:\n",
        "#       # Choose a random action\n",
        "#       action = random.choice([0, 1])\n",
        "#       # Apply the action and get the next state, the reward and a flag \"done\" that is True if the game is ended\n",
        "#       next_state, reward, done, info = env.step(action)\n",
        "#       # Visually render the environment (optional, comment this line to speed up the simulation)\n",
        "#       env.render()\n",
        "#       # Update the final score (+1 for each step)\n",
        "#       score += reward \n",
        "#       # Set the current state for the next iteration\n",
        "#       state = next_state\n",
        "#       # Check if the episode ended (the pole fell down)\n",
        "#     # Print the final score\n",
        "#     print(f\"EPISODE {num_episode + 1} - FINAL SCORE: {score}\") \n",
        "\n",
        "# env.close()\n"
      ],
      "execution_count": 23,
      "outputs": []
    },
    {
      "cell_type": "code",
      "metadata": {
        "id": "AnX-nFLiVPH6"
      },
      "source": [
        "# Display the videos, not required outside Colab\n",
        "# show_videos()"
      ],
      "execution_count": 24,
      "outputs": []
    },
    {
      "cell_type": "markdown",
      "metadata": {
        "id": "Vh5bNeCPyzeq"
      },
      "source": [
        ""
      ]
    },
    {
      "cell_type": "markdown",
      "metadata": {
        "id": "9KXpjzf2vdeL"
      },
      "source": [
        "## Network update"
      ]
    },
    {
      "cell_type": "markdown",
      "metadata": {
        "id": "NZ3P9MKjxCAL"
      },
      "source": [
        "### Initialization"
      ]
    },
    {
      "cell_type": "markdown",
      "metadata": {
        "id": "Y7gSKTn-ymDZ"
      },
      "source": [
        "In this case we will use the Huber loss as loss function (https://pytorch.org/docs/stable/generated/torch.nn.SmoothL1Loss.html). The Huber loss uses a squared term if the absolute element-wise error falls below beta and an L1 term otherwise. It is less sensitive to outliers than the MSELoss and in some cases prevents exploding gradients."
      ]
    },
    {
      "cell_type": "code",
      "metadata": {
        "id": "lVpk-g0i9d-B"
      },
      "source": [
        "# Set random seeds\n",
        "torch.manual_seed(0)\n",
        "np.random.seed(0)\n",
        "random.seed(0)\n",
        "\n",
        "### PARAMETERS\n",
        "gamma = 0.97   # gamma parameter for the long term reward\n",
        "replay_memory_capacity = 10000   # Replay memory capacity\n",
        "lr = 1e-2   # Optimizer learning rate\n",
        "target_net_update_steps = 10   # Number of episodes to wait before updating the target network\n",
        "batch_size = 128   # Number of samples to take from the replay memory for each update\n",
        "bad_state_penalty = 0   # Penalty to the reward when we are in a bad state (in this case when the pole falls down) \n",
        "min_samples_for_training = 1000   # Minimum samples in the replay memory to enable the training"
      ],
      "execution_count": 21,
      "outputs": []
    },
    {
      "cell_type": "code",
      "metadata": {
        "id": "2k3ZQuh8xHo7"
      },
      "source": [
        "### Initialize the replay memory\n",
        "replay_mem = ReplayMemory(replay_memory_capacity)    \n",
        "\n",
        "### Initialize the policy network\n",
        "policy_net = DQN(state_space_dim, action_space_dim)\n",
        "\n",
        "### Initialize the target network with the same weights of the policy network\n",
        "target_net = DQN(state_space_dim, action_space_dim)\n",
        "target_net.load_state_dict(policy_net.state_dict()) # This will copy the weights of the policy network to the target network\n",
        "\n",
        "### Initialize the optimizer\n",
        "optimizer = torch.optim.SGD(policy_net.parameters(), lr=lr) # The optimizer will update ONLY the parameters of the policy network\n",
        "\n",
        "### Initialize the loss function (Huber loss)\n",
        "loss_fn = nn.SmoothL1Loss()"
      ],
      "execution_count": 22,
      "outputs": []
    },
    {
      "cell_type": "markdown",
      "metadata": {
        "id": "LQUTrt8DzJXO"
      },
      "source": [
        "### Update function"
      ]
    },
    {
      "cell_type": "code",
      "metadata": {
        "id": "Sj1hEvPOvkBX"
      },
      "source": [
        "def update_step(policy_net, target_net, replay_mem, gamma, optimizer, loss_fn, batch_size):\n",
        "        \n",
        "    # Sample the data from the replay memory\n",
        "    batch = replay_mem.sample(batch_size)\n",
        "    batch_size = len(batch)\n",
        "\n",
        "    # Create tensors for each element of the batch\n",
        "    states      = torch.tensor([s[0] for s in batch], dtype=torch.float32)\n",
        "    actions     = torch.tensor([s[1] for s in batch], dtype=torch.int64)\n",
        "    rewards     = torch.tensor([s[3] for s in batch], dtype=torch.float32)\n",
        "\n",
        "    # Compute a mask of non-final states (all the elements where the next state is not None)\n",
        "    non_final_next_states = torch.tensor([s[2] for s in batch if s[2] is not None], dtype=torch.float32) # the next state can be None if the game has ended\n",
        "    non_final_mask = torch.tensor([s[2] is not None for s in batch], dtype=torch.bool)\n",
        "\n",
        "    # Compute all the Q values (forward pass)\n",
        "    policy_net.train()\n",
        "    q_values = policy_net(states)\n",
        "    # Select the proper Q value for the corresponding action taken Q(s_t, a)\n",
        "    state_action_values = q_values.gather(1, actions.unsqueeze(1))\n",
        "\n",
        "    # Compute the value function of the next states using the target network V(s_{t+1}) = max_a( Q_target(s_{t+1}, a)) )\n",
        "    with torch.no_grad():\n",
        "      target_net.eval()\n",
        "      q_values_target = target_net(non_final_next_states)\n",
        "    next_state_max_q_values = torch.zeros(batch_size)\n",
        "    next_state_max_q_values[non_final_mask] = q_values_target.max(dim=1)[0]\n",
        "\n",
        "    # Compute the expected Q values\n",
        "    expected_state_action_values = rewards + (next_state_max_q_values * gamma)\n",
        "    expected_state_action_values = expected_state_action_values.unsqueeze(1) # Set the required tensor shape\n",
        "\n",
        "    # Compute the Huber loss\n",
        "    loss = loss_fn(state_action_values, expected_state_action_values)\n",
        "\n",
        "    # Optimize the model\n",
        "    optimizer.zero_grad()\n",
        "    loss.backward()\n",
        "    # Apply gradient clipping (clip all the gradients greater than 2 for training stability)\n",
        "    nn.utils.clip_grad_norm_(policy_net.parameters(), 2)\n",
        "    optimizer.step()"
      ],
      "execution_count": 23,
      "outputs": []
    },
    {
      "cell_type": "markdown",
      "metadata": {
        "id": "03Ab0RMB5CCC"
      },
      "source": [
        "### Training loop"
      ]
    },
    {
      "cell_type": "code",
      "metadata": {
        "id": "WF6Zf53FoRDZ"
      },
      "source": [
        "# # Initialize the Gym environment\n",
        "# env = gym.make('CartPole-v1') \n",
        "# env.seed(0) # Set a random seed for the environment (reproducible results)\n",
        "\n",
        "# # This is for creating the output video in Colab, not required outside Colab\n",
        "# env = wrap_env(env, video_callable=lambda episode_id: episode_id % 100 == 0) # Save a video every 100 episodes\n",
        "\n",
        "# score_record = []\n",
        "# win_counter = 0\n",
        "# for episode_num, tau in enumerate(exploration_profile):\n",
        "\n",
        "#     # Reset the environment and get the initial state\n",
        "#     state = env.reset()\n",
        "#     # Reset the score. The final score will be the total amount of steps before the pole falls\n",
        "#     score = 0\n",
        "#     done = False\n",
        "\n",
        "#     # Go on until the pole falls off\n",
        "#     while not done:\n",
        "\n",
        "#       # Choose the action following the policy\n",
        "#       action, q_values = choose_action_softmax(policy_net, state, temperature=tau)\n",
        "      \n",
        "#       # Apply the action and get the next state, the reward and a flag \"done\" that is True if the game is ended\n",
        "#       next_state, reward, done, info = env.step(action)\n",
        "\n",
        "#       # We apply a (linear) penalty when the cart is far from center\n",
        "#       pos_weight = 1\n",
        "#       reward = reward - pos_weight * np.abs(state[0]) \n",
        "\n",
        "#       # Update the final score (+1 for each step)\n",
        "#       score += 1\n",
        "\n",
        "#       # Apply penalty for bad state\n",
        "#       if done: # if the pole has fallen down \n",
        "#           reward += bad_state_penalty\n",
        "#           next_state = None\n",
        "\n",
        "#       # Update the replay memory\n",
        "#       replay_mem.push(state, action, next_state, reward)\n",
        "\n",
        "#       # Update the network\n",
        "#       if len(replay_mem) > min_samples_for_training: # we enable the training only if we have enough samples in the replay memory, otherwise the training will use the same samples too often\n",
        "#           update_step(policy_net, target_net, replay_mem, gamma, optimizer, loss_fn, batch_size)\n",
        "\n",
        "#       # Visually render the environment (disable to speed up the training)\n",
        "#       env.render()\n",
        "\n",
        "#       # Set the current state for the next iteration\n",
        "#       state = next_state\n",
        "\n",
        "#     # Update the target network every target_net_update_steps episodes\n",
        "#     if episode_num % target_net_update_steps == 0:\n",
        "#         print('Updating target network...')\n",
        "#         target_net.load_state_dict(policy_net.state_dict()) # This will copy the weights of the policy network to the target network\n",
        "#         # win_counter = 0\n",
        "#     score_record.append(score)\n",
        "\n",
        "#     if score == 500:\n",
        "#         win_counter +=1\n",
        "#     else:\n",
        "#         win_score = 0\n",
        "#     # Print the final score\n",
        "#     print(f\"EPISODE: {episode_num + 1} - FINAL SCORE: {score} - Temperature: {tau}\") # Print the final score\n",
        "\n",
        "#     #exit if we have 10 consecutive wins with the same net\n",
        "#     if win_counter == target_net_update_steps:\n",
        "#         break\n",
        "# env.close()"
      ],
      "execution_count": 24,
      "outputs": []
    },
    {
      "cell_type": "code",
      "metadata": {
        "id": "5xIRGZjD77D2"
      },
      "source": [
        "# plt.plot(score_record)"
      ],
      "execution_count": 25,
      "outputs": []
    },
    {
      "cell_type": "code",
      "metadata": {
        "id": "7FQjjVTiP2T6"
      },
      "source": [
        "# Display the videos, not required outside Colab\n",
        "# show_videos()"
      ],
      "execution_count": 26,
      "outputs": []
    },
    {
      "cell_type": "markdown",
      "metadata": {
        "id": "LoMkXR5W4Ar8"
      },
      "source": [
        "## training with greedy policy"
      ]
    },
    {
      "cell_type": "code",
      "metadata": {
        "id": "YsWF9_mx4ANJ",
        "colab": {
          "base_uri": "https://localhost:8080/"
        },
        "outputId": "6793b197-6cbc-484c-b642-bd8ce145d1c8"
      },
      "source": [
        "# Initialize the Gym environment\r\n",
        "env = gym.make('CartPole-v1') \r\n",
        "env.seed(0) # Set a random seed for the environment (reproducible results)\r\n",
        "\r\n",
        "# This is for creating the output video in Colab, not required outside Colab\r\n",
        "env = wrap_env(env, video_callable=lambda episode_id: episode_id % 100 == 0) # Save a video every 100 episodes\r\n",
        "\r\n",
        "num_iterations = 1000\r\n",
        "epsilon = 0.1\r\n",
        "\r\n",
        "score_record = []\r\n",
        "win_counter = 0\r\n",
        "# for episode_num, tau in enumerate(exploration_profile):\r\n",
        "for episode_num in range(num_iterations):\r\n",
        "\r\n",
        "    # Reset the environment and get the initial state\r\n",
        "    state = env.reset()\r\n",
        "    frame_past = env.render(mode=\"rgb_array\")\r\n",
        "\r\n",
        "    image_state = state_from_image(frame_past, frame_past)\r\n",
        "\r\n",
        "    # Reset the score. The final score will be the total amount of steps before the pole falls\r\n",
        "    score = 0\r\n",
        "    done = False\r\n",
        "\r\n",
        "    # Go on until the pole falls off\r\n",
        "    while not done:\r\n",
        "\r\n",
        "        # Choose the action following the policy\r\n",
        "        # epsilon = np.clip(tau/10,1e-8,1)\r\n",
        "\r\n",
        "        action, q_values = choose_action_epsilon_greedy(policy_net, image_state, epsilon) \r\n",
        "        \r\n",
        "        # Apply the action and get the next state, the reward and a flag \"done\" that is True if the game is ended\r\n",
        "        _, reward, done, info = env.step(action)\r\n",
        "\r\n",
        "\r\n",
        "\r\n",
        "        # save the frame in a array\r\n",
        "        frame_curr = env.render(mode=\"rgb_array\")\r\n",
        "\r\n",
        "        next_image_state = state_from_image(frame_curr, frame_past)\r\n",
        "\r\n",
        "        # We apply a (linear) penalty when the cart is far from center\r\n",
        "        pos_weight = 1\r\n",
        "        reward = reward - pos_weight * np.abs(state[0]) \r\n",
        "\r\n",
        "        # Update the final score (+1 for each step)\r\n",
        "        score += 1\r\n",
        "\r\n",
        "        # Apply penalty for bad state\r\n",
        "        if done: # if the pole has fallen down \r\n",
        "            reward += bad_state_penalty\r\n",
        "            # next_state = None\r\n",
        "\r\n",
        "        # Update the replay memory\r\n",
        "        replay_mem.push(image_state, action, next_image_state, reward)\r\n",
        "\r\n",
        "        # Update the network\r\n",
        "        if len(replay_mem) > min_samples_for_training: # we enable the training only if we have enough samples in the replay memory, otherwise the training will use the same samples too often\r\n",
        "            update_step(policy_net, target_net, replay_mem, gamma, optimizer, loss_fn, batch_size)\r\n",
        "\r\n",
        "\r\n",
        "        # print(np.shape(frame))\r\n",
        "        # call  image process\r\n",
        "        # print(state_from_image(frame))\r\n",
        "\r\n",
        "        # Set the current state for the next iteration\r\n",
        "        image_state = next_image_state\r\n",
        "        frame_past = frame_curr\r\n",
        "\r\n",
        "    # Update the target network every target_net_update_steps episodes\r\n",
        "    if episode_num % target_net_update_steps == 0:\r\n",
        "        print('Updating target network...')\r\n",
        "        target_net.load_state_dict(policy_net.state_dict()) # This will copy the weights of the policy network to the target network\r\n",
        "        # win_counter = 0\r\n",
        "    score_record.append(score)\r\n",
        "\r\n",
        "    if score == 500:\r\n",
        "        win_counter +=1\r\n",
        "    else:\r\n",
        "        win_counter = 0\r\n",
        "    # Print the final score\r\n",
        "    print(f\"EPISODE: {episode_num + 1} - FINAL SCORE: {score} - Epsilon: {epsilon}\") # Print the final score\r\n",
        "\r\n",
        "    #exit if we have 10 consecutive wins with the same net\r\n",
        "    if win_counter == target_net_update_steps:\r\n",
        "        break\r\n",
        "env.close()"
      ],
      "execution_count": 32,
      "outputs": [
        {
          "output_type": "stream",
          "text": [
            "Updating target network...\n",
            "EPISODE: 1 - FINAL SCORE: 9 - Epsilon: 0.1\n",
            "EPISODE: 2 - FINAL SCORE: 10 - Epsilon: 0.1\n",
            "EPISODE: 3 - FINAL SCORE: 10 - Epsilon: 0.1\n",
            "EPISODE: 4 - FINAL SCORE: 11 - Epsilon: 0.1\n",
            "EPISODE: 5 - FINAL SCORE: 12 - Epsilon: 0.1\n",
            "EPISODE: 6 - FINAL SCORE: 12 - Epsilon: 0.1\n",
            "EPISODE: 7 - FINAL SCORE: 9 - Epsilon: 0.1\n",
            "EPISODE: 8 - FINAL SCORE: 10 - Epsilon: 0.1\n",
            "EPISODE: 9 - FINAL SCORE: 11 - Epsilon: 0.1\n",
            "EPISODE: 10 - FINAL SCORE: 9 - Epsilon: 0.1\n",
            "Updating target network...\n",
            "EPISODE: 11 - FINAL SCORE: 17 - Epsilon: 0.1\n",
            "EPISODE: 12 - FINAL SCORE: 8 - Epsilon: 0.1\n",
            "EPISODE: 13 - FINAL SCORE: 12 - Epsilon: 0.1\n",
            "EPISODE: 14 - FINAL SCORE: 10 - Epsilon: 0.1\n",
            "EPISODE: 15 - FINAL SCORE: 8 - Epsilon: 0.1\n",
            "EPISODE: 16 - FINAL SCORE: 13 - Epsilon: 0.1\n",
            "EPISODE: 17 - FINAL SCORE: 11 - Epsilon: 0.1\n",
            "EPISODE: 18 - FINAL SCORE: 10 - Epsilon: 0.1\n",
            "EPISODE: 19 - FINAL SCORE: 14 - Epsilon: 0.1\n",
            "EPISODE: 20 - FINAL SCORE: 9 - Epsilon: 0.1\n",
            "Updating target network...\n",
            "EPISODE: 21 - FINAL SCORE: 14 - Epsilon: 0.1\n",
            "EPISODE: 22 - FINAL SCORE: 17 - Epsilon: 0.1\n",
            "EPISODE: 23 - FINAL SCORE: 17 - Epsilon: 0.1\n",
            "EPISODE: 24 - FINAL SCORE: 10 - Epsilon: 0.1\n",
            "EPISODE: 25 - FINAL SCORE: 13 - Epsilon: 0.1\n",
            "EPISODE: 26 - FINAL SCORE: 10 - Epsilon: 0.1\n",
            "EPISODE: 27 - FINAL SCORE: 19 - Epsilon: 0.1\n",
            "EPISODE: 28 - FINAL SCORE: 11 - Epsilon: 0.1\n",
            "EPISODE: 29 - FINAL SCORE: 16 - Epsilon: 0.1\n",
            "EPISODE: 30 - FINAL SCORE: 9 - Epsilon: 0.1\n",
            "Updating target network...\n",
            "EPISODE: 31 - FINAL SCORE: 11 - Epsilon: 0.1\n",
            "EPISODE: 32 - FINAL SCORE: 10 - Epsilon: 0.1\n",
            "EPISODE: 33 - FINAL SCORE: 10 - Epsilon: 0.1\n",
            "EPISODE: 34 - FINAL SCORE: 11 - Epsilon: 0.1\n",
            "EPISODE: 35 - FINAL SCORE: 16 - Epsilon: 0.1\n",
            "EPISODE: 36 - FINAL SCORE: 23 - Epsilon: 0.1\n",
            "EPISODE: 37 - FINAL SCORE: 12 - Epsilon: 0.1\n",
            "EPISODE: 38 - FINAL SCORE: 10 - Epsilon: 0.1\n",
            "EPISODE: 39 - FINAL SCORE: 13 - Epsilon: 0.1\n",
            "EPISODE: 40 - FINAL SCORE: 25 - Epsilon: 0.1\n",
            "Updating target network...\n",
            "EPISODE: 41 - FINAL SCORE: 10 - Epsilon: 0.1\n",
            "EPISODE: 42 - FINAL SCORE: 9 - Epsilon: 0.1\n",
            "EPISODE: 43 - FINAL SCORE: 11 - Epsilon: 0.1\n",
            "EPISODE: 44 - FINAL SCORE: 13 - Epsilon: 0.1\n",
            "EPISODE: 45 - FINAL SCORE: 11 - Epsilon: 0.1\n",
            "EPISODE: 46 - FINAL SCORE: 15 - Epsilon: 0.1\n",
            "EPISODE: 47 - FINAL SCORE: 12 - Epsilon: 0.1\n",
            "EPISODE: 48 - FINAL SCORE: 10 - Epsilon: 0.1\n",
            "EPISODE: 49 - FINAL SCORE: 11 - Epsilon: 0.1\n",
            "EPISODE: 50 - FINAL SCORE: 8 - Epsilon: 0.1\n",
            "Updating target network...\n",
            "EPISODE: 51 - FINAL SCORE: 14 - Epsilon: 0.1\n",
            "EPISODE: 52 - FINAL SCORE: 10 - Epsilon: 0.1\n",
            "EPISODE: 53 - FINAL SCORE: 11 - Epsilon: 0.1\n",
            "EPISODE: 54 - FINAL SCORE: 8 - Epsilon: 0.1\n",
            "EPISODE: 55 - FINAL SCORE: 10 - Epsilon: 0.1\n",
            "EPISODE: 56 - FINAL SCORE: 11 - Epsilon: 0.1\n",
            "EPISODE: 57 - FINAL SCORE: 24 - Epsilon: 0.1\n",
            "EPISODE: 58 - FINAL SCORE: 11 - Epsilon: 0.1\n",
            "EPISODE: 59 - FINAL SCORE: 17 - Epsilon: 0.1\n",
            "EPISODE: 60 - FINAL SCORE: 48 - Epsilon: 0.1\n",
            "Updating target network...\n",
            "EPISODE: 61 - FINAL SCORE: 12 - Epsilon: 0.1\n",
            "EPISODE: 62 - FINAL SCORE: 9 - Epsilon: 0.1\n",
            "EPISODE: 63 - FINAL SCORE: 11 - Epsilon: 0.1\n",
            "EPISODE: 64 - FINAL SCORE: 15 - Epsilon: 0.1\n",
            "EPISODE: 65 - FINAL SCORE: 13 - Epsilon: 0.1\n",
            "EPISODE: 66 - FINAL SCORE: 9 - Epsilon: 0.1\n",
            "EPISODE: 67 - FINAL SCORE: 14 - Epsilon: 0.1\n",
            "EPISODE: 68 - FINAL SCORE: 10 - Epsilon: 0.1\n",
            "EPISODE: 69 - FINAL SCORE: 9 - Epsilon: 0.1\n",
            "EPISODE: 70 - FINAL SCORE: 10 - Epsilon: 0.1\n",
            "Updating target network...\n",
            "EPISODE: 71 - FINAL SCORE: 13 - Epsilon: 0.1\n",
            "EPISODE: 72 - FINAL SCORE: 11 - Epsilon: 0.1\n",
            "EPISODE: 73 - FINAL SCORE: 10 - Epsilon: 0.1\n",
            "EPISODE: 74 - FINAL SCORE: 9 - Epsilon: 0.1\n",
            "EPISODE: 75 - FINAL SCORE: 10 - Epsilon: 0.1\n",
            "EPISODE: 76 - FINAL SCORE: 28 - Epsilon: 0.1\n",
            "EPISODE: 77 - FINAL SCORE: 17 - Epsilon: 0.1\n",
            "EPISODE: 78 - FINAL SCORE: 19 - Epsilon: 0.1\n",
            "EPISODE: 79 - FINAL SCORE: 9 - Epsilon: 0.1\n",
            "EPISODE: 80 - FINAL SCORE: 11 - Epsilon: 0.1\n",
            "Updating target network...\n",
            "EPISODE: 81 - FINAL SCORE: 11 - Epsilon: 0.1\n",
            "EPISODE: 82 - FINAL SCORE: 10 - Epsilon: 0.1\n",
            "EPISODE: 83 - FINAL SCORE: 10 - Epsilon: 0.1\n",
            "EPISODE: 84 - FINAL SCORE: 12 - Epsilon: 0.1\n",
            "EPISODE: 85 - FINAL SCORE: 13 - Epsilon: 0.1\n",
            "EPISODE: 86 - FINAL SCORE: 13 - Epsilon: 0.1\n",
            "EPISODE: 87 - FINAL SCORE: 10 - Epsilon: 0.1\n",
            "EPISODE: 88 - FINAL SCORE: 14 - Epsilon: 0.1\n",
            "EPISODE: 89 - FINAL SCORE: 8 - Epsilon: 0.1\n",
            "EPISODE: 90 - FINAL SCORE: 8 - Epsilon: 0.1\n",
            "Updating target network...\n",
            "EPISODE: 91 - FINAL SCORE: 16 - Epsilon: 0.1\n",
            "EPISODE: 92 - FINAL SCORE: 12 - Epsilon: 0.1\n",
            "EPISODE: 93 - FINAL SCORE: 11 - Epsilon: 0.1\n",
            "EPISODE: 94 - FINAL SCORE: 13 - Epsilon: 0.1\n",
            "EPISODE: 95 - FINAL SCORE: 30 - Epsilon: 0.1\n",
            "EPISODE: 96 - FINAL SCORE: 9 - Epsilon: 0.1\n",
            "EPISODE: 97 - FINAL SCORE: 13 - Epsilon: 0.1\n",
            "EPISODE: 98 - FINAL SCORE: 26 - Epsilon: 0.1\n",
            "EPISODE: 99 - FINAL SCORE: 9 - Epsilon: 0.1\n",
            "EPISODE: 100 - FINAL SCORE: 31 - Epsilon: 0.1\n",
            "Updating target network...\n",
            "EPISODE: 101 - FINAL SCORE: 18 - Epsilon: 0.1\n",
            "EPISODE: 102 - FINAL SCORE: 12 - Epsilon: 0.1\n",
            "EPISODE: 103 - FINAL SCORE: 16 - Epsilon: 0.1\n",
            "EPISODE: 104 - FINAL SCORE: 26 - Epsilon: 0.1\n",
            "EPISODE: 105 - FINAL SCORE: 19 - Epsilon: 0.1\n",
            "EPISODE: 106 - FINAL SCORE: 21 - Epsilon: 0.1\n",
            "EPISODE: 107 - FINAL SCORE: 18 - Epsilon: 0.1\n",
            "EPISODE: 108 - FINAL SCORE: 13 - Epsilon: 0.1\n",
            "EPISODE: 109 - FINAL SCORE: 19 - Epsilon: 0.1\n",
            "EPISODE: 110 - FINAL SCORE: 39 - Epsilon: 0.1\n",
            "Updating target network...\n",
            "EPISODE: 111 - FINAL SCORE: 16 - Epsilon: 0.1\n",
            "EPISODE: 112 - FINAL SCORE: 30 - Epsilon: 0.1\n",
            "EPISODE: 113 - FINAL SCORE: 18 - Epsilon: 0.1\n",
            "EPISODE: 114 - FINAL SCORE: 24 - Epsilon: 0.1\n",
            "EPISODE: 115 - FINAL SCORE: 26 - Epsilon: 0.1\n",
            "EPISODE: 116 - FINAL SCORE: 24 - Epsilon: 0.1\n",
            "EPISODE: 117 - FINAL SCORE: 23 - Epsilon: 0.1\n",
            "EPISODE: 118 - FINAL SCORE: 16 - Epsilon: 0.1\n",
            "EPISODE: 119 - FINAL SCORE: 48 - Epsilon: 0.1\n",
            "EPISODE: 120 - FINAL SCORE: 56 - Epsilon: 0.1\n",
            "Updating target network...\n",
            "EPISODE: 121 - FINAL SCORE: 15 - Epsilon: 0.1\n",
            "EPISODE: 122 - FINAL SCORE: 11 - Epsilon: 0.1\n",
            "EPISODE: 123 - FINAL SCORE: 17 - Epsilon: 0.1\n",
            "EPISODE: 124 - FINAL SCORE: 25 - Epsilon: 0.1\n",
            "EPISODE: 125 - FINAL SCORE: 27 - Epsilon: 0.1\n",
            "EPISODE: 126 - FINAL SCORE: 23 - Epsilon: 0.1\n",
            "EPISODE: 127 - FINAL SCORE: 21 - Epsilon: 0.1\n",
            "EPISODE: 128 - FINAL SCORE: 22 - Epsilon: 0.1\n",
            "EPISODE: 129 - FINAL SCORE: 15 - Epsilon: 0.1\n",
            "EPISODE: 130 - FINAL SCORE: 20 - Epsilon: 0.1\n",
            "Updating target network...\n",
            "EPISODE: 131 - FINAL SCORE: 17 - Epsilon: 0.1\n",
            "EPISODE: 132 - FINAL SCORE: 15 - Epsilon: 0.1\n",
            "EPISODE: 133 - FINAL SCORE: 11 - Epsilon: 0.1\n",
            "EPISODE: 134 - FINAL SCORE: 35 - Epsilon: 0.1\n",
            "EPISODE: 135 - FINAL SCORE: 47 - Epsilon: 0.1\n",
            "EPISODE: 136 - FINAL SCORE: 37 - Epsilon: 0.1\n",
            "EPISODE: 137 - FINAL SCORE: 39 - Epsilon: 0.1\n",
            "EPISODE: 138 - FINAL SCORE: 45 - Epsilon: 0.1\n",
            "EPISODE: 139 - FINAL SCORE: 45 - Epsilon: 0.1\n",
            "EPISODE: 140 - FINAL SCORE: 27 - Epsilon: 0.1\n",
            "Updating target network...\n",
            "EPISODE: 141 - FINAL SCORE: 13 - Epsilon: 0.1\n",
            "EPISODE: 142 - FINAL SCORE: 12 - Epsilon: 0.1\n",
            "EPISODE: 143 - FINAL SCORE: 13 - Epsilon: 0.1\n",
            "EPISODE: 144 - FINAL SCORE: 16 - Epsilon: 0.1\n",
            "EPISODE: 145 - FINAL SCORE: 25 - Epsilon: 0.1\n",
            "EPISODE: 146 - FINAL SCORE: 19 - Epsilon: 0.1\n",
            "EPISODE: 147 - FINAL SCORE: 24 - Epsilon: 0.1\n",
            "EPISODE: 148 - FINAL SCORE: 27 - Epsilon: 0.1\n",
            "EPISODE: 149 - FINAL SCORE: 16 - Epsilon: 0.1\n",
            "EPISODE: 150 - FINAL SCORE: 30 - Epsilon: 0.1\n",
            "Updating target network...\n",
            "EPISODE: 151 - FINAL SCORE: 13 - Epsilon: 0.1\n",
            "EPISODE: 152 - FINAL SCORE: 18 - Epsilon: 0.1\n",
            "EPISODE: 153 - FINAL SCORE: 25 - Epsilon: 0.1\n",
            "EPISODE: 154 - FINAL SCORE: 16 - Epsilon: 0.1\n",
            "EPISODE: 155 - FINAL SCORE: 27 - Epsilon: 0.1\n",
            "EPISODE: 156 - FINAL SCORE: 24 - Epsilon: 0.1\n",
            "EPISODE: 157 - FINAL SCORE: 14 - Epsilon: 0.1\n",
            "EPISODE: 158 - FINAL SCORE: 24 - Epsilon: 0.1\n",
            "EPISODE: 159 - FINAL SCORE: 43 - Epsilon: 0.1\n",
            "EPISODE: 160 - FINAL SCORE: 15 - Epsilon: 0.1\n",
            "Updating target network...\n",
            "EPISODE: 161 - FINAL SCORE: 14 - Epsilon: 0.1\n",
            "EPISODE: 162 - FINAL SCORE: 33 - Epsilon: 0.1\n",
            "EPISODE: 163 - FINAL SCORE: 15 - Epsilon: 0.1\n",
            "EPISODE: 164 - FINAL SCORE: 34 - Epsilon: 0.1\n",
            "EPISODE: 165 - FINAL SCORE: 11 - Epsilon: 0.1\n",
            "EPISODE: 166 - FINAL SCORE: 34 - Epsilon: 0.1\n",
            "EPISODE: 167 - FINAL SCORE: 22 - Epsilon: 0.1\n",
            "EPISODE: 168 - FINAL SCORE: 32 - Epsilon: 0.1\n",
            "EPISODE: 169 - FINAL SCORE: 120 - Epsilon: 0.1\n",
            "EPISODE: 170 - FINAL SCORE: 12 - Epsilon: 0.1\n",
            "Updating target network...\n",
            "EPISODE: 171 - FINAL SCORE: 10 - Epsilon: 0.1\n",
            "EPISODE: 172 - FINAL SCORE: 23 - Epsilon: 0.1\n",
            "EPISODE: 173 - FINAL SCORE: 24 - Epsilon: 0.1\n",
            "EPISODE: 174 - FINAL SCORE: 21 - Epsilon: 0.1\n",
            "EPISODE: 175 - FINAL SCORE: 29 - Epsilon: 0.1\n",
            "EPISODE: 176 - FINAL SCORE: 19 - Epsilon: 0.1\n",
            "EPISODE: 177 - FINAL SCORE: 24 - Epsilon: 0.1\n",
            "EPISODE: 178 - FINAL SCORE: 18 - Epsilon: 0.1\n",
            "EPISODE: 179 - FINAL SCORE: 18 - Epsilon: 0.1\n",
            "EPISODE: 180 - FINAL SCORE: 23 - Epsilon: 0.1\n",
            "Updating target network...\n",
            "EPISODE: 181 - FINAL SCORE: 20 - Epsilon: 0.1\n",
            "EPISODE: 182 - FINAL SCORE: 13 - Epsilon: 0.1\n",
            "EPISODE: 183 - FINAL SCORE: 18 - Epsilon: 0.1\n",
            "EPISODE: 184 - FINAL SCORE: 17 - Epsilon: 0.1\n",
            "EPISODE: 185 - FINAL SCORE: 16 - Epsilon: 0.1\n",
            "EPISODE: 186 - FINAL SCORE: 15 - Epsilon: 0.1\n",
            "EPISODE: 187 - FINAL SCORE: 26 - Epsilon: 0.1\n",
            "EPISODE: 188 - FINAL SCORE: 13 - Epsilon: 0.1\n",
            "EPISODE: 189 - FINAL SCORE: 39 - Epsilon: 0.1\n",
            "EPISODE: 190 - FINAL SCORE: 61 - Epsilon: 0.1\n",
            "Updating target network...\n",
            "EPISODE: 191 - FINAL SCORE: 17 - Epsilon: 0.1\n",
            "EPISODE: 192 - FINAL SCORE: 10 - Epsilon: 0.1\n",
            "EPISODE: 193 - FINAL SCORE: 20 - Epsilon: 0.1\n",
            "EPISODE: 194 - FINAL SCORE: 16 - Epsilon: 0.1\n",
            "EPISODE: 195 - FINAL SCORE: 15 - Epsilon: 0.1\n",
            "EPISODE: 196 - FINAL SCORE: 20 - Epsilon: 0.1\n",
            "EPISODE: 197 - FINAL SCORE: 22 - Epsilon: 0.1\n",
            "EPISODE: 198 - FINAL SCORE: 22 - Epsilon: 0.1\n",
            "EPISODE: 199 - FINAL SCORE: 20 - Epsilon: 0.1\n",
            "EPISODE: 200 - FINAL SCORE: 14 - Epsilon: 0.1\n",
            "Updating target network...\n",
            "EPISODE: 201 - FINAL SCORE: 15 - Epsilon: 0.1\n",
            "EPISODE: 202 - FINAL SCORE: 18 - Epsilon: 0.1\n",
            "EPISODE: 203 - FINAL SCORE: 54 - Epsilon: 0.1\n",
            "EPISODE: 204 - FINAL SCORE: 25 - Epsilon: 0.1\n",
            "EPISODE: 205 - FINAL SCORE: 11 - Epsilon: 0.1\n",
            "EPISODE: 206 - FINAL SCORE: 30 - Epsilon: 0.1\n",
            "EPISODE: 207 - FINAL SCORE: 11 - Epsilon: 0.1\n",
            "EPISODE: 208 - FINAL SCORE: 30 - Epsilon: 0.1\n",
            "EPISODE: 209 - FINAL SCORE: 21 - Epsilon: 0.1\n",
            "EPISODE: 210 - FINAL SCORE: 20 - Epsilon: 0.1\n",
            "Updating target network...\n",
            "EPISODE: 211 - FINAL SCORE: 40 - Epsilon: 0.1\n",
            "EPISODE: 212 - FINAL SCORE: 17 - Epsilon: 0.1\n",
            "EPISODE: 213 - FINAL SCORE: 12 - Epsilon: 0.1\n",
            "EPISODE: 214 - FINAL SCORE: 18 - Epsilon: 0.1\n",
            "EPISODE: 215 - FINAL SCORE: 33 - Epsilon: 0.1\n",
            "EPISODE: 216 - FINAL SCORE: 18 - Epsilon: 0.1\n",
            "EPISODE: 217 - FINAL SCORE: 22 - Epsilon: 0.1\n",
            "EPISODE: 218 - FINAL SCORE: 17 - Epsilon: 0.1\n",
            "EPISODE: 219 - FINAL SCORE: 16 - Epsilon: 0.1\n",
            "EPISODE: 220 - FINAL SCORE: 20 - Epsilon: 0.1\n",
            "Updating target network...\n",
            "EPISODE: 221 - FINAL SCORE: 16 - Epsilon: 0.1\n",
            "EPISODE: 222 - FINAL SCORE: 11 - Epsilon: 0.1\n",
            "EPISODE: 223 - FINAL SCORE: 13 - Epsilon: 0.1\n",
            "EPISODE: 224 - FINAL SCORE: 15 - Epsilon: 0.1\n",
            "EPISODE: 225 - FINAL SCORE: 13 - Epsilon: 0.1\n",
            "EPISODE: 226 - FINAL SCORE: 14 - Epsilon: 0.1\n",
            "EPISODE: 227 - FINAL SCORE: 13 - Epsilon: 0.1\n",
            "EPISODE: 228 - FINAL SCORE: 14 - Epsilon: 0.1\n",
            "EPISODE: 229 - FINAL SCORE: 18 - Epsilon: 0.1\n",
            "EPISODE: 230 - FINAL SCORE: 12 - Epsilon: 0.1\n",
            "Updating target network...\n",
            "EPISODE: 231 - FINAL SCORE: 24 - Epsilon: 0.1\n",
            "EPISODE: 232 - FINAL SCORE: 12 - Epsilon: 0.1\n",
            "EPISODE: 233 - FINAL SCORE: 14 - Epsilon: 0.1\n",
            "EPISODE: 234 - FINAL SCORE: 32 - Epsilon: 0.1\n",
            "EPISODE: 235 - FINAL SCORE: 15 - Epsilon: 0.1\n",
            "EPISODE: 236 - FINAL SCORE: 14 - Epsilon: 0.1\n",
            "EPISODE: 237 - FINAL SCORE: 17 - Epsilon: 0.1\n",
            "EPISODE: 238 - FINAL SCORE: 18 - Epsilon: 0.1\n",
            "EPISODE: 239 - FINAL SCORE: 22 - Epsilon: 0.1\n",
            "EPISODE: 240 - FINAL SCORE: 13 - Epsilon: 0.1\n",
            "Updating target network...\n",
            "EPISODE: 241 - FINAL SCORE: 15 - Epsilon: 0.1\n",
            "EPISODE: 242 - FINAL SCORE: 15 - Epsilon: 0.1\n",
            "EPISODE: 243 - FINAL SCORE: 14 - Epsilon: 0.1\n",
            "EPISODE: 244 - FINAL SCORE: 15 - Epsilon: 0.1\n",
            "EPISODE: 245 - FINAL SCORE: 15 - Epsilon: 0.1\n",
            "EPISODE: 246 - FINAL SCORE: 27 - Epsilon: 0.1\n",
            "EPISODE: 247 - FINAL SCORE: 18 - Epsilon: 0.1\n",
            "EPISODE: 248 - FINAL SCORE: 13 - Epsilon: 0.1\n",
            "EPISODE: 249 - FINAL SCORE: 23 - Epsilon: 0.1\n",
            "EPISODE: 250 - FINAL SCORE: 20 - Epsilon: 0.1\n",
            "Updating target network...\n",
            "EPISODE: 251 - FINAL SCORE: 11 - Epsilon: 0.1\n",
            "EPISODE: 252 - FINAL SCORE: 8 - Epsilon: 0.1\n",
            "EPISODE: 253 - FINAL SCORE: 10 - Epsilon: 0.1\n",
            "EPISODE: 254 - FINAL SCORE: 12 - Epsilon: 0.1\n",
            "EPISODE: 255 - FINAL SCORE: 15 - Epsilon: 0.1\n",
            "EPISODE: 256 - FINAL SCORE: 12 - Epsilon: 0.1\n",
            "EPISODE: 257 - FINAL SCORE: 12 - Epsilon: 0.1\n",
            "EPISODE: 258 - FINAL SCORE: 12 - Epsilon: 0.1\n",
            "EPISODE: 259 - FINAL SCORE: 13 - Epsilon: 0.1\n",
            "EPISODE: 260 - FINAL SCORE: 11 - Epsilon: 0.1\n",
            "Updating target network...\n",
            "EPISODE: 261 - FINAL SCORE: 13 - Epsilon: 0.1\n",
            "EPISODE: 262 - FINAL SCORE: 11 - Epsilon: 0.1\n",
            "EPISODE: 263 - FINAL SCORE: 19 - Epsilon: 0.1\n",
            "EPISODE: 264 - FINAL SCORE: 39 - Epsilon: 0.1\n",
            "EPISODE: 265 - FINAL SCORE: 12 - Epsilon: 0.1\n",
            "EPISODE: 266 - FINAL SCORE: 22 - Epsilon: 0.1\n",
            "EPISODE: 267 - FINAL SCORE: 15 - Epsilon: 0.1\n",
            "EPISODE: 268 - FINAL SCORE: 26 - Epsilon: 0.1\n",
            "EPISODE: 269 - FINAL SCORE: 9 - Epsilon: 0.1\n",
            "EPISODE: 270 - FINAL SCORE: 27 - Epsilon: 0.1\n",
            "Updating target network...\n",
            "EPISODE: 271 - FINAL SCORE: 20 - Epsilon: 0.1\n",
            "EPISODE: 272 - FINAL SCORE: 14 - Epsilon: 0.1\n",
            "EPISODE: 273 - FINAL SCORE: 12 - Epsilon: 0.1\n",
            "EPISODE: 274 - FINAL SCORE: 15 - Epsilon: 0.1\n",
            "EPISODE: 275 - FINAL SCORE: 26 - Epsilon: 0.1\n",
            "EPISODE: 276 - FINAL SCORE: 14 - Epsilon: 0.1\n",
            "EPISODE: 277 - FINAL SCORE: 13 - Epsilon: 0.1\n",
            "EPISODE: 278 - FINAL SCORE: 10 - Epsilon: 0.1\n",
            "EPISODE: 279 - FINAL SCORE: 18 - Epsilon: 0.1\n",
            "EPISODE: 280 - FINAL SCORE: 12 - Epsilon: 0.1\n",
            "Updating target network...\n",
            "EPISODE: 281 - FINAL SCORE: 28 - Epsilon: 0.1\n",
            "EPISODE: 282 - FINAL SCORE: 9 - Epsilon: 0.1\n",
            "EPISODE: 283 - FINAL SCORE: 11 - Epsilon: 0.1\n",
            "EPISODE: 284 - FINAL SCORE: 14 - Epsilon: 0.1\n",
            "EPISODE: 285 - FINAL SCORE: 15 - Epsilon: 0.1\n",
            "EPISODE: 286 - FINAL SCORE: 13 - Epsilon: 0.1\n",
            "EPISODE: 287 - FINAL SCORE: 13 - Epsilon: 0.1\n",
            "EPISODE: 288 - FINAL SCORE: 23 - Epsilon: 0.1\n",
            "EPISODE: 289 - FINAL SCORE: 11 - Epsilon: 0.1\n",
            "EPISODE: 290 - FINAL SCORE: 14 - Epsilon: 0.1\n",
            "Updating target network...\n",
            "EPISODE: 291 - FINAL SCORE: 14 - Epsilon: 0.1\n",
            "EPISODE: 292 - FINAL SCORE: 27 - Epsilon: 0.1\n",
            "EPISODE: 293 - FINAL SCORE: 12 - Epsilon: 0.1\n",
            "EPISODE: 294 - FINAL SCORE: 36 - Epsilon: 0.1\n",
            "EPISODE: 295 - FINAL SCORE: 17 - Epsilon: 0.1\n",
            "EPISODE: 296 - FINAL SCORE: 15 - Epsilon: 0.1\n",
            "EPISODE: 297 - FINAL SCORE: 11 - Epsilon: 0.1\n",
            "EPISODE: 298 - FINAL SCORE: 17 - Epsilon: 0.1\n",
            "EPISODE: 299 - FINAL SCORE: 52 - Epsilon: 0.1\n",
            "EPISODE: 300 - FINAL SCORE: 9 - Epsilon: 0.1\n",
            "Updating target network...\n",
            "EPISODE: 301 - FINAL SCORE: 31 - Epsilon: 0.1\n",
            "EPISODE: 302 - FINAL SCORE: 18 - Epsilon: 0.1\n",
            "EPISODE: 303 - FINAL SCORE: 14 - Epsilon: 0.1\n",
            "EPISODE: 304 - FINAL SCORE: 18 - Epsilon: 0.1\n",
            "EPISODE: 305 - FINAL SCORE: 32 - Epsilon: 0.1\n",
            "EPISODE: 306 - FINAL SCORE: 17 - Epsilon: 0.1\n",
            "EPISODE: 307 - FINAL SCORE: 11 - Epsilon: 0.1\n",
            "EPISODE: 308 - FINAL SCORE: 22 - Epsilon: 0.1\n",
            "EPISODE: 309 - FINAL SCORE: 18 - Epsilon: 0.1\n",
            "EPISODE: 310 - FINAL SCORE: 21 - Epsilon: 0.1\n",
            "Updating target network...\n",
            "EPISODE: 311 - FINAL SCORE: 25 - Epsilon: 0.1\n",
            "EPISODE: 312 - FINAL SCORE: 16 - Epsilon: 0.1\n",
            "EPISODE: 313 - FINAL SCORE: 20 - Epsilon: 0.1\n",
            "EPISODE: 314 - FINAL SCORE: 15 - Epsilon: 0.1\n",
            "EPISODE: 315 - FINAL SCORE: 11 - Epsilon: 0.1\n",
            "EPISODE: 316 - FINAL SCORE: 12 - Epsilon: 0.1\n",
            "EPISODE: 317 - FINAL SCORE: 32 - Epsilon: 0.1\n",
            "EPISODE: 318 - FINAL SCORE: 16 - Epsilon: 0.1\n",
            "EPISODE: 319 - FINAL SCORE: 19 - Epsilon: 0.1\n",
            "EPISODE: 320 - FINAL SCORE: 24 - Epsilon: 0.1\n",
            "Updating target network...\n",
            "EPISODE: 321 - FINAL SCORE: 12 - Epsilon: 0.1\n",
            "EPISODE: 322 - FINAL SCORE: 14 - Epsilon: 0.1\n",
            "EPISODE: 323 - FINAL SCORE: 12 - Epsilon: 0.1\n",
            "EPISODE: 324 - FINAL SCORE: 17 - Epsilon: 0.1\n",
            "EPISODE: 325 - FINAL SCORE: 25 - Epsilon: 0.1\n",
            "EPISODE: 326 - FINAL SCORE: 22 - Epsilon: 0.1\n",
            "EPISODE: 327 - FINAL SCORE: 13 - Epsilon: 0.1\n",
            "EPISODE: 328 - FINAL SCORE: 24 - Epsilon: 0.1\n",
            "EPISODE: 329 - FINAL SCORE: 16 - Epsilon: 0.1\n",
            "EPISODE: 330 - FINAL SCORE: 32 - Epsilon: 0.1\n",
            "Updating target network...\n",
            "EPISODE: 331 - FINAL SCORE: 24 - Epsilon: 0.1\n",
            "EPISODE: 332 - FINAL SCORE: 13 - Epsilon: 0.1\n",
            "EPISODE: 333 - FINAL SCORE: 14 - Epsilon: 0.1\n",
            "EPISODE: 334 - FINAL SCORE: 20 - Epsilon: 0.1\n",
            "EPISODE: 335 - FINAL SCORE: 16 - Epsilon: 0.1\n",
            "EPISODE: 336 - FINAL SCORE: 18 - Epsilon: 0.1\n",
            "EPISODE: 337 - FINAL SCORE: 13 - Epsilon: 0.1\n",
            "EPISODE: 338 - FINAL SCORE: 10 - Epsilon: 0.1\n",
            "EPISODE: 339 - FINAL SCORE: 9 - Epsilon: 0.1\n",
            "EPISODE: 340 - FINAL SCORE: 16 - Epsilon: 0.1\n",
            "Updating target network...\n",
            "EPISODE: 341 - FINAL SCORE: 21 - Epsilon: 0.1\n",
            "EPISODE: 342 - FINAL SCORE: 11 - Epsilon: 0.1\n",
            "EPISODE: 343 - FINAL SCORE: 15 - Epsilon: 0.1\n",
            "EPISODE: 344 - FINAL SCORE: 19 - Epsilon: 0.1\n",
            "EPISODE: 345 - FINAL SCORE: 33 - Epsilon: 0.1\n",
            "EPISODE: 346 - FINAL SCORE: 16 - Epsilon: 0.1\n",
            "EPISODE: 347 - FINAL SCORE: 20 - Epsilon: 0.1\n",
            "EPISODE: 348 - FINAL SCORE: 26 - Epsilon: 0.1\n",
            "EPISODE: 349 - FINAL SCORE: 15 - Epsilon: 0.1\n",
            "EPISODE: 350 - FINAL SCORE: 19 - Epsilon: 0.1\n",
            "Updating target network...\n",
            "EPISODE: 351 - FINAL SCORE: 34 - Epsilon: 0.1\n",
            "EPISODE: 352 - FINAL SCORE: 17 - Epsilon: 0.1\n",
            "EPISODE: 353 - FINAL SCORE: 18 - Epsilon: 0.1\n",
            "EPISODE: 354 - FINAL SCORE: 27 - Epsilon: 0.1\n",
            "EPISODE: 355 - FINAL SCORE: 35 - Epsilon: 0.1\n",
            "EPISODE: 356 - FINAL SCORE: 12 - Epsilon: 0.1\n",
            "EPISODE: 357 - FINAL SCORE: 26 - Epsilon: 0.1\n",
            "EPISODE: 358 - FINAL SCORE: 25 - Epsilon: 0.1\n",
            "EPISODE: 359 - FINAL SCORE: 20 - Epsilon: 0.1\n",
            "EPISODE: 360 - FINAL SCORE: 8 - Epsilon: 0.1\n",
            "Updating target network...\n",
            "EPISODE: 361 - FINAL SCORE: 15 - Epsilon: 0.1\n",
            "EPISODE: 362 - FINAL SCORE: 21 - Epsilon: 0.1\n",
            "EPISODE: 363 - FINAL SCORE: 10 - Epsilon: 0.1\n",
            "EPISODE: 364 - FINAL SCORE: 12 - Epsilon: 0.1\n",
            "EPISODE: 365 - FINAL SCORE: 31 - Epsilon: 0.1\n",
            "EPISODE: 366 - FINAL SCORE: 19 - Epsilon: 0.1\n",
            "EPISODE: 367 - FINAL SCORE: 24 - Epsilon: 0.1\n",
            "EPISODE: 368 - FINAL SCORE: 24 - Epsilon: 0.1\n",
            "EPISODE: 369 - FINAL SCORE: 26 - Epsilon: 0.1\n",
            "EPISODE: 370 - FINAL SCORE: 10 - Epsilon: 0.1\n",
            "Updating target network...\n",
            "EPISODE: 371 - FINAL SCORE: 20 - Epsilon: 0.1\n",
            "EPISODE: 372 - FINAL SCORE: 16 - Epsilon: 0.1\n",
            "EPISODE: 373 - FINAL SCORE: 9 - Epsilon: 0.1\n",
            "EPISODE: 374 - FINAL SCORE: 13 - Epsilon: 0.1\n",
            "EPISODE: 375 - FINAL SCORE: 22 - Epsilon: 0.1\n",
            "EPISODE: 376 - FINAL SCORE: 17 - Epsilon: 0.1\n",
            "EPISODE: 377 - FINAL SCORE: 21 - Epsilon: 0.1\n",
            "EPISODE: 378 - FINAL SCORE: 19 - Epsilon: 0.1\n",
            "EPISODE: 379 - FINAL SCORE: 11 - Epsilon: 0.1\n",
            "EPISODE: 380 - FINAL SCORE: 24 - Epsilon: 0.1\n",
            "Updating target network...\n",
            "EPISODE: 381 - FINAL SCORE: 17 - Epsilon: 0.1\n",
            "EPISODE: 382 - FINAL SCORE: 10 - Epsilon: 0.1\n",
            "EPISODE: 383 - FINAL SCORE: 13 - Epsilon: 0.1\n",
            "EPISODE: 384 - FINAL SCORE: 13 - Epsilon: 0.1\n",
            "EPISODE: 385 - FINAL SCORE: 15 - Epsilon: 0.1\n",
            "EPISODE: 386 - FINAL SCORE: 10 - Epsilon: 0.1\n",
            "EPISODE: 387 - FINAL SCORE: 27 - Epsilon: 0.1\n",
            "EPISODE: 388 - FINAL SCORE: 19 - Epsilon: 0.1\n",
            "EPISODE: 389 - FINAL SCORE: 15 - Epsilon: 0.1\n",
            "EPISODE: 390 - FINAL SCORE: 18 - Epsilon: 0.1\n",
            "Updating target network...\n",
            "EPISODE: 391 - FINAL SCORE: 15 - Epsilon: 0.1\n",
            "EPISODE: 392 - FINAL SCORE: 11 - Epsilon: 0.1\n",
            "EPISODE: 393 - FINAL SCORE: 13 - Epsilon: 0.1\n",
            "EPISODE: 394 - FINAL SCORE: 13 - Epsilon: 0.1\n",
            "EPISODE: 395 - FINAL SCORE: 19 - Epsilon: 0.1\n",
            "EPISODE: 396 - FINAL SCORE: 12 - Epsilon: 0.1\n",
            "EPISODE: 397 - FINAL SCORE: 9 - Epsilon: 0.1\n",
            "EPISODE: 398 - FINAL SCORE: 18 - Epsilon: 0.1\n",
            "EPISODE: 399 - FINAL SCORE: 19 - Epsilon: 0.1\n",
            "EPISODE: 400 - FINAL SCORE: 22 - Epsilon: 0.1\n",
            "Updating target network...\n",
            "EPISODE: 401 - FINAL SCORE: 25 - Epsilon: 0.1\n",
            "EPISODE: 402 - FINAL SCORE: 17 - Epsilon: 0.1\n",
            "EPISODE: 403 - FINAL SCORE: 16 - Epsilon: 0.1\n",
            "EPISODE: 404 - FINAL SCORE: 24 - Epsilon: 0.1\n",
            "EPISODE: 405 - FINAL SCORE: 12 - Epsilon: 0.1\n",
            "EPISODE: 406 - FINAL SCORE: 24 - Epsilon: 0.1\n",
            "EPISODE: 407 - FINAL SCORE: 27 - Epsilon: 0.1\n",
            "EPISODE: 408 - FINAL SCORE: 13 - Epsilon: 0.1\n",
            "EPISODE: 409 - FINAL SCORE: 19 - Epsilon: 0.1\n",
            "EPISODE: 410 - FINAL SCORE: 17 - Epsilon: 0.1\n",
            "Updating target network...\n",
            "EPISODE: 411 - FINAL SCORE: 19 - Epsilon: 0.1\n",
            "EPISODE: 412 - FINAL SCORE: 10 - Epsilon: 0.1\n",
            "EPISODE: 413 - FINAL SCORE: 19 - Epsilon: 0.1\n",
            "EPISODE: 414 - FINAL SCORE: 20 - Epsilon: 0.1\n",
            "EPISODE: 415 - FINAL SCORE: 11 - Epsilon: 0.1\n",
            "EPISODE: 416 - FINAL SCORE: 21 - Epsilon: 0.1\n",
            "EPISODE: 417 - FINAL SCORE: 37 - Epsilon: 0.1\n",
            "EPISODE: 418 - FINAL SCORE: 22 - Epsilon: 0.1\n",
            "EPISODE: 419 - FINAL SCORE: 13 - Epsilon: 0.1\n",
            "EPISODE: 420 - FINAL SCORE: 10 - Epsilon: 0.1\n",
            "Updating target network...\n",
            "EPISODE: 421 - FINAL SCORE: 18 - Epsilon: 0.1\n",
            "EPISODE: 422 - FINAL SCORE: 21 - Epsilon: 0.1\n",
            "EPISODE: 423 - FINAL SCORE: 11 - Epsilon: 0.1\n",
            "EPISODE: 424 - FINAL SCORE: 15 - Epsilon: 0.1\n",
            "EPISODE: 425 - FINAL SCORE: 14 - Epsilon: 0.1\n",
            "EPISODE: 426 - FINAL SCORE: 16 - Epsilon: 0.1\n",
            "EPISODE: 427 - FINAL SCORE: 19 - Epsilon: 0.1\n",
            "EPISODE: 428 - FINAL SCORE: 15 - Epsilon: 0.1\n",
            "EPISODE: 429 - FINAL SCORE: 10 - Epsilon: 0.1\n",
            "EPISODE: 430 - FINAL SCORE: 16 - Epsilon: 0.1\n",
            "Updating target network...\n",
            "EPISODE: 431 - FINAL SCORE: 18 - Epsilon: 0.1\n",
            "EPISODE: 432 - FINAL SCORE: 20 - Epsilon: 0.1\n",
            "EPISODE: 433 - FINAL SCORE: 12 - Epsilon: 0.1\n",
            "EPISODE: 434 - FINAL SCORE: 15 - Epsilon: 0.1\n",
            "EPISODE: 435 - FINAL SCORE: 8 - Epsilon: 0.1\n",
            "EPISODE: 436 - FINAL SCORE: 11 - Epsilon: 0.1\n",
            "EPISODE: 437 - FINAL SCORE: 26 - Epsilon: 0.1\n",
            "EPISODE: 438 - FINAL SCORE: 14 - Epsilon: 0.1\n",
            "EPISODE: 439 - FINAL SCORE: 16 - Epsilon: 0.1\n",
            "EPISODE: 440 - FINAL SCORE: 10 - Epsilon: 0.1\n",
            "Updating target network...\n",
            "EPISODE: 441 - FINAL SCORE: 14 - Epsilon: 0.1\n",
            "EPISODE: 442 - FINAL SCORE: 9 - Epsilon: 0.1\n",
            "EPISODE: 443 - FINAL SCORE: 15 - Epsilon: 0.1\n",
            "EPISODE: 444 - FINAL SCORE: 25 - Epsilon: 0.1\n",
            "EPISODE: 445 - FINAL SCORE: 21 - Epsilon: 0.1\n",
            "EPISODE: 446 - FINAL SCORE: 16 - Epsilon: 0.1\n",
            "EPISODE: 447 - FINAL SCORE: 20 - Epsilon: 0.1\n",
            "EPISODE: 448 - FINAL SCORE: 11 - Epsilon: 0.1\n",
            "EPISODE: 449 - FINAL SCORE: 28 - Epsilon: 0.1\n",
            "EPISODE: 450 - FINAL SCORE: 14 - Epsilon: 0.1\n",
            "Updating target network...\n",
            "EPISODE: 451 - FINAL SCORE: 20 - Epsilon: 0.1\n",
            "EPISODE: 452 - FINAL SCORE: 23 - Epsilon: 0.1\n",
            "EPISODE: 453 - FINAL SCORE: 20 - Epsilon: 0.1\n",
            "EPISODE: 454 - FINAL SCORE: 11 - Epsilon: 0.1\n",
            "EPISODE: 455 - FINAL SCORE: 46 - Epsilon: 0.1\n",
            "EPISODE: 456 - FINAL SCORE: 25 - Epsilon: 0.1\n",
            "EPISODE: 457 - FINAL SCORE: 9 - Epsilon: 0.1\n",
            "EPISODE: 458 - FINAL SCORE: 10 - Epsilon: 0.1\n",
            "EPISODE: 459 - FINAL SCORE: 37 - Epsilon: 0.1\n",
            "EPISODE: 460 - FINAL SCORE: 18 - Epsilon: 0.1\n",
            "Updating target network...\n",
            "EPISODE: 461 - FINAL SCORE: 13 - Epsilon: 0.1\n",
            "EPISODE: 462 - FINAL SCORE: 11 - Epsilon: 0.1\n",
            "EPISODE: 463 - FINAL SCORE: 20 - Epsilon: 0.1\n",
            "EPISODE: 464 - FINAL SCORE: 16 - Epsilon: 0.1\n",
            "EPISODE: 465 - FINAL SCORE: 10 - Epsilon: 0.1\n",
            "EPISODE: 466 - FINAL SCORE: 14 - Epsilon: 0.1\n",
            "EPISODE: 467 - FINAL SCORE: 14 - Epsilon: 0.1\n",
            "EPISODE: 468 - FINAL SCORE: 17 - Epsilon: 0.1\n",
            "EPISODE: 469 - FINAL SCORE: 19 - Epsilon: 0.1\n",
            "EPISODE: 470 - FINAL SCORE: 17 - Epsilon: 0.1\n",
            "Updating target network...\n",
            "EPISODE: 471 - FINAL SCORE: 14 - Epsilon: 0.1\n",
            "EPISODE: 472 - FINAL SCORE: 19 - Epsilon: 0.1\n",
            "EPISODE: 473 - FINAL SCORE: 16 - Epsilon: 0.1\n",
            "EPISODE: 474 - FINAL SCORE: 11 - Epsilon: 0.1\n",
            "EPISODE: 475 - FINAL SCORE: 12 - Epsilon: 0.1\n",
            "EPISODE: 476 - FINAL SCORE: 25 - Epsilon: 0.1\n",
            "EPISODE: 477 - FINAL SCORE: 23 - Epsilon: 0.1\n",
            "EPISODE: 478 - FINAL SCORE: 12 - Epsilon: 0.1\n",
            "EPISODE: 479 - FINAL SCORE: 38 - Epsilon: 0.1\n",
            "EPISODE: 480 - FINAL SCORE: 9 - Epsilon: 0.1\n",
            "Updating target network...\n",
            "EPISODE: 481 - FINAL SCORE: 11 - Epsilon: 0.1\n",
            "EPISODE: 482 - FINAL SCORE: 26 - Epsilon: 0.1\n",
            "EPISODE: 483 - FINAL SCORE: 14 - Epsilon: 0.1\n",
            "EPISODE: 484 - FINAL SCORE: 16 - Epsilon: 0.1\n",
            "EPISODE: 485 - FINAL SCORE: 16 - Epsilon: 0.1\n",
            "EPISODE: 486 - FINAL SCORE: 26 - Epsilon: 0.1\n",
            "EPISODE: 487 - FINAL SCORE: 8 - Epsilon: 0.1\n",
            "EPISODE: 488 - FINAL SCORE: 23 - Epsilon: 0.1\n",
            "EPISODE: 489 - FINAL SCORE: 18 - Epsilon: 0.1\n",
            "EPISODE: 490 - FINAL SCORE: 14 - Epsilon: 0.1\n",
            "Updating target network...\n",
            "EPISODE: 491 - FINAL SCORE: 13 - Epsilon: 0.1\n",
            "EPISODE: 492 - FINAL SCORE: 24 - Epsilon: 0.1\n",
            "EPISODE: 493 - FINAL SCORE: 21 - Epsilon: 0.1\n",
            "EPISODE: 494 - FINAL SCORE: 13 - Epsilon: 0.1\n",
            "EPISODE: 495 - FINAL SCORE: 11 - Epsilon: 0.1\n",
            "EPISODE: 496 - FINAL SCORE: 17 - Epsilon: 0.1\n",
            "EPISODE: 497 - FINAL SCORE: 12 - Epsilon: 0.1\n",
            "EPISODE: 498 - FINAL SCORE: 11 - Epsilon: 0.1\n",
            "EPISODE: 499 - FINAL SCORE: 12 - Epsilon: 0.1\n",
            "EPISODE: 500 - FINAL SCORE: 10 - Epsilon: 0.1\n",
            "Updating target network...\n",
            "EPISODE: 501 - FINAL SCORE: 9 - Epsilon: 0.1\n",
            "EPISODE: 502 - FINAL SCORE: 18 - Epsilon: 0.1\n",
            "EPISODE: 503 - FINAL SCORE: 10 - Epsilon: 0.1\n",
            "EPISODE: 504 - FINAL SCORE: 12 - Epsilon: 0.1\n",
            "EPISODE: 505 - FINAL SCORE: 23 - Epsilon: 0.1\n",
            "EPISODE: 506 - FINAL SCORE: 12 - Epsilon: 0.1\n",
            "EPISODE: 507 - FINAL SCORE: 16 - Epsilon: 0.1\n",
            "EPISODE: 508 - FINAL SCORE: 20 - Epsilon: 0.1\n",
            "EPISODE: 509 - FINAL SCORE: 18 - Epsilon: 0.1\n",
            "EPISODE: 510 - FINAL SCORE: 25 - Epsilon: 0.1\n",
            "Updating target network...\n",
            "EPISODE: 511 - FINAL SCORE: 23 - Epsilon: 0.1\n",
            "EPISODE: 512 - FINAL SCORE: 18 - Epsilon: 0.1\n",
            "EPISODE: 513 - FINAL SCORE: 27 - Epsilon: 0.1\n",
            "EPISODE: 514 - FINAL SCORE: 11 - Epsilon: 0.1\n",
            "EPISODE: 515 - FINAL SCORE: 18 - Epsilon: 0.1\n",
            "EPISODE: 516 - FINAL SCORE: 20 - Epsilon: 0.1\n",
            "EPISODE: 517 - FINAL SCORE: 13 - Epsilon: 0.1\n",
            "EPISODE: 518 - FINAL SCORE: 11 - Epsilon: 0.1\n",
            "EPISODE: 519 - FINAL SCORE: 19 - Epsilon: 0.1\n",
            "EPISODE: 520 - FINAL SCORE: 12 - Epsilon: 0.1\n",
            "Updating target network...\n",
            "EPISODE: 521 - FINAL SCORE: 43 - Epsilon: 0.1\n",
            "EPISODE: 522 - FINAL SCORE: 10 - Epsilon: 0.1\n",
            "EPISODE: 523 - FINAL SCORE: 10 - Epsilon: 0.1\n",
            "EPISODE: 524 - FINAL SCORE: 21 - Epsilon: 0.1\n",
            "EPISODE: 525 - FINAL SCORE: 11 - Epsilon: 0.1\n",
            "EPISODE: 526 - FINAL SCORE: 12 - Epsilon: 0.1\n",
            "EPISODE: 527 - FINAL SCORE: 11 - Epsilon: 0.1\n",
            "EPISODE: 528 - FINAL SCORE: 10 - Epsilon: 0.1\n",
            "EPISODE: 529 - FINAL SCORE: 15 - Epsilon: 0.1\n",
            "EPISODE: 530 - FINAL SCORE: 10 - Epsilon: 0.1\n",
            "Updating target network...\n",
            "EPISODE: 531 - FINAL SCORE: 18 - Epsilon: 0.1\n",
            "EPISODE: 532 - FINAL SCORE: 11 - Epsilon: 0.1\n",
            "EPISODE: 533 - FINAL SCORE: 11 - Epsilon: 0.1\n",
            "EPISODE: 534 - FINAL SCORE: 22 - Epsilon: 0.1\n",
            "EPISODE: 535 - FINAL SCORE: 10 - Epsilon: 0.1\n",
            "EPISODE: 536 - FINAL SCORE: 21 - Epsilon: 0.1\n",
            "EPISODE: 537 - FINAL SCORE: 15 - Epsilon: 0.1\n",
            "EPISODE: 538 - FINAL SCORE: 17 - Epsilon: 0.1\n",
            "EPISODE: 539 - FINAL SCORE: 14 - Epsilon: 0.1\n",
            "EPISODE: 540 - FINAL SCORE: 12 - Epsilon: 0.1\n",
            "Updating target network...\n",
            "EPISODE: 541 - FINAL SCORE: 22 - Epsilon: 0.1\n",
            "EPISODE: 542 - FINAL SCORE: 11 - Epsilon: 0.1\n",
            "EPISODE: 543 - FINAL SCORE: 21 - Epsilon: 0.1\n",
            "EPISODE: 544 - FINAL SCORE: 10 - Epsilon: 0.1\n",
            "EPISODE: 545 - FINAL SCORE: 9 - Epsilon: 0.1\n",
            "EPISODE: 546 - FINAL SCORE: 11 - Epsilon: 0.1\n",
            "EPISODE: 547 - FINAL SCORE: 11 - Epsilon: 0.1\n",
            "EPISODE: 548 - FINAL SCORE: 9 - Epsilon: 0.1\n",
            "EPISODE: 549 - FINAL SCORE: 19 - Epsilon: 0.1\n",
            "EPISODE: 550 - FINAL SCORE: 15 - Epsilon: 0.1\n",
            "Updating target network...\n",
            "EPISODE: 551 - FINAL SCORE: 18 - Epsilon: 0.1\n",
            "EPISODE: 552 - FINAL SCORE: 15 - Epsilon: 0.1\n",
            "EPISODE: 553 - FINAL SCORE: 16 - Epsilon: 0.1\n",
            "EPISODE: 554 - FINAL SCORE: 10 - Epsilon: 0.1\n",
            "EPISODE: 555 - FINAL SCORE: 22 - Epsilon: 0.1\n",
            "EPISODE: 556 - FINAL SCORE: 18 - Epsilon: 0.1\n",
            "EPISODE: 557 - FINAL SCORE: 14 - Epsilon: 0.1\n",
            "EPISODE: 558 - FINAL SCORE: 12 - Epsilon: 0.1\n",
            "EPISODE: 559 - FINAL SCORE: 51 - Epsilon: 0.1\n",
            "EPISODE: 560 - FINAL SCORE: 18 - Epsilon: 0.1\n",
            "Updating target network...\n",
            "EPISODE: 561 - FINAL SCORE: 17 - Epsilon: 0.1\n",
            "EPISODE: 562 - FINAL SCORE: 34 - Epsilon: 0.1\n",
            "EPISODE: 563 - FINAL SCORE: 15 - Epsilon: 0.1\n",
            "EPISODE: 564 - FINAL SCORE: 16 - Epsilon: 0.1\n",
            "EPISODE: 565 - FINAL SCORE: 15 - Epsilon: 0.1\n",
            "EPISODE: 566 - FINAL SCORE: 39 - Epsilon: 0.1\n",
            "EPISODE: 567 - FINAL SCORE: 21 - Epsilon: 0.1\n",
            "EPISODE: 568 - FINAL SCORE: 13 - Epsilon: 0.1\n",
            "EPISODE: 569 - FINAL SCORE: 14 - Epsilon: 0.1\n",
            "EPISODE: 570 - FINAL SCORE: 15 - Epsilon: 0.1\n",
            "Updating target network...\n",
            "EPISODE: 571 - FINAL SCORE: 15 - Epsilon: 0.1\n",
            "EPISODE: 572 - FINAL SCORE: 16 - Epsilon: 0.1\n",
            "EPISODE: 573 - FINAL SCORE: 19 - Epsilon: 0.1\n",
            "EPISODE: 574 - FINAL SCORE: 9 - Epsilon: 0.1\n",
            "EPISODE: 575 - FINAL SCORE: 21 - Epsilon: 0.1\n",
            "EPISODE: 576 - FINAL SCORE: 12 - Epsilon: 0.1\n",
            "EPISODE: 577 - FINAL SCORE: 13 - Epsilon: 0.1\n",
            "EPISODE: 578 - FINAL SCORE: 17 - Epsilon: 0.1\n",
            "EPISODE: 579 - FINAL SCORE: 19 - Epsilon: 0.1\n",
            "EPISODE: 580 - FINAL SCORE: 11 - Epsilon: 0.1\n",
            "Updating target network...\n",
            "EPISODE: 581 - FINAL SCORE: 8 - Epsilon: 0.1\n",
            "EPISODE: 582 - FINAL SCORE: 12 - Epsilon: 0.1\n",
            "EPISODE: 583 - FINAL SCORE: 15 - Epsilon: 0.1\n",
            "EPISODE: 584 - FINAL SCORE: 15 - Epsilon: 0.1\n",
            "EPISODE: 585 - FINAL SCORE: 23 - Epsilon: 0.1\n",
            "EPISODE: 586 - FINAL SCORE: 22 - Epsilon: 0.1\n",
            "EPISODE: 587 - FINAL SCORE: 32 - Epsilon: 0.1\n",
            "EPISODE: 588 - FINAL SCORE: 26 - Epsilon: 0.1\n",
            "EPISODE: 589 - FINAL SCORE: 10 - Epsilon: 0.1\n",
            "EPISODE: 590 - FINAL SCORE: 28 - Epsilon: 0.1\n",
            "Updating target network...\n",
            "EPISODE: 591 - FINAL SCORE: 18 - Epsilon: 0.1\n",
            "EPISODE: 592 - FINAL SCORE: 10 - Epsilon: 0.1\n",
            "EPISODE: 593 - FINAL SCORE: 49 - Epsilon: 0.1\n",
            "EPISODE: 594 - FINAL SCORE: 18 - Epsilon: 0.1\n",
            "EPISODE: 595 - FINAL SCORE: 12 - Epsilon: 0.1\n",
            "EPISODE: 596 - FINAL SCORE: 14 - Epsilon: 0.1\n",
            "EPISODE: 597 - FINAL SCORE: 15 - Epsilon: 0.1\n",
            "EPISODE: 598 - FINAL SCORE: 15 - Epsilon: 0.1\n",
            "EPISODE: 599 - FINAL SCORE: 17 - Epsilon: 0.1\n",
            "EPISODE: 600 - FINAL SCORE: 14 - Epsilon: 0.1\n",
            "Updating target network...\n",
            "EPISODE: 601 - FINAL SCORE: 9 - Epsilon: 0.1\n",
            "EPISODE: 602 - FINAL SCORE: 8 - Epsilon: 0.1\n",
            "EPISODE: 603 - FINAL SCORE: 13 - Epsilon: 0.1\n",
            "EPISODE: 604 - FINAL SCORE: 29 - Epsilon: 0.1\n",
            "EPISODE: 605 - FINAL SCORE: 22 - Epsilon: 0.1\n",
            "EPISODE: 606 - FINAL SCORE: 21 - Epsilon: 0.1\n",
            "EPISODE: 607 - FINAL SCORE: 14 - Epsilon: 0.1\n",
            "EPISODE: 608 - FINAL SCORE: 14 - Epsilon: 0.1\n",
            "EPISODE: 609 - FINAL SCORE: 16 - Epsilon: 0.1\n",
            "EPISODE: 610 - FINAL SCORE: 27 - Epsilon: 0.1\n",
            "Updating target network...\n",
            "EPISODE: 611 - FINAL SCORE: 9 - Epsilon: 0.1\n",
            "EPISODE: 612 - FINAL SCORE: 9 - Epsilon: 0.1\n",
            "EPISODE: 613 - FINAL SCORE: 32 - Epsilon: 0.1\n",
            "EPISODE: 614 - FINAL SCORE: 13 - Epsilon: 0.1\n",
            "EPISODE: 615 - FINAL SCORE: 21 - Epsilon: 0.1\n",
            "EPISODE: 616 - FINAL SCORE: 14 - Epsilon: 0.1\n",
            "EPISODE: 617 - FINAL SCORE: 11 - Epsilon: 0.1\n",
            "EPISODE: 618 - FINAL SCORE: 9 - Epsilon: 0.1\n",
            "EPISODE: 619 - FINAL SCORE: 12 - Epsilon: 0.1\n",
            "EPISODE: 620 - FINAL SCORE: 17 - Epsilon: 0.1\n",
            "Updating target network...\n",
            "EPISODE: 621 - FINAL SCORE: 25 - Epsilon: 0.1\n",
            "EPISODE: 622 - FINAL SCORE: 12 - Epsilon: 0.1\n",
            "EPISODE: 623 - FINAL SCORE: 13 - Epsilon: 0.1\n",
            "EPISODE: 624 - FINAL SCORE: 9 - Epsilon: 0.1\n",
            "EPISODE: 625 - FINAL SCORE: 15 - Epsilon: 0.1\n",
            "EPISODE: 626 - FINAL SCORE: 11 - Epsilon: 0.1\n",
            "EPISODE: 627 - FINAL SCORE: 11 - Epsilon: 0.1\n",
            "EPISODE: 628 - FINAL SCORE: 23 - Epsilon: 0.1\n",
            "EPISODE: 629 - FINAL SCORE: 16 - Epsilon: 0.1\n",
            "EPISODE: 630 - FINAL SCORE: 10 - Epsilon: 0.1\n",
            "Updating target network...\n",
            "EPISODE: 631 - FINAL SCORE: 16 - Epsilon: 0.1\n",
            "EPISODE: 632 - FINAL SCORE: 18 - Epsilon: 0.1\n",
            "EPISODE: 633 - FINAL SCORE: 17 - Epsilon: 0.1\n",
            "EPISODE: 634 - FINAL SCORE: 15 - Epsilon: 0.1\n",
            "EPISODE: 635 - FINAL SCORE: 20 - Epsilon: 0.1\n",
            "EPISODE: 636 - FINAL SCORE: 9 - Epsilon: 0.1\n",
            "EPISODE: 637 - FINAL SCORE: 20 - Epsilon: 0.1\n",
            "EPISODE: 638 - FINAL SCORE: 15 - Epsilon: 0.1\n",
            "EPISODE: 639 - FINAL SCORE: 11 - Epsilon: 0.1\n",
            "EPISODE: 640 - FINAL SCORE: 10 - Epsilon: 0.1\n",
            "Updating target network...\n",
            "EPISODE: 641 - FINAL SCORE: 13 - Epsilon: 0.1\n",
            "EPISODE: 642 - FINAL SCORE: 9 - Epsilon: 0.1\n",
            "EPISODE: 643 - FINAL SCORE: 11 - Epsilon: 0.1\n",
            "EPISODE: 644 - FINAL SCORE: 12 - Epsilon: 0.1\n",
            "EPISODE: 645 - FINAL SCORE: 23 - Epsilon: 0.1\n",
            "EPISODE: 646 - FINAL SCORE: 18 - Epsilon: 0.1\n",
            "EPISODE: 647 - FINAL SCORE: 12 - Epsilon: 0.1\n",
            "EPISODE: 648 - FINAL SCORE: 47 - Epsilon: 0.1\n",
            "EPISODE: 649 - FINAL SCORE: 22 - Epsilon: 0.1\n",
            "EPISODE: 650 - FINAL SCORE: 21 - Epsilon: 0.1\n",
            "Updating target network...\n",
            "EPISODE: 651 - FINAL SCORE: 8 - Epsilon: 0.1\n",
            "EPISODE: 652 - FINAL SCORE: 16 - Epsilon: 0.1\n",
            "EPISODE: 653 - FINAL SCORE: 12 - Epsilon: 0.1\n",
            "EPISODE: 654 - FINAL SCORE: 11 - Epsilon: 0.1\n",
            "EPISODE: 655 - FINAL SCORE: 13 - Epsilon: 0.1\n",
            "EPISODE: 656 - FINAL SCORE: 19 - Epsilon: 0.1\n",
            "EPISODE: 657 - FINAL SCORE: 9 - Epsilon: 0.1\n",
            "EPISODE: 658 - FINAL SCORE: 21 - Epsilon: 0.1\n",
            "EPISODE: 659 - FINAL SCORE: 13 - Epsilon: 0.1\n",
            "EPISODE: 660 - FINAL SCORE: 28 - Epsilon: 0.1\n",
            "Updating target network...\n",
            "EPISODE: 661 - FINAL SCORE: 9 - Epsilon: 0.1\n",
            "EPISODE: 662 - FINAL SCORE: 10 - Epsilon: 0.1\n",
            "EPISODE: 663 - FINAL SCORE: 10 - Epsilon: 0.1\n",
            "EPISODE: 664 - FINAL SCORE: 19 - Epsilon: 0.1\n",
            "EPISODE: 665 - FINAL SCORE: 16 - Epsilon: 0.1\n",
            "EPISODE: 666 - FINAL SCORE: 10 - Epsilon: 0.1\n",
            "EPISODE: 667 - FINAL SCORE: 17 - Epsilon: 0.1\n",
            "EPISODE: 668 - FINAL SCORE: 9 - Epsilon: 0.1\n",
            "EPISODE: 669 - FINAL SCORE: 44 - Epsilon: 0.1\n",
            "EPISODE: 670 - FINAL SCORE: 17 - Epsilon: 0.1\n",
            "Updating target network...\n",
            "EPISODE: 671 - FINAL SCORE: 14 - Epsilon: 0.1\n",
            "EPISODE: 672 - FINAL SCORE: 18 - Epsilon: 0.1\n",
            "EPISODE: 673 - FINAL SCORE: 12 - Epsilon: 0.1\n",
            "EPISODE: 674 - FINAL SCORE: 16 - Epsilon: 0.1\n",
            "EPISODE: 675 - FINAL SCORE: 11 - Epsilon: 0.1\n",
            "EPISODE: 676 - FINAL SCORE: 12 - Epsilon: 0.1\n",
            "EPISODE: 677 - FINAL SCORE: 12 - Epsilon: 0.1\n",
            "EPISODE: 678 - FINAL SCORE: 20 - Epsilon: 0.1\n",
            "EPISODE: 679 - FINAL SCORE: 16 - Epsilon: 0.1\n",
            "EPISODE: 680 - FINAL SCORE: 13 - Epsilon: 0.1\n",
            "Updating target network...\n",
            "EPISODE: 681 - FINAL SCORE: 11 - Epsilon: 0.1\n",
            "EPISODE: 682 - FINAL SCORE: 20 - Epsilon: 0.1\n",
            "EPISODE: 683 - FINAL SCORE: 11 - Epsilon: 0.1\n",
            "EPISODE: 684 - FINAL SCORE: 24 - Epsilon: 0.1\n",
            "EPISODE: 685 - FINAL SCORE: 24 - Epsilon: 0.1\n",
            "EPISODE: 686 - FINAL SCORE: 36 - Epsilon: 0.1\n",
            "EPISODE: 687 - FINAL SCORE: 15 - Epsilon: 0.1\n",
            "EPISODE: 688 - FINAL SCORE: 13 - Epsilon: 0.1\n",
            "EPISODE: 689 - FINAL SCORE: 21 - Epsilon: 0.1\n",
            "EPISODE: 690 - FINAL SCORE: 16 - Epsilon: 0.1\n",
            "Updating target network...\n",
            "EPISODE: 691 - FINAL SCORE: 14 - Epsilon: 0.1\n",
            "EPISODE: 692 - FINAL SCORE: 17 - Epsilon: 0.1\n",
            "EPISODE: 693 - FINAL SCORE: 12 - Epsilon: 0.1\n",
            "EPISODE: 694 - FINAL SCORE: 16 - Epsilon: 0.1\n",
            "EPISODE: 695 - FINAL SCORE: 10 - Epsilon: 0.1\n",
            "EPISODE: 696 - FINAL SCORE: 19 - Epsilon: 0.1\n",
            "EPISODE: 697 - FINAL SCORE: 13 - Epsilon: 0.1\n",
            "EPISODE: 698 - FINAL SCORE: 10 - Epsilon: 0.1\n",
            "EPISODE: 699 - FINAL SCORE: 21 - Epsilon: 0.1\n",
            "EPISODE: 700 - FINAL SCORE: 23 - Epsilon: 0.1\n",
            "Updating target network...\n",
            "EPISODE: 701 - FINAL SCORE: 17 - Epsilon: 0.1\n",
            "EPISODE: 702 - FINAL SCORE: 17 - Epsilon: 0.1\n",
            "EPISODE: 703 - FINAL SCORE: 16 - Epsilon: 0.1\n",
            "EPISODE: 704 - FINAL SCORE: 23 - Epsilon: 0.1\n",
            "EPISODE: 705 - FINAL SCORE: 27 - Epsilon: 0.1\n",
            "EPISODE: 706 - FINAL SCORE: 15 - Epsilon: 0.1\n",
            "EPISODE: 707 - FINAL SCORE: 27 - Epsilon: 0.1\n",
            "EPISODE: 708 - FINAL SCORE: 13 - Epsilon: 0.1\n",
            "EPISODE: 709 - FINAL SCORE: 35 - Epsilon: 0.1\n",
            "EPISODE: 710 - FINAL SCORE: 17 - Epsilon: 0.1\n",
            "Updating target network...\n",
            "EPISODE: 711 - FINAL SCORE: 13 - Epsilon: 0.1\n",
            "EPISODE: 712 - FINAL SCORE: 23 - Epsilon: 0.1\n",
            "EPISODE: 713 - FINAL SCORE: 13 - Epsilon: 0.1\n",
            "EPISODE: 714 - FINAL SCORE: 12 - Epsilon: 0.1\n",
            "EPISODE: 715 - FINAL SCORE: 22 - Epsilon: 0.1\n",
            "EPISODE: 716 - FINAL SCORE: 16 - Epsilon: 0.1\n",
            "EPISODE: 717 - FINAL SCORE: 23 - Epsilon: 0.1\n",
            "EPISODE: 718 - FINAL SCORE: 13 - Epsilon: 0.1\n",
            "EPISODE: 719 - FINAL SCORE: 11 - Epsilon: 0.1\n",
            "EPISODE: 720 - FINAL SCORE: 13 - Epsilon: 0.1\n",
            "Updating target network...\n",
            "EPISODE: 721 - FINAL SCORE: 13 - Epsilon: 0.1\n",
            "EPISODE: 722 - FINAL SCORE: 24 - Epsilon: 0.1\n",
            "EPISODE: 723 - FINAL SCORE: 22 - Epsilon: 0.1\n",
            "EPISODE: 724 - FINAL SCORE: 17 - Epsilon: 0.1\n",
            "EPISODE: 725 - FINAL SCORE: 18 - Epsilon: 0.1\n",
            "EPISODE: 726 - FINAL SCORE: 9 - Epsilon: 0.1\n",
            "EPISODE: 727 - FINAL SCORE: 18 - Epsilon: 0.1\n",
            "EPISODE: 728 - FINAL SCORE: 12 - Epsilon: 0.1\n",
            "EPISODE: 729 - FINAL SCORE: 14 - Epsilon: 0.1\n",
            "EPISODE: 730 - FINAL SCORE: 24 - Epsilon: 0.1\n",
            "Updating target network...\n",
            "EPISODE: 731 - FINAL SCORE: 9 - Epsilon: 0.1\n",
            "EPISODE: 732 - FINAL SCORE: 25 - Epsilon: 0.1\n",
            "EPISODE: 733 - FINAL SCORE: 26 - Epsilon: 0.1\n",
            "EPISODE: 734 - FINAL SCORE: 13 - Epsilon: 0.1\n",
            "EPISODE: 735 - FINAL SCORE: 14 - Epsilon: 0.1\n",
            "EPISODE: 736 - FINAL SCORE: 20 - Epsilon: 0.1\n",
            "EPISODE: 737 - FINAL SCORE: 27 - Epsilon: 0.1\n",
            "EPISODE: 738 - FINAL SCORE: 15 - Epsilon: 0.1\n",
            "EPISODE: 739 - FINAL SCORE: 12 - Epsilon: 0.1\n",
            "EPISODE: 740 - FINAL SCORE: 15 - Epsilon: 0.1\n",
            "Updating target network...\n",
            "EPISODE: 741 - FINAL SCORE: 31 - Epsilon: 0.1\n",
            "EPISODE: 742 - FINAL SCORE: 15 - Epsilon: 0.1\n",
            "EPISODE: 743 - FINAL SCORE: 16 - Epsilon: 0.1\n",
            "EPISODE: 744 - FINAL SCORE: 38 - Epsilon: 0.1\n",
            "EPISODE: 745 - FINAL SCORE: 18 - Epsilon: 0.1\n",
            "EPISODE: 746 - FINAL SCORE: 22 - Epsilon: 0.1\n",
            "EPISODE: 747 - FINAL SCORE: 19 - Epsilon: 0.1\n",
            "EPISODE: 748 - FINAL SCORE: 11 - Epsilon: 0.1\n",
            "EPISODE: 749 - FINAL SCORE: 27 - Epsilon: 0.1\n",
            "EPISODE: 750 - FINAL SCORE: 14 - Epsilon: 0.1\n",
            "Updating target network...\n",
            "EPISODE: 751 - FINAL SCORE: 18 - Epsilon: 0.1\n",
            "EPISODE: 752 - FINAL SCORE: 25 - Epsilon: 0.1\n",
            "EPISODE: 753 - FINAL SCORE: 14 - Epsilon: 0.1\n",
            "EPISODE: 754 - FINAL SCORE: 15 - Epsilon: 0.1\n",
            "EPISODE: 755 - FINAL SCORE: 16 - Epsilon: 0.1\n",
            "EPISODE: 756 - FINAL SCORE: 14 - Epsilon: 0.1\n",
            "EPISODE: 757 - FINAL SCORE: 14 - Epsilon: 0.1\n",
            "EPISODE: 758 - FINAL SCORE: 14 - Epsilon: 0.1\n",
            "EPISODE: 759 - FINAL SCORE: 17 - Epsilon: 0.1\n",
            "EPISODE: 760 - FINAL SCORE: 24 - Epsilon: 0.1\n",
            "Updating target network...\n",
            "EPISODE: 761 - FINAL SCORE: 13 - Epsilon: 0.1\n",
            "EPISODE: 762 - FINAL SCORE: 13 - Epsilon: 0.1\n",
            "EPISODE: 763 - FINAL SCORE: 26 - Epsilon: 0.1\n",
            "EPISODE: 764 - FINAL SCORE: 13 - Epsilon: 0.1\n",
            "EPISODE: 765 - FINAL SCORE: 15 - Epsilon: 0.1\n",
            "EPISODE: 766 - FINAL SCORE: 14 - Epsilon: 0.1\n",
            "EPISODE: 767 - FINAL SCORE: 12 - Epsilon: 0.1\n",
            "EPISODE: 768 - FINAL SCORE: 12 - Epsilon: 0.1\n",
            "EPISODE: 769 - FINAL SCORE: 11 - Epsilon: 0.1\n",
            "EPISODE: 770 - FINAL SCORE: 11 - Epsilon: 0.1\n",
            "Updating target network...\n",
            "EPISODE: 771 - FINAL SCORE: 18 - Epsilon: 0.1\n",
            "EPISODE: 772 - FINAL SCORE: 11 - Epsilon: 0.1\n",
            "EPISODE: 773 - FINAL SCORE: 12 - Epsilon: 0.1\n",
            "EPISODE: 774 - FINAL SCORE: 16 - Epsilon: 0.1\n",
            "EPISODE: 775 - FINAL SCORE: 16 - Epsilon: 0.1\n",
            "EPISODE: 776 - FINAL SCORE: 10 - Epsilon: 0.1\n",
            "EPISODE: 777 - FINAL SCORE: 26 - Epsilon: 0.1\n",
            "EPISODE: 778 - FINAL SCORE: 16 - Epsilon: 0.1\n",
            "EPISODE: 779 - FINAL SCORE: 11 - Epsilon: 0.1\n",
            "EPISODE: 780 - FINAL SCORE: 20 - Epsilon: 0.1\n",
            "Updating target network...\n",
            "EPISODE: 781 - FINAL SCORE: 12 - Epsilon: 0.1\n",
            "EPISODE: 782 - FINAL SCORE: 14 - Epsilon: 0.1\n",
            "EPISODE: 783 - FINAL SCORE: 9 - Epsilon: 0.1\n",
            "EPISODE: 784 - FINAL SCORE: 17 - Epsilon: 0.1\n",
            "EPISODE: 785 - FINAL SCORE: 15 - Epsilon: 0.1\n",
            "EPISODE: 786 - FINAL SCORE: 10 - Epsilon: 0.1\n",
            "EPISODE: 787 - FINAL SCORE: 13 - Epsilon: 0.1\n",
            "EPISODE: 788 - FINAL SCORE: 25 - Epsilon: 0.1\n",
            "EPISODE: 789 - FINAL SCORE: 14 - Epsilon: 0.1\n",
            "EPISODE: 790 - FINAL SCORE: 14 - Epsilon: 0.1\n",
            "Updating target network...\n",
            "EPISODE: 791 - FINAL SCORE: 11 - Epsilon: 0.1\n",
            "EPISODE: 792 - FINAL SCORE: 13 - Epsilon: 0.1\n",
            "EPISODE: 793 - FINAL SCORE: 18 - Epsilon: 0.1\n",
            "EPISODE: 794 - FINAL SCORE: 13 - Epsilon: 0.1\n",
            "EPISODE: 795 - FINAL SCORE: 21 - Epsilon: 0.1\n",
            "EPISODE: 796 - FINAL SCORE: 9 - Epsilon: 0.1\n",
            "EPISODE: 797 - FINAL SCORE: 10 - Epsilon: 0.1\n",
            "EPISODE: 798 - FINAL SCORE: 19 - Epsilon: 0.1\n",
            "EPISODE: 799 - FINAL SCORE: 11 - Epsilon: 0.1\n",
            "EPISODE: 800 - FINAL SCORE: 10 - Epsilon: 0.1\n",
            "Updating target network...\n",
            "EPISODE: 801 - FINAL SCORE: 13 - Epsilon: 0.1\n",
            "EPISODE: 802 - FINAL SCORE: 9 - Epsilon: 0.1\n",
            "EPISODE: 803 - FINAL SCORE: 25 - Epsilon: 0.1\n",
            "EPISODE: 804 - FINAL SCORE: 45 - Epsilon: 0.1\n",
            "EPISODE: 805 - FINAL SCORE: 10 - Epsilon: 0.1\n",
            "EPISODE: 806 - FINAL SCORE: 16 - Epsilon: 0.1\n",
            "EPISODE: 807 - FINAL SCORE: 20 - Epsilon: 0.1\n",
            "EPISODE: 808 - FINAL SCORE: 15 - Epsilon: 0.1\n",
            "EPISODE: 809 - FINAL SCORE: 9 - Epsilon: 0.1\n",
            "EPISODE: 810 - FINAL SCORE: 13 - Epsilon: 0.1\n",
            "Updating target network...\n",
            "EPISODE: 811 - FINAL SCORE: 17 - Epsilon: 0.1\n",
            "EPISODE: 812 - FINAL SCORE: 10 - Epsilon: 0.1\n",
            "EPISODE: 813 - FINAL SCORE: 47 - Epsilon: 0.1\n",
            "EPISODE: 814 - FINAL SCORE: 15 - Epsilon: 0.1\n",
            "EPISODE: 815 - FINAL SCORE: 10 - Epsilon: 0.1\n",
            "EPISODE: 816 - FINAL SCORE: 28 - Epsilon: 0.1\n",
            "EPISODE: 817 - FINAL SCORE: 38 - Epsilon: 0.1\n",
            "EPISODE: 818 - FINAL SCORE: 23 - Epsilon: 0.1\n",
            "EPISODE: 819 - FINAL SCORE: 15 - Epsilon: 0.1\n",
            "EPISODE: 820 - FINAL SCORE: 13 - Epsilon: 0.1\n",
            "Updating target network...\n",
            "EPISODE: 821 - FINAL SCORE: 13 - Epsilon: 0.1\n",
            "EPISODE: 822 - FINAL SCORE: 24 - Epsilon: 0.1\n",
            "EPISODE: 823 - FINAL SCORE: 10 - Epsilon: 0.1\n",
            "EPISODE: 824 - FINAL SCORE: 11 - Epsilon: 0.1\n",
            "EPISODE: 825 - FINAL SCORE: 17 - Epsilon: 0.1\n",
            "EPISODE: 826 - FINAL SCORE: 41 - Epsilon: 0.1\n",
            "EPISODE: 827 - FINAL SCORE: 18 - Epsilon: 0.1\n",
            "EPISODE: 828 - FINAL SCORE: 12 - Epsilon: 0.1\n",
            "EPISODE: 829 - FINAL SCORE: 19 - Epsilon: 0.1\n",
            "EPISODE: 830 - FINAL SCORE: 11 - Epsilon: 0.1\n",
            "Updating target network...\n",
            "EPISODE: 831 - FINAL SCORE: 11 - Epsilon: 0.1\n",
            "EPISODE: 832 - FINAL SCORE: 11 - Epsilon: 0.1\n",
            "EPISODE: 833 - FINAL SCORE: 15 - Epsilon: 0.1\n",
            "EPISODE: 834 - FINAL SCORE: 11 - Epsilon: 0.1\n",
            "EPISODE: 835 - FINAL SCORE: 11 - Epsilon: 0.1\n",
            "EPISODE: 836 - FINAL SCORE: 29 - Epsilon: 0.1\n",
            "EPISODE: 837 - FINAL SCORE: 15 - Epsilon: 0.1\n",
            "EPISODE: 838 - FINAL SCORE: 57 - Epsilon: 0.1\n",
            "EPISODE: 839 - FINAL SCORE: 14 - Epsilon: 0.1\n",
            "EPISODE: 840 - FINAL SCORE: 11 - Epsilon: 0.1\n",
            "Updating target network...\n",
            "EPISODE: 841 - FINAL SCORE: 15 - Epsilon: 0.1\n",
            "EPISODE: 842 - FINAL SCORE: 32 - Epsilon: 0.1\n",
            "EPISODE: 843 - FINAL SCORE: 16 - Epsilon: 0.1\n",
            "EPISODE: 844 - FINAL SCORE: 17 - Epsilon: 0.1\n",
            "EPISODE: 845 - FINAL SCORE: 12 - Epsilon: 0.1\n",
            "EPISODE: 846 - FINAL SCORE: 16 - Epsilon: 0.1\n",
            "EPISODE: 847 - FINAL SCORE: 11 - Epsilon: 0.1\n",
            "EPISODE: 848 - FINAL SCORE: 22 - Epsilon: 0.1\n",
            "EPISODE: 849 - FINAL SCORE: 22 - Epsilon: 0.1\n",
            "EPISODE: 850 - FINAL SCORE: 18 - Epsilon: 0.1\n",
            "Updating target network...\n",
            "EPISODE: 851 - FINAL SCORE: 12 - Epsilon: 0.1\n",
            "EPISODE: 852 - FINAL SCORE: 24 - Epsilon: 0.1\n",
            "EPISODE: 853 - FINAL SCORE: 15 - Epsilon: 0.1\n",
            "EPISODE: 854 - FINAL SCORE: 14 - Epsilon: 0.1\n",
            "EPISODE: 855 - FINAL SCORE: 12 - Epsilon: 0.1\n",
            "EPISODE: 856 - FINAL SCORE: 8 - Epsilon: 0.1\n",
            "EPISODE: 857 - FINAL SCORE: 10 - Epsilon: 0.1\n",
            "EPISODE: 858 - FINAL SCORE: 14 - Epsilon: 0.1\n",
            "EPISODE: 859 - FINAL SCORE: 13 - Epsilon: 0.1\n",
            "EPISODE: 860 - FINAL SCORE: 15 - Epsilon: 0.1\n",
            "Updating target network...\n",
            "EPISODE: 861 - FINAL SCORE: 13 - Epsilon: 0.1\n",
            "EPISODE: 862 - FINAL SCORE: 13 - Epsilon: 0.1\n",
            "EPISODE: 863 - FINAL SCORE: 12 - Epsilon: 0.1\n",
            "EPISODE: 864 - FINAL SCORE: 11 - Epsilon: 0.1\n",
            "EPISODE: 865 - FINAL SCORE: 16 - Epsilon: 0.1\n",
            "EPISODE: 866 - FINAL SCORE: 28 - Epsilon: 0.1\n",
            "EPISODE: 867 - FINAL SCORE: 9 - Epsilon: 0.1\n",
            "EPISODE: 868 - FINAL SCORE: 13 - Epsilon: 0.1\n",
            "EPISODE: 869 - FINAL SCORE: 12 - Epsilon: 0.1\n",
            "EPISODE: 870 - FINAL SCORE: 64 - Epsilon: 0.1\n",
            "Updating target network...\n",
            "EPISODE: 871 - FINAL SCORE: 17 - Epsilon: 0.1\n",
            "EPISODE: 872 - FINAL SCORE: 14 - Epsilon: 0.1\n",
            "EPISODE: 873 - FINAL SCORE: 11 - Epsilon: 0.1\n",
            "EPISODE: 874 - FINAL SCORE: 17 - Epsilon: 0.1\n",
            "EPISODE: 875 - FINAL SCORE: 24 - Epsilon: 0.1\n",
            "EPISODE: 876 - FINAL SCORE: 13 - Epsilon: 0.1\n",
            "EPISODE: 877 - FINAL SCORE: 15 - Epsilon: 0.1\n",
            "EPISODE: 878 - FINAL SCORE: 10 - Epsilon: 0.1\n",
            "EPISODE: 879 - FINAL SCORE: 10 - Epsilon: 0.1\n",
            "EPISODE: 880 - FINAL SCORE: 13 - Epsilon: 0.1\n",
            "Updating target network...\n",
            "EPISODE: 881 - FINAL SCORE: 40 - Epsilon: 0.1\n",
            "EPISODE: 882 - FINAL SCORE: 10 - Epsilon: 0.1\n",
            "EPISODE: 883 - FINAL SCORE: 12 - Epsilon: 0.1\n",
            "EPISODE: 884 - FINAL SCORE: 9 - Epsilon: 0.1\n",
            "EPISODE: 885 - FINAL SCORE: 13 - Epsilon: 0.1\n",
            "EPISODE: 886 - FINAL SCORE: 10 - Epsilon: 0.1\n",
            "EPISODE: 887 - FINAL SCORE: 18 - Epsilon: 0.1\n",
            "EPISODE: 888 - FINAL SCORE: 11 - Epsilon: 0.1\n",
            "EPISODE: 889 - FINAL SCORE: 13 - Epsilon: 0.1\n",
            "EPISODE: 890 - FINAL SCORE: 35 - Epsilon: 0.1\n",
            "Updating target network...\n",
            "EPISODE: 891 - FINAL SCORE: 13 - Epsilon: 0.1\n",
            "EPISODE: 892 - FINAL SCORE: 21 - Epsilon: 0.1\n",
            "EPISODE: 893 - FINAL SCORE: 9 - Epsilon: 0.1\n",
            "EPISODE: 894 - FINAL SCORE: 10 - Epsilon: 0.1\n",
            "EPISODE: 895 - FINAL SCORE: 14 - Epsilon: 0.1\n",
            "EPISODE: 896 - FINAL SCORE: 13 - Epsilon: 0.1\n",
            "EPISODE: 897 - FINAL SCORE: 12 - Epsilon: 0.1\n",
            "EPISODE: 898 - FINAL SCORE: 21 - Epsilon: 0.1\n",
            "EPISODE: 899 - FINAL SCORE: 17 - Epsilon: 0.1\n",
            "EPISODE: 900 - FINAL SCORE: 16 - Epsilon: 0.1\n",
            "Updating target network...\n",
            "EPISODE: 901 - FINAL SCORE: 13 - Epsilon: 0.1\n",
            "EPISODE: 902 - FINAL SCORE: 17 - Epsilon: 0.1\n",
            "EPISODE: 903 - FINAL SCORE: 24 - Epsilon: 0.1\n",
            "EPISODE: 904 - FINAL SCORE: 12 - Epsilon: 0.1\n",
            "EPISODE: 905 - FINAL SCORE: 10 - Epsilon: 0.1\n",
            "EPISODE: 906 - FINAL SCORE: 13 - Epsilon: 0.1\n",
            "EPISODE: 907 - FINAL SCORE: 36 - Epsilon: 0.1\n",
            "EPISODE: 908 - FINAL SCORE: 21 - Epsilon: 0.1\n",
            "EPISODE: 909 - FINAL SCORE: 16 - Epsilon: 0.1\n",
            "EPISODE: 910 - FINAL SCORE: 15 - Epsilon: 0.1\n",
            "Updating target network...\n",
            "EPISODE: 911 - FINAL SCORE: 27 - Epsilon: 0.1\n",
            "EPISODE: 912 - FINAL SCORE: 12 - Epsilon: 0.1\n",
            "EPISODE: 913 - FINAL SCORE: 16 - Epsilon: 0.1\n",
            "EPISODE: 914 - FINAL SCORE: 14 - Epsilon: 0.1\n",
            "EPISODE: 915 - FINAL SCORE: 27 - Epsilon: 0.1\n",
            "EPISODE: 916 - FINAL SCORE: 18 - Epsilon: 0.1\n",
            "EPISODE: 917 - FINAL SCORE: 12 - Epsilon: 0.1\n",
            "EPISODE: 918 - FINAL SCORE: 14 - Epsilon: 0.1\n",
            "EPISODE: 919 - FINAL SCORE: 30 - Epsilon: 0.1\n",
            "EPISODE: 920 - FINAL SCORE: 11 - Epsilon: 0.1\n",
            "Updating target network...\n",
            "EPISODE: 921 - FINAL SCORE: 10 - Epsilon: 0.1\n",
            "EPISODE: 922 - FINAL SCORE: 10 - Epsilon: 0.1\n",
            "EPISODE: 923 - FINAL SCORE: 22 - Epsilon: 0.1\n",
            "EPISODE: 924 - FINAL SCORE: 10 - Epsilon: 0.1\n",
            "EPISODE: 925 - FINAL SCORE: 23 - Epsilon: 0.1\n",
            "EPISODE: 926 - FINAL SCORE: 13 - Epsilon: 0.1\n",
            "EPISODE: 927 - FINAL SCORE: 30 - Epsilon: 0.1\n",
            "EPISODE: 928 - FINAL SCORE: 29 - Epsilon: 0.1\n",
            "EPISODE: 929 - FINAL SCORE: 13 - Epsilon: 0.1\n",
            "EPISODE: 930 - FINAL SCORE: 16 - Epsilon: 0.1\n",
            "Updating target network...\n",
            "EPISODE: 931 - FINAL SCORE: 23 - Epsilon: 0.1\n",
            "EPISODE: 932 - FINAL SCORE: 15 - Epsilon: 0.1\n",
            "EPISODE: 933 - FINAL SCORE: 17 - Epsilon: 0.1\n",
            "EPISODE: 934 - FINAL SCORE: 15 - Epsilon: 0.1\n",
            "EPISODE: 935 - FINAL SCORE: 18 - Epsilon: 0.1\n",
            "EPISODE: 936 - FINAL SCORE: 11 - Epsilon: 0.1\n",
            "EPISODE: 937 - FINAL SCORE: 19 - Epsilon: 0.1\n",
            "EPISODE: 938 - FINAL SCORE: 13 - Epsilon: 0.1\n",
            "EPISODE: 939 - FINAL SCORE: 20 - Epsilon: 0.1\n",
            "EPISODE: 940 - FINAL SCORE: 31 - Epsilon: 0.1\n",
            "Updating target network...\n",
            "EPISODE: 941 - FINAL SCORE: 19 - Epsilon: 0.1\n",
            "EPISODE: 942 - FINAL SCORE: 25 - Epsilon: 0.1\n",
            "EPISODE: 943 - FINAL SCORE: 16 - Epsilon: 0.1\n",
            "EPISODE: 944 - FINAL SCORE: 23 - Epsilon: 0.1\n",
            "EPISODE: 945 - FINAL SCORE: 13 - Epsilon: 0.1\n",
            "EPISODE: 946 - FINAL SCORE: 16 - Epsilon: 0.1\n",
            "EPISODE: 947 - FINAL SCORE: 22 - Epsilon: 0.1\n",
            "EPISODE: 948 - FINAL SCORE: 21 - Epsilon: 0.1\n",
            "EPISODE: 949 - FINAL SCORE: 10 - Epsilon: 0.1\n",
            "EPISODE: 950 - FINAL SCORE: 17 - Epsilon: 0.1\n",
            "Updating target network...\n",
            "EPISODE: 951 - FINAL SCORE: 14 - Epsilon: 0.1\n",
            "EPISODE: 952 - FINAL SCORE: 22 - Epsilon: 0.1\n",
            "EPISODE: 953 - FINAL SCORE: 16 - Epsilon: 0.1\n",
            "EPISODE: 954 - FINAL SCORE: 21 - Epsilon: 0.1\n",
            "EPISODE: 955 - FINAL SCORE: 19 - Epsilon: 0.1\n",
            "EPISODE: 956 - FINAL SCORE: 16 - Epsilon: 0.1\n",
            "EPISODE: 957 - FINAL SCORE: 39 - Epsilon: 0.1\n",
            "EPISODE: 958 - FINAL SCORE: 10 - Epsilon: 0.1\n",
            "EPISODE: 959 - FINAL SCORE: 18 - Epsilon: 0.1\n",
            "EPISODE: 960 - FINAL SCORE: 16 - Epsilon: 0.1\n",
            "Updating target network...\n",
            "EPISODE: 961 - FINAL SCORE: 19 - Epsilon: 0.1\n",
            "EPISODE: 962 - FINAL SCORE: 10 - Epsilon: 0.1\n",
            "EPISODE: 963 - FINAL SCORE: 18 - Epsilon: 0.1\n",
            "EPISODE: 964 - FINAL SCORE: 14 - Epsilon: 0.1\n",
            "EPISODE: 965 - FINAL SCORE: 20 - Epsilon: 0.1\n",
            "EPISODE: 966 - FINAL SCORE: 28 - Epsilon: 0.1\n",
            "EPISODE: 967 - FINAL SCORE: 15 - Epsilon: 0.1\n",
            "EPISODE: 968 - FINAL SCORE: 16 - Epsilon: 0.1\n",
            "EPISODE: 969 - FINAL SCORE: 15 - Epsilon: 0.1\n",
            "EPISODE: 970 - FINAL SCORE: 65 - Epsilon: 0.1\n",
            "Updating target network...\n",
            "EPISODE: 971 - FINAL SCORE: 24 - Epsilon: 0.1\n",
            "EPISODE: 972 - FINAL SCORE: 13 - Epsilon: 0.1\n",
            "EPISODE: 973 - FINAL SCORE: 18 - Epsilon: 0.1\n",
            "EPISODE: 974 - FINAL SCORE: 26 - Epsilon: 0.1\n",
            "EPISODE: 975 - FINAL SCORE: 26 - Epsilon: 0.1\n",
            "EPISODE: 976 - FINAL SCORE: 17 - Epsilon: 0.1\n",
            "EPISODE: 977 - FINAL SCORE: 11 - Epsilon: 0.1\n",
            "EPISODE: 978 - FINAL SCORE: 13 - Epsilon: 0.1\n",
            "EPISODE: 979 - FINAL SCORE: 15 - Epsilon: 0.1\n",
            "EPISODE: 980 - FINAL SCORE: 18 - Epsilon: 0.1\n",
            "Updating target network...\n",
            "EPISODE: 981 - FINAL SCORE: 14 - Epsilon: 0.1\n",
            "EPISODE: 982 - FINAL SCORE: 18 - Epsilon: 0.1\n",
            "EPISODE: 983 - FINAL SCORE: 15 - Epsilon: 0.1\n",
            "EPISODE: 984 - FINAL SCORE: 15 - Epsilon: 0.1\n",
            "EPISODE: 985 - FINAL SCORE: 16 - Epsilon: 0.1\n",
            "EPISODE: 986 - FINAL SCORE: 36 - Epsilon: 0.1\n",
            "EPISODE: 987 - FINAL SCORE: 14 - Epsilon: 0.1\n",
            "EPISODE: 988 - FINAL SCORE: 17 - Epsilon: 0.1\n",
            "EPISODE: 989 - FINAL SCORE: 18 - Epsilon: 0.1\n",
            "EPISODE: 990 - FINAL SCORE: 9 - Epsilon: 0.1\n",
            "Updating target network...\n",
            "EPISODE: 991 - FINAL SCORE: 30 - Epsilon: 0.1\n",
            "EPISODE: 992 - FINAL SCORE: 11 - Epsilon: 0.1\n",
            "EPISODE: 993 - FINAL SCORE: 15 - Epsilon: 0.1\n",
            "EPISODE: 994 - FINAL SCORE: 9 - Epsilon: 0.1\n",
            "EPISODE: 995 - FINAL SCORE: 15 - Epsilon: 0.1\n",
            "EPISODE: 996 - FINAL SCORE: 18 - Epsilon: 0.1\n",
            "EPISODE: 997 - FINAL SCORE: 15 - Epsilon: 0.1\n",
            "EPISODE: 998 - FINAL SCORE: 12 - Epsilon: 0.1\n",
            "EPISODE: 999 - FINAL SCORE: 21 - Epsilon: 0.1\n",
            "EPISODE: 1000 - FINAL SCORE: 25 - Epsilon: 0.1\n"
          ],
          "name": "stdout"
        }
      ]
    },
    {
      "cell_type": "code",
      "metadata": {
        "id": "KoA0dKFbKrhs"
      },
      "source": [
        "# np.save(\"/content/drive/MyDrive/UNI_ICT/NNDL/NNDL_hw3_data/fame\", frame)"
      ],
      "execution_count": 32,
      "outputs": []
    },
    {
      "cell_type": "code",
      "metadata": {
        "id": "rOymZx4w5grf",
        "outputId": "0722593f-c7d4-4d43-9f5b-33f5ba77cd5c",
        "colab": {
          "base_uri": "https://localhost:8080/",
          "height": 283
        }
      },
      "source": [
        "plt.plot(score_record)"
      ],
      "execution_count": 33,
      "outputs": [
        {
          "output_type": "execute_result",
          "data": {
            "text/plain": [
              "[<matplotlib.lines.Line2D at 0x7f75fbe8dba8>]"
            ]
          },
          "metadata": {
            "tags": []
          },
          "execution_count": 33
        },
        {
          "output_type": "display_data",
          "data": {
            "image/png": "[encoded data removed]",
            "text/plain": [
              "<Figure size 432x288 with 1 Axes>"
            ]
          },
          "metadata": {
            "tags": [],
            "needs_background": "light"
          }
        }
      ]
    },
    {
      "cell_type": "code",
      "metadata": {
        "id": "d2FCW0fI5grl"
      },
      "source": [
        "# Display the videos, not required outside Colab\n",
        "show_videos()"
      ],
      "execution_count": null,
      "outputs": []
    },
    {
      "cell_type": "markdown",
      "metadata": {
        "id": "JkG9iDZTIhzc"
      },
      "source": [
        "## Final test"
      ]
    },
    {
      "cell_type": "code",
      "metadata": {
        "id": "vJKgnu3_IjWE"
      },
      "source": [
        "# Initialize the Gym environment\n",
        "env = gym.make('CartPole-v1') \n",
        "env.seed(1) # Set a random seed for the environment (reproducible results)\n",
        "\n",
        "# This is for creating the output video in Colab, not required outside Colab\n",
        "env = wrap_env(env, video_callable=lambda episode_id: True) # Save a video every episode\n",
        "\n",
        "# Let's try for a total of 10 episodes\n",
        "for num_episode in range(10): \n",
        "    # Reset the environment and get the initial state\n",
        "    state = env.reset()\n",
        "    # Reset the score. The final score will be the total amount of steps before the pole falls\n",
        "    score = 0\n",
        "    done = False\n",
        "    # Go on until the pole falls off or the score reach 490\n",
        "    while not done:\n",
        "      # Choose the best action (temperature 0)\n",
        "      action, q_values = choose_action_softmax(policy_net, state, temperature=0)\n",
        "      # Apply the action and get the next state, the reward and a flag \"done\" that is True if the game is ended\n",
        "      next_state, reward, done, info = env.step(action)\n",
        "      # Visually render the environment\n",
        "      env.render()\n",
        "      # Update the final score (+1 for each step)\n",
        "      score += reward \n",
        "      # Set the current state for the next iteration\n",
        "      state = next_state\n",
        "      # Check if the episode ended (the pole fell down)\n",
        "    # Print the final score\n",
        "    print(f\"EPISODE {num_episode + 1} - FINAL SCORE: {score}\") \n",
        "env.close()"
      ],
      "execution_count": null,
      "outputs": []
    },
    {
      "cell_type": "code",
      "metadata": {
        "id": "mxdtGJutLqlw"
      },
      "source": [
        "# Display the videos, not required outside Colab\n",
        "show_videos()"
      ],
      "execution_count": null,
      "outputs": []
    }
  ]
}