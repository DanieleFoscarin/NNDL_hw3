{
  "nbformat": 4,
  "nbformat_minor": 0,
  "metadata": {
    "colab": {
      "name": "NNDL_hw3_part2.ipynb",
      "provenance": [],
      "toc_visible": true,
      "mount_file_id": "https://github.com/DanieleFoscarin/NNDL_hw3/blob/main/NNDL_hw3_part2.ipynb",
      "authorship_tag": "ABX9TyPiLcMui/UU8dz6jh986Rfc",
      "include_colab_link": true
    },
    "kernelspec": {
      "name": "python3",
      "display_name": "Python 3"
    }
  },
  "cells": [
    {
      "cell_type": "markdown",
      "metadata": {
        "id": "view-in-github",
        "colab_type": "text"
      },
      "source": [
        "<a href=\"https://colab.research.google.com/github/DanieleFoscarin/NNDL_hw3/blob/main/NNDL_hw3_part2.ipynb\" target=\"_parent\"><img src=\"https://colab.research.google.com/assets/colab-badge.svg\" alt=\"Open In Colab\"/></a>"
      ]
    },
    {
      "cell_type": "markdown",
      "metadata": {
        "id": "jMm9ZPM7w7ir"
      },
      "source": [
        "# Part 1"
      ]
    },
    {
      "cell_type": "markdown",
      "metadata": {
        "id": "poiXxYrdw-Nz"
      },
      "source": [
        "Prepare enviroment"
      ]
    },
    {
      "cell_type": "code",
      "metadata": {
        "id": "jBelL8nBZVsn",
        "colab": {
          "base_uri": "https://localhost:8080/"
        },
        "outputId": "987f00d1-3338-47c2-99f2-7646a4ae3023"
      },
      "source": [
        "!pip install gym"
      ],
      "execution_count": 1,
      "outputs": [
        {
          "output_type": "stream",
          "text": [
            "Requirement already satisfied: gym in /usr/local/lib/python3.6/dist-packages (0.17.3)\n",
            "Requirement already satisfied: scipy in /usr/local/lib/python3.6/dist-packages (from gym) (1.4.1)\n",
            "Requirement already satisfied: pyglet<=1.5.0,>=1.4.0 in /usr/local/lib/python3.6/dist-packages (from gym) (1.5.0)\n",
            "Requirement already satisfied: cloudpickle<1.7.0,>=1.2.0 in /usr/local/lib/python3.6/dist-packages (from gym) (1.3.0)\n",
            "Requirement already satisfied: numpy>=1.10.4 in /usr/local/lib/python3.6/dist-packages (from gym) (1.19.5)\n",
            "Requirement already satisfied: future in /usr/local/lib/python3.6/dist-packages (from pyglet<=1.5.0,>=1.4.0->gym) (0.16.0)\n"
          ],
          "name": "stdout"
        }
      ]
    },
    {
      "cell_type": "code",
      "metadata": {
        "id": "a7EkHQ0VsNnJ"
      },
      "source": [
        "import random\n",
        "import torch\n",
        "import numpy as np\n",
        "import gym\n",
        "import matplotlib.pyplot as plt\n",
        "from tqdm.notebook import tqdm\n",
        "import cv2\n",
        "\n",
        "from torch import nn\n",
        "from collections import deque # this python module implements exactly what we need for the replay memeory"
      ],
      "execution_count": 2,
      "outputs": []
    },
    {
      "cell_type": "markdown",
      "metadata": {
        "id": "LKzDB1SPZYY1"
      },
      "source": [
        "## Enable gym environment rendering in Colab\n",
        "\n",
        "> This section is not required if you are executing the notebook in a local environment. It enables the video generation from Gym environments, and it is only required in Colab since we do not have access to a screen.\n",
        "\n",
        "Source: https://colab.research.google.com/drive/18LdlDDT87eb8cCTHZsXyS9ksQPzL3i6H"
      ]
    },
    {
      "cell_type": "code",
      "metadata": {
        "id": "V0HIwpatSteb",
        "colab": {
          "base_uri": "https://localhost:8080/"
        },
        "outputId": "622cd452-5797-4cc3-a562-c0fb314516d2"
      },
      "source": [
        "!apt update\n",
        "!apt-get install python-opengl -y\n",
        "!apt install xvfb -y\n",
        "!pip install pyvirtualdisplay\n",
        "!pip install piglet"
      ],
      "execution_count": 3,
      "outputs": [
        {
          "output_type": "stream",
          "text": [
            "\u001b[33m\r0% [Working]\u001b[0m\r            \rGet:1 http://security.ubuntu.com/ubuntu bionic-security InRelease [88.7 kB]\n",
            "\u001b[33m\r0% [Connecting to archive.ubuntu.com (91.189.88.152)] [1 InRelease 14.2 kB/88.7\u001b[0m\r                                                                               \rIgn:2 https://developer.download.nvidia.com/compute/cuda/repos/ubuntu1804/x86_64  InRelease\n",
            "\u001b[33m\r0% [Waiting for headers] [1 InRelease 69.2 kB/88.7 kB 78%] [Waiting for headers\u001b[0m\u001b[33m\r0% [Waiting for headers] [Waiting for headers] [Waiting for headers] [Waiting f\u001b[0m\r                                                                               \rHit:3 https://cloud.r-project.org/bin/linux/ubuntu bionic-cran40/ InRelease\n",
            "\u001b[33m\r                                                                               \r0% [Waiting for headers] [Waiting for headers] [Waiting for headers]\u001b[0m\u001b[33m\r0% [1 InRelease gpgv 88.7 kB] [Waiting for headers] [Waiting for headers] [Wait\u001b[0m\r                                                                               \rIgn:4 https://developer.download.nvidia.com/compute/machine-learning/repos/ubuntu1804/x86_64  InRelease\n",
            "\u001b[33m\r                                                                               \r0% [1 InRelease gpgv 88.7 kB] [Waiting for headers] [Waiting for headers]\u001b[0m\r                                                                         \rHit:5 http://archive.ubuntu.com/ubuntu bionic InRelease\n",
            "\u001b[33m\r0% [1 InRelease gpgv 88.7 kB] [Waiting for headers] [Waiting for headers]\u001b[0m\r                                                                         \rHit:6 http://ppa.launchpad.net/c2d4u.team/c2d4u4.0+/ubuntu bionic InRelease\n",
            "Hit:7 https://developer.download.nvidia.com/compute/cuda/repos/ubuntu1804/x86_64  Release\n",
            "Hit:8 https://developer.download.nvidia.com/compute/machine-learning/repos/ubuntu1804/x86_64  Release\n",
            "Get:9 http://archive.ubuntu.com/ubuntu bionic-updates InRelease [88.7 kB]\n",
            "Hit:10 http://ppa.launchpad.net/cran/libgit2/ubuntu bionic InRelease\n",
            "Hit:11 http://ppa.launchpad.net/graphics-drivers/ppa/ubuntu bionic InRelease\n",
            "Get:12 http://archive.ubuntu.com/ubuntu bionic-backports InRelease [74.6 kB]\n",
            "Fetched 252 kB in 2s (113 kB/s)\n",
            "Reading package lists... Done\n",
            "Building dependency tree       \n",
            "Reading state information... Done\n",
            "18 packages can be upgraded. Run 'apt list --upgradable' to see them.\n",
            "Reading package lists... Done\n",
            "Building dependency tree       \n",
            "Reading state information... Done\n",
            "python-opengl is already the newest version (3.1.0+dfsg-1).\n",
            "0 upgraded, 0 newly installed, 0 to remove and 18 not upgraded.\n",
            "Reading package lists... Done\n",
            "Building dependency tree       \n",
            "Reading state information... Done\n",
            "xvfb is already the newest version (2:1.19.6-1ubuntu4.8).\n",
            "0 upgraded, 0 newly installed, 0 to remove and 18 not upgraded.\n",
            "Requirement already satisfied: pyvirtualdisplay in /usr/local/lib/python3.6/dist-packages (2.0)\n",
            "Requirement already satisfied: EasyProcess in /usr/local/lib/python3.6/dist-packages (from pyvirtualdisplay) (0.3)\n",
            "Requirement already satisfied: piglet in /usr/local/lib/python3.6/dist-packages (1.0.0)\n",
            "Requirement already satisfied: piglet-templates in /usr/local/lib/python3.6/dist-packages (from piglet) (1.1.0)\n",
            "Requirement already satisfied: Parsley in /usr/local/lib/python3.6/dist-packages (from piglet-templates->piglet) (1.3)\n",
            "Requirement already satisfied: astunparse in /usr/local/lib/python3.6/dist-packages (from piglet-templates->piglet) (1.6.3)\n",
            "Requirement already satisfied: markupsafe in /usr/local/lib/python3.6/dist-packages (from piglet-templates->piglet) (1.1.1)\n",
            "Requirement already satisfied: attrs in /usr/local/lib/python3.6/dist-packages (from piglet-templates->piglet) (20.3.0)\n",
            "Requirement already satisfied: six<2.0,>=1.6.1 in /usr/local/lib/python3.6/dist-packages (from astunparse->piglet-templates->piglet) (1.15.0)\n",
            "Requirement already satisfied: wheel<1.0,>=0.23.0 in /usr/local/lib/python3.6/dist-packages (from astunparse->piglet-templates->piglet) (0.36.2)\n"
          ],
          "name": "stdout"
        }
      ]
    },
    {
      "cell_type": "code",
      "metadata": {
        "id": "jxM-vHKz1r_M"
      },
      "source": [
        "import glob\n",
        "import io\n",
        "import base64\n",
        "import os\n",
        "from IPython.display import HTML\n",
        "from IPython import display as ipythondisplay\n",
        "from pyvirtualdisplay import Display\n",
        "from gym.wrappers import Monitor"
      ],
      "execution_count": 4,
      "outputs": []
    },
    {
      "cell_type": "code",
      "metadata": {
        "id": "E0oXbzI2ZAfv",
        "colab": {
          "base_uri": "https://localhost:8080/"
        },
        "outputId": "8b352013-af9f-4074-c9a4-dc3124efceff"
      },
      "source": [
        "display = Display(visible=0, size=(1400, 900))\n",
        "display.start()"
      ],
      "execution_count": 5,
      "outputs": [
        {
          "output_type": "execute_result",
          "data": {
            "text/plain": [
              "<pyvirtualdisplay.display.Display at 0x7fe0002c6208>"
            ]
          },
          "metadata": {
            "tags": []
          },
          "execution_count": 5
        }
      ]
    },
    {
      "cell_type": "code",
      "metadata": {
        "id": "yr5j5rz0ZEJf"
      },
      "source": [
        "# This code creates a virtual display to draw game images on. \n",
        "# If you are running locally, just ignore it\n",
        "if type(os.environ.get(\"DISPLAY\")) is not str or len(os.environ.get(\"DISPLAY\"))==0:\n",
        "    !bash ../xvfb start\n",
        "    %env DISPLAY=:1"
      ],
      "execution_count": 6,
      "outputs": []
    },
    {
      "cell_type": "code",
      "metadata": {
        "id": "StaxWEA0Z-O1"
      },
      "source": [
        "\"\"\"\n",
        "Utility functions to enable video recording of gym environment and displaying it\n",
        "To enable video, just do \"env = wrap_env(env)\"\"\n",
        "\"\"\"\n",
        "\n",
        "def show_videos():\n",
        "  mp4list = glob.glob('video/*.mp4')\n",
        "  mp4list.sort()\n",
        "  for mp4 in mp4list:\n",
        "    print(f\"\\nSHOWING VIDEO {mp4}\")\n",
        "    video = io.open(mp4, 'r+b').read()\n",
        "    encoded = base64.b64encode(video)\n",
        "    ipythondisplay.display(HTML(data='''<video alt=\"test\" autoplay \n",
        "                loop controls style=\"height: 400px;\">\n",
        "                <source src=\"data:video/mp4;base64,{0}\" type=\"video/mp4\" />\n",
        "             </video>'''.format(encoded.decode('ascii'))))\n",
        "    \n",
        "def wrap_env(env, video_callable=None):\n",
        "  env = Monitor(env, './video', force=True, video_callable=video_callable)\n",
        "  return env"
      ],
      "execution_count": 7,
      "outputs": []
    },
    {
      "cell_type": "markdown",
      "metadata": {
        "id": "wA_0gAmJfFlT"
      },
      "source": [
        "## Experience replay (Replay Memory)"
      ]
    },
    {
      "cell_type": "markdown",
      "metadata": {
        "id": "dqPUYNrpZhPw"
      },
      "source": [
        "\"*To perform experience replay, we store the agent's experiences e_t=(s_t,a_t,r_t,s_t+1) at each time-step t in a data set D_t={e_1,…,e_t}. During learning, we apply Q-learning updates, on samples (or mini-batches) of experience (s,a,r,s′)∼U(D), drawn uniformly at random from the pool of stored samples.*\"\n",
        "\n",
        "Source: https://www.nature.com/articles/nature14236\n",
        "\n",
        "In practice, what we need is a queue with a predefined capacity. When we reach the maximum capacity, the oldest element in the queue will be replaced with the new one.\n",
        "\n",
        "This exact behavior is implemented by the `deque` object from the python `collections` library (https://docs.python.org/3/library/collections.html#collections.deque):\n",
        "\n",
        "\"*If maxlen is not specified or is None, deques may grow to an arbitrary length. Otherwise, the deque is bounded to the specified maximum length. Once a bounded length deque is full, when new items are added, a corresponding number of items are discarded from the opposite end.*\"\n",
        "\n",
        "The random sampling can be easily achieved using the `random.sample` method (https://docs.python.org/3/library/random.html). "
      ]
    },
    {
      "cell_type": "code",
      "metadata": {
        "id": "1axKWEBl8uik"
      },
      "source": [
        "class ReplayMemory(object):\n",
        "\n",
        "    def __init__(self, capacity):\n",
        "        self.memory = deque(maxlen=capacity) # Define a queue with maxlen \"capacity\"\n",
        "\n",
        "    def push(self, state, action, next_state, reward):\n",
        "        self.memory.append( (state, action, next_state, reward) ) # Add the tuple (state, action, next_state, reward) to the queue\n",
        "\n",
        "    def sample(self, batch_size):\n",
        "        batch_size = min(batch_size, len(self)) # Get all the samples if the requested batch_size is higher than the number of sample currently in the memory\n",
        "        return random.sample(self.memory, batch_size) # Randomly select \"batch_size\" samples\n",
        "\n",
        "    def __len__(self):\n",
        "        return len(self.memory) # Return the number of samples currently stored in the memory"
      ],
      "execution_count": 8,
      "outputs": []
    },
    {
      "cell_type": "markdown",
      "metadata": {
        "id": "Y-nBdx6KfKNE"
      },
      "source": [
        "## Policy network"
      ]
    },
    {
      "cell_type": "markdown",
      "metadata": {
        "id": "vt2uYYCSrL8q"
      },
      "source": [
        "The policy network takes a state as input, and provides the Q-value for each of the possible actions.\r\n",
        "\r\n",
        "Let's define a simple generic fully-connected feed forward network with `state_space_dim` inputs and `action_space_dim` outputs (e.g. 2 hidden layers with 64 neurons each). \r\n",
        "\r\n",
        "Be sure to keep a linear output activation."
      ]
    },
    {
      "cell_type": "markdown",
      "metadata": {
        "id": "3x-kRJbQfqBR"
      },
      "source": [
        "### Epsilon-greedy policy\n"
      ]
    },
    {
      "cell_type": "markdown",
      "metadata": {
        "id": "RFVPF0aMy3be"
      },
      "source": [
        "With an epsilon-greedy policy we choose a **non optimal** action with probability epsilon, otherwise choose the best action (the one corresponding to the highest Q-value)."
      ]
    },
    {
      "cell_type": "code",
      "metadata": {
        "id": "ZXfh_Ub1fv4c"
      },
      "source": [
        "def choose_action_epsilon_greedy(net, state, epsilon):\n",
        "    \n",
        "    if epsilon > 1 or epsilon < 0:\n",
        "        raise Exception('The epsilon value must be between 0 and 1')\n",
        "                \n",
        "    # Evaluate the network output from the current state\n",
        "    with torch.no_grad():\n",
        "        net.eval()\n",
        "        state = torch.tensor(state, dtype=torch.float32) # Convert the state to tensor\n",
        "        net_out = net(state)\n",
        "\n",
        "    # Get the best action (argmax of the network output)\n",
        "    best_action = int(net_out.argmax())\n",
        "    # Get the number of possible actions\n",
        "    action_space_dim = net_out.shape[-1]\n",
        "\n",
        "    # Select a non optimal action with probability epsilon, otherwise choose the best action\n",
        "    if random.random() < epsilon:\n",
        "        # List of non-optimal actions\n",
        "        non_optimal_actions = [a for a in range(action_space_dim) if a != best_action]\n",
        "        # Select randomly\n",
        "        action = random.choice(non_optimal_actions)\n",
        "    else:\n",
        "        # Select best action\n",
        "        action = best_action\n",
        "        \n",
        "    return action, net_out.numpy()"
      ],
      "execution_count": 9,
      "outputs": []
    },
    {
      "cell_type": "markdown",
      "metadata": {
        "id": "Vvxi7b82f0g4"
      },
      "source": [
        "### Softmax policy"
      ]
    },
    {
      "cell_type": "markdown",
      "metadata": {
        "id": "8I0r6m-p1UQG"
      },
      "source": [
        "With a softmax policy we choose the action based on a distribution obtained applying a softmax (with temperature $\\tau$) to the estimated Q-values. The highest the temperature, the more the distribution will converge to a random uniform distribution. At zero temperature, instead, the policy will always choose the action with the highest Q-value.\r\n",
        "\r\n",
        "> **HINT**\r\n",
        ">\r\n",
        "> To sample from a random (discrete) distribution you can use the numpy function `numpy.random.choice` (https://docs.scipy.org/doc//numpy-1.10.4/reference/generated/numpy.random.choice.html), by setting the parameter `p` properly.\r\n",
        "\r\n",
        "> **HINT**\r\n",
        ">\r\n",
        "> Even if the PyTorch softmax function does not support the temperature parameter directly, you can still use it and apply the temperature outside the function. Just look carefully at the softmax formula in the slide above.\r\n",
        "\r\n",
        "> **HINT**\r\n",
        ">\r\n",
        "> The softmax function may be numerically unstable with very low temperature values. In practice, it is suggested to set a minimum value for the temperature (e.g. 1e-8)."
      ]
    },
    {
      "cell_type": "code",
      "metadata": {
        "id": "taW_cjBsf4sW"
      },
      "source": [
        "def choose_action_softmax(net, state, temperature):\n",
        "    \n",
        "    if temperature < 0:\n",
        "        raise Exception('The temperature value must be greater than or equal to 0 ')\n",
        "        \n",
        "    # If the temperature is 0, just select the best action using the eps-greedy policy with epsilon = 0\n",
        "    if temperature == 0:\n",
        "        return choose_action_epsilon_greedy(net, state, 0)\n",
        "    \n",
        "    # Evaluate the network output from the current state\n",
        "    with torch.no_grad():\n",
        "        net.eval()\n",
        "        state = torch.tensor(state, dtype=torch.float32)\n",
        "        net_out = net(state)\n",
        "\n",
        "    # Apply softmax with temp\n",
        "    temperature = max(temperature, 1e-8) # set a minimum to the temperature for numerical stability\n",
        "    softmax_out = nn.functional.softmax(net_out / temperature, dim=0).numpy()\n",
        "                \n",
        "    # Sample the action using softmax output as mass pdf\n",
        "    all_possible_actions = np.arange(0, softmax_out.shape[-1])\n",
        "    action = np.random.choice(all_possible_actions, p=softmax_out) # this samples a random element from \"all_possible_actions\" with the probability distribution p (softmax_out in this case)\n",
        "    \n",
        "    return action, net_out.numpy()"
      ],
      "execution_count": 10,
      "outputs": []
    },
    {
      "cell_type": "markdown",
      "metadata": {
        "id": "QMXhJfZcpqIA"
      },
      "source": [
        "### Exploration profile"
      ]
    },
    {
      "cell_type": "markdown",
      "metadata": {
        "id": "7rOvTpcbMPnR"
      },
      "source": [
        "Let's consider, for example, an exponentially decreasing exploration profile using a softmax policy.\n",
        "\n",
        "$$\n",
        "\\text{softmax_temperature}  = \\text{initial_temperature} * \\text{exp_decay}^i \\qquad \\text{for $i$ = 1, 2, ..., num_iterations } \n",
        "$$\n",
        "\n",
        "Alternatively, you can consider an epsilon greedy policy. In this case the exploration would be controlled by the epsilon parameter, for which you should consider a different initial value (max 1). "
      ]
    },
    {
      "cell_type": "code",
      "metadata": {
        "colab": {
          "base_uri": "https://localhost:8080/",
          "height": 515
        },
        "id": "BLGXTxrpWuFe",
        "outputId": "8fd52b49-6afc-4277-830c-58adeaa02e4f"
      },
      "source": [
        "### Define experimental exploration profile\r\n",
        "initial_value = 5\r\n",
        "num_iterations = 800\r\n",
        "exp_decay = np.exp(-np.log(initial_value) / num_iterations * 4) # We compute the exponential decay in such a way the shape of the exploration profile does not depend on the number of iterations\r\n",
        "# exploration_profile = [np.clip(initial_value * (exp_decay ** i) *np.abs(np.cos(i/15)), 1e-8, 10) for i in range(num_iterations)]\r\n",
        "exploration_profile = [np.clip(initial_value * (exp_decay ** i) *np.abs(np.cos(i*np.pi/10)), 1e-8, 10) for i in range(num_iterations)]\r\n",
        "\r\n",
        "\r\n",
        "### Plot exploration profile\r\n",
        "plt.figure(figsize=(12,8))\r\n",
        "plt.plot(exploration_profile)\r\n",
        "plt.grid()\r\n",
        "plt.xlabel('Iteration')\r\n",
        "plt.ylabel('Exploration profile (Softmax temperature)')"
      ],
      "execution_count": 11,
      "outputs": [
        {
          "output_type": "execute_result",
          "data": {
            "text/plain": [
              "Text(0, 0.5, 'Exploration profile (Softmax temperature)')"
            ]
          },
          "metadata": {
            "tags": []
          },
          "execution_count": 11
        },
        {
          "output_type": "display_data",
          "data": {
            "image/png": "[encoded data removed]",
            "text/plain": [
              "<Figure size 864x576 with 1 Axes>"
            ]
          },
          "metadata": {
            "tags": [],
            "needs_background": "light"
          }
        }
      ]
    },
    {
      "cell_type": "code",
      "metadata": {
        "id": "G-f78CC3ptt2",
        "colab": {
          "base_uri": "https://localhost:8080/",
          "height": 515
        },
        "outputId": "15c74672-d5ab-4ec5-c460-a22b7c473061"
      },
      "source": [
        "### Define exploration profile\n",
        "initial_value = 5\n",
        "num_iterations = 1000\n",
        "exp_decay = np.exp(-np.log(initial_value) / num_iterations * 4) # We compute the exponential decay in such a way the shape of the exploration profile does not depend on the number of iterations\n",
        "exploration_profile = [initial_value * (exp_decay ** i) for i in range(num_iterations)]\n",
        "\n",
        "### Plot exploration profile\n",
        "plt.figure(figsize=(12,8))\n",
        "plt.plot(exploration_profile)\n",
        "plt.grid()\n",
        "plt.xlabel('Iteration')\n",
        "plt.ylabel('Exploration profile (Softmax temperature)')"
      ],
      "execution_count": 12,
      "outputs": [
        {
          "output_type": "execute_result",
          "data": {
            "text/plain": [
              "Text(0, 0.5, 'Exploration profile (Softmax temperature)')"
            ]
          },
          "metadata": {
            "tags": []
          },
          "execution_count": 12
        },
        {
          "output_type": "display_data",
          "data": {
            "image/png": "[encoded data removed]",
            "text/plain": [
              "<Figure size 864x576 with 1 Axes>"
            ]
          },
          "metadata": {
            "tags": [],
            "needs_background": "light"
          }
        }
      ]
    },
    {
      "cell_type": "code",
      "metadata": {
        "id": "iX7JpFeObm08"
      },
      "source": [
        "# ### Define experimental exploration profile\r\n",
        "# initial_value = 3\r\n",
        "# num_iterations = 1000\r\n",
        "\r\n",
        "# def gaussian(x, mu, sig):\r\n",
        "#     return np.exp(-np.power(x - mu, 2.) / (2 * np.power(sig, 2.)))\r\n",
        "\r\n",
        "# exp_decay = np.exp(-np.log(initial_value) / num_iterations * 6) # We compute the exponential decay in such a way the shape of the exploration profile does not depend on the number of iterations\r\n",
        "# exploration_profile = [initial_value * (exp_decay ** i) *np.abs(np.cos(i/20)) + gaussian(i, 0, 200)*initial_value for i in range(num_iterations)] \r\n",
        "# # exploration_profile = [gaussian(x, 0, 200)*initial_value for x in range(num_iterations)]\r\n",
        "\r\n",
        "# ### Plot exploration profile\r\n",
        "# plt.figure(figsize=(12,8))\r\n",
        "# plt.plot(exploration_profile)\r\n",
        "# plt.grid()\r\n",
        "# plt.xlabel('Iteration')\r\n",
        "# plt.ylabel('Exploration profile (Softmax temperature)')"
      ],
      "execution_count": 13,
      "outputs": []
    },
    {
      "cell_type": "markdown",
      "metadata": {
        "id": "oXLB_rUCyoUT"
      },
      "source": [
        "### State from image processing\r\n",
        "Exploit computer vision tecniques to made a state\r\n",
        "\r\n",
        "blob detection https://learnopencv.com/blob-detection-using-opencv-python-c/"
      ]
    },
    {
      "cell_type": "code",
      "metadata": {
        "id": "Rl-TC_NfYRGg"
      },
      "source": [
        "def state_from_image(frame2, frame1):\r\n",
        "    #consider frame1 as old and frame2 as current\r\n",
        "    \r\n",
        "    frame1 = frame1[160:300]\r\n",
        "    frame2 = frame2[160:300]\r\n",
        "    cart_pos1 = np.mean(np.arange(600)[frame1[139,:,0]<255])\r\n",
        "    cart_pos2 = np.mean(np.arange(600)[frame2[139,:,0]<255])\r\n",
        "\r\n",
        "    cart_vel = cart_pos2 - cart_pos1\r\n",
        "\r\n",
        "\r\n",
        "    # resctrict the searched area in the neighborhood of the cart\r\n",
        "    ros_L1 = int(max(cart_pos1-60, 0))\r\n",
        "    ros_R1 = int(min(cart_pos1+60, np.shape(frame1)[1]))\r\n",
        "\r\n",
        "    ros_L2 = int(max(cart_pos2-60, 0))\r\n",
        "    ros_R2 = int(min(cart_pos2+60, np.shape(frame2)[1]))\r\n",
        "\r\n",
        "    flat_search1 = frame1[:,ros_L1:ros_R1, 0]\r\n",
        "    flat_search2 = frame2[:,ros_L2:ros_R2, 0]\r\n",
        "\r\n",
        "    #reshape varying the last dimension first\r\n",
        "    flat_search1 = np.reshape(flat_search1, ((ros_R1-ros_L1)*140,1))\r\n",
        "    flat_search2 = np.reshape(flat_search2, ((ros_R2-ros_L2)*140,1))\r\n",
        "\r\n",
        "    idx1 = np.argmax(flat_search1<255)\r\n",
        "    point1 = [idx1//120, idx1%120] \r\n",
        "    point1 = (point1[0], point1[1]-60)\r\n",
        "    pole_pos1 = (point1[0], cart_pos1 + point1[1])\r\n",
        "    pole_rel_pos1 = point1[1]\r\n",
        "\r\n",
        "    idx2 = np.argmax(flat_search2<255)\r\n",
        "    point2 = [idx2//120, idx2%120]\r\n",
        "    point2 = (point2[0], point2[1]-60)\r\n",
        "    pole_pos2 = (point2[0], cart_pos2 + point2[1])\r\n",
        "    pole_rel_pos2 = point2[1]\r\n",
        "\r\n",
        "    pole_vel = pole_rel_pos2 - pole_rel_pos1\r\n",
        "\r\n",
        "    #normalize the values\r\n",
        "    #[-1,+1] range\r\n",
        "    cart_pos2 = (cart_pos2 - 300) / 100\r\n",
        "    cart_vel = cart_vel/10\r\n",
        "    pole_rel_pos2 = pole_rel_pos2/10\r\n",
        "    pole_vel = pole_vel/10\r\n",
        "\r\n",
        "\r\n",
        "    return cart_pos2, cart_vel, pole_rel_pos2, pole_vel"
      ],
      "execution_count": 14,
      "outputs": []
    },
    {
      "cell_type": "code",
      "metadata": {
        "id": "cQEyGibgghsF"
      },
      "source": [
        "def state_from_image2(frame_list):\r\n",
        "    ''''\r\n",
        "    it takes 3 frames, observation space 6 dimensions\r\n",
        "    ''' \r\n",
        "\r\n",
        "    cart_pos_list = []\r\n",
        "    pole_rel_pos_list = []\r\n",
        "    for frame in frame_list:\r\n",
        "        frame = frame[160:300]\r\n",
        "        # cart_pos = np.mean(np.arange(600)[frame[139,:,0]<255])\r\n",
        "        cart_pos = 24.5 + np.argmin(frame[139,:,0])\r\n",
        "        ros_L = int(max(cart_pos-60, 0))\r\n",
        "        ros_R = int(min(cart_pos+60, np.shape(frame)[1]))\r\n",
        "        flat_search = frame[:,ros_L:ros_R, 0]\r\n",
        "        flat_search = np.reshape(flat_search, ((ros_R-ros_L)*140,1))\r\n",
        "        idx = np.argmax(flat_search<255)\r\n",
        "        point = [idx//120, idx%120] \r\n",
        "        point = (point[0], point[1]-60)\r\n",
        "        pole_pos = (point[0], cart_pos + point[1])\r\n",
        "        pole_rel_pos = point[1]\r\n",
        "\r\n",
        "        cart_pos_list.append(cart_pos)\r\n",
        "        pole_rel_pos_list.append(pole_rel_pos)\r\n",
        "        #######\r\n",
        "    \r\n",
        "    cart_vel = cart_pos_list[-1] - cart_pos_list[-2]\r\n",
        "    cart_acc = cart_vel - (cart_pos_list[-2] - cart_pos_list[-3])\r\n",
        "\r\n",
        "    pole_vel = pole_rel_pos_list[-1] - pole_rel_pos_list[-2]\r\n",
        "    pole_acc = pole_vel - (pole_rel_pos_list[-2] - pole_rel_pos_list[-3])\r\n",
        "\r\n",
        "    #reduce the range of values\r\n",
        "    cart_pos_out = (cart_pos_list[-1] - 300) / 100\r\n",
        "    pole_rel_pos_out = pole_rel_pos_list[-1] / 10\r\n",
        "\r\n",
        "    cart_vel = cart_vel / 10\r\n",
        "    cart_acc = cart_acc / 1\r\n",
        "    pole_vel = pole_vel / 10\r\n",
        "    pole_acc = pole_acc / 1\r\n",
        "\r\n",
        "    return cart_pos_out, cart_vel, cart_acc, pole_rel_pos_out, pole_vel, pole_acc\r\n"
      ],
      "execution_count": 15,
      "outputs": []
    },
    {
      "cell_type": "markdown",
      "metadata": {
        "id": "-rdsRx6wfZw1"
      },
      "source": [
        "### Network definition"
      ]
    },
    {
      "cell_type": "markdown",
      "metadata": {
        "id": "nJjj8rIGJ-mw"
      },
      "source": [
        "using a dueling deep q network\r\n",
        "reference https://towardsdatascience.com/dueling-deep-q-networks-81ffab672751"
      ]
    },
    {
      "cell_type": "code",
      "metadata": {
        "id": "W41rXekb8x7K"
      },
      "source": [
        "class DQN(nn.Module):\n",
        "\n",
        "    def __init__(self, state_space_dim, action_space_dim, layer_size):\n",
        "        super().__init__()\n",
        "\n",
        "        self.feature_layer = nn.Sequential(\n",
        "                nn.Linear(state_space_dim, layer_size),\n",
        "                nn.ReLU(True),\n",
        "\n",
        "                nn.Linear(layer_size, layer_size),\n",
        "                nn.ReLU(True),\n",
        "\n",
        "                # nn.Linear(layer_size, layer_size),\n",
        "                # nn.ReLU(True),\n",
        "                )\n",
        "        \n",
        "        self.value_stream = nn.Sequential(\n",
        "            nn.Linear(layer_size, layer_size),\n",
        "            nn.ReLU(),\n",
        "            nn.Linear(layer_size, 1)\n",
        "        )\n",
        "\n",
        "        self.advantage_stream = nn.Sequential(\n",
        "            nn.Linear(layer_size, layer_size),\n",
        "            nn.ReLU(),\n",
        "            nn.Linear(layer_size, action_space_dim)\n",
        "        )\n",
        "\n",
        "    def forward(self, x):\n",
        "        features = self.feature_layer(x)\n",
        "        values = self.value_stream(features)\n",
        "        advantages = self.advantage_stream(features)\n",
        "        qvals = values + (advantages - advantages.mean())\n",
        "\n",
        "        return qvals"
      ],
      "execution_count": 16,
      "outputs": []
    },
    {
      "cell_type": "markdown",
      "metadata": {
        "id": "9KXpjzf2vdeL"
      },
      "source": [
        "## Network update"
      ]
    },
    {
      "cell_type": "markdown",
      "metadata": {
        "id": "LQUTrt8DzJXO"
      },
      "source": [
        "### Update function"
      ]
    },
    {
      "cell_type": "code",
      "metadata": {
        "id": "Sj1hEvPOvkBX"
      },
      "source": [
        "def update_step(policy_net, target_net, replay_mem, gamma, optimizer, loss_fn, batch_size):\n",
        "        \n",
        "    # Sample the data from the replay memory\n",
        "    batch = replay_mem.sample(batch_size)\n",
        "    batch_size = len(batch)\n",
        "\n",
        "    # Create tensors for each element of the batch\n",
        "    states      = torch.tensor([s[0] for s in batch], dtype=torch.float32)\n",
        "    actions     = torch.tensor([s[1] for s in batch], dtype=torch.int64)\n",
        "    rewards     = torch.tensor([s[3] for s in batch], dtype=torch.float32)\n",
        "\n",
        "    # Compute a mask of non-final states (all the elements where the next state is not None)\n",
        "    non_final_next_states = torch.tensor([s[2] for s in batch if s[2] is not None], dtype=torch.float32) # the next state can be None if the game has ended\n",
        "    non_final_mask = torch.tensor([s[2] is not None for s in batch], dtype=torch.bool)\n",
        "\n",
        "    # Compute all the Q values (forward pass)\n",
        "    policy_net.train()\n",
        "    q_values = policy_net(states)\n",
        "    # Select the proper Q value for the corresponding action taken Q(s_t, a)\n",
        "    state_action_values = q_values.gather(1, actions.unsqueeze(1))\n",
        "\n",
        "    # Compute the value function of the next states using the target network V(s_{t+1}) = max_a( Q_target(s_{t+1}, a)) )\n",
        "    with torch.no_grad():\n",
        "      target_net.eval()\n",
        "      q_values_target = target_net(non_final_next_states)\n",
        "    next_state_max_q_values = torch.zeros(batch_size)\n",
        "    next_state_max_q_values[non_final_mask] = q_values_target.max(dim=1)[0]\n",
        "\n",
        "    # Compute the expected Q values\n",
        "    expected_state_action_values = rewards + (next_state_max_q_values * gamma)\n",
        "    expected_state_action_values = expected_state_action_values.unsqueeze(1) # Set the required tensor shape\n",
        "\n",
        "    # Compute the Huber loss\n",
        "    loss = loss_fn(state_action_values, expected_state_action_values)\n",
        "\n",
        "    # Optimize the model\n",
        "    optimizer.zero_grad()\n",
        "    loss.backward()\n",
        "    # Apply gradient clipping (clip all the gradients greater than 2 for training stability)\n",
        "    nn.utils.clip_grad_norm_(policy_net.parameters(), 2)\n",
        "    optimizer.step()"
      ],
      "execution_count": 17,
      "outputs": []
    },
    {
      "cell_type": "markdown",
      "metadata": {
        "id": "03Ab0RMB5CCC"
      },
      "source": [
        "## Training loop with softmax policy"
      ]
    },
    {
      "cell_type": "code",
      "metadata": {
        "id": "WF6Zf53FoRDZ"
      },
      "source": [
        "# Set random seeds\n",
        "torch.manual_seed(0)\n",
        "np.random.seed(0)\n",
        "random.seed(0)\n",
        "\n",
        "def running_mean(x, N):\n",
        "    cumsum = np.cumsum(np.insert(x, 0, 0)) \n",
        "    return (cumsum[N:] - cumsum[:-N]) / float(N)\n",
        "\n",
        "### PARAMETERS\n",
        "gamma = 0.97   # gamma parameter for the long term reward\n",
        "replay_memory_capacity = 10000   # Replay memory capacity\n",
        "lr = 1e-2   # Optimizer learning rate\n",
        "target_net_update_steps = 10   # Number of episodes to wait before updating the target network\n",
        "batch_size = 128  # Number of samples to take from the replay memory for each update\n",
        "bad_state_penalty = 0   # Penalty to the reward when we are in a bad state (in this case when the pole falls down) \n",
        "min_samples_for_training = 1000   # Minimum samples in the replay memory to enable the training\n",
        "\n",
        "layer_size = 128\n",
        "\n",
        "# depending on the state_from_image function\n",
        "state_space_dim = 6     #6 for state_from_image2\n",
        "action_space_dim = 2\n",
        "\n",
        "### Initialize the replay memory\n",
        "replay_mem = ReplayMemory(replay_memory_capacity)    \n",
        "\n",
        "### Initialize the policy network\n",
        "policy_net = DQN(state_space_dim, action_space_dim, layer_size)\n",
        "\n",
        "### Initialize the target network with the same weights of the policy network\n",
        "target_net = DQN(state_space_dim, action_space_dim, layer_size)\n",
        "target_net.load_state_dict(policy_net.state_dict()) # This will copy the weights of the policy network to the target network\n",
        "\n",
        "### Initialize the optimizer\n",
        "optimizer = torch.optim.SGD(policy_net.parameters(), lr=lr) # The optimizer will update ONLY the parameters of the policy network\n",
        "# optimizer = torch.optim.RMSprop(policy_net.parameters(), lr=lr)\n",
        "\n",
        "### Initialize the loss function (Huber loss)\n",
        "loss_fn = nn.SmoothL1Loss()\n",
        "\n",
        "# Initialize the Gym environment\n",
        "env = gym.make('CartPole-v1') \n",
        "env.seed(0) # Set a random seed for the environment (reproducible results)\n",
        "\n",
        "# This is for creating the output video in Colab, not required outside Colab\n",
        "env = wrap_env(env, video_callable=lambda episode_id: episode_id % 100 == 0) # Save a video every 100 episodes\n",
        "\n",
        "score_record = []\n",
        "win_counter = 0\n",
        "for episode_num, tau in enumerate(exploration_profile):\n",
        "\n",
        "    # Reset the environment and get the initial state\n",
        "    _ = env.reset()\n",
        "    init_frame = env.render(mode=\"rgb_array\")\n",
        "    frame_list = [init_frame, init_frame, init_frame]\n",
        "\n",
        "    image_state = state_from_image2(frame_list)\n",
        "\n",
        "    # Reset the score. The final score will be the total amount of steps before the pole falls\n",
        "    score = 0\n",
        "    done = False\n",
        "\n",
        "    # Go on until the pole falls off\n",
        "    while not done:\n",
        "\n",
        "        # Choose the action following the policy\n",
        "        action, q_values = choose_action_softmax(policy_net, image_state, temperature=tau)\n",
        "        \n",
        "        # Apply the action and get the next state, the reward and a flag \"done\" that is True if the game is ended\n",
        "        _, reward, done, info = env.step(action)\n",
        "\n",
        "        # save the frame in a array\n",
        "        frame_curr = env.render(mode=\"rgb_array\")\n",
        "        frame_list.pop(0)\n",
        "        frame_list.append(frame_curr)\n",
        "\n",
        "        next_image_state = state_from_image2(frame_list)\n",
        "\n",
        "        # We apply a (linear) penalty when the cart is far from center\n",
        "        pos_weight = 1\n",
        "        reward = reward - pos_weight * np.abs(image_state[0]) \n",
        "        # apply penalty also if on the pole angle velocity\n",
        "        pole_weight = 0\n",
        "        reward = reward - pos_weight * np.abs(image_state[3])\n",
        "        pole_weight = 0\n",
        "        reward = reward - pos_weight * np.abs(image_state[4])\n",
        "        pole_weight = 0\n",
        "        reward = reward - pos_weight * np.abs(image_state[5])  \n",
        "\n",
        "        # Update the final score (+1 for each step)\n",
        "        score += 1\n",
        "\n",
        "        # Apply penalty for bad state\n",
        "        if done: # if the pole has fallen down \n",
        "            reward += bad_state_penalty\n",
        "            next_state = None\n",
        "\n",
        "        # Update the replay memory\n",
        "        replay_mem.push(image_state, action, next_image_state, reward)\n",
        "\n",
        "        # Update the network\n",
        "        if len(replay_mem) > min_samples_for_training: # we enable the training only if we have enough samples in the replay memory, otherwise the training will use the same samples too often\n",
        "            update_step(policy_net, target_net, replay_mem, gamma, optimizer, loss_fn, batch_size)\n",
        "\n",
        "        # Visually render the environment (disable to speed up the training)\n",
        "        env.render()\n",
        "\n",
        "        # Set the current state for the next iteration\n",
        "        image_state = next_image_state\n",
        "\n",
        "    # Update the target network every target_net_update_steps episodes\n",
        "    if episode_num % target_net_update_steps == 0:\n",
        "        print('Updating target network...')\n",
        "        target_net.load_state_dict(policy_net.state_dict()) # This will copy the weights of the policy network to the target network\n",
        "        # win_counter = 0\n",
        "    score_record.append(score)\n",
        "\n",
        "    if score == 500:\n",
        "        win_counter +=1\n",
        "    else:\n",
        "        win_score = 0\n",
        "    # Print the final score\n",
        "    print(f\"EPISODE: {episode_num + 1} - FINAL SCORE: {score} - Temperature: {tau}\") # Print the final score\n",
        "\n",
        "    #exit if we have 10 consecutive wins with the same net\n",
        "    if win_counter == target_net_update_steps:\n",
        "        break\n",
        "env.close()"
      ],
      "execution_count": null,
      "outputs": []
    },
    {
      "cell_type": "code",
      "metadata": {
        "id": "5xIRGZjD77D2",
        "colab": {
          "base_uri": "https://localhost:8080/",
          "height": 265
        },
        "outputId": "dd8f3280-808a-447f-f3e3-e72e6dabeb1e"
      },
      "source": [
        "def running_mean(x, N):\r\n",
        "    cumsum = np.cumsum(np.insert(x, 0, 0)) \r\n",
        "    return (cumsum[N:] - cumsum[:-N]) / float(N)\r\n",
        "\r\n",
        "plt.plot(score_record)\r\n",
        "plt.plot(running_mean(score_record,30))\r\n",
        "plt.plot(running_mean(score_record,100))\r\n",
        "# plt.plot(running_mean(running_mean(score_record,10),10))\r\n",
        "# plt.ylim([0,500])\r\n",
        "plt.grid(linestyle=\":\")"
      ],
      "execution_count": 30,
      "outputs": [
        {
          "output_type": "display_data",
          "data": {
            "image/png": "[encoded data removed]",
            "text/plain": [
              "<Figure size 432x288 with 1 Axes>"
            ]
          },
          "metadata": {
            "tags": [],
            "needs_background": "light"
          }
        }
      ]
    },
    {
      "cell_type": "code",
      "metadata": {
        "id": "7FQjjVTiP2T6"
      },
      "source": [
        "# Display the videos, not required outside Colab\n",
        "# show_videos()"
      ],
      "execution_count": null,
      "outputs": []
    },
    {
      "cell_type": "markdown",
      "metadata": {
        "id": "LoMkXR5W4Ar8"
      },
      "source": [
        "## training with greedy policy"
      ]
    },
    {
      "cell_type": "code",
      "metadata": {
        "id": "YsWF9_mx4ANJ",
        "colab": {
          "base_uri": "https://localhost:8080/"
        },
        "outputId": "fadb56fa-04dd-40ab-8895-8fbe51cc0ad6"
      },
      "source": [
        "# Set random seeds\r\n",
        "torch.manual_seed(0)\r\n",
        "np.random.seed(0)\r\n",
        "random.seed(0)\r\n",
        "\r\n",
        "def running_mean(x, N):\r\n",
        "    cumsum = np.cumsum(np.insert(x, 0, 0)) \r\n",
        "    return (cumsum[N:] - cumsum[:-N]) / float(N)\r\n",
        "\r\n",
        "### PARAMETERS\r\n",
        "gamma = 0.97   # gamma parameter for the long term reward\r\n",
        "replay_memory_capacity = 10000   # Replay memory capacity\r\n",
        "lr = 1e-2   # Optimizer learning rate\r\n",
        "target_net_update_steps = 10   # Number of episodes to wait before updating the target network\r\n",
        "batch_size = 128  # Number of samples to take from the replay memory for each update\r\n",
        "bad_state_penalty = 0   # Penalty to the reward when we are in a bad state (in this case when the pole falls down) \r\n",
        "min_samples_for_training = 1000   # Minimum samples in the replay memory to enable the training\r\n",
        "\r\n",
        "layer_size = 128\r\n",
        "\r\n",
        "# depending on the state_from_image function\r\n",
        "state_space_dim = 6     #6 for state_from_image2\r\n",
        "action_space_dim = 2\r\n",
        "\r\n",
        "### Initialize the replay memory\r\n",
        "replay_mem = ReplayMemory(replay_memory_capacity)    \r\n",
        "\r\n",
        "### Initialize the policy network\r\n",
        "policy_net = DQN(state_space_dim, action_space_dim, layer_size)\r\n",
        "\r\n",
        "### Initialize the target network with the same weights of the policy network\r\n",
        "target_net = DQN(state_space_dim, action_space_dim, layer_size)\r\n",
        "target_net.load_state_dict(policy_net.state_dict()) # This will copy the weights of the policy network to the target network\r\n",
        "\r\n",
        "### Initialize the optimizer\r\n",
        "optimizer = torch.optim.SGD(policy_net.parameters(), lr=lr) # The optimizer will update ONLY the parameters of the policy network\r\n",
        "# optimizer = torch.optim.RMSprop(policy_net.parameters(), lr=lr)\r\n",
        "\r\n",
        "### Initialize the loss function (Huber loss)\r\n",
        "loss_fn = nn.SmoothL1Loss()\r\n",
        "\r\n",
        "\r\n",
        "# Initialize the Gym environment\r\n",
        "env = gym.make('CartPole-v1') \r\n",
        "env.seed(0) # Set a random seed for the environment (reproducible results)\r\n",
        "\r\n",
        "# This is for creating the output video in Colab, not required outside Colab\r\n",
        "env = wrap_env(env, video_callable=lambda episode_id: episode_id % 100 == 0) # Save a video every 100 episodes\r\n",
        "\r\n",
        "num_iterations = 1000\r\n",
        "epsilon = 0.06\r\n",
        "\r\n",
        "score_record = []\r\n",
        "frame_list = []\r\n",
        "\r\n",
        "win_counter = 0\r\n",
        "# for episode_num, tau in enumerate(exploration_profile):\r\n",
        "for episode_num in range(num_iterations):\r\n",
        "\r\n",
        "    if score % 2 == 0:\r\n",
        "            epsilon = 0\r\n",
        "\r\n",
        "    # Reset the environment and get the initial state\r\n",
        "    _ = env.reset()\r\n",
        "    # frame_past = env.render(mode=\"rgb_array\")\r\n",
        "    init_frame = env.render(mode=\"rgb_array\")\r\n",
        "    frame_list = [init_frame, init_frame, init_frame]\r\n",
        "\r\n",
        "    image_state = state_from_image2(frame_list)\r\n",
        "\r\n",
        "    # Reset the score. The final score will be the total amount of steps before the pole falls\r\n",
        "    score = 0\r\n",
        "    done = False\r\n",
        "\r\n",
        "    verbose = True\r\n",
        "\r\n",
        "    # Go on until the pole falls off\r\n",
        "    while not done:\r\n",
        "\r\n",
        "        if score % 2 == 0:\r\n",
        "            epsilon = 0\r\n",
        "        action, q_values = choose_action_epsilon_greedy(policy_net, image_state, epsilon) \r\n",
        "        \r\n",
        "        # Apply the action and get the next state, the reward and a flag \"done\" that is True if the game is ended\r\n",
        "        _, reward, done, info = env.step(action)\r\n",
        "\r\n",
        "\r\n",
        "\r\n",
        "        # save the frame in a array\r\n",
        "        frame_curr = env.render(mode=\"rgb_array\")\r\n",
        "        frame_list.pop(0)\r\n",
        "        frame_list.append(frame_curr)\r\n",
        "\r\n",
        "        next_image_state = state_from_image2(frame_list)\r\n",
        "\r\n",
        "        # We apply a (linear) penalty when the cart is far from center\r\n",
        "        pos_weight = 0.1\r\n",
        "        reward = reward - pos_weight * np.abs(image_state[0]) \r\n",
        "        # apply penalty also if on the pole angle velocity\r\n",
        "        pole_weight = 0.1\r\n",
        "        reward = reward - pos_weight * np.abs(image_state[3])\r\n",
        "        # pole_weight = 1\r\n",
        "        # reward = reward - pos_weight * np.abs(image_state[4])\r\n",
        "        # pole_weight = 1\r\n",
        "        # reward = reward - pos_weight * np.abs(image_state[5])  \r\n",
        "\r\n",
        "        # Update the final score (+1 for each step)\r\n",
        "        score += 1\r\n",
        "\r\n",
        "        # Apply penalty for bad state\r\n",
        "        if done: # if the pole has fallen down \r\n",
        "            reward += bad_state_penalty\r\n",
        "            next_image_state = None\r\n",
        "\r\n",
        "        # Update the replay memory\r\n",
        "        replay_mem.push(image_state, action, next_image_state, reward)\r\n",
        "\r\n",
        "        # Update the network\r\n",
        "        if len(replay_mem) > min_samples_for_training: # we enable the training only if we have enough samples in the replay memory, otherwise the training will use the same samples too often\r\n",
        "            update_step(policy_net, target_net, replay_mem, gamma, optimizer, loss_fn, batch_size)\r\n",
        "\r\n",
        "\r\n",
        "        # print(np.shape(frame))\r\n",
        "        # call  image process\r\n",
        "        # print(state_from_image(frame))\r\n",
        "\r\n",
        "        # Set the current state for the next iteration\r\n",
        "        image_state = next_image_state\r\n",
        "        # frame_past = frame_curr\r\n",
        "\r\n",
        "        # if verbose:\r\n",
        "        #     if episode_num % 200 == 0 :\r\n",
        "        #         print(image_state)\r\n",
        "\r\n",
        "    # Update the target network every target_net_update_steps episodes\r\n",
        "    if episode_num % target_net_update_steps == 0:\r\n",
        "        if verbose:\r\n",
        "            print('Updating target network...')\r\n",
        "        target_net.load_state_dict(policy_net.state_dict()) # This will copy the weights of the policy network to the target network\r\n",
        "        # win_counter = 0\r\n",
        "    score_record.append(score)\r\n",
        "\r\n",
        "    if score == 500:\r\n",
        "        win_counter +=1\r\n",
        "    else:\r\n",
        "        win_counter = 0\r\n",
        "    # Print the final score\r\n",
        "    if verbose:\r\n",
        "        print(f\"EPISODE: {episode_num + 1} - FINAL SCORE: {score} - Epsilon: {epsilon}\") # Print the final score\r\n",
        "\r\n",
        "    # #exit if we have 10 consecutive wins with the same net\r\n",
        "    # if win_counter == target_net_update_steps:\r\n",
        "    #     break\r\n",
        "\r\n",
        "    \r\n",
        "env.close()"
      ],
      "execution_count": 23,
      "outputs": [
        {
          "output_type": "stream",
          "text": [
            "Updating target network...\n",
            "EPISODE: 1 - FINAL SCORE: 13 - Epsilon: 0\n",
            "EPISODE: 2 - FINAL SCORE: 14 - Epsilon: 0\n",
            "EPISODE: 3 - FINAL SCORE: 18 - Epsilon: 0\n",
            "EPISODE: 4 - FINAL SCORE: 13 - Epsilon: 0\n",
            "EPISODE: 5 - FINAL SCORE: 14 - Epsilon: 0\n",
            "EPISODE: 6 - FINAL SCORE: 16 - Epsilon: 0\n",
            "EPISODE: 7 - FINAL SCORE: 12 - Epsilon: 0\n",
            "EPISODE: 8 - FINAL SCORE: 17 - Epsilon: 0\n",
            "EPISODE: 9 - FINAL SCORE: 13 - Epsilon: 0\n",
            "EPISODE: 10 - FINAL SCORE: 18 - Epsilon: 0\n",
            "Updating target network...\n",
            "EPISODE: 11 - FINAL SCORE: 15 - Epsilon: 0\n",
            "EPISODE: 12 - FINAL SCORE: 12 - Epsilon: 0\n",
            "EPISODE: 13 - FINAL SCORE: 15 - Epsilon: 0\n",
            "EPISODE: 14 - FINAL SCORE: 17 - Epsilon: 0\n",
            "EPISODE: 15 - FINAL SCORE: 10 - Epsilon: 0\n",
            "EPISODE: 16 - FINAL SCORE: 14 - Epsilon: 0\n",
            "EPISODE: 17 - FINAL SCORE: 12 - Epsilon: 0\n",
            "EPISODE: 18 - FINAL SCORE: 17 - Epsilon: 0\n",
            "EPISODE: 19 - FINAL SCORE: 12 - Epsilon: 0\n",
            "EPISODE: 20 - FINAL SCORE: 13 - Epsilon: 0\n",
            "Updating target network...\n",
            "EPISODE: 21 - FINAL SCORE: 13 - Epsilon: 0\n",
            "EPISODE: 22 - FINAL SCORE: 12 - Epsilon: 0\n",
            "EPISODE: 23 - FINAL SCORE: 11 - Epsilon: 0\n",
            "EPISODE: 24 - FINAL SCORE: 10 - Epsilon: 0\n",
            "EPISODE: 25 - FINAL SCORE: 16 - Epsilon: 0\n",
            "EPISODE: 26 - FINAL SCORE: 11 - Epsilon: 0\n",
            "EPISODE: 27 - FINAL SCORE: 11 - Epsilon: 0\n",
            "EPISODE: 28 - FINAL SCORE: 22 - Epsilon: 0\n",
            "EPISODE: 29 - FINAL SCORE: 15 - Epsilon: 0\n",
            "EPISODE: 30 - FINAL SCORE: 14 - Epsilon: 0\n",
            "Updating target network...\n",
            "EPISODE: 31 - FINAL SCORE: 13 - Epsilon: 0\n",
            "EPISODE: 32 - FINAL SCORE: 19 - Epsilon: 0\n",
            "EPISODE: 33 - FINAL SCORE: 15 - Epsilon: 0\n",
            "EPISODE: 34 - FINAL SCORE: 14 - Epsilon: 0\n",
            "EPISODE: 35 - FINAL SCORE: 16 - Epsilon: 0\n",
            "EPISODE: 36 - FINAL SCORE: 11 - Epsilon: 0\n",
            "EPISODE: 37 - FINAL SCORE: 12 - Epsilon: 0\n",
            "EPISODE: 38 - FINAL SCORE: 11 - Epsilon: 0\n",
            "EPISODE: 39 - FINAL SCORE: 19 - Epsilon: 0\n",
            "EPISODE: 40 - FINAL SCORE: 13 - Epsilon: 0\n",
            "Updating target network...\n",
            "EPISODE: 41 - FINAL SCORE: 14 - Epsilon: 0\n",
            "EPISODE: 42 - FINAL SCORE: 17 - Epsilon: 0\n",
            "EPISODE: 43 - FINAL SCORE: 16 - Epsilon: 0\n",
            "EPISODE: 44 - FINAL SCORE: 11 - Epsilon: 0\n",
            "EPISODE: 45 - FINAL SCORE: 18 - Epsilon: 0\n",
            "EPISODE: 46 - FINAL SCORE: 19 - Epsilon: 0\n",
            "EPISODE: 47 - FINAL SCORE: 11 - Epsilon: 0\n",
            "EPISODE: 48 - FINAL SCORE: 10 - Epsilon: 0\n",
            "EPISODE: 49 - FINAL SCORE: 20 - Epsilon: 0\n",
            "EPISODE: 50 - FINAL SCORE: 10 - Epsilon: 0\n",
            "Updating target network...\n",
            "EPISODE: 51 - FINAL SCORE: 11 - Epsilon: 0\n",
            "EPISODE: 52 - FINAL SCORE: 10 - Epsilon: 0\n",
            "EPISODE: 53 - FINAL SCORE: 11 - Epsilon: 0\n",
            "EPISODE: 54 - FINAL SCORE: 10 - Epsilon: 0\n",
            "EPISODE: 55 - FINAL SCORE: 11 - Epsilon: 0\n",
            "EPISODE: 56 - FINAL SCORE: 11 - Epsilon: 0\n",
            "EPISODE: 57 - FINAL SCORE: 18 - Epsilon: 0\n",
            "EPISODE: 58 - FINAL SCORE: 16 - Epsilon: 0\n",
            "EPISODE: 59 - FINAL SCORE: 12 - Epsilon: 0\n",
            "EPISODE: 60 - FINAL SCORE: 17 - Epsilon: 0\n",
            "Updating target network...\n",
            "EPISODE: 61 - FINAL SCORE: 23 - Epsilon: 0\n",
            "EPISODE: 62 - FINAL SCORE: 12 - Epsilon: 0\n",
            "EPISODE: 63 - FINAL SCORE: 16 - Epsilon: 0\n",
            "EPISODE: 64 - FINAL SCORE: 13 - Epsilon: 0\n",
            "EPISODE: 65 - FINAL SCORE: 15 - Epsilon: 0\n",
            "EPISODE: 66 - FINAL SCORE: 12 - Epsilon: 0\n",
            "EPISODE: 67 - FINAL SCORE: 12 - Epsilon: 0\n",
            "EPISODE: 68 - FINAL SCORE: 14 - Epsilon: 0\n",
            "EPISODE: 69 - FINAL SCORE: 12 - Epsilon: 0\n",
            "EPISODE: 70 - FINAL SCORE: 10 - Epsilon: 0\n",
            "Updating target network...\n",
            "EPISODE: 71 - FINAL SCORE: 14 - Epsilon: 0\n",
            "EPISODE: 72 - FINAL SCORE: 12 - Epsilon: 0\n",
            "EPISODE: 73 - FINAL SCORE: 10 - Epsilon: 0\n",
            "EPISODE: 74 - FINAL SCORE: 9 - Epsilon: 0\n",
            "EPISODE: 75 - FINAL SCORE: 8 - Epsilon: 0\n",
            "EPISODE: 76 - FINAL SCORE: 10 - Epsilon: 0\n",
            "EPISODE: 77 - FINAL SCORE: 10 - Epsilon: 0\n",
            "EPISODE: 78 - FINAL SCORE: 10 - Epsilon: 0\n",
            "EPISODE: 79 - FINAL SCORE: 9 - Epsilon: 0\n",
            "EPISODE: 80 - FINAL SCORE: 10 - Epsilon: 0\n",
            "Updating target network...\n",
            "EPISODE: 81 - FINAL SCORE: 10 - Epsilon: 0\n",
            "EPISODE: 82 - FINAL SCORE: 9 - Epsilon: 0\n",
            "EPISODE: 83 - FINAL SCORE: 10 - Epsilon: 0\n",
            "EPISODE: 84 - FINAL SCORE: 11 - Epsilon: 0\n",
            "EPISODE: 85 - FINAL SCORE: 10 - Epsilon: 0\n",
            "EPISODE: 86 - FINAL SCORE: 10 - Epsilon: 0\n",
            "EPISODE: 87 - FINAL SCORE: 10 - Epsilon: 0\n",
            "EPISODE: 88 - FINAL SCORE: 11 - Epsilon: 0\n",
            "EPISODE: 89 - FINAL SCORE: 8 - Epsilon: 0\n",
            "EPISODE: 90 - FINAL SCORE: 8 - Epsilon: 0\n",
            "Updating target network...\n",
            "EPISODE: 91 - FINAL SCORE: 10 - Epsilon: 0\n",
            "EPISODE: 92 - FINAL SCORE: 10 - Epsilon: 0\n",
            "EPISODE: 93 - FINAL SCORE: 9 - Epsilon: 0\n",
            "EPISODE: 94 - FINAL SCORE: 9 - Epsilon: 0\n",
            "EPISODE: 95 - FINAL SCORE: 9 - Epsilon: 0\n",
            "EPISODE: 96 - FINAL SCORE: 8 - Epsilon: 0\n",
            "EPISODE: 97 - FINAL SCORE: 10 - Epsilon: 0\n",
            "EPISODE: 98 - FINAL SCORE: 9 - Epsilon: 0\n",
            "EPISODE: 99 - FINAL SCORE: 8 - Epsilon: 0\n",
            "EPISODE: 100 - FINAL SCORE: 9 - Epsilon: 0\n",
            "Updating target network...\n",
            "EPISODE: 101 - FINAL SCORE: 9 - Epsilon: 0\n",
            "EPISODE: 102 - FINAL SCORE: 10 - Epsilon: 0\n",
            "EPISODE: 103 - FINAL SCORE: 9 - Epsilon: 0\n",
            "EPISODE: 104 - FINAL SCORE: 9 - Epsilon: 0\n",
            "EPISODE: 105 - FINAL SCORE: 9 - Epsilon: 0\n",
            "EPISODE: 106 - FINAL SCORE: 9 - Epsilon: 0\n",
            "EPISODE: 107 - FINAL SCORE: 9 - Epsilon: 0\n",
            "EPISODE: 108 - FINAL SCORE: 10 - Epsilon: 0\n",
            "EPISODE: 109 - FINAL SCORE: 10 - Epsilon: 0\n",
            "EPISODE: 110 - FINAL SCORE: 9 - Epsilon: 0\n",
            "Updating target network...\n",
            "EPISODE: 111 - FINAL SCORE: 9 - Epsilon: 0\n",
            "EPISODE: 112 - FINAL SCORE: 10 - Epsilon: 0\n",
            "EPISODE: 113 - FINAL SCORE: 10 - Epsilon: 0\n",
            "EPISODE: 114 - FINAL SCORE: 9 - Epsilon: 0\n",
            "EPISODE: 115 - FINAL SCORE: 9 - Epsilon: 0\n",
            "EPISODE: 116 - FINAL SCORE: 9 - Epsilon: 0\n",
            "EPISODE: 117 - FINAL SCORE: 11 - Epsilon: 0\n",
            "EPISODE: 118 - FINAL SCORE: 11 - Epsilon: 0\n",
            "EPISODE: 119 - FINAL SCORE: 9 - Epsilon: 0\n",
            "EPISODE: 120 - FINAL SCORE: 8 - Epsilon: 0\n",
            "Updating target network...\n",
            "EPISODE: 121 - FINAL SCORE: 11 - Epsilon: 0\n",
            "EPISODE: 122 - FINAL SCORE: 10 - Epsilon: 0\n",
            "EPISODE: 123 - FINAL SCORE: 11 - Epsilon: 0\n",
            "EPISODE: 124 - FINAL SCORE: 8 - Epsilon: 0\n",
            "EPISODE: 125 - FINAL SCORE: 9 - Epsilon: 0\n",
            "EPISODE: 126 - FINAL SCORE: 10 - Epsilon: 0\n",
            "EPISODE: 127 - FINAL SCORE: 10 - Epsilon: 0\n",
            "EPISODE: 128 - FINAL SCORE: 11 - Epsilon: 0\n",
            "EPISODE: 129 - FINAL SCORE: 11 - Epsilon: 0\n",
            "EPISODE: 130 - FINAL SCORE: 10 - Epsilon: 0\n",
            "Updating target network...\n",
            "EPISODE: 131 - FINAL SCORE: 8 - Epsilon: 0\n",
            "EPISODE: 132 - FINAL SCORE: 10 - Epsilon: 0\n",
            "EPISODE: 133 - FINAL SCORE: 11 - Epsilon: 0\n",
            "EPISODE: 134 - FINAL SCORE: 11 - Epsilon: 0\n",
            "EPISODE: 135 - FINAL SCORE: 11 - Epsilon: 0\n",
            "EPISODE: 136 - FINAL SCORE: 10 - Epsilon: 0\n",
            "EPISODE: 137 - FINAL SCORE: 9 - Epsilon: 0\n",
            "EPISODE: 138 - FINAL SCORE: 10 - Epsilon: 0\n",
            "EPISODE: 139 - FINAL SCORE: 14 - Epsilon: 0\n",
            "EPISODE: 140 - FINAL SCORE: 9 - Epsilon: 0\n",
            "Updating target network...\n",
            "EPISODE: 141 - FINAL SCORE: 9 - Epsilon: 0\n",
            "EPISODE: 142 - FINAL SCORE: 12 - Epsilon: 0\n",
            "EPISODE: 143 - FINAL SCORE: 11 - Epsilon: 0\n",
            "EPISODE: 144 - FINAL SCORE: 9 - Epsilon: 0\n",
            "EPISODE: 145 - FINAL SCORE: 10 - Epsilon: 0\n",
            "EPISODE: 146 - FINAL SCORE: 9 - Epsilon: 0\n",
            "EPISODE: 147 - FINAL SCORE: 12 - Epsilon: 0\n",
            "EPISODE: 148 - FINAL SCORE: 13 - Epsilon: 0\n",
            "EPISODE: 149 - FINAL SCORE: 11 - Epsilon: 0\n",
            "EPISODE: 150 - FINAL SCORE: 10 - Epsilon: 0\n",
            "Updating target network...\n",
            "EPISODE: 151 - FINAL SCORE: 10 - Epsilon: 0\n",
            "EPISODE: 152 - FINAL SCORE: 12 - Epsilon: 0\n",
            "EPISODE: 153 - FINAL SCORE: 11 - Epsilon: 0\n",
            "EPISODE: 154 - FINAL SCORE: 10 - Epsilon: 0\n",
            "EPISODE: 155 - FINAL SCORE: 9 - Epsilon: 0\n",
            "EPISODE: 156 - FINAL SCORE: 13 - Epsilon: 0\n",
            "EPISODE: 157 - FINAL SCORE: 11 - Epsilon: 0\n",
            "EPISODE: 158 - FINAL SCORE: 10 - Epsilon: 0\n",
            "EPISODE: 159 - FINAL SCORE: 12 - Epsilon: 0\n",
            "EPISODE: 160 - FINAL SCORE: 9 - Epsilon: 0\n",
            "Updating target network...\n",
            "EPISODE: 161 - FINAL SCORE: 11 - Epsilon: 0\n",
            "EPISODE: 162 - FINAL SCORE: 12 - Epsilon: 0\n",
            "EPISODE: 163 - FINAL SCORE: 11 - Epsilon: 0\n",
            "EPISODE: 164 - FINAL SCORE: 10 - Epsilon: 0\n",
            "EPISODE: 165 - FINAL SCORE: 9 - Epsilon: 0\n",
            "EPISODE: 166 - FINAL SCORE: 10 - Epsilon: 0\n",
            "EPISODE: 167 - FINAL SCORE: 13 - Epsilon: 0\n",
            "EPISODE: 168 - FINAL SCORE: 9 - Epsilon: 0\n",
            "EPISODE: 169 - FINAL SCORE: 11 - Epsilon: 0\n",
            "EPISODE: 170 - FINAL SCORE: 12 - Epsilon: 0\n",
            "Updating target network...\n",
            "EPISODE: 171 - FINAL SCORE: 14 - Epsilon: 0\n",
            "EPISODE: 172 - FINAL SCORE: 10 - Epsilon: 0\n",
            "EPISODE: 173 - FINAL SCORE: 12 - Epsilon: 0\n",
            "EPISODE: 174 - FINAL SCORE: 11 - Epsilon: 0\n",
            "EPISODE: 175 - FINAL SCORE: 12 - Epsilon: 0\n",
            "EPISODE: 176 - FINAL SCORE: 90 - Epsilon: 0\n",
            "EPISODE: 177 - FINAL SCORE: 59 - Epsilon: 0\n",
            "EPISODE: 178 - FINAL SCORE: 53 - Epsilon: 0\n",
            "EPISODE: 179 - FINAL SCORE: 12 - Epsilon: 0\n",
            "EPISODE: 180 - FINAL SCORE: 71 - Epsilon: 0\n",
            "Updating target network...\n",
            "EPISODE: 181 - FINAL SCORE: 46 - Epsilon: 0\n",
            "EPISODE: 182 - FINAL SCORE: 90 - Epsilon: 0\n",
            "EPISODE: 183 - FINAL SCORE: 173 - Epsilon: 0\n",
            "EPISODE: 184 - FINAL SCORE: 27 - Epsilon: 0\n",
            "EPISODE: 185 - FINAL SCORE: 44 - Epsilon: 0\n",
            "EPISODE: 186 - FINAL SCORE: 94 - Epsilon: 0\n",
            "EPISODE: 187 - FINAL SCORE: 84 - Epsilon: 0\n",
            "EPISODE: 188 - FINAL SCORE: 24 - Epsilon: 0\n",
            "EPISODE: 189 - FINAL SCORE: 31 - Epsilon: 0\n",
            "EPISODE: 190 - FINAL SCORE: 18 - Epsilon: 0\n",
            "Updating target network...\n",
            "EPISODE: 191 - FINAL SCORE: 14 - Epsilon: 0\n",
            "EPISODE: 192 - FINAL SCORE: 28 - Epsilon: 0\n",
            "EPISODE: 193 - FINAL SCORE: 14 - Epsilon: 0\n",
            "EPISODE: 194 - FINAL SCORE: 9 - Epsilon: 0\n",
            "EPISODE: 195 - FINAL SCORE: 10 - Epsilon: 0\n",
            "EPISODE: 196 - FINAL SCORE: 10 - Epsilon: 0\n",
            "EPISODE: 197 - FINAL SCORE: 9 - Epsilon: 0\n",
            "EPISODE: 198 - FINAL SCORE: 11 - Epsilon: 0\n",
            "EPISODE: 199 - FINAL SCORE: 9 - Epsilon: 0\n",
            "EPISODE: 200 - FINAL SCORE: 10 - Epsilon: 0\n",
            "Updating target network...\n",
            "EPISODE: 201 - FINAL SCORE: 9 - Epsilon: 0\n",
            "EPISODE: 202 - FINAL SCORE: 9 - Epsilon: 0\n",
            "EPISODE: 203 - FINAL SCORE: 10 - Epsilon: 0\n",
            "EPISODE: 204 - FINAL SCORE: 9 - Epsilon: 0\n",
            "EPISODE: 205 - FINAL SCORE: 10 - Epsilon: 0\n",
            "EPISODE: 206 - FINAL SCORE: 10 - Epsilon: 0\n",
            "EPISODE: 207 - FINAL SCORE: 10 - Epsilon: 0\n",
            "EPISODE: 208 - FINAL SCORE: 9 - Epsilon: 0\n",
            "EPISODE: 209 - FINAL SCORE: 10 - Epsilon: 0\n",
            "EPISODE: 210 - FINAL SCORE: 8 - Epsilon: 0\n",
            "Updating target network...\n",
            "EPISODE: 211 - FINAL SCORE: 10 - Epsilon: 0\n",
            "EPISODE: 212 - FINAL SCORE: 10 - Epsilon: 0\n",
            "EPISODE: 213 - FINAL SCORE: 9 - Epsilon: 0\n",
            "EPISODE: 214 - FINAL SCORE: 9 - Epsilon: 0\n",
            "EPISODE: 215 - FINAL SCORE: 10 - Epsilon: 0\n",
            "EPISODE: 216 - FINAL SCORE: 10 - Epsilon: 0\n",
            "EPISODE: 217 - FINAL SCORE: 9 - Epsilon: 0\n",
            "EPISODE: 218 - FINAL SCORE: 10 - Epsilon: 0\n",
            "EPISODE: 219 - FINAL SCORE: 10 - Epsilon: 0\n",
            "EPISODE: 220 - FINAL SCORE: 8 - Epsilon: 0\n",
            "Updating target network...\n",
            "EPISODE: 221 - FINAL SCORE: 9 - Epsilon: 0\n",
            "EPISODE: 222 - FINAL SCORE: 9 - Epsilon: 0\n",
            "EPISODE: 223 - FINAL SCORE: 9 - Epsilon: 0\n",
            "EPISODE: 224 - FINAL SCORE: 9 - Epsilon: 0\n",
            "EPISODE: 225 - FINAL SCORE: 9 - Epsilon: 0\n",
            "EPISODE: 226 - FINAL SCORE: 9 - Epsilon: 0\n",
            "EPISODE: 227 - FINAL SCORE: 9 - Epsilon: 0\n",
            "EPISODE: 228 - FINAL SCORE: 9 - Epsilon: 0\n",
            "EPISODE: 229 - FINAL SCORE: 8 - Epsilon: 0\n",
            "EPISODE: 230 - FINAL SCORE: 9 - Epsilon: 0\n",
            "Updating target network...\n",
            "EPISODE: 231 - FINAL SCORE: 10 - Epsilon: 0\n",
            "EPISODE: 232 - FINAL SCORE: 9 - Epsilon: 0\n",
            "EPISODE: 233 - FINAL SCORE: 10 - Epsilon: 0\n",
            "EPISODE: 234 - FINAL SCORE: 9 - Epsilon: 0\n",
            "EPISODE: 235 - FINAL SCORE: 10 - Epsilon: 0\n",
            "EPISODE: 236 - FINAL SCORE: 8 - Epsilon: 0\n",
            "EPISODE: 237 - FINAL SCORE: 10 - Epsilon: 0\n",
            "EPISODE: 238 - FINAL SCORE: 9 - Epsilon: 0\n",
            "EPISODE: 239 - FINAL SCORE: 9 - Epsilon: 0\n",
            "EPISODE: 240 - FINAL SCORE: 8 - Epsilon: 0\n",
            "Updating target network...\n",
            "EPISODE: 241 - FINAL SCORE: 9 - Epsilon: 0\n",
            "EPISODE: 242 - FINAL SCORE: 8 - Epsilon: 0\n",
            "EPISODE: 243 - FINAL SCORE: 9 - Epsilon: 0\n",
            "EPISODE: 244 - FINAL SCORE: 10 - Epsilon: 0\n",
            "EPISODE: 245 - FINAL SCORE: 10 - Epsilon: 0\n",
            "EPISODE: 246 - FINAL SCORE: 8 - Epsilon: 0\n",
            "EPISODE: 247 - FINAL SCORE: 9 - Epsilon: 0\n",
            "EPISODE: 248 - FINAL SCORE: 9 - Epsilon: 0\n",
            "EPISODE: 249 - FINAL SCORE: 9 - Epsilon: 0\n",
            "EPISODE: 250 - FINAL SCORE: 9 - Epsilon: 0\n",
            "Updating target network...\n",
            "EPISODE: 251 - FINAL SCORE: 11 - Epsilon: 0\n",
            "EPISODE: 252 - FINAL SCORE: 10 - Epsilon: 0\n",
            "EPISODE: 253 - FINAL SCORE: 10 - Epsilon: 0\n",
            "EPISODE: 254 - FINAL SCORE: 9 - Epsilon: 0\n",
            "EPISODE: 255 - FINAL SCORE: 9 - Epsilon: 0\n",
            "EPISODE: 256 - FINAL SCORE: 9 - Epsilon: 0\n",
            "EPISODE: 257 - FINAL SCORE: 10 - Epsilon: 0\n",
            "EPISODE: 258 - FINAL SCORE: 10 - Epsilon: 0\n",
            "EPISODE: 259 - FINAL SCORE: 9 - Epsilon: 0\n",
            "EPISODE: 260 - FINAL SCORE: 10 - Epsilon: 0\n",
            "Updating target network...\n",
            "EPISODE: 261 - FINAL SCORE: 10 - Epsilon: 0\n",
            "EPISODE: 262 - FINAL SCORE: 9 - Epsilon: 0\n",
            "EPISODE: 263 - FINAL SCORE: 9 - Epsilon: 0\n",
            "EPISODE: 264 - FINAL SCORE: 10 - Epsilon: 0\n",
            "EPISODE: 265 - FINAL SCORE: 10 - Epsilon: 0\n",
            "EPISODE: 266 - FINAL SCORE: 10 - Epsilon: 0\n",
            "EPISODE: 267 - FINAL SCORE: 9 - Epsilon: 0\n",
            "EPISODE: 268 - FINAL SCORE: 8 - Epsilon: 0\n",
            "EPISODE: 269 - FINAL SCORE: 9 - Epsilon: 0\n",
            "EPISODE: 270 - FINAL SCORE: 9 - Epsilon: 0\n",
            "Updating target network...\n",
            "EPISODE: 271 - FINAL SCORE: 8 - Epsilon: 0\n",
            "EPISODE: 272 - FINAL SCORE: 10 - Epsilon: 0\n",
            "EPISODE: 273 - FINAL SCORE: 9 - Epsilon: 0\n",
            "EPISODE: 274 - FINAL SCORE: 10 - Epsilon: 0\n",
            "EPISODE: 275 - FINAL SCORE: 9 - Epsilon: 0\n",
            "EPISODE: 276 - FINAL SCORE: 8 - Epsilon: 0\n",
            "EPISODE: 277 - FINAL SCORE: 10 - Epsilon: 0\n",
            "EPISODE: 278 - FINAL SCORE: 9 - Epsilon: 0\n",
            "EPISODE: 279 - FINAL SCORE: 9 - Epsilon: 0\n",
            "EPISODE: 280 - FINAL SCORE: 10 - Epsilon: 0\n",
            "Updating target network...\n",
            "EPISODE: 281 - FINAL SCORE: 9 - Epsilon: 0\n",
            "EPISODE: 282 - FINAL SCORE: 10 - Epsilon: 0\n",
            "EPISODE: 283 - FINAL SCORE: 9 - Epsilon: 0\n",
            "EPISODE: 284 - FINAL SCORE: 9 - Epsilon: 0\n",
            "EPISODE: 285 - FINAL SCORE: 9 - Epsilon: 0\n",
            "EPISODE: 286 - FINAL SCORE: 10 - Epsilon: 0\n",
            "EPISODE: 287 - FINAL SCORE: 10 - Epsilon: 0\n",
            "EPISODE: 288 - FINAL SCORE: 8 - Epsilon: 0\n",
            "EPISODE: 289 - FINAL SCORE: 11 - Epsilon: 0\n",
            "EPISODE: 290 - FINAL SCORE: 9 - Epsilon: 0\n",
            "Updating target network...\n",
            "EPISODE: 291 - FINAL SCORE: 8 - Epsilon: 0\n",
            "EPISODE: 292 - FINAL SCORE: 9 - Epsilon: 0\n",
            "EPISODE: 293 - FINAL SCORE: 9 - Epsilon: 0\n",
            "EPISODE: 294 - FINAL SCORE: 9 - Epsilon: 0\n",
            "EPISODE: 295 - FINAL SCORE: 9 - Epsilon: 0\n",
            "EPISODE: 296 - FINAL SCORE: 9 - Epsilon: 0\n",
            "EPISODE: 297 - FINAL SCORE: 10 - Epsilon: 0\n",
            "EPISODE: 298 - FINAL SCORE: 9 - Epsilon: 0\n",
            "EPISODE: 299 - FINAL SCORE: 9 - Epsilon: 0\n",
            "EPISODE: 300 - FINAL SCORE: 10 - Epsilon: 0\n",
            "Updating target network...\n",
            "EPISODE: 301 - FINAL SCORE: 10 - Epsilon: 0\n",
            "EPISODE: 302 - FINAL SCORE: 9 - Epsilon: 0\n",
            "EPISODE: 303 - FINAL SCORE: 9 - Epsilon: 0\n",
            "EPISODE: 304 - FINAL SCORE: 9 - Epsilon: 0\n",
            "EPISODE: 305 - FINAL SCORE: 9 - Epsilon: 0\n",
            "EPISODE: 306 - FINAL SCORE: 9 - Epsilon: 0\n",
            "EPISODE: 307 - FINAL SCORE: 10 - Epsilon: 0\n",
            "EPISODE: 308 - FINAL SCORE: 9 - Epsilon: 0\n",
            "EPISODE: 309 - FINAL SCORE: 10 - Epsilon: 0\n",
            "EPISODE: 310 - FINAL SCORE: 10 - Epsilon: 0\n",
            "Updating target network...\n",
            "EPISODE: 311 - FINAL SCORE: 10 - Epsilon: 0\n",
            "EPISODE: 312 - FINAL SCORE: 9 - Epsilon: 0\n",
            "EPISODE: 313 - FINAL SCORE: 10 - Epsilon: 0\n",
            "EPISODE: 314 - FINAL SCORE: 8 - Epsilon: 0\n",
            "EPISODE: 315 - FINAL SCORE: 10 - Epsilon: 0\n",
            "EPISODE: 316 - FINAL SCORE: 9 - Epsilon: 0\n",
            "EPISODE: 317 - FINAL SCORE: 9 - Epsilon: 0\n",
            "EPISODE: 318 - FINAL SCORE: 9 - Epsilon: 0\n",
            "EPISODE: 319 - FINAL SCORE: 10 - Epsilon: 0\n",
            "EPISODE: 320 - FINAL SCORE: 9 - Epsilon: 0\n",
            "Updating target network...\n",
            "EPISODE: 321 - FINAL SCORE: 9 - Epsilon: 0\n",
            "EPISODE: 322 - FINAL SCORE: 9 - Epsilon: 0\n",
            "EPISODE: 323 - FINAL SCORE: 10 - Epsilon: 0\n",
            "EPISODE: 324 - FINAL SCORE: 9 - Epsilon: 0\n",
            "EPISODE: 325 - FINAL SCORE: 9 - Epsilon: 0\n",
            "EPISODE: 326 - FINAL SCORE: 11 - Epsilon: 0\n",
            "EPISODE: 327 - FINAL SCORE: 10 - Epsilon: 0\n",
            "EPISODE: 328 - FINAL SCORE: 10 - Epsilon: 0\n",
            "EPISODE: 329 - FINAL SCORE: 8 - Epsilon: 0\n",
            "EPISODE: 330 - FINAL SCORE: 9 - Epsilon: 0\n",
            "Updating target network...\n",
            "EPISODE: 331 - FINAL SCORE: 9 - Epsilon: 0\n",
            "EPISODE: 332 - FINAL SCORE: 9 - Epsilon: 0\n",
            "EPISODE: 333 - FINAL SCORE: 10 - Epsilon: 0\n",
            "EPISODE: 334 - FINAL SCORE: 8 - Epsilon: 0\n",
            "EPISODE: 335 - FINAL SCORE: 10 - Epsilon: 0\n",
            "EPISODE: 336 - FINAL SCORE: 10 - Epsilon: 0\n",
            "EPISODE: 337 - FINAL SCORE: 10 - Epsilon: 0\n",
            "EPISODE: 338 - FINAL SCORE: 10 - Epsilon: 0\n",
            "EPISODE: 339 - FINAL SCORE: 10 - Epsilon: 0\n",
            "EPISODE: 340 - FINAL SCORE: 8 - Epsilon: 0\n",
            "Updating target network...\n",
            "EPISODE: 341 - FINAL SCORE: 9 - Epsilon: 0\n",
            "EPISODE: 342 - FINAL SCORE: 9 - Epsilon: 0\n",
            "EPISODE: 343 - FINAL SCORE: 9 - Epsilon: 0\n",
            "EPISODE: 344 - FINAL SCORE: 9 - Epsilon: 0\n",
            "EPISODE: 345 - FINAL SCORE: 10 - Epsilon: 0\n",
            "EPISODE: 346 - FINAL SCORE: 10 - Epsilon: 0\n",
            "EPISODE: 347 - FINAL SCORE: 11 - Epsilon: 0\n",
            "EPISODE: 348 - FINAL SCORE: 10 - Epsilon: 0\n",
            "EPISODE: 349 - FINAL SCORE: 10 - Epsilon: 0\n",
            "EPISODE: 350 - FINAL SCORE: 8 - Epsilon: 0\n",
            "Updating target network...\n",
            "EPISODE: 351 - FINAL SCORE: 10 - Epsilon: 0\n",
            "EPISODE: 352 - FINAL SCORE: 10 - Epsilon: 0\n",
            "EPISODE: 353 - FINAL SCORE: 10 - Epsilon: 0\n",
            "EPISODE: 354 - FINAL SCORE: 10 - Epsilon: 0\n",
            "EPISODE: 355 - FINAL SCORE: 9 - Epsilon: 0\n",
            "EPISODE: 356 - FINAL SCORE: 10 - Epsilon: 0\n",
            "EPISODE: 357 - FINAL SCORE: 9 - Epsilon: 0\n",
            "EPISODE: 358 - FINAL SCORE: 10 - Epsilon: 0\n",
            "EPISODE: 359 - FINAL SCORE: 9 - Epsilon: 0\n",
            "EPISODE: 360 - FINAL SCORE: 10 - Epsilon: 0\n",
            "Updating target network...\n",
            "EPISODE: 361 - FINAL SCORE: 10 - Epsilon: 0\n",
            "EPISODE: 362 - FINAL SCORE: 9 - Epsilon: 0\n",
            "EPISODE: 363 - FINAL SCORE: 10 - Epsilon: 0\n",
            "EPISODE: 364 - FINAL SCORE: 10 - Epsilon: 0\n",
            "EPISODE: 365 - FINAL SCORE: 9 - Epsilon: 0\n",
            "EPISODE: 366 - FINAL SCORE: 9 - Epsilon: 0\n",
            "EPISODE: 367 - FINAL SCORE: 10 - Epsilon: 0\n",
            "EPISODE: 368 - FINAL SCORE: 10 - Epsilon: 0\n",
            "EPISODE: 369 - FINAL SCORE: 10 - Epsilon: 0\n",
            "EPISODE: 370 - FINAL SCORE: 10 - Epsilon: 0\n",
            "Updating target network...\n",
            "EPISODE: 371 - FINAL SCORE: 10 - Epsilon: 0\n",
            "EPISODE: 372 - FINAL SCORE: 9 - Epsilon: 0\n",
            "EPISODE: 373 - FINAL SCORE: 10 - Epsilon: 0\n",
            "EPISODE: 374 - FINAL SCORE: 10 - Epsilon: 0\n",
            "EPISODE: 375 - FINAL SCORE: 10 - Epsilon: 0\n",
            "EPISODE: 376 - FINAL SCORE: 9 - Epsilon: 0\n",
            "EPISODE: 377 - FINAL SCORE: 9 - Epsilon: 0\n",
            "EPISODE: 378 - FINAL SCORE: 10 - Epsilon: 0\n",
            "EPISODE: 379 - FINAL SCORE: 9 - Epsilon: 0\n",
            "EPISODE: 380 - FINAL SCORE: 8 - Epsilon: 0\n",
            "Updating target network...\n",
            "EPISODE: 381 - FINAL SCORE: 9 - Epsilon: 0\n",
            "EPISODE: 382 - FINAL SCORE: 9 - Epsilon: 0\n",
            "EPISODE: 383 - FINAL SCORE: 10 - Epsilon: 0\n",
            "EPISODE: 384 - FINAL SCORE: 10 - Epsilon: 0\n",
            "EPISODE: 385 - FINAL SCORE: 10 - Epsilon: 0\n",
            "EPISODE: 386 - FINAL SCORE: 10 - Epsilon: 0\n",
            "EPISODE: 387 - FINAL SCORE: 9 - Epsilon: 0\n",
            "EPISODE: 388 - FINAL SCORE: 10 - Epsilon: 0\n",
            "EPISODE: 389 - FINAL SCORE: 9 - Epsilon: 0\n",
            "EPISODE: 390 - FINAL SCORE: 9 - Epsilon: 0\n",
            "Updating target network...\n",
            "EPISODE: 391 - FINAL SCORE: 10 - Epsilon: 0\n",
            "EPISODE: 392 - FINAL SCORE: 9 - Epsilon: 0\n",
            "EPISODE: 393 - FINAL SCORE: 10 - Epsilon: 0\n",
            "EPISODE: 394 - FINAL SCORE: 10 - Epsilon: 0\n",
            "EPISODE: 395 - FINAL SCORE: 10 - Epsilon: 0\n",
            "EPISODE: 396 - FINAL SCORE: 9 - Epsilon: 0\n",
            "EPISODE: 397 - FINAL SCORE: 9 - Epsilon: 0\n",
            "EPISODE: 398 - FINAL SCORE: 10 - Epsilon: 0\n",
            "EPISODE: 399 - FINAL SCORE: 10 - Epsilon: 0\n",
            "EPISODE: 400 - FINAL SCORE: 9 - Epsilon: 0\n",
            "Updating target network...\n",
            "EPISODE: 401 - FINAL SCORE: 9 - Epsilon: 0\n",
            "EPISODE: 402 - FINAL SCORE: 9 - Epsilon: 0\n",
            "EPISODE: 403 - FINAL SCORE: 10 - Epsilon: 0\n",
            "EPISODE: 404 - FINAL SCORE: 10 - Epsilon: 0\n",
            "EPISODE: 405 - FINAL SCORE: 10 - Epsilon: 0\n",
            "EPISODE: 406 - FINAL SCORE: 10 - Epsilon: 0\n",
            "EPISODE: 407 - FINAL SCORE: 11 - Epsilon: 0\n",
            "EPISODE: 408 - FINAL SCORE: 10 - Epsilon: 0\n",
            "EPISODE: 409 - FINAL SCORE: 10 - Epsilon: 0\n",
            "EPISODE: 410 - FINAL SCORE: 10 - Epsilon: 0\n",
            "Updating target network...\n",
            "EPISODE: 411 - FINAL SCORE: 11 - Epsilon: 0\n",
            "EPISODE: 412 - FINAL SCORE: 9 - Epsilon: 0\n",
            "EPISODE: 413 - FINAL SCORE: 10 - Epsilon: 0\n",
            "EPISODE: 414 - FINAL SCORE: 10 - Epsilon: 0\n",
            "EPISODE: 415 - FINAL SCORE: 8 - Epsilon: 0\n",
            "EPISODE: 416 - FINAL SCORE: 10 - Epsilon: 0\n",
            "EPISODE: 417 - FINAL SCORE: 10 - Epsilon: 0\n",
            "EPISODE: 418 - FINAL SCORE: 9 - Epsilon: 0\n",
            "EPISODE: 419 - FINAL SCORE: 10 - Epsilon: 0\n",
            "EPISODE: 420 - FINAL SCORE: 11 - Epsilon: 0\n",
            "Updating target network...\n",
            "EPISODE: 421 - FINAL SCORE: 10 - Epsilon: 0\n",
            "EPISODE: 422 - FINAL SCORE: 9 - Epsilon: 0\n",
            "EPISODE: 423 - FINAL SCORE: 11 - Epsilon: 0\n",
            "EPISODE: 424 - FINAL SCORE: 12 - Epsilon: 0\n",
            "EPISODE: 425 - FINAL SCORE: 10 - Epsilon: 0\n",
            "EPISODE: 426 - FINAL SCORE: 11 - Epsilon: 0\n",
            "EPISODE: 427 - FINAL SCORE: 11 - Epsilon: 0\n",
            "EPISODE: 428 - FINAL SCORE: 39 - Epsilon: 0\n",
            "EPISODE: 429 - FINAL SCORE: 9 - Epsilon: 0\n",
            "EPISODE: 430 - FINAL SCORE: 10 - Epsilon: 0\n",
            "Updating target network...\n",
            "EPISODE: 431 - FINAL SCORE: 9 - Epsilon: 0\n",
            "EPISODE: 432 - FINAL SCORE: 9 - Epsilon: 0\n",
            "EPISODE: 433 - FINAL SCORE: 10 - Epsilon: 0\n",
            "EPISODE: 434 - FINAL SCORE: 9 - Epsilon: 0\n",
            "EPISODE: 435 - FINAL SCORE: 15 - Epsilon: 0\n",
            "EPISODE: 436 - FINAL SCORE: 9 - Epsilon: 0\n",
            "EPISODE: 437 - FINAL SCORE: 16 - Epsilon: 0\n",
            "EPISODE: 438 - FINAL SCORE: 13 - Epsilon: 0\n",
            "EPISODE: 439 - FINAL SCORE: 10 - Epsilon: 0\n",
            "EPISODE: 440 - FINAL SCORE: 45 - Epsilon: 0\n",
            "Updating target network...\n",
            "EPISODE: 441 - FINAL SCORE: 17 - Epsilon: 0\n",
            "EPISODE: 442 - FINAL SCORE: 10 - Epsilon: 0\n",
            "EPISODE: 443 - FINAL SCORE: 11 - Epsilon: 0\n",
            "EPISODE: 444 - FINAL SCORE: 11 - Epsilon: 0\n",
            "EPISODE: 445 - FINAL SCORE: 11 - Epsilon: 0\n",
            "EPISODE: 446 - FINAL SCORE: 17 - Epsilon: 0\n",
            "EPISODE: 447 - FINAL SCORE: 18 - Epsilon: 0\n",
            "EPISODE: 448 - FINAL SCORE: 10 - Epsilon: 0\n",
            "EPISODE: 449 - FINAL SCORE: 13 - Epsilon: 0\n",
            "EPISODE: 450 - FINAL SCORE: 12 - Epsilon: 0\n",
            "Updating target network...\n",
            "EPISODE: 451 - FINAL SCORE: 10 - Epsilon: 0\n",
            "EPISODE: 452 - FINAL SCORE: 11 - Epsilon: 0\n",
            "EPISODE: 453 - FINAL SCORE: 17 - Epsilon: 0\n",
            "EPISODE: 454 - FINAL SCORE: 17 - Epsilon: 0\n",
            "EPISODE: 455 - FINAL SCORE: 74 - Epsilon: 0\n",
            "EPISODE: 456 - FINAL SCORE: 27 - Epsilon: 0\n",
            "EPISODE: 457 - FINAL SCORE: 19 - Epsilon: 0\n",
            "EPISODE: 458 - FINAL SCORE: 14 - Epsilon: 0\n",
            "EPISODE: 459 - FINAL SCORE: 17 - Epsilon: 0\n",
            "EPISODE: 460 - FINAL SCORE: 43 - Epsilon: 0\n",
            "Updating target network...\n",
            "EPISODE: 461 - FINAL SCORE: 55 - Epsilon: 0\n",
            "EPISODE: 462 - FINAL SCORE: 43 - Epsilon: 0\n",
            "EPISODE: 463 - FINAL SCORE: 13 - Epsilon: 0\n",
            "EPISODE: 464 - FINAL SCORE: 19 - Epsilon: 0\n",
            "EPISODE: 465 - FINAL SCORE: 20 - Epsilon: 0\n",
            "EPISODE: 466 - FINAL SCORE: 43 - Epsilon: 0\n",
            "EPISODE: 467 - FINAL SCORE: 34 - Epsilon: 0\n",
            "EPISODE: 468 - FINAL SCORE: 9 - Epsilon: 0\n",
            "EPISODE: 469 - FINAL SCORE: 45 - Epsilon: 0\n",
            "EPISODE: 470 - FINAL SCORE: 11 - Epsilon: 0\n",
            "Updating target network...\n",
            "EPISODE: 471 - FINAL SCORE: 45 - Epsilon: 0\n",
            "EPISODE: 472 - FINAL SCORE: 13 - Epsilon: 0\n",
            "EPISODE: 473 - FINAL SCORE: 18 - Epsilon: 0\n",
            "EPISODE: 474 - FINAL SCORE: 19 - Epsilon: 0\n",
            "EPISODE: 475 - FINAL SCORE: 34 - Epsilon: 0\n",
            "EPISODE: 476 - FINAL SCORE: 17 - Epsilon: 0\n",
            "EPISODE: 477 - FINAL SCORE: 19 - Epsilon: 0\n",
            "EPISODE: 478 - FINAL SCORE: 19 - Epsilon: 0\n",
            "EPISODE: 479 - FINAL SCORE: 44 - Epsilon: 0\n",
            "EPISODE: 480 - FINAL SCORE: 24 - Epsilon: 0\n",
            "Updating target network...\n",
            "EPISODE: 481 - FINAL SCORE: 15 - Epsilon: 0\n",
            "EPISODE: 482 - FINAL SCORE: 78 - Epsilon: 0\n",
            "EPISODE: 483 - FINAL SCORE: 50 - Epsilon: 0\n",
            "EPISODE: 484 - FINAL SCORE: 19 - Epsilon: 0\n",
            "EPISODE: 485 - FINAL SCORE: 125 - Epsilon: 0\n",
            "EPISODE: 486 - FINAL SCORE: 83 - Epsilon: 0\n",
            "EPISODE: 487 - FINAL SCORE: 28 - Epsilon: 0\n",
            "EPISODE: 488 - FINAL SCORE: 17 - Epsilon: 0\n",
            "EPISODE: 489 - FINAL SCORE: 112 - Epsilon: 0\n",
            "EPISODE: 490 - FINAL SCORE: 133 - Epsilon: 0\n",
            "Updating target network...\n",
            "EPISODE: 491 - FINAL SCORE: 79 - Epsilon: 0\n",
            "EPISODE: 492 - FINAL SCORE: 136 - Epsilon: 0\n",
            "EPISODE: 493 - FINAL SCORE: 130 - Epsilon: 0\n",
            "EPISODE: 494 - FINAL SCORE: 81 - Epsilon: 0\n",
            "EPISODE: 495 - FINAL SCORE: 38 - Epsilon: 0\n",
            "EPISODE: 496 - FINAL SCORE: 125 - Epsilon: 0\n",
            "EPISODE: 497 - FINAL SCORE: 19 - Epsilon: 0\n",
            "EPISODE: 498 - FINAL SCORE: 16 - Epsilon: 0\n",
            "EPISODE: 499 - FINAL SCORE: 19 - Epsilon: 0\n",
            "EPISODE: 500 - FINAL SCORE: 26 - Epsilon: 0\n",
            "Updating target network...\n",
            "EPISODE: 501 - FINAL SCORE: 29 - Epsilon: 0\n",
            "EPISODE: 502 - FINAL SCORE: 129 - Epsilon: 0\n",
            "EPISODE: 503 - FINAL SCORE: 59 - Epsilon: 0\n",
            "EPISODE: 504 - FINAL SCORE: 98 - Epsilon: 0\n",
            "EPISODE: 505 - FINAL SCORE: 24 - Epsilon: 0\n",
            "EPISODE: 506 - FINAL SCORE: 65 - Epsilon: 0\n",
            "EPISODE: 507 - FINAL SCORE: 118 - Epsilon: 0\n",
            "EPISODE: 508 - FINAL SCORE: 22 - Epsilon: 0\n",
            "EPISODE: 509 - FINAL SCORE: 40 - Epsilon: 0\n",
            "EPISODE: 510 - FINAL SCORE: 53 - Epsilon: 0\n",
            "Updating target network...\n",
            "EPISODE: 511 - FINAL SCORE: 144 - Epsilon: 0\n",
            "EPISODE: 512 - FINAL SCORE: 330 - Epsilon: 0\n",
            "EPISODE: 513 - FINAL SCORE: 64 - Epsilon: 0\n",
            "EPISODE: 514 - FINAL SCORE: 123 - Epsilon: 0\n",
            "EPISODE: 515 - FINAL SCORE: 169 - Epsilon: 0\n",
            "EPISODE: 516 - FINAL SCORE: 67 - Epsilon: 0\n",
            "EPISODE: 517 - FINAL SCORE: 132 - Epsilon: 0\n",
            "EPISODE: 518 - FINAL SCORE: 159 - Epsilon: 0\n",
            "EPISODE: 519 - FINAL SCORE: 101 - Epsilon: 0\n",
            "EPISODE: 520 - FINAL SCORE: 178 - Epsilon: 0\n",
            "Updating target network...\n",
            "EPISODE: 521 - FINAL SCORE: 109 - Epsilon: 0\n",
            "EPISODE: 522 - FINAL SCORE: 90 - Epsilon: 0\n",
            "EPISODE: 523 - FINAL SCORE: 259 - Epsilon: 0\n",
            "EPISODE: 524 - FINAL SCORE: 189 - Epsilon: 0\n",
            "EPISODE: 525 - FINAL SCORE: 90 - Epsilon: 0\n",
            "EPISODE: 526 - FINAL SCORE: 170 - Epsilon: 0\n",
            "EPISODE: 527 - FINAL SCORE: 99 - Epsilon: 0\n",
            "EPISODE: 528 - FINAL SCORE: 37 - Epsilon: 0\n",
            "EPISODE: 529 - FINAL SCORE: 104 - Epsilon: 0\n",
            "EPISODE: 530 - FINAL SCORE: 122 - Epsilon: 0\n",
            "Updating target network...\n",
            "EPISODE: 531 - FINAL SCORE: 158 - Epsilon: 0\n",
            "EPISODE: 532 - FINAL SCORE: 67 - Epsilon: 0\n",
            "EPISODE: 533 - FINAL SCORE: 98 - Epsilon: 0\n",
            "EPISODE: 534 - FINAL SCORE: 118 - Epsilon: 0\n",
            "EPISODE: 535 - FINAL SCORE: 120 - Epsilon: 0\n",
            "EPISODE: 536 - FINAL SCORE: 87 - Epsilon: 0\n",
            "EPISODE: 537 - FINAL SCORE: 99 - Epsilon: 0\n",
            "EPISODE: 538 - FINAL SCORE: 79 - Epsilon: 0\n",
            "EPISODE: 539 - FINAL SCORE: 90 - Epsilon: 0\n",
            "EPISODE: 540 - FINAL SCORE: 89 - Epsilon: 0\n",
            "Updating target network...\n",
            "EPISODE: 541 - FINAL SCORE: 95 - Epsilon: 0\n",
            "EPISODE: 542 - FINAL SCORE: 77 - Epsilon: 0\n",
            "EPISODE: 543 - FINAL SCORE: 63 - Epsilon: 0\n",
            "EPISODE: 544 - FINAL SCORE: 92 - Epsilon: 0\n",
            "EPISODE: 545 - FINAL SCORE: 98 - Epsilon: 0\n",
            "EPISODE: 546 - FINAL SCORE: 120 - Epsilon: 0\n",
            "EPISODE: 547 - FINAL SCORE: 93 - Epsilon: 0\n",
            "EPISODE: 548 - FINAL SCORE: 94 - Epsilon: 0\n",
            "EPISODE: 549 - FINAL SCORE: 96 - Epsilon: 0\n",
            "EPISODE: 550 - FINAL SCORE: 113 - Epsilon: 0\n",
            "Updating target network...\n",
            "EPISODE: 551 - FINAL SCORE: 114 - Epsilon: 0\n",
            "EPISODE: 552 - FINAL SCORE: 99 - Epsilon: 0\n",
            "EPISODE: 553 - FINAL SCORE: 77 - Epsilon: 0\n",
            "EPISODE: 554 - FINAL SCORE: 83 - Epsilon: 0\n",
            "EPISODE: 555 - FINAL SCORE: 77 - Epsilon: 0\n",
            "EPISODE: 556 - FINAL SCORE: 102 - Epsilon: 0\n",
            "EPISODE: 557 - FINAL SCORE: 78 - Epsilon: 0\n",
            "EPISODE: 558 - FINAL SCORE: 78 - Epsilon: 0\n",
            "EPISODE: 559 - FINAL SCORE: 86 - Epsilon: 0\n",
            "EPISODE: 560 - FINAL SCORE: 86 - Epsilon: 0\n",
            "Updating target network...\n",
            "EPISODE: 561 - FINAL SCORE: 71 - Epsilon: 0\n",
            "EPISODE: 562 - FINAL SCORE: 74 - Epsilon: 0\n",
            "EPISODE: 563 - FINAL SCORE: 65 - Epsilon: 0\n",
            "EPISODE: 564 - FINAL SCORE: 74 - Epsilon: 0\n",
            "EPISODE: 565 - FINAL SCORE: 73 - Epsilon: 0\n",
            "EPISODE: 566 - FINAL SCORE: 67 - Epsilon: 0\n",
            "EPISODE: 567 - FINAL SCORE: 69 - Epsilon: 0\n",
            "EPISODE: 568 - FINAL SCORE: 103 - Epsilon: 0\n",
            "EPISODE: 569 - FINAL SCORE: 66 - Epsilon: 0\n",
            "EPISODE: 570 - FINAL SCORE: 67 - Epsilon: 0\n",
            "Updating target network...\n",
            "EPISODE: 571 - FINAL SCORE: 73 - Epsilon: 0\n",
            "EPISODE: 572 - FINAL SCORE: 90 - Epsilon: 0\n",
            "EPISODE: 573 - FINAL SCORE: 81 - Epsilon: 0\n",
            "EPISODE: 574 - FINAL SCORE: 79 - Epsilon: 0\n",
            "EPISODE: 575 - FINAL SCORE: 82 - Epsilon: 0\n",
            "EPISODE: 576 - FINAL SCORE: 123 - Epsilon: 0\n",
            "EPISODE: 577 - FINAL SCORE: 100 - Epsilon: 0\n",
            "EPISODE: 578 - FINAL SCORE: 67 - Epsilon: 0\n",
            "EPISODE: 579 - FINAL SCORE: 86 - Epsilon: 0\n",
            "EPISODE: 580 - FINAL SCORE: 90 - Epsilon: 0\n",
            "Updating target network...\n",
            "EPISODE: 581 - FINAL SCORE: 87 - Epsilon: 0\n",
            "EPISODE: 582 - FINAL SCORE: 73 - Epsilon: 0\n",
            "EPISODE: 583 - FINAL SCORE: 74 - Epsilon: 0\n",
            "EPISODE: 584 - FINAL SCORE: 77 - Epsilon: 0\n",
            "EPISODE: 585 - FINAL SCORE: 89 - Epsilon: 0\n",
            "EPISODE: 586 - FINAL SCORE: 82 - Epsilon: 0\n",
            "EPISODE: 587 - FINAL SCORE: 66 - Epsilon: 0\n",
            "EPISODE: 588 - FINAL SCORE: 69 - Epsilon: 0\n",
            "EPISODE: 589 - FINAL SCORE: 165 - Epsilon: 0\n",
            "EPISODE: 590 - FINAL SCORE: 73 - Epsilon: 0\n",
            "Updating target network...\n",
            "EPISODE: 591 - FINAL SCORE: 80 - Epsilon: 0\n",
            "EPISODE: 592 - FINAL SCORE: 97 - Epsilon: 0\n",
            "EPISODE: 593 - FINAL SCORE: 94 - Epsilon: 0\n",
            "EPISODE: 594 - FINAL SCORE: 103 - Epsilon: 0\n",
            "EPISODE: 595 - FINAL SCORE: 85 - Epsilon: 0\n",
            "EPISODE: 596 - FINAL SCORE: 88 - Epsilon: 0\n",
            "EPISODE: 597 - FINAL SCORE: 95 - Epsilon: 0\n",
            "EPISODE: 598 - FINAL SCORE: 90 - Epsilon: 0\n",
            "EPISODE: 599 - FINAL SCORE: 133 - Epsilon: 0\n",
            "EPISODE: 600 - FINAL SCORE: 83 - Epsilon: 0\n",
            "Updating target network...\n",
            "EPISODE: 601 - FINAL SCORE: 99 - Epsilon: 0\n",
            "EPISODE: 602 - FINAL SCORE: 88 - Epsilon: 0\n",
            "EPISODE: 603 - FINAL SCORE: 102 - Epsilon: 0\n",
            "EPISODE: 604 - FINAL SCORE: 51 - Epsilon: 0\n",
            "EPISODE: 605 - FINAL SCORE: 29 - Epsilon: 0\n",
            "EPISODE: 606 - FINAL SCORE: 110 - Epsilon: 0\n",
            "EPISODE: 607 - FINAL SCORE: 108 - Epsilon: 0\n",
            "EPISODE: 608 - FINAL SCORE: 126 - Epsilon: 0\n",
            "EPISODE: 609 - FINAL SCORE: 108 - Epsilon: 0\n",
            "EPISODE: 610 - FINAL SCORE: 99 - Epsilon: 0\n",
            "Updating target network...\n",
            "EPISODE: 611 - FINAL SCORE: 88 - Epsilon: 0\n",
            "EPISODE: 612 - FINAL SCORE: 124 - Epsilon: 0\n",
            "EPISODE: 613 - FINAL SCORE: 98 - Epsilon: 0\n",
            "EPISODE: 614 - FINAL SCORE: 107 - Epsilon: 0\n",
            "EPISODE: 615 - FINAL SCORE: 139 - Epsilon: 0\n",
            "EPISODE: 616 - FINAL SCORE: 168 - Epsilon: 0\n",
            "EPISODE: 617 - FINAL SCORE: 131 - Epsilon: 0\n",
            "EPISODE: 618 - FINAL SCORE: 63 - Epsilon: 0\n",
            "EPISODE: 619 - FINAL SCORE: 63 - Epsilon: 0\n",
            "EPISODE: 620 - FINAL SCORE: 68 - Epsilon: 0\n",
            "Updating target network...\n",
            "EPISODE: 621 - FINAL SCORE: 17 - Epsilon: 0\n",
            "EPISODE: 622 - FINAL SCORE: 143 - Epsilon: 0\n",
            "EPISODE: 623 - FINAL SCORE: 119 - Epsilon: 0\n",
            "EPISODE: 624 - FINAL SCORE: 199 - Epsilon: 0\n",
            "EPISODE: 625 - FINAL SCORE: 133 - Epsilon: 0\n",
            "EPISODE: 626 - FINAL SCORE: 62 - Epsilon: 0\n",
            "EPISODE: 627 - FINAL SCORE: 49 - Epsilon: 0\n",
            "EPISODE: 628 - FINAL SCORE: 84 - Epsilon: 0\n",
            "EPISODE: 629 - FINAL SCORE: 51 - Epsilon: 0\n",
            "EPISODE: 630 - FINAL SCORE: 118 - Epsilon: 0\n",
            "Updating target network...\n",
            "EPISODE: 631 - FINAL SCORE: 83 - Epsilon: 0\n",
            "EPISODE: 632 - FINAL SCORE: 134 - Epsilon: 0\n",
            "EPISODE: 633 - FINAL SCORE: 135 - Epsilon: 0\n",
            "EPISODE: 634 - FINAL SCORE: 92 - Epsilon: 0\n",
            "EPISODE: 635 - FINAL SCORE: 129 - Epsilon: 0\n",
            "EPISODE: 636 - FINAL SCORE: 171 - Epsilon: 0\n",
            "EPISODE: 637 - FINAL SCORE: 63 - Epsilon: 0\n",
            "EPISODE: 638 - FINAL SCORE: 75 - Epsilon: 0\n",
            "EPISODE: 639 - FINAL SCORE: 143 - Epsilon: 0\n",
            "EPISODE: 640 - FINAL SCORE: 143 - Epsilon: 0\n",
            "Updating target network...\n",
            "EPISODE: 641 - FINAL SCORE: 63 - Epsilon: 0\n",
            "EPISODE: 642 - FINAL SCORE: 77 - Epsilon: 0\n",
            "EPISODE: 643 - FINAL SCORE: 69 - Epsilon: 0\n",
            "EPISODE: 644 - FINAL SCORE: 95 - Epsilon: 0\n",
            "EPISODE: 645 - FINAL SCORE: 57 - Epsilon: 0\n",
            "EPISODE: 646 - FINAL SCORE: 39 - Epsilon: 0\n",
            "EPISODE: 647 - FINAL SCORE: 58 - Epsilon: 0\n",
            "EPISODE: 648 - FINAL SCORE: 65 - Epsilon: 0\n",
            "EPISODE: 649 - FINAL SCORE: 47 - Epsilon: 0\n",
            "EPISODE: 650 - FINAL SCORE: 70 - Epsilon: 0\n",
            "Updating target network...\n",
            "EPISODE: 651 - FINAL SCORE: 44 - Epsilon: 0\n",
            "EPISODE: 652 - FINAL SCORE: 90 - Epsilon: 0\n",
            "EPISODE: 653 - FINAL SCORE: 77 - Epsilon: 0\n",
            "EPISODE: 654 - FINAL SCORE: 94 - Epsilon: 0\n",
            "EPISODE: 655 - FINAL SCORE: 40 - Epsilon: 0\n",
            "EPISODE: 656 - FINAL SCORE: 63 - Epsilon: 0\n",
            "EPISODE: 657 - FINAL SCORE: 99 - Epsilon: 0\n",
            "EPISODE: 658 - FINAL SCORE: 159 - Epsilon: 0\n",
            "EPISODE: 659 - FINAL SCORE: 35 - Epsilon: 0\n",
            "EPISODE: 660 - FINAL SCORE: 140 - Epsilon: 0\n",
            "Updating target network...\n",
            "EPISODE: 661 - FINAL SCORE: 70 - Epsilon: 0\n",
            "EPISODE: 662 - FINAL SCORE: 80 - Epsilon: 0\n",
            "EPISODE: 663 - FINAL SCORE: 53 - Epsilon: 0\n",
            "EPISODE: 664 - FINAL SCORE: 93 - Epsilon: 0\n",
            "EPISODE: 665 - FINAL SCORE: 144 - Epsilon: 0\n",
            "EPISODE: 666 - FINAL SCORE: 66 - Epsilon: 0\n",
            "EPISODE: 667 - FINAL SCORE: 63 - Epsilon: 0\n",
            "EPISODE: 668 - FINAL SCORE: 61 - Epsilon: 0\n",
            "EPISODE: 669 - FINAL SCORE: 74 - Epsilon: 0\n",
            "EPISODE: 670 - FINAL SCORE: 72 - Epsilon: 0\n",
            "Updating target network...\n",
            "EPISODE: 671 - FINAL SCORE: 72 - Epsilon: 0\n",
            "EPISODE: 672 - FINAL SCORE: 63 - Epsilon: 0\n",
            "EPISODE: 673 - FINAL SCORE: 66 - Epsilon: 0\n",
            "EPISODE: 674 - FINAL SCORE: 83 - Epsilon: 0\n",
            "EPISODE: 675 - FINAL SCORE: 97 - Epsilon: 0\n",
            "EPISODE: 676 - FINAL SCORE: 175 - Epsilon: 0\n",
            "EPISODE: 677 - FINAL SCORE: 71 - Epsilon: 0\n",
            "EPISODE: 678 - FINAL SCORE: 59 - Epsilon: 0\n",
            "EPISODE: 679 - FINAL SCORE: 145 - Epsilon: 0\n",
            "EPISODE: 680 - FINAL SCORE: 66 - Epsilon: 0\n",
            "Updating target network...\n",
            "EPISODE: 681 - FINAL SCORE: 163 - Epsilon: 0\n",
            "EPISODE: 682 - FINAL SCORE: 55 - Epsilon: 0\n",
            "EPISODE: 683 - FINAL SCORE: 95 - Epsilon: 0\n",
            "EPISODE: 684 - FINAL SCORE: 157 - Epsilon: 0\n",
            "EPISODE: 685 - FINAL SCORE: 92 - Epsilon: 0\n",
            "EPISODE: 686 - FINAL SCORE: 157 - Epsilon: 0\n",
            "EPISODE: 687 - FINAL SCORE: 208 - Epsilon: 0\n",
            "EPISODE: 688 - FINAL SCORE: 157 - Epsilon: 0\n",
            "EPISODE: 689 - FINAL SCORE: 140 - Epsilon: 0\n",
            "EPISODE: 690 - FINAL SCORE: 145 - Epsilon: 0\n",
            "Updating target network...\n",
            "EPISODE: 691 - FINAL SCORE: 162 - Epsilon: 0\n",
            "EPISODE: 692 - FINAL SCORE: 164 - Epsilon: 0\n",
            "EPISODE: 693 - FINAL SCORE: 147 - Epsilon: 0\n",
            "EPISODE: 694 - FINAL SCORE: 137 - Epsilon: 0\n",
            "EPISODE: 695 - FINAL SCORE: 144 - Epsilon: 0\n",
            "EPISODE: 696 - FINAL SCORE: 134 - Epsilon: 0\n",
            "EPISODE: 697 - FINAL SCORE: 129 - Epsilon: 0\n",
            "EPISODE: 698 - FINAL SCORE: 139 - Epsilon: 0\n",
            "EPISODE: 699 - FINAL SCORE: 143 - Epsilon: 0\n",
            "EPISODE: 700 - FINAL SCORE: 129 - Epsilon: 0\n",
            "Updating target network...\n",
            "EPISODE: 701 - FINAL SCORE: 148 - Epsilon: 0\n",
            "EPISODE: 702 - FINAL SCORE: 144 - Epsilon: 0\n",
            "EPISODE: 703 - FINAL SCORE: 161 - Epsilon: 0\n",
            "EPISODE: 704 - FINAL SCORE: 150 - Epsilon: 0\n",
            "EPISODE: 705 - FINAL SCORE: 151 - Epsilon: 0\n",
            "EPISODE: 706 - FINAL SCORE: 145 - Epsilon: 0\n",
            "EPISODE: 707 - FINAL SCORE: 157 - Epsilon: 0\n",
            "EPISODE: 708 - FINAL SCORE: 157 - Epsilon: 0\n",
            "EPISODE: 709 - FINAL SCORE: 162 - Epsilon: 0\n",
            "EPISODE: 710 - FINAL SCORE: 147 - Epsilon: 0\n",
            "Updating target network...\n",
            "EPISODE: 711 - FINAL SCORE: 141 - Epsilon: 0\n",
            "EPISODE: 712 - FINAL SCORE: 137 - Epsilon: 0\n",
            "EPISODE: 713 - FINAL SCORE: 167 - Epsilon: 0\n",
            "EPISODE: 714 - FINAL SCORE: 146 - Epsilon: 0\n",
            "EPISODE: 715 - FINAL SCORE: 158 - Epsilon: 0\n",
            "EPISODE: 716 - FINAL SCORE: 135 - Epsilon: 0\n",
            "EPISODE: 717 - FINAL SCORE: 161 - Epsilon: 0\n",
            "EPISODE: 718 - FINAL SCORE: 130 - Epsilon: 0\n",
            "EPISODE: 719 - FINAL SCORE: 150 - Epsilon: 0\n",
            "EPISODE: 720 - FINAL SCORE: 169 - Epsilon: 0\n",
            "Updating target network...\n",
            "EPISODE: 721 - FINAL SCORE: 201 - Epsilon: 0\n",
            "EPISODE: 722 - FINAL SCORE: 134 - Epsilon: 0\n",
            "EPISODE: 723 - FINAL SCORE: 135 - Epsilon: 0\n",
            "EPISODE: 724 - FINAL SCORE: 144 - Epsilon: 0\n",
            "EPISODE: 725 - FINAL SCORE: 144 - Epsilon: 0\n",
            "EPISODE: 726 - FINAL SCORE: 126 - Epsilon: 0\n",
            "EPISODE: 727 - FINAL SCORE: 146 - Epsilon: 0\n",
            "EPISODE: 728 - FINAL SCORE: 129 - Epsilon: 0\n",
            "EPISODE: 729 - FINAL SCORE: 136 - Epsilon: 0\n",
            "EPISODE: 730 - FINAL SCORE: 129 - Epsilon: 0\n",
            "Updating target network...\n",
            "EPISODE: 731 - FINAL SCORE: 196 - Epsilon: 0\n",
            "EPISODE: 732 - FINAL SCORE: 166 - Epsilon: 0\n",
            "EPISODE: 733 - FINAL SCORE: 163 - Epsilon: 0\n",
            "EPISODE: 734 - FINAL SCORE: 155 - Epsilon: 0\n",
            "EPISODE: 735 - FINAL SCORE: 154 - Epsilon: 0\n",
            "EPISODE: 736 - FINAL SCORE: 96 - Epsilon: 0\n",
            "EPISODE: 737 - FINAL SCORE: 147 - Epsilon: 0\n",
            "EPISODE: 738 - FINAL SCORE: 139 - Epsilon: 0\n",
            "EPISODE: 739 - FINAL SCORE: 193 - Epsilon: 0\n",
            "EPISODE: 740 - FINAL SCORE: 241 - Epsilon: 0\n",
            "Updating target network...\n",
            "EPISODE: 741 - FINAL SCORE: 168 - Epsilon: 0\n",
            "EPISODE: 742 - FINAL SCORE: 147 - Epsilon: 0\n",
            "EPISODE: 743 - FINAL SCORE: 143 - Epsilon: 0\n",
            "EPISODE: 744 - FINAL SCORE: 150 - Epsilon: 0\n",
            "EPISODE: 745 - FINAL SCORE: 145 - Epsilon: 0\n",
            "EPISODE: 746 - FINAL SCORE: 141 - Epsilon: 0\n",
            "EPISODE: 747 - FINAL SCORE: 150 - Epsilon: 0\n",
            "EPISODE: 748 - FINAL SCORE: 150 - Epsilon: 0\n",
            "EPISODE: 749 - FINAL SCORE: 134 - Epsilon: 0\n",
            "EPISODE: 750 - FINAL SCORE: 132 - Epsilon: 0\n",
            "Updating target network...\n",
            "EPISODE: 751 - FINAL SCORE: 136 - Epsilon: 0\n",
            "EPISODE: 752 - FINAL SCORE: 139 - Epsilon: 0\n",
            "EPISODE: 753 - FINAL SCORE: 139 - Epsilon: 0\n",
            "EPISODE: 754 - FINAL SCORE: 142 - Epsilon: 0\n",
            "EPISODE: 755 - FINAL SCORE: 144 - Epsilon: 0\n",
            "EPISODE: 756 - FINAL SCORE: 143 - Epsilon: 0\n",
            "EPISODE: 757 - FINAL SCORE: 133 - Epsilon: 0\n",
            "EPISODE: 758 - FINAL SCORE: 135 - Epsilon: 0\n",
            "EPISODE: 759 - FINAL SCORE: 140 - Epsilon: 0\n",
            "EPISODE: 760 - FINAL SCORE: 130 - Epsilon: 0\n",
            "Updating target network...\n",
            "EPISODE: 761 - FINAL SCORE: 152 - Epsilon: 0\n",
            "EPISODE: 762 - FINAL SCORE: 129 - Epsilon: 0\n",
            "EPISODE: 763 - FINAL SCORE: 132 - Epsilon: 0\n",
            "EPISODE: 764 - FINAL SCORE: 133 - Epsilon: 0\n",
            "EPISODE: 765 - FINAL SCORE: 142 - Epsilon: 0\n",
            "EPISODE: 766 - FINAL SCORE: 125 - Epsilon: 0\n",
            "EPISODE: 767 - FINAL SCORE: 121 - Epsilon: 0\n",
            "EPISODE: 768 - FINAL SCORE: 126 - Epsilon: 0\n",
            "EPISODE: 769 - FINAL SCORE: 139 - Epsilon: 0\n",
            "EPISODE: 770 - FINAL SCORE: 146 - Epsilon: 0\n",
            "Updating target network...\n",
            "EPISODE: 771 - FINAL SCORE: 130 - Epsilon: 0\n",
            "EPISODE: 772 - FINAL SCORE: 134 - Epsilon: 0\n",
            "EPISODE: 773 - FINAL SCORE: 148 - Epsilon: 0\n",
            "EPISODE: 774 - FINAL SCORE: 133 - Epsilon: 0\n",
            "EPISODE: 775 - FINAL SCORE: 138 - Epsilon: 0\n",
            "EPISODE: 776 - FINAL SCORE: 131 - Epsilon: 0\n",
            "EPISODE: 777 - FINAL SCORE: 135 - Epsilon: 0\n",
            "EPISODE: 778 - FINAL SCORE: 121 - Epsilon: 0\n",
            "EPISODE: 779 - FINAL SCORE: 139 - Epsilon: 0\n",
            "EPISODE: 780 - FINAL SCORE: 138 - Epsilon: 0\n",
            "Updating target network...\n",
            "EPISODE: 781 - FINAL SCORE: 142 - Epsilon: 0\n",
            "EPISODE: 782 - FINAL SCORE: 187 - Epsilon: 0\n",
            "EPISODE: 783 - FINAL SCORE: 126 - Epsilon: 0\n",
            "EPISODE: 784 - FINAL SCORE: 130 - Epsilon: 0\n",
            "EPISODE: 785 - FINAL SCORE: 137 - Epsilon: 0\n",
            "EPISODE: 786 - FINAL SCORE: 131 - Epsilon: 0\n",
            "EPISODE: 787 - FINAL SCORE: 133 - Epsilon: 0\n",
            "EPISODE: 788 - FINAL SCORE: 137 - Epsilon: 0\n",
            "EPISODE: 789 - FINAL SCORE: 148 - Epsilon: 0\n",
            "EPISODE: 790 - FINAL SCORE: 137 - Epsilon: 0\n",
            "Updating target network...\n",
            "EPISODE: 791 - FINAL SCORE: 136 - Epsilon: 0\n",
            "EPISODE: 792 - FINAL SCORE: 155 - Epsilon: 0\n",
            "EPISODE: 793 - FINAL SCORE: 142 - Epsilon: 0\n",
            "EPISODE: 794 - FINAL SCORE: 133 - Epsilon: 0\n",
            "EPISODE: 795 - FINAL SCORE: 125 - Epsilon: 0\n",
            "EPISODE: 796 - FINAL SCORE: 123 - Epsilon: 0\n",
            "EPISODE: 797 - FINAL SCORE: 144 - Epsilon: 0\n",
            "EPISODE: 798 - FINAL SCORE: 138 - Epsilon: 0\n",
            "EPISODE: 799 - FINAL SCORE: 139 - Epsilon: 0\n",
            "EPISODE: 800 - FINAL SCORE: 144 - Epsilon: 0\n",
            "Updating target network...\n",
            "EPISODE: 801 - FINAL SCORE: 119 - Epsilon: 0\n",
            "EPISODE: 802 - FINAL SCORE: 136 - Epsilon: 0\n",
            "EPISODE: 803 - FINAL SCORE: 132 - Epsilon: 0\n",
            "EPISODE: 804 - FINAL SCORE: 128 - Epsilon: 0\n",
            "EPISODE: 805 - FINAL SCORE: 132 - Epsilon: 0\n",
            "EPISODE: 806 - FINAL SCORE: 147 - Epsilon: 0\n",
            "EPISODE: 807 - FINAL SCORE: 133 - Epsilon: 0\n",
            "EPISODE: 808 - FINAL SCORE: 128 - Epsilon: 0\n",
            "EPISODE: 809 - FINAL SCORE: 127 - Epsilon: 0\n",
            "EPISODE: 810 - FINAL SCORE: 129 - Epsilon: 0\n",
            "Updating target network...\n",
            "EPISODE: 811 - FINAL SCORE: 134 - Epsilon: 0\n",
            "EPISODE: 812 - FINAL SCORE: 137 - Epsilon: 0\n",
            "EPISODE: 813 - FINAL SCORE: 141 - Epsilon: 0\n",
            "EPISODE: 814 - FINAL SCORE: 125 - Epsilon: 0\n",
            "EPISODE: 815 - FINAL SCORE: 128 - Epsilon: 0\n",
            "EPISODE: 816 - FINAL SCORE: 146 - Epsilon: 0\n",
            "EPISODE: 817 - FINAL SCORE: 132 - Epsilon: 0\n",
            "EPISODE: 818 - FINAL SCORE: 164 - Epsilon: 0\n",
            "EPISODE: 819 - FINAL SCORE: 131 - Epsilon: 0\n",
            "EPISODE: 820 - FINAL SCORE: 134 - Epsilon: 0\n",
            "Updating target network...\n",
            "EPISODE: 821 - FINAL SCORE: 135 - Epsilon: 0\n",
            "EPISODE: 822 - FINAL SCORE: 130 - Epsilon: 0\n",
            "EPISODE: 823 - FINAL SCORE: 141 - Epsilon: 0\n",
            "EPISODE: 824 - FINAL SCORE: 145 - Epsilon: 0\n",
            "EPISODE: 825 - FINAL SCORE: 144 - Epsilon: 0\n",
            "EPISODE: 826 - FINAL SCORE: 147 - Epsilon: 0\n",
            "EPISODE: 827 - FINAL SCORE: 127 - Epsilon: 0\n",
            "EPISODE: 828 - FINAL SCORE: 127 - Epsilon: 0\n",
            "EPISODE: 829 - FINAL SCORE: 135 - Epsilon: 0\n",
            "EPISODE: 830 - FINAL SCORE: 156 - Epsilon: 0\n",
            "Updating target network...\n",
            "EPISODE: 831 - FINAL SCORE: 143 - Epsilon: 0\n",
            "EPISODE: 832 - FINAL SCORE: 136 - Epsilon: 0\n",
            "EPISODE: 833 - FINAL SCORE: 128 - Epsilon: 0\n",
            "EPISODE: 834 - FINAL SCORE: 135 - Epsilon: 0\n",
            "EPISODE: 835 - FINAL SCORE: 139 - Epsilon: 0\n",
            "EPISODE: 836 - FINAL SCORE: 140 - Epsilon: 0\n",
            "EPISODE: 837 - FINAL SCORE: 129 - Epsilon: 0\n",
            "EPISODE: 838 - FINAL SCORE: 146 - Epsilon: 0\n",
            "EPISODE: 839 - FINAL SCORE: 143 - Epsilon: 0\n",
            "EPISODE: 840 - FINAL SCORE: 140 - Epsilon: 0\n",
            "Updating target network...\n",
            "EPISODE: 841 - FINAL SCORE: 142 - Epsilon: 0\n",
            "EPISODE: 842 - FINAL SCORE: 134 - Epsilon: 0\n",
            "EPISODE: 843 - FINAL SCORE: 181 - Epsilon: 0\n",
            "EPISODE: 844 - FINAL SCORE: 136 - Epsilon: 0\n",
            "EPISODE: 845 - FINAL SCORE: 150 - Epsilon: 0\n",
            "EPISODE: 846 - FINAL SCORE: 156 - Epsilon: 0\n",
            "EPISODE: 847 - FINAL SCORE: 158 - Epsilon: 0\n",
            "EPISODE: 848 - FINAL SCORE: 133 - Epsilon: 0\n",
            "EPISODE: 849 - FINAL SCORE: 150 - Epsilon: 0\n",
            "EPISODE: 850 - FINAL SCORE: 113 - Epsilon: 0\n",
            "Updating target network...\n",
            "EPISODE: 851 - FINAL SCORE: 150 - Epsilon: 0\n",
            "EPISODE: 852 - FINAL SCORE: 143 - Epsilon: 0\n",
            "EPISODE: 853 - FINAL SCORE: 105 - Epsilon: 0\n",
            "EPISODE: 854 - FINAL SCORE: 165 - Epsilon: 0\n",
            "EPISODE: 855 - FINAL SCORE: 171 - Epsilon: 0\n",
            "EPISODE: 856 - FINAL SCORE: 141 - Epsilon: 0\n",
            "EPISODE: 857 - FINAL SCORE: 183 - Epsilon: 0\n",
            "EPISODE: 858 - FINAL SCORE: 136 - Epsilon: 0\n",
            "EPISODE: 859 - FINAL SCORE: 90 - Epsilon: 0\n",
            "EPISODE: 860 - FINAL SCORE: 157 - Epsilon: 0\n",
            "Updating target network...\n",
            "EPISODE: 861 - FINAL SCORE: 98 - Epsilon: 0\n",
            "EPISODE: 862 - FINAL SCORE: 126 - Epsilon: 0\n",
            "EPISODE: 863 - FINAL SCORE: 190 - Epsilon: 0\n",
            "EPISODE: 864 - FINAL SCORE: 237 - Epsilon: 0\n",
            "EPISODE: 865 - FINAL SCORE: 100 - Epsilon: 0\n",
            "EPISODE: 866 - FINAL SCORE: 147 - Epsilon: 0\n",
            "EPISODE: 867 - FINAL SCORE: 156 - Epsilon: 0\n",
            "EPISODE: 868 - FINAL SCORE: 207 - Epsilon: 0\n",
            "EPISODE: 869 - FINAL SCORE: 76 - Epsilon: 0\n",
            "EPISODE: 870 - FINAL SCORE: 146 - Epsilon: 0\n",
            "Updating target network...\n",
            "EPISODE: 871 - FINAL SCORE: 156 - Epsilon: 0\n",
            "EPISODE: 872 - FINAL SCORE: 127 - Epsilon: 0\n",
            "EPISODE: 873 - FINAL SCORE: 137 - Epsilon: 0\n",
            "EPISODE: 874 - FINAL SCORE: 129 - Epsilon: 0\n",
            "EPISODE: 875 - FINAL SCORE: 140 - Epsilon: 0\n",
            "EPISODE: 876 - FINAL SCORE: 221 - Epsilon: 0\n",
            "EPISODE: 877 - FINAL SCORE: 136 - Epsilon: 0\n",
            "EPISODE: 878 - FINAL SCORE: 123 - Epsilon: 0\n",
            "EPISODE: 879 - FINAL SCORE: 125 - Epsilon: 0\n",
            "EPISODE: 880 - FINAL SCORE: 135 - Epsilon: 0\n",
            "Updating target network...\n",
            "EPISODE: 881 - FINAL SCORE: 140 - Epsilon: 0\n",
            "EPISODE: 882 - FINAL SCORE: 139 - Epsilon: 0\n",
            "EPISODE: 883 - FINAL SCORE: 273 - Epsilon: 0\n",
            "EPISODE: 884 - FINAL SCORE: 134 - Epsilon: 0\n",
            "EPISODE: 885 - FINAL SCORE: 162 - Epsilon: 0\n",
            "EPISODE: 886 - FINAL SCORE: 142 - Epsilon: 0\n",
            "EPISODE: 887 - FINAL SCORE: 136 - Epsilon: 0\n",
            "EPISODE: 888 - FINAL SCORE: 167 - Epsilon: 0\n",
            "EPISODE: 889 - FINAL SCORE: 151 - Epsilon: 0\n",
            "EPISODE: 890 - FINAL SCORE: 187 - Epsilon: 0\n",
            "Updating target network...\n",
            "EPISODE: 891 - FINAL SCORE: 147 - Epsilon: 0\n",
            "EPISODE: 892 - FINAL SCORE: 90 - Epsilon: 0\n",
            "EPISODE: 893 - FINAL SCORE: 131 - Epsilon: 0\n",
            "EPISODE: 894 - FINAL SCORE: 145 - Epsilon: 0\n",
            "EPISODE: 895 - FINAL SCORE: 173 - Epsilon: 0\n",
            "EPISODE: 896 - FINAL SCORE: 123 - Epsilon: 0\n",
            "EPISODE: 897 - FINAL SCORE: 127 - Epsilon: 0\n",
            "EPISODE: 898 - FINAL SCORE: 130 - Epsilon: 0\n",
            "EPISODE: 899 - FINAL SCORE: 157 - Epsilon: 0\n",
            "EPISODE: 900 - FINAL SCORE: 131 - Epsilon: 0\n",
            "Updating target network...\n",
            "EPISODE: 901 - FINAL SCORE: 160 - Epsilon: 0\n",
            "EPISODE: 902 - FINAL SCORE: 184 - Epsilon: 0\n",
            "EPISODE: 903 - FINAL SCORE: 156 - Epsilon: 0\n",
            "EPISODE: 904 - FINAL SCORE: 137 - Epsilon: 0\n",
            "EPISODE: 905 - FINAL SCORE: 89 - Epsilon: 0\n",
            "EPISODE: 906 - FINAL SCORE: 149 - Epsilon: 0\n",
            "EPISODE: 907 - FINAL SCORE: 141 - Epsilon: 0\n",
            "EPISODE: 908 - FINAL SCORE: 117 - Epsilon: 0\n",
            "EPISODE: 909 - FINAL SCORE: 143 - Epsilon: 0\n",
            "EPISODE: 910 - FINAL SCORE: 150 - Epsilon: 0\n",
            "Updating target network...\n",
            "EPISODE: 911 - FINAL SCORE: 104 - Epsilon: 0\n",
            "EPISODE: 912 - FINAL SCORE: 152 - Epsilon: 0\n",
            "EPISODE: 913 - FINAL SCORE: 160 - Epsilon: 0\n",
            "EPISODE: 914 - FINAL SCORE: 155 - Epsilon: 0\n",
            "EPISODE: 915 - FINAL SCORE: 131 - Epsilon: 0\n",
            "EPISODE: 916 - FINAL SCORE: 187 - Epsilon: 0\n",
            "EPISODE: 917 - FINAL SCORE: 122 - Epsilon: 0\n",
            "EPISODE: 918 - FINAL SCORE: 106 - Epsilon: 0\n",
            "EPISODE: 919 - FINAL SCORE: 139 - Epsilon: 0\n",
            "EPISODE: 920 - FINAL SCORE: 127 - Epsilon: 0\n",
            "Updating target network...\n",
            "EPISODE: 921 - FINAL SCORE: 151 - Epsilon: 0\n",
            "EPISODE: 922 - FINAL SCORE: 147 - Epsilon: 0\n",
            "EPISODE: 923 - FINAL SCORE: 173 - Epsilon: 0\n",
            "EPISODE: 924 - FINAL SCORE: 133 - Epsilon: 0\n",
            "EPISODE: 925 - FINAL SCORE: 144 - Epsilon: 0\n",
            "EPISODE: 926 - FINAL SCORE: 185 - Epsilon: 0\n",
            "EPISODE: 927 - FINAL SCORE: 119 - Epsilon: 0\n",
            "EPISODE: 928 - FINAL SCORE: 196 - Epsilon: 0\n",
            "EPISODE: 929 - FINAL SCORE: 143 - Epsilon: 0\n",
            "EPISODE: 930 - FINAL SCORE: 173 - Epsilon: 0\n",
            "Updating target network...\n",
            "EPISODE: 931 - FINAL SCORE: 161 - Epsilon: 0\n",
            "EPISODE: 932 - FINAL SCORE: 134 - Epsilon: 0\n",
            "EPISODE: 933 - FINAL SCORE: 135 - Epsilon: 0\n",
            "EPISODE: 934 - FINAL SCORE: 181 - Epsilon: 0\n",
            "EPISODE: 935 - FINAL SCORE: 140 - Epsilon: 0\n",
            "EPISODE: 936 - FINAL SCORE: 162 - Epsilon: 0\n",
            "EPISODE: 937 - FINAL SCORE: 139 - Epsilon: 0\n",
            "EPISODE: 938 - FINAL SCORE: 127 - Epsilon: 0\n",
            "EPISODE: 939 - FINAL SCORE: 157 - Epsilon: 0\n",
            "EPISODE: 940 - FINAL SCORE: 155 - Epsilon: 0\n",
            "Updating target network...\n",
            "EPISODE: 941 - FINAL SCORE: 134 - Epsilon: 0\n",
            "EPISODE: 942 - FINAL SCORE: 151 - Epsilon: 0\n",
            "EPISODE: 943 - FINAL SCORE: 139 - Epsilon: 0\n",
            "EPISODE: 944 - FINAL SCORE: 145 - Epsilon: 0\n",
            "EPISODE: 945 - FINAL SCORE: 156 - Epsilon: 0\n",
            "EPISODE: 946 - FINAL SCORE: 168 - Epsilon: 0\n",
            "EPISODE: 947 - FINAL SCORE: 89 - Epsilon: 0\n",
            "EPISODE: 948 - FINAL SCORE: 159 - Epsilon: 0\n",
            "EPISODE: 949 - FINAL SCORE: 136 - Epsilon: 0\n",
            "EPISODE: 950 - FINAL SCORE: 95 - Epsilon: 0\n",
            "Updating target network...\n",
            "EPISODE: 951 - FINAL SCORE: 135 - Epsilon: 0\n",
            "EPISODE: 952 - FINAL SCORE: 137 - Epsilon: 0\n",
            "EPISODE: 953 - FINAL SCORE: 122 - Epsilon: 0\n",
            "EPISODE: 954 - FINAL SCORE: 144 - Epsilon: 0\n",
            "EPISODE: 955 - FINAL SCORE: 116 - Epsilon: 0\n",
            "EPISODE: 956 - FINAL SCORE: 128 - Epsilon: 0\n",
            "EPISODE: 957 - FINAL SCORE: 142 - Epsilon: 0\n",
            "EPISODE: 958 - FINAL SCORE: 135 - Epsilon: 0\n",
            "EPISODE: 959 - FINAL SCORE: 99 - Epsilon: 0\n",
            "EPISODE: 960 - FINAL SCORE: 131 - Epsilon: 0\n",
            "Updating target network...\n",
            "EPISODE: 961 - FINAL SCORE: 123 - Epsilon: 0\n",
            "EPISODE: 962 - FINAL SCORE: 148 - Epsilon: 0\n",
            "EPISODE: 963 - FINAL SCORE: 97 - Epsilon: 0\n",
            "EPISODE: 964 - FINAL SCORE: 163 - Epsilon: 0\n",
            "EPISODE: 965 - FINAL SCORE: 145 - Epsilon: 0\n",
            "EPISODE: 966 - FINAL SCORE: 136 - Epsilon: 0\n",
            "EPISODE: 967 - FINAL SCORE: 189 - Epsilon: 0\n",
            "EPISODE: 968 - FINAL SCORE: 155 - Epsilon: 0\n",
            "EPISODE: 969 - FINAL SCORE: 92 - Epsilon: 0\n",
            "EPISODE: 970 - FINAL SCORE: 129 - Epsilon: 0\n",
            "Updating target network...\n",
            "EPISODE: 971 - FINAL SCORE: 131 - Epsilon: 0\n",
            "EPISODE: 972 - FINAL SCORE: 83 - Epsilon: 0\n",
            "EPISODE: 973 - FINAL SCORE: 181 - Epsilon: 0\n",
            "EPISODE: 974 - FINAL SCORE: 206 - Epsilon: 0\n",
            "EPISODE: 975 - FINAL SCORE: 115 - Epsilon: 0\n",
            "EPISODE: 976 - FINAL SCORE: 84 - Epsilon: 0\n",
            "EPISODE: 977 - FINAL SCORE: 163 - Epsilon: 0\n",
            "EPISODE: 978 - FINAL SCORE: 101 - Epsilon: 0\n",
            "EPISODE: 979 - FINAL SCORE: 99 - Epsilon: 0\n",
            "EPISODE: 980 - FINAL SCORE: 106 - Epsilon: 0\n",
            "Updating target network...\n",
            "EPISODE: 981 - FINAL SCORE: 146 - Epsilon: 0\n",
            "EPISODE: 982 - FINAL SCORE: 89 - Epsilon: 0\n",
            "EPISODE: 983 - FINAL SCORE: 79 - Epsilon: 0\n",
            "EPISODE: 984 - FINAL SCORE: 95 - Epsilon: 0\n",
            "EPISODE: 985 - FINAL SCORE: 99 - Epsilon: 0\n",
            "EPISODE: 986 - FINAL SCORE: 149 - Epsilon: 0\n",
            "EPISODE: 987 - FINAL SCORE: 154 - Epsilon: 0\n",
            "EPISODE: 988 - FINAL SCORE: 141 - Epsilon: 0\n",
            "EPISODE: 989 - FINAL SCORE: 104 - Epsilon: 0\n",
            "EPISODE: 990 - FINAL SCORE: 79 - Epsilon: 0\n",
            "Updating target network...\n",
            "EPISODE: 991 - FINAL SCORE: 134 - Epsilon: 0\n",
            "EPISODE: 992 - FINAL SCORE: 96 - Epsilon: 0\n",
            "EPISODE: 993 - FINAL SCORE: 188 - Epsilon: 0\n",
            "EPISODE: 994 - FINAL SCORE: 131 - Epsilon: 0\n",
            "EPISODE: 995 - FINAL SCORE: 74 - Epsilon: 0\n",
            "EPISODE: 996 - FINAL SCORE: 160 - Epsilon: 0\n",
            "EPISODE: 997 - FINAL SCORE: 124 - Epsilon: 0\n",
            "EPISODE: 998 - FINAL SCORE: 149 - Epsilon: 0\n",
            "EPISODE: 999 - FINAL SCORE: 164 - Epsilon: 0\n",
            "EPISODE: 1000 - FINAL SCORE: 117 - Epsilon: 0\n"
          ],
          "name": "stdout"
        }
      ]
    },
    {
      "cell_type": "code",
      "metadata": {
        "id": "rOymZx4w5grf",
        "colab": {
          "base_uri": "https://localhost:8080/",
          "height": 265
        },
        "outputId": "a599f75f-087e-4116-8e79-e2d57da4a5c5"
      },
      "source": [
        "# train_quality = \r\n",
        "\r\n",
        "def running_mean(x, N):\r\n",
        "    cumsum = np.cumsum(np.insert(x, 0, 0)) \r\n",
        "    return (cumsum[N:] - cumsum[:-N]) / float(N)\r\n",
        "\r\n",
        "plt.plot(score_record)\r\n",
        "plt.plot(running_mean(score_record,30))\r\n",
        "plt.plot(running_mean(score_record,100))\r\n",
        "\r\n",
        "# plt.ylim([0,500])\r\n",
        "plt.grid(linestyle=\":\")"
      ],
      "execution_count": 24,
      "outputs": [
        {
          "output_type": "display_data",
          "data": {
            "image/png": "[encoded data removed]",
            "text/plain": [
              "<Figure size 432x288 with 1 Axes>"
            ]
          },
          "metadata": {
            "tags": [],
            "needs_background": "light"
          }
        }
      ]
    },
    {
      "cell_type": "code",
      "metadata": {
        "id": "d2FCW0fI5grl",
        "colab": {
          "base_uri": "https://localhost:8080/",
          "height": 1000
        },
        "outputId": "25ea5910-5fce-4d79-8616-5f749d79242d"
      },
      "source": [
        "# Display the videos, not required outside Colab\n",
        "show_videos()"
      ],
      "execution_count": 25,
      "outputs": [
        {
          "output_type": "stream",
          "text": [
            "\n",
            "SHOWING VIDEO video/openaigym.video.2.3544.video000000.mp4\n"
          ],
          "name": "stdout"
        },
        {
          "output_type": "display_data",
          "data": {
            "text/html": [
              "<video alt=\"test\" autoplay \n",
              "                loop controls style=\"height: 400px;\">\n",
              "                <source src=\"data:video/mp4;base64,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\" type=\"video/mp4\" />\n",
              "             </video>"
            ],
            "text/plain": [
              "<IPython.core.display.HTML object>"
            ]
          },
          "metadata": {
            "tags": []
          }
        },
        {
          "output_type": "stream",
          "text": [
            "\n",
            "SHOWING VIDEO video/openaigym.video.2.3544.video000100.mp4\n"
          ],
          "name": "stdout"
        },
        {
          "output_type": "display_data",
          "data": {
            "text/html": [
              "<video alt=\"test\" autoplay \n",
              "                loop controls style=\"height: 400px;\">\n",
              "                <source src=\"data:video/mp4;base64,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\" type=\"video/mp4\" />\n",
              "             </video>"
            ],
            "text/plain": [
              "<IPython.core.display.HTML object>"
            ]
          },
          "metadata": {
            "tags": []
          }
        },
        {
          "output_type": "stream",
          "text": [
            "\n",
            "SHOWING VIDEO video/openaigym.video.2.3544.video000200.mp4\n"
          ],
          "name": "stdout"
        },
        {
          "output_type": "display_data",
          "data": {
            "text/html": [
              "<video alt=\"test\" autoplay \n",
              "                loop controls style=\"height: 400px;\">\n",
              "                <source src=\"data:video/mp4;base64,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\" type=\"video/mp4\" />\n",
              "             </video>"
            ],
            "text/plain": [
              "<IPython.core.display.HTML object>"
            ]
          },
          "metadata": {
            "tags": []
          }
        },
        {
          "output_type": "stream",
          "text": [
            "\n",
            "SHOWING VIDEO video/openaigym.video.2.3544.video000300.mp4\n"
          ],
          "name": "stdout"
        },
        {
          "output_type": "display_data",
          "data": {
            "text/html": [
              "<video alt=\"test\" autoplay \n",
              "                loop controls style=\"height: 400px;\">\n",
              "                <source src=\"data:video/mp4;base64,AAAAIGZ0eXBpc29tAAACAGlzb21pc28yYXZjMW1wNDEAAAAIZnJlZQAACmBtZGF0AAACrgYF//+q3EXpvebZSLeWLNgg2SPu73gyNjQgLSBjb3JlIDE1MiByMjg1NCBlOWE1OTAzIC0gSC4yNjQvTVBFRy00IEFWQyBjb2RlYyAtIENvcHlsZWZ0IDIwMDMtMjAxNyAtIGh0dHA6Ly93d3cudmlkZW9sYW4ub3JnL3gyNjQuaHRtbCAtIG9wdGlvbnM6IGNhYmFjPTEgcmVmPTMgZGVibG9jaz0xOjA6MCBhbmFseXNlPTB4MzoweDExMyBtZT1oZXggc3VibWU9NyBwc3k9MSBwc3lfcmQ9MS4wMDowLjAwIG1peGVkX3JlZj0xIG1lX3JhbmdlPTE2IGNocm9tYV9tZT0xIHRyZWxsaXM9MSA4eDhkY3Q9MSBjcW09MCBkZWFkem9uZT0yMSwxMSBmYXN0X3Bza2lwPTEgY2hyb21hX3FwX29mZnNldD0tMiB0aHJlYWRzPTMgbG9va2FoZWFkX3RocmVhZHM9MSBzbGljZWRfdGhyZWFkcz0wIG5yPTAgZGVjaW1hdGU9MSBpbnRlcmxhY2VkPTAgYmx1cmF5X2NvbXBhdD0wIGNvbnN0cmFpbmVkX2ludHJhPTAgYmZyYW1lcz0zIGJfcHlyYW1pZD0yIGJfYWRhcHQ9MSBiX2JpYXM9MCBkaXJlY3Q9MSB3ZWlnaHRiPTEgb3Blbl9nb3A9MCB3ZWlnaHRwPTIga2V5aW50PTI1MCBrZXlpbnRfbWluPTI1IHNjZW5lY3V0PTQwIGludHJhX3JlZnJlc2g9MCByY19sb29rYWhlYWQ9NDAgcmM9Y3JmIG1idHJlZT0xIGNyZj0yMy4wIHFjb21wPTAuNjAgcXBtaW49MCBxcG1heD02OSBxcHN0ZXA9NCBpcF9yYXRpbz0xLjQwIGFxPTE6MS4wMACAAAAB4WWIhAAv//72rvzLK0cLlS4dWXuzUfLoSXL9iDB9aAAAAwAAAwAAJuKiZ0WFMeJsgAAALmAIWElDyDzETFWKgSvGXwSjAgAIotK/ImYTPv38g1Bsad9fB/QPyCrVFWE6tIpRLJ5jkcf2pMV4ER2obKw4RfGqY2nVtv6UVuyCrToIMx+iUXVwbXBlgya1feDyQvvRgWVH2acwFEV0HMfylHF0Sg0ikisVbcvzg0FgouhJv/+jkk1izbV7u8qsZSlwqz6FAL34YeXpafKnJjEVj7y95Rc2awRaiovfAouQADIB8u8i6yp2OnAkhgFriAFhFKu+xGwBZU/G5ufbtJBND+7GiOwL4iLjf+sViVY1pbSIUEnYXCunCQuPD8fpTXIcS6IGPzk5tFWb9WOMSrPXVnY9kJfbrn+c+u84s7atbw9zNu/TFIIF7IU0nL1qM6MrIYCMCVTe6FLJ3VTcaXc3K9tt+SqlG9fvvGkJhwrXLL5Nva5LynHMkfQWGMmrSaTABjgPen5SCAvqnjYshuVAiJ+Ddf0BSatA8A05F49btkCAsJ75GQFiNXM87NaUCPxWofdNnfqvXDez/E6aNUthUtpB3ZNjlNHsWMD7kDri19ProdB0V+r4IyAAAAMAAAMAAnsAAADXQZokbEK//jhAAAENE+nmgAWtLtu8tqtu1QOD/NHFeNL9ZXdZ+O2T+KJ/6dn7yMTTPsajIH+rpT1a9VubSMLQ9paxYoIAkiY/Y5cig+uVa/Y83lisb3TDUJelXDb8YgMD8B/MnIYhOn0R1XciJqcFXAClIpheuX7KQuwCta3vvUZpSlvkEeMTY19466nr2yYK+IDJiKZsKngzJ7tO7UlF78XmQCMjXuBH/SdjsigGi7KtVAjEbgsRHsxxEdhg7PSWtMvtThnu7VNsM9CQpgwOeCd2AmX9INAAAAB2QZ5CeIR/AAAWyJ+AK1Ja7s29kY8tRD2M+j1wUQ6wCae82GP9n5zYMJCwvOfUvJ/MRBkg6jVgxeSt8GcYDYd46bpb1INxv6ry+JXZ31du9/5Kf08kYct38BfoNF2BN91SK1cUnVX+AAEIpNz9T6sTrWjLBdGzVwAAAFUBnmF0R/8AACLDQmnAiS8R/iPzy646oWMwdkH2jciBcvM285HcMmMfI+io7LD9T1xxCaRakyDc60wDviI5SLryf2DetokgAAhYIa8PZm2tSqBsN6KAAAAAYQGeY2pH/wAAI78EJ+4HTovWrpgxDgdK2pr7XzPszbPaW0J/GACZ/ECyVQ/qUx8zxXF6pjtf18HYvpZTjcvIDcrP6Mu7xUkDP5df+suDgkXBgcgAA4QIMXwLlq3a1KoABQ0AAADKQZpmSahBaJlMFPCv/jhAAAEOA7Rp02ADiziRnrpHWuujUhQJtyC6GtlisSKQkjnTvOVR2sZ84BTS8xTcphfaOis81XcUpKJjwZVTzo+kPwrOCIOMG7mt3tFhT1ZCkW9EMc/4946JeRVlW99tZKqvAMDBnl6QJW0LQMm+cpkZGa90vEWccw/JnQ7s5YJISSEgX+5y+cd9NmrL9x+dmE7gCEj34n95edG9xZBOmyL65imGfktmdzDPxx3JIONMiRUa1K6EAlq8J8t/rQAAAEQBnoVqR/8AACPBgQinmcDQ+mNGUUGLTSjmuKWDy39K6DBXIk74zgAAAwAAQGTx7dv05xVn2OyVInpgnW5cxrbVKoAB8wAAAKNBmodJ4QpSZTAhX/44QAABDZMlpD5bGDdD2IuN0gG8ss7E0n3d2wAWtr09Glf1oNwR+imBx4H9vMdyLov8UXH7P5U05xMpyh15ml1g8BU/f+gpXznVdS2U2cwSQZcWKvhkQmN0cnBihgJsiT6+LhLiDh2yrZr51vnbmWluI1FepOCxw0stRH6IeBYu2BfGLvnO/qW6RRUvD6QDUHz3QuBMsCJhAAAA2kGaqknhDomUwI///IQAAA/YYSk6HEAOe0d0FueD4MQ+stYlaLlDz2lRNBZWEh/ZRF3r6v3LrmqKJTshxFcwbzY/wJvmTT2UYYFg6Wdg6fUMRQCAFvTfIfmQkdD5A5yCD/qJVvinKMUuFo0nuEszwSEVU5/KuKtyQ/V9Vz6LzlN2UV8BH0kdv7ZUDUfTCKUJSiGFfqBm0xei4Pc0G7cGQld+XJb+ku7gJsDheMwadLT6MekLz6vEvxKzuGIkGoDw6i5AVuRZIb+8gG0Q+r83DlEsdpDL5GMBoALKAAAAm0GeyEURPCP/AAAWpLuL4tREpp9DPdX2rWb4safKjFogoABOzqH8M5A/2QprnWS+RR7so4PvSLvHi8Kmzydjlz8IS7crHXfwWNhmK8QWLnfZy9WQlS+JNLU7X80LUqk2V/JqhiERFwF5XtvUODWwT+PUtmtXH//aH8Ucjfz6KDTTfjjVI37paHB9D0hfokxIAGaE2L44sZCeEBxwAAAAcAGe6WpH/wAAIzsmUKMsAd5xFFbBQzP5oPTaJyS5ShOgha4tH+vRJdvv+bLm45YPbMNea4JImAoyOlqVurG2ho3OOOyaRQgAIAJ8NDcmRrnkD6nNS0w7QkDf530HWGlFRXolL1R3NAAAL6WR5ayLAUkAAAOPbW9vdgAAAGxtdmhkAAAAAAAAAAAAAAAAAAAD6AAAANwAAQAAAQAAAAAAAAAAAAAAAAEAAAAAAAAAAAAAAAAAAAABAAAAAAAAAAAAAAAAAABAAAAAAAAAAAAAAAAAAAAAAAAAAAAAAAAAAAAAAAAAAgAAArl0cmFrAAAAXHRraGQAAAADAAAAAAAAAAAAAAABAAAAAAAAANwAAAAAAAAAAAAAAAAAAAAAAAEAAAAAAAAAAAAAAAAAAAABAAAAAAAAAAAAAAAAAABAAAAAAlgAAAGQAAAAAAAkZWR0cwAAABxlbHN0AAAAAAAAAAEAAADcAAACAAABAAAAAAIxbWRpYQAAACBtZGhkAAAAAAAAAAAAAAAAAAAyAAAACwBVxAAAAAAALWhkbHIAAAAAAAAAAHZpZGUAAAAAAAAAAAAAAABWaWRlb0hhbmRsZXIAAAAB3G1pbmYAAAAUdm1oZAAAAAEAAAAAAAAAAAAAACRkaW5mAAAAHGRyZWYAAAAAAAAAAQAAAAx1cmwgAAAAAQAAAZxzdGJsAAAAmHN0c2QAAAAAAAAAAQAAAIhhdmMxAAAAAAAAAAEAAAAAAAAAAAAAAAAAAAAAAlgBkABIAAAASAAAAAAAAAABAAAAAAAAAAAAAAAAAAAAAAAAAAAAAAAAAAAAAAAAAAAAGP//AAAAMmF2Y0MBZAAf/+EAGWdkAB+s2UCYM+XhAAADAAEAAAMAZA8YMZYBAAZo6+PLIsAAAAAYc3R0cwAAAAAAAAABAAAACwAAAQAAAAAUc3RzcwAAAAAAAAABAAAAAQAAAGBjdHRzAAAAAAAAAAoAAAABAAACAAAAAAEAAAUAAAAAAQAAAgAAAAABAAAAAAAAAAEAAAEAAAAAAQAAAwAAAAABAAABAAAAAAEAAAIAAAAAAQAABAAAAAACAAABAAAAABxzdHNjAAAAAAAAAAEAAAABAAAACwAAAAEAAABAc3RzegAAAAAAAAAAAAAACwAABJcAAADbAAAAegAAAFkAAABlAAAAzgAAAEgAAACnAAAA3gAAAJ8AAAB0AAAAFHN0Y28AAAAAAAAAAQAAADAAAABidWR0YQAAAFptZXRhAAAAAAAAACFoZGxyAAAAAAAAAABtZGlyYXBwbAAAAAAAAAAAAAAAAC1pbHN0AAAAJal0b28AAAAdZGF0YQAAAAEAAAAATGF2ZjU3LjgzLjEwMA==\" type=\"video/mp4\" />\n",
              "             </video>"
            ],
            "text/plain": [
              "<IPython.core.display.HTML object>"
            ]
          },
          "metadata": {
            "tags": []
          }
        },
        {
          "output_type": "stream",
          "text": [
            "\n",
            "SHOWING VIDEO video/openaigym.video.2.3544.video000400.mp4\n"
          ],
          "name": "stdout"
        },
        {
          "output_type": "display_data",
          "data": {
            "text/html": [
              "<video alt=\"test\" autoplay \n",
              "                loop controls style=\"height: 400px;\">\n",
              "                <source src=\"data:video/mp4;base64,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\" type=\"video/mp4\" />\n",
              "             </video>"
            ],
            "text/plain": [
              "<IPython.core.display.HTML object>"
            ]
          },
          "metadata": {
            "tags": []
          }
        },
        {
          "output_type": "stream",
          "text": [
            "\n",
            "SHOWING VIDEO video/openaigym.video.2.3544.video000500.mp4\n"
          ],
          "name": "stdout"
        },
        {
          "output_type": "display_data",
          "data": {
            "text/html": [
              "<video alt=\"test\" autoplay \n",
              "                loop controls style=\"height: 400px;\">\n",
              "                <source src=\"data:video/mp4;base64,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\" type=\"video/mp4\" />\n",
              "             </video>"
            ],
            "text/plain": [
              "<IPython.core.display.HTML object>"
            ]
          },
          "metadata": {
            "tags": []
          }
        },
        {
          "output_type": "stream",
          "text": [
            "\n",
            "SHOWING VIDEO video/openaigym.video.2.3544.video000600.mp4\n"
          ],
          "name": "stdout"
        },
        {
          "output_type": "display_data",
          "data": {
            "text/html": [
              "<video alt=\"test\" autoplay \n",
              "                loop controls style=\"height: 400px;\">\n",
              "                <source src=\"data:video/mp4;base64,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\" type=\"video/mp4\" />\n",
              "             </video>"
            ],
            "text/plain": [
              "<IPython.core.display.HTML object>"
            ]
          },
          "metadata": {
            "tags": []
          }
        },
        {
          "output_type": "stream",
          "text": [
            "\n",
            "SHOWING VIDEO video/openaigym.video.2.3544.video000700.mp4\n"
          ],
          "name": "stdout"
        },
        {
          "output_type": "display_data",
          "data": {
            "text/html": [
              "<video alt=\"test\" autoplay \n",
              "                loop controls style=\"height: 400px;\">\n",
              "                <source src=\"data:video/mp4;base64,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\" type=\"video/mp4\" />\n",
              "             </video>"
            ],
            "text/plain": [
              "<IPython.core.display.HTML object>"
            ]
          },
          "metadata": {
            "tags": []
          }
        },
        {
          "output_type": "stream",
          "text": [
            "\n",
            "SHOWING VIDEO video/openaigym.video.2.3544.video000800.mp4\n"
          ],
          "name": "stdout"
        },
        {
          "output_type": "display_data",
          "data": {
            "text/html": [
              "<video alt=\"test\" autoplay \n",
              "                loop controls style=\"height: 400px;\">\n",
              "                <source src=\"data:video/mp4;base64,AAAAIGZ0eXBpc29tAAACAGlzb21pc28yYXZjMW1wNDEAAAAIZnJlZQAAMBltZGF0AAACrgYF//+q3EXpvebZSLeWLNgg2SPu73gyNjQgLSBjb3JlIDE1MiByMjg1NCBlOWE1OTAzIC0gSC4yNjQvTVBFRy00IEFWQyBjb2RlYyAtIENvcHlsZWZ0IDIwMDMtMjAxNyAtIGh0dHA6Ly93d3cudmlkZW9sYW4ub3JnL3gyNjQuaHRtbCAtIG9wdGlvbnM6IGNhYmFjPTEgcmVmPTMgZGVibG9jaz0xOjA6MCBhbmFseXNlPTB4MzoweDExMyBtZT1oZXggc3VibWU9NyBwc3k9MSBwc3lfcmQ9MS4wMDowLjAwIG1peGVkX3JlZj0xIG1lX3JhbmdlPTE2IGNocm9tYV9tZT0xIHRyZWxsaXM9MSA4eDhkY3Q9MSBjcW09MCBkZWFkem9uZT0yMSwxMSBmYXN0X3Bza2lwPTEgY2hyb21hX3FwX29mZnNldD0tMiB0aHJlYWRzPTMgbG9va2FoZWFkX3RocmVhZHM9MSBzbGljZWRfdGhyZWFkcz0wIG5yPTAgZGVjaW1hdGU9MSBpbnRlcmxhY2VkPTAgYmx1cmF5X2NvbXBhdD0wIGNvbnN0cmFpbmVkX2ludHJhPTAgYmZyYW1lcz0zIGJfcHlyYW1pZD0yIGJfYWRhcHQ9MSBiX2JpYXM9MCBkaXJlY3Q9MSB3ZWlnaHRiPTEgb3Blbl9nb3A9MCB3ZWlnaHRwPTIga2V5aW50PTI1MCBrZXlpbnRfbWluPTI1IHNjZW5lY3V0PTQwIGludHJhX3JlZnJlc2g9MCByY19sb29rYWhlYWQ9NDAgcmM9Y3JmIG1idHJlZT0xIGNyZj0yMy4wIHFjb21wPTAuNjAgcXBtaW49MCBxcG1heD02OSBxcHN0ZXA9NCBpcF9yYXRpbz0xLjQwIGFxPTE6MS4wMACAAAACEGWIhAAv//72rvzLK0cLlS4dWXuzUfLoSXL9iDB9aAAAAwAAAwAAJuKiZ0WFMeJsgAAALmAIWElDyDzETFWKgSxBvXL4JRGgZBF0EAE/vicKH0bvXzMCfPkaYuCWEMCPKsJ6OoMyKZxXe6QWGUMoxnSKeuASCsSbeOsyThmTkMkbe2SM+ewna2t4tdmDfuorxZLpJn0eKJbdvuLq4PKvr2lbATu/RKVqRDhgaltG8STaLH3e6PCpXFWVCt5Ej64vvqNvcaMFMWWCspIm7gAwlLOKJp0C9uxwpFyqoq8CLhqlr9NvcFvcxCvPBgxs+IphAAxUNDK8GrEfUzsPlZbRtf0KZ0wACRUSocg/blAPieLvV2zZFI4g3+u8GvBuvsQhebslcpe8hnfn1Byu1tks1IJF/qv6STloK6nwQWSmTYgxBWE0Hz3ZDJq+0TslJu6LVks3VrN1beJXx5rV3QD+J4VWvj2mLeHuZqgb4pT7u7S9uPCIi1mIXPqqB+aMJOWYgKnKZPcEChxW9wveWWDTa3W+4Bkfz1oVZ5Ka1CvJxPQcQIO17VgzgninaasLNrh3Nsd6wQO/pvS/oixnrRxlQF1/g6cMQrsQ7o/+0wI+AyyEC/ezcZn3o3No0t9fghNhlC3z6uQdX3kII+Uxkq26O+FccPuImq6QsR+aSsd+rVPMykfb0jzSAAADAAADAABYwQAAASJBmiRsQv/+jLAAAEYKukYAWHQ7JLr7HKkkOG0oNxLckjLWQLU3W73y+Un3LlUns0HuvyUG2YO7A8fQQTxt3J1/SUVgBTh0L+DyjrtL9vULUTw+aS3jMD6FLulG2944OS9wZW3O3YF6WMx+mwHAw2QjAKoRsec0KjAbjke6x4l6L0kgR4NHHU6guXpKRVa4b7h7JbED2jk3PumdqgNZh6mmOU6JhfIdpZAp34hGdy0WAYmWDpDfj5DQ5NG89Ux24zMmU4Xx5zKIbNuQgYCLCBNsiuK8ACpbAsHw37u3AQegMzK68fjIObUBD4PRPO0xIEPUP9rT7kYcTEjNy+NPMnUpDlc7j6eWAPbl8wAAAwATvw7g/lSPm7yb6M71/UXc/17hQAAAAERBnkJ4hH8AABa+S63Fx7uzfKiLCYaY3RVNE8arE2CNOzPjdwV8BV11dwhsG/oPzEDk9W7Kww2RgAAAAwCP3+yELqgGpQAAADIBnmF0R/8AAA1/STmyD2+gJP5ZB5CqPgmrCNfrBXXjbPgw1AAAAwAAAwAYuoBUouECXgAAAEIBnmNqR/8AACOxzBBET5UcT8795mqPR8K2mjeGjCetcPkDfoAQJNPSQOqY5jXA1z41UQrDxAAAAwAcDl2GFB4QG1EAAACJQZpoSahBaJlMCF///oywAABGEHDDTmAHRscMpjxIugAS6yHc5M3wZONV9FF+YowzKD3fDHI+M5qX3GZe9pMrrhl5oKxyythkrcK4AfX1d9AI4igoF6OeUlRJpz6l+BLGgTXlcK3iGN+jIXyCQCMThy+z7jYULbGTFlu7PoD/t1jDz5AwrJZXVDcAAABLQZ6GRREsI/8AABbIn4A5Nxn7rfJWNBsVuLQb69RlpyBnDvhPpS2I6XNrJgZsIfOmqSH1/4PTsukXkan06Bc+6RTKxJTeJNuoeCghAAAAPQGepXRH/wAAI6v4XCiAJ9mPX9nXNAn5ixFWsJaRKcU4hf5ZVB0AEyevwpq0flud/GD6UQstgNoMLMA59mEAAAA7AZ6nakf/AAAivx+JQjSuZgrUhVIcD3pMQ8DCl1uozgytNZa5ywuw042/K7h4AP4U5gMFx7bvBOlwW0AAAABeQZqpSahBbJlMCGf//p4QAABFcIoZkfX/MrwfIANi7F3gdGmGsuLOHi8p2La4/niWf9Rj1gL4A1rBBCFKbSZ2u2yMdEAE9uFsoa8KpIjLN41Q/X8EyJsKOokwpf1LwAAAAFxBms1J4QpSZTAhn/6eEAAARUUlvmz/YgvazA4dRaGEPodAO3pSPSG+oxMO8ZAXFTYdOD84L1jOkXvZmstWOAADdajLf5QCXZLwpV3CIgxjrNbAfx7OWhvoFAmMbQAAAEVBnutFNEwj/wAAFrxDzdm4Td0M9/6PONiNM+rh6xgw4O6tPTzE3ldv6bVcRAbAC1rKQJRIbdfsVjhP1JcWSDBbF5Gog7cAAAA6AZ8KdEf/AAANgqFJlBZc3DakDaH+a/LXsbIbG7hn62q/dRG6QgR6UTkxZLgATG2e5cg50d4TehrW3AAAADMBnwxqR/8AACO7q8icbO4hypW/pu4dNFfJsNopAMg27u5KgmL/1npVv46eKAfBOYTP/bMAAACkQZsRSahBaJlMCGf//p4QAABFum86xz4oAIwJLWb4HAjXxgSQGnlYQBbVV/JFbQYSxV2hnXcp9WN/ky8CLI3+ObYz6QlO0JpefCQfRkKKjnT3yshvdbHV/ld6x7mYtNEcxsJUUk4dwfKL0a/ToCADtisFT7DoqXyj0KiAsMLbEdVYdAUDdWUHJ38aO3z3A84Ow/zT2Xu46GSfkHEbmppJ0wW0L9kAAABFQZ8vRREsI/8AABa7nBFtNPoArDQbSgTYH9fQNGxZNPNA7BGq2+MkfDXXluO+W31QPVyMDrXr98ZE6Ew0fYYzs3t6rk8HAAAANQGfTnRH/wAAI6nOxZLnK1WJlMhQ4h2izq0g8eeXVqO6YCSr0WLDOMaow4/D6DMDn70Bi/ZgAAAAQwGfUGpH/wAAI7GlX3AvA/HGbo21vMYqQT9JvFbs7ScBt//ApRxEtTqldwK+wACdi5fIrMPrNRHMVbN3R4Ioz9616kgAAABpQZtVSahBbJlMCGf//p4QAABDZJzDdIAG6RfSNJF9XF+SwKjtuxBK4RvVnTiMcqDlTJaPuZuJxT9GvAAuZfvqQS41+eWbtXmZvqyZF1FGcXsTjNRhgzCBCmBfSrbs6QUokNXtfZc6czbhAAAAUEGfc0UVLCP/AAAWIyytV1KvcvOWAF1PDMIQBCvhAMIvtdh5aQRf8PHv96jgTRK6pmHnk4i/kOvjnObIYezllUTSaf86x3QR77TIEV8FJrbgAAAAOQGfknRH/wAAIsC5zA5Zmo0SXpv3j2g2TW0yr6Gsp+ZRgyqL/N64/2vmHpyRQjVVGCG92t1R+7o7cAAAAD4Bn5RqR/8AACI33vOOHfae1jUQts+s9/HN99L6dsBoa0cawoVqwU7/uBcs9VaQn2VQwxkrNiHoSd8MyBbZgQAAAGZBm5lJqEFsmUwIX//+jLAAAEQBDVcwAjHvWqniVLse2GTH7FG7if2eQVjs/zfZvI/4MJcy5lW/JiWwfucd+eAxKo17c2wK1Lv+8w06lQm8p+Opm6lt2me1YxbmIoVXf53ZzGNOrB4AAABLQZ+3RRUsI/8AABYinx5foJOPtEFs+WBfmEC25gb8r1wqRkM6eqlQs4NdXNntgAHHVTVhdwYI0mndohxfJ3zyv7cU/5nn7AhAQi25AAAANAGf1nRH/wAAIqnQHCjSKEKevblmA0+pN7QdxAP2IkrnCQmgpHGI4zqBI/bwjxh7yuZ1ilUAAAAyAZ/Yakf/AAAirjHiuHS6oVB+ZwnXCUUcMrMjrLdTkJq9eTinqN2217X4jikMV9pSw1IAAACQQZvdSahBbJlMCF///oywAABEFFKahHH0AIMOiC7e5d41UOoZaiYV2np9Eh/4PHB2pKqURQt3CEpUKfvmOC4xbQhcIjJG6Sm93ljImrLUQ2Wy9KmEdzIXXbySz+TvY41eXDvn6YBqUHLO14GmfMst7fyqOqfuDB03zdLdUgoXFmKr+acyddlD06a+zSQI8bmBAAAAWUGf+0UVLCP/AAAWIp7fTjzFSvzxmtn3sxBvw4jh1KBDvq50q6EwelJG6IAbDpFu+ZdR2LDeNE2k7f/fbuj8mThHutTJw7jls6IYTvk+ySx01z2ubmyTMBNgAAAALgGeGnRH/wAAIj1TryoSbWWy8efB7cULXwD6UfBytLa4H8P82JXjWyzqTKYGWpEAAAAzAZ4cakf/AAAirjEv0XO6o4TvEvyuAAgFl4YimbQLkE4oUvfcBAANjP9EdowchOwav+2ZAAAAj0GaH0moQWyZTBRML//+jLAAAEQCBU3LUkb8D558z0ul08jPs5KArixWbIBdMHLy4+/+W3i8nDEAQtVRmIIOYrTdKjGlqd00rLwmGbFu+hVMsmrqbqIJIvxUev673Z2bDj9iaJGeM06xKEl7IrFvBZaesRQLyN/CiBLlPIKf+vkJu/7aOPOdoFyaUhvgr7pAAAAAPAGePmpH/wAAIq4yNQrYNtQVqt/fHdZEQ0qgtJIJVzCBe1lE1OrhLqD6+xHGrnToiAEugE8gji6/hmUtkwAAAHFBmiNJ4QpSZTAhf/6MsAAARHpvPcvsWABHamQe32LdBBbFkTmmB5FsU3Nr29+bCjACavprWOiWizHI0gpF67NqbhMZKQaN62yDaNTjrFNvc5FN4Pczw+Lxi3+yIEWOLHcI65MQcd0jhoFHk59BPGmyxwAAAEdBnkFFNEwj/wAAFiH9qBwsDsfJpoFN3zseYr1shVzTii76UdAOit6DKYpFACWdZ+ATPh4DTdD1jcd16gmvFNEEHT2NFKc70AAAADkBnmB0R/8AACKpz2dqrC8NVvpJHvynIoxRdj+K+vtV7oNYx5t4BNZe7MaQjWPBZ/IPIgSNTeHHcFkAAAA0AZ5iakf/AAAirURiS0887DmQ1CGtCvrPodsjWVOSahF44vxKQrHozQ3h0aJqXr1WYhVPgAAAAItBmmdJqEFomUwIX//+jLAAAEIUU9HEO7pIlr2xdDMVoBoASa/6SQeM2OlLpUYo17p9npIiLsBNSfN6b4iVMoOOJtEn2zDZ5elQmGoe+vRTYBoeJXyoDcuhvKVsNoz3n3xv+6L4BgFV40O1wIJf/GHblGu6l/CIJ9b8hEa9Ervzq3Vsm4SvYk1ANxqxAAAARkGehUURLCP/AAAVkf2/6IvFJcM3GQkS6x5VT1g2wjqwHSUEfoXpkwhAprGx3uXmxg5eHFowqtzn320uN0XJ71HyAYSWB70AAAA4AZ6kdEf/AAAhwE5q53qlfjHd3o3GRZGDWq000bw4gnaoXEW6isOs+QAhOGf1VDnExy/OfNl3e9EAAAA4AZ6makf/AAAhrUaWx9zKvkmV5xLpXLylHGej7ZaugQX6M8sK9DRVW4kzOwLFbs8whleUi4dp6YEAAABgQZqrSahBbJlMCFf//jhAAAD9Y0hc5fM19o7ZxkjuP6j6WH8pUCYeeoVJ8kN1tV8z+pM7K07w/OIRaaet+NiQQPTl6ho//It1MAJnCoaY6dahHR5ts+2TIp+wOjveUH/xAAAATkGeyUUVLCP/AAAVkgnpC0FbZqX4T8tEHQABxnNwxw4yhcFyoS+TyEkZXjP+JzcRjX+1GwEzQGvAqa0mEPrZJvSCuEjUE/QJXi0EotOapAAAADYBnuh0R/8AACHAuN/BNKhDLvbyAP6iRmdgTYkhIHWdBlhxb5DMIUqNmokmSJJ+waL+q9KKT3sAAAA4AZ7qakf/AAAhrUXmcPqgQhy+728EaAJgIXM7a+zApLaoAY8/DrlxCo8cyi+mRbEEDmbt7n2l+OAAAACQQZrsSahBbJlMCF///oywAABCAgUpOdfSBZ0ABYmmY2dnUxP5y+tOgRokhyeURPQQ8BgypJbPlZVfuWW6BXU5zrd452DZPiSmW4u4KMqvtmGSWxtnMI9idq+cjnVQuqlav0hXpYKKdjxFCF28eMK7R/YgYjrCGg4BGi9dj+5vBvKPC31pz1Lbml1wRGn536ESAAAAX0GbDUnhClJlMCGf/p4QAABBum89yeWsrABatjGZ9CBhF9aWz8RM2R+kIqWGajyfECBGE1xfMrvu0Ykshn7si+fxccd4C9IetZu0Gt/mkO0HtTRH9JRJ4lrk2z74Pl3BAAAAfkGbMUnhDomUwIX//oywAABAJMVChJphFn/ROd1jChrOBEFyU4wafQAsap7yJw0JX3yVsow61YlB81ImoEp2uoghWGC9dstr+XbP9uCmIZeOo8VVzFGPHasc0N9Es7EvHuL0OEgxxa/av8MQPJx6dXIUEF6iMG1a8wg3F/e4gQAAAGNBn09FETwj/wAAFQH+2+AIl7cjEF8dD7h6Ra3suvZkt42E5xBcWOQ/h/sS6USne0BRfezMHWA5JvDiRLhzkAglvfHUE/GkP1fV6RYOQvPdSeRnPQOozJrOOAsf9e1xmmmRrccAAAA3AZ9udEf/AAAgqUDUqO65csUFqRggCoS/IdJenGNBPTKn4GF8DkiXFTEoVR9hXv9mnr+wO/5kVAAAAFABn3BqR/8AACCtRry5NakJ9h6V2JiB0CLxr+fltItHAoj5+rGKnZGv8LxDAONCL+UlwANRniNpH4U0+vzOpGjEVIT1VRwN2c1/+ZjkS/TtgAAAAFpBm3RJqEFomUwIZ//+nhAAAD9eizGbz+71EWIh1FIvvlyJeEARM/QQ12/jPXuEwmhO+0aE7Fv1Kb3jTUXp0RcQbJCtLmBROdX5XJo0fxDPRPhkIKtWF9ECneEAAABZQZ+SRREsI/8AABULaLLNiqAOQjBwnjJIwkYp6Pj17i7VL7I/L8IAnO/wYoHtGhhiGrc2CXaIk9LEy4ZgUnuXIzcCSvU+bh0AQwWzMk6cAEBdB8bpyn14aYAAAAA3AZ+zakf/AAAgq7GPmU73NOTmf8e0sqpj737w+ID7X7fro/Z/Pv5IephbZXT8DgSZf1uunUfpgAAAAJdBm7hJqEFsmUwIZ//+nhAAAD++xo0NdZgA43qMTf3Z6/L0U9fiC4OlRR2pn3fENg7x99McVkDXSeRNf8g4jQL+7ma8BAYFFCVEH8cTbP+Q4ljTa78NYlEpTGC6Z3bIRHQP3AJZuxpdUk5jua+QUzULpvV1vP2Gq2jCpUZJXR556aQtqSTu7+D6sizgA8PhvJWFXfSCOgDVAAAAUEGf1kUVLCP/AAAVBSU4nBBs9dgAn/qoct/N2l9eeQkRUjLufsSD23ldnORiwPD8zfBTUjzB34uAEsPQcLaG6e8XTMAIz5rv51viGPIHEnpgAAAAPgGf9XRH/wAAIKvnisEvpf7Xq7JbaA9OsBzynhrsU6EAwmXjJsqjGvT6iUiQAVo0enlB4+Uk8MaxFzeVE9WBAAAANwGf92pH/wAAH7jtir+J26OBYskm5r7vjjQ9ddDiAaxAwV2NYo2vFCqCzCfJDVJK3tDwb/BDbpkAAABVQZv8SahBbJlMCF///oywAAA+vCc/3Uwo8XJz+WuFaT3F4jKize27lb6t+slpL6oVkNnML/zvSdC04iIjHlP9YATLwMMbH6UKBGKS8Bg5+zpg07Ai4AAAAFlBnhpFFSwj/wAAFHs2jMMCnOg8KdSqK3d529Ng1nhxC7gE7L4r0ejqUdCTPZgCDMQ9A72TD2EizI+/qJGAE0yib3WdvpKmUJTanEl50zjOMFjLxWIsYDaCBQAAAFABnjl0R/8AAB+2c0v3/De+UIJG51T0q6ltYfUXQzHrpVFdQkHLYD2/tM9DX3F1VVAA2inHKCHCYPmpo+xUP9VjODGRQMfYzf5BO2gYmJ7pgAAAAEsBnjtqR/8AAB/GY2epG3eXoT8FMS0O5pOfb3p7R5gM+dB7/4mcr3joaZjTjs57lACZ1PSA3yIRFiaAa/euZ431kgSYoFmIrAXtxSEAAABiQZogSahBbJlMCF///oywAAA8/L6PAfVz6NhdAwWo4O9yAIm50e7TAfVoAgim8h+NUm3tokhpbQoAXogYblONuH7YFZrjxCGE1Gb909Rjw4LOLfdxtduX/uBywA9qfBR/jSEAAABLQZ5eRRUsI/8AABPiRC/77RlnYTzVCEHMVmHtjofMO51eQLpCXi+6wI4MFLyxADd0v525CNESjyMv77FHhWo4Ymqs3cizPb1IdF3QAAAANAGefXRH/wAAHxdEMQivJ5mnZzQhsu7DO66hkiscwh3FexNwhpDRLbdOFhcu7rVOYOBELtgAAABaAZ5/akf/AAAe/bZ1J+65D0gBxy83HTIUq7Zk6wfQcw/P6K3+K92UMGdHeq1AWSYEDVByCAgED7uGa3d6Y/Djx73MJ+ZSrH5Js3MExDi+RvI6JuFvunTiTg9HAAAAhkGaZEmoQWyZTAhf//6MsAAAPVwnPdXWxYAC2eoPzSY+CYkwiNAs0Tgxh8Ydpaj1YEnlse5n4KYH2c8F5cFr+o0qYyH4nHjTU5NmgZotLL0E7aMPlv7A5JuX8/xMbnhjU5hh1ygZ8UkJ7fdOez6td5i6iMMQF8BRmME7KTyoLwc+ibUGQI6YAAAAUEGegkUVLCP/AAAT3SnPpMPgDmB1zgztG87o876WjlQTDcmoiOWx4DBgLi9AMhlfUgdJI2ksspoFIZCQtaclUYKmx2fIV5RsDQlSkB0wvf9JAAAAUwGeoXRH/wAAHxF5oS6VAUl2ZDSAdbjTyaJv/eh4up4sJBXiPv0JRt2o2fyqby/x0ACaugz4CoPtyMSRBIs+yG4DrY67Cu0cl7sxEOyrExc4m2uzAAAATQGeo2pH/wAAHwyJHA7yb78xjOFVACS6wi1FAsCFqYJz+xCzgP32mLsFY2qaK2QN+d4oWtfNTvCsWmR74ngZRbwsm6jk/CcUKSqHKHWPAAAAakGap0moQWyZTAhf//6MsAAAO6sWxTi+VOxtDWfMVGcDKPtYTSK2OMSxRILt9rAd/l0TOkhN/COuSnnMwzZcd0VB38DAA/CuRdqKt5+lsavmqYdwd3ycqa+i+W7Iv2xPT95oUVCKN2pskbkAAABTQZ7FRRUsI/8AABNdJVQDO7RbONlO/d/kAGYipoUJmTW5nwv+iYqqw+wMMO4iiJumfh/bcHwOBNF8fMt0lHSvOkTz3k/ef3Jad03y2Tpg3ansP/MAAABUAZ7makf/AAAeWAXVezGcHOK+PigAFz7YM4kzEhIvgLyBK1Rbo4NllmkNiMjxGPhuInH6pA4/WTOBWkiS86lnJEj92F0cvxgdqGYNlMFseBoXSvmBAAAAVUGa6UmoQWyZTBRML//+jLAAADv8Jz3QixYACWK5LEaKPl6bFjorcXffJc+GUl5E3WzP/Pk9wt8Ztcvb6gTRc+OqGzFFWNNzIsUhezhBk8cmcoAVKi4AAABZAZ8Iakf/AAAeXIkcC/RDwd6MnWzyZEgoQLe9u3wjZCn5rOjwT8PqfltWRBS9Lro75gAmrnQMP1wZFwPvk1uKPBtZBJv+aYfodgIKPs6YDulnFb1+b1Rs/MAAAACAQZsLSeEKUmUwUsL//oywAAA6Yp/jcuLmAFgkkG1Ft/SPncyTWghAuYPO1chly+8ZgqrEpHOfDzb8w8qfFDyUrTtsYhelOsVCtBsmsE2a4Kym0fD+PhDnMG0Gn3ZmCtVh8Wx/Vy547NN/0UCmSCU447QhMuKeGw6pwjjmOn7Xb0EAAABQAZ8qakf/AAAdqAYboMSmDB09oomF7j8Jc9ojrLZyDu0ZLHprUP53CcVNZmkCABA8c2LtA0586mJHgKggHxCIND8gvTIKEqu9lyYMcMyo3zAAAACOQZsvSeEOiZTAhf/+jLAAADqetoXWCKCYAcbRlx7x+aSHkcJXkwXruK/9CveWmai/hWqEFJ8h1uRHQ4t+yJ2nQZh8bK2HNEIXDqAXLwf4Fv75hMtoKNmqJePWJedQ+RrjLUT+T8XhEhReO+1DxRajbzIQCMHrpOwpAZMOW7J/c3wbRaxM3SbCBeATGoA9WQAAAFBBn01FFTwj/wAAEt1AozXwQEFR7tdpjexfLJF4QSRfT2JpCK1cG6vk7jHVMArF53gVW/ijmHdfcSd6shvkw0kG2qOpxuoBPuluj+MEN/s/4QAAADwBn2x0R/8AAB23blVOoISP9J+toynw9tk34eO7d5JG7CsuBCpvVAx/MEi4amHiGkeQkyhfjD5a5x6zr/0AAABNAZ9uakf/AAAdrKbUj9bv++1dIdjDy+k8LTnOr7c85/SD2/kDC/LBkE0tAX0CEuc3QWUAngeAcOT2o8AH5w3b2ufYWeTlKRyF2l26z/EAAADEQZtySahBaJlMCF///oywAAA5PCdBjXJW8sz8AEZHfH58xwPdP0N8E6sSrAFKzdDWrAWQf14RQQn4CYq3Th0kIjUudYWrGAew5yE7TKAODqt+xBSzuUM7Uec8QvAasB6OWAn2C/+da7g0x2nhzEzf3VNlE3HYZEip3MtxtH9jJJoX6i6vvCovPs2OMcdUAsES/Ez0ofV7/Tf/Zf3qyaLLSSMFZF7ZcbNB+fdX1u/tRl1J0OgeY5Bx6B8SK8rPY1bY5vUyoAAAAGRBn5BFESwj/wAAEl0ypFACL+yB/M5Kg6cWu1pchgrq9QLmUhMjHry2mOhQsGQCM5798Rns50YeGc2ywSo6vaK/6MRHNvr5kij9/25oBg3KjKOxly+9xOTi8xnBmE7eSbal6ZBYAAAAXQGfsWpH/wAAHPgF9fzNABF9KW6L3v5eZOR2y0D/xGkR1f0b2CRnWwR95malJv8dvbKJM0zmZlWQq5k717+CRVGJTyixwerrphz6ECS0KxRGwRcs2TE+a+6yEwlJeQAAAHFBm7ZJqEFsmUwIX//+jLAAADeLRah/8RufRsLiy7CmcuD+yp76X2R/UslvNnUsBdv8OnQuoiL+F12CFbCPPGam/pilywAAug0MdD6jfWBust/zsWH8osIW1X9CHyRjgtXs8G4iehVa1pujlDBccF/Q6AAAAE9Bn9RFFSwj/wAAEZyss+109Dpn+MWkxoj0NvwACIjhqmIyicpdIo6zDcGOj+4RNVvbZAFbZ8vDrh41w4/qtPO/xzviXSBPZUS2VxrNjQEHAAAAUAGf83RH/wAAHEXOr+4CTZhc6ENqqZtjcAbOKOZl2RKvusfx01LWaFAjJes/xfIlMtx8YsWW7WZazws4ATVhZwC0PaZqyrVysGG9AEMSOt6BAAAAVwGf9WpH/wAAHEgXxtdtfdIBLD6WSGdTWCTOPAC2KmeLAFNBLbMFYBspuZ6pVRQH1rXlj4AIg6FVdHwYdKYWs0dyqZITnupakISz+4b9oq9kiCqOaHnC6QAAAIJBm/dJqEFsmUwIX//+jLAAADfcJ0F7f/tU6KcZtCX8ttX+djAAHSaexe6qYvtLwHaaGcZ042bwBWC7yp4//es1CU17i1asO+6TfyNG6O0ne9NFmRPYowc1ko2lRzo7PlsEjNvvf6i6NyXRa/IlajrCw8Hq0ek1Li5iqZf9gBKY2IJFAAAAeEGaG0nhClJlMCF//oywAAA2VIX20ZgCghdIDQDndbDgUCyarBf9W6bs1BSpZvBOfmbtyLhVOdF7OclmwKPDBeIYZBOChuuUn1KyV020nFCRD85cORtumR+Ut5yqErnygIkMoBDD16IKx36+VLXV95g3tspwdxvGMQAAAEtBnjlFNEwj/wAAEVYAvfB+PYeCOFRlACxaE/b61jeL2agWBZGj2LR2aHPlDnmbTZzXJkbcoYuWYZTfPnj1NVXptnO0khLJABMpSMAAAABQAZ5YdEf/AAAbi/34CeR2D1sN2JAfxf9cTuauQMIBOpiM0qrkGQVCyVQj97hl3mpm+J/FHA8n1XzPOKXGQAJOH0N7zzCi+C4Xi6NJbQIi/5kAAABMAZ5aakf/AAAbrpssmIARZQ+M0pcxUAJb114KDY2zFN2/fXFMcIueAmhTCOZFqrXxrkuKLPY3Q4M3jbvZEpWbmZSshsBAxP8Z5BjEXAAAAJJBml9JqEFomUwIV//+OEAAANP6jWYdRoC4BqnXba0YuWFQ46EW+0Tpj/ubpN9ykc/+t4e89bZn5wQuyay1li9fWQf9usm91D4u6p5F762eGVS97Fvb0uK5jfwTfi6TzKEtQ79njtNbLYKcxFyTCuz6aRBEf+yPOafJivMokw5Vjm5Lj6ACF0EayV8Tu3A4OEDvQQAAAERBnn1FESwj/wAAEVfxZxKODBf/UFTTR+Zj5fCJROFpIr0Oz49A/Oke5IywECouj/v9WYU3hTTokaVW2cdK4jMQ3MyBwQAAAFMBnpx0R/8AABucEQeOGx/1tJ3FiUPj68Msfk5raDZUSpI8gVbao/1CRK672bGheoKZyYIgrXZYsZAAk4fQ3vPMKEhiEAakuLYrYuD7s5D5i1NhaQAAADoBnp5qR/8AABr7xz+7HgzYA4SC4Ixn/feKf7LCaLxrs63smSf+mpOHm9luOnj1+RAze6YUoVcjh7nMAAAAZ0GagUmoQWyZTBRMK//+OEAAAM7v/NeUeE4AWHjo3vnCKzM31hjmNed3IQS3/1o8Y1ZtaF5cGIMZtALT3mKQVUE3HceUlHrZtTZQRGrUCh3mKfsGy9GmEmCkoFbSsZpmEkh7D12cBc0AAABLAZ6gakf/AAAa/2HlQQwr41ws015vqGddACS9hjxB5rmKMt6rrAAGS473E3b5fXbhaC1LqtdBkG62zej+Hd55Q/cmqofnYhXwUA0fAAAAXkGaoknhClJlMCF//oywAAAzyv6JNUFs93o7Q1/BP5zMNAAKrMsteWGD6Enr4reQ7ml9MURrLyi5qIiCaCdbKc49bY8f/1FGx82457bO8Xvr93reGA5JVt0EdM6KPFkAAAB0QZrFSeEOiZTAhf/+jLAAADQcJz3XX7k61u67xtr+yS/aiAEEQ7GwxVAXibnp5MIu6xf414GFuS33LconPECxy+OS8Mdpe6yQE1f32waWmeTXeZ1asPvduc3vhtuPGf+Yu1FhORtSFblnOcyJZsnDMuQpO+AAAAA9QZ7jRRE8I/8AABBdNobW6uHHyBL7ACLKzPGBfKUYBj2SFtS7Hlekle8xSh9LSDMIBz2c0gE9kPXvnH0CTwAAADgBnwRqR/8AABpffy4VY6TBE5Q27pwRt2eMW6o+oCTeW3y4Y2B+OuqzgK3uDeuAEMZg8o6EJKD+cQAAAGFBmwdJqEFomUwU8L/+jLAAADKLMp5s4lufExYLnd5Co9hn76izICObKbG9kJOfH9ZZ/qCQtWouE6bnf3/5iG19HeysqGogBDcdExJL8FaWgT6DVgaCIXyjD5UQmA9UruzJAAAASQGfJmpH/wAAGbvHDVHrch2ngvPH6/vdXorL4VLPzr7SOs2zNBVCoP6sE51R+Sk8DCzIAIqBYXEfFfW1GVr0kcGw956WtYCVpcEAAABYQZsqSeEKUmUwIX/+jLAAADLetmV2EUAFVq4XG8e7aQrLbpdgd1e3dZ96kJZZji0dzKgJ0/sf0a1XndG45sYlWlRkHnr0aHUZCV1TyiMkgym8HAiMY9X7OAAAADpBn0hFNEwj/wAAD9/6dqxxTFNHvp2yn3MAAtn/bR8F27qjSi4OjzFXdMOJxsrw9AYQXYMG2usd+dy8AAAATQGfaWpH/wAAGRMX6TkR9qDox4d1mJcihT2SrBkn51j72sOdz9sKtJXlqcCKZ4BmBNNYAEQdCoCDwUldbABVtwNNQR9akd77fyxqvoZhAAAAkEGbbUmoQWiZTAhX//44QAAAv+/816aKpWpgA5roukdgJ7DXJ44yw/geWq/32jgC2GJXgZUJB4x5TQH5F6I4vFJQcSc58XAGnSe6Ul8+O4piu2zqr1hSF8FOTeYUhksam1bpZjRG/rIl0ZFtNZZrhHk08UkLkT3x1eJM3VeX+QFSCTHWYYNd6v8GmziHQuDMgAAAAEpBn4tFESwj/wAAD4fnx5VqfzUvt+FfsXnjwiXwxfeXbSD8hmjJM047ovqBBle3EQAhSTDkIoG8yDj+LIw5j+eQgRgWL6P8DOuUwAAAAE0Bn6xqR/8AABiOmwYGhQQ+Jgi/bVMqzceNeIZCH730YoWfgLt+6MbbI/WVR9LQhid2uKfThAA2bpw6VSxXDA6J1ScCuBlDaAOuiv6HoQAAAGRBm65JqEFsmUwIV//+OEAAALnF/2foF8s6VcJHCvlUfqpuSTUl3nPjS23pwYbJyl/hOYTR/9MQAODqEyVcXVGD+P0sVBcwmE21qs+FuNHGBefExMTi9OfvhPk8XA1U5+llFDHBAAAAXkGb0EnhClJlMFFSwr/+OEAAALr7V2T/lKAG4jXF4V9Z2GRANYY2Spq8LDoFhKi1Pr5FyG34HzCVnTWv8FkP1EPaHjsJWqgv9p0Zmbd4sr3ug74TmYA4aL8UgJihP+EAAABOAZ/vakf/AAAYf38X1Y6TBK4FDdJG0tgqVFJKKmh3/hK9u4FNXIfm3W3VXjIIAGoz4zW64RPvtEMLWp259vFkBqVtUrrKri66drkGgNBAAAAAdEGb8knhDomUwUTCv/44QAAAtcGlC2xtvzf9vDK+PYgEhyGWj7oFJPvEYw04879RmdKO7Eg0DCEcbpwulmjgZ4EpGqYM//4CXq5oD0NaAqCQpFVyEBtBG0PiureI/lxsqjJerODOEa4854EoqpfOP2M4dPCHAAAAWgGeEWpH/wAAF+ehClIr9bs7vnQwqvt0msTIJo7Iojv76Oen2O9syz4VxLuOfNz9Vz8oE/mvgAljMah/uEG7Co8cWp4GTpcIQVfUcBQEEr2RMHF7vHJ8Exxr4QAAAKJBmhVJ4Q8mUwIT//3xAAADAbHf9fFS6qxiXbFgBKqEbhvOWqKLwfS3SkVqYaSDOKAyiZhNfHRyPv7MiEpR7o8nOfxzqAy/041eJBJzxBRksfbz1egy/K5cK3WXyJLgZ0FxiUi49fMmnghl6ETkUJSaRtfBON6JRb8fnAtl39dM+U9zT/vKNxI+dXAb1YXZ/Ii0jaH3OLHpcfIRuLzI+e4fpCcAAABhQZ4zRRE8I/8AAA55mIE7Ce4BdMuskZq1vmrjfegAuQs3Z70GbrpfltCzn0BrehwAfTNl+OrESAxl3DkR2146DCaQXv74jUUZ826UBdXboveMwtJad4zb02/GMlWOkgcUwAAAAF0BnlRqR/8AABdLbjWhACMfvZ3JBy9kfodzucWTYQ71XBoAJ42isXAVpfpPqP3X6oNWqoniZ5MOiGWtgcu3CTwSkjMXVx0YA5HwBXPpllHgr94vF8pyQJWmhVXsQGkAAAClQZpXSahBaJlMFPH//IQAAAoyZN3JiAHRqqre4FRhoqH5aUlhABe0zC6KA524KcWXfxUfkffHCP4v/TORO1hl6JBVYP8qt9/rKdC1PM3GK0LO38MpDchZp4NhYaM3cqKArTEhQr+/3sikMp7kJzy+abMslocjtewX+ymdJk21FM9o3Z/W+NGDwuvSgQMdi7/A52flkR93SmnGNUJ2K54FkNEZoRhVAAAAVQGedmpH/wAAF0TevZ54zTJVD62YgB2zVxNpeOVTI8/YFVdnjWRjlFLn/MngUhINAwwlescpcuF15MtuQzbjhAA/VT+DCQ1GmeKn+36MjGjZMI7D3z8AAAhzbW9vdgAAAGxtdmhkAAAAAAAAAAAAAAAAAAAD6AAACWAAAQAAAQAAAAAAAAAAAAAAAAEAAAAAAAAAAAAAAAAAAAABAAAAAAAAAAAAAAAAAABAAAAAAAAAAAAAAAAAAAAAAAAAAAAAAAAAAAAAAAAAAgAAB510cmFrAAAAXHRraGQAAAADAAAAAAAAAAAAAAABAAAAAAAACWAAAAAAAAAAAAAAAAAAAAAAAAEAAAAAAAAAAAAAAAAAAAABAAAAAAAAAAAAAAAAAABAAAAAAlgAAAGQAAAAAAAkZWR0cwAAABxlbHN0AAAAAAAAAAEAAAlgAAACAAABAAAAAAcVbWRpYQAAACBtZGhkAAAAAAAAAAAAAAAAAAAyAAAAeABVxAAAAAAALWhkbHIAAAAAAAAAAHZpZGUAAAAAAAAAAAAAAABWaWRlb0hhbmRsZXIAAAAGwG1pbmYAAAAUdm1oZAAAAAEAAAAAAAAAAAAAACRkaW5mAAAAHGRyZWYAAAAAAAAAAQAAAAx1cmwgAAAAAQAABoBzdGJsAAAAmHN0c2QAAAAAAAAAAQAAAIhhdmMxAAAAAAAAAAEAAAAAAAAAAAAAAAAAAAAAAlgBkABIAAAASAAAAAAAAAABAAAAAAAAAAAAAAAAAAAAAAAAAAAAAAAAAAAAAAAAAAAAGP//AAAAMmF2Y0MBZAAf/+EAGWdkAB+s2UCYM+XhAAADAAEAAAMAZA8YMZYBAAZo6+PLIsAAAAAYc3R0cwAAAAAAAAABAAAAeAAAAQAAAAAUc3RzcwAAAAAAAAABAAAAAQAAA5BjdHRzAAAAAAAAAHAAAAABAAACAAAAAAEAAAUAAAAAAQAAAgAAAAABAAAAAAAAAAEAAAEAAAAAAQAABQAAAAABAAACAAAAAAEAAAAAAAAAAQAAAQAAAAABAAACAAAAAAEAAAUAAAAAAQAAAgAAAAABAAAAAAAAAAEAAAEAAAAAAQAABQAAAAABAAACAAAAAAEAAAAAAAAAAQAAAQAAAAABAAAFAAAAAAEAAAIAAAAAAQAAAAAAAAABAAABAAAAAAEAAAUAAAAAAQAAAgAAAAABAAAAAAAAAAEAAAEAAAAAAQAABQAAAAABAAACAAAAAAEAAAAAAAAAAQAAAQAAAAABAAADAAAAAAEAAAEAAAAAAQAABQAAAAABAAACAAAAAAEAAAAAAAAAAQAAAQAAAAABAAAFAAAAAAEAAAIAAAAAAQAAAAAAAAABAAABAAAAAAEAAAUAAAAAAQAAAgAAAAABAAAAAAAAAAEAAAEAAAAAAgAAAgAAAAABAAAFAAAAAAEAAAIAAAAAAQAAAAAAAAABAAABAAAAAAEAAAQAAAAAAgAAAQAAAAABAAAFAAAAAAEAAAIAAAAAAQAAAAAAAAABAAABAAAAAAEAAAUAAAAAAQAAAgAAAAABAAAAAAAAAAEAAAEAAAAAAQAABQAAAAABAAACAAAAAAEAAAAAAAAAAQAAAQAAAAABAAAFAAAAAAEAAAIAAAAAAQAAAAAAAAABAAABAAAAAAEAAAQAAAAAAgAAAQAAAAABAAADAAAAAAEAAAEAAAAAAQAAAwAAAAABAAABAAAAAAEAAAUAAAAAAQAAAgAAAAABAAAAAAAAAAEAAAEAAAAAAQAABAAAAAACAAABAAAAAAEAAAUAAAAAAQAAAgAAAAABAAAAAAAAAAEAAAEAAAAAAQAAAgAAAAABAAAFAAAAAAEAAAIAAAAAAQAAAAAAAAABAAABAAAAAAEAAAUAAAAAAQAAAgAAAAABAAAAAAAAAAEAAAEAAAAAAQAAAwAAAAABAAABAAAAAAEAAAIAAAAAAQAABAAAAAACAAABAAAAAAEAAAMAAAAAAQAAAQAAAAABAAAEAAAAAAIAAAEAAAAAAQAABAAAAAACAAABAAAAAAEAAAIAAAAAAQAAAwAAAAABAAABAAAAAAEAAAMAAAAAAQAAAQAAAAABAAAEAAAAAAIAAAEAAAAAAQAAAwAAAAABAAABAAAAABxzdHNjAAAAAAAAAAEAAAABAAAAeAAAAAEAAAH0c3RzegAAAAAAAAAAAAAAeAAABMYAAAEmAAAASAAAADYAAABGAAAAjQAAAE8AAABBAAAAPwAAAGIAAABgAAAASQAAAD4AAAA3AAAAqAAAAEkAAAA5AAAARwAAAG0AAABUAAAAPQAAAEIAAABqAAAATwAAADgAAAA2AAAAlAAAAF0AAAAyAAAANwAAAJMAAABAAAAAdQAAAEsAAAA9AAAAOAAAAI8AAABKAAAAPAAAADwAAABkAAAAUgAAADoAAAA8AAAAlAAAAGMAAACCAAAAZwAAADsAAABUAAAAXgAAAF0AAAA7AAAAmwAAAFQAAABCAAAAOwAAAFkAAABdAAAAVAAAAE8AAABmAAAATwAAADgAAABeAAAAigAAAFQAAABXAAAAUQAAAG4AAABXAAAAWAAAAFkAAABdAAAAhAAAAFQAAACSAAAAVAAAAEAAAABRAAAAyAAAAGgAAABhAAAAdQAAAFMAAABUAAAAWwAAAIYAAAB8AAAATwAAAFQAAABQAAAAlgAAAEgAAABXAAAAPgAAAGsAAABPAAAAYgAAAHgAAABBAAAAPAAAAGUAAABNAAAAXAAAAD4AAABRAAAAlAAAAE4AAABRAAAAaAAAAGIAAABSAAAAeAAAAF4AAACmAAAAZQAAAGEAAACpAAAAWQAAABRzdGNvAAAAAAAAAAEAAAAwAAAAYnVkdGEAAABabWV0YQAAAAAAAAAhaGRscgAAAAAAAAAAbWRpcmFwcGwAAAAAAAAAAAAAAAAtaWxzdAAAACWpdG9vAAAAHWRhdGEAAAABAAAAAExhdmY1Ny44My4xMDA=\" type=\"video/mp4\" />\n",
              "             </video>"
            ],
            "text/plain": [
              "<IPython.core.display.HTML object>"
            ]
          },
          "metadata": {
            "tags": []
          }
        },
        {
          "output_type": "stream",
          "text": [
            "\n",
            "SHOWING VIDEO video/openaigym.video.2.3544.video000900.mp4\n"
          ],
          "name": "stdout"
        },
        {
          "output_type": "display_data",
          "data": {
            "text/html": [
              "<video alt=\"test\" autoplay \n",
              "                loop controls style=\"height: 400px;\">\n",
              "                <source src=\"data:video/mp4;base64,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\" type=\"video/mp4\" />\n",
              "             </video>"
            ],
            "text/plain": [
              "<IPython.core.display.HTML object>"
            ]
          },
          "metadata": {
            "tags": []
          }
        }
      ]
    },
    {
      "cell_type": "markdown",
      "metadata": {
        "id": "JkG9iDZTIhzc"
      },
      "source": [
        "## Final test"
      ]
    },
    {
      "cell_type": "code",
      "metadata": {
        "id": "vJKgnu3_IjWE",
        "colab": {
          "base_uri": "https://localhost:8080/"
        },
        "outputId": "5ed744db-4cb6-447a-859b-66c2139eb7c4"
      },
      "source": [
        "# Initialize the Gym environment\n",
        "env = gym.make('CartPole-v1') \n",
        "env.seed(1) # Set a random seed for the environment (reproducible results)\n",
        "\n",
        "# This is for creating the output video in Colab, not required outside Colab\n",
        "env = wrap_env(env, video_callable=lambda episode_id: True) # Save a video every episode\n",
        "\n",
        "# Let's try for a total of 10 episodes\n",
        "for num_episode in range(10): \n",
        "    # Reset the environment and get the initial state\n",
        "    _ = env.reset()\n",
        "    init_frame = env.render(mode=\"rgb_array\")\n",
        "    frame_list = [init_frame, init_frame, init_frame]\n",
        "\n",
        "    image_state = state_from_image2(frame_list)\n",
        "\n",
        "    # Reset the score. The final score will be the total amount of steps before the pole falls\n",
        "    score = 0\n",
        "    done = False\n",
        "    # Go on until the pole falls off or the score reach 490\n",
        "    while not done:\n",
        "        # Choose the best action (temperature 0)\n",
        "        action, q_values = choose_action_epsilon_greedy(policy_net, image_state, epsilon=0)\n",
        "        #   action, q_values = choose_action_softmax(policy_net, image_state, temperature=0)\n",
        "        # Apply the action and get the next state, the reward and a flag \"done\" that is True if the game is ended\n",
        "        _, reward, done, info = env.step(action)\n",
        "        # Visually render the environment\n",
        "        frame_curr = env.render(mode=\"rgb_array\")\n",
        "\n",
        "        frame_curr = env.render(mode=\"rgb_array\")\n",
        "        frame_list.pop(0)\n",
        "        frame_list.append(frame_curr)\n",
        "\n",
        "        next_image_state = state_from_image2(frame_list)\n",
        "\n",
        "        # Update the final score (+1 for each step)\n",
        "        score += reward \n",
        "        # Set the current state for the next iteration\n",
        "        image_state = next_image_state\n",
        "        frame_past = frame_curr\n",
        "        # Check if the episode ended (the pole fell down)\n",
        "    # Print the final score\n",
        "    print(f\"EPISODE {num_episode + 1} - FINAL SCORE: {score}\") \n",
        "env.close()"
      ],
      "execution_count": 26,
      "outputs": [
        {
          "output_type": "stream",
          "text": [
            "EPISODE 1 - FINAL SCORE: 91.0\n",
            "EPISODE 2 - FINAL SCORE: 87.0\n",
            "EPISODE 3 - FINAL SCORE: 155.0\n",
            "EPISODE 4 - FINAL SCORE: 108.0\n",
            "EPISODE 5 - FINAL SCORE: 169.0\n",
            "EPISODE 6 - FINAL SCORE: 115.0\n",
            "EPISODE 7 - FINAL SCORE: 161.0\n",
            "EPISODE 8 - FINAL SCORE: 164.0\n",
            "EPISODE 9 - FINAL SCORE: 105.0\n",
            "EPISODE 10 - FINAL SCORE: 121.0\n"
          ],
          "name": "stdout"
        }
      ]
    },
    {
      "cell_type": "code",
      "metadata": {
        "id": "mxdtGJutLqlw",
        "colab": {
          "base_uri": "https://localhost:8080/",
          "height": 1000
        },
        "outputId": "b636f8d7-e16c-4c94-c769-f25771543832"
      },
      "source": [
        "# Display the videos, not required outside Colab\n",
        "show_videos()"
      ],
      "execution_count": 27,
      "outputs": [
        {
          "output_type": "stream",
          "text": [
            "\n",
            "SHOWING VIDEO video/openaigym.video.3.3544.video000000.mp4\n"
          ],
          "name": "stdout"
        },
        {
          "output_type": "display_data",
          "data": {
            "text/html": [
              "<video alt=\"test\" autoplay \n",
              "                loop controls style=\"height: 400px;\">\n",
              "                <source src=\"data:video/mp4;base64,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\" type=\"video/mp4\" />\n",
              "             </video>"
            ],
            "text/plain": [
              "<IPython.core.display.HTML object>"
            ]
          },
          "metadata": {
            "tags": []
          }
        },
        {
          "output_type": "stream",
          "text": [
            "\n",
            "SHOWING VIDEO video/openaigym.video.3.3544.video000001.mp4\n"
          ],
          "name": "stdout"
        },
        {
          "output_type": "display_data",
          "data": {
            "text/html": [
              "<video alt=\"test\" autoplay \n",
              "                loop controls style=\"height: 400px;\">\n",
              "                <source src=\"data:video/mp4;base64,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\" type=\"video/mp4\" />\n",
              "             </video>"
            ],
            "text/plain": [
              "<IPython.core.display.HTML object>"
            ]
          },
          "metadata": {
            "tags": []
          }
        },
        {
          "output_type": "stream",
          "text": [
            "\n",
            "SHOWING VIDEO video/openaigym.video.3.3544.video000002.mp4\n"
          ],
          "name": "stdout"
        },
        {
          "output_type": "display_data",
          "data": {
            "text/html": [
              "<video alt=\"test\" autoplay \n",
              "                loop controls style=\"height: 400px;\">\n",
              "                <source src=\"data:video/mp4;base64,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\" type=\"video/mp4\" />\n",
              "             </video>"
            ],
            "text/plain": [
              "<IPython.core.display.HTML object>"
            ]
          },
          "metadata": {
            "tags": []
          }
        },
        {
          "output_type": "stream",
          "text": [
            "\n",
            "SHOWING VIDEO video/openaigym.video.3.3544.video000003.mp4\n"
          ],
          "name": "stdout"
        },
        {
          "output_type": "display_data",
          "data": {
            "text/html": [
              "<video alt=\"test\" autoplay \n",
              "                loop controls style=\"height: 400px;\">\n",
              "                <source src=\"data:video/mp4;base64,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\" type=\"video/mp4\" />\n",
              "             </video>"
            ],
            "text/plain": [
              "<IPython.core.display.HTML object>"
            ]
          },
          "metadata": {
            "tags": []
          }
        },
        {
          "output_type": "stream",
          "text": [
            "\n",
            "SHOWING VIDEO video/openaigym.video.3.3544.video000004.mp4\n"
          ],
          "name": "stdout"
        },
        {
          "output_type": "display_data",
          "data": {
            "text/html": [
              "<video alt=\"test\" autoplay \n",
              "                loop controls style=\"height: 400px;\">\n",
              "                <source src=\"data:video/mp4;base64,AAAAIGZ0eXBpc29tAAACAGlzb21pc28yYXZjMW1wNDEAAAAIZnJlZQAAPNVtZGF0AAACrgYF//+q3EXpvebZSLeWLNgg2SPu73gyNjQgLSBjb3JlIDE1MiByMjg1NCBlOWE1OTAzIC0gSC4yNjQvTVBFRy00IEFWQyBjb2RlYyAtIENvcHlsZWZ0IDIwMDMtMjAxNyAtIGh0dHA6Ly93d3cudmlkZW9sYW4ub3JnL3gyNjQuaHRtbCAtIG9wdGlvbnM6IGNhYmFjPTEgcmVmPTMgZGVibG9jaz0xOjA6MCBhbmFseXNlPTB4MzoweDExMyBtZT1oZXggc3VibWU9NyBwc3k9MSBwc3lfcmQ9MS4wMDowLjAwIG1peGVkX3JlZj0xIG1lX3JhbmdlPTE2IGNocm9tYV9tZT0xIHRyZWxsaXM9MSA4eDhkY3Q9MSBjcW09MCBkZWFkem9uZT0yMSwxMSBmYXN0X3Bza2lwPTEgY2hyb21hX3FwX29mZnNldD0tMiB0aHJlYWRzPTMgbG9va2FoZWFkX3RocmVhZHM9MSBzbGljZWRfdGhyZWFkcz0wIG5yPTAgZGVjaW1hdGU9MSBpbnRlcmxhY2VkPTAgYmx1cmF5X2NvbXBhdD0wIGNvbnN0cmFpbmVkX2ludHJhPTAgYmZyYW1lcz0zIGJfcHlyYW1pZD0yIGJfYWRhcHQ9MSBiX2JpYXM9MCBkaXJlY3Q9MSB3ZWlnaHRiPTEgb3Blbl9nb3A9MCB3ZWlnaHRwPTIga2V5aW50PTI1MCBrZXlpbnRfbWluPTI1IHNjZW5lY3V0PTQwIGludHJhX3JlZnJlc2g9MCByY19sb29rYWhlYWQ9NDAgcmM9Y3JmIG1idHJlZT0xIGNyZj0yMy4wIHFjb21wPTAuNjAgcXBtaW49MCBxcG1heD02OSBxcHN0ZXA9NCBpcF9yYXRpbz0xLjQwIGFxPTE6MS4wMACAAAACSGWIhAAz//727L4FNf2f0JcRLMXaSnA+KqSAgHc0wAAAAwAAAwAAFgn0I7DkqgN3QAAAHGAFBCwCPCVC2EhH2Olc/N/wSjPQQcBBJdFD7ezs3v+XxbGSZ0Mf/Q94vzbtaP89Ppr4IFHuHgyKWx+mxw4RLZrkJ3BFRl8CZWgV1L0/VPqJ5WZDxzf2au50TcgPq6+50buZ4xNhAQQ/Bt9eymJzmSoO7UK7K5alPpmkIIXa83yKZVoAXRnrl7hH5OSoauwIsZBadnLuCs++e/33kOtTjYAepHL15DXZd5rrAyc55F1o1fK5T3Jh3853a9t04j7V2OaL44AU74AAQhkMKiYvNbLSDT+sCaiAworchAWAcABTJCzhut3IL6x65RXHJB6dwr4NtGEvp66yVSP9BVTtxSQgtEQM2+Z19spaj+fxDb0ldQ37+Ppidvg+ckeRaxZbhpJglN5QsCHmRmoo9OpR9k74j7rXvEZaDJk475XN9+GJdIKFwW6y09AHBb8Vxt992PNTRuiTt3hyhrdrWbjrOiAe79NEm0GeZLuRGlHKICVijPv/19m4ok8tSXbKMNHhRt7ZTiYQZvgf4QkiKIVncQPqQ26Di3qRnLGINbzVnu5bCUG8v3UL58SArY5QRzI5cyf/CtYi3tKxiHd0x832i9jgg59ZfXzOyqbtUux4313ViYAAAj0Z9phhEWP8ZL9smEkXP/Pqw/ZG0TJ6XEouG98ay8fjWVyQpWZiWJWDZFy+Gb2ikBCARk2mn44AAAMAAAMAAGzBAAAAv0GaJGxDP/6eEAAART8dAAV8uDhB8cGIuU/tj8rUE+WmpZPDh6iEapVzH7rkOOWYLW3pOLixOlygcG2wOPjyZ1W3/8XThMcFx//ixLAqliy6+rWTmX0cHOay8Lk8EK2Zvr7yp+8wq5OTTbmK4ZlgE9daBgSHrarbRJFO6a05Qe8jZLXWz6/M8UtLHAn5P84krh+VTEB/7BJ8qvjd9+O6izJXxSSrFgAAAwAAAwBkPAIlTSryJHDTxRLRBrvNorGTAAAAQkGeQniEfwAAFrUrRHwDYgyv9vpbAgFJ3KgA9ussDzmfq829+wm+loOhp1RBkiJw9IxeWwfbAAADAAFHzspZeyciDwAAADcBnmF0R/8AACOqQwxEuet3uE1fqpjYxAMEW6B0fsPCfpfZypSPouXWr8AAAAMAAHg+X6Y+ECdgAAAANAGeY2pH/wAAAwHmoM96nO+uSpMeGUXAH38nePe+q+tJmwNezJ1oOqAAAAMASUrNH0eECbkAAABuQZpoSahBaJlMCGf//p4QAABFRHi/IADotFS5iMKISPfOkL1VsL20pLziLIxLOtQiMgSIH21hkJNblgo5pg6jIQUsEQ91J6H8NmRx2+hM4wu51j5VYtWrJHZaxThRsHYdTsuZm5TxErXnJdlPIScAAABNQZ6GRREsI/8AABatQdQU5v89W4AD9yXZ6KXHrJy9Ql0o16pL0GdgGjOSDN2KRX/8jyAuaSJRC5JzNCPHSDAbdFeYza1EKl/yVSkILuEAAAAkAZ6ldEf/AAAjwxdoqcjXg/ne74UJUr1jymEQgoi4Kzp71gZVAAAALwGep2pH/wAAI78EJm1tD8cSE/XAnGZGQhpmDTBe2Evr/DrCei869HN0EmdjNTegAAAAfkGarEmoQWyZTAhn//6eEAAARTbHrKn4AOkfU7dYKzLfuOlUISqLRG1WCxHSHECPbrRCd4Ir88OInaFID80CokGtboSUfoQMoclkUgSlXVUhiE1GXNXsi+LyezwPuj7w0j/4S1TTYG/366ylPq5I05SZ8n56/YkqH2+pqeKnYAAAAE9BnspFFSwj/wAAFsBaBYBr0vcjYCCS5lAG5m7VjI6/lGZfQATNQA1OaEYXSMaVk1LmomIeijSrd8Nym4JTTyLT2NBg3r7n7GAQKoCUZQi5AAAAKwGe6XRH/wAADX9PaZodzMz6hk8VwbCBPNJWd35MiAAblAjjs251Bo39gakAAAAyAZ7rakf/AAAjvwQnYueXD4FkFePMO9Y3u6UVlkPgTB+JimnaXs0/SNt3yfIVsde4g4AAAABvQZrwSahBbJlMCF///oywAABGAvreARV1phq00ag4YKfmbVxJtyXyuonaZjO7v4mUrb0ONK9mIEKveFVGjiC49lPSyVP4SHwqOqSpPIEw7LGpjFp6ZLatGbj9hKCG00q7y8iO+J7ODJphE8ME6OPBAAAAM0GfDkUVLCP/AAAWtTeqZhRmrjEV0+L+Gg/iRzDH/7OXEVwaiRg5ykMbjOpyYyxfWkgrYQAAADEBny10R/8AACPDF2ipxtVtjag6DtRxSXvieQAleFXzu6Hz2zhV2Zjg4iTVATd/apqZAAAAKwGfL2pH/wAAIrI8r1RJ4H9IAF0AGiN5rzXMHkuLzvAgF4ixKX6A5njqBvQAAACaQZs0SahBbJlMCF///oywAABGAgV5u8YBqVqMez76UZ+bSIpBAGZuOvC6ba1H7Goc1vMzwixVyKZhb4cXCPKYEtiW1j7GjvYhuI3c34+265EWN6R/BxpMh52Dl0fgk7nWGoRerL3P/TIYq9iOVeio2TPgGP+8/zWRLWf2QjxZOXmOECq132OotcaAML6ye0i97Us1UPhbw3cQTQAAAFBBn1JFFSwj/wAAFrUtzVADcNR3lAxWaP2HttqvwUPectlJxqIGAc3MOnEzzlM6lxaC30eF2reocZaCPjFWaW03HpLG4g4u73vC3JjdUvYQcQAAAD0Bn3F0R/8AACPAuIhU8EhNr+nCAC4YQ9wDicP7eTc1o4lHDj3A2k3z+GpIo3h+IAxbmc8psVueibvAHmm3AAAANQGfc2pH/wAAIrI8scmAC2cu3uOyRGT5CSJB8TYLgQeqsvgMaEmULK7qUW5PacaGkW6W3hdwAAAAV0GbdkmoQWyZTBRML//+jLAAAEQz7S9LmXV6wCbC3mz8kTck0ZSH6SAgAG8CYd2BfanrANehx/nHp+FH8pw+j+eNLGUL+MfxyXXHu7KJxxQYFdOdB2ugUwAAADwBn5VqR/8AACK/HTVu22MWMqpk5+Xj6qRAfdVDnNMle+NZNugAe5P/4nPTragp17ZB4I6HamYJ2vriUjAAAABDQZuaSeEKUmUwIX/+jLAAAEZ+Je4L/yYFr7pIJ8aEyOfoFb6rqMJUme5yhIDV0tdvrHsEDo21/iuizxVxMt/IhCpvgQAAAD9Bn7hFNEwj/wAAFrMrtQYBCBwA3XUk0bkPQjVP4AYoca/IkZTS6vbMOOuv4lI4c+GwgR1yG4pxTRwqqrg/0ysAAAAkAZ/XdEf/AAAjwl3gP/9aseBjN3lD3q/EgjwfeJEpHw+ztG3AAAAAMwGf2WpH/wAAI78EJnDF0hromLFq6Ub8WMOGiJ0DYIgAQ1n5d6atV1tCsoU+y/4XZIORcQAAAEtBm9xJqEFomUwU8M/+nhAAAENJbWACw+u948Ugu+hbgCFlwQTA5DNw3jEYMfMcEDN3rMDqQMuOZnLdHk+SiRXUMIZ4YYDELMvlG8AAAAAxAZ/7akf/AAAivx+GYttZCgAWHtQCymbs5Gf/GYzG3VhR72iwjQKQ3PkAAsMzgSm24QAAAElBm+BJ4QpSZTAhn/6eEAAAQ1EOWleIhoB3/XeP+60U4CSqyzCvbnGeV3yWtKt195XH/LSpLMwG6R8RxyrAwPskF7R11w2pYTJVAAAASUGeHkU0TCP/AAAWIyyLxLUYPVzKAD26ywPMlz7MHhS3NQ364BsxjXEZpl+ZmMTDY0IfcfVoMDsaKClFoI7un9qJ82GfWqSrRxwAAAApAZ49dEf/AAAirDbftD8n4frAA0oo2rH8s6uxG5AiIeNJiTCZVUi3EnAAAABIAZ4/akf/AAAisisICWDPYPABI6sqhDRrJIqMj0zGUDSijasfyzq7EbkCTJYYrYnyhWVzS6O4XnDZtpvNn5xriUpZ473OjEwZAAAAUEGaJEmoQWiZTAhn//6eEAAAQ1SQ5v6fkOpbnHQj5p6930FMme+XEImbFXYvsb4r6O2rWZqeNQngIwQDCBqPFFMETGKeyVT1wlmlOxdvpECAAAAAY0GeQkURLCP/AAAWK5SM3nAgBZESaJRdAvpIX4bOCz8uhhmMC/b0Skm0JktvBat633w2MmFym5Yk/N1vjxYBbwBMv7RC9ChGMY2hnHgF5LFKR04bR/vCgMmYa1EIoYMQ4EjBYQAAAD4BnmF0R/8AACKsQmHFm82SHh2MQHDfxVyDWUNyDNAxtku+WMHnMACV8WqmN8GQSkBnlw2GogaOu6Es6SFswAAAADUBnmNqR/8AACK/H4ZhyhB5X7c1pEIwAEih6Daxau0CCWlSw2urkzSP5QVjl4XEgFNzoWwmwQAAAIRBmmhJqEFsmUwIZ//+nhAAAENQ4LaUAR1L3ZZ8GPp5InLXcK4msCEirfCeURbDu8PyjgoVnIeibcCbJ4OkAlnGAUXyhfX176wPvJ9mvnvjXIkY8GKJeKM/SXjUMJAfCZl+R6GrmK+sIdF6i2Cy9nzuM/AmRycsRBEMKO/9o3GqJfghyoEAAABKQZ6GRRUsI/8AABYwRou/mz4QAfkbyIX29atpcUdEq258nbFDrb37hA2bMRpGMxMjaDARgg37gAFhtv2P7LUWwdXswMvymPGo5p8AAAAwAZ6ldEf/AAAiqc/3rOfVCPIASqUHKsNUXdwWKWQW0hIrlbosDLF2ngj3Cn2kg2m5AAAANgGep2pH/wAAIpksd2rxAkySm4/NuicyRA/9S/0DjFcjxX9MLbfACZzTlHUK+FTTx8C7dLeaowAAAHxBmqxJqEFsmUwIX//+jLAAAEQCBXk9BdUKSaDfFRjuaFNa/fX0KZes9gCEXSzZCv+P/v2OjEiPt4v2eNIFR9bzLCECSrsl+ZdPjxB1ZXI117APHtdXpJrDgABlWalHg5JpuH5NATgX3u7JwBAFmMbquOIncdpNZMlCyHzAAAAAUUGeykUVLCP/AAAWIyu1BK0WBHWU9s7znwQUCPmlJHq8bwQD1J15QVyHtZnqS2ZJ2dx+NGuA/QjMWyKtQfZJaEgBdA5usfqRPBvRJ07uTT7YLQAAACcBnul0R/8AACGsQlcAKDNOf5GGRj98gOPNAOTMnFKHmmS1T6NraBgAAABNAZ7rakf/AAANMkFXgtvJjpm2Gl/RE44yjkVIoK4trN44uzktkB7ybQQOtjRm996kD1AAnVzUBCFTY+KrbPPa6UFYZyNnKD4MqIqUMJsAAABZQZrvSahBbJlMCGf//p4QAABDRSpcgCJj31I6FzPv91h86Q2A9gXQ/odZttQdSIoKjaDGUS/YTJfxGsMML3ZANBaUvmMU4pYQgdE7wKKa/J8O4HoWhF4dgcEAAABJQZ8NRRUsI/8AABYF0ITHRo8C0cqCAALC9Azhr4A09+xR+iBNOQvBHQXVbqtNieP1BzD7ylOd7o91O3mLA3ghKikDLV7yazCeUQAAADMBny5qR/8AACKuMeI05ZNqzSysAN+IaaGCZxdkpc1MtWI6lJt4P1RfEWJoI3zsQlkG48EAAAB9QZszSahBbJlMCGf//p4QAABDUOM7oABxi91itFfHA7FIYmAOzzu+F3F9PgBdfHOUGyUHOWB2DrH4YeA5XAeBgI5v4unSOvUAdwHIqa5m78m5KuqpDE4QEWmEwubg3QCtygQ9qTHZCFyutGLwm+5BXOMAYlj4irfeL2gEwIAAAABTQZ9RRRUsI/8AABYrlFSxcrT2QtsA4AA/cl2l4C0duB6eZ7OC+c3s9Rp3ZNYAeDDYb/rmaSdiLGYrWn4WCcMI0NvXHzhgTvAKJOlEqTN3kzuqRSQAAAAjAZ9wdEf/AAAiwxdirx+SgHlTdSFdzx14gdKpZ/mUBcn2D0kAAAAjAZ9yakf/AAAirjEv0XlDBJpWyuvo4WrGMvbrwEGUuL3s7/AAAAB+QZt3SahBbJlMCGf//p4QAABDum8/4dcSlt0qkiNoAVwkrSasiSr0qDPrn2ghITjtuN3l+3gcwc2bbOI/ekxNEscutDmgOn6l2gEDJ2Iu40xrsB8m3zKh6x3FSwesC+nHYY7M64xeyINq5mMdoqQJf9dHSuq9L9YXPgmLAC2AAAAAM0GflUUVLCP/AAAWIytFuPI4JpbeqIO5YC+HfpzxGTbqhc7ptpiPLdB+fDktTw/nkW7egQAAADABn7R0R/8AACKpzsWT0Aw0vf1z4z8iO9jOOvYoEqRQXRH/3Z6pvAxMN7LBLpkO4IAAAABAAZ+2akf/AAAivvUZIMqrOuDKk2vfnKGNvXBH6EtUT3CftvimIMYIX7l4+MAEsZ/+mdIf7aDm8nESaNxxfQ94IQAAAGVBm7tJqEFsmUwIX//+jLAAAEIQmHG1/o3v0iyR/SsIOZCNOZ/WE8ibfm/WpUr3+DOt4J6KnUOXkp6ws2EWcFboARkbShoxxb0oGWTTqYw1uGqdCCiPg0cdLL45MTVeBEpRE9DW4QAAAEdBn9lFFSwj/wAAFZKfXw4dZfvkBwwjjyPpnlyJADYdYnln4tV6z4UNvtfLQVOgmtUOV68j7c6C58zfn0TPQSk4x9sl98rxYAAAACwBn/h0R/8AACHAucwPKMt26NzhlYxAZii+3XH/GKukqnep+PBQLZ58AF4t6QAAADIBn/pqR/8AACGuMwUkxN3ZD7CcWX0yCj0BEswhx45Y3Khb6/FemdAJaH9Wd7Ah2RAOmAAAAH5Bm/9JqEFsmUwIX//+jLAAAEIUUIiQbW1fEufXsbIA055cuu/AgT1hSL7VpcWgDR6Gk3bZ7CCe4kw9h7Ptc/93kCSQb/vnbDhuPYgUpBNOUv3xmEAA03dCCyjk1csN/SFN37gL1uDGUjKkMLu1HRs6f42PpjsgGnjR3W/Gc2EAAAA/QZ4dRRUsI/8AABWSnwnAzU9UE0N6MTZqDQ/6VJ76IlwvndVwz3Fm9aLLMiEew1Y49QXW4AQcuvYLrSZMwwqBAAAAOwGePHRH/wAAIcC5jaJgOxNWYvIPZH7HCbSca1D7+iKWSRkih2yH52hqMtgAthdQ6X2l8jQa2svdhj4sAAAANAGePmpH/wAAIa4x4m5BmUAAudQqMhGE6WkI75DryG0scIpsjVXI9nL6aL/NiyVGHasJnCoAAAB8QZojSahBbJlMCF///oywAABCFFLJGcAVtyShILluKl5r1SZqAEGolyA1vLpu8QDMvIFYrJ1i0/JN9xzfOC8A4867vtOemolU32srgcwR1GqV29yVDk5D96kZRZw9rocvq/+mzADmS43S1/b/Ca00HaQAyBvkrp7MgPPtkQAAAENBnkFFFSwj/wAAFZKeqLRDOgoCgWT4OZZl1raS+y99Bs8WlP7QBCHKdEydkNNACWRf1Ep6xr608lv/NlyBbjyWcEiMAAAAPwGeYHRH/wAAIcC4370rXwtuk4EiEBthwuuSOgBKnvQzwgZqTeIdTEZqXqW/4r/q0gBDMPluzjgBzdrtjhsQ8QAAAE0BnmJqR/8AACGuMS/R0FIxaeZd+8YH4YN5Stgrqjm8AAtgUUJdVjiNllb5vr7XQUH+Q/F5ZXiFWXo7DuFIa2Lw1/5AcWARmy41wfrKQAAAAHBBmmRJqEFsmUwIX//+jLAAAEIDDfzgCtcnNxxB1EM286NZ9oHwNUmmXvgjeOUAGa+5P4KK4uWnbPNjrj6aRJS3U67dDxVUaVNgMrM13MC5vsepyJzQPPyc/GGkp2eZXROfUlTqOYaNZTXb57QzXwCBAAAAWUGah0nhClJlMCF//oywAABCem89w2VYHL46jPk9dYwACav4K/1/6udhSI4jQTYWxTP/QjGXVZjnWLatzmFJjpnYtz6FvXd9rKUEmN5rprauI9R7AOepcFoZAAAAOEGepUU0TCP/AAAVkp7eNyTOqolvYGEU/zqUWzzqMix6Mu45k99zoc7CWuAAIg7xdyigCPgzDe8nAAAAKQGexmpH/wAAIa4xL87pOqGN6Kn2YWy6sxX5rqu8Y21RUAJzgm0fKXHBAAAAbUGay0moQWiZTAhf//6MsAAAQAFnPJACMfgQQcbup/IfmNPV/Cd9S2//9qZngiTFib+xoOM3coY14zlDG1kltxsm4MLnuRROu4fMoY3Kc175aFmNee6N/5iWdFUBnFoQrPKBVCPfjmX//nUp6RkAAABVQZ7pRREsI/8AABT6SilzOkcBiGZQFcUtM+5rI640hXLmCBhWWm1q2rQEGbCApwqNNJmKat1W52UG9TXsvL6AGaQaetm/vJrMCzId/zSXDLwTHMu3HAAAADcBnwh0R/8AACCp0BwpHh5hVfzTDwKrWr8Q9BTq2GsNWdHLhQTNUt+AZ2eHZXS0l4+PIg2pJPJBAAAAQgGfCmpH/wAAIMbp3PrQy6O0rfsv1BF3OMtkYXbF6cw/DXcWfERmG71VyErca2PRucJ76AACduuv6GoOEIczNXTyYAAAAGxBmwxJqEFsmUwIX//+jLAAAEBC42jfm4FjjlzxlC2OhoRwGWiwWdgjw4wAOg9PNFKOaC5xVFwvMO8/RmNbGbwgGTT1VWsfC4XBrrJk+EQzBD0xf+Ty3NL2ldqXff37Yo4K69MIYxyLI6+MP7wAAABwQZswSeEKUmUwIX/+jLAAAEAUU25kO7qree6v2To0i10irpk4vF5LzhXUjmxPUhC4gBtbNidznhctfOHvzCfDldYuddArdtmhTh+Twq/k1MXTD+oFgehZxa4SVc4OReLbd3pI38Er5BgpqrO5GAQpjQAAAElBn05FNEwj/wAAFQslQ0KEFGsrID0STurgCUs+zjhv2Mg3ZKDDuY2IKdixB7SGdqdexMfgdIeRZGnA3QhEUqcXQZsRt+gnTw3lAAAAQQGfbXRH/wAAILejbt9pADjphwcSyMfyQpwu3vXWmbb+jHD4Se4sBBM5dMb5TWy1S/T0wj/68ku+MIMlmdnX8CrBAAAANgGfb2pH/wAAIKNlwIxMKCA+2tmHRUUllVGqGpfDzIABc6EtjyXb7E1YCzkMTj4yp0gurxn+bAAAAFJBm3FJqEFomUwIZ//+nhAAAD9qcl9LyAK1yWNTZwqqugduw1MxuD993yCbE8H+dK2JKgv0Dsuod78R04PNXJW5yGvu0fww3aZWaTYIW/4ZfxhwAAAAckGblUnhClJlMCGf/p4QAAA/vCc8TmFxaAFj0aK8emb2MtXswGAAdUdji9O+e9HyQhvKzBjwqK+0vBXhmBUlS+I+v16U9tec+EtCx3heSy5t1yNrDt6/INndZsYSmP9sdFn0Zf/VEr0tcOMWw0v/8vHkHQAAAEdBn7NFNEwj/wAAFQU2yvUij+LHSd5BLGDrpw4PtLc1oAW2pVKAsu+XEV8p95bv+Hurbvq8GtVBeKm5gMn7h9q872SZpSy82AAAADkBn9J0R/8AACCiD2icryMOGHSbKsuIT8PHaMTVGEogyaWNFbgdOR2zxgzOSuY8ORmGa4Fd5daA55sAAABDAZ/Uakf/AAAfsVhgsNs0VDvDCWVF1mTpKKAUyL3CZMh1aMK7w3BXT+PKbZwqIVqXiD+ub3Xr0IBSG7PIh9d+qZ3zYQAAAItBm9lJqEFomUwIX//+jLAAAD5n2uLfABGBoPDOstsaJg8I4kCIYwwGSbLbPYuTDSFCPZGhFNKmBWUY/RoegQimn+wHp74IoDR1OXtmLLO7YR7O/gy2AZrtaJ66BTTfijTZNGFAKYh/C8eAnyArNkNaPHtJeHnsUEe5v5lXF4MJLerp/hFHa0Ee4OjAAAAAUkGf90URLCP/AAAULc90/eTEZhRM2AGkFqpQr1Q5K06JnnCCLaEEskR77C3ApzSvRDTSz3WnsqJrYnLpc8h47hC+aciyzJu8I5qyViW+cVWK7oEAAAAtAZ4WdEf/AAAfrimargp0tOZjU2DI/KJkc64yF4I1e2oYo1AAuhBEZV4fhQd1AAAAMQGeGGpH/wAAH2SUFFqcfsHctKPK9iSrk5kTQjuIsy1crK1RZpvXGW4jEohGrCupnoAAAACCQZodSahBbJlMCF///oywAAA+vCc/bMu4Pysjr+BUW9OHq4qTRHaI8EGgpwtF+SxiSzTri5CvLs/oauLyKzm/RDeRs2hsH/JwXtnaKbs+xWn4xszgsZv0dr+3EJmvgRxvP4tOANGXS74LKwWnZqZGfGeXfM47uwaj43bPrWiNzX5lYQAAAFRBnjtFFSwj/wAAFHH9vNoBnusAY6oEIf4J7xB4oKcnpDTmG6ElwguaU91XO5SbG3nHnaDWqk8B2ycLwp79CH5ei2VPHLFMqLvcwtZB5wcxaaLARWwAAAA0AZ5adEf/AAAfyC0An4BpsddRmCPEacnxO3V85myI6kcz2or5mzYb4Y5ngnTm8yJD4U9swQAAAEMBnlxqR/8AAB+5pwCPkvXRTEBP4h9h2a9N89ciMmnBEGAwdpRyjM2TG5qyQAPfkrqVnGVi1QVT5boyopGIjDbnJu6BAAAAikGaQEmoQWyZTAhf//6MsAAAPPyknbgCtT+XS+Jv41elXlC7tVNh+syxOtfZV7N3DXROkbss+gbgonHk/EjHBspl1aRh9DQL7oyddx11yUXtICe+YIQ3ASMI6x3CM0e+WSRt0AbDu8E40hj0E0DPwuCO6qKMXv8yATFb/5200qyTnhvUnhP9419oWAAAAEdBnn5FFSwj/wAAE+tfcMr1Z/6zMSCU1Kj30f08pniqz0RbAZMgLxOFlYUgJ4DWAANga2JiJLxnucWLI5ELrO8gctz5ENru6AAAAEEBnp9qR/8AAB8BTH5g2l5KxUaXbNuC8hUJR+pwzIBSm+wrepPLu1PlmjSK4TXwAWzS+fmhcTVzDFOnDsGSJKpHtwAAAHFBmoRJqEFsmUwIX//+jLAAAD0H3lYjdwBy4AHNgk2rUXbu9jiDh/b8TaERScZpfIHkdRQm+JXkt5R2YloRgZ4ttF/PonW+/ct9kTjppr2SNQG+PGAWrzR2RqNOdRrrXHiKZOSpLNj/Swzmacfc8AhqUAAAAD5BnqJFFSwj/wAAE+IisPqsBdkm8YIy2KGK4zlwWrgkgpLs5ern8VlDYuHeHm7tXgenLZ4iv4MN0cLKfiT9IQAAAE4BnsF0R/8AAB8GiObGx/53pVrSjGHj2X9TsOdVjg/SRzqAMeGxaLcEFazRkM/ePI3COGESaqACw9qDCmFVXvTTk5OuNRcTIuiRi8Quu2AAAABKAZ7Dakf/AAAfCR8Xk2kzR3OlQrry3p++YsY/mpZmotikKtLBZPbdsBAJUyMi25h0AEr5/2BE6N2B8+iOnQ9klCHNOG/mlV3v4+8AAABmQZrISahBbJlMCF///oywAAA9XCdEObwBm+fgAcY+2E95CDeb48xeqw+BPKaX+rBJRENkPt6SP2N5aqWuFtw1X8guhi0NbcEmYf8V0diqDF0q2e2YYUqpW6ySpQCWmQJs0pmzfo8nAAAAREGe5kUVLCP/AAAT5T7ES+q87YEDnLYUnylouF1n1X8auNOx7j2owaoBiHnxFGjm+xDwixEUaUxD//GP2ol7+1ORNLNBAAAARgGfBXRH/wAAHwh6sUsr6h9pzHhCPYH2B8LbzgnKpzQJCwQljbPAt9l4Whjo8lwANRnbRVPxgHTf/C35uBggyx2oDIKNY4EAAAA6AZ8Hakf/AAAeWO3/S8p+ovkS5EK7T7uF6eghx+a05zckOXFjS/yBSAA1RG4ROnL5zefax25kR6RrNAAAAHJBmwlJqEFsmUwIZ//+nhAAADtuuWyi7zEAjGgC0gTiE/v9QqwvqMMDJjr/ulia5ikKfrETG+xyMGF+ekV04wCuGCW4zCAV24hOk0LZ9xdT4J3qVX0hx+kFtrvN+JJcXcZ0T5PiWtG3LMwkCzhl4OBTjpgAAABhQZstSeEKUmUwIZ/+nhAAADucJz7DVUWqF1YjpyqevGXHwA3NdsAQkk3IPHhaz2mFzSucl6ObP/qxObb3HqW3K4K4mHnNs8FAm8GnR/fNs16x1othbWMqwaWsRimLlyAEuQAAAEFBn0tFNEwj/wAAE1Xgy/8ck29a2NO61ub1jgyTjTCyLJsYqIAiY+Y2Vlpl4Pgcw8cQepSs+09Lt/k+9BzknNpPmAAAAEIBn2p0R/8AAB5WcxcVEc9jqQ/JrabRWOoJd1Kfix8X0IdCF9uSRoK/apvgTwAD35LTmnyPf+CeGbYmUu0IhAe9B3oAAABPAZ9sakf/AAAeWO02vHd2G85OSa/WGJ0NFKda/LzHK97rcLVFSy8JxnDBZJymT82bEEMCACau1At44UOHz1i+nBtVRXiDgnFWDlej1Cn+YQAAAI9Bm3FJqEFomUwIZ//+nhAAADnep6SwAEYG7+qxrYlUvtKk+to3q3PJIQp+h9/3f7emj0kjvEjP98j361yRJx8JFJ1Yay2ib3yFPqbtT7Y8ugeD//4cwySF476LqvWSKcdHz6M9OW91+e/ef4326BuuAHQlLx2TH6/+sHrWk07O+OYqqWIUAKBHnEqEl8UvgQAAAElBn49FESwj/wAAEt08VWQ7UDGOUQJFMbF9d81cIGJKVECZxYfZRtdQCA4SPySPqQ8R07JNzSw76ApxYT5qXH3BQ7XwScREtswxAAAARgGfrnRH/wAAHZ4KbMVK7U3n5ordER0CFLdq4YJUTgO0S00Fy/kriDSE+Bey00B6AEb3OMJOMdhlYV9JaEr9IjvL8CbpBUgAAABeAZ+wakf/AAAdna1qCmCADjFWziN8KEBKHVCjNQwQJ3pZeGAQTcHKjK6umf0zKH9QT1EDTn5fvtO7S+FYZaLlLvHtXhYJ+dARPxdg1hxxg4AM7drkVKfM4Z/62Fz2YAAAAGhBm7VJqEFsmUwIZ//+nhAAADo8JzrUsEG+29x1khNog/Xw3BBZK7Qqpp9UD7g6tYyqnEYS/s0AC4iBjf8U2pvW7DBxniW3fA6JCXUdvPCUqyZukWgluW/ke4CqQYB/flf+b2md6xD9qQAAAEVBn9NFFSwj/wAAEuI/D2/AESfjuSk+KK8rj6tm22GjqhTBF0M4yW7/izCZABqkAVLO3Jj0NPfooG21yvUu3q51Mn2aNf4AAABSAZ/ydEf/AAAduCyipHIBEBAO5Pw1yzVqGtfHlVHYyNAy1T2V19DwDfZFEq+aJSAAD8Ksqg8p4if1WSgQ5gfhz6I8008X5k1nyfbiw7aFmJa4LAAAAE4Bn/RqR/8AAB2si7Akkgh6GeaLz9j9s3vcwbtzrGsSjDa1/K0OVA7z2CrB6XW6aOnhgATHoX3QiE+LaoX7XdWsodug58sa/jE3t4VWRukAAAB2QZv5SahBbJlMCGf//p4QAAA4inWJ9LyAK1yksnhqwMqPl8SrEi46YDuO3vkE0ih/70TqpDRY8lnFY+W7qck9D8Gpmar5MpXQKTKjWN46PkXzdKpPf2HoGxNb5NDQx7bphUGRKx85IdZlPx35xozv0H6mnetFSAAAAEZBnhdFFSwj/wAAElLa7hew2NKSCLeILNRUABEQFDWExW6x/aOXoMWBenwx4gVusrOUDIzsb1ancCgOlUI9dO8BVsK18siZAAAATgGeNnRH/wAAHQdukv73woqUylHChg4gdaqPRCBaYzP/b83kpRXT7/+LUQGEfd8hD7ealxr2yMYALMG2TcsSesng4+2Eb2/4kriePb233QAAAFkBnjhqR/8AAB0OS4fVPKw1LE9HychRbC7wbQmHFrNJJCq5dnOGkbg1/XSO3gBK+hRJXuh00ZhgX+H8TjaBnBxm5M8PJAMllW1h9s2XSfea/dy0AOVXgPIcpgAAAItBmj1JqEFsmUwIX//+jLAAADk+ttnIphIwirBXDpBCu3F6uhX+7O1OMWBR7EARKA2vaAJxO76ol9DJPdayLv/CT7BqU/dHxRoDvjUOUw18Uih5o/SlqUTz3YfjSsbD3pmeH7bEdwGLzaTkt0INAVsVSYJUTQg3lrxDFk9qk9zkdQXVWYkLbM5HeCx9AAAAP0GeW0UVLCP/AAASV/EvRBILwM86ilrGPzAdp+3/kNsVxl81DMBr6WoMM9puA/vPDsOZ/T/ryRG5CuKtRgyjpAAAAE4Bnnp0R/8AABz4M/NzP9EfMHZe0bZZOp+P0aKKhIQSvCYgB/htM/I1t9Ae11S4B1RIs9Df+47q1d35DcwTB6DWKJABWA3kVYcjszQuyykAAABCAZ58akf/AAAcSO2Kx2s1p9JJlivmfhVdlulea6tTseION0NbpnRG4sP6mnS/gABwM/MpW2HJiBM28i3aZrpeCPgPAAAAgEGaYUmoQWyZTAhf//6MsAAAN9wnP91ZsP9NoEI1WaMwwO/rI4AC2tzMO8K5ky9yy8reOBzovpBiWVVHACrrE+tSEswgQcgKOjC49ptFKAnUdMSXEFEo3DNIexDnLWGymEJye+ah8Xe/PRMOLyg4sPqWDBLbFSYsFEQb9RJBeMCYAAAAU0Gen0UVLCP/AAAR1gDTHdnYRW2ZyejxsCGKlZS9JD25g68pQip+VS1KrYKIqows8CGzzfzxAC3iqprPI31ZeD4kGLMKdyfiwh6RQV9CCHuh0sswAAAATQGevnRH/wAAHFduVU5luwGU1fwByRQmp7L4Wq1EZFdpNZpVqFZXHXix2GR/s4OIzJy2ANAAnDPx1ojvQ97yRf3hFKlFONFJpJ3UeMqBAAAARQGeoGpH/wAAHEyJHAv0RsQa4A4nOx6hCuk0ZOWDtW5GeSCpOW2FyhFNy+5+6IfPaSy84zgWHcIOOifCYPzIzPZIW8cV4gAAAH5BmqVJqEFsmUwIX//+jLAAADZLSKhvNZr10TDBiWWaU/c98bVGwAXUem1QNi199qX+pS0N8YhnSugzQu+C4BdwFw4BuxcwpZsVU/+h/GwRhiBHVLYqantgmhfg/3NrH653qYpz4YjwS8P1BfAi9wVv7xTEZxz5Q8SxuAWfY6EAAABNQZ7DRRUsI/8AABFV+C+RbckAK+Cd2bvOgnN5NZJ06eZyVrQ6FfSwtk3yL1uuzJUaiOpaeeV1BMFwV2dYvEOphhK32dq3HEueP01puP4AAABYAZ7idEf/AAAbo2o9b09NfTYXLPUbWzctE/iaS8qpbTZAbkAELE+55bBqeFJqAEsqHc5lWxsMS2vt05PTW6ifyBIs2fhcfPqUA/wG4dtMcm7lzVxOBuGo8wAAAEoBnuRqR/8AABubg0K4PzDZl/uO0YwcUhMItOLkUZlEot1UfBm0wPMRzgaoqv23m744WhZbp+AB+471T4GyL9htWulPEAJ+qDHNIQAAAFlBmuhJqEFsmUwIV//+OEAAAM2e11okwY+ZtKfGRmzTEik//zdeIJ4wufbP1BVcz4/dn/03TxDy8GhmgeaLQAV2HAZQq16cM+4l20uCb5w7Hwfq2HYidlbsUQAAAEpBnwZFFSwj/wAAEN0lVZDtOU33PVplqx965qSTs5Ahg8FGR4IwGf6u7fM4wdVPzu/3y6E36yJrOKHV4AE3i9lYo8NMB/CenkpzgQAAAEYBnydqR/8AABr7pXGjgRciGGenknx7RytLmECtZZYtHQT+WKnygBLKiG7llyGIqzhyOn5hZML/vIvcCVabwCLba4EpUXDTAAAAcEGbKUmoQWyZTAhf//6MsAAANRdhNrTu/OxIew4dBMrs6ZR49fbm541EAVRv46j6TRf4GxRa6gjCNNbUxUMd7WD2/Xs8hSDVbiN0kT/Dj380p7Gf7HooOTef5rhBWatanjYosDh7rFR+hb0yxgBxMUAAAABmQZtKSeEKUmUwIX/+jLAAADUKrouYAoK2uK4xh+6UlpS2UYms3rIfvay1HcnGRE4ILewKf+Px7WOiltM9PpvXm+D9N69vUl2z52eEWx1FmDRHLtUwarYl0sZq/2D0tenlHEks9NAxAAAAc0GbbknhDomUwIX//oywAAA1XrZlfjyNHlADi/7ZNN07t48ZWyVt/Mjur3xq9uMPFCGFrYjl9WtVDHEMRCyv5TUKLv0MHQsUwF7Q35Hg4EfIjTddLhiki/3uZRjYbe6EdTD3dLAGixBOshTA0s9xAXiwawgAAABKQZ+MRRE8I/8AABDYBZ9gMkAHHgKC1sUIwyvMqC4C4HVjGqw87G2HkDTnzFMPCN/9CUW5RGqzrSAqnW+fPe9Cm4GtaSg9qa9qYGAAAABGAZ+rdEf/AAAa+/333vmukG6f8YezF1Jt/CV9vZ28Z8VTSZsj9LQTh30csbZH+U0AGoz43mbquY/2MeTV7y/MR0w1pSJgYQAAAE0Bn61qR/8AABpbtkzXhcLlcf18buxyKqFg+wwuQ1jJIWXdSdr0KKjeWgRFa39OACZERhaCP9vi6DqSILe9pO3DykGrYOJkRg+wkJQAhwAAAI9Bm7FJqEFomUwIV//+OEAAAMnv/Ot3LFiqFXh5fFg3F4Pbpw+AALaDV4lRSdvwpKx11JGyE5fb3wMKxu4UGxHvyyBml/zE9kbto4tP+fD4gg1SYPJgpZwvKpvDSZKU87Dy6cZxLfqithGgrfOfM8dh53s/FkAqT08AY6dW++5GEizKSL6wZ49JGsZoJuxm5QAAAFFBn89FESwj/wAAEFfxUcQRyPrJbPFDjtFYfVE7iXVE1ajcfXbSow4Cer/a3kuqAEyvL6IwS2rT4ZyelNNy7GJJvslylA/9FF/oRUthdvrHQKYAAABQAZ/wakf/AAAZrAJklLG7JjIUHJ8XojlH4LXG461KyQBzWseznF25vnggLOX9OwEHU66boAIcuhQOYutnTTfoOa49wpiJKjQ805cG7I9BCcAAAABfQZvySahBbJlMCFf//jhAAADD2FS5gjvQAoFJQ09aSqjYwPcbx5/c0TnXUeDMqOfwRublHB6UAKnLZAFzFJwa2M/GP8eXrI9yffWNcSATDyMIMTKf1Hl0hH4Fl26ICl0AAACDQZoTSeEKUmUwIX/+jLAAADKXYda07v7Abjxqebsm8qT3C9Xj+8oyz6sYkiPp/gmozC6fS4Ah4ak86lBISf//YECu1sgP+GA2hADMRsrFd8f/87cRlcL5/sGpe95rNPXkUKK17vWkXLsBAFYLSZkfQ08yKJfo+dkAcmH1Yn6/i7f0VPwAAABdQZo2SeEOiZTAhf/+jLAAADLetmVlZYO6AHKWfvIc81LCPyNbjTfFZeo6S877lL1cDlU1MvYcg4nrqRSiKf5a/XpeN1gueSIvvQh+4GbrhrkGZYZ4vr21k36wqh3gAAAAR0GeVEURPCP/AAAP3/HO44IZyJYsP228DlMFdgK15jjoDhQI4o8f7Vre9x5ghzOhaOudcOpLU4ADUzLIK8TJ5DN4H5McMhmBAAAARwGedWpH/wAAGRvHMaX3uohX1CYlFLbZ27LN8Mzb8cl+VjUR26/CNLrtiyLOgAiDoXoPAeLwTYUmoed4UnygQqrJzLmf05lwAAAAgEGaeEmoQWiZTBTwv/6MsAAAMZwnQYyoj0O03lEMeCmT/DDsADQWumWfp3hGTbmtb5J0DLqUVsfusRIMlroOEGtqmLpd+s4T/3Nsro3o72aqfe4Sgw9kDa/E2nikxRtShWiUR96n35lcNRGEun8GWSULUd9UPT9ujgyNJDs00P6BAAAAXQGel2pH/wAAGRvHLNd6J1CJmNOJdTKek0UpT7JWX1WV9wNMSu4TWJQAC2DmwrRhN0f87VipW3ZsjceJ6elM4jU9ksEcWIjM402DqHahJmrStJ4mBDPO3LNEHPsdIQAAAGxBmptJ4QpSZTAhf/6MsAAAMAs9qLmAHSGfaUyN0J2nlisVUv+AZ2Lf9W5+hrqDqNnUa7xrOm8EpF7UPKHcTQkA5+46LMyskcvjd6cKc4+Wc+TSTxHne7zxZDqg6xmfoUHgW4dSv/xgRGCxQMcAAABeQZ65RTRMI/8AAA8zfVNScS4q8v6Fj5OM8Y18Cx6dZDJ+/CqrsEKlHhVzoQQbgpBJfT03CwAakDWPU7h3fMgYckFWH/dQDCvF9uDGHN1KkoBQLWil+CbPAsTxQ7JM8QAAAEsBntpqR/8AABiHl6KDgQEf9nRHdYTvxM+OKOgB38FyxPoGG6EBoevFYmjAGxay9qygXA3OgBG9zizvEiqWW4Cobe7qq1ohdxC5DzcAAACgQZrfSahBaJlMCF///oywAAAwXrZ+37ibkARgaEDOoOQ2ns0OL5AwXG9yceWmLXEBdnO9aN0ocuxQvSijf5n5jTF2ysNQ9Od93VKJdFNcz3sun7pHEkF8NGWwztHkZsvVK2PwFt/rr6qiHA0dV7DE79oJGFXjufsPm+3XDGP29ZbFtlxmCCR67qA2QJ7s3omN3isMgNYtgTgUNBDlH4DUaQAAAFBBnv1FESwj/wAADy/xzuOCDjZq7J2onmPl7QGHo7djGAAW0JklbnA+XBdotmJt850xMiwvnfPCzRJYRjxpODuVW8W5kNYQ9OWs+cf4+TCrUQAAAE0Bnxx0R/8AABh771L0IkOtpa8gAFLEmWoNg25jYiAfHjdah5GPWGXXSU8RD6BVaBX7MNh0GTF8LL1pWdx+RMe0Aju9VGhjoVzXiGxnMAAAADsBnx5qR/8AABfbxlhEJosOygGMpZ1+vCvV6SAS3zCN7W6EkXxKqNihkxdbSbZE6iqDWMBIjNPQEH6o+AAAAGRBmwJJqEFsmUwIV//+OEAAALZyfVbXWi0ANyjkDcG/5qVsGvhi4DlW3llzwnyyOkupGTv5EqPlBtLySNFoB7JIBDabyZvbofz9dfkDvkPYSZrkMfDD/rcszF04zd/N9/g/0UTBAAAAS0GfIEUVLCP/AAAOzLP3L9JENTGoCAHrPWZyfE0JxdLgiPz464ZJG8rTDrY49qAB+32Xfqf8jE2ErZuvnZTvhguoTEqiZ7EHeaatIAAAADoBn0FqR/8AABfffxfVjquv0SzAQosq7kBWHV3IHK1bv6m4wUGWtAYDQAbDB5S8/MOASATppEZPP+IRAAAAUEGbREmoQWyZTBRMK//+OEAAALDzfh468lcphXvkPKmF97pAaVBa+B5nys7VNXtM+/WSdMXj4POEzgV/v+N/nAALlFcL/h5+TykOkOm9XvxAAAAAOAGfY2pH/wAAF0tjrew92kgJ+zYJGywrVSy5AAC26rgGcLG6/ywKqjSqHuBdb5lQQvRZUflLLguBAAAASEGbZUnhClJlMCFf/jhAAACx8n1oSMKLB2x8HxPkhiBgaaR1LZSltMdrZKmKgpefpuNU1qkCC7m0QKYUAVaoXuZ+lvWLjwbEMQAAAFZBm4dJ4Q6JlMFNEwn//fEAAAMBpSjBB+rY1jnAA99Q6xaSnlhkm0NFCDHOui/Mb7SGovpQNeLTHooCeJpFXmWqd/1Qn8NWAuCZv3micEK4r7OyR2p1kQAAADkBn6ZqR/8AABapvipSwd4kgxEUAALgHH7sO+OW15mjdLAu6cP3evekWPJ0DQC+gVGyDToltUSbEvEAAACCQZuoSeEPJlMCEf/94QAAAwKfmIl0T4wOi3sgARkmP+4Wvqr/zouGpvLYSA+gHN0kTGq6LuZ5Mh2A3UA+XR8/PU39o+s0hbfDZ0vc59SDe2t+eg47vOufxwmmyGm94MiFvqFc/LY6KFbPUfWJSRinKzvm9v6JLDeCUdkRBR7UBg/I7AAAAEpBm8lJ4Q8mUwI///yEAAAKR6NGfPVPeURs0AOnYdxpDYaWmOXrzXUqos89hhPLFezJGWpBVn+IAStrP2NvS7jQ7WkK5Pv4O7ppgAAACrNtb292AAAAbG12aGQAAAAAAAAAAAAAAAAAAAPoAAANSAABAAABAAAAAAAAAAAAAAAAAQAAAAAAAAAAAAAAAAAAAAEAAAAAAAAAAAAAAAAAAEAAAAAAAAAAAAAAAAAAAAAAAAAAAAAAAAAAAAAAAAACAAAJ3XRyYWsAAABcdGtoZAAAAAMAAAAAAAAAAAAAAAEAAAAAAAANSAAAAAAAAAAAAAAAAAAAAAAAAQAAAAAAAAAAAAAAAAAAAAEAAAAAAAAAAAAAAAAAAEAAAAACWAAAAZAAAAAAACRlZHRzAAAAHGVsc3QAAAAAAAAAAQAADUgAAAIAAAEAAAAACVVtZGlhAAAAIG1kaGQAAAAAAAAAAAAAAAAAADIAAACqAFXEAAAAAAAtaGRscgAAAAAAAAAAdmlkZQAAAAAAAAAAAAAAAFZpZGVvSGFuZGxlcgAAAAkAbWluZgAAABR2bWhkAAAAAQAAAAAAAAAAAAAAJGRpbmYAAAAcZHJlZgAAAAAAAAABAAAADHVybCAAAAABAAAIwHN0YmwAAACYc3RzZAAAAAAAAAABAAAAiGF2YzEAAAAAAAAAAQAAAAAAAAAAAAAAAAAAAAACWAGQAEgAAABIAAAAAAAAAAEAAAAAAAAAAAAAAAAAAAAAAAAAAAAAAAAAAAAAAAAAAAAY//8AAAAyYXZjQwFkAB//4QAZZ2QAH6zZQJgz5eEAAAMAAQAAAwBkDxgxlgEABmjr48siwAAAABhzdHRzAAAAAAAAAAEAAACqAAABAAAAABRzdHNzAAAAAAAAAAEAAAABAAAFCGN0dHMAAAAAAAAAnwAAAAEAAAIAAAAAAQAABQAAAAABAAACAAAAAAEAAAAAAAAAAQAAAQAAAAABAAAFAAAAAAEAAAIAAAAAAQAAAAAAAAABAAABAAAAAAEAAAUAAAAAAQAAAgAAAAABAAAAAAAAAAEAAAEAAAAAAQAABQAAAAABAAACAAAAAAEAAAAAAAAAAQAAAQAAAAABAAAFAAAAAAEAAAIAAAAAAQAAAAAAAAABAAABAAAAAAEAAAMAAAAAAQAAAQAAAAABAAAFAAAAAAEAAAIAAAAAAQAAAAAAAAABAAABAAAAAAEAAAMAAAAAAQAAAQAAAAABAAAFAAAAAAEAAAIAAAAAAQAAAAAAAAABAAABAAAAAAEAAAUAAAAAAQAAAgAAAAABAAAAAAAAAAEAAAEAAAAAAQAABQAAAAABAAACAAAAAAEAAAAAAAAAAQAAAQAAAAABAAAFAAAAAAEAAAIAAAAAAQAAAAAAAAABAAABAAAAAAEAAAQAAAAAAgAAAQAAAAABAAAFAAAAAAEAAAIAAAAAAQAAAAAAAAABAAABAAAAAAEAAAUAAAAAAQAAAgAAAAABAAAAAAAAAAEAAAEAAAAAAQAABQAAAAABAAACAAAAAAEAAAAAAAAAAQAAAQAAAAABAAAFAAAAAAEAAAIAAAAAAQAAAAAAAAABAAABAAAAAAEAAAUAAAAAAQAAAgAAAAABAAAAAAAAAAEAAAEAAAAAAQAAAgAAAAABAAAEAAAAAAIAAAEAAAAAAQAABQAAAAABAAACAAAAAAEAAAAAAAAAAQAAAQAAAAABAAACAAAAAAEAAAUAAAAAAQAAAgAAAAABAAAAAAAAAAEAAAEAAAAAAQAAAgAAAAABAAAFAAAAAAEAAAIAAAAAAQAAAAAAAAABAAABAAAAAAEAAAUAAAAAAQAAAgAAAAABAAAAAAAAAAEAAAEAAAAAAQAABQAAAAABAAACAAAAAAEAAAAAAAAAAQAAAQAAAAABAAAEAAAAAAIAAAEAAAAAAQAABQAAAAABAAACAAAAAAEAAAAAAAAAAQAAAQAAAAABAAAFAAAAAAEAAAIAAAAAAQAAAAAAAAABAAABAAAAAAEAAAIAAAAAAQAABQAAAAABAAACAAAAAAEAAAAAAAAAAQAAAQAAAAABAAAFAAAAAAEAAAIAAAAAAQAAAAAAAAABAAABAAAAAAEAAAUAAAAAAQAAAgAAAAABAAAAAAAAAAEAAAEAAAAAAQAABQAAAAABAAACAAAAAAEAAAAAAAAAAQAAAQAAAAABAAAFAAAAAAEAAAIAAAAAAQAAAAAAAAABAAABAAAAAAEAAAUAAAAAAQAAAgAAAAABAAAAAAAAAAEAAAEAAAAAAQAABQAAAAABAAACAAAAAAEAAAAAAAAAAQAAAQAAAAABAAAEAAAAAAIAAAEAAAAAAgAAAgAAAAABAAAFAAAAAAEAAAIAAAAAAQAAAAAAAAABAAABAAAAAAEAAAQAAAAAAgAAAQAAAAACAAACAAAAAAEAAAQAAAAAAgAAAQAAAAABAAADAAAAAAEAAAEAAAAAAQAABAAAAAACAAABAAAAAAEAAAUAAAAAAQAAAgAAAAABAAAAAAAAAAEAAAEAAAAAAQAABAAAAAACAAABAAAAAAEAAAMAAAAAAQAAAQAAAAABAAACAAAAAAEAAAMAAAAAAQAAAQAAAAACAAACAAAAABxzdHNjAAAAAAAAAAEAAAABAAAAqgAAAAEAAAK8c3RzegAAAAAAAAAAAAAAqgAABP4AAADDAAAARgAAADsAAAA4AAAAcgAAAFEAAAAoAAAAMwAAAIIAAABTAAAALwAAADYAAABzAAAANwAAADUAAAAvAAAAngAAAFQAAABBAAAAOQAAAFsAAABAAAAARwAAAEMAAAAoAAAANwAAAE8AAAA1AAAATQAAAE0AAAAtAAAATAAAAFQAAABnAAAAQgAAADkAAACIAAAATgAAADQAAAA6AAAAgAAAAFUAAAArAAAAUQAAAF0AAABNAAAANwAAAIEAAABXAAAAJwAAACcAAACCAAAANwAAADQAAABEAAAAaQAAAEsAAAAwAAAANgAAAIIAAABDAAAAPwAAADgAAACAAAAARwAAAEMAAABRAAAAdAAAAF0AAAA8AAAALQAAAHEAAABZAAAAOwAAAEYAAABwAAAAdAAAAE0AAABFAAAAOgAAAFYAAAB2AAAASwAAAD0AAABHAAAAjwAAAFYAAAAxAAAANQAAAIYAAABYAAAAOAAAAEcAAACOAAAASwAAAEUAAAB1AAAAQgAAAFIAAABOAAAAagAAAEgAAABKAAAAPgAAAHYAAABlAAAARQAAAEYAAABTAAAAkwAAAE0AAABKAAAAYgAAAGwAAABJAAAAVgAAAFIAAAB6AAAASgAAAFIAAABdAAAAjwAAAEMAAABSAAAARgAAAIQAAABXAAAAUQAAAEkAAACCAAAAUQAAAFwAAABOAAAAXQAAAE4AAABKAAAAdAAAAGoAAAB3AAAATgAAAEoAAABRAAAAkwAAAFUAAABUAAAAYwAAAIcAAABhAAAASwAAAEsAAACEAAAAYQAAAHAAAABiAAAATwAAAKQAAABUAAAAUQAAAD8AAABoAAAATwAAAD4AAABUAAAAPAAAAEwAAABaAAAAPQAAAIYAAABOAAAAFHN0Y28AAAAAAAAAAQAAADAAAABidWR0YQAAAFptZXRhAAAAAAAAACFoZGxyAAAAAAAAAABtZGlyYXBwbAAAAAAAAAAAAAAAAC1pbHN0AAAAJal0b28AAAAdZGF0YQAAAAEAAAAATGF2ZjU3LjgzLjEwMA==\" type=\"video/mp4\" />\n",
              "             </video>"
            ],
            "text/plain": [
              "<IPython.core.display.HTML object>"
            ]
          },
          "metadata": {
            "tags": []
          }
        },
        {
          "output_type": "stream",
          "text": [
            "\n",
            "SHOWING VIDEO video/openaigym.video.3.3544.video000005.mp4\n"
          ],
          "name": "stdout"
        },
        {
          "output_type": "display_data",
          "data": {
            "text/html": [
              "<video alt=\"test\" autoplay \n",
              "                loop controls style=\"height: 400px;\">\n",
              "                <source src=\"data:video/mp4;base64,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\" type=\"video/mp4\" />\n",
              "             </video>"
            ],
            "text/plain": [
              "<IPython.core.display.HTML object>"
            ]
          },
          "metadata": {
            "tags": []
          }
        },
        {
          "output_type": "stream",
          "text": [
            "\n",
            "SHOWING VIDEO video/openaigym.video.3.3544.video000006.mp4\n"
          ],
          "name": "stdout"
        },
        {
          "output_type": "display_data",
          "data": {
            "text/html": [
              "<video alt=\"test\" autoplay \n",
              "                loop controls style=\"height: 400px;\">\n",
              "                <source src=\"data:video/mp4;base64,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\" type=\"video/mp4\" />\n",
              "             </video>"
            ],
            "text/plain": [
              "<IPython.core.display.HTML object>"
            ]
          },
          "metadata": {
            "tags": []
          }
        },
        {
          "output_type": "stream",
          "text": [
            "\n",
            "SHOWING VIDEO video/openaigym.video.3.3544.video000007.mp4\n"
          ],
          "name": "stdout"
        },
        {
          "output_type": "display_data",
          "data": {
            "text/html": [
              "<video alt=\"test\" autoplay \n",
              "                loop controls style=\"height: 400px;\">\n",
              "                <source src=\"data:video/mp4;base64,AAAAIGZ0eXBpc29tAAACAGlzb21pc28yYXZjMW1wNDEAAAAIZnJlZQAAOBxtZGF0AAACrgYF//+q3EXpvebZSLeWLNgg2SPu73gyNjQgLSBjb3JlIDE1MiByMjg1NCBlOWE1OTAzIC0gSC4yNjQvTVBFRy00IEFWQyBjb2RlYyAtIENvcHlsZWZ0IDIwMDMtMjAxNyAtIGh0dHA6Ly93d3cudmlkZW9sYW4ub3JnL3gyNjQuaHRtbCAtIG9wdGlvbnM6IGNhYmFjPTEgcmVmPTMgZGVibG9jaz0xOjA6MCBhbmFseXNlPTB4MzoweDExMyBtZT1oZXggc3VibWU9NyBwc3k9MSBwc3lfcmQ9MS4wMDowLjAwIG1peGVkX3JlZj0xIG1lX3JhbmdlPTE2IGNocm9tYV9tZT0xIHRyZWxsaXM9MSA4eDhkY3Q9MSBjcW09MCBkZWFkem9uZT0yMSwxMSBmYXN0X3Bza2lwPTEgY2hyb21hX3FwX29mZnNldD0tMiB0aHJlYWRzPTMgbG9va2FoZWFkX3RocmVhZHM9MSBzbGljZWRfdGhyZWFkcz0wIG5yPTAgZGVjaW1hdGU9MSBpbnRlcmxhY2VkPTAgYmx1cmF5X2NvbXBhdD0wIGNvbnN0cmFpbmVkX2ludHJhPTAgYmZyYW1lcz0zIGJfcHlyYW1pZD0yIGJfYWRhcHQ9MSBiX2JpYXM9MCBkaXJlY3Q9MSB3ZWlnaHRiPTEgb3Blbl9nb3A9MCB3ZWlnaHRwPTIga2V5aW50PTI1MCBrZXlpbnRfbWluPTI1IHNjZW5lY3V0PTQwIGludHJhX3JlZnJlc2g9MCByY19sb29rYWhlYWQ9NDAgcmM9Y3JmIG1idHJlZT0xIGNyZj0yMy4wIHFjb21wPTAuNjAgcXBtaW49MCBxcG1heD02OSBxcHN0ZXA9NCBpcF9yYXRpbz0xLjQwIGFxPTE6MS4wMACAAAACDmWIhAAv//72rvzLK0cLlS4dWXuzUfLoSXL9iDB9aAAAAwAAAwAAJuKiZ0WFMeJsgAAALmAIWElDyDzETFWKgSqTsrL5Z70UHSpF0Y82epfWdVRpN4w0mtwgpvd7EaDSkPdVYNqSS343Qa8FUsXhANS0nygrHbMMn9j/YcWIO2XU/z46DRnyF/b/we2HwbGLBMsk+iKP0E0IzTOP3DvPsmrZ+V5t+mB++MZSTZJ8e/vzw1T0fAsl/+I5pOhUzIIbcJumwj0wkH0kWXLjRAH3gY+YIza9M0sZCJk6NcPE/v6WQRDVtdgi4YP4kEOiQXMl7wWBFwkS9SVjYo2CxNAsLb70itm2IjywddAM1Cu4Kv0AALAoCFTbFozE/WFDCwCjDcouABqKbS6tjF2p+AJyc5oY5fzJvIG6iMkCxCWv4qI4TUbWOds3vJdXWlg+tcIZEcYjl0H5UwQf9g2B+QONTNbt9d/xod2CrRPkZrywRziVqW4DeQzB/jqzEbfA92pc13bA/JZprkROO+KORcrOOpuz54l3vP0G7ozepftBwbOWXZde4VqSFTjZr/NZvJXkJmL6AcISgMDatWkbOcQrgtWu/4eECuHbcwA5nkAjRaAQAAB/UiJv8FzZuVEOZN/BVtqEZ3XjPl2kBspzWdOapFpa5ed6dCgrXHCjNEUfgrn9mdAAAAMAAAMAAAMABiUAAAD7QZokbEL//oywAABEKzmcAT+MZ1SKgA9HxkjqQXaZ4+ow74yQ6UtSn2LtuUaTYeOOSD2Re4eQ6vtxQLlOWNUZfwESyebCwY4iN3d70f644e7H/BujNUwrYDp2E28wMG4xbejvIfliBPbMDZ3S6wG8VD/8TdI4Jn8mBhr5p/oIoF9kcITY6QIHfX7Aaurq4mFcjqLTVauI50gAGb/7k87WCFMjx0gm+RMnVLu3+Z7V+Qq7GNACA/yj9fG6J1aEoodojYabMAEvFQ5kCPg8gLB5qNtf2Kf15zWSzqESBs/gIt5XxgY3LDqwAAADASrHDMrSOqWBrfZHyRal8/AAAABMQZ5CeIR/AAAWJV9KITtxz1bYQAODFJolFcuiA45ujseLoraR6Is8B1d06QuiLLeBiRK7pVKCrGFaKVg3uiAAAAMAA19ZnAkkZYD5gQAAADYBnmF0R/8AAA1+ANQjq31Ub3HgYTKkhkxNv0tK6I+PhksWqeJ5PDfTwHeAAAADADFv3QsiAk4AAAA2AZ5jakf/AAANh4zKJ10hgD36NZl+/bVjqob9sdl3Ix1ioKHdvzNaAIG8AAADABQhtpeHwgN7AAAAfUGaZUmoQWiZTAhn//6eEAAAGn9jiCOTfYEg1BR4shP4MDYnZhRWfIrbSOb5jRvHqPgSBmbRpyDCGXYDRQPaQ1Qo5Dv96HKz4KSR3HYEce2j+I9RWVYh2U0odGAh5Yj61zY1M3okdghwvvn4Ksy0xj+t4HfCzm9WIcFjF99xAAAAlUGaiUnhClJlMCGf/p4QAABDRSZvvIUNSPxYG9hmRb2j058CDSMIcVtlD2m/amSkb3DCV06/Q2tVgxXrKnMBk3YQWWErMaTIgQPW3mC2qyT7Y0bK75vE4h4P103ftCt1jkOKO+WpL/OkGajcDFHWZ8csq75tRRU+bp/W57YEee1ab/70viI9K8I/JNyJ4PKKZ8+lJxXXAAAAQEGep0U0TCP/AAAWF0xZAAcVc71LFeeNW5aKUHcWoJm/Hqfx0159MzkO1X1YstLrRgavHjlC8nx5c2yLfs+sy8EAAAAqAZ7GdEf/AAAirDeYTYPs6pg5iGcx8N3mzoIBQ9ZrAvjBhV+aeZVEXgWUAAAAQwGeyGpH/wAAIrIscTzUH1nPIXbCklvm60ukaABtkLevdO0QtO6B3DylIdjU9pjmTfaLSdRLMKD7osyP8cY6a5GOTFgAAAB+QZrNSahBaJlMCGf//p4QAABDVItCIAFglghsx2K+f5OH9Kkq21Dp+G2d43uhUjYjdsNXQzYt/mXUnrlth4zIApQbx0uRuki70tueyluBfZAjg7888x0JxU5Q0e98WZ/VvyJPw0bKOSchjZhNP+wS4kkIfl4Ow2o8Wo4r7cI/AAAAQkGe60URLCP/AAAWvDeIjQgARgJBGnDPSXVwAMQ5GGQUtomFn6XdjUxBRmiTzTUvRscUWSlTJib+iyEy+TsPfoZSQAAAACYBnwp0R/8AAA0uFccqVDTflK5GqtI5zNAjs8Ow9tVDjgT1lVATMAAAADEBnwxqR/8AACO/CyoQLanKo30PkPgRN15jO4T8Yq8tN+gBMtCGrlJocZOf0Rl5QXdBAAAAWUGbEUmoQWyZTAhn//6eEAAAQ1Sru1gAsOqro3yibe+LYdCJQPXa69xf5HV6sPnTo2yM96q/qPU2Zeqfiay51z0lEDpsWM0iPZFuBIBXPfZ+/TGGuTK6kYQ9AAAARUGfL0UVLCP/AAAWLmrcghFJ9uo1t7cc9l1UgBzqR4swgDQQnO5bX6rz5h3DlqThhFBNEQr9wiuXWYDlQXnjHCxqz3kmLQAAAEIBn050R/8AACKr+FwojFVy7j7zjQZxuHznnAAOCWFP314ePtQYMEoFedF385X6WdnuOYnRQ9pjUkJIiDN0VU2QfgsAAAArAZ9Qakf/AAAisev39oXPZ2dxjNFoX1xSlUcY42ZfvmVpJ0xeN3wOjHb/gAAAADtBm1VJqEFsmUwIZ//+nhAAAENRDlpBkbZjRqOgjMAAXRJo2/ITusDyZVAiZhe3LZK5/6GBb0VMnMAekQAAACNBn3NFFSwj/wAAFiuUaTpyalx9YfKkRgzSgs5o6qoRMahbQAAAACABn5J0R/8AACGsQmIT+NOFWzOgAW37t9YquKB1s9DxjQAAACcBn5RqR/8AACKuPkKADjKmM2OMEPE6WIx+onI2EJVkKyvGIP1ES8EAAAA4QZuZSahBbJlMCGf//p4QAABDZVvAh8ukhXPHn6VMCXLsZeklcFuX/y9oG2DGyUo/uc46KbhbEHsAAAA7QZ+3RRUsI/8AABYrlGk7C85wAmV42Y/+acRMiqVKxfDQ2B/Ng4Jph5ZNCo5HwjKtGfouW4LbHBPvDBEAAAA6AZ/WdEf/AAAipNetWDz7IRnp/P97kU/fjMgASx+aI8cbWEm97n6niMuquW3CVck7YSPgjyiW1LqzFwAAAC0Bn9hqR/8AACG/H3rZvJmngBbwfzEEdC1batObK58uOz3gnI4apo7waxliLKgAAABIQZvdSahBbJlMCGf//p4QAABDZJ46lACC3FOMTsXxJt/p+zZwxDZs6jiCZequj6tTX+4WGrAza27A0FaDiyh9hVSBl7T0qkNrAAAANkGf+0UVLCP/AAAWF8oIbFWnO+0nPHVVTw0gPxJxCv4l36AHAXCN4jse7KmnWMq8fGEvoScHrAAAADEBnhp0R/8AACO4iNc0sOADib24Tnj8Z1ZcBfRJFroVaC5IqK6X21D3xBvfa8IsuDxhAAAALQGeHGpH/wAAI7HLS3CKQmABdRLdb2E3wRuv6toLsuSMocBh8WTP89EazWSRcQAAAG5BmgFJqEFsmUwIZ//+nhAAAENREnHLYBCPFWmQR38r0RPSDoeKSeKh+l5Zyvm7Om6+/4ro83waMnkpJgU9C41tEfSfwHAkSx8f8czggEyww3Y3ApXg9v/RvJzzOR9sJEYsLr3e5yFc8dLmkVxDfwAAAC5Bnj9FFSwj/wAAFiuUSd4LgLDyK5iZySKrDfCwqmc5H2toVxuSTS2T5NJbxghYAAAARQGeXnRH/wAAIqv4W7VQALcAM+DUSDuZGeNHsBr5okPO+UewrNSbQPmc71ldYca3Xw6QeV12UE2brHs/e0SzN8m+KdudMQAAACQBnkBqR/8AACK/BCcSyWmlxmJwLlQLPGxiTU+D70ln7o+vh4sAAABsQZpFSahBbJlMCGf//p4QAABDRGobaY0A1K7VlISV16mI/v0Gng7/iV125pSZdDoNXtJLuYXGuVRNgcv3JLqLT3e9eUTgPOL+MsfmC+GbjG02lOXPVGItjUH3VWcy2qAaNFszAkb5ZO7H9DE9AAAAMUGeY0UVLCP/AAAWIyv781/PMAaB8Rp9noXr8yCcQEA1Fx2q883XCWW0i8zZHZZ86YAAAAAcAZ6CdEf/AAAiq/hbeBfVTVvI8Iy9qNkcXWhB0wAAACkBnoRqR/8AACK/GNOT6scdHgr2tYECzZHteyYBPK86nTrjOPskti23BQAAAF5BmolJqEFsmUwIZ//+nhAAAENFKLQA5Hjhz1u1K7YAmwHGZMiKeZPGmRjhRbY291iYTjCEe1eKjGhnvMWKK3T/WDBJh0GyHIStao2M3+azKuZiQzlk7CjsgS7nN8S1AAAAM0Gep0UVLCP/AAAWJUMpsI7EPPfl3HnfrrqYjwRGp8ZcoWNUKOCQ4ABdY38soKuF/L63oQAAADUBnsZ0R/8AACLDAiG+5eABdABq0jfLFUJXSpsvsfmX2owEmN2dnMqXpCB0hcS7xy23X/+5iwAAAD0BnshqR/8AACG/H4yN+AFvErXN1SkczXWd6DXkQx7+jNAOW5jtgGVwdA49DBPd0oLHLFo0B/Kdvl/fQ7ggAAAAVkGazUmoQWyZTAhn//6eEAAAQ0RqInHgC5sQ4Pp43Y47qsm2Fccm06Z6RtYxAVuaKSsJpIJ1UeiyVdYkz3SysBbN0sH0UelEUFRXvGgkxC6JtiPI9EJBAAAAQUGe60UVLCP/AAAWIyu1BgDTFPQAPv3QHT2qLeEi0IH6k5+HW5DEMdzlSt3+0teRKM05ijp3UI27OJjT4NGqn/cEAAAAJwGfCnRH/wAAIqv4UZdH0sqZmwZBmh3av2uuJR9QR62h6f8NtqtDwAAAAEYBnwxqR/8AACKyD9SADdaZecScOUQBDmy46MdAcwzxIvd4YcYO8LiYEgUq3Nz2eEuMW3+Aa1j5Lkv6luYEcXxjhcofkIWBAAAAQkGbEUmoQWyZTAhf//6MsAAARH4mNpnNCCtEeDPJDUjtgbmpJ5+3rqJII3+G17y/5sRD0gAQ9LRj/bHhCCk2lB4/wQAAAC1Bny9FFSwj/wAAFiMrtQW5G235qPVv4QR+jl1y8Bn5zDqme6133ENiPiBI3oEAAAAhAZ9OdEf/AAAiwxdp/CoXxGY1YzI60COzZSN5NGyFCvkLAAAALQGfUGpH/wAAIr6qFUM9Dqk088ALFnzs1fFV6DvB1YOPfktP93GXVbsJUqGnYAAAAHlBm1VJqEFsmUwIX//+jLAAAEII1nAFBteT/GT3k9kD9nagedyiqSJlN0HdA9vmfbb6Ve/5QhFmz4ul12iJtoaVI0rWQIoqGJ+KEy98eyCTx6/HLyCx7TiOOfJoqBl+XYI9W51h7a7M5HPD6iTdeiOneEeh3WbC3KKFAAAATkGfc0UVLCP/AAAVh8oLdE+Hrn8Ah9imFWDI35fst5Rwup7nOJdtACpSN/WNOjUt6cT1CQ8exE322jhEnrMJN5ABMJZze37y1t1F+XoyoAAAADMBn5J0R/8AACHDPg32B8AC0Z8Cd+Qva7wSLyZ0+lrYgd09docYTi4u1nYu7anulTxM3HAAAAA0AZ+Uakf/AAAhvxi2yrj2s8gP1D0aACxZ86rb2FMILhAHq1c6bgss0ugc5aKIGktPE4P/2wAAAExBm5hJqEFsmUwIX//+jLAAAEIQ/f62uYMjbzPATZD+/V0biojjFUJorifmstC0zZlV/eXxb3qUuwUAcoIjkQEnIqJnvf4ggYn4Jga0AAAASEGftkUVLCP/AAAVnE6Ae3LTndRHRJEXUGb+BdojXXsrWmWABcUp/nwRjwMHRzgseAGxBd/zJ0EVliR30lQPQwraIlshuux1YQAAACIBn9dqR/8AACG/GvqRKhS7Ao3+6zPTuOipuUtXLBV8ZYnBAAAAa0Gb2kmoQWyZTBRMM//+nhAAAEFRSLS7UNk/lwr1A2Oht4HxYM9KYkL43OiN8TjCJLs8AN026ALY2zKerCmYvlNU2rqtWYcKQ+V0B+yRRNNLv3z+MbSFFUuhO1qtvNrH4dfAEQsQ9fm1ThiAAAAAIwGf+WpH/wAAIbIsg9DT2nTbyO/PYSH6iADPjYeEuc3sgZ2xAAAAR0Gb/knhClJlMCGf/p4QAAAZGQRbAXG/It3VjKs66pc9l+O8AZEHs6nVACDYJxhq62247v6h9pdeI2VezFSbX3eXMqWsS4RIAAAAMUGeHEU0TCP/AAAH7OVkq2CgEoeOBWZQBU36r+fAS4k3Yypp5gATDtNcwM20QDXCQRUAAAArAZ47dEf/AAAM3hMR4w/9mpP7GNgxCrcD/BvxoERVEUMc0s189BytZj0ioQAAAB8Bnj1qR/8AAAzliJSNo7npSRxxakvvUzoJlERe2uWBAAAAUkGaIkmoQWiZTAhn//6eEAAAQWhhdIArSdaNimjwQ1I2UN+uvfh8zpYu34eONi+gnICVsxutcIggttCb7nPsSxw1z+yTJlgcz//HUDG2DE2nNnAAAABJQZ5ARREsI/8AABVNQqUAA4ZKQjgPsDpZv9HziZUHPSAqZ9zh+DWZDL1YcetrW6gG6vYuZgTgA84fd/C2zmfbvNQq2Mh0VYBFQQAAACkBnn90R/8AACLDA6AwLKIdtNOQ+MS5sCTo/m4NO/p/aCviPoZtRhiKgAAAAC4BnmFqR/8AACKyLXTNqdn6SuxJGiClbwyKvF9xiLzc5ABxXNPdb0OK7Xh6FGRVAAAAU0GaZkmoQWyZTAhf//6MsAAAQhR1W3AFaoRFGC0A3/7lnN7jgaFh+2Wir3D78L8BlSlRxN5XCkfj1BLWIOd0D7pdepvIDRz6KsmAV+TeUKJhgF2ZAAAAOEGehEUVLCP/AAAVnqapqT2vj0tM+j3/KkNgEUwjtPNdnq8DJd+G+vMALJJsXjEUuvZttSA/bDlHAAAAHgGeo3RH/wAAIaw3mQKrDtvzv5ugatPwL+d41tUFTQAAAEIBnqVqR/8AACG/G1VYvn/OL6LY6WfpQJMAEtU8PNaoQF8vOJJ4SMjhn94VtCYrV80LpU4rpXZHRpm1HosQuuWLyYEAAABWQZqqSahBbJlMCF///oywAABCQWAXzn0ckpiIYeWNYU0bP4m4v+N5tngGN/1yuWHgmMkZPDbfO60BWe6/5HMuQdAKiEQ/mXxlWy/SEyr9vf0kH6qQDbUAAAAuQZ7IRRUsI/8AABWcTmxuZAaeku0KRD4zBe6S8V2YdQqAybu00e1CX2qerW5RgAAAACoBnud0R/8AAATZANPLsQTh9298kap54AW8D28eVpZp5cYplxlZ898+naMAAAAjAZ7pakf/AAAhsi17CRI6sLsinSoFI0MYvJluY00haH/4RUEAAACAQZrsSahBbJlMFEwz//6eEAAAQUUNNYAIyPuBUSy8c+3ULclzPM6/YCJSe2JD7De+mACj4ZYtql7m37sY8B1xfyuyNgR+U1EqHmfXY2bll1LX0uqGmtd4iod9iCUHoM4ChRCEd5PJU67RAQt+pWm7EoFWs1jy4sPH4WFeE6c44PAAAAAoAZ8Lakf/AAAhsixrvxQXXhuI2ZWJfjshKWMCyOf9bm2tM7UPdJGuOAAAAI9BmxBJ4QpSZTAhn/6eEAAAQ0RaHsoXcFGRJABcY2McCeeYIT0twL6XQfn0v0lQPyi9G0mfZGp0dvA8n7VcTd/879CkgIlp3l8Q9dph6sYzlFHRYrMs4SzpF7kbaNzvTHKvimqBzPa/wQhAGdccszZ9xkiRfakEUPJ9YGx9YeWTCGrIGwmjUdoANoDIlywugQAAADtBny5FNEwj/wAAFiNH+3FzpEs3zRV3hAfu2guwJV9mHGOqrW2IlJu/EXzAAuo2LqRtJU44z6lG9/pFQQAAACUBn010R/8AACKr2Ds0BSntF+3jGuYTt6bMvnG9GG60+06IBvE5AAAALgGfT2pH/wAAIT/nBvpEExcg+sP+hkU/xH7cBNgDn6ACasX5rPQpkQBpWP3jEowAAABiQZtUSahBaJlMCGf//p4QAABDVI/mMf+Xq+XUi8zxtCZ/0AKIMBx9wKBKm6mhZhA9AG+jBo3RTZ/lFtS9vkGeJ4nJJil/VibT6pVb9abJwp7ItNuW9xDWOQAvYUpHfH7/tbAAAAA3QZ9yRREsI/8AABYsPS5iuU40kIqQQBE6wex8CXJGXRP5I3PssG5fW9CjYiDGYwdftcm4uX9r2wAAADwBn5F0R/8AAA0vST5OnAdpVhFOSHjhJFznh3N606jUmWq+wAtxP7yi84AB98O9Em8i9orL0CWwXHaGqSAAAAApAZ+Takf/AAANMkW3jkHPhH3Lg++okzqzKoBtPFlwklt58Yje5q5KrPgAAABxQZuYSahBbJlMCGf//p4QAABDVJeuMf5GIl/I3ai8TNydt1vzNBYPEuxADNklYUiqIxeesQBPJb/740/MhPWVUbUugJPcfgMn9cjz7qqXsZuU55srX//xKw98U9P7LaiFMzGeCh/9Ofk17cJsb9PUfoEAAABTQZ+2RRUsI/8AABYripRkdX4Sh+aAsp9UbbqAAjNNxMwUBChEgEP2mBdVvbX9kuu/311/xx1XidduzNiwJJ7hP4YmMbVyxhw41FhmGBaMcuQT5lIAAAArAZ/VdEf/AAAirAjT1e4JESC/WP9PPBC3DJl2cSA8EaV3gBM9wst57kU+pQAAADkBn9dqR/8AACKuXjOBCgPB5pYsyMVm/gDlvNkmUcGEpl0OD0YO8aj2Nj9pOlGEAEvw9c4BgfVeb9sAAABsQZvcSahBbJlMCF///oywAABEJDQypvC5aWxzAQ0lZrG0BAe49n6Sj+l5YARkDEeEaw+I4a9QAjThA60X8OdZ0m4k1u02jkVjVODZZTsg/UEvCHdl/XeNKMaiIcqPZ5EaxsC2krqdQNBBfVGXAAAANkGf+kUVLCP/AAAWK4qUZI+ntDLLFg/CRw92LhxjGEAA46Uz95OSAH96eyzg/s/oys5Uml4UYQAAAEQBnhl0R/8AACLDF2Qs2G0NoWTh4tyWZIazPANRhwKoTEeezIjbAGzK8RVtzdpfdK2IjsPS8b6QACdPKqfLrJLP9w1DaAAAADoBnhtqR/8AACKuXjOCMh7mimI9ZV/WH8D9SBQf34UOZ5wwyM2tXk9NBfOazSQEAJjCxJRhKJvXotmBAAAAVEGaAEmoQWyZTAhf//6MsAAARBCPmDACw6kljS52Ezxyh5mvPtLrnYaQKwxCiRvTWtRKtsUPpLBehHieGjfaDps2yIPLwMPdmgMf654PmMXoOQRRwQAAAElBnj5FFSwj/wAAFjAwtdGj80DtGI2LBsuyR0YVYc/3xH56raf1FKCAtGJy1n9zGx1JClF49LgA4xS3grMW4Lc2/9D2+dWRNeVAAAAARQGeXXRH/wAAIsLs4XdMphJIrqgC6pwYawko/FvIEKTr7G3OXndCXeJJ5IVxaSpXSQAvKlHx0RWMCifUO2tv2Y0L79OM0AAAADABnl9qR/8AACKo3dHPzMYgm5tJEUS7xo6u9do8+rnH4bowjK0p0g6oXROsHTYjcEEAAAB0QZpCSahBbJlMFEwz//6eEAAAQ0UK0kAG5rmm7a9Q8omwQupiEzSy8mc48FvEsuu17JzmuQY8gt/Itu8X3a1KE2VxSd530LadWS/3KzwQ+CVByRWk67DGQPz2/ZyuR47WJPEANwhfqlFgw6DGnfSUbzDreKAAAABOAZ5hakf/AAAivYPhEcYYmJt1sn7gw7u2XyIQHKzWvF+atq9o+QTf0nCmwABs9Xy70GvmGP2hhHrh59t796fszaI86Sqw++vLVDfq9DxZAAAAdkGaZknhClJlMCGf/p4QAABFQ+hO8fH2gBuqBN4Cd+77BT+CKS7C2+HJ8cc67W/YPTx3jCnioc1QuZWV5eEiS71PWqc3IDLdJbFS7gH80hqj5Eo8RbV1Ye++grIJE/76w1dALPl+if7ZrDzKDwZSwfn32t1YoUQAAABEQZ6ERTRMI/8AABa8RsbovtNPpEP9KCfkiLqxENt9ZRXJ2tnhxQ+nwAiIAW5oGxyXOBmOZv3x1/IpMrOkPNONJGLfxYEAAAArAZ6jdEf/AAAiwJqhs8YWvaorfRZkDtlk4K7t6Yp4ZWijftoOMaeftqCeCQAAADQBnqVqR/8AACO+9T4alpshfXqTAZDJJ9Bn3ifqUqyY0xpio4vk5cwAJ25dIrB9/jIuiKSBAAAAkEGaqkmoQWiZTAhn//6eEAAARWiqElhcqNACOPM/9vmv6PRNuGSD24YAkYnco8MHa0+fPPssn/XsZnzuzJNl8opdMrpYviRxyS3ObN093WjojIF29MRBZezklOPASR9MX4s8Xp7Pn8iIhogJvJOm+Q9uLwdPAPH8Wf0aoz7Re4v5MqJ5Ly81YtX+M+ow7fSOwQAAAEdBnshFESwj/wAAFrtbbqbmeTNV+bttpYhcdVlpC5JetuYK8/b0QtATPpHy0LC1zMJFcogBMt7H93JuDuiF7uuz5GeEdYR3BAAAADQBnud0R/8AACPAmd3oLjrJ+6lNGPdd4Uwa4y4vmnBH/MXmjA3yKMhjwT1jnSjGJV3Dy7ggAAAANwGe6WpH/wAAI61bZnDRMmqyRMtbHO/Ysa6f50FS2J1O9JrI8avBrCn4x9ACZGfIBb0ziM7Qk2EAAAB/QZruSahBbJlMCGf//p4QAABFUO/LDIgjj/r95CvLv08PT9v0OCNSXxW17hCbcP+8DANFdCQXqo8DmExL+NkGgNsXA4Agl/jrjmdZ4c4+SIQgE74gTuhNGsPTG9+svyl8kk/WEju0Am0UR5h7qJk8BZHLclKs10P92pBJR/LLIAAAAD9BnwxFFSwj/wAAFrKsRKXCg4+oy+b6W1kcSA1BCVmBs8CEaJo+28vLdkqpYaGnzuVk2faLkL/9nlE47ssFU+AAAABIAZ8rdEf/AAAjwJkfzs0rjzlgmuIMJIfK9P3gZ0KJosJDyXlGKRbcNADfnqaZs2hjUmdUiUrHooAP3HhQPFcc+vCTzwWWAFbBAAAARAGfLWpH/wAAI65eM4F5RJPhO8fCPfycXGEHWGCPZsUHWAkse7Ny9ZKse8+DCEAwwAEHZ7g1amfbzADrLgckUV7UmgJVAAAAcUGbMkmoQWyZTAhn//6eEAAARUPom+ABc9RtLlTwHGJ4BrAfJ4i8iGUXZ4QYbLKoXeHWErhDhzLjNfYYm05tuC++jOwwI+LlKkXWqPk43cJy51mX+owaJ76L7E7P3ENmYza4OirbEF1qo0PAlp6VQPhhAAAAR0GfUEUVLCP/AAAWsgQMt+7jGXAyC/IV/huQRDl/CpkVeAZheRExXP1ADjojYncu/UCYEmQB2ZPr2tbgdMViqNhnOVgI+YCAAAAARAGfb3RH/wAAI6nq6OqPkRXZQla494l0z0d/jxEH4P87M4zetgVHwACD9rvhGsACHLolkwMXfnXYtj7DsvXJ3nJWBBgIAAAANwGfcWpH/wAAI65gBRYZTkkE04Mcr5RiuuRmnZTFWRz4gJcI2WQeE6lUVZFuFfB67At2jhBkwYEAAACfQZt2SahBbJlMCGf//p4QAABHRBdL4AIvpmOkpZ7DReMZ/sMuwbfNQQIEFOUaIL1dNOUDXpfEtV2SyU7emDHkfdU8KjDFOur2Uh16/Fe5B7h/e5kq4n/xt3qcP+Uo2LPklA+mf9k5IV9JnK68Gy7aIv0CQQsssmRxKjJZuWkI6R+v1qlZ9kJQiTvG5S5bZXQS425pgeF5cOYIsOb05xAQAAAAUUGflEUVLCP/AAAXSzRvK1yeL3ktEZb3ZwWe/zT4Nf4ABbPtjLvRsAEWGopNsYK4QW25MWUagqNwEkMrSofptwowONl7mJTUK0RVKBRFhjql/gAAADIBn7N0R/8AACS/74pyQhiIDjC+d33UyAXFNKP7+GIqEzkvxQIGJfAaw9CccTTx3HWz4QAAADwBn7VqR/8AACS9JpSP7hUAAHiqosnE4aqS6K/uZWzsxzQaUoRg8n7d4xticht0DRxbu9QAfZINEzAKSYAAAAByQZu6SahBbJlMCGf//p4QAABHRAf12ABdR9TxH9vvl0ExXpojt4LSvasZ3Z2+RjdmUduH6mYfocvwMyh+jvXk3nNtiOyRrz504bwdkMCft+Mh7bhoedf90eW5YUhi2uLpOQgC4blKfhIxjcoSY9IwOsvPAAAARkGf2EUVLCP/AAAX6XxOyYnE9LNDDu0V5lZUDlgvwK+AqFULoAHXOeVm9ly4hdVXyAmKLWxaKmJD3Hennw6VPi1X7TrdcwMAAABFAZ/3dEf/AAAknqVpNGJrm5lcg8xFWcL+rlI+dLpup9qVGRQvC6voJlyOO2KSkjpmJjgAAP5Uekl2pYml4Ng+aVW2kftgAAAAQAGf+WpH/wAAJb70cSC039NF5mJrKcD5CFG/5a/En2o3nryJJslaCuv8vznRTNTqXkj+BABNH91Spsn2lmHINKkAAACkQZv+SahBbJlMCF///oywAABKAWFFmjaRn0AEe1J8VUlErzjCycUI07WhaOfd4BV92hfbjuFkJqrr/rDvcK2iZukIoI/xMcZUEP63+CqkFC2qs4D9BOj2uFCygVrR24ZFGsnvmeIXG9YSoJB1NrwvZqVkowTnHxRVNm14IY8hlcsgNluSvsKJPT0FAjYaySPPdgOTg025c4koE7f2cd4yx53LXUwAAABWQZ4cRRUsI/8AABff69hitm7Sh96FpQRqzhkwglz9BZPltMj6R7UytduIccDWqwy0CzjEUac8P+dq4gc+vgkq2f7wO1jMJuxSI5e+VmyqCgqQxRhD6kEAAABXAZ47dEf/AAAlwltEfJlRxB3LDNjkriYTtahRnnI3eU4xoOhHEYMTQZx0HpSTJaC8tOfEM0oxhl+D8mn33P65YAC6i+DFbfxR5BgpfdrhpfG9go7PADrxAAAAVwGePWpH/wAAJb2CzoLkTB7bs0Y7j9N73nj7fTMjHkV8lrz8MaLOBga7Cn+4vDPqd6t2VoH6AE0b1pfS9+GER4lzuZIvOSub/4uH34luASvHxh5x3HEcNgAAAKRBmiJJqEFsmUwIX//+jLAAAEow4Nsrf0QAOMXjZBD3YWh/6TdGi4CMeurM5WujXIItlAjGSE+oJ7TYFXEbcwCoC8rR386B36ULafReyAYrECyinAHP8zVbS8++ZM/YdJ2GZK0k+ZLeUnw9tWaQEEAHrbQjV+eYedmi0HlkWQthvPaXmfT72u4N/sGLEMUwhAh3r7gbdSpVYoEG+C3ZkdPe5BVs5gAAAEdBnkBFFSwj/wAAF+15jt8ARMW/xzE3liUYV3UqQen6KZxnOS9+j89eGa7Bv8QW376wTd8O1tS0D1LPh0f7PHM+qVlS+7y62QAAACsBnn90R/8AACXAmRm7a9kdb19EHz6LfdLiFOfvH/Dh0/n6aPwv/HhhxYlYAAAALQGeYWpH/wAAJa1bZnDsCR57FU0eSCJ1qG2Vlpv4YMBrooe5J/UUYozxsXHTgQAAAF9BmmRJqEFsmUwUTDP//p4QAABJZA0QJkvwphFqX6CrNptUcegA9tuIQ7zAJw9b2+GqF8Nk2ecD+s4fMrVHHx1x8bXA+i++Qg+pKXZA1udko7VMflX+u0jLVGpuC5dpQAAAAEMBnoNqR/8AACW9JqE29PBVbWsQmPrLnQbHi9wSgAueruHu7Qe60R2rvlR5xMtTh/ltx5V8qm5et47L69ITBcNsAXOBAAAAQUGaiEnhClJlMCF//oywAABMAZstMlWtQPxNSKlH9T5+VCFAjG05DVMouZEtuFzY1T570rUyv7DscLZ7mIzqwOYhAAAATkGepkU0TCP/AAAYiVSVjvT3JPwgCq9NaUcI5II1Ofewk78uCUUjfvBP5a/iksg4pqplI/JRMLkcvs9SajDcd5rTCw7kcDQCGF41kcq5QQAAADsBnsV0R/8AACbC692Zp7+VYBawlJUeFgBQ6CoxY967SALJQEb6tyji2JLqa+5j9LVMl54gKzqSEfqiwQAAADwBnsdqR/8AACa9Jlush24GPloKXshqqzNTELKHrltr0hOxtuDgA2egP8yQpUjdKb7nVguc/rmUjBqg38EAAADCQZrMSahBaJlMCF///oywAABMELB9DsAHFKUm1FNqFcfBQzr8qE7yT0SJtn8shl6Hs7fdbzZtM6zXFVSbOmH5C1+YCUzuozi3dGSs/cqGxXDjO0XqqUQZLqYANWm+c+HzreEFru+Iw/U0w//5Lnr9rSLT/WW/q2htN6WNlw1NP3iYhN9AxVUzsinHaA0lkgogl0zNeREclwYYHYMEuN1JOqbz0GkYYrZi8rfn/O7LKwbRYlE9B1iVGLIfAxstQfzAO9YAAABYQZ7qRREsI/8AABh/hgH4AbmiuGlDdZp9o8VmlU9uR6cMmG7WGPksELoXLkKo4thUs+knETYrCKUkXMBwbHssoL5c8TGl1f9Xy1vkwA+P2xiJwBM3y8KRYQAAADwBnwl0R/8AACbADpTdYhxv8qEEl+67kCZvBYFYQkAJU98HSz1sk+XdwEK20vNjI34GlT1VouxmGEHvpFgAAAAmAZ8Lakf/AAAmvScPCSD150yEUkX+KrV1p6eU/Ja8ZYSxWWJ+g8AAAACnQZsQSahBbJlMCF///oywAABOMOynibdMAQAgRoCf6wZPgfKIgTMfpSCkYcA7RjwtmD+Ux80WRMEw6lYlVRlGmNCWDAnqERfISC2ALeNs6IzXPP4XFZ0c50zY0bYiYinat7C2piMNDt61a0qYSmKGvPlvzUTEIOH6PSlENitsfRLMyI8PkL+MQ+YSC4Kax370IAQq8qbXl/uYI2CmpfZ1yvhYtGJSN2EAAABWQZ8uRRUsI/8AABkofwfLu4UyIiUA/jJnSJY8Qh/Etby/lxtCy0SU5n034SR6dDGSkLJ4gA9b6rR9VCVgPn1lP/TQAXDd3f2teX4GMAQMjN+hxOnKD4EAAABLAZ9NdEf/AAAn2bXQZF/M/TmC9vaBrc3fM4jPGfHnxOF7J4tP0hG7I1vIS7hnbAQTWbM4RfZTO7kigzeAABt3vr4t0D+GYVqYhH91AAAAUAGfT2pH/wAAJ8KfnMARMUIMMKXDIIuboxqv8mBQgJq8OSE8Cd0t8Nw1YqQl02sN3GQlMnTWh/ALIrmTagX64t8r/XS0QYNUv3pdTVHyx5D4AAAAV0GbUkmoQWyZTBRML//+jLAAAE4BPRQmXSbxsfmqMsYMEaGh7vzYu4WTnPDb3+VIis1lzY5ow2eOdbbJzyABdP1F0ihd2BOnBRCeKrx4wekDKYkCmcgSgAAAAFMBn3FqR/8AACfEGopkPP4aV7niSy3Gvsw2nHBnvc/a3pH8MBfOOJYP4TdoBfVM4MDChOBChnKF9OAB+3QV3nyfcRuxjAjBrPRTu/TKeGwsF6WpgQAAAJ5Bm3VJ4QpSZTAhf/6MsAAAUCoutFjgDlwicNdTfTUEioB9KIr5uviRvrWI5mse1iZiRkXUmt9I0H/hvtlpQkaUSUqb4aXox3agjWRn2IdenuBjP0Q5lS1K83XgaD9fXjuV7MN37/lewcK4qYBv0VB95ar5s8HVGp3fX1+X1aeG6WXkYgacagODCSrmlj/gX/1YMwvUaZ8i0Dc15zvLgAAAAFBBn5NFNEwj/wAAGcl3d/rtjBwTDp2+JA8+kR5YlZkhSZOIILv5L3VCR4+ufiD1PEm4ezB6Z6t/7eKVGJSpVpZbByim39K0jm4V4YXPshjjbAAAAEUBn7RqR/8AACj3Mu1d7WYcp5vrCVtodHWlENNM5hkOaXMUBCOgOr6dA90/rQw/21rZXWUUr7KigFKgfxo2m7tfaqAe1uEAAAB6QZu2SahBaJlMCF///oywAABQWCyXMALASwjiJEC4zIRFM7UFVU7XPwFuI7/gXCLfKvt0vuKDQhcCOBEmx/2hqqaEudrhXr5T+wQEPhl9jXv1qYUTzxtXtMrBUwe9i13/kE8bwpqAUb4ZO6RZzbg2bSwVi69YnhzzvCgAAACvQZvZSeEKUmUwIX/+jLAAAFBCwmo0xAA4xgcEyR2HYTPHMJgH6UTwe2My0/aFK4OrIJO+Mw1NrNmZeAGVL6uGMNsDvJE1YkqejKCYPOvf8qmqju1rCr4i5uOrz6NMMO18+kAwVIHzEvAIil6X4ZevidXr5FcmEAVC0zXK58llZk/bQPZSl3lDRWZrixWtwQn2fL3lPndMkia7RUxebq0d7pmwuhGdcLREsDjjcfsskQAAAF5Bn/dFNEwj/wAAGbc90YbFqpACusyqkhLs3A7kHgG9PlLWT8JwMNv8kW+drTGpn+fRIOGjsdZZcYFo9bEfYjU4iagvbt7ZQCUG4pDa4kr6StlkcQ3uoSxR3W10iFllAAAATwGeGGpH/wAAKM6WRoosSjobB0J/9OawpigB6yaFR+QbXgwJnS84MIj1x5Q4SXAz37uR+9zSQASoV9hFXIs+Fed6Znkp8Q1bVPYTjx+ecrYAAACHQZodSahBaJlMCF///oywAABSfQle0rH5owBWpU0uwA2tTY9uBUmDG5kVLMtwnbsWedWz5H4h3yHtIi/zCr144wRaBktucmmEeCpg19Cn/3QSvtvujEeL3GHiEvrddTRF4YsSAtGI3NfYI8wsvnTkRsSwDuZKYitw1b4SwGjOfk5X8koZNweBAAAAY0GeO0URLCP/AAAaaHvLC2J4O8IEhaAgPRV1t5kC6lQH9u5SlOgLhY6TDRlgOHYqiLM5H+/uJatMAPkne+lGXZEjuy84M3E01HgbKE9v8v06SJUB3viYpIRzG+spROlLZUvHzAAAAEYBnlp0R/8AACoeWJFj9RmJC9lK+XHu344enhO4zX0ALVYrwhM/1YxvKas6QYaZIOcJiC1g1EG+RbIMctpcSQkLXx10qA/xAAAANQGeXGpH/wAAKgKcn/SGPyNGEn0XTYeRX/GGYx6mXJ1388STr4h1SZmRbXwVZieYxCXekKDhAAAAxUGaQUmoQWyZTAhX//44QAABRo5P3OSs1KQuLhq3aTU/RcvlIPQATt5wlbRf+1HxMp4V5BGOzPPpqVFesfGskr+iyBrIOYjjmzXpm+woZ7dCSpxTGEQQj2K572FAn63NMXHSrISlbl0auSEoZ21IuS9bnUvfL8zMg3cD3LdYjytvBHKBNTe4NT9Nf/3PoqJronP+35CBs2p5xSZgKb5CTm/+fNvFM1TrGR2MZjA6Na5TrMsKefz3UnZeD6z7SZZ5dlUOXkdCAAAAakGef0UVLCP/AAAbCYLZC8AAWl1sWXxYpgBJfYS7SPbtA9S+RpMgTeXzV6lm6FqFbvFNgZcs3NGBf70tAT2fY6ov8RvQziVNn2XyRrL6VyUASncI+pbsse34sLPgqY8JqwHcyU/Q690fcOAAAABPAZ6edEf/AAArPiQDRiXZoPcE8wx03pwzOyxuGQn2psUA9AEKxdbq/gFxiVd1SPm/1wFvHABbxK1zqCxG+GYtWSKuT4r0ww48FEfKBnS13QAAAFoBnoBqR/8AACsjDiBYfhSADcDVoRi/Q2pp9+jSZVgmPT/AF3tehioxfbkGqtwL66iaR+VJ8UPjtzR//yfBh/AiVSDd2F3opCAJoGucQ3mvTf/fU+8u39T+u4AAAACYQZqESahBbJlMCP/8hAAAE0uIc6klADo8ftcrC5fv8VvwX2hRYRZQCb3RBdmWRL6xXzFxSaw01+mJnxNDZkK7WZZNiaNleSpDZha7Brh8Dw6kwf8iWfGtdmcqfBCqHmVlSHhAtBYy13wY/MMj6mjsJW0RY12PAkjhOvLUTpMn+7i8yx1jrpPzG3XWLWFV4VUsYbqtyZ2Tl0kAAABwQZ6iRRUsI/8AABrzybs0O1ZuOWvddjOX9smjsiZjOdnDi42RKALey3QxSL44AFs6g6wxWJ78GRKk8qsfzXwWcpPZ2TyYP+4rp5drgdIcqJfN02T/ubZtGcN5yo8VcUoCkWNhnVUFhE7P+fmvK6H67gAAAFMBnsNqR/8AACsHpz9u4mAK02oCVDsPCHWyonoP5+W6kIuejVHQTCKlPGaTl4a0DhSssMS5Ezhsh1Kpm++DHDOcwn2RhIHceSqYFFwfe2IIhOq13QAACq9tb292AAAAbG12aGQAAAAAAAAAAAAAAAAAAAPoAAAM5AABAAABAAAAAAAAAAAAAAAAAQAAAAAAAAAAAAAAAAAAAAEAAAAAAAAAAAAAAAAAAEAAAAAAAAAAAAAAAAAAAAAAAAAAAAAAAAAAAAAAAAACAAAJ2XRyYWsAAABcdGtoZAAAAAMAAAAAAAAAAAAAAAEAAAAAAAAM5AAAAAAAAAAAAAAAAAAAAAAAAQAAAAAAAAAAAAAAAAAAAAEAAAAAAAAAAAAAAAAAAEAAAAACWAAAAZAAAAAAACRlZHRzAAAAHGVsc3QAAAAAAAAAAQAADOQAAAIAAAEAAAAACVFtZGlhAAAAIG1kaGQAAAAAAAAAAAAAAAAAADIAAAClAFXEAAAAAAAtaGRscgAAAAAAAAAAdmlkZQAAAAAAAAAAAAAAAFZpZGVvSGFuZGxlcgAAAAj8bWluZgAAABR2bWhkAAAAAQAAAAAAAAAAAAAAJGRpbmYAAAAcZHJlZgAAAAAAAAABAAAADHVybCAAAAABAAAIvHN0YmwAAACYc3RzZAAAAAAAAAABAAAAiGF2YzEAAAAAAAAAAQAAAAAAAAAAAAAAAAAAAAACWAGQAEgAAABIAAAAAAAAAAEAAAAAAAAAAAAAAAAAAAAAAAAAAAAAAAAAAAAAAAAAAAAY//8AAAAyYXZjQwFkAB//4QAZZ2QAH6zZQJgz5eEAAAMAAQAAAwBkDxgxlgEABmjr48siwAAAABhzdHRzAAAAAAAAAAEAAAClAAABAAAAABRzdHNzAAAAAAAAAAEAAAABAAAFGGN0dHMAAAAAAAAAoQAAAAEAAAIAAAAAAQAABQAAAAABAAACAAAAAAEAAAAAAAAAAQAAAQAAAAABAAACAAAAAAEAAAUAAAAAAQAAAgAAAAABAAAAAAAAAAEAAAEAAAAAAQAABQAAAAABAAACAAAAAAEAAAAAAAAAAQAAAQAAAAABAAAFAAAAAAEAAAIAAAAAAQAAAAAAAAABAAABAAAAAAEAAAUAAAAAAQAAAgAAAAABAAAAAAAAAAEAAAEAAAAAAQAABQAAAAABAAACAAAAAAEAAAAAAAAAAQAAAQAAAAABAAAFAAAAAAEAAAIAAAAAAQAAAAAAAAABAAABAAAAAAEAAAUAAAAAAQAAAgAAAAABAAAAAAAAAAEAAAEAAAAAAQAABQAAAAABAAACAAAAAAEAAAAAAAAAAQAAAQAAAAABAAAFAAAAAAEAAAIAAAAAAQAAAAAAAAABAAABAAAAAAEAAAUAAAAAAQAAAgAAAAABAAAAAAAAAAEAAAEAAAAAAQAABQAAAAABAAACAAAAAAEAAAAAAAAAAQAAAQAAAAABAAAFAAAAAAEAAAIAAAAAAQAAAAAAAAABAAABAAAAAAEAAAQAAAAAAgAAAQAAAAABAAADAAAAAAEAAAEAAAAAAQAABQAAAAABAAACAAAAAAEAAAAAAAAAAQAAAQAAAAABAAAFAAAAAAEAAAIAAAAAAQAAAAAAAAABAAABAAAAAAEAAAUAAAAAAQAAAgAAAAABAAAAAAAAAAEAAAEAAAAAAQAABQAAAAABAAACAAAAAAEAAAAAAAAAAQAAAQAAAAABAAADAAAAAAEAAAEAAAAAAQAABQAAAAABAAACAAAAAAEAAAAAAAAAAQAAAQAAAAABAAAFAAAAAAEAAAIAAAAAAQAAAAAAAAABAAABAAAAAAEAAAUAAAAAAQAAAgAAAAABAAAAAAAAAAEAAAEAAAAAAQAABQAAAAABAAACAAAAAAEAAAAAAAAAAQAAAQAAAAABAAAFAAAAAAEAAAIAAAAAAQAAAAAAAAABAAABAAAAAAEAAAMAAAAAAQAAAQAAAAABAAAFAAAAAAEAAAIAAAAAAQAAAAAAAAABAAABAAAAAAEAAAUAAAAAAQAAAgAAAAABAAAAAAAAAAEAAAEAAAAAAQAABQAAAAABAAACAAAAAAEAAAAAAAAAAQAAAQAAAAABAAAFAAAAAAEAAAIAAAAAAQAAAAAAAAABAAABAAAAAAEAAAUAAAAAAQAAAgAAAAABAAAAAAAAAAEAAAEAAAAAAQAABQAAAAABAAACAAAAAAEAAAAAAAAAAQAAAQAAAAABAAAFAAAAAAEAAAIAAAAAAQAAAAAAAAABAAABAAAAAAEAAAUAAAAAAQAAAgAAAAABAAAAAAAAAAEAAAEAAAAAAQAAAwAAAAABAAABAAAAAAEAAAUAAAAAAQAAAgAAAAABAAAAAAAAAAEAAAEAAAAAAQAABQAAAAABAAACAAAAAAEAAAAAAAAAAQAAAQAAAAABAAAFAAAAAAEAAAIAAAAAAQAAAAAAAAABAAABAAAAAAEAAAMAAAAAAQAAAQAAAAABAAAEAAAAAAIAAAEAAAAAAQAAAgAAAAABAAAEAAAAAAIAAAEAAAAAAQAABQAAAAABAAACAAAAAAEAAAAAAAAAAQAAAQAAAAABAAAFAAAAAAEAAAIAAAAAAQAAAAAAAAABAAABAAAAAAEAAAQAAAAAAgAAAQAAAAAcc3RzYwAAAAAAAAABAAAAAQAAAKUAAAABAAACqHN0c3oAAAAAAAAAAAAAAKUAAATEAAAA/wAAAFAAAAA6AAAAOgAAAIEAAACZAAAARAAAAC4AAABHAAAAggAAAEYAAAAqAAAANQAAAF0AAABJAAAARgAAAC8AAAA/AAAAJwAAACQAAAArAAAAPAAAAD8AAAA+AAAAMQAAAEwAAAA6AAAANQAAADEAAAByAAAAMgAAAEkAAAAoAAAAcAAAADUAAAAgAAAALQAAAGIAAAA3AAAAOQAAAEEAAABaAAAARQAAACsAAABKAAAARgAAADEAAAAlAAAAMQAAAH0AAABSAAAANwAAADgAAABQAAAATAAAACYAAABvAAAAJwAAAEsAAAA1AAAALwAAACMAAABWAAAATQAAAC0AAAAyAAAAVwAAADwAAAAiAAAARgAAAFoAAAAyAAAALgAAACcAAACEAAAALAAAAJMAAAA/AAAAKQAAADIAAABmAAAAOwAAAEAAAAAtAAAAdQAAAFcAAAAvAAAAPQAAAHAAAAA6AAAASAAAAD4AAABYAAAATQAAAEkAAAA0AAAAeAAAAFIAAAB6AAAASAAAAC8AAAA4AAAAlAAAAEsAAAA4AAAAOwAAAIMAAABDAAAATAAAAEgAAAB1AAAASwAAAEgAAAA7AAAAowAAAFUAAAA2AAAAQAAAAHYAAABKAAAASQAAAEQAAACoAAAAWgAAAFsAAABbAAAAqAAAAEsAAAAvAAAAMQAAAGMAAABHAAAARQAAAFIAAAA/AAAAQAAAAMYAAABcAAAAQAAAACoAAACrAAAAWgAAAE8AAABUAAAAWwAAAFcAAACiAAAAVAAAAEkAAAB+AAAAswAAAGIAAABTAAAAiwAAAGcAAABKAAAAOQAAAMkAAABuAAAAUwAAAF4AAACcAAAAdAAAAFcAAAAUc3RjbwAAAAAAAAABAAAAMAAAAGJ1ZHRhAAAAWm1ldGEAAAAAAAAAIWhkbHIAAAAAAAAAAG1kaXJhcHBsAAAAAAAAAAAAAAAALWlsc3QAAAAlqXRvbwAAAB1kYXRhAAAAAQAAAABMYXZmNTcuODMuMTAw\" type=\"video/mp4\" />\n",
              "             </video>"
            ],
            "text/plain": [
              "<IPython.core.display.HTML object>"
            ]
          },
          "metadata": {
            "tags": []
          }
        },
        {
          "output_type": "stream",
          "text": [
            "\n",
            "SHOWING VIDEO video/openaigym.video.3.3544.video000008.mp4\n"
          ],
          "name": "stdout"
        },
        {
          "output_type": "display_data",
          "data": {
            "text/html": [
              "<video alt=\"test\" autoplay \n",
              "                loop controls style=\"height: 400px;\">\n",
              "                <source src=\"data:video/mp4;base64,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\" type=\"video/mp4\" />\n",
              "             </video>"
            ],
            "text/plain": [
              "<IPython.core.display.HTML object>"
            ]
          },
          "metadata": {
            "tags": []
          }
        },
        {
          "output_type": "stream",
          "text": [
            "\n",
            "SHOWING VIDEO video/openaigym.video.3.3544.video000009.mp4\n"
          ],
          "name": "stdout"
        },
        {
          "output_type": "display_data",
          "data": {
            "text/html": [
              "<video alt=\"test\" autoplay \n",
              "                loop controls style=\"height: 400px;\">\n",
              "                <source src=\"data:video/mp4;base64,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\" type=\"video/mp4\" />\n",
              "             </video>"
            ],
            "text/plain": [
              "<IPython.core.display.HTML object>"
            ]
          },
          "metadata": {
            "tags": []
          }
        }
      ]
    },
    {
      "cell_type": "code",
      "metadata": {
        "id": "mpw9WLrSQqWN"
      },
      "source": [
        ""
      ],
      "execution_count": null,
      "outputs": []
    }
  ]
}