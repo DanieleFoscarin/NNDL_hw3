{
  "nbformat": 4,
  "nbformat_minor": 0,
  "metadata": {
    "colab": {
      "name": "NNDL_hw3_part2.ipynb",
      "provenance": [],
      "toc_visible": true,
      "mount_file_id": "https://github.com/DanieleFoscarin/NNDL_hw3/blob/main/NNDL_hw3_part2.ipynb",
      "authorship_tag": "ABX9TyMx84sW+RdpoKy2iDd7Jz87",
      "include_colab_link": true
    },
    "kernelspec": {
      "name": "python3",
      "display_name": "Python 3"
    }
  },
  "cells": [
    {
      "cell_type": "markdown",
      "metadata": {
        "id": "view-in-github",
        "colab_type": "text"
      },
      "source": [
        "<a href=\"https://colab.research.google.com/github/DanieleFoscarin/NNDL_hw3/blob/main/NNDL_hw3_part2.ipynb\" target=\"_parent\"><img src=\"https://colab.research.google.com/assets/colab-badge.svg\" alt=\"Open In Colab\"/></a>"
      ]
    },
    {
      "cell_type": "markdown",
      "metadata": {
        "id": "jMm9ZPM7w7ir"
      },
      "source": [
        "# Part 1"
      ]
    },
    {
      "cell_type": "markdown",
      "metadata": {
        "id": "poiXxYrdw-Nz"
      },
      "source": [
        "Prepare enviroment"
      ]
    },
    {
      "cell_type": "code",
      "metadata": {
        "id": "jBelL8nBZVsn",
        "colab": {
          "base_uri": "https://localhost:8080/"
        },
        "outputId": "74c8aa8c-3b08-47e6-e24c-4b19debb379c"
      },
      "source": [
        "!pip install gym"
      ],
      "execution_count": 1,
      "outputs": [
        {
          "output_type": "stream",
          "text": [
            "Requirement already satisfied: gym in /usr/local/lib/python3.6/dist-packages (0.17.3)\n",
            "Requirement already satisfied: numpy>=1.10.4 in /usr/local/lib/python3.6/dist-packages (from gym) (1.19.5)\n",
            "Requirement already satisfied: pyglet<=1.5.0,>=1.4.0 in /usr/local/lib/python3.6/dist-packages (from gym) (1.5.0)\n",
            "Requirement already satisfied: cloudpickle<1.7.0,>=1.2.0 in /usr/local/lib/python3.6/dist-packages (from gym) (1.3.0)\n",
            "Requirement already satisfied: scipy in /usr/local/lib/python3.6/dist-packages (from gym) (1.4.1)\n",
            "Requirement already satisfied: future in /usr/local/lib/python3.6/dist-packages (from pyglet<=1.5.0,>=1.4.0->gym) (0.16.0)\n"
          ],
          "name": "stdout"
        }
      ]
    },
    {
      "cell_type": "code",
      "metadata": {
        "id": "a7EkHQ0VsNnJ"
      },
      "source": [
        "import random\n",
        "import torch\n",
        "import numpy as np\n",
        "import gym\n",
        "import matplotlib.pyplot as plt\n",
        "from tqdm.notebook import tqdm\n",
        "import cv2\n",
        "\n",
        "from torch import nn\n",
        "from collections import deque # this python module implements exactly what we need for the replay memeory"
      ],
      "execution_count": 2,
      "outputs": []
    },
    {
      "cell_type": "markdown",
      "metadata": {
        "id": "LKzDB1SPZYY1"
      },
      "source": [
        "## Enable gym environment rendering in Colab\n",
        "\n",
        "> This section is not required if you are executing the notebook in a local environment. It enables the video generation from Gym environments, and it is only required in Colab since we do not have access to a screen.\n",
        "\n",
        "Source: https://colab.research.google.com/drive/18LdlDDT87eb8cCTHZsXyS9ksQPzL3i6H"
      ]
    },
    {
      "cell_type": "code",
      "metadata": {
        "id": "V0HIwpatSteb",
        "colab": {
          "base_uri": "https://localhost:8080/"
        },
        "outputId": "6a9d492a-5bdb-4310-ba3e-001114062c77"
      },
      "source": [
        "!apt update\n",
        "!apt-get install python-opengl -y\n",
        "!apt install xvfb -y\n",
        "!pip install pyvirtualdisplay\n",
        "!pip install piglet"
      ],
      "execution_count": 3,
      "outputs": [
        {
          "output_type": "stream",
          "text": [
            "\u001b[33m\r0% [Working]\u001b[0m\r            \rGet:1 https://cloud.r-project.org/bin/linux/ubuntu bionic-cran40/ InRelease [3,626 B]\n",
            "\u001b[33m\r0% [Connecting to archive.ubuntu.com (91.189.88.152)] [Connecting to security.u\u001b[0m\u001b[33m\r0% [Connecting to archive.ubuntu.com (91.189.88.152)] [Connecting to security.u\u001b[0m\u001b[33m\r0% [1 InRelease gpgv 3,626 B] [Connecting to archive.ubuntu.com (91.189.88.152)\u001b[0m\r                                                                               \rIgn:2 https://developer.download.nvidia.com/compute/cuda/repos/ubuntu1804/x86_64  InRelease\n",
            "\u001b[33m\r0% [1 InRelease gpgv 3,626 B] [Connecting to archive.ubuntu.com (91.189.88.152)\u001b[0m\r                                                                               \rIgn:3 https://developer.download.nvidia.com/compute/machine-learning/repos/ubuntu1804/x86_64  InRelease\n",
            "\u001b[33m\r0% [1 InRelease gpgv 3,626 B] [Connecting to archive.ubuntu.com (91.189.88.152)\u001b[0m\r                                                                               \rGet:4 https://developer.download.nvidia.com/compute/cuda/repos/ubuntu1804/x86_64  Release [697 B]\n",
            "\u001b[33m\r0% [1 InRelease gpgv 3,626 B] [Connecting to archive.ubuntu.com (91.189.88.152)\u001b[0m\u001b[33m\r0% [1 InRelease gpgv 3,626 B] [Connecting to archive.ubuntu.com (91.189.88.152)\u001b[0m\r                                                                               \rHit:5 https://developer.download.nvidia.com/compute/machine-learning/repos/ubuntu1804/x86_64  Release\n",
            "\u001b[33m\r0% [1 InRelease gpgv 3,626 B] [Connecting to archive.ubuntu.com (91.189.88.152)\u001b[0m\r                                                                               \rGet:6 https://developer.download.nvidia.com/compute/cuda/repos/ubuntu1804/x86_64  Release.gpg [836 B]\n",
            "\u001b[33m\r0% [1 InRelease gpgv 3,626 B] [Connecting to archive.ubuntu.com (91.189.88.152)\u001b[0m\u001b[33m\r0% [1 InRelease gpgv 3,626 B] [Connecting to archive.ubuntu.com (91.189.88.152)\u001b[0m\r                                                                               \rGet:7 http://ppa.launchpad.net/c2d4u.team/c2d4u4.0+/ubuntu bionic InRelease [15.9 kB]\n",
            "Hit:8 http://archive.ubuntu.com/ubuntu bionic InRelease\n",
            "Get:9 https://cloud.r-project.org/bin/linux/ubuntu bionic-cran40/ Packages [44.4 kB]\n",
            "Get:10 http://security.ubuntu.com/ubuntu bionic-security InRelease [88.7 kB]\n",
            "Get:11 http://archive.ubuntu.com/ubuntu bionic-updates InRelease [88.7 kB]\n",
            "Hit:13 http://ppa.launchpad.net/cran/libgit2/ubuntu bionic InRelease\n",
            "Ign:14 https://developer.download.nvidia.com/compute/cuda/repos/ubuntu1804/x86_64  Packages\n",
            "Get:14 https://developer.download.nvidia.com/compute/cuda/repos/ubuntu1804/x86_64  Packages [549 kB]\n",
            "Get:15 http://archive.ubuntu.com/ubuntu bionic-backports InRelease [74.6 kB]\n",
            "Get:16 http://ppa.launchpad.net/graphics-drivers/ppa/ubuntu bionic InRelease [21.3 kB]\n",
            "Get:17 http://ppa.launchpad.net/c2d4u.team/c2d4u4.0+/ubuntu bionic/main Sources [1,724 kB]\n",
            "Get:18 http://security.ubuntu.com/ubuntu bionic-security/restricted amd64 Packages [291 kB]\n",
            "Get:19 http://archive.ubuntu.com/ubuntu bionic-updates/main amd64 Packages [2,348 kB]\n",
            "Get:20 http://security.ubuntu.com/ubuntu bionic-security/main amd64 Packages [1,908 kB]\n",
            "Get:21 http://security.ubuntu.com/ubuntu bionic-security/universe amd64 Packages [1,383 kB]\n",
            "Get:22 http://ppa.launchpad.net/c2d4u.team/c2d4u4.0+/ubuntu bionic/main amd64 Packages [882 kB]\n",
            "Get:23 http://archive.ubuntu.com/ubuntu bionic-updates/universe amd64 Packages [2,156 kB]\n",
            "Get:24 http://archive.ubuntu.com/ubuntu bionic-updates/restricted amd64 Packages [323 kB]\n",
            "Get:25 http://archive.ubuntu.com/ubuntu bionic-updates/multiverse amd64 Packages [42.6 kB]\n",
            "Get:26 http://ppa.launchpad.net/graphics-drivers/ppa/ubuntu bionic/main amd64 Packages [49.2 kB]\n",
            "Fetched 12.0 MB in 4s (2,872 kB/s)\n",
            "Reading package lists... Done\n",
            "Building dependency tree       \n",
            "Reading state information... Done\n",
            "51 packages can be upgraded. Run 'apt list --upgradable' to see them.\n",
            "Reading package lists... Done\n",
            "Building dependency tree       \n",
            "Reading state information... Done\n",
            "Suggested packages:\n",
            "  libgle3\n",
            "The following NEW packages will be installed:\n",
            "  python-opengl\n",
            "0 upgraded, 1 newly installed, 0 to remove and 51 not upgraded.\n",
            "Need to get 496 kB of archives.\n",
            "After this operation, 5,416 kB of additional disk space will be used.\n",
            "Get:1 http://archive.ubuntu.com/ubuntu bionic/universe amd64 python-opengl all 3.1.0+dfsg-1 [496 kB]\n",
            "Fetched 496 kB in 1s (451 kB/s)\n",
            "Selecting previously unselected package python-opengl.\n",
            "(Reading database ... 146374 files and directories currently installed.)\n",
            "Preparing to unpack .../python-opengl_3.1.0+dfsg-1_all.deb ...\n",
            "Unpacking python-opengl (3.1.0+dfsg-1) ...\n",
            "Setting up python-opengl (3.1.0+dfsg-1) ...\n",
            "Reading package lists... Done\n",
            "Building dependency tree       \n",
            "Reading state information... Done\n",
            "The following NEW packages will be installed:\n",
            "  xvfb\n",
            "0 upgraded, 1 newly installed, 0 to remove and 51 not upgraded.\n",
            "Need to get 784 kB of archives.\n",
            "After this operation, 2,270 kB of additional disk space will be used.\n",
            "Get:1 http://archive.ubuntu.com/ubuntu bionic-updates/universe amd64 xvfb amd64 2:1.19.6-1ubuntu4.8 [784 kB]\n",
            "Fetched 784 kB in 1s (677 kB/s)\n",
            "Selecting previously unselected package xvfb.\n",
            "(Reading database ... 148729 files and directories currently installed.)\n",
            "Preparing to unpack .../xvfb_2%3a1.19.6-1ubuntu4.8_amd64.deb ...\n",
            "Unpacking xvfb (2:1.19.6-1ubuntu4.8) ...\n",
            "Setting up xvfb (2:1.19.6-1ubuntu4.8) ...\n",
            "Processing triggers for man-db (2.8.3-2ubuntu0.1) ...\n",
            "Collecting pyvirtualdisplay\n",
            "  Downloading https://files.pythonhosted.org/packages/ad/05/6568620fed440941b704664b9cfe5f836ad699ac7694745e7787fbdc8063/PyVirtualDisplay-2.0-py2.py3-none-any.whl\n",
            "Collecting EasyProcess\n",
            "  Downloading https://files.pythonhosted.org/packages/48/3c/75573613641c90c6d094059ac28adb748560d99bd27ee6f80cce398f404e/EasyProcess-0.3-py2.py3-none-any.whl\n",
            "Installing collected packages: EasyProcess, pyvirtualdisplay\n",
            "Successfully installed EasyProcess-0.3 pyvirtualdisplay-2.0\n",
            "Collecting piglet\n",
            "  Downloading https://files.pythonhosted.org/packages/11/56/6840e5f45626dc7eb7cd5dff57d11880b3113723b3b7b1fb1fa537855b75/piglet-1.0.0-py2.py3-none-any.whl\n",
            "Collecting piglet-templates\n",
            "\u001b[?25l  Downloading https://files.pythonhosted.org/packages/34/1e/49d7e0df9420eeb13a636487b8e606cf099f2ee0793159edd8ffe905125b/piglet_templates-1.1.0-py3-none-any.whl (63kB)\n",
            "\u001b[K     |████████████████████████████████| 71kB 5.0MB/s \n",
            "\u001b[?25hRequirement already satisfied: astunparse in /usr/local/lib/python3.6/dist-packages (from piglet-templates->piglet) (1.6.3)\n",
            "Requirement already satisfied: attrs in /usr/local/lib/python3.6/dist-packages (from piglet-templates->piglet) (20.3.0)\n",
            "Requirement already satisfied: markupsafe in /usr/local/lib/python3.6/dist-packages (from piglet-templates->piglet) (1.1.1)\n",
            "Collecting Parsley\n",
            "\u001b[?25l  Downloading https://files.pythonhosted.org/packages/2b/d6/4fed8d65e28a970e1c5cb33ce9c7e22e3de745e1b2ae37af051ef16aea3b/Parsley-1.3-py2.py3-none-any.whl (88kB)\n",
            "\u001b[K     |████████████████████████████████| 92kB 7.3MB/s \n",
            "\u001b[?25hRequirement already satisfied: wheel<1.0,>=0.23.0 in /usr/local/lib/python3.6/dist-packages (from astunparse->piglet-templates->piglet) (0.36.2)\n",
            "Requirement already satisfied: six<2.0,>=1.6.1 in /usr/local/lib/python3.6/dist-packages (from astunparse->piglet-templates->piglet) (1.15.0)\n",
            "Installing collected packages: Parsley, piglet-templates, piglet\n",
            "Successfully installed Parsley-1.3 piglet-1.0.0 piglet-templates-1.1.0\n"
          ],
          "name": "stdout"
        }
      ]
    },
    {
      "cell_type": "code",
      "metadata": {
        "id": "jxM-vHKz1r_M"
      },
      "source": [
        "import glob\n",
        "import io\n",
        "import base64\n",
        "import os\n",
        "from IPython.display import HTML\n",
        "from IPython import display as ipythondisplay\n",
        "from pyvirtualdisplay import Display\n",
        "from gym.wrappers import Monitor"
      ],
      "execution_count": 4,
      "outputs": []
    },
    {
      "cell_type": "code",
      "metadata": {
        "id": "E0oXbzI2ZAfv",
        "colab": {
          "base_uri": "https://localhost:8080/"
        },
        "outputId": "dd5b3a68-1396-49aa-cd53-f5913f7d1796"
      },
      "source": [
        "display = Display(visible=0, size=(1400, 900))\n",
        "display.start()"
      ],
      "execution_count": 5,
      "outputs": [
        {
          "output_type": "execute_result",
          "data": {
            "text/plain": [
              "<pyvirtualdisplay.display.Display at 0x7f719c8d0828>"
            ]
          },
          "metadata": {
            "tags": []
          },
          "execution_count": 5
        }
      ]
    },
    {
      "cell_type": "code",
      "metadata": {
        "id": "yr5j5rz0ZEJf"
      },
      "source": [
        "# This code creates a virtual display to draw game images on. \n",
        "# If you are running locally, just ignore it\n",
        "if type(os.environ.get(\"DISPLAY\")) is not str or len(os.environ.get(\"DISPLAY\"))==0:\n",
        "    !bash ../xvfb start\n",
        "    %env DISPLAY=:1"
      ],
      "execution_count": 6,
      "outputs": []
    },
    {
      "cell_type": "code",
      "metadata": {
        "id": "StaxWEA0Z-O1"
      },
      "source": [
        "\"\"\"\n",
        "Utility functions to enable video recording of gym environment and displaying it\n",
        "To enable video, just do \"env = wrap_env(env)\"\"\n",
        "\"\"\"\n",
        "\n",
        "def show_videos():\n",
        "  mp4list = glob.glob('video/*.mp4')\n",
        "  mp4list.sort()\n",
        "  for mp4 in mp4list:\n",
        "    print(f\"\\nSHOWING VIDEO {mp4}\")\n",
        "    video = io.open(mp4, 'r+b').read()\n",
        "    encoded = base64.b64encode(video)\n",
        "    ipythondisplay.display(HTML(data='''<video alt=\"test\" autoplay \n",
        "                loop controls style=\"height: 400px;\">\n",
        "                <source src=\"data:video/mp4;base64,{0}\" type=\"video/mp4\" />\n",
        "             </video>'''.format(encoded.decode('ascii'))))\n",
        "    \n",
        "def wrap_env(env, video_callable=None):\n",
        "  env = Monitor(env, './video', force=True, video_callable=video_callable)\n",
        "  return env"
      ],
      "execution_count": 7,
      "outputs": []
    },
    {
      "cell_type": "markdown",
      "metadata": {
        "id": "wA_0gAmJfFlT"
      },
      "source": [
        "## Experience replay (Replay Memory)"
      ]
    },
    {
      "cell_type": "markdown",
      "metadata": {
        "id": "dqPUYNrpZhPw"
      },
      "source": [
        "\"*To perform experience replay, we store the agent's experiences e_t=(s_t,a_t,r_t,s_t+1) at each time-step t in a data set D_t={e_1,…,e_t}. During learning, we apply Q-learning updates, on samples (or mini-batches) of experience (s,a,r,s′)∼U(D), drawn uniformly at random from the pool of stored samples.*\"\n",
        "\n",
        "Source: https://www.nature.com/articles/nature14236\n",
        "\n",
        "In practice, what we need is a queue with a predefined capacity. When we reach the maximum capacity, the oldest element in the queue will be replaced with the new one.\n",
        "\n",
        "This exact behavior is implemented by the `deque` object from the python `collections` library (https://docs.python.org/3/library/collections.html#collections.deque):\n",
        "\n",
        "\"*If maxlen is not specified or is None, deques may grow to an arbitrary length. Otherwise, the deque is bounded to the specified maximum length. Once a bounded length deque is full, when new items are added, a corresponding number of items are discarded from the opposite end.*\"\n",
        "\n",
        "The random sampling can be easily achieved using the `random.sample` method (https://docs.python.org/3/library/random.html). "
      ]
    },
    {
      "cell_type": "code",
      "metadata": {
        "id": "1axKWEBl8uik"
      },
      "source": [
        "class ReplayMemory(object):\n",
        "\n",
        "    def __init__(self, capacity):\n",
        "        self.memory = deque(maxlen=capacity) # Define a queue with maxlen \"capacity\"\n",
        "\n",
        "    def push(self, state, action, next_state, reward):\n",
        "        self.memory.append( (state, action, next_state, reward) ) # Add the tuple (state, action, next_state, reward) to the queue\n",
        "\n",
        "    def sample(self, batch_size):\n",
        "        batch_size = min(batch_size, len(self)) # Get all the samples if the requested batch_size is higher than the number of sample currently in the memory\n",
        "        return random.sample(self.memory, batch_size) # Randomly select \"batch_size\" samples\n",
        "\n",
        "    def __len__(self):\n",
        "        return len(self.memory) # Return the number of samples currently stored in the memory"
      ],
      "execution_count": 8,
      "outputs": []
    },
    {
      "cell_type": "markdown",
      "metadata": {
        "id": "Y-nBdx6KfKNE"
      },
      "source": [
        "## Policy network"
      ]
    },
    {
      "cell_type": "markdown",
      "metadata": {
        "id": "vt2uYYCSrL8q"
      },
      "source": [
        "The policy network takes a state as input, and provides the Q-value for each of the possible actions.\r\n",
        "\r\n",
        "Let's define a simple generic fully-connected feed forward network with `state_space_dim` inputs and `action_space_dim` outputs (e.g. 2 hidden layers with 64 neurons each). \r\n",
        "\r\n",
        "Be sure to keep a linear output activation."
      ]
    },
    {
      "cell_type": "markdown",
      "metadata": {
        "id": "ynfEXqjGfbpl"
      },
      "source": [
        "### Exploration Policy"
      ]
    },
    {
      "cell_type": "markdown",
      "metadata": {
        "id": "b1Hs7GrEw5FW"
      },
      "source": [
        "Starting from the estimated Q-values, we need to choose the proper action. This action may be the one expected to provide the highest long term reward (exploitation), or maybe we want to find a better policy by choosing a different action (exploration).\r\n",
        "\r\n",
        "The exploration policy controls this behavior, typically by varying a single parameter.\r\n",
        "\r\n",
        "Since our Q-values estimates are far from the true values at the beginning of the training, a high exploration is preferred in the initial phase.\r\n",
        "\r\n",
        "The steps are:\r\n",
        "\r\n",
        "`Current state -> Policy network -> Q-values -> Exploration Policy -> Action`"
      ]
    },
    {
      "cell_type": "markdown",
      "metadata": {
        "id": "3x-kRJbQfqBR"
      },
      "source": [
        "### Epsilon-greedy policy\n"
      ]
    },
    {
      "cell_type": "markdown",
      "metadata": {
        "id": "RFVPF0aMy3be"
      },
      "source": [
        "With an epsilon-greedy policy we choose a **non optimal** action with probability epsilon, otherwise choose the best action (the one corresponding to the highest Q-value)."
      ]
    },
    {
      "cell_type": "code",
      "metadata": {
        "id": "ZXfh_Ub1fv4c"
      },
      "source": [
        "def choose_action_epsilon_greedy(net, state, epsilon):\n",
        "    \n",
        "    if epsilon > 1 or epsilon < 0:\n",
        "        raise Exception('The epsilon value must be between 0 and 1')\n",
        "                \n",
        "    # Evaluate the network output from the current state\n",
        "    with torch.no_grad():\n",
        "        net.eval()\n",
        "        state = torch.tensor(state, dtype=torch.float32) # Convert the state to tensor\n",
        "        net_out = net(state)\n",
        "\n",
        "    # Get the best action (argmax of the network output)\n",
        "    best_action = int(net_out.argmax())\n",
        "    # Get the number of possible actions\n",
        "    action_space_dim = net_out.shape[-1]\n",
        "\n",
        "    # Select a non optimal action with probability epsilon, otherwise choose the best action\n",
        "    if random.random() < epsilon:\n",
        "        # List of non-optimal actions\n",
        "        non_optimal_actions = [a for a in range(action_space_dim) if a != best_action]\n",
        "        # Select randomly\n",
        "        action = random.choice(non_optimal_actions)\n",
        "    else:\n",
        "        # Select best action\n",
        "        action = best_action\n",
        "        \n",
        "    return action, net_out.numpy()"
      ],
      "execution_count": 9,
      "outputs": []
    },
    {
      "cell_type": "code",
      "metadata": {
        "id": "nklFJdMoiDVo",
        "colab": {
          "base_uri": "https://localhost:8080/",
          "height": 239
        },
        "outputId": "35714cc3-db95-49ac-cde2-66ed5b23b908"
      },
      "source": [
        "# # Test if it works as expected\n",
        "# state = (0, 0, 0, 0)\n",
        "# epsilon = 0.5\n",
        "# chosen_action, q_values = choose_action_epsilon_greedy(net, state, epsilon)\n",
        "\n",
        "# print(f\"ACTION: {chosen_action}\")\n",
        "# print(f\"Q-VALUES: {q_values}\")"
      ],
      "execution_count": 10,
      "outputs": [
        {
          "output_type": "error",
          "ename": "NameError",
          "evalue": "ignored",
          "traceback": [
            "\u001b[0;31m---------------------------------------------------------------------------\u001b[0m",
            "\u001b[0;31mNameError\u001b[0m                                 Traceback (most recent call last)",
            "\u001b[0;32m<ipython-input-10-a05ebc788cd1>\u001b[0m in \u001b[0;36m<module>\u001b[0;34m()\u001b[0m\n\u001b[1;32m      2\u001b[0m \u001b[0mstate\u001b[0m \u001b[0;34m=\u001b[0m \u001b[0;34m(\u001b[0m\u001b[0;36m0\u001b[0m\u001b[0;34m,\u001b[0m \u001b[0;36m0\u001b[0m\u001b[0;34m,\u001b[0m \u001b[0;36m0\u001b[0m\u001b[0;34m,\u001b[0m \u001b[0;36m0\u001b[0m\u001b[0;34m)\u001b[0m\u001b[0;34m\u001b[0m\u001b[0;34m\u001b[0m\u001b[0m\n\u001b[1;32m      3\u001b[0m \u001b[0mepsilon\u001b[0m \u001b[0;34m=\u001b[0m \u001b[0;36m0.5\u001b[0m\u001b[0;34m\u001b[0m\u001b[0;34m\u001b[0m\u001b[0m\n\u001b[0;32m----> 4\u001b[0;31m \u001b[0mchosen_action\u001b[0m\u001b[0;34m,\u001b[0m \u001b[0mq_values\u001b[0m \u001b[0;34m=\u001b[0m \u001b[0mchoose_action_epsilon_greedy\u001b[0m\u001b[0;34m(\u001b[0m\u001b[0mnet\u001b[0m\u001b[0;34m,\u001b[0m \u001b[0mstate\u001b[0m\u001b[0;34m,\u001b[0m \u001b[0mepsilon\u001b[0m\u001b[0;34m)\u001b[0m\u001b[0;34m\u001b[0m\u001b[0;34m\u001b[0m\u001b[0m\n\u001b[0m\u001b[1;32m      5\u001b[0m \u001b[0;34m\u001b[0m\u001b[0m\n\u001b[1;32m      6\u001b[0m \u001b[0mprint\u001b[0m\u001b[0;34m(\u001b[0m\u001b[0;34mf\"ACTION: {chosen_action}\"\u001b[0m\u001b[0;34m)\u001b[0m\u001b[0;34m\u001b[0m\u001b[0;34m\u001b[0m\u001b[0m\n",
            "\u001b[0;31mNameError\u001b[0m: name 'net' is not defined"
          ]
        }
      ]
    },
    {
      "cell_type": "markdown",
      "metadata": {
        "id": "Vvxi7b82f0g4"
      },
      "source": [
        "### Softmax policy"
      ]
    },
    {
      "cell_type": "markdown",
      "metadata": {
        "id": "8I0r6m-p1UQG"
      },
      "source": [
        "With a softmax policy we choose the action based on a distribution obtained applying a softmax (with temperature $\\tau$) to the estimated Q-values. The highest the temperature, the more the distribution will converge to a random uniform distribution. At zero temperature, instead, the policy will always choose the action with the highest Q-value.\r\n",
        "\r\n",
        "> **HINT**\r\n",
        ">\r\n",
        "> To sample from a random (discrete) distribution you can use the numpy function `numpy.random.choice` (https://docs.scipy.org/doc//numpy-1.10.4/reference/generated/numpy.random.choice.html), by setting the parameter `p` properly.\r\n",
        "\r\n",
        "> **HINT**\r\n",
        ">\r\n",
        "> Even if the PyTorch softmax function does not support the temperature parameter directly, you can still use it and apply the temperature outside the function. Just look carefully at the softmax formula in the slide above.\r\n",
        "\r\n",
        "> **HINT**\r\n",
        ">\r\n",
        "> The softmax function may be numerically unstable with very low temperature values. In practice, it is suggested to set a minimum value for the temperature (e.g. 1e-8)."
      ]
    },
    {
      "cell_type": "code",
      "metadata": {
        "id": "taW_cjBsf4sW"
      },
      "source": [
        "def choose_action_softmax(net, state, temperature):\n",
        "    \n",
        "    if temperature < 0:\n",
        "        raise Exception('The temperature value must be greater than or equal to 0 ')\n",
        "        \n",
        "    # If the temperature is 0, just select the best action using the eps-greedy policy with epsilon = 0\n",
        "    if temperature == 0:\n",
        "        return choose_action_epsilon_greedy(net, state, 0)\n",
        "    \n",
        "    # Evaluate the network output from the current state\n",
        "    with torch.no_grad():\n",
        "        net.eval()\n",
        "        state = torch.tensor(state, dtype=torch.float32)\n",
        "        net_out = net(state)\n",
        "\n",
        "    # Apply softmax with temp\n",
        "    temperature = max(temperature, 1e-8) # set a minimum to the temperature for numerical stability\n",
        "    softmax_out = nn.functional.softmax(net_out / temperature, dim=0).numpy()\n",
        "                \n",
        "    # Sample the action using softmax output as mass pdf\n",
        "    all_possible_actions = np.arange(0, softmax_out.shape[-1])\n",
        "    action = np.random.choice(all_possible_actions, p=softmax_out) # this samples a random element from \"all_possible_actions\" with the probability distribution p (softmax_out in this case)\n",
        "    \n",
        "    return action, net_out.numpy()"
      ],
      "execution_count": null,
      "outputs": []
    },
    {
      "cell_type": "code",
      "metadata": {
        "id": "CAIMqC5kldtB"
      },
      "source": [
        "state = (0, 0, 0, 0)\n",
        "temperature = 1\n",
        "chosen_action, q_values = choose_action_softmax(net, state, temperature)\n",
        "\n",
        "print(f\"ACTION: {chosen_action}\")\n",
        "print(f\"Q-VALUES: {q_values}\")"
      ],
      "execution_count": null,
      "outputs": []
    },
    {
      "cell_type": "markdown",
      "metadata": {
        "id": "QMXhJfZcpqIA"
      },
      "source": [
        "### Exploration profile"
      ]
    },
    {
      "cell_type": "markdown",
      "metadata": {
        "id": "7rOvTpcbMPnR"
      },
      "source": [
        "Let's consider, for example, an exponentially decreasing exploration profile using a softmax policy.\n",
        "\n",
        "$$\n",
        "\\text{softmax_temperature}  = \\text{initial_temperature} * \\text{exp_decay}^i \\qquad \\text{for $i$ = 1, 2, ..., num_iterations } \n",
        "$$\n",
        "\n",
        "Alternatively, you can consider an epsilon greedy policy. In this case the exploration would be controlled by the epsilon parameter, for which you should consider a different initial value (max 1). "
      ]
    },
    {
      "cell_type": "code",
      "metadata": {
        "colab": {
          "base_uri": "https://localhost:8080/",
          "height": 515
        },
        "id": "BLGXTxrpWuFe",
        "outputId": "7e0ffe23-98d9-440d-da01-cd685c4ad9a7"
      },
      "source": [
        "### Define experimental exploration profile\r\n",
        "initial_value = 5\r\n",
        "num_iterations = 800\r\n",
        "exp_decay = np.exp(-np.log(initial_value) / num_iterations * 4) # We compute the exponential decay in such a way the shape of the exploration profile does not depend on the number of iterations\r\n",
        "# exploration_profile = [np.clip(initial_value * (exp_decay ** i) *np.abs(np.cos(i/15)), 1e-8, 10) for i in range(num_iterations)]\r\n",
        "exploration_profile = [np.clip(initial_value * (exp_decay ** i) *np.abs(np.cos(i*np.pi/10)), 1e-8, 10) for i in range(num_iterations)]\r\n",
        "\r\n",
        "\r\n",
        "### Plot exploration profile\r\n",
        "plt.figure(figsize=(12,8))\r\n",
        "plt.plot(exploration_profile)\r\n",
        "plt.grid()\r\n",
        "plt.xlabel('Iteration')\r\n",
        "plt.ylabel('Exploration profile (Softmax temperature)')"
      ],
      "execution_count": 11,
      "outputs": [
        {
          "output_type": "execute_result",
          "data": {
            "text/plain": [
              "Text(0, 0.5, 'Exploration profile (Softmax temperature)')"
            ]
          },
          "metadata": {
            "tags": []
          },
          "execution_count": 11
        },
        {
          "output_type": "display_data",
          "data": {
            "image/png": "[encoded data removed]",
            "text/plain": [
              "<Figure size 864x576 with 1 Axes>"
            ]
          },
          "metadata": {
            "tags": [],
            "needs_background": "light"
          }
        }
      ]
    },
    {
      "cell_type": "code",
      "metadata": {
        "id": "G-f78CC3ptt2",
        "colab": {
          "base_uri": "https://localhost:8080/",
          "height": 515
        },
        "outputId": "3b1538a4-b627-4fbb-ef47-ea6b0f49c88b"
      },
      "source": [
        "### Define exploration profile\n",
        "initial_value = 5\n",
        "num_iterations = 1000\n",
        "exp_decay = np.exp(-np.log(initial_value) / num_iterations * 4) # We compute the exponential decay in such a way the shape of the exploration profile does not depend on the number of iterations\n",
        "exploration_profile = [initial_value * (exp_decay ** i) for i in range(num_iterations)]\n",
        "\n",
        "### Plot exploration profile\n",
        "plt.figure(figsize=(12,8))\n",
        "plt.plot(exploration_profile)\n",
        "plt.grid()\n",
        "plt.xlabel('Iteration')\n",
        "plt.ylabel('Exploration profile (Softmax temperature)')"
      ],
      "execution_count": 12,
      "outputs": [
        {
          "output_type": "execute_result",
          "data": {
            "text/plain": [
              "Text(0, 0.5, 'Exploration profile (Softmax temperature)')"
            ]
          },
          "metadata": {
            "tags": []
          },
          "execution_count": 12
        },
        {
          "output_type": "display_data",
          "data": {
            "image/png": "[encoded data removed]",
            "text/plain": [
              "<Figure size 864x576 with 1 Axes>"
            ]
          },
          "metadata": {
            "tags": [],
            "needs_background": "light"
          }
        }
      ]
    },
    {
      "cell_type": "code",
      "metadata": {
        "id": "iX7JpFeObm08"
      },
      "source": [
        "# ### Define experimental exploration profile\r\n",
        "# initial_value = 3\r\n",
        "# num_iterations = 1000\r\n",
        "\r\n",
        "# def gaussian(x, mu, sig):\r\n",
        "#     return np.exp(-np.power(x - mu, 2.) / (2 * np.power(sig, 2.)))\r\n",
        "\r\n",
        "# exp_decay = np.exp(-np.log(initial_value) / num_iterations * 6) # We compute the exponential decay in such a way the shape of the exploration profile does not depend on the number of iterations\r\n",
        "# exploration_profile = [initial_value * (exp_decay ** i) *np.abs(np.cos(i/20)) + gaussian(i, 0, 200)*initial_value for i in range(num_iterations)] \r\n",
        "# # exploration_profile = [gaussian(x, 0, 200)*initial_value for x in range(num_iterations)]\r\n",
        "\r\n",
        "# ### Plot exploration profile\r\n",
        "# plt.figure(figsize=(12,8))\r\n",
        "# plt.plot(exploration_profile)\r\n",
        "# plt.grid()\r\n",
        "# plt.xlabel('Iteration')\r\n",
        "# plt.ylabel('Exploration profile (Softmax temperature)')"
      ],
      "execution_count": 13,
      "outputs": []
    },
    {
      "cell_type": "markdown",
      "metadata": {
        "id": "oXLB_rUCyoUT"
      },
      "source": [
        "### State from image processing\r\n",
        "Exploit computer vision tecniques to made a state\r\n",
        "\r\n",
        "blob detection https://learnopencv.com/blob-detection-using-opencv-python-c/"
      ]
    },
    {
      "cell_type": "code",
      "metadata": {
        "id": "Rl-TC_NfYRGg"
      },
      "source": [
        "def state_from_image(frame2, frame1):\r\n",
        "    #consider frame1 as old and frame2 as current\r\n",
        "    \r\n",
        "    frame1 = frame1[160:300]\r\n",
        "    frame2 = frame2[160:300]\r\n",
        "    cart_pos1 = np.mean(np.arange(600)[frame1[139,:,0]<255])\r\n",
        "    cart_pos2 = np.mean(np.arange(600)[frame2[139,:,0]<255])\r\n",
        "\r\n",
        "    cart_vel = cart_pos2 - cart_pos1\r\n",
        "\r\n",
        "\r\n",
        "    # resctrict the searched area in the neighborhood of the cart\r\n",
        "    ros_L1 = int(max(cart_pos1-60, 0))\r\n",
        "    ros_R1 = int(min(cart_pos1+60, np.shape(frame1)[1]))\r\n",
        "\r\n",
        "    ros_L2 = int(max(cart_pos2-60, 0))\r\n",
        "    ros_R2 = int(min(cart_pos2+60, np.shape(frame2)[1]))\r\n",
        "\r\n",
        "    flat_search1 = frame1[:,ros_L1:ros_R1, 0]\r\n",
        "    flat_search2 = frame2[:,ros_L2:ros_R2, 0]\r\n",
        "\r\n",
        "    #reshape varying the last dimension first\r\n",
        "    flat_search1 = np.reshape(flat_search1, ((ros_R1-ros_L1)*140,1))\r\n",
        "    flat_search2 = np.reshape(flat_search2, ((ros_R2-ros_L2)*140,1))\r\n",
        "\r\n",
        "    idx1 = np.argmax(flat_search1<255)\r\n",
        "    point1 = [idx1//120, idx1%120] \r\n",
        "    point1 = (point1[0], point1[1]-60)\r\n",
        "    pole_pos1 = (point1[0], cart_pos1 + point1[1])\r\n",
        "    pole_rel_pos1 = point1[1]\r\n",
        "\r\n",
        "    idx2 = np.argmax(flat_search2<255)\r\n",
        "    point2 = [idx2//120, idx2%120]\r\n",
        "    point2 = (point2[0], point2[1]-60)\r\n",
        "    pole_pos2 = (point2[0], cart_pos2 + point2[1])\r\n",
        "    pole_rel_pos2 = point2[1]\r\n",
        "\r\n",
        "    pole_vel = pole_rel_pos2 - pole_rel_pos1\r\n",
        "\r\n",
        "    #normalize the values\r\n",
        "    #[-1,+1] range\r\n",
        "    cart_pos2 = (cart_pos2 - 300) / 100\r\n",
        "    cart_vel = cart_vel/10\r\n",
        "    pole_rel_pos2 = pole_rel_pos2/10\r\n",
        "    pole_vel = pole_vel/10\r\n",
        "\r\n",
        "\r\n",
        "    return cart_pos2, cart_vel, pole_rel_pos2, pole_vel"
      ],
      "execution_count": 14,
      "outputs": []
    },
    {
      "cell_type": "code",
      "metadata": {
        "id": "cQEyGibgghsF"
      },
      "source": [
        "# detector = cv2.SimpleBlobDetector_create()\r\n",
        "# print(np.shape(frame))\r\n",
        "# print(state_from_image(frame))"
      ],
      "execution_count": 15,
      "outputs": []
    },
    {
      "cell_type": "markdown",
      "metadata": {
        "id": "-rdsRx6wfZw1"
      },
      "source": [
        "### Network definition"
      ]
    },
    {
      "cell_type": "code",
      "metadata": {
        "id": "W41rXekb8x7K"
      },
      "source": [
        "class DQN(nn.Module):\n",
        "\n",
        "    def __init__(self, state_space_dim, action_space_dim, layer_size):\n",
        "        super().__init__()\n",
        "\n",
        "        self.linear = nn.Sequential(\n",
        "                nn.Linear(state_space_dim, layer_size),\n",
        "                # nn.Dropout(0.3, True),\n",
        "                nn.Tanh(),\n",
        "                nn.Linear(layer_size, layer_size),\n",
        "                # nn.Dropout(0.3, True),\n",
        "                nn.Tanh(),\n",
        "                nn.Linear(layer_size, action_space_dim)\n",
        "                )\n",
        "\n",
        "    def forward(self, x):\n",
        "        return self.linear(x)"
      ],
      "execution_count": 78,
      "outputs": []
    },
    {
      "cell_type": "code",
      "metadata": {
        "id": "tLPAsTT4gpeW"
      },
      "source": [
        "# # Define an example network\n",
        "# net = DQN(state_space_dim=4, action_space_dim=2)"
      ],
      "execution_count": 17,
      "outputs": []
    },
    {
      "cell_type": "markdown",
      "metadata": {
        "id": "zjKmdFhowRbj"
      },
      "source": [
        "## Gym Environment (CartPole-v1)"
      ]
    },
    {
      "cell_type": "markdown",
      "metadata": {
        "id": "uC_cbOXjEJlb"
      },
      "source": [
        "A pole is attached by an un-actuated joint to a cart, which moves along a frictionless track. The system is controlled by applying a force of +1 or -1 to the cart. The pendulum starts upright, and the goal is to prevent it from falling over. A reward of +1 is provided for every timestep that the pole remains upright. The episode ends when the pole is more than 15 degrees from vertical, or the cart moves more than 2.4 units from the center.\n",
        "\n",
        "https://gym.openai.com/envs/CartPole-v1/"
      ]
    },
    {
      "cell_type": "markdown",
      "metadata": {
        "id": "9FmV7DVqEikG"
      },
      "source": [
        "![image.png](data:image/png;base64,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)"
      ]
    },
    {
      "cell_type": "code",
      "metadata": {
        "id": "Ar0yNaNrCnjn",
        "colab": {
          "base_uri": "https://localhost:8080/"
        },
        "outputId": "1de11b29-5e56-4932-8af7-239b07a4a503"
      },
      "source": [
        "### Create environment\n",
        "env = gym.make('CartPole-v1') # Initialize the Gym environment\n",
        "env.seed(0) # Set a random seed for the environment (reproducible results)\n",
        "\n",
        "# Get the shapes of the state space (observation_space) and action space (action_space)\n",
        "state_space_dim = env.observation_space.shape[0]\n",
        "action_space_dim = env.action_space.n\n",
        "\n",
        "print(f\"STATE SPACE SIZE: {state_space_dim}\")\n",
        "print(f\"ACTION SPACE SIZE: {action_space_dim}\")\n",
        "\n",
        "print(env.observation_space)"
      ],
      "execution_count": 18,
      "outputs": [
        {
          "output_type": "stream",
          "text": [
            "STATE SPACE SIZE: 4\n",
            "ACTION SPACE SIZE: 2\n",
            "Box(-3.4028234663852886e+38, 3.4028234663852886e+38, (4,), float32)\n"
          ],
          "name": "stdout"
        }
      ]
    },
    {
      "cell_type": "markdown",
      "metadata": {
        "id": "9KXpjzf2vdeL"
      },
      "source": [
        "## Network update"
      ]
    },
    {
      "cell_type": "markdown",
      "metadata": {
        "id": "LQUTrt8DzJXO"
      },
      "source": [
        "### Update function"
      ]
    },
    {
      "cell_type": "code",
      "metadata": {
        "id": "Sj1hEvPOvkBX"
      },
      "source": [
        "def update_step(policy_net, target_net, replay_mem, gamma, optimizer, loss_fn, batch_size):\n",
        "        \n",
        "    # Sample the data from the replay memory\n",
        "    batch = replay_mem.sample(batch_size)\n",
        "    batch_size = len(batch)\n",
        "\n",
        "    # Create tensors for each element of the batch\n",
        "    states      = torch.tensor([s[0] for s in batch], dtype=torch.float32)\n",
        "    actions     = torch.tensor([s[1] for s in batch], dtype=torch.int64)\n",
        "    rewards     = torch.tensor([s[3] for s in batch], dtype=torch.float32)\n",
        "\n",
        "    # Compute a mask of non-final states (all the elements where the next state is not None)\n",
        "    non_final_next_states = torch.tensor([s[2] for s in batch if s[2] is not None], dtype=torch.float32) # the next state can be None if the game has ended\n",
        "    non_final_mask = torch.tensor([s[2] is not None for s in batch], dtype=torch.bool)\n",
        "\n",
        "    # Compute all the Q values (forward pass)\n",
        "    policy_net.train()\n",
        "    q_values = policy_net(states)\n",
        "    # Select the proper Q value for the corresponding action taken Q(s_t, a)\n",
        "    state_action_values = q_values.gather(1, actions.unsqueeze(1))\n",
        "\n",
        "    # Compute the value function of the next states using the target network V(s_{t+1}) = max_a( Q_target(s_{t+1}, a)) )\n",
        "    with torch.no_grad():\n",
        "      target_net.eval()\n",
        "      q_values_target = target_net(non_final_next_states)\n",
        "    next_state_max_q_values = torch.zeros(batch_size)\n",
        "    next_state_max_q_values[non_final_mask] = q_values_target.max(dim=1)[0]\n",
        "\n",
        "    # Compute the expected Q values\n",
        "    expected_state_action_values = rewards + (next_state_max_q_values * gamma)\n",
        "    expected_state_action_values = expected_state_action_values.unsqueeze(1) # Set the required tensor shape\n",
        "\n",
        "    # Compute the Huber loss\n",
        "    loss = loss_fn(state_action_values, expected_state_action_values)\n",
        "\n",
        "    # Optimize the model\n",
        "    optimizer.zero_grad()\n",
        "    loss.backward()\n",
        "    # Apply gradient clipping (clip all the gradients greater than 2 for training stability)\n",
        "    nn.utils.clip_grad_norm_(policy_net.parameters(), 2)\n",
        "    optimizer.step()"
      ],
      "execution_count": 21,
      "outputs": []
    },
    {
      "cell_type": "markdown",
      "metadata": {
        "id": "NZ3P9MKjxCAL"
      },
      "source": [
        "### Initialization"
      ]
    },
    {
      "cell_type": "markdown",
      "metadata": {
        "id": "Y7gSKTn-ymDZ"
      },
      "source": [
        "In this case we will use the Huber loss as loss function (https://pytorch.org/docs/stable/generated/torch.nn.SmoothL1Loss.html). The Huber loss uses a squared term if the absolute element-wise error falls below beta and an L1 term otherwise. It is less sensitive to outliers than the MSELoss and in some cases prevents exploding gradients."
      ]
    },
    {
      "cell_type": "code",
      "metadata": {
        "id": "lVpk-g0i9d-B"
      },
      "source": [
        "# Set random seeds\n",
        "torch.manual_seed(0)\n",
        "np.random.seed(0)\n",
        "random.seed(0)\n",
        "\n",
        "### PARAMETERS\n",
        "gamma = 0.97   # gamma parameter for the long term reward\n",
        "replay_memory_capacity = 10000   # Replay memory capacity\n",
        "lr = 1e-2   # Optimizer learning rate\n",
        "target_net_update_steps = 10   # Number of episodes to wait before updating the target network\n",
        "batch_size = 128   # Number of samples to take from the replay memory for each update\n",
        "bad_state_penalty = 0   # Penalty to the reward when we are in a bad state (in this case when the pole falls down) \n",
        "min_samples_for_training = 1000   # Minimum samples in the replay memory to enable the training"
      ],
      "execution_count": 34,
      "outputs": []
    },
    {
      "cell_type": "code",
      "metadata": {
        "id": "2k3ZQuh8xHo7"
      },
      "source": [
        "### Initialize the replay memory\n",
        "replay_mem = ReplayMemory(replay_memory_capacity)    \n",
        "\n",
        "### Initialize the policy network\n",
        "policy_net = DQN(state_space_dim, action_space_dim)\n",
        "\n",
        "### Initialize the target network with the same weights of the policy network\n",
        "target_net = DQN(state_space_dim, action_space_dim)\n",
        "target_net.load_state_dict(policy_net.state_dict()) # This will copy the weights of the policy network to the target network\n",
        "\n",
        "### Initialize the optimizer\n",
        "optimizer = torch.optim.SGD(policy_net.parameters(), lr=lr) # The optimizer will update ONLY the parameters of the policy network\n",
        "# optimizer = torch.optim.RMSprop(policy_net.parameters(), lr=lr)\n",
        "\n",
        "### Initialize the loss function (Huber loss)\n",
        "loss_fn = nn.SmoothL1Loss()"
      ],
      "execution_count": 35,
      "outputs": []
    },
    {
      "cell_type": "markdown",
      "metadata": {
        "id": "03Ab0RMB5CCC"
      },
      "source": [
        "### Training loop"
      ]
    },
    {
      "cell_type": "code",
      "metadata": {
        "id": "WF6Zf53FoRDZ"
      },
      "source": [
        "# # Initialize the Gym environment\n",
        "# env = gym.make('CartPole-v1') \n",
        "# env.seed(0) # Set a random seed for the environment (reproducible results)\n",
        "\n",
        "# # This is for creating the output video in Colab, not required outside Colab\n",
        "# env = wrap_env(env, video_callable=lambda episode_id: episode_id % 100 == 0) # Save a video every 100 episodes\n",
        "\n",
        "# score_record = []\n",
        "# win_counter = 0\n",
        "# for episode_num, tau in enumerate(exploration_profile):\n",
        "\n",
        "#     # Reset the environment and get the initial state\n",
        "#     state = env.reset()\n",
        "#     # Reset the score. The final score will be the total amount of steps before the pole falls\n",
        "#     score = 0\n",
        "#     done = False\n",
        "\n",
        "#     # Go on until the pole falls off\n",
        "#     while not done:\n",
        "\n",
        "#       # Choose the action following the policy\n",
        "#       action, q_values = choose_action_softmax(policy_net, state, temperature=tau)\n",
        "      \n",
        "#       # Apply the action and get the next state, the reward and a flag \"done\" that is True if the game is ended\n",
        "#       next_state, reward, done, info = env.step(action)\n",
        "\n",
        "#       # We apply a (linear) penalty when the cart is far from center\n",
        "#       pos_weight = 1\n",
        "#       reward = reward - pos_weight * np.abs(state[0]) \n",
        "\n",
        "#       # Update the final score (+1 for each step)\n",
        "#       score += 1\n",
        "\n",
        "#       # Apply penalty for bad state\n",
        "#       if done: # if the pole has fallen down \n",
        "#           reward += bad_state_penalty\n",
        "#           next_state = None\n",
        "\n",
        "#       # Update the replay memory\n",
        "#       replay_mem.push(state, action, next_state, reward)\n",
        "\n",
        "#       # Update the network\n",
        "#       if len(replay_mem) > min_samples_for_training: # we enable the training only if we have enough samples in the replay memory, otherwise the training will use the same samples too often\n",
        "#           update_step(policy_net, target_net, replay_mem, gamma, optimizer, loss_fn, batch_size)\n",
        "\n",
        "#       # Visually render the environment (disable to speed up the training)\n",
        "#       env.render()\n",
        "\n",
        "#       # Set the current state for the next iteration\n",
        "#       state = next_state\n",
        "\n",
        "#     # Update the target network every target_net_update_steps episodes\n",
        "#     if episode_num % target_net_update_steps == 0:\n",
        "#         print('Updating target network...')\n",
        "#         target_net.load_state_dict(policy_net.state_dict()) # This will copy the weights of the policy network to the target network\n",
        "#         # win_counter = 0\n",
        "#     score_record.append(score)\n",
        "\n",
        "#     if score == 500:\n",
        "#         win_counter +=1\n",
        "#     else:\n",
        "#         win_score = 0\n",
        "#     # Print the final score\n",
        "#     print(f\"EPISODE: {episode_num + 1} - FINAL SCORE: {score} - Temperature: {tau}\") # Print the final score\n",
        "\n",
        "#     #exit if we have 10 consecutive wins with the same net\n",
        "#     if win_counter == target_net_update_steps:\n",
        "#         break\n",
        "# env.close()"
      ],
      "execution_count": 22,
      "outputs": []
    },
    {
      "cell_type": "code",
      "metadata": {
        "id": "5xIRGZjD77D2"
      },
      "source": [
        "# plt.plot(score_record)"
      ],
      "execution_count": 23,
      "outputs": []
    },
    {
      "cell_type": "code",
      "metadata": {
        "id": "7FQjjVTiP2T6"
      },
      "source": [
        "# Display the videos, not required outside Colab\n",
        "# show_videos()"
      ],
      "execution_count": 24,
      "outputs": []
    },
    {
      "cell_type": "markdown",
      "metadata": {
        "id": "LoMkXR5W4Ar8"
      },
      "source": [
        "## training with greedy policy"
      ]
    },
    {
      "cell_type": "code",
      "metadata": {
        "id": "YsWF9_mx4ANJ",
        "colab": {
          "base_uri": "https://localhost:8080/"
        },
        "outputId": "f1f169b3-32f8-4d46-ceb1-eadd24025dd3"
      },
      "source": [
        "# Set random seeds\r\n",
        "torch.manual_seed(0)\r\n",
        "np.random.seed(0)\r\n",
        "random.seed(0)\r\n",
        "\r\n",
        "### PARAMETERS\r\n",
        "gamma = 0.97   # gamma parameter for the long term reward\r\n",
        "replay_memory_capacity = 10000   # Replay memory capacity\r\n",
        "lr = 1e-2   # Optimizer learning rate\r\n",
        "target_net_update_steps = 10   # Number of episodes to wait before updating the target network\r\n",
        "batch_size = 128  # Number of samples to take from the replay memory for each update\r\n",
        "bad_state_penalty = 0   # Penalty to the reward when we are in a bad state (in this case when the pole falls down) \r\n",
        "min_samples_for_training = 1000   # Minimum samples in the replay memory to enable the training\r\n",
        "\r\n",
        "layer_size = 128\r\n",
        "\r\n",
        "# depending on the state_from_image function\r\n",
        "state_space_dim = 4\r\n",
        "action_space_dim = 2\r\n",
        "\r\n",
        "### Initialize the replay memory\r\n",
        "replay_mem = ReplayMemory(replay_memory_capacity)    \r\n",
        "\r\n",
        "### Initialize the policy network\r\n",
        "policy_net = DQN(state_space_dim, action_space_dim, layer_size)\r\n",
        "\r\n",
        "### Initialize the target network with the same weights of the policy network\r\n",
        "target_net = DQN(state_space_dim, action_space_dim, layer_size)\r\n",
        "target_net.load_state_dict(policy_net.state_dict()) # This will copy the weights of the policy network to the target network\r\n",
        "\r\n",
        "### Initialize the optimizer\r\n",
        "optimizer = torch.optim.SGD(policy_net.parameters(), lr=lr) # The optimizer will update ONLY the parameters of the policy network\r\n",
        "# optimizer = torch.optim.RMSprop(policy_net.parameters(), lr=lr)\r\n",
        "\r\n",
        "### Initialize the loss function (Huber loss)\r\n",
        "loss_fn = nn.SmoothL1Loss()\r\n",
        "\r\n",
        "\r\n",
        "# Initialize the Gym environment\r\n",
        "env = gym.make('CartPole-v1') \r\n",
        "env.seed(0) # Set a random seed for the environment (reproducible results)\r\n",
        "\r\n",
        "# This is for creating the output video in Colab, not required outside Colab\r\n",
        "env = wrap_env(env, video_callable=lambda episode_id: episode_id % 100 == 0) # Save a video every 100 episodes\r\n",
        "\r\n",
        "num_iterations = 1000\r\n",
        "epsilon = 0.1\r\n",
        "\r\n",
        "score_record = []\r\n",
        "win_counter = 0\r\n",
        "# for episode_num, tau in enumerate(exploration_profile):\r\n",
        "for episode_num in range(num_iterations):\r\n",
        "\r\n",
        "    # Reset the environment and get the initial state\r\n",
        "    state = env.reset()\r\n",
        "    frame_past = env.render(mode=\"rgb_array\")\r\n",
        "\r\n",
        "    image_state = state_from_image(frame_past, frame_past)\r\n",
        "\r\n",
        "    # Reset the score. The final score will be the total amount of steps before the pole falls\r\n",
        "    score = 0\r\n",
        "    done = False\r\n",
        "\r\n",
        "    verbose = True\r\n",
        "\r\n",
        "    # Go on until the pole falls off\r\n",
        "    while not done:\r\n",
        "\r\n",
        "        # Choose the action following the policy\r\n",
        "        # epsilon = np.clip(tau/10,1e-8,1)\r\n",
        "\r\n",
        "        action, q_values = choose_action_epsilon_greedy(policy_net, image_state, epsilon) \r\n",
        "        \r\n",
        "        # Apply the action and get the next state, the reward and a flag \"done\" that is True if the game is ended\r\n",
        "        _, reward, done, info = env.step(action)\r\n",
        "\r\n",
        "\r\n",
        "\r\n",
        "        # save the frame in a array\r\n",
        "        frame_curr = env.render(mode=\"rgb_array\")\r\n",
        "\r\n",
        "        next_image_state = state_from_image(frame_curr, frame_past)\r\n",
        "\r\n",
        "        # We apply a (linear) penalty when the cart is far from center\r\n",
        "        pos_weight = 1\r\n",
        "        reward = reward - pos_weight * np.abs(image_state[0]) \r\n",
        "        # apply penalty also if on the pole angle velocity\r\n",
        "        pole_weight = 3\r\n",
        "        reward = reward - pos_weight * np.abs(image_state[3]) \r\n",
        "\r\n",
        "        # Update the final score (+1 for each step)\r\n",
        "        score += 1\r\n",
        "\r\n",
        "        # Apply penalty for bad state\r\n",
        "        if done: # if the pole has fallen down \r\n",
        "            reward += bad_state_penalty\r\n",
        "            next_image_state = None\r\n",
        "\r\n",
        "        # Update the replay memory\r\n",
        "        replay_mem.push(image_state, action, next_image_state, reward)\r\n",
        "\r\n",
        "        # Update the network\r\n",
        "        if len(replay_mem) > min_samples_for_training: # we enable the training only if we have enough samples in the replay memory, otherwise the training will use the same samples too often\r\n",
        "            update_step(policy_net, target_net, replay_mem, gamma, optimizer, loss_fn, batch_size)\r\n",
        "\r\n",
        "\r\n",
        "        # print(np.shape(frame))\r\n",
        "        # call  image process\r\n",
        "        # print(state_from_image(frame))\r\n",
        "\r\n",
        "        # Set the current state for the next iteration\r\n",
        "        image_state = next_image_state\r\n",
        "        frame_past = frame_curr\r\n",
        "\r\n",
        "        if verbose:\r\n",
        "            if episode_num % 200 == 0 :\r\n",
        "                print(image_state)\r\n",
        "\r\n",
        "    # Update the target network every target_net_update_steps episodes\r\n",
        "    if episode_num % target_net_update_steps == 0:\r\n",
        "        if verbose:\r\n",
        "            print('Updating target network...')\r\n",
        "        target_net.load_state_dict(policy_net.state_dict()) # This will copy the weights of the policy network to the target network\r\n",
        "        # win_counter = 0\r\n",
        "    score_record.append(score)\r\n",
        "\r\n",
        "    if score == 500:\r\n",
        "        win_counter +=1\r\n",
        "    else:\r\n",
        "        win_counter = 0\r\n",
        "    # Print the final score\r\n",
        "    if verbose:\r\n",
        "        print(f\"EPISODE: {episode_num + 1} - FINAL SCORE: {score} - Epsilon: {epsilon}\") # Print the final score\r\n",
        "\r\n",
        "    #exit if we have 10 consecutive wins with the same net\r\n",
        "    if win_counter == target_net_update_steps:\r\n",
        "        break\r\n",
        "env.close()"
      ],
      "execution_count": 79,
      "outputs": [
        {
          "output_type": "stream",
          "text": [
            "(-0.055, 0.1, -0.3, -0.1)\n",
            "(-0.065, -0.1, -0.2, 0.1)\n",
            "(-0.075, -0.1, 0.0, 0.2)\n",
            "(-0.085, -0.1, 0.2, 0.2)\n",
            "(-0.095, -0.1, 0.3, 0.1)\n",
            "(-0.095, 0.0, 0.4, 0.1)\n",
            "(-0.095, 0.0, 0.4, 0.0)\n",
            "(-0.095, 0.0, 0.4, 0.0)\n",
            "(-0.075, 0.2, 0.2, -0.2)\n",
            "(-0.065, 0.1, 0.0, -0.2)\n",
            "(-0.055, 0.1, -0.1, -0.1)\n",
            "(-0.045, 0.1, -0.2, -0.1)\n",
            "(-0.045, 0.0, -0.1, 0.1)\n",
            "(-0.055, -0.1, 0.1, 0.2)\n",
            "(-0.055, 0.0, 0.1, 0.0)\n",
            "(-0.065, -0.1, 0.3, 0.2)\n",
            "(-0.075, -0.1, 0.5, 0.2)\n",
            "(-0.075, 0.0, 0.6, 0.1)\n",
            "(-0.075, 0.0, 0.6, 0.0)\n",
            "(-0.065, 0.1, 0.6, 0.0)\n",
            "(-0.055, 0.1, 0.5, -0.1)\n",
            "(-0.045, 0.1, 0.4, -0.1)\n",
            "(-0.025, 0.2, 0.2, -0.2)\n",
            "(0.005, 0.3, -0.1, -0.3)\n",
            "(0.025, 0.2, -0.3, -0.2)\n",
            "(0.035, 0.1, -0.3, 0.0)\n",
            "(0.045, 0.1, 0.1, 0.4)\n",
            "(0.055, 0.1, -0.4, -0.5)\n",
            "(0.065, 0.1, 0.1, 0.5)\n",
            "(0.065, 0.0, 0.1, 0.0)\n",
            "(0.085, 0.2, 0.0, -0.1)\n",
            "(0.085, 0.0, 0.1, 0.1)\n",
            "(0.085, 0.0, -0.3, -0.4)\n",
            "(0.095, 0.1, -0.4, -0.1)\n",
            "(0.095, 0.0, -0.3, 0.1)\n",
            "(0.085, -0.1, 0.0, 0.3)\n",
            "(0.085, 0.0, 0.1, 0.1)\n",
            "(0.095, 0.1, 0.0, -0.1)\n",
            "(0.105, 0.1, 0.0, 0.0)\n",
            "(0.115, 0.1, 0.0, 0.0)\n",
            "(0.115, 0.0, 0.1, 0.1)\n",
            "(0.105, -0.1, 0.3, 0.2)\n",
            "(0.105, 0.0, 0.4, 0.1)\n",
            "(0.115, 0.1, 0.4, 0.0)\n",
            "(0.125, 0.1, 0.4, 0.0)\n",
            "(0.125, 0.0, 0.5, 0.1)\n",
            "(0.135, 0.1, 0.5, 0.0)\n",
            "(0.155, 0.2, 0.4, -0.1)\n",
            "(0.175, 0.2, 0.2, -0.2)\n",
            "(0.195, 0.2, 0.1, -0.1)\n",
            "(0.225, 0.3, -0.2, -0.3)\n",
            "(0.255, 0.3, 0.1, 0.3)\n",
            "(0.275, 0.2, 0.0, -0.1)\n",
            "(0.295, 0.2, 0.0, 0.0)\n",
            "(0.315, 0.2, -0.1, -0.1)\n",
            "(0.335, 0.2, -0.2, -0.1)\n",
            "(0.345, 0.1, -0.2, 0.0)\n",
            "(0.345, 0.0, -0.1, 0.1)\n",
            "(0.345, 0.0, 0.0, 0.1)\n",
            "(0.345, 0.0, 0.1, 0.1)\n",
            "(0.335, -0.1, -0.2, -0.3)\n",
            "(0.325, -0.1, 0.1, 0.3)\n",
            "(0.305, -0.2, 0.5, 0.4)\n",
            "(0.275, -0.3, 1.0, 0.5)\n",
            "(0.265, -0.1, 1.4, 0.4)\n",
            "(0.245, -0.2, 1.8, 0.4)\n",
            "(0.235, -0.1, 2.1, 0.3)\n",
            "None\n",
            "Updating target network...\n",
            "EPISODE: 1 - FINAL SCORE: 68 - Epsilon: 0.1\n",
            "EPISODE: 2 - FINAL SCORE: 44 - Epsilon: 0.1\n",
            "EPISODE: 3 - FINAL SCORE: 127 - Epsilon: 0.1\n",
            "EPISODE: 4 - FINAL SCORE: 94 - Epsilon: 0.1\n",
            "EPISODE: 5 - FINAL SCORE: 53 - Epsilon: 0.1\n",
            "EPISODE: 6 - FINAL SCORE: 37 - Epsilon: 0.1\n",
            "EPISODE: 7 - FINAL SCORE: 84 - Epsilon: 0.1\n",
            "EPISODE: 8 - FINAL SCORE: 161 - Epsilon: 0.1\n",
            "EPISODE: 9 - FINAL SCORE: 12 - Epsilon: 0.1\n",
            "EPISODE: 10 - FINAL SCORE: 80 - Epsilon: 0.1\n",
            "Updating target network...\n",
            "EPISODE: 11 - FINAL SCORE: 47 - Epsilon: 0.1\n",
            "EPISODE: 12 - FINAL SCORE: 138 - Epsilon: 0.1\n",
            "EPISODE: 13 - FINAL SCORE: 152 - Epsilon: 0.1\n",
            "EPISODE: 14 - FINAL SCORE: 68 - Epsilon: 0.1\n",
            "EPISODE: 15 - FINAL SCORE: 23 - Epsilon: 0.1\n",
            "EPISODE: 16 - FINAL SCORE: 10 - Epsilon: 0.1\n",
            "EPISODE: 17 - FINAL SCORE: 38 - Epsilon: 0.1\n",
            "EPISODE: 18 - FINAL SCORE: 10 - Epsilon: 0.1\n",
            "EPISODE: 19 - FINAL SCORE: 10 - Epsilon: 0.1\n",
            "EPISODE: 20 - FINAL SCORE: 9 - Epsilon: 0.1\n",
            "Updating target network...\n",
            "EPISODE: 21 - FINAL SCORE: 11 - Epsilon: 0.1\n",
            "EPISODE: 22 - FINAL SCORE: 13 - Epsilon: 0.1\n",
            "EPISODE: 23 - FINAL SCORE: 11 - Epsilon: 0.1\n",
            "EPISODE: 24 - FINAL SCORE: 30 - Epsilon: 0.1\n",
            "EPISODE: 25 - FINAL SCORE: 10 - Epsilon: 0.1\n",
            "EPISODE: 26 - FINAL SCORE: 9 - Epsilon: 0.1\n",
            "EPISODE: 27 - FINAL SCORE: 12 - Epsilon: 0.1\n",
            "EPISODE: 28 - FINAL SCORE: 14 - Epsilon: 0.1\n",
            "EPISODE: 29 - FINAL SCORE: 11 - Epsilon: 0.1\n",
            "EPISODE: 30 - FINAL SCORE: 9 - Epsilon: 0.1\n",
            "Updating target network...\n",
            "EPISODE: 31 - FINAL SCORE: 11 - Epsilon: 0.1\n",
            "EPISODE: 32 - FINAL SCORE: 11 - Epsilon: 0.1\n",
            "EPISODE: 33 - FINAL SCORE: 11 - Epsilon: 0.1\n",
            "EPISODE: 34 - FINAL SCORE: 11 - Epsilon: 0.1\n",
            "EPISODE: 35 - FINAL SCORE: 10 - Epsilon: 0.1\n",
            "EPISODE: 36 - FINAL SCORE: 9 - Epsilon: 0.1\n",
            "EPISODE: 37 - FINAL SCORE: 9 - Epsilon: 0.1\n",
            "EPISODE: 38 - FINAL SCORE: 9 - Epsilon: 0.1\n",
            "EPISODE: 39 - FINAL SCORE: 12 - Epsilon: 0.1\n",
            "EPISODE: 40 - FINAL SCORE: 9 - Epsilon: 0.1\n",
            "Updating target network...\n",
            "EPISODE: 41 - FINAL SCORE: 11 - Epsilon: 0.1\n",
            "EPISODE: 42 - FINAL SCORE: 9 - Epsilon: 0.1\n",
            "EPISODE: 43 - FINAL SCORE: 12 - Epsilon: 0.1\n",
            "EPISODE: 44 - FINAL SCORE: 9 - Epsilon: 0.1\n",
            "EPISODE: 45 - FINAL SCORE: 14 - Epsilon: 0.1\n",
            "EPISODE: 46 - FINAL SCORE: 12 - Epsilon: 0.1\n",
            "EPISODE: 47 - FINAL SCORE: 13 - Epsilon: 0.1\n",
            "EPISODE: 48 - FINAL SCORE: 10 - Epsilon: 0.1\n",
            "EPISODE: 49 - FINAL SCORE: 9 - Epsilon: 0.1\n",
            "EPISODE: 50 - FINAL SCORE: 12 - Epsilon: 0.1\n",
            "Updating target network...\n",
            "EPISODE: 51 - FINAL SCORE: 12 - Epsilon: 0.1\n",
            "EPISODE: 52 - FINAL SCORE: 14 - Epsilon: 0.1\n",
            "EPISODE: 53 - FINAL SCORE: 12 - Epsilon: 0.1\n",
            "EPISODE: 54 - FINAL SCORE: 11 - Epsilon: 0.1\n",
            "EPISODE: 55 - FINAL SCORE: 12 - Epsilon: 0.1\n",
            "EPISODE: 56 - FINAL SCORE: 28 - Epsilon: 0.1\n",
            "EPISODE: 57 - FINAL SCORE: 10 - Epsilon: 0.1\n",
            "EPISODE: 58 - FINAL SCORE: 25 - Epsilon: 0.1\n",
            "EPISODE: 59 - FINAL SCORE: 13 - Epsilon: 0.1\n",
            "EPISODE: 60 - FINAL SCORE: 9 - Epsilon: 0.1\n",
            "Updating target network...\n",
            "EPISODE: 61 - FINAL SCORE: 11 - Epsilon: 0.1\n",
            "EPISODE: 62 - FINAL SCORE: 11 - Epsilon: 0.1\n",
            "EPISODE: 63 - FINAL SCORE: 12 - Epsilon: 0.1\n",
            "EPISODE: 64 - FINAL SCORE: 25 - Epsilon: 0.1\n",
            "EPISODE: 65 - FINAL SCORE: 9 - Epsilon: 0.1\n",
            "EPISODE: 66 - FINAL SCORE: 15 - Epsilon: 0.1\n",
            "EPISODE: 67 - FINAL SCORE: 15 - Epsilon: 0.1\n",
            "EPISODE: 68 - FINAL SCORE: 13 - Epsilon: 0.1\n",
            "EPISODE: 69 - FINAL SCORE: 11 - Epsilon: 0.1\n",
            "EPISODE: 70 - FINAL SCORE: 11 - Epsilon: 0.1\n",
            "Updating target network...\n",
            "EPISODE: 71 - FINAL SCORE: 10 - Epsilon: 0.1\n",
            "EPISODE: 72 - FINAL SCORE: 9 - Epsilon: 0.1\n",
            "EPISODE: 73 - FINAL SCORE: 28 - Epsilon: 0.1\n",
            "EPISODE: 74 - FINAL SCORE: 15 - Epsilon: 0.1\n",
            "EPISODE: 75 - FINAL SCORE: 14 - Epsilon: 0.1\n",
            "EPISODE: 76 - FINAL SCORE: 21 - Epsilon: 0.1\n",
            "EPISODE: 77 - FINAL SCORE: 9 - Epsilon: 0.1\n",
            "EPISODE: 78 - FINAL SCORE: 13 - Epsilon: 0.1\n",
            "EPISODE: 79 - FINAL SCORE: 24 - Epsilon: 0.1\n",
            "EPISODE: 80 - FINAL SCORE: 21 - Epsilon: 0.1\n",
            "Updating target network...\n",
            "EPISODE: 81 - FINAL SCORE: 20 - Epsilon: 0.1\n",
            "EPISODE: 82 - FINAL SCORE: 35 - Epsilon: 0.1\n",
            "EPISODE: 83 - FINAL SCORE: 12 - Epsilon: 0.1\n",
            "EPISODE: 84 - FINAL SCORE: 18 - Epsilon: 0.1\n",
            "EPISODE: 85 - FINAL SCORE: 13 - Epsilon: 0.1\n",
            "EPISODE: 86 - FINAL SCORE: 25 - Epsilon: 0.1\n",
            "EPISODE: 87 - FINAL SCORE: 19 - Epsilon: 0.1\n",
            "EPISODE: 88 - FINAL SCORE: 18 - Epsilon: 0.1\n",
            "EPISODE: 89 - FINAL SCORE: 11 - Epsilon: 0.1\n",
            "EPISODE: 90 - FINAL SCORE: 16 - Epsilon: 0.1\n",
            "Updating target network...\n",
            "EPISODE: 91 - FINAL SCORE: 20 - Epsilon: 0.1\n",
            "EPISODE: 92 - FINAL SCORE: 10 - Epsilon: 0.1\n",
            "EPISODE: 93 - FINAL SCORE: 26 - Epsilon: 0.1\n",
            "EPISODE: 94 - FINAL SCORE: 23 - Epsilon: 0.1\n",
            "EPISODE: 95 - FINAL SCORE: 30 - Epsilon: 0.1\n",
            "EPISODE: 96 - FINAL SCORE: 24 - Epsilon: 0.1\n",
            "EPISODE: 97 - FINAL SCORE: 12 - Epsilon: 0.1\n",
            "EPISODE: 98 - FINAL SCORE: 29 - Epsilon: 0.1\n",
            "EPISODE: 99 - FINAL SCORE: 23 - Epsilon: 0.1\n",
            "EPISODE: 100 - FINAL SCORE: 30 - Epsilon: 0.1\n",
            "Updating target network...\n",
            "EPISODE: 101 - FINAL SCORE: 18 - Epsilon: 0.1\n",
            "EPISODE: 102 - FINAL SCORE: 13 - Epsilon: 0.1\n",
            "EPISODE: 103 - FINAL SCORE: 28 - Epsilon: 0.1\n",
            "EPISODE: 104 - FINAL SCORE: 18 - Epsilon: 0.1\n",
            "EPISODE: 105 - FINAL SCORE: 27 - Epsilon: 0.1\n",
            "EPISODE: 106 - FINAL SCORE: 28 - Epsilon: 0.1\n",
            "EPISODE: 107 - FINAL SCORE: 20 - Epsilon: 0.1\n",
            "EPISODE: 108 - FINAL SCORE: 13 - Epsilon: 0.1\n",
            "EPISODE: 109 - FINAL SCORE: 32 - Epsilon: 0.1\n",
            "EPISODE: 110 - FINAL SCORE: 25 - Epsilon: 0.1\n",
            "Updating target network...\n",
            "EPISODE: 111 - FINAL SCORE: 28 - Epsilon: 0.1\n",
            "EPISODE: 112 - FINAL SCORE: 12 - Epsilon: 0.1\n",
            "EPISODE: 113 - FINAL SCORE: 31 - Epsilon: 0.1\n",
            "EPISODE: 114 - FINAL SCORE: 17 - Epsilon: 0.1\n",
            "EPISODE: 115 - FINAL SCORE: 16 - Epsilon: 0.1\n",
            "EPISODE: 116 - FINAL SCORE: 30 - Epsilon: 0.1\n",
            "EPISODE: 117 - FINAL SCORE: 23 - Epsilon: 0.1\n",
            "EPISODE: 118 - FINAL SCORE: 13 - Epsilon: 0.1\n",
            "EPISODE: 119 - FINAL SCORE: 21 - Epsilon: 0.1\n",
            "EPISODE: 120 - FINAL SCORE: 30 - Epsilon: 0.1\n",
            "Updating target network...\n",
            "EPISODE: 121 - FINAL SCORE: 17 - Epsilon: 0.1\n",
            "EPISODE: 122 - FINAL SCORE: 32 - Epsilon: 0.1\n",
            "EPISODE: 123 - FINAL SCORE: 23 - Epsilon: 0.1\n",
            "EPISODE: 124 - FINAL SCORE: 11 - Epsilon: 0.1\n",
            "EPISODE: 125 - FINAL SCORE: 28 - Epsilon: 0.1\n",
            "EPISODE: 126 - FINAL SCORE: 26 - Epsilon: 0.1\n",
            "EPISODE: 127 - FINAL SCORE: 33 - Epsilon: 0.1\n",
            "EPISODE: 128 - FINAL SCORE: 25 - Epsilon: 0.1\n",
            "EPISODE: 129 - FINAL SCORE: 12 - Epsilon: 0.1\n",
            "EPISODE: 130 - FINAL SCORE: 35 - Epsilon: 0.1\n",
            "Updating target network...\n",
            "EPISODE: 131 - FINAL SCORE: 22 - Epsilon: 0.1\n",
            "EPISODE: 132 - FINAL SCORE: 11 - Epsilon: 0.1\n",
            "EPISODE: 133 - FINAL SCORE: 28 - Epsilon: 0.1\n",
            "EPISODE: 134 - FINAL SCORE: 10 - Epsilon: 0.1\n",
            "EPISODE: 135 - FINAL SCORE: 23 - Epsilon: 0.1\n",
            "EPISODE: 136 - FINAL SCORE: 24 - Epsilon: 0.1\n",
            "EPISODE: 137 - FINAL SCORE: 17 - Epsilon: 0.1\n",
            "EPISODE: 138 - FINAL SCORE: 15 - Epsilon: 0.1\n",
            "EPISODE: 139 - FINAL SCORE: 22 - Epsilon: 0.1\n",
            "EPISODE: 140 - FINAL SCORE: 39 - Epsilon: 0.1\n",
            "Updating target network...\n",
            "EPISODE: 141 - FINAL SCORE: 17 - Epsilon: 0.1\n",
            "EPISODE: 142 - FINAL SCORE: 27 - Epsilon: 0.1\n",
            "EPISODE: 143 - FINAL SCORE: 27 - Epsilon: 0.1\n",
            "EPISODE: 144 - FINAL SCORE: 13 - Epsilon: 0.1\n",
            "EPISODE: 145 - FINAL SCORE: 25 - Epsilon: 0.1\n",
            "EPISODE: 146 - FINAL SCORE: 12 - Epsilon: 0.1\n",
            "EPISODE: 147 - FINAL SCORE: 46 - Epsilon: 0.1\n",
            "EPISODE: 148 - FINAL SCORE: 37 - Epsilon: 0.1\n",
            "EPISODE: 149 - FINAL SCORE: 11 - Epsilon: 0.1\n",
            "EPISODE: 150 - FINAL SCORE: 22 - Epsilon: 0.1\n",
            "Updating target network...\n",
            "EPISODE: 151 - FINAL SCORE: 10 - Epsilon: 0.1\n",
            "EPISODE: 152 - FINAL SCORE: 30 - Epsilon: 0.1\n",
            "EPISODE: 153 - FINAL SCORE: 11 - Epsilon: 0.1\n",
            "EPISODE: 154 - FINAL SCORE: 24 - Epsilon: 0.1\n",
            "EPISODE: 155 - FINAL SCORE: 20 - Epsilon: 0.1\n",
            "EPISODE: 156 - FINAL SCORE: 34 - Epsilon: 0.1\n",
            "EPISODE: 157 - FINAL SCORE: 28 - Epsilon: 0.1\n",
            "EPISODE: 158 - FINAL SCORE: 9 - Epsilon: 0.1\n",
            "EPISODE: 159 - FINAL SCORE: 11 - Epsilon: 0.1\n",
            "EPISODE: 160 - FINAL SCORE: 11 - Epsilon: 0.1\n",
            "Updating target network...\n",
            "EPISODE: 161 - FINAL SCORE: 25 - Epsilon: 0.1\n",
            "EPISODE: 162 - FINAL SCORE: 15 - Epsilon: 0.1\n",
            "EPISODE: 163 - FINAL SCORE: 21 - Epsilon: 0.1\n",
            "EPISODE: 164 - FINAL SCORE: 25 - Epsilon: 0.1\n",
            "EPISODE: 165 - FINAL SCORE: 29 - Epsilon: 0.1\n",
            "EPISODE: 166 - FINAL SCORE: 25 - Epsilon: 0.1\n",
            "EPISODE: 167 - FINAL SCORE: 29 - Epsilon: 0.1\n",
            "EPISODE: 168 - FINAL SCORE: 12 - Epsilon: 0.1\n",
            "EPISODE: 169 - FINAL SCORE: 13 - Epsilon: 0.1\n",
            "EPISODE: 170 - FINAL SCORE: 27 - Epsilon: 0.1\n",
            "Updating target network...\n",
            "EPISODE: 171 - FINAL SCORE: 12 - Epsilon: 0.1\n",
            "EPISODE: 172 - FINAL SCORE: 15 - Epsilon: 0.1\n",
            "EPISODE: 173 - FINAL SCORE: 15 - Epsilon: 0.1\n",
            "EPISODE: 174 - FINAL SCORE: 13 - Epsilon: 0.1\n",
            "EPISODE: 175 - FINAL SCORE: 21 - Epsilon: 0.1\n",
            "EPISODE: 176 - FINAL SCORE: 13 - Epsilon: 0.1\n",
            "EPISODE: 177 - FINAL SCORE: 25 - Epsilon: 0.1\n",
            "EPISODE: 178 - FINAL SCORE: 26 - Epsilon: 0.1\n",
            "EPISODE: 179 - FINAL SCORE: 12 - Epsilon: 0.1\n",
            "EPISODE: 180 - FINAL SCORE: 44 - Epsilon: 0.1\n",
            "Updating target network...\n",
            "EPISODE: 181 - FINAL SCORE: 23 - Epsilon: 0.1\n",
            "EPISODE: 182 - FINAL SCORE: 17 - Epsilon: 0.1\n",
            "EPISODE: 183 - FINAL SCORE: 25 - Epsilon: 0.1\n",
            "EPISODE: 184 - FINAL SCORE: 33 - Epsilon: 0.1\n",
            "EPISODE: 185 - FINAL SCORE: 41 - Epsilon: 0.1\n",
            "EPISODE: 186 - FINAL SCORE: 18 - Epsilon: 0.1\n",
            "EPISODE: 187 - FINAL SCORE: 28 - Epsilon: 0.1\n",
            "EPISODE: 188 - FINAL SCORE: 25 - Epsilon: 0.1\n",
            "EPISODE: 189 - FINAL SCORE: 26 - Epsilon: 0.1\n",
            "EPISODE: 190 - FINAL SCORE: 22 - Epsilon: 0.1\n",
            "Updating target network...\n",
            "EPISODE: 191 - FINAL SCORE: 29 - Epsilon: 0.1\n",
            "EPISODE: 192 - FINAL SCORE: 25 - Epsilon: 0.1\n",
            "EPISODE: 193 - FINAL SCORE: 16 - Epsilon: 0.1\n",
            "EPISODE: 194 - FINAL SCORE: 32 - Epsilon: 0.1\n",
            "EPISODE: 195 - FINAL SCORE: 26 - Epsilon: 0.1\n",
            "EPISODE: 196 - FINAL SCORE: 9 - Epsilon: 0.1\n",
            "EPISODE: 197 - FINAL SCORE: 12 - Epsilon: 0.1\n",
            "EPISODE: 198 - FINAL SCORE: 30 - Epsilon: 0.1\n",
            "EPISODE: 199 - FINAL SCORE: 13 - Epsilon: 0.1\n",
            "EPISODE: 200 - FINAL SCORE: 22 - Epsilon: 0.1\n",
            "(0.005, 0.0, 0.1, 0.0)\n",
            "(0.005, 0.0, 0.1, 0.0)\n",
            "(0.005, 0.0, 0.1, 0.0)\n",
            "(0.015, 0.1, 0.0, -0.1)\n",
            "(0.025, 0.1, -0.1, -0.1)\n",
            "(0.035, 0.1, -0.1, 0.0)\n",
            "(0.055, 0.2, -0.2, -0.1)\n",
            "(0.085, 0.3, -1.5, -1.3)\n",
            "(0.115, 0.3, -1.5, 0.0)\n",
            "(0.135, 0.2, -1.4, 0.1)\n",
            "(0.165, 0.3, -2.1, -0.7)\n",
            "(0.175, 0.1, -2.1, 0.0)\n",
            "None\n",
            "Updating target network...\n",
            "EPISODE: 201 - FINAL SCORE: 13 - Epsilon: 0.1\n",
            "EPISODE: 202 - FINAL SCORE: 24 - Epsilon: 0.1\n",
            "EPISODE: 203 - FINAL SCORE: 23 - Epsilon: 0.1\n",
            "EPISODE: 204 - FINAL SCORE: 31 - Epsilon: 0.1\n",
            "EPISODE: 205 - FINAL SCORE: 13 - Epsilon: 0.1\n",
            "EPISODE: 206 - FINAL SCORE: 38 - Epsilon: 0.1\n",
            "EPISODE: 207 - FINAL SCORE: 27 - Epsilon: 0.1\n",
            "EPISODE: 208 - FINAL SCORE: 27 - Epsilon: 0.1\n",
            "EPISODE: 209 - FINAL SCORE: 31 - Epsilon: 0.1\n",
            "EPISODE: 210 - FINAL SCORE: 12 - Epsilon: 0.1\n",
            "Updating target network...\n",
            "EPISODE: 211 - FINAL SCORE: 26 - Epsilon: 0.1\n",
            "EPISODE: 212 - FINAL SCORE: 34 - Epsilon: 0.1\n",
            "EPISODE: 213 - FINAL SCORE: 34 - Epsilon: 0.1\n",
            "EPISODE: 214 - FINAL SCORE: 26 - Epsilon: 0.1\n",
            "EPISODE: 215 - FINAL SCORE: 24 - Epsilon: 0.1\n",
            "EPISODE: 216 - FINAL SCORE: 25 - Epsilon: 0.1\n",
            "EPISODE: 217 - FINAL SCORE: 27 - Epsilon: 0.1\n",
            "EPISODE: 218 - FINAL SCORE: 24 - Epsilon: 0.1\n",
            "EPISODE: 219 - FINAL SCORE: 27 - Epsilon: 0.1\n",
            "EPISODE: 220 - FINAL SCORE: 12 - Epsilon: 0.1\n",
            "Updating target network...\n",
            "EPISODE: 221 - FINAL SCORE: 15 - Epsilon: 0.1\n",
            "EPISODE: 222 - FINAL SCORE: 33 - Epsilon: 0.1\n",
            "EPISODE: 223 - FINAL SCORE: 34 - Epsilon: 0.1\n",
            "EPISODE: 224 - FINAL SCORE: 14 - Epsilon: 0.1\n",
            "EPISODE: 225 - FINAL SCORE: 20 - Epsilon: 0.1\n",
            "EPISODE: 226 - FINAL SCORE: 14 - Epsilon: 0.1\n",
            "EPISODE: 227 - FINAL SCORE: 24 - Epsilon: 0.1\n",
            "EPISODE: 228 - FINAL SCORE: 14 - Epsilon: 0.1\n",
            "EPISODE: 229 - FINAL SCORE: 40 - Epsilon: 0.1\n",
            "EPISODE: 230 - FINAL SCORE: 25 - Epsilon: 0.1\n",
            "Updating target network...\n",
            "EPISODE: 231 - FINAL SCORE: 27 - Epsilon: 0.1\n",
            "EPISODE: 232 - FINAL SCORE: 27 - Epsilon: 0.1\n",
            "EPISODE: 233 - FINAL SCORE: 40 - Epsilon: 0.1\n",
            "EPISODE: 234 - FINAL SCORE: 12 - Epsilon: 0.1\n",
            "EPISODE: 235 - FINAL SCORE: 11 - Epsilon: 0.1\n",
            "EPISODE: 236 - FINAL SCORE: 45 - Epsilon: 0.1\n",
            "EPISODE: 237 - FINAL SCORE: 26 - Epsilon: 0.1\n",
            "EPISODE: 238 - FINAL SCORE: 20 - Epsilon: 0.1\n",
            "EPISODE: 239 - FINAL SCORE: 11 - Epsilon: 0.1\n",
            "EPISODE: 240 - FINAL SCORE: 25 - Epsilon: 0.1\n",
            "Updating target network...\n",
            "EPISODE: 241 - FINAL SCORE: 22 - Epsilon: 0.1\n",
            "EPISODE: 242 - FINAL SCORE: 10 - Epsilon: 0.1\n",
            "EPISODE: 243 - FINAL SCORE: 13 - Epsilon: 0.1\n",
            "EPISODE: 244 - FINAL SCORE: 31 - Epsilon: 0.1\n",
            "EPISODE: 245 - FINAL SCORE: 38 - Epsilon: 0.1\n",
            "EPISODE: 246 - FINAL SCORE: 43 - Epsilon: 0.1\n",
            "EPISODE: 247 - FINAL SCORE: 78 - Epsilon: 0.1\n",
            "EPISODE: 248 - FINAL SCORE: 22 - Epsilon: 0.1\n",
            "EPISODE: 249 - FINAL SCORE: 38 - Epsilon: 0.1\n",
            "EPISODE: 250 - FINAL SCORE: 23 - Epsilon: 0.1\n",
            "Updating target network...\n",
            "EPISODE: 251 - FINAL SCORE: 56 - Epsilon: 0.1\n",
            "EPISODE: 252 - FINAL SCORE: 38 - Epsilon: 0.1\n",
            "EPISODE: 253 - FINAL SCORE: 25 - Epsilon: 0.1\n",
            "EPISODE: 254 - FINAL SCORE: 34 - Epsilon: 0.1\n",
            "EPISODE: 255 - FINAL SCORE: 49 - Epsilon: 0.1\n",
            "EPISODE: 256 - FINAL SCORE: 109 - Epsilon: 0.1\n",
            "EPISODE: 257 - FINAL SCORE: 70 - Epsilon: 0.1\n",
            "EPISODE: 258 - FINAL SCORE: 204 - Epsilon: 0.1\n",
            "EPISODE: 259 - FINAL SCORE: 99 - Epsilon: 0.1\n",
            "EPISODE: 260 - FINAL SCORE: 81 - Epsilon: 0.1\n",
            "Updating target network...\n",
            "EPISODE: 261 - FINAL SCORE: 47 - Epsilon: 0.1\n",
            "EPISODE: 262 - FINAL SCORE: 127 - Epsilon: 0.1\n",
            "EPISODE: 263 - FINAL SCORE: 99 - Epsilon: 0.1\n",
            "EPISODE: 264 - FINAL SCORE: 103 - Epsilon: 0.1\n",
            "EPISODE: 265 - FINAL SCORE: 32 - Epsilon: 0.1\n",
            "EPISODE: 266 - FINAL SCORE: 131 - Epsilon: 0.1\n",
            "EPISODE: 267 - FINAL SCORE: 104 - Epsilon: 0.1\n",
            "EPISODE: 268 - FINAL SCORE: 87 - Epsilon: 0.1\n",
            "EPISODE: 269 - FINAL SCORE: 127 - Epsilon: 0.1\n",
            "EPISODE: 270 - FINAL SCORE: 117 - Epsilon: 0.1\n",
            "Updating target network...\n",
            "EPISODE: 271 - FINAL SCORE: 98 - Epsilon: 0.1\n",
            "EPISODE: 272 - FINAL SCORE: 103 - Epsilon: 0.1\n",
            "EPISODE: 273 - FINAL SCORE: 136 - Epsilon: 0.1\n",
            "EPISODE: 274 - FINAL SCORE: 77 - Epsilon: 0.1\n",
            "EPISODE: 275 - FINAL SCORE: 94 - Epsilon: 0.1\n",
            "EPISODE: 276 - FINAL SCORE: 89 - Epsilon: 0.1\n",
            "EPISODE: 277 - FINAL SCORE: 66 - Epsilon: 0.1\n",
            "EPISODE: 278 - FINAL SCORE: 91 - Epsilon: 0.1\n",
            "EPISODE: 279 - FINAL SCORE: 63 - Epsilon: 0.1\n",
            "EPISODE: 280 - FINAL SCORE: 86 - Epsilon: 0.1\n",
            "Updating target network...\n",
            "EPISODE: 281 - FINAL SCORE: 89 - Epsilon: 0.1\n",
            "EPISODE: 282 - FINAL SCORE: 55 - Epsilon: 0.1\n",
            "EPISODE: 283 - FINAL SCORE: 157 - Epsilon: 0.1\n",
            "EPISODE: 284 - FINAL SCORE: 186 - Epsilon: 0.1\n",
            "EPISODE: 285 - FINAL SCORE: 120 - Epsilon: 0.1\n",
            "EPISODE: 286 - FINAL SCORE: 68 - Epsilon: 0.1\n",
            "EPISODE: 287 - FINAL SCORE: 81 - Epsilon: 0.1\n",
            "EPISODE: 288 - FINAL SCORE: 79 - Epsilon: 0.1\n",
            "EPISODE: 289 - FINAL SCORE: 68 - Epsilon: 0.1\n",
            "EPISODE: 290 - FINAL SCORE: 68 - Epsilon: 0.1\n",
            "Updating target network...\n",
            "EPISODE: 291 - FINAL SCORE: 73 - Epsilon: 0.1\n",
            "EPISODE: 292 - FINAL SCORE: 57 - Epsilon: 0.1\n",
            "EPISODE: 293 - FINAL SCORE: 58 - Epsilon: 0.1\n",
            "EPISODE: 294 - FINAL SCORE: 80 - Epsilon: 0.1\n",
            "EPISODE: 295 - FINAL SCORE: 89 - Epsilon: 0.1\n",
            "EPISODE: 296 - FINAL SCORE: 62 - Epsilon: 0.1\n",
            "EPISODE: 297 - FINAL SCORE: 74 - Epsilon: 0.1\n",
            "EPISODE: 298 - FINAL SCORE: 66 - Epsilon: 0.1\n",
            "EPISODE: 299 - FINAL SCORE: 87 - Epsilon: 0.1\n",
            "EPISODE: 300 - FINAL SCORE: 55 - Epsilon: 0.1\n",
            "Updating target network...\n",
            "EPISODE: 301 - FINAL SCORE: 83 - Epsilon: 0.1\n",
            "EPISODE: 302 - FINAL SCORE: 34 - Epsilon: 0.1\n",
            "EPISODE: 303 - FINAL SCORE: 86 - Epsilon: 0.1\n",
            "EPISODE: 304 - FINAL SCORE: 62 - Epsilon: 0.1\n",
            "EPISODE: 305 - FINAL SCORE: 68 - Epsilon: 0.1\n",
            "EPISODE: 306 - FINAL SCORE: 82 - Epsilon: 0.1\n",
            "EPISODE: 307 - FINAL SCORE: 75 - Epsilon: 0.1\n",
            "EPISODE: 308 - FINAL SCORE: 35 - Epsilon: 0.1\n",
            "EPISODE: 309 - FINAL SCORE: 124 - Epsilon: 0.1\n",
            "EPISODE: 310 - FINAL SCORE: 61 - Epsilon: 0.1\n",
            "Updating target network...\n",
            "EPISODE: 311 - FINAL SCORE: 65 - Epsilon: 0.1\n",
            "EPISODE: 312 - FINAL SCORE: 34 - Epsilon: 0.1\n",
            "EPISODE: 313 - FINAL SCORE: 65 - Epsilon: 0.1\n",
            "EPISODE: 314 - FINAL SCORE: 72 - Epsilon: 0.1\n",
            "EPISODE: 315 - FINAL SCORE: 60 - Epsilon: 0.1\n",
            "EPISODE: 316 - FINAL SCORE: 65 - Epsilon: 0.1\n",
            "EPISODE: 317 - FINAL SCORE: 80 - Epsilon: 0.1\n",
            "EPISODE: 318 - FINAL SCORE: 68 - Epsilon: 0.1\n",
            "EPISODE: 319 - FINAL SCORE: 64 - Epsilon: 0.1\n",
            "EPISODE: 320 - FINAL SCORE: 50 - Epsilon: 0.1\n",
            "Updating target network...\n",
            "EPISODE: 321 - FINAL SCORE: 71 - Epsilon: 0.1\n",
            "EPISODE: 322 - FINAL SCORE: 57 - Epsilon: 0.1\n",
            "EPISODE: 323 - FINAL SCORE: 32 - Epsilon: 0.1\n",
            "EPISODE: 324 - FINAL SCORE: 54 - Epsilon: 0.1\n",
            "EPISODE: 325 - FINAL SCORE: 51 - Epsilon: 0.1\n",
            "EPISODE: 326 - FINAL SCORE: 48 - Epsilon: 0.1\n",
            "EPISODE: 327 - FINAL SCORE: 55 - Epsilon: 0.1\n",
            "EPISODE: 328 - FINAL SCORE: 61 - Epsilon: 0.1\n",
            "EPISODE: 329 - FINAL SCORE: 33 - Epsilon: 0.1\n",
            "EPISODE: 330 - FINAL SCORE: 41 - Epsilon: 0.1\n",
            "Updating target network...\n",
            "EPISODE: 331 - FINAL SCORE: 68 - Epsilon: 0.1\n",
            "EPISODE: 332 - FINAL SCORE: 58 - Epsilon: 0.1\n",
            "EPISODE: 333 - FINAL SCORE: 68 - Epsilon: 0.1\n",
            "EPISODE: 334 - FINAL SCORE: 51 - Epsilon: 0.1\n",
            "EPISODE: 335 - FINAL SCORE: 45 - Epsilon: 0.1\n",
            "EPISODE: 336 - FINAL SCORE: 66 - Epsilon: 0.1\n",
            "EPISODE: 337 - FINAL SCORE: 78 - Epsilon: 0.1\n",
            "EPISODE: 338 - FINAL SCORE: 45 - Epsilon: 0.1\n",
            "EPISODE: 339 - FINAL SCORE: 68 - Epsilon: 0.1\n",
            "EPISODE: 340 - FINAL SCORE: 29 - Epsilon: 0.1\n",
            "Updating target network...\n",
            "EPISODE: 341 - FINAL SCORE: 33 - Epsilon: 0.1\n",
            "EPISODE: 342 - FINAL SCORE: 20 - Epsilon: 0.1\n",
            "EPISODE: 343 - FINAL SCORE: 32 - Epsilon: 0.1\n",
            "EPISODE: 344 - FINAL SCORE: 33 - Epsilon: 0.1\n",
            "EPISODE: 345 - FINAL SCORE: 81 - Epsilon: 0.1\n",
            "EPISODE: 346 - FINAL SCORE: 63 - Epsilon: 0.1\n",
            "EPISODE: 347 - FINAL SCORE: 52 - Epsilon: 0.1\n",
            "EPISODE: 348 - FINAL SCORE: 52 - Epsilon: 0.1\n",
            "EPISODE: 349 - FINAL SCORE: 47 - Epsilon: 0.1\n",
            "EPISODE: 350 - FINAL SCORE: 17 - Epsilon: 0.1\n",
            "Updating target network...\n",
            "EPISODE: 351 - FINAL SCORE: 39 - Epsilon: 0.1\n",
            "EPISODE: 352 - FINAL SCORE: 44 - Epsilon: 0.1\n",
            "EPISODE: 353 - FINAL SCORE: 80 - Epsilon: 0.1\n",
            "EPISODE: 354 - FINAL SCORE: 34 - Epsilon: 0.1\n",
            "EPISODE: 355 - FINAL SCORE: 74 - Epsilon: 0.1\n",
            "EPISODE: 356 - FINAL SCORE: 43 - Epsilon: 0.1\n",
            "EPISODE: 357 - FINAL SCORE: 17 - Epsilon: 0.1\n",
            "EPISODE: 358 - FINAL SCORE: 43 - Epsilon: 0.1\n",
            "EPISODE: 359 - FINAL SCORE: 35 - Epsilon: 0.1\n",
            "EPISODE: 360 - FINAL SCORE: 66 - Epsilon: 0.1\n",
            "Updating target network...\n",
            "EPISODE: 361 - FINAL SCORE: 51 - Epsilon: 0.1\n",
            "EPISODE: 362 - FINAL SCORE: 33 - Epsilon: 0.1\n",
            "EPISODE: 363 - FINAL SCORE: 55 - Epsilon: 0.1\n",
            "EPISODE: 364 - FINAL SCORE: 44 - Epsilon: 0.1\n",
            "EPISODE: 365 - FINAL SCORE: 56 - Epsilon: 0.1\n",
            "EPISODE: 366 - FINAL SCORE: 37 - Epsilon: 0.1\n",
            "EPISODE: 367 - FINAL SCORE: 31 - Epsilon: 0.1\n",
            "EPISODE: 368 - FINAL SCORE: 13 - Epsilon: 0.1\n",
            "EPISODE: 369 - FINAL SCORE: 71 - Epsilon: 0.1\n",
            "EPISODE: 370 - FINAL SCORE: 66 - Epsilon: 0.1\n",
            "Updating target network...\n",
            "EPISODE: 371 - FINAL SCORE: 38 - Epsilon: 0.1\n",
            "EPISODE: 372 - FINAL SCORE: 37 - Epsilon: 0.1\n",
            "EPISODE: 373 - FINAL SCORE: 55 - Epsilon: 0.1\n",
            "EPISODE: 374 - FINAL SCORE: 47 - Epsilon: 0.1\n",
            "EPISODE: 375 - FINAL SCORE: 37 - Epsilon: 0.1\n",
            "EPISODE: 376 - FINAL SCORE: 46 - Epsilon: 0.1\n",
            "EPISODE: 377 - FINAL SCORE: 56 - Epsilon: 0.1\n",
            "EPISODE: 378 - FINAL SCORE: 59 - Epsilon: 0.1\n",
            "EPISODE: 379 - FINAL SCORE: 61 - Epsilon: 0.1\n",
            "EPISODE: 380 - FINAL SCORE: 60 - Epsilon: 0.1\n",
            "Updating target network...\n",
            "EPISODE: 381 - FINAL SCORE: 41 - Epsilon: 0.1\n",
            "EPISODE: 382 - FINAL SCORE: 49 - Epsilon: 0.1\n",
            "EPISODE: 383 - FINAL SCORE: 68 - Epsilon: 0.1\n",
            "EPISODE: 384 - FINAL SCORE: 53 - Epsilon: 0.1\n",
            "EPISODE: 385 - FINAL SCORE: 69 - Epsilon: 0.1\n",
            "EPISODE: 386 - FINAL SCORE: 62 - Epsilon: 0.1\n",
            "EPISODE: 387 - FINAL SCORE: 42 - Epsilon: 0.1\n",
            "EPISODE: 388 - FINAL SCORE: 62 - Epsilon: 0.1\n",
            "EPISODE: 389 - FINAL SCORE: 36 - Epsilon: 0.1\n",
            "EPISODE: 390 - FINAL SCORE: 42 - Epsilon: 0.1\n",
            "Updating target network...\n",
            "EPISODE: 391 - FINAL SCORE: 68 - Epsilon: 0.1\n",
            "EPISODE: 392 - FINAL SCORE: 35 - Epsilon: 0.1\n",
            "EPISODE: 393 - FINAL SCORE: 30 - Epsilon: 0.1\n",
            "EPISODE: 394 - FINAL SCORE: 41 - Epsilon: 0.1\n",
            "EPISODE: 395 - FINAL SCORE: 30 - Epsilon: 0.1\n",
            "EPISODE: 396 - FINAL SCORE: 40 - Epsilon: 0.1\n",
            "EPISODE: 397 - FINAL SCORE: 51 - Epsilon: 0.1\n",
            "EPISODE: 398 - FINAL SCORE: 61 - Epsilon: 0.1\n",
            "EPISODE: 399 - FINAL SCORE: 57 - Epsilon: 0.1\n",
            "EPISODE: 400 - FINAL SCORE: 111 - Epsilon: 0.1\n",
            "(0.045, 0.0, 0.0, 0.0)\n",
            "(0.045, 0.0, 0.0, 0.0)\n",
            "(0.035, -0.1, 0.0, 0.0)\n",
            "(0.015, -0.2, -0.3, -0.3)\n",
            "(0.005, -0.1, -0.2, 0.1)\n",
            "(-0.005, -0.1, 0.0, 0.2)\n",
            "(-0.005, 0.0, -0.1, -0.1)\n",
            "(0.005, 0.1, -0.2, -0.1)\n",
            "(0.015, 0.1, -0.3, -0.1)\n",
            "(0.015, 0.0, -0.4, -0.1)\n",
            "(0.015, 0.0, -0.4, 0.0)\n",
            "(0.005, -0.1, -0.3, 0.1)\n",
            "(-0.005, -0.1, -0.1, 0.2)\n",
            "(-0.005, 0.0, -0.1, 0.0)\n",
            "(-0.005, 0.0, -0.1, 0.0)\n",
            "(-0.015, -0.1, 0.0, 0.1)\n",
            "(-0.015, 0.0, 0.0, 0.0)\n",
            "(-0.015, 0.0, 0.0, 0.0)\n",
            "(-0.005, 0.1, -0.2, -0.2)\n",
            "(0.005, 0.1, -0.3, -0.1)\n",
            "(0.015, 0.1, 0.1, 0.4)\n",
            "(0.025, 0.1, 0.0, -0.1)\n",
            "(0.025, 0.0, 0.0, 0.0)\n",
            "(0.015, -0.1, 0.1, 0.1)\n",
            "(0.005, -0.1, -0.3, -0.4)\n",
            "(-0.015, -0.2, 0.0, 0.3)\n",
            "(-0.025, -0.1, 0.1, 0.1)\n",
            "(-0.025, 0.0, 0.2, 0.1)\n",
            "(-0.025, 0.0, 0.2, 0.0)\n",
            "(-0.025, 0.0, 0.2, 0.0)\n",
            "(-0.025, 0.0, 0.2, 0.0)\n",
            "(-0.025, 0.0, 0.2, 0.0)\n",
            "(-0.015, 0.1, 0.1, -0.1)\n",
            "(-0.005, 0.1, -0.1, -0.2)\n",
            "(0.005, 0.1, -0.2, -0.1)\n",
            "(0.015, 0.1, -0.3, -0.1)\n",
            "(0.015, 0.0, -0.3, 0.0)\n",
            "(0.025, 0.1, -0.4, -0.1)\n",
            "(0.025, 0.0, -0.3, 0.1)\n",
            "(0.015, -0.1, -0.2, 0.1)\n",
            "(0.005, -0.1, 0.0, 0.2)\n",
            "(-0.005, -0.1, 0.2, 0.2)\n",
            "(-0.005, 0.0, 0.2, 0.0)\n",
            "(0.005, 0.1, 0.1, -0.1)\n",
            "(0.005, 0.0, 0.2, 0.1)\n",
            "(0.015, 0.1, 0.1, -0.1)\n",
            "(0.015, 0.0, 0.1, 0.0)\n",
            "(0.005, -0.1, 0.3, 0.2)\n",
            "(0.005, 0.0, 0.4, 0.1)\n",
            "(0.005, 0.0, 0.4, 0.0)\n",
            "(0.015, 0.1, 0.4, 0.0)\n",
            "(0.025, 0.1, 0.3, -0.1)\n",
            "(0.035, 0.1, 0.2, -0.1)\n",
            "(0.045, 0.1, 0.2, 0.0)\n",
            "(0.035, -0.1, 0.4, 0.2)\n",
            "(0.045, 0.1, 0.3, -0.1)\n",
            "(0.055, 0.1, 0.3, 0.0)\n",
            "(0.055, 0.0, 0.4, 0.1)\n",
            "(0.055, 0.0, 0.5, 0.1)\n",
            "(0.055, 0.0, 0.5, 0.0)\n",
            "(0.065, 0.1, 0.5, 0.0)\n",
            "(0.075, 0.1, 0.5, 0.0)\n",
            "(0.085, 0.1, 0.5, 0.0)\n",
            "(0.095, 0.1, 0.4, -0.1)\n",
            "(0.105, 0.1, 0.4, 0.0)\n",
            "(0.105, 0.0, 0.5, 0.1)\n",
            "(0.105, 0.0, 0.7, 0.2)\n",
            "(0.115, 0.1, 0.7, 0.0)\n",
            "(0.115, 0.0, 0.8, 0.1)\n",
            "(0.125, 0.1, 0.9, 0.1)\n",
            "(0.125, 0.0, 1.0, 0.1)\n",
            "(0.135, 0.1, 1.0, 0.0)\n",
            "(0.135, 0.0, 1.2, 0.2)\n",
            "(0.155, 0.2, 1.1, -0.1)\n",
            "(0.165, 0.1, 1.2, 0.1)\n",
            "(0.165, 0.0, 1.4, 0.2)\n",
            "(0.165, 0.0, 1.6, 0.2)\n",
            "(0.165, 0.0, 1.8, 0.2)\n",
            "(0.175, 0.1, 1.9, 0.1)\n",
            "(0.185, 0.1, 2.0, 0.1)\n",
            "(0.205, 0.2, 2.0, 0.0)\n",
            "(0.225, 0.2, 2.0, 0.0)\n",
            "(0.245, 0.2, 2.0, 0.0)\n",
            "(0.275, 0.3, 1.9, -0.1)\n",
            "(0.285, 0.1, 2.0, 0.1)\n",
            "None\n",
            "Updating target network...\n",
            "EPISODE: 401 - FINAL SCORE: 86 - Epsilon: 0.1\n",
            "EPISODE: 402 - FINAL SCORE: 39 - Epsilon: 0.1\n",
            "EPISODE: 403 - FINAL SCORE: 37 - Epsilon: 0.1\n",
            "EPISODE: 404 - FINAL SCORE: 40 - Epsilon: 0.1\n",
            "EPISODE: 405 - FINAL SCORE: 32 - Epsilon: 0.1\n",
            "EPISODE: 406 - FINAL SCORE: 35 - Epsilon: 0.1\n",
            "EPISODE: 407 - FINAL SCORE: 62 - Epsilon: 0.1\n",
            "EPISODE: 408 - FINAL SCORE: 64 - Epsilon: 0.1\n",
            "EPISODE: 409 - FINAL SCORE: 27 - Epsilon: 0.1\n",
            "EPISODE: 410 - FINAL SCORE: 20 - Epsilon: 0.1\n",
            "Updating target network...\n",
            "EPISODE: 411 - FINAL SCORE: 64 - Epsilon: 0.1\n",
            "EPISODE: 412 - FINAL SCORE: 48 - Epsilon: 0.1\n",
            "EPISODE: 413 - FINAL SCORE: 44 - Epsilon: 0.1\n",
            "EPISODE: 414 - FINAL SCORE: 36 - Epsilon: 0.1\n",
            "EPISODE: 415 - FINAL SCORE: 38 - Epsilon: 0.1\n",
            "EPISODE: 416 - FINAL SCORE: 53 - Epsilon: 0.1\n",
            "EPISODE: 417 - FINAL SCORE: 24 - Epsilon: 0.1\n",
            "EPISODE: 418 - FINAL SCORE: 66 - Epsilon: 0.1\n",
            "EPISODE: 419 - FINAL SCORE: 69 - Epsilon: 0.1\n",
            "EPISODE: 420 - FINAL SCORE: 44 - Epsilon: 0.1\n",
            "Updating target network...\n",
            "EPISODE: 421 - FINAL SCORE: 32 - Epsilon: 0.1\n",
            "EPISODE: 422 - FINAL SCORE: 25 - Epsilon: 0.1\n",
            "EPISODE: 423 - FINAL SCORE: 54 - Epsilon: 0.1\n",
            "EPISODE: 424 - FINAL SCORE: 52 - Epsilon: 0.1\n",
            "EPISODE: 425 - FINAL SCORE: 56 - Epsilon: 0.1\n",
            "EPISODE: 426 - FINAL SCORE: 77 - Epsilon: 0.1\n",
            "EPISODE: 427 - FINAL SCORE: 73 - Epsilon: 0.1\n",
            "EPISODE: 428 - FINAL SCORE: 37 - Epsilon: 0.1\n",
            "EPISODE: 429 - FINAL SCORE: 25 - Epsilon: 0.1\n",
            "EPISODE: 430 - FINAL SCORE: 28 - Epsilon: 0.1\n",
            "Updating target network...\n",
            "EPISODE: 431 - FINAL SCORE: 50 - Epsilon: 0.1\n",
            "EPISODE: 432 - FINAL SCORE: 57 - Epsilon: 0.1\n",
            "EPISODE: 433 - FINAL SCORE: 22 - Epsilon: 0.1\n",
            "EPISODE: 434 - FINAL SCORE: 19 - Epsilon: 0.1\n",
            "EPISODE: 435 - FINAL SCORE: 23 - Epsilon: 0.1\n",
            "EPISODE: 436 - FINAL SCORE: 42 - Epsilon: 0.1\n",
            "EPISODE: 437 - FINAL SCORE: 30 - Epsilon: 0.1\n",
            "EPISODE: 438 - FINAL SCORE: 54 - Epsilon: 0.1\n",
            "EPISODE: 439 - FINAL SCORE: 40 - Epsilon: 0.1\n",
            "EPISODE: 440 - FINAL SCORE: 69 - Epsilon: 0.1\n",
            "Updating target network...\n",
            "EPISODE: 441 - FINAL SCORE: 34 - Epsilon: 0.1\n",
            "EPISODE: 442 - FINAL SCORE: 25 - Epsilon: 0.1\n",
            "EPISODE: 443 - FINAL SCORE: 19 - Epsilon: 0.1\n",
            "EPISODE: 444 - FINAL SCORE: 45 - Epsilon: 0.1\n",
            "EPISODE: 445 - FINAL SCORE: 42 - Epsilon: 0.1\n",
            "EPISODE: 446 - FINAL SCORE: 44 - Epsilon: 0.1\n",
            "EPISODE: 447 - FINAL SCORE: 44 - Epsilon: 0.1\n",
            "EPISODE: 448 - FINAL SCORE: 19 - Epsilon: 0.1\n",
            "EPISODE: 449 - FINAL SCORE: 67 - Epsilon: 0.1\n",
            "EPISODE: 450 - FINAL SCORE: 16 - Epsilon: 0.1\n",
            "Updating target network...\n",
            "EPISODE: 451 - FINAL SCORE: 30 - Epsilon: 0.1\n",
            "EPISODE: 452 - FINAL SCORE: 103 - Epsilon: 0.1\n",
            "EPISODE: 453 - FINAL SCORE: 66 - Epsilon: 0.1\n",
            "EPISODE: 454 - FINAL SCORE: 53 - Epsilon: 0.1\n",
            "EPISODE: 455 - FINAL SCORE: 60 - Epsilon: 0.1\n",
            "EPISODE: 456 - FINAL SCORE: 84 - Epsilon: 0.1\n",
            "EPISODE: 457 - FINAL SCORE: 32 - Epsilon: 0.1\n",
            "EPISODE: 458 - FINAL SCORE: 28 - Epsilon: 0.1\n",
            "EPISODE: 459 - FINAL SCORE: 19 - Epsilon: 0.1\n",
            "EPISODE: 460 - FINAL SCORE: 30 - Epsilon: 0.1\n",
            "Updating target network...\n",
            "EPISODE: 461 - FINAL SCORE: 44 - Epsilon: 0.1\n",
            "EPISODE: 462 - FINAL SCORE: 69 - Epsilon: 0.1\n",
            "EPISODE: 463 - FINAL SCORE: 22 - Epsilon: 0.1\n",
            "EPISODE: 464 - FINAL SCORE: 30 - Epsilon: 0.1\n",
            "EPISODE: 465 - FINAL SCORE: 22 - Epsilon: 0.1\n",
            "EPISODE: 466 - FINAL SCORE: 24 - Epsilon: 0.1\n",
            "EPISODE: 467 - FINAL SCORE: 24 - Epsilon: 0.1\n",
            "EPISODE: 468 - FINAL SCORE: 28 - Epsilon: 0.1\n",
            "EPISODE: 469 - FINAL SCORE: 49 - Epsilon: 0.1\n",
            "EPISODE: 470 - FINAL SCORE: 24 - Epsilon: 0.1\n",
            "Updating target network...\n",
            "EPISODE: 471 - FINAL SCORE: 57 - Epsilon: 0.1\n",
            "EPISODE: 472 - FINAL SCORE: 44 - Epsilon: 0.1\n",
            "EPISODE: 473 - FINAL SCORE: 21 - Epsilon: 0.1\n",
            "EPISODE: 474 - FINAL SCORE: 69 - Epsilon: 0.1\n",
            "EPISODE: 475 - FINAL SCORE: 26 - Epsilon: 0.1\n",
            "EPISODE: 476 - FINAL SCORE: 70 - Epsilon: 0.1\n",
            "EPISODE: 477 - FINAL SCORE: 34 - Epsilon: 0.1\n",
            "EPISODE: 478 - FINAL SCORE: 71 - Epsilon: 0.1\n",
            "EPISODE: 479 - FINAL SCORE: 66 - Epsilon: 0.1\n",
            "EPISODE: 480 - FINAL SCORE: 73 - Epsilon: 0.1\n",
            "Updating target network...\n",
            "EPISODE: 481 - FINAL SCORE: 20 - Epsilon: 0.1\n",
            "EPISODE: 482 - FINAL SCORE: 53 - Epsilon: 0.1\n",
            "EPISODE: 483 - FINAL SCORE: 64 - Epsilon: 0.1\n",
            "EPISODE: 484 - FINAL SCORE: 37 - Epsilon: 0.1\n",
            "EPISODE: 485 - FINAL SCORE: 39 - Epsilon: 0.1\n",
            "EPISODE: 486 - FINAL SCORE: 56 - Epsilon: 0.1\n",
            "EPISODE: 487 - FINAL SCORE: 40 - Epsilon: 0.1\n",
            "EPISODE: 488 - FINAL SCORE: 46 - Epsilon: 0.1\n",
            "EPISODE: 489 - FINAL SCORE: 63 - Epsilon: 0.1\n",
            "EPISODE: 490 - FINAL SCORE: 45 - Epsilon: 0.1\n",
            "Updating target network...\n",
            "EPISODE: 491 - FINAL SCORE: 24 - Epsilon: 0.1\n",
            "EPISODE: 492 - FINAL SCORE: 38 - Epsilon: 0.1\n",
            "EPISODE: 493 - FINAL SCORE: 35 - Epsilon: 0.1\n",
            "EPISODE: 494 - FINAL SCORE: 81 - Epsilon: 0.1\n",
            "EPISODE: 495 - FINAL SCORE: 38 - Epsilon: 0.1\n",
            "EPISODE: 496 - FINAL SCORE: 38 - Epsilon: 0.1\n",
            "EPISODE: 497 - FINAL SCORE: 39 - Epsilon: 0.1\n",
            "EPISODE: 498 - FINAL SCORE: 21 - Epsilon: 0.1\n",
            "EPISODE: 499 - FINAL SCORE: 30 - Epsilon: 0.1\n",
            "EPISODE: 500 - FINAL SCORE: 26 - Epsilon: 0.1\n",
            "Updating target network...\n",
            "EPISODE: 501 - FINAL SCORE: 69 - Epsilon: 0.1\n",
            "EPISODE: 502 - FINAL SCORE: 21 - Epsilon: 0.1\n",
            "EPISODE: 503 - FINAL SCORE: 61 - Epsilon: 0.1\n",
            "EPISODE: 504 - FINAL SCORE: 73 - Epsilon: 0.1\n",
            "EPISODE: 505 - FINAL SCORE: 17 - Epsilon: 0.1\n",
            "EPISODE: 506 - FINAL SCORE: 22 - Epsilon: 0.1\n",
            "EPISODE: 507 - FINAL SCORE: 34 - Epsilon: 0.1\n",
            "EPISODE: 508 - FINAL SCORE: 36 - Epsilon: 0.1\n",
            "EPISODE: 509 - FINAL SCORE: 27 - Epsilon: 0.1\n",
            "EPISODE: 510 - FINAL SCORE: 23 - Epsilon: 0.1\n",
            "Updating target network...\n",
            "EPISODE: 511 - FINAL SCORE: 64 - Epsilon: 0.1\n",
            "EPISODE: 512 - FINAL SCORE: 29 - Epsilon: 0.1\n",
            "EPISODE: 513 - FINAL SCORE: 21 - Epsilon: 0.1\n",
            "EPISODE: 514 - FINAL SCORE: 19 - Epsilon: 0.1\n",
            "EPISODE: 515 - FINAL SCORE: 26 - Epsilon: 0.1\n",
            "EPISODE: 516 - FINAL SCORE: 39 - Epsilon: 0.1\n",
            "EPISODE: 517 - FINAL SCORE: 19 - Epsilon: 0.1\n",
            "EPISODE: 518 - FINAL SCORE: 22 - Epsilon: 0.1\n",
            "EPISODE: 519 - FINAL SCORE: 31 - Epsilon: 0.1\n",
            "EPISODE: 520 - FINAL SCORE: 33 - Epsilon: 0.1\n",
            "Updating target network...\n",
            "EPISODE: 521 - FINAL SCORE: 36 - Epsilon: 0.1\n",
            "EPISODE: 522 - FINAL SCORE: 16 - Epsilon: 0.1\n",
            "EPISODE: 523 - FINAL SCORE: 15 - Epsilon: 0.1\n",
            "EPISODE: 524 - FINAL SCORE: 28 - Epsilon: 0.1\n",
            "EPISODE: 525 - FINAL SCORE: 35 - Epsilon: 0.1\n",
            "EPISODE: 526 - FINAL SCORE: 23 - Epsilon: 0.1\n",
            "EPISODE: 527 - FINAL SCORE: 39 - Epsilon: 0.1\n",
            "EPISODE: 528 - FINAL SCORE: 14 - Epsilon: 0.1\n",
            "EPISODE: 529 - FINAL SCORE: 62 - Epsilon: 0.1\n",
            "EPISODE: 530 - FINAL SCORE: 23 - Epsilon: 0.1\n",
            "Updating target network...\n",
            "EPISODE: 531 - FINAL SCORE: 30 - Epsilon: 0.1\n",
            "EPISODE: 532 - FINAL SCORE: 33 - Epsilon: 0.1\n",
            "EPISODE: 533 - FINAL SCORE: 84 - Epsilon: 0.1\n",
            "EPISODE: 534 - FINAL SCORE: 33 - Epsilon: 0.1\n",
            "EPISODE: 535 - FINAL SCORE: 28 - Epsilon: 0.1\n",
            "EPISODE: 536 - FINAL SCORE: 51 - Epsilon: 0.1\n",
            "EPISODE: 537 - FINAL SCORE: 47 - Epsilon: 0.1\n",
            "EPISODE: 538 - FINAL SCORE: 47 - Epsilon: 0.1\n",
            "EPISODE: 539 - FINAL SCORE: 70 - Epsilon: 0.1\n",
            "EPISODE: 540 - FINAL SCORE: 45 - Epsilon: 0.1\n",
            "Updating target network...\n",
            "EPISODE: 541 - FINAL SCORE: 32 - Epsilon: 0.1\n",
            "EPISODE: 542 - FINAL SCORE: 28 - Epsilon: 0.1\n",
            "EPISODE: 543 - FINAL SCORE: 40 - Epsilon: 0.1\n",
            "EPISODE: 544 - FINAL SCORE: 76 - Epsilon: 0.1\n",
            "EPISODE: 545 - FINAL SCORE: 21 - Epsilon: 0.1\n",
            "EPISODE: 546 - FINAL SCORE: 26 - Epsilon: 0.1\n",
            "EPISODE: 547 - FINAL SCORE: 29 - Epsilon: 0.1\n",
            "EPISODE: 548 - FINAL SCORE: 22 - Epsilon: 0.1\n",
            "EPISODE: 549 - FINAL SCORE: 88 - Epsilon: 0.1\n",
            "EPISODE: 550 - FINAL SCORE: 29 - Epsilon: 0.1\n",
            "Updating target network...\n",
            "EPISODE: 551 - FINAL SCORE: 28 - Epsilon: 0.1\n",
            "EPISODE: 552 - FINAL SCORE: 25 - Epsilon: 0.1\n",
            "EPISODE: 553 - FINAL SCORE: 67 - Epsilon: 0.1\n",
            "EPISODE: 554 - FINAL SCORE: 27 - Epsilon: 0.1\n",
            "EPISODE: 555 - FINAL SCORE: 68 - Epsilon: 0.1\n",
            "EPISODE: 556 - FINAL SCORE: 31 - Epsilon: 0.1\n",
            "EPISODE: 557 - FINAL SCORE: 33 - Epsilon: 0.1\n",
            "EPISODE: 558 - FINAL SCORE: 50 - Epsilon: 0.1\n",
            "EPISODE: 559 - FINAL SCORE: 26 - Epsilon: 0.1\n",
            "EPISODE: 560 - FINAL SCORE: 43 - Epsilon: 0.1\n",
            "Updating target network...\n",
            "EPISODE: 561 - FINAL SCORE: 39 - Epsilon: 0.1\n",
            "EPISODE: 562 - FINAL SCORE: 36 - Epsilon: 0.1\n",
            "EPISODE: 563 - FINAL SCORE: 44 - Epsilon: 0.1\n",
            "EPISODE: 564 - FINAL SCORE: 42 - Epsilon: 0.1\n",
            "EPISODE: 565 - FINAL SCORE: 42 - Epsilon: 0.1\n",
            "EPISODE: 566 - FINAL SCORE: 37 - Epsilon: 0.1\n",
            "EPISODE: 567 - FINAL SCORE: 52 - Epsilon: 0.1\n",
            "EPISODE: 568 - FINAL SCORE: 17 - Epsilon: 0.1\n",
            "EPISODE: 569 - FINAL SCORE: 67 - Epsilon: 0.1\n",
            "EPISODE: 570 - FINAL SCORE: 42 - Epsilon: 0.1\n",
            "Updating target network...\n",
            "EPISODE: 571 - FINAL SCORE: 32 - Epsilon: 0.1\n",
            "EPISODE: 572 - FINAL SCORE: 23 - Epsilon: 0.1\n",
            "EPISODE: 573 - FINAL SCORE: 19 - Epsilon: 0.1\n",
            "EPISODE: 574 - FINAL SCORE: 17 - Epsilon: 0.1\n",
            "EPISODE: 575 - FINAL SCORE: 21 - Epsilon: 0.1\n",
            "EPISODE: 576 - FINAL SCORE: 20 - Epsilon: 0.1\n",
            "EPISODE: 577 - FINAL SCORE: 21 - Epsilon: 0.1\n",
            "EPISODE: 578 - FINAL SCORE: 88 - Epsilon: 0.1\n",
            "EPISODE: 579 - FINAL SCORE: 67 - Epsilon: 0.1\n",
            "EPISODE: 580 - FINAL SCORE: 30 - Epsilon: 0.1\n",
            "Updating target network...\n",
            "EPISODE: 581 - FINAL SCORE: 22 - Epsilon: 0.1\n",
            "EPISODE: 582 - FINAL SCORE: 54 - Epsilon: 0.1\n",
            "EPISODE: 583 - FINAL SCORE: 97 - Epsilon: 0.1\n",
            "EPISODE: 584 - FINAL SCORE: 37 - Epsilon: 0.1\n",
            "EPISODE: 585 - FINAL SCORE: 58 - Epsilon: 0.1\n",
            "EPISODE: 586 - FINAL SCORE: 52 - Epsilon: 0.1\n",
            "EPISODE: 587 - FINAL SCORE: 51 - Epsilon: 0.1\n",
            "EPISODE: 588 - FINAL SCORE: 58 - Epsilon: 0.1\n",
            "EPISODE: 589 - FINAL SCORE: 21 - Epsilon: 0.1\n",
            "EPISODE: 590 - FINAL SCORE: 52 - Epsilon: 0.1\n",
            "Updating target network...\n",
            "EPISODE: 591 - FINAL SCORE: 67 - Epsilon: 0.1\n",
            "EPISODE: 592 - FINAL SCORE: 34 - Epsilon: 0.1\n",
            "EPISODE: 593 - FINAL SCORE: 31 - Epsilon: 0.1\n",
            "EPISODE: 594 - FINAL SCORE: 41 - Epsilon: 0.1\n",
            "EPISODE: 595 - FINAL SCORE: 71 - Epsilon: 0.1\n",
            "EPISODE: 596 - FINAL SCORE: 17 - Epsilon: 0.1\n",
            "EPISODE: 597 - FINAL SCORE: 49 - Epsilon: 0.1\n",
            "EPISODE: 598 - FINAL SCORE: 51 - Epsilon: 0.1\n",
            "EPISODE: 599 - FINAL SCORE: 23 - Epsilon: 0.1\n",
            "EPISODE: 600 - FINAL SCORE: 78 - Epsilon: 0.1\n",
            "(0.005, 0.0, 0.0, 0.0)\n",
            "(-0.005, -0.1, 0.1, 0.1)\n",
            "(-0.005, 0.0, 0.1, 0.0)\n",
            "(0.005, 0.1, 0.0, -0.1)\n",
            "(0.015, 0.1, -0.1, -0.1)\n",
            "(0.025, 0.1, -0.2, -0.1)\n",
            "(0.035, 0.1, -0.2, 0.0)\n",
            "(0.045, 0.1, -0.3, -0.1)\n",
            "(0.055, 0.1, -1.4, -1.1)\n",
            "(0.065, 0.1, -1.5, -0.1)\n",
            "(0.065, 0.0, -1.5, 0.0)\n",
            "(0.055, -0.1, -1.5, 0.0)\n",
            "(0.055, 0.0, -1.5, 0.0)\n",
            "(0.035, -0.2, -1.2, 0.3)\n",
            "(0.015, -0.2, -0.2, 1.0)\n",
            "(0.005, -0.1, -0.2, 0.0)\n",
            "(-0.015, -0.2, 0.0, 0.2)\n",
            "(-0.025, -0.1, 0.0, 0.0)\n",
            "(-0.035, -0.1, 0.0, 0.0)\n",
            "(-0.035, 0.0, 0.0, 0.0)\n",
            "(-0.035, 0.0, 0.0, 0.0)\n",
            "(-0.035, 0.0, -0.1, -0.1)\n",
            "(-0.025, 0.1, -0.2, -0.1)\n",
            "(-0.005, 0.2, -1.3, -1.1)\n",
            "(0.005, 0.1, -1.5, -0.2)\n",
            "(0.015, 0.1, -1.5, 0.0)\n",
            "(0.015, 0.0, -1.5, 0.0)\n",
            "(0.015, 0.0, -1.4, 0.1)\n",
            "(0.035, 0.2, -1.5, -0.1)\n",
            "(0.045, 0.1, -2.1, -0.6)\n",
            "None\n",
            "Updating target network...\n",
            "EPISODE: 601 - FINAL SCORE: 31 - Epsilon: 0.1\n",
            "EPISODE: 602 - FINAL SCORE: 95 - Epsilon: 0.1\n",
            "EPISODE: 603 - FINAL SCORE: 33 - Epsilon: 0.1\n",
            "EPISODE: 604 - FINAL SCORE: 22 - Epsilon: 0.1\n",
            "EPISODE: 605 - FINAL SCORE: 21 - Epsilon: 0.1\n",
            "EPISODE: 606 - FINAL SCORE: 44 - Epsilon: 0.1\n",
            "EPISODE: 607 - FINAL SCORE: 31 - Epsilon: 0.1\n",
            "EPISODE: 608 - FINAL SCORE: 67 - Epsilon: 0.1\n",
            "EPISODE: 609 - FINAL SCORE: 69 - Epsilon: 0.1\n",
            "EPISODE: 610 - FINAL SCORE: 47 - Epsilon: 0.1\n",
            "Updating target network...\n",
            "EPISODE: 611 - FINAL SCORE: 30 - Epsilon: 0.1\n",
            "EPISODE: 612 - FINAL SCORE: 28 - Epsilon: 0.1\n",
            "EPISODE: 613 - FINAL SCORE: 30 - Epsilon: 0.1\n",
            "EPISODE: 614 - FINAL SCORE: 23 - Epsilon: 0.1\n",
            "EPISODE: 615 - FINAL SCORE: 42 - Epsilon: 0.1\n",
            "EPISODE: 616 - FINAL SCORE: 77 - Epsilon: 0.1\n",
            "EPISODE: 617 - FINAL SCORE: 47 - Epsilon: 0.1\n",
            "EPISODE: 618 - FINAL SCORE: 15 - Epsilon: 0.1\n",
            "EPISODE: 619 - FINAL SCORE: 38 - Epsilon: 0.1\n",
            "EPISODE: 620 - FINAL SCORE: 21 - Epsilon: 0.1\n",
            "Updating target network...\n",
            "EPISODE: 621 - FINAL SCORE: 23 - Epsilon: 0.1\n",
            "EPISODE: 622 - FINAL SCORE: 50 - Epsilon: 0.1\n",
            "EPISODE: 623 - FINAL SCORE: 49 - Epsilon: 0.1\n",
            "EPISODE: 624 - FINAL SCORE: 57 - Epsilon: 0.1\n",
            "EPISODE: 625 - FINAL SCORE: 38 - Epsilon: 0.1\n",
            "EPISODE: 626 - FINAL SCORE: 37 - Epsilon: 0.1\n",
            "EPISODE: 627 - FINAL SCORE: 28 - Epsilon: 0.1\n",
            "EPISODE: 628 - FINAL SCORE: 77 - Epsilon: 0.1\n",
            "EPISODE: 629 - FINAL SCORE: 30 - Epsilon: 0.1\n",
            "EPISODE: 630 - FINAL SCORE: 67 - Epsilon: 0.1\n",
            "Updating target network...\n",
            "EPISODE: 631 - FINAL SCORE: 36 - Epsilon: 0.1\n",
            "EPISODE: 632 - FINAL SCORE: 69 - Epsilon: 0.1\n",
            "EPISODE: 633 - FINAL SCORE: 77 - Epsilon: 0.1\n",
            "EPISODE: 634 - FINAL SCORE: 51 - Epsilon: 0.1\n",
            "EPISODE: 635 - FINAL SCORE: 31 - Epsilon: 0.1\n",
            "EPISODE: 636 - FINAL SCORE: 55 - Epsilon: 0.1\n",
            "EPISODE: 637 - FINAL SCORE: 26 - Epsilon: 0.1\n",
            "EPISODE: 638 - FINAL SCORE: 39 - Epsilon: 0.1\n",
            "EPISODE: 639 - FINAL SCORE: 46 - Epsilon: 0.1\n",
            "EPISODE: 640 - FINAL SCORE: 61 - Epsilon: 0.1\n",
            "Updating target network...\n",
            "EPISODE: 641 - FINAL SCORE: 35 - Epsilon: 0.1\n",
            "EPISODE: 642 - FINAL SCORE: 52 - Epsilon: 0.1\n",
            "EPISODE: 643 - FINAL SCORE: 24 - Epsilon: 0.1\n",
            "EPISODE: 644 - FINAL SCORE: 38 - Epsilon: 0.1\n",
            "EPISODE: 645 - FINAL SCORE: 41 - Epsilon: 0.1\n",
            "EPISODE: 646 - FINAL SCORE: 26 - Epsilon: 0.1\n",
            "EPISODE: 647 - FINAL SCORE: 66 - Epsilon: 0.1\n",
            "EPISODE: 648 - FINAL SCORE: 55 - Epsilon: 0.1\n",
            "EPISODE: 649 - FINAL SCORE: 43 - Epsilon: 0.1\n",
            "EPISODE: 650 - FINAL SCORE: 36 - Epsilon: 0.1\n",
            "Updating target network...\n",
            "EPISODE: 651 - FINAL SCORE: 16 - Epsilon: 0.1\n",
            "EPISODE: 652 - FINAL SCORE: 34 - Epsilon: 0.1\n",
            "EPISODE: 653 - FINAL SCORE: 44 - Epsilon: 0.1\n",
            "EPISODE: 654 - FINAL SCORE: 81 - Epsilon: 0.1\n",
            "EPISODE: 655 - FINAL SCORE: 30 - Epsilon: 0.1\n",
            "EPISODE: 656 - FINAL SCORE: 43 - Epsilon: 0.1\n",
            "EPISODE: 657 - FINAL SCORE: 67 - Epsilon: 0.1\n",
            "EPISODE: 658 - FINAL SCORE: 39 - Epsilon: 0.1\n",
            "EPISODE: 659 - FINAL SCORE: 55 - Epsilon: 0.1\n",
            "EPISODE: 660 - FINAL SCORE: 39 - Epsilon: 0.1\n",
            "Updating target network...\n",
            "EPISODE: 661 - FINAL SCORE: 54 - Epsilon: 0.1\n",
            "EPISODE: 662 - FINAL SCORE: 68 - Epsilon: 0.1\n",
            "EPISODE: 663 - FINAL SCORE: 38 - Epsilon: 0.1\n",
            "EPISODE: 664 - FINAL SCORE: 55 - Epsilon: 0.1\n",
            "EPISODE: 665 - FINAL SCORE: 54 - Epsilon: 0.1\n",
            "EPISODE: 666 - FINAL SCORE: 42 - Epsilon: 0.1\n",
            "EPISODE: 667 - FINAL SCORE: 20 - Epsilon: 0.1\n",
            "EPISODE: 668 - FINAL SCORE: 57 - Epsilon: 0.1\n",
            "EPISODE: 669 - FINAL SCORE: 50 - Epsilon: 0.1\n",
            "EPISODE: 670 - FINAL SCORE: 46 - Epsilon: 0.1\n",
            "Updating target network...\n",
            "EPISODE: 671 - FINAL SCORE: 52 - Epsilon: 0.1\n",
            "EPISODE: 672 - FINAL SCORE: 37 - Epsilon: 0.1\n",
            "EPISODE: 673 - FINAL SCORE: 39 - Epsilon: 0.1\n",
            "EPISODE: 674 - FINAL SCORE: 86 - Epsilon: 0.1\n",
            "EPISODE: 675 - FINAL SCORE: 52 - Epsilon: 0.1\n",
            "EPISODE: 676 - FINAL SCORE: 40 - Epsilon: 0.1\n",
            "EPISODE: 677 - FINAL SCORE: 71 - Epsilon: 0.1\n",
            "EPISODE: 678 - FINAL SCORE: 54 - Epsilon: 0.1\n",
            "EPISODE: 679 - FINAL SCORE: 44 - Epsilon: 0.1\n",
            "EPISODE: 680 - FINAL SCORE: 45 - Epsilon: 0.1\n",
            "Updating target network...\n",
            "EPISODE: 681 - FINAL SCORE: 62 - Epsilon: 0.1\n",
            "EPISODE: 682 - FINAL SCORE: 38 - Epsilon: 0.1\n",
            "EPISODE: 683 - FINAL SCORE: 59 - Epsilon: 0.1\n",
            "EPISODE: 684 - FINAL SCORE: 59 - Epsilon: 0.1\n",
            "EPISODE: 685 - FINAL SCORE: 63 - Epsilon: 0.1\n",
            "EPISODE: 686 - FINAL SCORE: 67 - Epsilon: 0.1\n",
            "EPISODE: 687 - FINAL SCORE: 49 - Epsilon: 0.1\n",
            "EPISODE: 688 - FINAL SCORE: 33 - Epsilon: 0.1\n",
            "EPISODE: 689 - FINAL SCORE: 53 - Epsilon: 0.1\n",
            "EPISODE: 690 - FINAL SCORE: 51 - Epsilon: 0.1\n",
            "Updating target network...\n",
            "EPISODE: 691 - FINAL SCORE: 62 - Epsilon: 0.1\n",
            "EPISODE: 692 - FINAL SCORE: 36 - Epsilon: 0.1\n",
            "EPISODE: 693 - FINAL SCORE: 34 - Epsilon: 0.1\n",
            "EPISODE: 694 - FINAL SCORE: 63 - Epsilon: 0.1\n",
            "EPISODE: 695 - FINAL SCORE: 55 - Epsilon: 0.1\n",
            "EPISODE: 696 - FINAL SCORE: 68 - Epsilon: 0.1\n",
            "EPISODE: 697 - FINAL SCORE: 64 - Epsilon: 0.1\n",
            "EPISODE: 698 - FINAL SCORE: 58 - Epsilon: 0.1\n",
            "EPISODE: 699 - FINAL SCORE: 40 - Epsilon: 0.1\n",
            "EPISODE: 700 - FINAL SCORE: 57 - Epsilon: 0.1\n",
            "Updating target network...\n",
            "EPISODE: 701 - FINAL SCORE: 67 - Epsilon: 0.1\n",
            "EPISODE: 702 - FINAL SCORE: 47 - Epsilon: 0.1\n",
            "EPISODE: 703 - FINAL SCORE: 33 - Epsilon: 0.1\n",
            "EPISODE: 704 - FINAL SCORE: 48 - Epsilon: 0.1\n",
            "EPISODE: 705 - FINAL SCORE: 56 - Epsilon: 0.1\n",
            "EPISODE: 706 - FINAL SCORE: 34 - Epsilon: 0.1\n",
            "EPISODE: 707 - FINAL SCORE: 62 - Epsilon: 0.1\n",
            "EPISODE: 708 - FINAL SCORE: 57 - Epsilon: 0.1\n",
            "EPISODE: 709 - FINAL SCORE: 36 - Epsilon: 0.1\n",
            "EPISODE: 710 - FINAL SCORE: 47 - Epsilon: 0.1\n",
            "Updating target network...\n",
            "EPISODE: 711 - FINAL SCORE: 26 - Epsilon: 0.1\n",
            "EPISODE: 712 - FINAL SCORE: 80 - Epsilon: 0.1\n",
            "EPISODE: 713 - FINAL SCORE: 53 - Epsilon: 0.1\n",
            "EPISODE: 714 - FINAL SCORE: 72 - Epsilon: 0.1\n",
            "EPISODE: 715 - FINAL SCORE: 47 - Epsilon: 0.1\n",
            "EPISODE: 716 - FINAL SCORE: 67 - Epsilon: 0.1\n",
            "EPISODE: 717 - FINAL SCORE: 39 - Epsilon: 0.1\n",
            "EPISODE: 718 - FINAL SCORE: 63 - Epsilon: 0.1\n",
            "EPISODE: 719 - FINAL SCORE: 81 - Epsilon: 0.1\n",
            "EPISODE: 720 - FINAL SCORE: 33 - Epsilon: 0.1\n",
            "Updating target network...\n",
            "EPISODE: 721 - FINAL SCORE: 57 - Epsilon: 0.1\n",
            "EPISODE: 722 - FINAL SCORE: 60 - Epsilon: 0.1\n",
            "EPISODE: 723 - FINAL SCORE: 56 - Epsilon: 0.1\n",
            "EPISODE: 724 - FINAL SCORE: 66 - Epsilon: 0.1\n",
            "EPISODE: 725 - FINAL SCORE: 65 - Epsilon: 0.1\n",
            "EPISODE: 726 - FINAL SCORE: 69 - Epsilon: 0.1\n",
            "EPISODE: 727 - FINAL SCORE: 47 - Epsilon: 0.1\n",
            "EPISODE: 728 - FINAL SCORE: 55 - Epsilon: 0.1\n",
            "EPISODE: 729 - FINAL SCORE: 18 - Epsilon: 0.1\n",
            "EPISODE: 730 - FINAL SCORE: 95 - Epsilon: 0.1\n",
            "Updating target network...\n",
            "EPISODE: 731 - FINAL SCORE: 34 - Epsilon: 0.1\n",
            "EPISODE: 732 - FINAL SCORE: 50 - Epsilon: 0.1\n",
            "EPISODE: 733 - FINAL SCORE: 44 - Epsilon: 0.1\n",
            "EPISODE: 734 - FINAL SCORE: 54 - Epsilon: 0.1\n",
            "EPISODE: 735 - FINAL SCORE: 47 - Epsilon: 0.1\n",
            "EPISODE: 736 - FINAL SCORE: 48 - Epsilon: 0.1\n",
            "EPISODE: 737 - FINAL SCORE: 55 - Epsilon: 0.1\n",
            "EPISODE: 738 - FINAL SCORE: 80 - Epsilon: 0.1\n",
            "EPISODE: 739 - FINAL SCORE: 36 - Epsilon: 0.1\n",
            "EPISODE: 740 - FINAL SCORE: 43 - Epsilon: 0.1\n",
            "Updating target network...\n",
            "EPISODE: 741 - FINAL SCORE: 46 - Epsilon: 0.1\n",
            "EPISODE: 742 - FINAL SCORE: 56 - Epsilon: 0.1\n",
            "EPISODE: 743 - FINAL SCORE: 53 - Epsilon: 0.1\n",
            "EPISODE: 744 - FINAL SCORE: 39 - Epsilon: 0.1\n",
            "EPISODE: 745 - FINAL SCORE: 51 - Epsilon: 0.1\n",
            "EPISODE: 746 - FINAL SCORE: 61 - Epsilon: 0.1\n",
            "EPISODE: 747 - FINAL SCORE: 39 - Epsilon: 0.1\n",
            "EPISODE: 748 - FINAL SCORE: 107 - Epsilon: 0.1\n",
            "EPISODE: 749 - FINAL SCORE: 66 - Epsilon: 0.1\n",
            "EPISODE: 750 - FINAL SCORE: 58 - Epsilon: 0.1\n",
            "Updating target network...\n",
            "EPISODE: 751 - FINAL SCORE: 60 - Epsilon: 0.1\n",
            "EPISODE: 752 - FINAL SCORE: 48 - Epsilon: 0.1\n",
            "EPISODE: 753 - FINAL SCORE: 64 - Epsilon: 0.1\n",
            "EPISODE: 754 - FINAL SCORE: 94 - Epsilon: 0.1\n",
            "EPISODE: 755 - FINAL SCORE: 17 - Epsilon: 0.1\n",
            "EPISODE: 756 - FINAL SCORE: 98 - Epsilon: 0.1\n",
            "EPISODE: 757 - FINAL SCORE: 66 - Epsilon: 0.1\n",
            "EPISODE: 758 - FINAL SCORE: 93 - Epsilon: 0.1\n",
            "EPISODE: 759 - FINAL SCORE: 33 - Epsilon: 0.1\n",
            "EPISODE: 760 - FINAL SCORE: 57 - Epsilon: 0.1\n",
            "Updating target network...\n",
            "EPISODE: 761 - FINAL SCORE: 46 - Epsilon: 0.1\n",
            "EPISODE: 762 - FINAL SCORE: 51 - Epsilon: 0.1\n",
            "EPISODE: 763 - FINAL SCORE: 76 - Epsilon: 0.1\n",
            "EPISODE: 764 - FINAL SCORE: 71 - Epsilon: 0.1\n",
            "EPISODE: 765 - FINAL SCORE: 53 - Epsilon: 0.1\n",
            "EPISODE: 766 - FINAL SCORE: 51 - Epsilon: 0.1\n",
            "EPISODE: 767 - FINAL SCORE: 65 - Epsilon: 0.1\n",
            "EPISODE: 768 - FINAL SCORE: 53 - Epsilon: 0.1\n",
            "EPISODE: 769 - FINAL SCORE: 48 - Epsilon: 0.1\n",
            "EPISODE: 770 - FINAL SCORE: 36 - Epsilon: 0.1\n",
            "Updating target network...\n",
            "EPISODE: 771 - FINAL SCORE: 60 - Epsilon: 0.1\n",
            "EPISODE: 772 - FINAL SCORE: 51 - Epsilon: 0.1\n",
            "EPISODE: 773 - FINAL SCORE: 22 - Epsilon: 0.1\n",
            "EPISODE: 774 - FINAL SCORE: 70 - Epsilon: 0.1\n",
            "EPISODE: 775 - FINAL SCORE: 58 - Epsilon: 0.1\n",
            "EPISODE: 776 - FINAL SCORE: 62 - Epsilon: 0.1\n",
            "EPISODE: 777 - FINAL SCORE: 67 - Epsilon: 0.1\n",
            "EPISODE: 778 - FINAL SCORE: 63 - Epsilon: 0.1\n",
            "EPISODE: 779 - FINAL SCORE: 67 - Epsilon: 0.1\n",
            "EPISODE: 780 - FINAL SCORE: 46 - Epsilon: 0.1\n",
            "Updating target network...\n",
            "EPISODE: 781 - FINAL SCORE: 82 - Epsilon: 0.1\n",
            "EPISODE: 782 - FINAL SCORE: 62 - Epsilon: 0.1\n",
            "EPISODE: 783 - FINAL SCORE: 99 - Epsilon: 0.1\n",
            "EPISODE: 784 - FINAL SCORE: 69 - Epsilon: 0.1\n",
            "EPISODE: 785 - FINAL SCORE: 79 - Epsilon: 0.1\n",
            "EPISODE: 786 - FINAL SCORE: 62 - Epsilon: 0.1\n",
            "EPISODE: 787 - FINAL SCORE: 70 - Epsilon: 0.1\n",
            "EPISODE: 788 - FINAL SCORE: 81 - Epsilon: 0.1\n",
            "EPISODE: 789 - FINAL SCORE: 83 - Epsilon: 0.1\n",
            "EPISODE: 790 - FINAL SCORE: 64 - Epsilon: 0.1\n",
            "Updating target network...\n",
            "EPISODE: 791 - FINAL SCORE: 24 - Epsilon: 0.1\n",
            "EPISODE: 792 - FINAL SCORE: 55 - Epsilon: 0.1\n",
            "EPISODE: 793 - FINAL SCORE: 66 - Epsilon: 0.1\n",
            "EPISODE: 794 - FINAL SCORE: 59 - Epsilon: 0.1\n",
            "EPISODE: 795 - FINAL SCORE: 71 - Epsilon: 0.1\n",
            "EPISODE: 796 - FINAL SCORE: 64 - Epsilon: 0.1\n",
            "EPISODE: 797 - FINAL SCORE: 100 - Epsilon: 0.1\n",
            "EPISODE: 798 - FINAL SCORE: 73 - Epsilon: 0.1\n",
            "EPISODE: 799 - FINAL SCORE: 81 - Epsilon: 0.1\n",
            "EPISODE: 800 - FINAL SCORE: 53 - Epsilon: 0.1\n",
            "(-0.005, 0.0, -0.1, 0.0)\n",
            "(0.005, 0.1, -0.2, -0.1)\n",
            "(0.015, 0.1, -0.4, -0.2)\n",
            "(0.025, 0.1, 0.1, 0.5)\n",
            "(0.035, 0.1, 0.0, -0.1)\n",
            "(0.035, 0.0, 0.0, 0.0)\n",
            "(0.035, 0.0, 0.0, 0.0)\n",
            "(0.045, 0.1, -0.1, -0.1)\n",
            "(0.055, 0.1, -0.1, 0.0)\n",
            "(0.065, 0.1, -0.2, -0.1)\n",
            "(0.075, 0.1, -0.3, -0.1)\n",
            "(0.075, 0.0, -0.3, 0.0)\n",
            "(0.075, 0.0, -0.3, 0.0)\n",
            "(0.085, 0.1, -1.3, -1.0)\n",
            "(0.095, 0.1, -1.5, -0.2)\n",
            "(0.105, 0.1, -1.5, 0.0)\n",
            "(0.105, 0.0, -1.5, 0.0)\n",
            "(0.095, -0.1, -1.5, 0.0)\n",
            "(0.095, 0.0, -1.5, 0.0)\n",
            "(0.075, -0.2, -0.4, 1.1)\n",
            "(0.055, -0.2, -0.2, 0.2)\n",
            "(0.045, -0.1, -0.2, 0.0)\n",
            "(0.035, -0.1, -0.1, 0.1)\n",
            "(0.035, 0.0, -0.2, -0.1)\n",
            "(0.035, 0.0, -0.2, 0.0)\n",
            "(0.045, 0.1, -1.3, -1.1)\n",
            "(0.055, 0.1, -1.5, -0.2)\n",
            "(0.065, 0.1, -1.5, 0.0)\n",
            "(0.065, 0.0, -1.5, 0.0)\n",
            "(0.055, -0.1, -1.4, 0.1)\n",
            "(0.055, 0.0, -1.5, -0.1)\n",
            "(0.035, -0.2, -1.4, 0.1)\n",
            "(0.015, -0.2, -1.5, -0.1)\n",
            "(-0.005, -0.2, -1.4, 0.1)\n",
            "(-0.025, -0.2, -0.3, 1.1)\n",
            "(-0.045, -0.2, -0.2, 0.1)\n",
            "(-0.075, -0.3, -0.1, 0.1)\n",
            "(-0.095, -0.2, 0.0, 0.1)\n",
            "(-0.115, -0.2, 0.1, 0.1)\n",
            "(-0.135, -0.2, -0.4, -0.5)\n",
            "(-0.155, -0.2, -0.3, 0.1)\n",
            "(-0.165, -0.1, -0.3, 0.0)\n",
            "(-0.185, -0.2, -0.1, 0.2)\n",
            "(-0.195, -0.1, -0.1, 0.0)\n",
            "(-0.205, -0.1, -0.2, -0.1)\n",
            "(-0.205, 0.0, -0.3, -0.1)\n",
            "(-0.205, 0.0, 0.1, 0.4)\n",
            "(-0.195, 0.1, -0.1, -0.2)\n",
            "(-0.195, 0.0, -0.2, -0.1)\n",
            "(-0.195, 0.0, -0.2, 0.0)\n",
            "(-0.195, 0.0, -0.3, -0.1)\n",
            "(-0.185, 0.1, -1.5, -1.2)\n",
            "(-0.175, 0.1, -1.5, 0.0)\n",
            "(-0.175, 0.0, -1.4, 0.1)\n",
            "(-0.165, 0.1, -1.5, -0.1)\n",
            "(-0.175, -0.1, -1.5, 0.0)\n",
            "(-0.175, 0.0, -2.1, -0.6)\n",
            "(-0.195, -0.2, -2.1, 0.0)\n",
            "(-0.205, -0.1, -2.1, 0.0)\n",
            "(-0.225, -0.2, -2.1, 0.0)\n",
            "(-0.235, -0.1, -2.1, 0.0)\n",
            "(-0.255, -0.2, -2.0, 0.1)\n",
            "(-0.265, -0.1, -2.1, -0.1)\n",
            "(-0.285, -0.2, -2.0, 0.1)\n",
            "(-0.295, -0.1, -2.1, -0.1)\n",
            "None\n",
            "Updating target network...\n",
            "EPISODE: 801 - FINAL SCORE: 66 - Epsilon: 0.1\n",
            "EPISODE: 802 - FINAL SCORE: 64 - Epsilon: 0.1\n",
            "EPISODE: 803 - FINAL SCORE: 37 - Epsilon: 0.1\n",
            "EPISODE: 804 - FINAL SCORE: 35 - Epsilon: 0.1\n",
            "EPISODE: 805 - FINAL SCORE: 52 - Epsilon: 0.1\n",
            "EPISODE: 806 - FINAL SCORE: 46 - Epsilon: 0.1\n",
            "EPISODE: 807 - FINAL SCORE: 62 - Epsilon: 0.1\n",
            "EPISODE: 808 - FINAL SCORE: 115 - Epsilon: 0.1\n",
            "EPISODE: 809 - FINAL SCORE: 76 - Epsilon: 0.1\n",
            "EPISODE: 810 - FINAL SCORE: 47 - Epsilon: 0.1\n",
            "Updating target network...\n",
            "EPISODE: 811 - FINAL SCORE: 54 - Epsilon: 0.1\n",
            "EPISODE: 812 - FINAL SCORE: 64 - Epsilon: 0.1\n",
            "EPISODE: 813 - FINAL SCORE: 51 - Epsilon: 0.1\n",
            "EPISODE: 814 - FINAL SCORE: 71 - Epsilon: 0.1\n",
            "EPISODE: 815 - FINAL SCORE: 63 - Epsilon: 0.1\n",
            "EPISODE: 816 - FINAL SCORE: 49 - Epsilon: 0.1\n",
            "EPISODE: 817 - FINAL SCORE: 44 - Epsilon: 0.1\n",
            "EPISODE: 818 - FINAL SCORE: 62 - Epsilon: 0.1\n",
            "EPISODE: 819 - FINAL SCORE: 133 - Epsilon: 0.1\n",
            "EPISODE: 820 - FINAL SCORE: 58 - Epsilon: 0.1\n",
            "Updating target network...\n",
            "EPISODE: 821 - FINAL SCORE: 35 - Epsilon: 0.1\n",
            "EPISODE: 822 - FINAL SCORE: 48 - Epsilon: 0.1\n",
            "EPISODE: 823 - FINAL SCORE: 58 - Epsilon: 0.1\n",
            "EPISODE: 824 - FINAL SCORE: 68 - Epsilon: 0.1\n",
            "EPISODE: 825 - FINAL SCORE: 54 - Epsilon: 0.1\n",
            "EPISODE: 826 - FINAL SCORE: 67 - Epsilon: 0.1\n",
            "EPISODE: 827 - FINAL SCORE: 58 - Epsilon: 0.1\n",
            "EPISODE: 828 - FINAL SCORE: 46 - Epsilon: 0.1\n",
            "EPISODE: 829 - FINAL SCORE: 72 - Epsilon: 0.1\n",
            "EPISODE: 830 - FINAL SCORE: 36 - Epsilon: 0.1\n",
            "Updating target network...\n",
            "EPISODE: 831 - FINAL SCORE: 52 - Epsilon: 0.1\n",
            "EPISODE: 832 - FINAL SCORE: 50 - Epsilon: 0.1\n",
            "EPISODE: 833 - FINAL SCORE: 80 - Epsilon: 0.1\n",
            "EPISODE: 834 - FINAL SCORE: 65 - Epsilon: 0.1\n",
            "EPISODE: 835 - FINAL SCORE: 123 - Epsilon: 0.1\n",
            "EPISODE: 836 - FINAL SCORE: 171 - Epsilon: 0.1\n",
            "EPISODE: 837 - FINAL SCORE: 86 - Epsilon: 0.1\n",
            "EPISODE: 838 - FINAL SCORE: 67 - Epsilon: 0.1\n",
            "EPISODE: 839 - FINAL SCORE: 44 - Epsilon: 0.1\n",
            "EPISODE: 840 - FINAL SCORE: 68 - Epsilon: 0.1\n",
            "Updating target network...\n",
            "EPISODE: 841 - FINAL SCORE: 200 - Epsilon: 0.1\n",
            "EPISODE: 842 - FINAL SCORE: 30 - Epsilon: 0.1\n",
            "EPISODE: 843 - FINAL SCORE: 200 - Epsilon: 0.1\n",
            "EPISODE: 844 - FINAL SCORE: 60 - Epsilon: 0.1\n",
            "EPISODE: 845 - FINAL SCORE: 44 - Epsilon: 0.1\n",
            "EPISODE: 846 - FINAL SCORE: 69 - Epsilon: 0.1\n",
            "EPISODE: 847 - FINAL SCORE: 39 - Epsilon: 0.1\n",
            "EPISODE: 848 - FINAL SCORE: 57 - Epsilon: 0.1\n",
            "EPISODE: 849 - FINAL SCORE: 56 - Epsilon: 0.1\n",
            "EPISODE: 850 - FINAL SCORE: 62 - Epsilon: 0.1\n",
            "Updating target network...\n",
            "EPISODE: 851 - FINAL SCORE: 88 - Epsilon: 0.1\n",
            "EPISODE: 852 - FINAL SCORE: 43 - Epsilon: 0.1\n",
            "EPISODE: 853 - FINAL SCORE: 175 - Epsilon: 0.1\n",
            "EPISODE: 854 - FINAL SCORE: 92 - Epsilon: 0.1\n",
            "EPISODE: 855 - FINAL SCORE: 75 - Epsilon: 0.1\n",
            "EPISODE: 856 - FINAL SCORE: 60 - Epsilon: 0.1\n",
            "EPISODE: 857 - FINAL SCORE: 61 - Epsilon: 0.1\n",
            "EPISODE: 858 - FINAL SCORE: 85 - Epsilon: 0.1\n",
            "EPISODE: 859 - FINAL SCORE: 51 - Epsilon: 0.1\n",
            "EPISODE: 860 - FINAL SCORE: 53 - Epsilon: 0.1\n",
            "Updating target network...\n",
            "EPISODE: 861 - FINAL SCORE: 144 - Epsilon: 0.1\n",
            "EPISODE: 862 - FINAL SCORE: 52 - Epsilon: 0.1\n",
            "EPISODE: 863 - FINAL SCORE: 64 - Epsilon: 0.1\n",
            "EPISODE: 864 - FINAL SCORE: 83 - Epsilon: 0.1\n",
            "EPISODE: 865 - FINAL SCORE: 98 - Epsilon: 0.1\n",
            "EPISODE: 866 - FINAL SCORE: 43 - Epsilon: 0.1\n",
            "EPISODE: 867 - FINAL SCORE: 43 - Epsilon: 0.1\n",
            "EPISODE: 868 - FINAL SCORE: 52 - Epsilon: 0.1\n",
            "EPISODE: 869 - FINAL SCORE: 41 - Epsilon: 0.1\n",
            "EPISODE: 870 - FINAL SCORE: 55 - Epsilon: 0.1\n",
            "Updating target network...\n",
            "EPISODE: 871 - FINAL SCORE: 42 - Epsilon: 0.1\n",
            "EPISODE: 872 - FINAL SCORE: 56 - Epsilon: 0.1\n",
            "EPISODE: 873 - FINAL SCORE: 68 - Epsilon: 0.1\n",
            "EPISODE: 874 - FINAL SCORE: 61 - Epsilon: 0.1\n",
            "EPISODE: 875 - FINAL SCORE: 111 - Epsilon: 0.1\n",
            "EPISODE: 876 - FINAL SCORE: 65 - Epsilon: 0.1\n",
            "EPISODE: 877 - FINAL SCORE: 66 - Epsilon: 0.1\n",
            "EPISODE: 878 - FINAL SCORE: 60 - Epsilon: 0.1\n",
            "EPISODE: 879 - FINAL SCORE: 61 - Epsilon: 0.1\n",
            "EPISODE: 880 - FINAL SCORE: 43 - Epsilon: 0.1\n",
            "Updating target network...\n",
            "EPISODE: 881 - FINAL SCORE: 53 - Epsilon: 0.1\n",
            "EPISODE: 882 - FINAL SCORE: 34 - Epsilon: 0.1\n",
            "EPISODE: 883 - FINAL SCORE: 20 - Epsilon: 0.1\n",
            "EPISODE: 884 - FINAL SCORE: 32 - Epsilon: 0.1\n",
            "EPISODE: 885 - FINAL SCORE: 37 - Epsilon: 0.1\n",
            "EPISODE: 886 - FINAL SCORE: 35 - Epsilon: 0.1\n",
            "EPISODE: 887 - FINAL SCORE: 61 - Epsilon: 0.1\n",
            "EPISODE: 888 - FINAL SCORE: 48 - Epsilon: 0.1\n",
            "EPISODE: 889 - FINAL SCORE: 38 - Epsilon: 0.1\n",
            "EPISODE: 890 - FINAL SCORE: 62 - Epsilon: 0.1\n",
            "Updating target network...\n",
            "EPISODE: 891 - FINAL SCORE: 48 - Epsilon: 0.1\n",
            "EPISODE: 892 - FINAL SCORE: 57 - Epsilon: 0.1\n",
            "EPISODE: 893 - FINAL SCORE: 65 - Epsilon: 0.1\n",
            "EPISODE: 894 - FINAL SCORE: 53 - Epsilon: 0.1\n",
            "EPISODE: 895 - FINAL SCORE: 144 - Epsilon: 0.1\n",
            "EPISODE: 896 - FINAL SCORE: 48 - Epsilon: 0.1\n",
            "EPISODE: 897 - FINAL SCORE: 59 - Epsilon: 0.1\n",
            "EPISODE: 898 - FINAL SCORE: 37 - Epsilon: 0.1\n",
            "EPISODE: 899 - FINAL SCORE: 51 - Epsilon: 0.1\n",
            "EPISODE: 900 - FINAL SCORE: 68 - Epsilon: 0.1\n",
            "Updating target network...\n",
            "EPISODE: 901 - FINAL SCORE: 77 - Epsilon: 0.1\n",
            "EPISODE: 902 - FINAL SCORE: 138 - Epsilon: 0.1\n",
            "EPISODE: 903 - FINAL SCORE: 47 - Epsilon: 0.1\n",
            "EPISODE: 904 - FINAL SCORE: 49 - Epsilon: 0.1\n",
            "EPISODE: 905 - FINAL SCORE: 37 - Epsilon: 0.1\n",
            "EPISODE: 906 - FINAL SCORE: 48 - Epsilon: 0.1\n",
            "EPISODE: 907 - FINAL SCORE: 64 - Epsilon: 0.1\n",
            "EPISODE: 908 - FINAL SCORE: 64 - Epsilon: 0.1\n",
            "EPISODE: 909 - FINAL SCORE: 66 - Epsilon: 0.1\n",
            "EPISODE: 910 - FINAL SCORE: 95 - Epsilon: 0.1\n",
            "Updating target network...\n",
            "EPISODE: 911 - FINAL SCORE: 32 - Epsilon: 0.1\n",
            "EPISODE: 912 - FINAL SCORE: 55 - Epsilon: 0.1\n",
            "EPISODE: 913 - FINAL SCORE: 73 - Epsilon: 0.1\n",
            "EPISODE: 914 - FINAL SCORE: 55 - Epsilon: 0.1\n",
            "EPISODE: 915 - FINAL SCORE: 62 - Epsilon: 0.1\n",
            "EPISODE: 916 - FINAL SCORE: 76 - Epsilon: 0.1\n",
            "EPISODE: 917 - FINAL SCORE: 11 - Epsilon: 0.1\n",
            "EPISODE: 918 - FINAL SCORE: 18 - Epsilon: 0.1\n",
            "EPISODE: 919 - FINAL SCORE: 51 - Epsilon: 0.1\n",
            "EPISODE: 920 - FINAL SCORE: 71 - Epsilon: 0.1\n",
            "Updating target network...\n",
            "EPISODE: 921 - FINAL SCORE: 13 - Epsilon: 0.1\n",
            "EPISODE: 922 - FINAL SCORE: 87 - Epsilon: 0.1\n",
            "EPISODE: 923 - FINAL SCORE: 97 - Epsilon: 0.1\n",
            "EPISODE: 924 - FINAL SCORE: 73 - Epsilon: 0.1\n",
            "EPISODE: 925 - FINAL SCORE: 65 - Epsilon: 0.1\n",
            "EPISODE: 926 - FINAL SCORE: 33 - Epsilon: 0.1\n",
            "EPISODE: 927 - FINAL SCORE: 11 - Epsilon: 0.1\n",
            "EPISODE: 928 - FINAL SCORE: 41 - Epsilon: 0.1\n",
            "EPISODE: 929 - FINAL SCORE: 42 - Epsilon: 0.1\n",
            "EPISODE: 930 - FINAL SCORE: 56 - Epsilon: 0.1\n",
            "Updating target network...\n",
            "EPISODE: 931 - FINAL SCORE: 19 - Epsilon: 0.1\n",
            "EPISODE: 932 - FINAL SCORE: 35 - Epsilon: 0.1\n",
            "EPISODE: 933 - FINAL SCORE: 29 - Epsilon: 0.1\n",
            "EPISODE: 934 - FINAL SCORE: 9 - Epsilon: 0.1\n",
            "EPISODE: 935 - FINAL SCORE: 38 - Epsilon: 0.1\n",
            "EPISODE: 936 - FINAL SCORE: 10 - Epsilon: 0.1\n",
            "EPISODE: 937 - FINAL SCORE: 15 - Epsilon: 0.1\n",
            "EPISODE: 938 - FINAL SCORE: 32 - Epsilon: 0.1\n",
            "EPISODE: 939 - FINAL SCORE: 33 - Epsilon: 0.1\n",
            "EPISODE: 940 - FINAL SCORE: 41 - Epsilon: 0.1\n",
            "Updating target network...\n",
            "EPISODE: 941 - FINAL SCORE: 36 - Epsilon: 0.1\n",
            "EPISODE: 942 - FINAL SCORE: 47 - Epsilon: 0.1\n",
            "EPISODE: 943 - FINAL SCORE: 45 - Epsilon: 0.1\n",
            "EPISODE: 944 - FINAL SCORE: 42 - Epsilon: 0.1\n",
            "EPISODE: 945 - FINAL SCORE: 10 - Epsilon: 0.1\n",
            "EPISODE: 946 - FINAL SCORE: 11 - Epsilon: 0.1\n",
            "EPISODE: 947 - FINAL SCORE: 73 - Epsilon: 0.1\n",
            "EPISODE: 948 - FINAL SCORE: 11 - Epsilon: 0.1\n",
            "EPISODE: 949 - FINAL SCORE: 19 - Epsilon: 0.1\n",
            "EPISODE: 950 - FINAL SCORE: 40 - Epsilon: 0.1\n",
            "Updating target network...\n",
            "EPISODE: 951 - FINAL SCORE: 11 - Epsilon: 0.1\n",
            "EPISODE: 952 - FINAL SCORE: 14 - Epsilon: 0.1\n",
            "EPISODE: 953 - FINAL SCORE: 40 - Epsilon: 0.1\n",
            "EPISODE: 954 - FINAL SCORE: 34 - Epsilon: 0.1\n",
            "EPISODE: 955 - FINAL SCORE: 43 - Epsilon: 0.1\n",
            "EPISODE: 956 - FINAL SCORE: 43 - Epsilon: 0.1\n",
            "EPISODE: 957 - FINAL SCORE: 13 - Epsilon: 0.1\n",
            "EPISODE: 958 - FINAL SCORE: 54 - Epsilon: 0.1\n",
            "EPISODE: 959 - FINAL SCORE: 42 - Epsilon: 0.1\n",
            "EPISODE: 960 - FINAL SCORE: 38 - Epsilon: 0.1\n",
            "Updating target network...\n",
            "EPISODE: 961 - FINAL SCORE: 52 - Epsilon: 0.1\n",
            "EPISODE: 962 - FINAL SCORE: 51 - Epsilon: 0.1\n",
            "EPISODE: 963 - FINAL SCORE: 41 - Epsilon: 0.1\n",
            "EPISODE: 964 - FINAL SCORE: 51 - Epsilon: 0.1\n",
            "EPISODE: 965 - FINAL SCORE: 27 - Epsilon: 0.1\n",
            "EPISODE: 966 - FINAL SCORE: 26 - Epsilon: 0.1\n",
            "EPISODE: 967 - FINAL SCORE: 34 - Epsilon: 0.1\n",
            "EPISODE: 968 - FINAL SCORE: 32 - Epsilon: 0.1\n",
            "EPISODE: 969 - FINAL SCORE: 11 - Epsilon: 0.1\n",
            "EPISODE: 970 - FINAL SCORE: 36 - Epsilon: 0.1\n",
            "Updating target network...\n",
            "EPISODE: 971 - FINAL SCORE: 62 - Epsilon: 0.1\n",
            "EPISODE: 972 - FINAL SCORE: 35 - Epsilon: 0.1\n",
            "EPISODE: 973 - FINAL SCORE: 24 - Epsilon: 0.1\n",
            "EPISODE: 974 - FINAL SCORE: 15 - Epsilon: 0.1\n",
            "EPISODE: 975 - FINAL SCORE: 58 - Epsilon: 0.1\n",
            "EPISODE: 976 - FINAL SCORE: 40 - Epsilon: 0.1\n",
            "EPISODE: 977 - FINAL SCORE: 38 - Epsilon: 0.1\n",
            "EPISODE: 978 - FINAL SCORE: 10 - Epsilon: 0.1\n",
            "EPISODE: 979 - FINAL SCORE: 16 - Epsilon: 0.1\n",
            "EPISODE: 980 - FINAL SCORE: 37 - Epsilon: 0.1\n",
            "Updating target network...\n",
            "EPISODE: 981 - FINAL SCORE: 34 - Epsilon: 0.1\n",
            "EPISODE: 982 - FINAL SCORE: 43 - Epsilon: 0.1\n",
            "EPISODE: 983 - FINAL SCORE: 33 - Epsilon: 0.1\n",
            "EPISODE: 984 - FINAL SCORE: 44 - Epsilon: 0.1\n",
            "EPISODE: 985 - FINAL SCORE: 29 - Epsilon: 0.1\n",
            "EPISODE: 986 - FINAL SCORE: 105 - Epsilon: 0.1\n",
            "EPISODE: 987 - FINAL SCORE: 45 - Epsilon: 0.1\n",
            "EPISODE: 988 - FINAL SCORE: 36 - Epsilon: 0.1\n",
            "EPISODE: 989 - FINAL SCORE: 48 - Epsilon: 0.1\n",
            "EPISODE: 990 - FINAL SCORE: 18 - Epsilon: 0.1\n",
            "Updating target network...\n",
            "EPISODE: 991 - FINAL SCORE: 68 - Epsilon: 0.1\n",
            "EPISODE: 992 - FINAL SCORE: 42 - Epsilon: 0.1\n",
            "EPISODE: 993 - FINAL SCORE: 46 - Epsilon: 0.1\n",
            "EPISODE: 994 - FINAL SCORE: 19 - Epsilon: 0.1\n",
            "EPISODE: 995 - FINAL SCORE: 12 - Epsilon: 0.1\n",
            "EPISODE: 996 - FINAL SCORE: 19 - Epsilon: 0.1\n",
            "EPISODE: 997 - FINAL SCORE: 29 - Epsilon: 0.1\n",
            "EPISODE: 998 - FINAL SCORE: 38 - Epsilon: 0.1\n",
            "EPISODE: 999 - FINAL SCORE: 42 - Epsilon: 0.1\n",
            "EPISODE: 1000 - FINAL SCORE: 46 - Epsilon: 0.1\n"
          ],
          "name": "stdout"
        }
      ]
    },
    {
      "cell_type": "code",
      "metadata": {
        "id": "rOymZx4w5grf",
        "colab": {
          "base_uri": "https://localhost:8080/",
          "height": 265
        },
        "outputId": "2b233f43-045a-437b-ce22-cd196e8d90bf"
      },
      "source": [
        "def running_mean(x, N):\r\n",
        "\r\n",
        "    cumsum = np.cumsum(np.insert(x, 0, 0)) \r\n",
        "    return (cumsum[N:] - cumsum[:-N]) / float(N)\r\n",
        "\r\n",
        "plt.plot(score_record)\r\n",
        "plt.plot(running_mean(score_record,30))\r\n",
        "# plt.plot(running_mean(running_mean(score_record,10),10))\r\n",
        "# plt.ylim([0,500])\r\n",
        "plt.grid(linestyle=\":\")"
      ],
      "execution_count": 80,
      "outputs": [
        {
          "output_type": "display_data",
          "data": {
            "image/png": "[encoded data removed]",
            "text/plain": [
              "<Figure size 432x288 with 1 Axes>"
            ]
          },
          "metadata": {
            "tags": [],
            "needs_background": "light"
          }
        }
      ]
    },
    {
      "cell_type": "code",
      "metadata": {
        "id": "d2FCW0fI5grl",
        "colab": {
          "base_uri": "https://localhost:8080/",
          "height": 1000
        },
        "outputId": "ed84d89e-1b0e-49d8-d95b-101ec478eb5f"
      },
      "source": [
        "# Display the videos, not required outside Colab\n",
        "show_videos()"
      ],
      "execution_count": null,
      "outputs": [
        {
          "output_type": "stream",
          "text": [
            "\n",
            "SHOWING VIDEO video/openaigym.video.11.2356.video000000.mp4\n"
          ],
          "name": "stdout"
        },
        {
          "output_type": "display_data",
          "data": {
            "text/html": [
              "<video alt=\"test\" autoplay \n",
              "                loop controls style=\"height: 400px;\">\n",
              "                <source src=\"data:video/mp4;base64,AAAAIGZ0eXBpc29tAAACAGlzb21pc28yYXZjMW1wNDEAAAAIZnJlZQAADVJtZGF0AAACrgYF//+q3EXpvebZSLeWLNgg2SPu73gyNjQgLSBjb3JlIDE1MiByMjg1NCBlOWE1OTAzIC0gSC4yNjQvTVBFRy00IEFWQyBjb2RlYyAtIENvcHlsZWZ0IDIwMDMtMjAxNyAtIGh0dHA6Ly93d3cudmlkZW9sYW4ub3JnL3gyNjQuaHRtbCAtIG9wdGlvbnM6IGNhYmFjPTEgcmVmPTMgZGVibG9jaz0xOjA6MCBhbmFseXNlPTB4MzoweDExMyBtZT1oZXggc3VibWU9NyBwc3k9MSBwc3lfcmQ9MS4wMDowLjAwIG1peGVkX3JlZj0xIG1lX3JhbmdlPTE2IGNocm9tYV9tZT0xIHRyZWxsaXM9MSA4eDhkY3Q9MSBjcW09MCBkZWFkem9uZT0yMSwxMSBmYXN0X3Bza2lwPTEgY2hyb21hX3FwX29mZnNldD0tMiB0aHJlYWRzPTMgbG9va2FoZWFkX3RocmVhZHM9MSBzbGljZWRfdGhyZWFkcz0wIG5yPTAgZGVjaW1hdGU9MSBpbnRlcmxhY2VkPTAgYmx1cmF5X2NvbXBhdD0wIGNvbnN0cmFpbmVkX2ludHJhPTAgYmZyYW1lcz0zIGJfcHlyYW1pZD0yIGJfYWRhcHQ9MSBiX2JpYXM9MCBkaXJlY3Q9MSB3ZWlnaHRiPTEgb3Blbl9nb3A9MCB3ZWlnaHRwPTIga2V5aW50PTI1MCBrZXlpbnRfbWluPTI1IHNjZW5lY3V0PTQwIGludHJhX3JlZnJlc2g9MCByY19sb29rYWhlYWQ9NDAgcmM9Y3JmIG1idHJlZT0xIGNyZj0yMy4wIHFjb21wPTAuNjAgcXBtaW49MCBxcG1heD02OSBxcHN0ZXA9NCBpcF9yYXRpbz0xLjQwIGFxPTE6MS4wMACAAAAB02WIhAAz//727L4FNf2f0JcRLMXaSnA+KqSAgHc0wAAAAwAAAwAAFgn0I7DkqgN3QAAAHGAFBCwCPCVC2EhH2OkN/yx1GsgCr/ycxmBmVZF4Geg+yNmBwTv6IUHnoRcXMtcFVasXPc+K5jcbp6ZmQDWoMxUQ16vaDVT79hx3wBXpYpmW8GuEOEgfraKxfj1RIf+4CUVOepeSRdlPLWl6DPBYkZmP5NdC4NyLLP1ouwvhu/Ker8dN6aJbzLz7UNHK71ZC61Vk2gEe+dzn+n/huc3UcgtV/J98fD5Zzn4bTeXKO/sAFFU1YT6jswshR/sL9MqBcSwb/FonxAvCqPm8cHbrmCWgC2itnesKxw0oozDZTTDZ9M6dt6RQL7S/G5rxLOPYiHFIdcACm3dAyQ3TY5j5/Qk6U5Lxu48mP03a3QFTHvjnbTh6hpBmG1SfIMPl/d7XMjB7a04OW7JPTZY1mPqmWUlYj8el1Sg77bnRO3AOKOMUhTIJyFCmEoHPg4fnYr46hftTbQiRe2yJgb2HaSADPRGHGIMPS+dOhq145yVJSnSFpUEyiPDvVvj70FjEeLt3Tnp271znZT+RmWIDsfLN3dCFHGnG164AAAMAAAMAABsxAAAA10GaJGxDP/6eEAAARXVDWOYzkAVv1akS0Rn/UxWIRF4SzfrQhsoKMebVkYI75oad0SrTTVWzxCBtlt8uFwsH8V1tmhC4qd7vPjuY3LyzNB/j28nDxwYyTmYhQnC0PPRof+5sjuaemlLCMtEIeIWSHGvN3GMaQMdD7ax/udqCKum2LZERl2Hrm2eT87lzhlRTGAS7Q54G1LkuKdQROLANXLlUGNp2tl0+ycu/2AQOmpQbepIIrbhWZbg6cnhT9HSvMileAIiiVjmg31ZzmmjQPf1Ix36wwmggAAAAOUGeQniEfwAAF03y2Qorv5g8dpIWeuPxOLmBoaMYfhk9Ef+phtbsnsSuAAADAAIICLrExAgug8IDKwAAACsBnmF0R/8AACPDRxwrmaBRVc8LyMTNld7T2MMFLgBOaAAAAwAEIDf1ALKAAAAALAGeY2pH/wAAJL6rgm9Ubbb3SRryduxFjet9XwgHIQm6xuFr/+yDwLklKKCBAAAAd0GaaEmoQWiZTAhf//6MsAAARiuzVgCOK7NgQKnZzA059lU9LGICSCDhqucgwz6FBSWPmy/gC7vkMbNqpWUNz6ODim+BP7SrDTycMR3wLDiC5t+BYncL5ZCO1XIRAfxm2+2WKIRIaRsn1JJBvvYH0hjKVVYe6xmrAAAAWEGehkURLCP/AAAWtV9N6Fm+QgpMv8ALIrv1ZinVvfmxHycFOHMiXrKCNRh9wtru4TKvSmOAvNTKunSgZZMCtd0fpL7cltKlSrB+4zldNaqZNDGdKAfADfkAAAArAZ6ldEf/AAAjrEJUXj/ajefJxCfbOmFpfJg5rFsbHJfGFe0jGdY5dSgL2QAAADgBnqdqR/8AAA3UlS6JKJnnZBnFJkG/9Lva3rXx3sGQYv1nc2OuZgA21oac6WGSOSN6MixRDmAD0gAAAGNBmqxJqEFsmUwIX//+jLAAAEYUdVtwBEx6Xx5AD19cy56f2WXgpUUtfs+kyPbHiTIolwebzKoBf2q6YcUJG2mOQG2gvM8pe0nWIZwlYmwaQLHOx1Y2IyXO0idQxS4xglRuWBIAAAA6QZ7KRRUsI/8AABa8Q9A7YUD/uABsrFIBiJVon2bSOZ7gJu6b5Y9GeCwfIAuLU6w7MJ2J2WLpmUADjwAAAD0Bnul0R/8AAA3SD88HsAEsebfp/Ti2iTcAmxZms9/Aj2SwZUVs43a5uEtmuyWOCdcqFgUCTqMV4D3NgF3AAAAAJQGe62pH/wAAI78ELZroHgq/oBjjmyoUCWdP0ZQWDN5sjipACXgAAACGQZrwSahBbJlMCF///oywAABGO4yW1YASrY2emOs209oWvjaN5l049Srr9LCJaZc5lsahlym0FfVNmIo3f2D8sn74amI08CL2DtuhEKCaF0XHkR9JLzSqftmv26tY1ah0ebxtJeSzjaXap3DHI4efDelNieW/TpOb8B+c1XkQ6sTydaPM640AAABKQZ8ORRUsI/8AABbAmz8yAZ3AalyxMOkI435moS3u8ttKrtPtJ87Yo7WrufABDdK/9+JwuFiR2Hy61fvyNg5201gkLHFMCQD7x80AAAArAZ8tdEf/AAAjq/hZASBPUQUis9ZOrXJjwR4wWjnSXsFyjbca3ObT+JADKwAAAEMBny9qR/8AACO/GNYvf7jk2lND9XWLcONm+Wbb3oxi5wr/ttRs0PELO+5mP0ZD6EADaZ/+I9e+I3fW35gPgpcvtAm4AAAA+0GbNEmoQWyZTAhX//44QAABFPOclMxSSs4ArMgbIB0Dh6SsPRaRkID8Qv1lLW52XcNt5StQ2EZAYOlkqyeKkHe7k8NOja0UrQ7RxKrz1aHB2BncWQkt2bTA4rurrKpFY3jhskggyHET4D1gn6h2rbNGJjX73RR2Qyz8zdkMmtgKoeSivQ/VXjcXXTSQpzJU8ay2ldcZg2UCfstymYw+3fYHwa2r7L05cMA7d21PlmU5AFCE1pM9GkLkQjwtLTtvcgj4ve1oRAIi8j7zEEemh8BLbAopvgNIJXy7GLf6jwjcHOPvWYu2Ex/ZnEPriQ5laizunVeuDso3WN9AAAAAXUGfUkUVLCP/AAAXS16oq9Rrr0o0A3IWZczj9ZXfdVdz3eNAxRf9QRHfkIZBqA4NcqXEQZF7oqWL/gFhOD7RDMqGZMH8xmk6BWEgBto3c+brfyOst9PXWGBhVizmYQAAAFwBn3F0R/8AACTC3GY4Xp2uLjkABKeqCf5T3etmbSEWESs5nas21sjr0OIGMWVlhAenQpUx5dABB1NTdSYORy5StNuwKKwh/N5gl860E99Z5En61aMuk5jI2qpzFgAAAGEBn3NqR/8AACS9g65AuDqQAiYHBi6BHq0ZGDmcBXRTY1fAoS84iPI0ID55CsDN0NeCE7scEAkZ1VaKAikX0yYrluJ8jt08fnjK4hCSk4Dt7gMZTjeEQ7yv9tJzjcUb/qmAAAAAhEGbeEmoQWyZTAj//IQAAA/ZoduNp6Bu7rZptIqE8BSISPodjLU28g56Vj8pXdB+3opOgWfP9MNSghv8TQALcxGxVdQJnwxaGMOTZlbtUifuutOYHw7jafFiK5FOgHSUJynXZwnuBhbgyLaD4Z/BwWUv/420Y7kfLTc1361YK/0bYIbvQQAAAG5Bn5ZFFSwj/wAAFr5jIgBxABzv2Yv6m9tQ09PMuyPsxrze0Tq3+5Kd2caOxB9GARVaUYjfuzhVbMX0PNVOo2upj5pPFuRzCVDm4y8bij38KS0C1wNq5wd7fPa09N5/NEbn0ZZU/Ui5vEpXAkJUvAAAAEQBn7V0R/8AACOqRbiZ64l2hRagpeRf4b4WXPZqNkgRckTBStLMXADrxkJaN1BXqD5tCOdRIAJP8cuUZgdqkMT7/k6FlwAAAEABn7dqR/8AACSuXZufXDeNy0A+E3eRNRvvQh9tAOew8447kR35HUF7YrzQfABOsNKSc3fQTqMaNjDqsLZzgzMDAAAEP21vb3YAAABsbXZoZAAAAAAAAAAAAAAAAAAAA+gAAAH0AAEAAAEAAAAAAAAAAAAAAAABAAAAAAAAAAAAAAAAAAAAAQAAAAAAAAAAAAAAAAAAQAAAAAAAAAAAAAAAAAAAAAAAAAAAAAAAAAAAAAAAAAIAAANpdHJhawAAAFx0a2hkAAAAAwAAAAAAAAAAAAAAAQAAAAAAAAH0AAAAAAAAAAAAAAAAAAAAAAABAAAAAAAAAAAAAAAAAAAAAQAAAAAAAAAAAAAAAAAAQAAAAAJYAAABkAAAAAAAJGVkdHMAAAAcZWxzdAAAAAAAAAABAAAB9AAAAgAAAQAAAAAC4W1kaWEAAAAgbWRoZAAAAAAAAAAAAAAAAAAAMgAAABkAVcQAAAAAAC1oZGxyAAAAAAAAAAB2aWRlAAAAAAAAAAAAAAAAVmlkZW9IYW5kbGVyAAAAAoxtaW5mAAAAFHZtaGQAAAABAAAAAAAAAAAAAAAkZGluZgAAABxkcmVmAAAAAAAAAAEAAAAMdXJsIAAAAAEAAAJMc3RibAAAAJhzdHNkAAAAAAAAAAEAAACIYXZjMQAAAAAAAAABAAAAAAAAAAAAAAAAAAAAAAJYAZAASAAAAEgAAAAAAAAAAQAAAAAAAAAAAAAAAAAAAAAAAAAAAAAAAAAAAAAAAAAAABj//wAAADJhdmNDAWQAH//hABlnZAAfrNlAmDPl4QAAAwABAAADAGQPGDGWAQAGaOvjyyLAAAAAGHN0dHMAAAAAAAAAAQAAABkAAAEAAAAAFHN0c3MAAAAAAAAAAQAAAAEAAADYY3R0cwAAAAAAAAAZAAAAAQAAAgAAAAABAAAFAAAAAAEAAAIAAAAAAQAAAAAAAAABAAABAAAAAAEAAAUAAAAAAQAAAgAAAAABAAAAAAAAAAEAAAEAAAAAAQAABQAAAAABAAACAAAAAAEAAAAAAAAAAQAAAQAAAAABAAAFAAAAAAEAAAIAAAAAAQAAAAAAAAABAAABAAAAAAEAAAUAAAAAAQAAAgAAAAABAAAAAAAAAAEAAAEAAAAAAQAABQAAAAABAAACAAAAAAEAAAAAAAAAAQAAAQAAAAAcc3RzYwAAAAAAAAABAAAAAQAAABkAAAABAAAAeHN0c3oAAAAAAAAAAAAAABkAAASJAAAA2wAAAD0AAAAvAAAAMAAAAHsAAABcAAAALwAAADwAAABnAAAAPgAAAEEAAAApAAAAigAAAE4AAAAvAAAARwAAAP8AAABhAAAAYAAAAGUAAACIAAAAcgAAAEgAAABEAAAAFHN0Y28AAAAAAAAAAQAAADAAAABidWR0YQAAAFptZXRhAAAAAAAAACFoZGxyAAAAAAAAAABtZGlyYXBwbAAAAAAAAAAAAAAAAC1pbHN0AAAAJal0b28AAAAdZGF0YQAAAAEAAAAATGF2ZjU3LjgzLjEwMA==\" type=\"video/mp4\" />\n",
              "             </video>"
            ],
            "text/plain": [
              "<IPython.core.display.HTML object>"
            ]
          },
          "metadata": {
            "tags": []
          }
        },
        {
          "output_type": "stream",
          "text": [
            "\n",
            "SHOWING VIDEO video/openaigym.video.11.2356.video000100.mp4\n"
          ],
          "name": "stdout"
        },
        {
          "output_type": "display_data",
          "data": {
            "text/html": [
              "<video alt=\"test\" autoplay \n",
              "                loop controls style=\"height: 400px;\">\n",
              "                <source src=\"data:video/mp4;base64,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\" type=\"video/mp4\" />\n",
              "             </video>"
            ],
            "text/plain": [
              "<IPython.core.display.HTML object>"
            ]
          },
          "metadata": {
            "tags": []
          }
        },
        {
          "output_type": "stream",
          "text": [
            "\n",
            "SHOWING VIDEO video/openaigym.video.11.2356.video000200.mp4\n"
          ],
          "name": "stdout"
        },
        {
          "output_type": "display_data",
          "data": {
            "text/html": [
              "<video alt=\"test\" autoplay \n",
              "                loop controls style=\"height: 400px;\">\n",
              "                <source src=\"data:video/mp4;base64,AAAAIGZ0eXBpc29tAAACAGlzb21pc28yYXZjMW1wNDEAAAAIZnJlZQAAHnRtZGF0AAACrgYF//+q3EXpvebZSLeWLNgg2SPu73gyNjQgLSBjb3JlIDE1MiByMjg1NCBlOWE1OTAzIC0gSC4yNjQvTVBFRy00IEFWQyBjb2RlYyAtIENvcHlsZWZ0IDIwMDMtMjAxNyAtIGh0dHA6Ly93d3cudmlkZW9sYW4ub3JnL3gyNjQuaHRtbCAtIG9wdGlvbnM6IGNhYmFjPTEgcmVmPTMgZGVibG9jaz0xOjA6MCBhbmFseXNlPTB4MzoweDExMyBtZT1oZXggc3VibWU9NyBwc3k9MSBwc3lfcmQ9MS4wMDowLjAwIG1peGVkX3JlZj0xIG1lX3JhbmdlPTE2IGNocm9tYV9tZT0xIHRyZWxsaXM9MSA4eDhkY3Q9MSBjcW09MCBkZWFkem9uZT0yMSwxMSBmYXN0X3Bza2lwPTEgY2hyb21hX3FwX29mZnNldD0tMiB0aHJlYWRzPTMgbG9va2FoZWFkX3RocmVhZHM9MSBzbGljZWRfdGhyZWFkcz0wIG5yPTAgZGVjaW1hdGU9MSBpbnRlcmxhY2VkPTAgYmx1cmF5X2NvbXBhdD0wIGNvbnN0cmFpbmVkX2ludHJhPTAgYmZyYW1lcz0zIGJfcHlyYW1pZD0yIGJfYWRhcHQ9MSBiX2JpYXM9MCBkaXJlY3Q9MSB3ZWlnaHRiPTEgb3Blbl9nb3A9MCB3ZWlnaHRwPTIga2V5aW50PTI1MCBrZXlpbnRfbWluPTI1IHNjZW5lY3V0PTQwIGludHJhX3JlZnJlc2g9MCByY19sb29rYWhlYWQ9NDAgcmM9Y3JmIG1idHJlZT0xIGNyZj0yMy4wIHFjb21wPTAuNjAgcXBtaW49MCBxcG1heD02OSBxcHN0ZXA9NCBpcF9yYXRpbz0xLjQwIGFxPTE6MS4wMACAAAABsWWIhAAv//72rvzLK0cLlS4dWXuzUfLoSXL9iDB9aAAAAwAAAwAAJuKiZ0WFMeJsgAAALmAIWElDyDzETFWKgSxBvXL4PV2UGRANx0fpSQ7a/YoAAAMCB4Z3+iFHNqw3eL/iBuCffC3aLF0cS4nmn1GYv/ufrD5WW45hmf5UXqzN/P1qWtg2yJmexjdvvuBu87aWsIBjm2yTB3ASoXIuLx8AxXQ+d3GX+0aQzSaxEUynygBLgg7t/c1GbWjXQSE36UfTB849Ja2JdryFQW4ABamOdCJp7mAi3XQzcZ5UNf3EUkNdcvhnedzCVgo7RjtdG7lBDOFSmvOOwDRohssWrpQ71j0AADm3N0NRxqh+d3ZrswJjhnjIxv/JlNyS4M9vgWJLJ9M8tfgwvZ5sMw3w4CmDqFgz3DPfEfXrfJAE4PYnL/Z+vEyMOlloU5xtHM6O1YZGqORM80Nr1Dw9pH65jh6fYBWIRMscRaJlcxNl/mHAEQk8NItBBgs/KU+ULC9LhXohUk3nu/51BP2GVT3kQFFtMHMfvLc94pG3Fk9+I30iGqBiF9i9pAAAAwAAAwAAWEEAAACTQZokbEL//oywAABGeN/gk7QACD4//4d180fF4ZmogdMHkrJjqEY/sDo9GhqSKZBGgv0pADmklmMueVRmPUN7VDRmR6K5fzRqsBkX6wCauYrwdVjHhZ1THoa+gKFzz1j9loToR/i2ntjKWy2OBRyPFTqwNIIhRpz5RK3ygzhu5wwJtjUL4xGtzHWHqAkWiUW4gFlAAAAAM0GeQniEfwAAFr5LqIrSanbLJqs3iAGw0Vv/rkiftMeqLh/cfitodtRiSTwB1ZpHgkAVUQAAADgBnmF0R/8AAAMB5sklABdQCEAZWuSJZr9JXTsfeCyMnETjT27Z1bKd3XYJgAAAAwBkZq4AdNQB8wAAACkBnmNqR/8AACO/BCQ5F95Qab6QP58Cb6y6r4X+3mNYQYAABvjWpmECXwAAAFxBmmVJqEFomUwIZ//+nhAAAAMBbPDWAAQ5Y+UXHhOZkCdXYxtsq3Cs1LEEVY91BwJEPXJzMZ85yR6Ykr3eajeAUq0v+XgmYwUxL+vRouirsgDMMhoZxnhkjBlUSQAAAHRBmolJ4QpSZTAhn/6eEAAARUUqXIA5h9xefwwqPxC9sJHq7wTNpHCIKx4NMb71vAto7TJTD3VxSwfXxUBQWAOojCfQhvAizP5t2fwWaMHTVHuUnUfUwivuB+/bX+Dh+Uwy9tfeQ9DObVhqnDt3RYZumWDVgQAAAGZBnqdFNEwj/wAAFrUrN944AbmZAzNKGRJWnERb6MfSV9VX2trO8lFTR+2HYkOtj5P7Ib4oZ4gcw37NYQ9qy48aHEf1DN3wur1vCM8NLUwfOuZiuS92RfFnmbwoNUEkOB0DtAnwgTcAAAA/AZ7GdEf/AAAjq/hcKxksg+amSnPVcCjdaHggB2mtEB24AEyM+a61ZrvTDHEwMVgAAAMAAAMAAE0rF40qgH+AAAAAKwGeyGpH/wAADX+2jpymTaNSBBE1Zkhx2PAa96kEsQbJ2AAAB0uHF+4QJuAAAADQQZrNSahBaJlMCGf//p4QAABFRGwuQBzAH3z6Q1968cPobNfqLJoSmTHAWswR+yGI8CqjHn+Jzb8FW1/wV8eKSTf3RN7mlTji+wzAyiibogK38aK3eCWj16Yycs7cVzAPZCgJKv6N5KePlKfFa5IuktgYTMazwqBBxweIIDgenx6jczE4xvJx75apdXDRgIdfOQyWnz0Yf7eivhMpFqctwViwb9IVlazo3HZd1Sb1ssDRAAj0AtJ6zRDjXSgnomfRcBbZUk3ymo0FZt410IPWgQAAAGFBnutFESwj/wAAFsifgBuB7e+C+MV/ZBDWbXf46Hnu9xkY6JT0J7AlbS2aW3jTl+AxXak1YxOzS/4E0+Z/O9EgEivKitp29Z3houIoBoVMAAADAAADA2dHgNt0qzGb51xwAAAAOgGfCnRH/wAAI8MXaKmsuMBzSHRwMCeNp4AC4YQgG1Cqcyxjz85S1LueyqeiRt4AAAMAAAmD80uaH5AAAABDAZ8Makf/AAAjscwNUg88/vy8tRsAS59qleqgJXS1IVK1YV2pf74ro9lBd4LQABK/q8NNKC4AAAMAAAipGHitKsehZQAAAFtBmxFJqEFsmUwIX//+jLAAAEYC9ooFficPiRJoTUP+K4iotgEAbzs1cMsqI8WXbV0FW4Wh9Z55DAUD7HBGw/mB0mtYQuc8fqH6TQ5lyYSMejjePqos864laB1NAAAAXkGfL0UVLCP/AAAWuKe8ActQNC+3U4osVXz4OxbCLH7vTIz4n1K8WdlR3G+vX+lpx3FuRsgwDxM6e9J97LW4EfacOu9knPrZH7/EFf7Tu7nIwDb/NgaaOrSHvF36sMUAAAA6AZ9OdEf/AAAjq/hZPChekA8lsPJuK+6OFALJmzXFsA3XAPdKDIJQNhj7nF+/AAli5AGyw9QlWwZMQAAAADoBn1BqR/8AACO/GR3o3Kmmw786KYAjqtrbK8ELvJLUbfHzMAZ4gKfQf+GoQRn8a7rUWW46a5Y8X5/zAAAAY0GbVUmoQWyZTAhf//6MsAAARhQ7SNwBzASQPkYIvVD+PPoMLQXC5K+2UqH6l7mqRdCbgCtOs9fXp99DxXVZKV78pGy7Iz/UCF59O5g3mWOfNB+wyEQNxJSgFlKxJU6SNvoVgQAAAFZBn3NFFSwj/wAAFrMsA5TqUt8QHd4DquTzsmWwO3vDKOgqc6vkKuGyWNtc0ryAGDRD8gdaEhGVut92coe0kHMSCErG15QuXr/uBoaKIJP4SP/9HRfnwAAAAD8Bn5J0R/8AACPDOhr+or08+ov09FcYrb8XXhjWRnVL+0jseBdzi4m55pxaTiWigAnbdbjxPQKAUIuz6j/Q58AAAAArAZ+Uakf/AAAjxzJ6CmLUExPyY0YBUvrtdqnjGkldAxk0zL+G2X8qXaMQcQAAAItBm5lJqEFsmUwIX//+jLAAAEZ6bz/cMxYwAvs/ZR+atg7YQokswsvzgzPL1PLMFg/SVtquPteWGXTCV88EQh8+UDEWKEUk3alqxeW2F+P1f4XoKoVu/2XWoKZCItXTnB2Ij9MTdcvA/ifQMItsslVo53Veu3+K/AAtcDSLkzJCz6JKIEnllj5+fGZoAAAAPUGft0UVLCP/AAAWvlxTQ9TySUhyQzbFYIAW/hsAKO+v3+aWPy4k6p90zYXNWXWZkTeVzPsHwAGkaQTec+EAAAAtAZ/WdEf/AAAjwLWsDfRTfsF5nneSZhvAsDfgrncAk8UV6j51XxpQRj/SDXAxAAAASgGf2GpH/wAAI8IdMzqez6DiwYUuz7xnQ3PCUPtb40jMVG66KIzHHLjafYLEOADUaAziaPIzQUHmbtDO9p2z+Lh8arS+CrkIk8M+AAAAdEGb3EmoQWyZTAhf//6MsAAARAIIkYAWH1KEAnThKT9cy53JmEddx/W0iDip8u3n8x6ZuV8plehT1NkgDT+Rz+tmr9Yhp70KnRHYpCdpLnr/EHFDW/F82sRGtuPyZ4r/Mrg8HgaosNr+2yRpZHjKsarCt6mBAAAAU0Gf+kUVLCP/AAAWIv8qHEvDzTJZX3Wbe5gfmTJRWDcmyh1kmEZ+Z5hJWilxkQD024nQAPw8jeyrmgyTD3RbdfYd5PJA5XnlVzSTIQR1Tci7mX3wAAAANwGeG2pH/wAAIq4yP4LS8PyYZVVqXyvS4AZEQ80lEmzPaJvrryS5KPRDIyBTIflt+ly2ugT/fMEAAABtQZoeSahBbJlMFEwv//6MsAAARBRBXNJqlXlteRzW8z9d4JFOvyK0m91nh+tlzACUMcXgAfwdQfUt+2WDrf4vPKJ1roIOqffSdJrD5e8o3xWoUUon1FVvZ0SKGmRFHlM0m4kiXnSZX7sMSPZZMQAAADcBnj1qR/8AACK9ljKJ4B4lDGuUTUJv7DGBXnA1inxqiePlWT2hrkx5PdP+Hr3jVJ9t6sYPri3wAAAASUGaP0nhClJlMCF//oywAAAZ5bzcwTpjrTOhfp5y6Py9u8Vv+vjZ0CR1bqdk9vYzO7PLYfrla+mH+NlK/clLFZhKcVaRcgrUhM4AAACYQZpCSeEOiZTAhn/+nhAAAENlcW0skABGBvBaGmOZHyur18/Rn+nP92S3inpJn/OH7li2YpkGzCJXhEQSCyLIg0ii4z6DQ2blMdThQCFmP5ibgmo8ukdg5M+Zbl1IOexx4SBW72NS5qW2MrVYonRqH//baJ3cVuhHbSC3V780M2qja5tW5oWWuptSAPm2ilZsJIEs/dlP9q0AAABSQZ5gRRE8I/8AABYrthEgBbtZ9MlwmNZVIa4lqFwnJlkHIMSLz6O6X/mtbaIPnC652A8jipSHzvnZJL4AF55w0iouRAeNWsIblJtY+zcaqs8GgAAAADEBnoFqR/8AACI533LSE9eQLwhGYYMu3e1YrxkQXdEygTmB2E58DIanSidgwHOxN8/pAAAAj0GahkmoQWiZTAhf//6MsAAARBRBftwBzDyIqhy9qyBXtmmCHvKwdi2kBf0ioRJJIWQXGfCXalkI/Coouq6qthZ+9rlSlhTCGbHACOlbHxQ//MFjp7y2m+aCBMF4iqfli87O73uRLyCZ2HnlRoJ8uDfy/j8/pL+dBm/5Dba1gSYMbmPJwb8vPUC6i3ojTpZwAAAATUGepEURLCP/AAAWLmsIvADcyx4R0CSQlMj/fvJexVqTk4WzAuMowyG62HWSGZYclcG83Zbr7CVoSDUX1zTSayK6SVmIgXUZfQ0ObT/RAAAAKAGew3RH/wAAIsM+DBtoRJkHVPFMWOjKAsVKsa9e/oCgmqtzDT8BXOEAAAA7AZ7Fakf/AAAimbb+T1CmlVu7/vZFy5f+1gAtX4DI+D38zpz6zpADexf2zh+WOiKTHhpMAn6L1ui2t6EAAAB9QZrKSahBbJlMCF///oywAABEAUbA87PRgB0DQopg8y0xkSzEAnbUZup9G7p+lCQXRF7enj7CWrsfHTLjlYikwTcFo/f+Ma4La7U1/9hHECHGBsof9uRbEosJSV+4EMZ2bO8HGUjQ3WY6Ll/40uPiFtw01Cdo0wlrfwyPvmEAAAA6QZ7oRRUsI/8AABYint42Xr2bSKNWr/KAXO/J5kxHWulRVO4t1LviYVrQGrlGvPw5xcbQsqsMAAm3oAAAADABnwd0R/8AACLAuN+/r0GS2gBJT5cmcHJcwurvNAI5l28l8bk2vl3pmOPKOb8Ht6AAAAAqAZ8Jakf/AAAirjEv0XlBqFlYBRk2GBWjN/aMdn9700QdWFjVWnoJzPBBAAAAv0GbDEmoQWyZTBRMM//+nhAAAEFUmOvsAKAY1SqRzrTzteOjucwQFJbANuEzh6z3wuOfMqKheNEOLuqJrUvhwoG13Je6TV1iDyeQLCuo1gGYF3u7ijfIfgGAgG7bfo5ICJDC0ufcOQb429Iimp6i0XkYd6DQqKaMjbDUeFawakPlKoctIETjetAkwlvXEYedLYREfbbEeeuLCg4ul//0O/YH7773io33SepgLyqlhSFgmWkLT++CR4sCoRzebbXoAAAARAGfK2pH/wAADSdFrae3QTmYY4zkPWuwxO0p4LqP9IYvLQi4DFvQFZ4RBy7eAEKaXvTgwW/3zD3xtEBAEcd/itLgTRjMAAAAokGbMEnhClJlMCGf/p4QAABDRHgXkAB0h9qbDQQhFWiNZ5weYcLHt1Kh6e8H25+pqB17pZcxTWSxSlGn7JLZcU99mwh0nkELfEYkL+w2i/FjNcLeBxeePFsimZOXGxc6c1OtOmP7oF9BatIPl4Vf+vb2yRQN8LGwkP2AeNvuYCLnxpx2+9AeFLsqj+yKnZmwOcc5P8KOAMJgJP41AwNwCi8TYQAAAGRBn05FNEwj/wAAFiuUNyLpvppwQ7PsxA3t7Q4YtUxJCx3Rv0ZmgMh6/N+vp0G17FxOC+UHH+Pso8yeOggA+/cF6JshZc1s5zYoSq6D/cjf9RICq3OmsL09+spoJAcsEqba06ejAAAATQGfbXRH/wAAIqv4WwRyl6Bb4XKXLm00HEI1+oONcGx2CCh0Rr1wl3WioBj73y7/b4mX92d3UTqkjUxPLXX0AJS0KiRPt7tRCC1oYzsVAAAAQAGfb2pH/wAAIq5JXpwj6THd3YOllT2VbCtoq8OIOYtcUWPwotyjSRV9RF5pSqgFq0vIA4HyN4biJWnkv3PK9oAAAACcQZt0SahBaJlMCGf//p4QAABDRSVLRral2ADoGtQ0mBhksAxCteSSpFLmnglfM3euPCmR3a8dsm6R2ucZOk6yJ1r2HKbbRM+WlWZRz3gj449XdCmY2Rwud99vQRyB55KMIxQgW6TL7eD6jNIzja85ovdodXb3Xa5TWwoh577xyWmPgn9UMKxraalNVHeRSTpcoW08NMncmVSY5PpAAAAAakGfkkURLCP/AAAWMFzW7SHnzP+ilILjZCGqlAC295ZKzg8m4j5DBIGK+WThcNwGJ4NUx7DjPzlUn1a2ktopQTRXW+FaVNlAH82WxIh+LuWfmh5fZeJvs2tnMAkBOKUTpUo63QDHN9EH6s0AAAA7AZ+xdEf/AAAirDlgmI1ihXWUPlVUaAXeLRFIiHawgICjiL35RYS0yoOyhGA/G+y1tbeRo9SZ8F/jOOAAAAA8AZ+zakf/AAAi1SEAOhRfy0B574TUWgRQt7gKsmNeCGr1+/JD2/GHMOh+JF3E0s+fVpVb0QxH7xBto3JAAAAAh0GbuEmoQWyZTAhn//6eEAAAQ7pvQMjfwTOgBwmbu3QoF70SAq98AYGJT7CeMtjQdTS8py/Xzw31NTAPSAiDLPJ5AcqZJmCmjZfSbZwFV36kxVZkH1+B5lpryTQWFbk7TtKUyFtQeFrR02I8WKaGaWOpMaRF1tBoU6FzZT4tgjz6xVN0fYV/TwAAAEpBn9ZFFSwj/wAAFjBGfoWKPs2BT7eEvmpR5TsxZW+tPIotCTzUiUM8Gifp4HiKAfSrvdRz+VYsOaO5sHZ2NjONbfWM3YtLHSSKgAAAACwBn/V0R/8AACK3x36fFiuptHI2Mpmt/IGnMzT1PRyBQRA83Pk+/GE1+Y03oQAAADoBn/dqR/8AACKxnH659etTd8QzcKdvZagBHg7RY2WoyFJ/538I6eYaibt3Uhh41jnIlYk13vkYbHtnAAAAd0Gb/EmoQWyZTAhf//6MsAAAQhRMnPTuAK0aI8LC4LTqPLhrCu8zbN5FDTTPCx0Agh8dD3TOpOPwNyW3QAPe6GH4LrCnIdtkGY5jXvsIPmOnTd3eu1tuaKr/KP+lJoDC3q3JpJ79OTDDfb/9L4WqnxCcUW97mBNgAAAARkGeGkUVLCP/AAAVkzDHgBuT9ZpyyL4DaHM7mcumYIZMXE4C9tTkOvBaEYd3YqL2h5z9XxDWORhD6lnGQQ0rrWMZAGrFiSsAAAA7AZ45dEf/AAAiwluTprRs1T6lqlcaA5pU54aRmykZMlFacitKTBw9+rpjqI2ZoIkSZNJFCA2sEOXvccAAAAA7AZ47akf/AAAhO9A+0zopFizagK0Ml8bYaesDcZjHWHQJXpxPC/QA4iNAA1GdD3EGv6G/4c4ptoh5ckEAAACDQZogSahBbJlMCF///oywAABCM+yRSJgBGL/t9CBf+4st8YJWU9sUHzwfuXH4IgzfCUkVKDLFgUePyzGgcKP377l/NnkbVr5x1PAKHQLvrmAc2uClDZjCUYJ9Vtu25mfAS8QL7xUcNrM3JSxFCXN3MjNep4roxtV1XveyTDn/2PYPIDEAAAAxQZ5eRRUsI/8AABWblFhDgE0jjCs9+nnGqpoByGwmYOKeWcXjXjT20RpPUpUsKq244AAAADcBnn10R/8AAA0uANhChX3fXMEbABcTCW+pqFNFo46oQ9WiFyp3fjxBMac5Hp7Rw+e48PH34txwAAAALAGef2pH/wAAIb+6IAOJ39gc/IH0OOpqFKFA2tENuVrMAs8Sw9dBOfXXSNkxAAAAg0GaZEmoQWyZTAhX//44QAAA/akVxfoxZMQZOKfgKPbPXP+6MySg3v0pQaDibr1FBJjvKjtI5Fep+rnwFP5YRzBKgc1gfpBe50RpW2W7tCNr5uHB4Tx6nd1NUe+cerQK1VlbervMVywP1/7qVZEgeM9qAsDzzUkthzATOsx86+IuD46gAAAALUGegkUVLCP/AAAVoJjo8M6gmLFA/snXd6y5J+c4Q2rGbqDjv2O7y9jowXvLJwAAACYBnqF0R/8AACGtLmAG5LqmFdkfwLSNl2k53BN4WI+Mwou4Hn1yQAAAADIBnqNqR/8AACGyPL+MgfAAtGdw930+xvnpUoDpBkGOQfJ7QTpWgkPMQRPcXszx43M8kQAAAMxBmqdJqEFsmUwIV//+OEAAAQTzGc3nO7XM4JxjGx/YAoQBK0eY4Rc8f/bttj1duoIdVmv47lzz3syHcfp8FwhOlrAlZ2SUiy6MlOmjGDB0zA6+WIUX+cAy87GE2bVd78NS7chypt3gSaFTdqPNU5zxipQ67eUP9L9fq8Dx8cCjrORGGz99NQJG0ZLyUoOLXA3KXbiG9lZA9m8JGTmR9eZ1kFrLyV/fnxbJLLUoGfFUrFV9p+xNkKGdGvTTO7IO2Eg5/WUVPHwQdNnlLkEAAABMQZ7FRRUsI/8AABYqaiSljAA4gQ7PTV7FXTBXxp/Ag84YQDX4JifgECZkBZSFUcnAv3Lc6fiwxvbcQ9tOX+BaPWJlSrfTWCe0iTNxwQAAAFgBnuZqR/8AACLGbC5aLADb6B71SH1MoTv7LNlmtcVb4SWoB3wzQxaTMMl68d+5KwnvARyWkED5Sas/+B9tWjH+u1JMyMZrHpHGarufihRER9GO8H35DbclAAAAs0Ga6UmoQWyZTBRMI//94QAAAwP1YFcNgYXTGFZNAQmBxwAEZFxkRiLEVkybHHhXu7MsWC66fiR0iSkTtehDI8YvDRoAJvzSrnd3FYP+ThqHTY/xJcBIBmOFV3YhQUMBBz0z6fh9eqn9tn+VsTzsvb3Umrt//vP5dyLqf228wKo7MJR67uiuo5Zzkz9cSWOXdxMIySnjMfhM9/icraElBF9U4X9GTFOgKQh6+T2sD2B/P9tUAAAAXgGfCGpH/wAAIrGJE1eUPkXc1+FVF8Njy4mATv0S3rENWTabLJzngAtltEltpLhAR9gGrXdsxtiSrjXut331C6B3uaLBV5oATSxj+5gNIF9U++H/PF20Kj7KENduZ8AAAABmQZsKSeEKUmUwI//8hAAAD5eiO7PC20ImUxDrCuvzHUbOiU+5YO2C7BmHgaXuaRsnfTKEmObQawlAtFCa4gATWPg/abLXYja7bz1vpsXTQS0ygj9ywVSfVfkg4dcaHNkIOxUrCCglAAAGf21vb3YAAABsbXZoZAAAAAAAAAAAAAAAAAAAA+gAAAXcAAEAAAEAAAAAAAAAAAAAAAABAAAAAAAAAAAAAAAAAAAAAQAAAAAAAAAAAAAAAAAAQAAAAAAAAAAAAAAAAAAAAAAAAAAAAAAAAAAAAAAAAAIAAAWpdHJhawAAAFx0a2hkAAAAAwAAAAAAAAAAAAAAAQAAAAAAAAXcAAAAAAAAAAAAAAAAAAAAAAABAAAAAAAAAAAAAAAAAAAAAQAAAAAAAAAAAAAAAAAAQAAAAAJYAAABkAAAAAAAJGVkdHMAAAAcZWxzdAAAAAAAAAABAAAF3AAAAgAAAQAAAAAFIW1kaWEAAAAgbWRoZAAAAAAAAAAAAAAAAAAAMgAAAEsAVcQAAAAAAC1oZGxyAAAAAAAAAAB2aWRlAAAAAAAAAAAAAAAAVmlkZW9IYW5kbGVyAAAABMxtaW5mAAAAFHZtaGQAAAABAAAAAAAAAAAAAAAkZGluZgAAABxkcmVmAAAAAAAAAAEAAAAMdXJsIAAAAAEAAASMc3RibAAAAJhzdHNkAAAAAAAAAAEAAACIYXZjMQAAAAAAAAABAAAAAAAAAAAAAAAAAAAAAAJYAZAASAAAAEgAAAAAAAAAAQAAAAAAAAAAAAAAAAAAAAAAAAAAAAAAAAAAAAAAAAAAABj//wAAADJhdmNDAWQAH//hABlnZAAfrNlAmDPl4QAAAwABAAADAGQPGDGWAQAGaOvjyyLAAAAAGHN0dHMAAAAAAAAAAQAAAEsAAAEAAAAAFHN0c3MAAAAAAAAAAQAAAAEAAAJQY3R0cwAAAAAAAABIAAAAAQAAAgAAAAABAAAFAAAAAAEAAAIAAAAAAQAAAAAAAAABAAABAAAAAAEAAAIAAAAAAQAABQAAAAABAAACAAAAAAEAAAAAAAAAAQAAAQAAAAABAAAFAAAAAAEAAAIAAAAAAQAAAAAAAAABAAABAAAAAAEAAAUAAAAAAQAAAgAAAAABAAAAAAAAAAEAAAEAAAAAAQAABQAAAAABAAACAAAAAAEAAAAAAAAAAQAAAQAAAAABAAAFAAAAAAEAAAIAAAAAAQAAAAAAAAABAAABAAAAAAEAAAQAAAAAAgAAAQAAAAABAAADAAAAAAEAAAEAAAAAAQAAAgAAAAABAAAEAAAAAAIAAAEAAAAAAQAABQAAAAABAAACAAAAAAEAAAAAAAAAAQAAAQAAAAABAAAFAAAAAAEAAAIAAAAAAQAAAAAAAAABAAABAAAAAAEAAAMAAAAAAQAAAQAAAAABAAAFAAAAAAEAAAIAAAAAAQAAAAAAAAABAAABAAAAAAEAAAUAAAAAAQAAAgAAAAABAAAAAAAAAAEAAAEAAAAAAQAABQAAAAABAAACAAAAAAEAAAAAAAAAAQAAAQAAAAABAAAFAAAAAAEAAAIAAAAAAQAAAAAAAAABAAABAAAAAAEAAAUAAAAAAQAAAgAAAAABAAAAAAAAAAEAAAEAAAAAAQAABQAAAAABAAACAAAAAAEAAAAAAAAAAQAAAQAAAAABAAAEAAAAAAIAAAEAAAAAAQAAAwAAAAABAAABAAAAAAEAAAIAAAAAHHN0c2MAAAAAAAAAAQAAAAEAAABLAAAAAQAAAUBzdHN6AAAAAAAAAAAAAABLAAAEZwAAAJcAAAA3AAAAPAAAAC0AAABgAAAAeAAAAGoAAABDAAAALwAAANQAAABlAAAAPgAAAEcAAABfAAAAYgAAAD4AAAA+AAAAZwAAAFoAAABDAAAALwAAAI8AAABBAAAAMQAAAE4AAAB4AAAAVwAAADsAAABxAAAAOwAAAE0AAACcAAAAVgAAADUAAACTAAAAUQAAACwAAAA/AAAAgQAAAD4AAAA0AAAALgAAAMMAAABIAAAApgAAAGgAAABRAAAARAAAAKAAAABuAAAAPwAAAEAAAACLAAAATgAAADAAAAA+AAAAewAAAEoAAAA/AAAAPwAAAIcAAAA1AAAAOwAAADAAAACHAAAAMQAAACoAAAA2AAAA0AAAAFAAAABcAAAAtwAAAGIAAABqAAAAFHN0Y28AAAAAAAAAAQAAADAAAABidWR0YQAAAFptZXRhAAAAAAAAACFoZGxyAAAAAAAAAABtZGlyYXBwbAAAAAAAAAAAAAAAAC1pbHN0AAAAJal0b28AAAAdZGF0YQAAAAEAAAAATGF2ZjU3LjgzLjEwMA==\" type=\"video/mp4\" />\n",
              "             </video>"
            ],
            "text/plain": [
              "<IPython.core.display.HTML object>"
            ]
          },
          "metadata": {
            "tags": []
          }
        },
        {
          "output_type": "stream",
          "text": [
            "\n",
            "SHOWING VIDEO video/openaigym.video.11.2356.video000300.mp4\n"
          ],
          "name": "stdout"
        },
        {
          "output_type": "display_data",
          "data": {
            "text/html": [
              "<video alt=\"test\" autoplay \n",
              "                loop controls style=\"height: 400px;\">\n",
              "                <source src=\"data:video/mp4;base64,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\" type=\"video/mp4\" />\n",
              "             </video>"
            ],
            "text/plain": [
              "<IPython.core.display.HTML object>"
            ]
          },
          "metadata": {
            "tags": []
          }
        },
        {
          "output_type": "stream",
          "text": [
            "\n",
            "SHOWING VIDEO video/openaigym.video.11.2356.video000400.mp4\n"
          ],
          "name": "stdout"
        },
        {
          "output_type": "display_data",
          "data": {
            "text/html": [
              "<video alt=\"test\" autoplay \n",
              "                loop controls style=\"height: 400px;\">\n",
              "                <source src=\"data:video/mp4;base64,AAAAIGZ0eXBpc29tAAACAGlzb21pc28yYXZjMW1wNDEAAAAIZnJlZQAADVltZGF0AAACrgYF//+q3EXpvebZSLeWLNgg2SPu73gyNjQgLSBjb3JlIDE1MiByMjg1NCBlOWE1OTAzIC0gSC4yNjQvTVBFRy00IEFWQyBjb2RlYyAtIENvcHlsZWZ0IDIwMDMtMjAxNyAtIGh0dHA6Ly93d3cudmlkZW9sYW4ub3JnL3gyNjQuaHRtbCAtIG9wdGlvbnM6IGNhYmFjPTEgcmVmPTMgZGVibG9jaz0xOjA6MCBhbmFseXNlPTB4MzoweDExMyBtZT1oZXggc3VibWU9NyBwc3k9MSBwc3lfcmQ9MS4wMDowLjAwIG1peGVkX3JlZj0xIG1lX3JhbmdlPTE2IGNocm9tYV9tZT0xIHRyZWxsaXM9MSA4eDhkY3Q9MSBjcW09MCBkZWFkem9uZT0yMSwxMSBmYXN0X3Bza2lwPTEgY2hyb21hX3FwX29mZnNldD0tMiB0aHJlYWRzPTMgbG9va2FoZWFkX3RocmVhZHM9MSBzbGljZWRfdGhyZWFkcz0wIG5yPTAgZGVjaW1hdGU9MSBpbnRlcmxhY2VkPTAgYmx1cmF5X2NvbXBhdD0wIGNvbnN0cmFpbmVkX2ludHJhPTAgYmZyYW1lcz0zIGJfcHlyYW1pZD0yIGJfYWRhcHQ9MSBiX2JpYXM9MCBkaXJlY3Q9MSB3ZWlnaHRiPTEgb3Blbl9nb3A9MCB3ZWlnaHRwPTIga2V5aW50PTI1MCBrZXlpbnRfbWluPTI1IHNjZW5lY3V0PTQwIGludHJhX3JlZnJlc2g9MCByY19sb29rYWhlYWQ9NDAgcmM9Y3JmIG1idHJlZT0xIGNyZj0yMy4wIHFjb21wPTAuNjAgcXBtaW49MCBxcG1heD02OSBxcHN0ZXA9NCBpcF9yYXRpbz0xLjQwIGFxPTE6MS4wMACAAAABx2WIhAAz//727L4FNf2f0JcRLMXaSnA+KqSAgHc0wAAAAwAAAwAAFgn0I7DkqgN3QAAAHGAFBCwCPCVC2EhH2Olf8H/BOM9AY8EriZSpxubsvy5Nn9+yZfhXP/Kp1W40RfXERG8HFrmLWMyTHNjCSAjKh5iKL8ViDc2yiYZkOsCbxVLC35lWsaCAp5bUnodHHZcLUCZnZEhVy49olrmiG//Bcgr9d97i60/LkC7CeGSEDxq2aLgPhunI6CuEAUD2ly/7E2JfzcwQMZj2BojvmYwywP6L2pZAFo4mWpcOZY2PtDeHGVG+DvBAIfPylk9IedF7gDZhB62yQRFnQiiRZ6OX5yM81AdBJY0asIMPZ4eqeE+oKyWaEX3vcgzBBQfa5xDfOGHLDHCdo50QIxlAoOKjSmciPKTwDKGZocS/PYFsUI9XnhlIfmnP2KqMg6MSleN2OImez7z6uVQLCY6lVcfuq7gJpPOS0rJUyKm1/O0oK8libF7qy9ApbXqqQYGOP30/E8rFwv/qPSAABmHAKsaXRbUhaaA7dc9FoPUPtcwMkV88jgaWD3SFkjkxVsb9ohhQEpWeHi+/BVeP2AHIAAADAAADAHjBAAAAnkGaJGxC//6MsAAARgq6RgB0jae+5HEX2Aex/o+dXl3AvrZtogZ2PLFonhhgsF2A/58LArHDwfW7/VLQXkxVbT1kRnLZUwDgw9QzcQx8lr/m34NTgKJAEhueSi2ZUrPKJp/KB4Z0Dnyy1p2jKw6F+SFmWHikNxcNuOL48+IEOKbv7YyL/peLTnaCrB+8cGUsdE0tFnzA2LTx0J8GOBHwAAAASUGeQniEfwAAFr49Sr89If4fFlFAgATqfK9iT2NVssCKXmAt/jhd4zhcQNtGJA5cFQl/ZE3RqgH/CcJdQt5xKwqw6+SekuywLKEAAAA6AZ5hdEf/AAANe515DDDjp0F2HiRYO5rsEFP1p2Gtuu5cH+/LNNUaZvQdGPgHLgAAAwM7+qiMxTAH+AAAACwBnmNqR/8AACOxzAlwXyROGIP5jm8750BTe6knS86M4QyWWUtACOj28qgH5QAAAJRBmmhJqEFomUwIX//+jLAAAEYpqrXAFaTTd1h2/ElSk8288o3pB39GjDJwCoguKmJ7e2PFWkZbe5B6p2n8qzgGOL0Rt/jjR/GHFenIlfmfM0X56/+NscOWgZZW14tJZvZ7oa7WNGd20/9X2eASYzy9MlzeZKKWd3lZhXShSjsvk/fTBDdCmn1Ny1jtYzUSQglwx8jxAAAAMkGehkURLCP/AAAWtSs3a1FtiJkH2ITlblElfrofQSpuAAADAAADAAEd1XXgnnnpYD7hAAAAIAGepXRH/wAAI8MXYrPACFENd9Gp+IOAAAAFGI2RlgxZAAAAJgGep2pH/wAABR0QlUwCDp4rAtmJ9/rEXDrp2AAAAwAAhOuPhAlYAAABAUGarEmoQWyZTAhf//6MsAAARjPLEnKVuhADjprlw5hLVPzi+K/u2+XcPmeRNoYvz+pRPaIfxQKkWw+Vv/BKwW9y57WcUJE6v/xESiLWGrv1VFZOjJuPRheF8AyAaieMNzGARK6byqdZ4DvnhYiBldE501PW4KT0xtZwpg0HFdzOA7LpgxTIP/H/fWiGeiYf3jIApTo0etzkOKPKqT4bdMom2qCdn1qTN0Fse1Q6iSQrTKyU/5Iy7c3dAT1ia6PiQ3r1XWo4YWAXe0W9VfnD7S5wlhiuUM+JZltIozrEv7GYf/U3MCmI6nywfNvIc6YUAAADAAAItcm2KL1TR4YcrIDAAAAAU0GeykUVLCP/AAAWu1wi8AN1jEhOHOlyf8SpX6LDy5YPyEsZwwgfxplANH94epCoW4Qx+FOlTq+HzuwWsl60sm7ynvaHXqAAAAMAAAS+91T4QHHBAAAAWAGe6XRH/wAAI5K7rKIE4y5HQjlG444RpkSNvqBLAjkdbJ3YBNQAH8GmC+RPS9ztVhIJB6E6X8Oau7Oy94MIqcj0Cru105cjuk+/p19nhBbY2oThM3wgScAAAABfAZ7rakf/AAAjkieKDN2/y1vqYF8RrnwE3rxxv5sBfcbqCkwok+L8JNIz0SdO0KqABsMH1thPK9Ts/KJ0zfU/i38G/bZCBJ3/sYLLYTFr+7WOsm7eR/3EVHq/Z1KoCpgAAADqQZrwSahBbJlMCFf//jhAAAENTvxoc3AAj2U5CoieMoxpn6XQdk2BylYd9sJTrPYWt5HffPK2if3qXW/cgDCOGxfmIUtxcWTBr5OdLw4mg8q6xsnf3ZP9wJygKQh4DNpiX8Png4EkZnexX2BMgGKgQmiemgZIgmFSr/zf9jr3cPGE4dqwasRsF8ZM9+gxjLjX2+hDqzn8z6C00xax2/IyveUiVLTiHP+aLgK1Rw0jaUvcnBVlwTb0NwrNcn/ca4kEfvZBDEBdboatMR9+KBqY38neCugO9SfPBQrheS1lLK6Dd/poyTL/AAxZAAAAgkGfDkUVLCP/AAAWwDeAUjb60xb1BZ2OJh2bJH7L1CkzLm2AILbsK43bE+RBYx/rsIKehnm6GOOC9efpDatSg0D5KsLj68+ntCodighypOu3Si7puuODfABLOKXoi8I7TV1HnaWlJ7/ezbaaXegZflXZP4UUV3Z4vu+OQXIS3VPCAz8AAABtAZ8tdEf/AAAjO35odE5XoWG84ldjm9gS9uyz+MPyaHNKASJ0yhODMTG5iUh1A/DTphOLddIiFhLRHntgAmfqxiVHDpRhNJzvYki9HNR2rBbG1ys5e5Yqjt+0F4v/PsAQQw08AAAiCyzM28sBdwAAAFcBny9qR/8AACM4MTAeBTLoWDd3jJ3FLxRBvNSJPCWm60VG2eLx7dWOMwASN3lnyjFl0OqOWLAhYpwt8Oc9AqhQc56fkqFhiJeYFmH+6ZgAGS3h5/9UAqYAAACHQZs0SahBbJlMCEf//eEAAAQWUwJJKIpVq5IzB5DMEqsgr7a6YvwlJOJT2i1dFtoXLQHa2uiVeYAlTZGoutOpbR9X7EAH7fY45HAXaVuWF8pjNknJQ5p7NYTRAdaj0LRTJSup7gQCtPYmqBBddwyyQgBkSSiAsf2cyddE32aHkg5aNg3TLAdMAAAAa0GfUkUVLCP/AAAWu4renrmNV6WgARpupCxBXyIAW8XGP/K3TzyDTiMbiGp07eXpGXuCBOHyl90ZWdYp8nQX6kcHRFTOQJtc1Ac92eZSyyxixFiXghBAS4QZ52Xvle1twAAAAwCQjyzvwgM/AAAARQGfcXRH/wAAI8NHB+JMqBILWqTD9UpE1XHsd9JheNlXvwltFrGDl302KU8/q1+Xf+vEwmpT9DuwMfnkkgAFR7hwBUApIAAAAFEBn3NqR/8AACSuMBoV99dXLKbXilE3vlMMbh1QMSlPl+t5EwH2FRSW7cnt+fPztVkxhlTAeAExt7UBX8mgkzBkAOWkaB1Ll2KIAANoy+0sBowAAABkQZt1SahBbJlMCP/8hAAAD9NxVjFuzkjZbpzD79AAVq8/46K/hc5rHQL2lNH1nZZ126CN17zlVZpieBmM92HYr457duCxbie60sj6v22uIbQa+/EzxYlTtLtUhPdxmlpzJG9I4QAABBttb292AAAAbG12aGQAAAAAAAAAAAAAAAAAAAPoAAABuAABAAABAAAAAAAAAAAAAAAAAQAAAAAAAAAAAAAAAAAAAAEAAAAAAAAAAAAAAAAAAEAAAAAAAAAAAAAAAAAAAAAAAAAAAAAAAAAAAAAAAAACAAADRXRyYWsAAABcdGtoZAAAAAMAAAAAAAAAAAAAAAEAAAAAAAABuAAAAAAAAAAAAAAAAAAAAAAAAQAAAAAAAAAAAAAAAAAAAAEAAAAAAAAAAAAAAAAAAEAAAAACWAAAAZAAAAAAACRlZHRzAAAAHGVsc3QAAAAAAAAAAQAAAbgAAAIAAAEAAAAAAr1tZGlhAAAAIG1kaGQAAAAAAAAAAAAAAAAAADIAAAAWAFXEAAAAAAAtaGRscgAAAAAAAAAAdmlkZQAAAAAAAAAAAAAAAFZpZGVvSGFuZGxlcgAAAAJobWluZgAAABR2bWhkAAAAAQAAAAAAAAAAAAAAJGRpbmYAAAAcZHJlZgAAAAAAAAABAAAADHVybCAAAAABAAACKHN0YmwAAACYc3RzZAAAAAAAAAABAAAAiGF2YzEAAAAAAAAAAQAAAAAAAAAAAAAAAAAAAAACWAGQAEgAAABIAAAAAAAAAAEAAAAAAAAAAAAAAAAAAAAAAAAAAAAAAAAAAAAAAAAAAAAY//8AAAAyYXZjQwFkAB//4QAZZ2QAH6zZQJgz5eEAAAMAAQAAAwBkDxgxlgEABmjr48siwAAAABhzdHRzAAAAAAAAAAEAAAAWAAABAAAAABRzdHNzAAAAAAAAAAEAAAABAAAAwGN0dHMAAAAAAAAAFgAAAAEAAAIAAAAAAQAABQAAAAABAAACAAAAAAEAAAAAAAAAAQAAAQAAAAABAAAFAAAAAAEAAAIAAAAAAQAAAAAAAAABAAABAAAAAAEAAAUAAAAAAQAAAgAAAAABAAAAAAAAAAEAAAEAAAAAAQAABQAAAAABAAACAAAAAAEAAAAAAAAAAQAAAQAAAAABAAAFAAAAAAEAAAIAAAAAAQAAAAAAAAABAAABAAAAAAEAAAIAAAAAHHN0c2MAAAAAAAAAAQAAAAEAAAAWAAAAAQAAAGxzdHN6AAAAAAAAAAAAAAAWAAAEfQAAAKIAAABNAAAAPgAAADAAAACYAAAANgAAACQAAAAqAAABBQAAAFcAAABcAAAAYwAAAO4AAACGAAAAcQAAAFsAAACLAAAAbwAAAEkAAABVAAAAaAAAABRzdGNvAAAAAAAAAAEAAAAwAAAAYnVkdGEAAABabWV0YQAAAAAAAAAhaGRscgAAAAAAAAAAbWRpcmFwcGwAAAAAAAAAAAAAAAAtaWxzdAAAACWpdG9vAAAAHWRhdGEAAAABAAAAAExhdmY1Ny44My4xMDA=\" type=\"video/mp4\" />\n",
              "             </video>"
            ],
            "text/plain": [
              "<IPython.core.display.HTML object>"
            ]
          },
          "metadata": {
            "tags": []
          }
        },
        {
          "output_type": "stream",
          "text": [
            "\n",
            "SHOWING VIDEO video/openaigym.video.11.2356.video000500.mp4\n"
          ],
          "name": "stdout"
        },
        {
          "output_type": "display_data",
          "data": {
            "text/html": [
              "<video alt=\"test\" autoplay \n",
              "                loop controls style=\"height: 400px;\">\n",
              "                <source src=\"data:video/mp4;base64,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\" type=\"video/mp4\" />\n",
              "             </video>"
            ],
            "text/plain": [
              "<IPython.core.display.HTML object>"
            ]
          },
          "metadata": {
            "tags": []
          }
        },
        {
          "output_type": "stream",
          "text": [
            "\n",
            "SHOWING VIDEO video/openaigym.video.11.2356.video000600.mp4\n"
          ],
          "name": "stdout"
        },
        {
          "output_type": "display_data",
          "data": {
            "text/html": [
              "<video alt=\"test\" autoplay \n",
              "                loop controls style=\"height: 400px;\">\n",
              "                <source src=\"data:video/mp4;base64,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\" type=\"video/mp4\" />\n",
              "             </video>"
            ],
            "text/plain": [
              "<IPython.core.display.HTML object>"
            ]
          },
          "metadata": {
            "tags": []
          }
        },
        {
          "output_type": "stream",
          "text": [
            "\n",
            "SHOWING VIDEO video/openaigym.video.11.2356.video000700.mp4\n"
          ],
          "name": "stdout"
        },
        {
          "output_type": "display_data",
          "data": {
            "text/html": [
              "<video alt=\"test\" autoplay \n",
              "                loop controls style=\"height: 400px;\">\n",
              "                <source src=\"data:video/mp4;base64,AAAAIGZ0eXBpc29tAAACAGlzb21pc28yYXZjMW1wNDEAAAAIZnJlZQAAFNptZGF0AAACrgYF//+q3EXpvebZSLeWLNgg2SPu73gyNjQgLSBjb3JlIDE1MiByMjg1NCBlOWE1OTAzIC0gSC4yNjQvTVBFRy00IEFWQyBjb2RlYyAtIENvcHlsZWZ0IDIwMDMtMjAxNyAtIGh0dHA6Ly93d3cudmlkZW9sYW4ub3JnL3gyNjQuaHRtbCAtIG9wdGlvbnM6IGNhYmFjPTEgcmVmPTMgZGVibG9jaz0xOjA6MCBhbmFseXNlPTB4MzoweDExMyBtZT1oZXggc3VibWU9NyBwc3k9MSBwc3lfcmQ9MS4wMDowLjAwIG1peGVkX3JlZj0xIG1lX3JhbmdlPTE2IGNocm9tYV9tZT0xIHRyZWxsaXM9MSA4eDhkY3Q9MSBjcW09MCBkZWFkem9uZT0yMSwxMSBmYXN0X3Bza2lwPTEgY2hyb21hX3FwX29mZnNldD0tMiB0aHJlYWRzPTMgbG9va2FoZWFkX3RocmVhZHM9MSBzbGljZWRfdGhyZWFkcz0wIG5yPTAgZGVjaW1hdGU9MSBpbnRlcmxhY2VkPTAgYmx1cmF5X2NvbXBhdD0wIGNvbnN0cmFpbmVkX2ludHJhPTAgYmZyYW1lcz0zIGJfcHlyYW1pZD0yIGJfYWRhcHQ9MSBiX2JpYXM9MCBkaXJlY3Q9MSB3ZWlnaHRiPTEgb3Blbl9nb3A9MCB3ZWlnaHRwPTIga2V5aW50PTI1MCBrZXlpbnRfbWluPTI1IHNjZW5lY3V0PTQwIGludHJhX3JlZnJlc2g9MCByY19sb29rYWhlYWQ9NDAgcmM9Y3JmIG1idHJlZT0xIGNyZj0yMy4wIHFjb21wPTAuNjAgcXBtaW49MCBxcG1heD02OSBxcHN0ZXA9NCBpcF9yYXRpbz0xLjQwIGFxPTE6MS4wMACAAAAB4mWIhAAz//727L4FNf2f0JcRLMXaSnA+KqSAgHc0wAAAAwAAAwAAFgn0I7DkqgN3QAAAHGAFBCwCPCVC2EhH2Olc/N/wery0DAgHIZ+lU95QHOA4YAACVuDl8e/y5CZ4v+Jlz4/VkKRYujiXE/Q8apZA8THDyZf+16aT0jerM49LZdHnS6nPv0J1SLBCkbZ29fiC8PBn0kq8FkVc6G98O76CwAoJ94oxo6oXwWl/Y9M7dk+MgIAbPsOTPYsPPRjn0Dxk2rS8tV0dRJpgJab/mo/TmFByHVwYrBc1Lo7VF6fE68ABtUXThRd7PSNE1XLRZVHq4HfmnjazsD8wklhbBPEbA6U5ZIAKCxqFCPNlV/ddq339/9En0psQAfEXSoVfkoIt0zFWVK0B8iB4ASRZUKacQ+5b9B8gPQAyp9Oh5MwuqevC4AZLMfZKJLem0CsJwv1gmqbnn8ibGMJp/uhZJokHiflfYIQm9QXhOPIuK7FpxAXgbqLK0XJFmdU9mMUGhLm0/Itz/MTd79ncWZDjz7Es6i3V1E1RXxGuwgthZqx4jQ10U0o0AV1qWFumAKJis7jRJKRkXNe8+oNJHFJVBLv5egduxnZHdLbP1iuBDFN7+ADFKTp5e2nAAAADAAADAAtZAAAAtkGaJGxDP/6eEAAARXHMl6zgDmHvqR1WuIzzzuyO1setgIlOXBCycCOpA5ff/BzEhPJih0c9DlQ8+Z4USuOWHC8v1xogsIUmX25boQemh2GFZ6S16FQDwg1C8xzkbcUU/b1kORg7mHnOL/JOD3LVYi2WJpGPHHP5mvrElRal3kKqlDMjux0UMHZrfqfo/uK6QpXWnTdwP15aRbhiSslOOL1bIMcvA9OGBAVFrYanrZ0rEmCDTAi4AAAASkGeQniEfwAAFr5LsJd5an3M75ApQUKNLb1rJaREhABfGejD2kEgAHuZ4rmyFrNDCqMhrq9cDaHAyGwRl3snQEjAANO5WJ8jLAfNAAAAPAGeYXRH/wAAI59PAwzZQh30FKk3R2vEcyUKYOhrdDDYtJTKWDZbaIkgv+omHZ8kugAAAwANioky2KoB+QAAADABnmNqR/8AACM9zWybsvuClk9weg+hzX6fi0ZdDVRm6MHIg662AAAoBFObpXhAb0EAAACGQZpoSahBaJlMCGf//p4QAABFNnFhWfIA5h9wtDT4M2YJJ0pz0SuINWG7BHuSZWlTqlysU269qgX8h9Qm6lryMwo5p8Dmiwf++LoAiZ8AHND06ls0QDGJzv7rNUTUfXZn1tsVxOgIpOPnpOeRf6TJ8UBkHi/pQXuL38rpIQc2aMzASGpg3TkAAABUQZ6GRREsI/8AABa7lipADivrDVzU8AckEI+X+EdmsDob+x5Hm2Sc/ezq8k55I6xllW+cFHYxdyKfNfE2VQXrVchqacoZIbk/gAAAkyecEf/SqAiZAAAALgGepXRH/wAAI7i4P+PlB3lQpDf4wB6va08cDJxB27aKpV0HUAAC/BOP3J8IDfkAAAA0AZ6nakf/AAAjo+rbgLvzlndgUC6mk4xWtEpkz8xMVcLH26j4XxQQgAAAAwF+lbdh4ywGBAAAAOVBmqxJqEFsmUwIX//+jLAAAEZC5LqgAAdI8iKAtW7VmRrVtmgW0tXet5mtJbcdDMO+HT3zhAT2U2yTSA63Rn3chcVrBjXSM/kOKmt/uBfacKVa9pHHBDtF7pt89IoAruI/ZMy4CaSd+ZuTGTaRJ5aVDBYWf08xMLMxAD/7xrhhDgB3rQ1mdZzAiaw8PpqtjH/i1wGy5KvcwQxSWLGzuBXQXlMdCA1ioAWpAl24YByPm16Ztbhy0m954I00cnHlohsD7vnwufcqzG9hbyq+NbNo+f+z69UAyCMcZFFCZjypjfHnXuOAAAAAVEGeykUVLCP/AAAWs0zHgBusYjjEXee59nN/LoUFY0FGPlCGmdkZOX44CweyPIktA6i8hHkcVn8RH8cW9vQccIi1qB767ZgAAAMAAAZpWOYjVPCBJwAAADYBnul0R/8AACPDF2ipxtVtioTxHda89S89gHkTGxho3WiKP8UffpXquVquwAKWZSLGcSMsEbAAAAA5AZ7rakf/AAAjkrupNyKn2Ct2I02+FL9BtXZV9wYYgFLSPIxWOCL5Sy2XAAADAAADAAAMGEIMsB+QAAAAkEGa8EmoQWyZTAhf//6MsAAARgLWIwA6QBSlcC7pEq94CW4TuHIJGXLESEnfXvUZQteeKFJrgX1P+GKeOJg6J8ZfofC83Yvmg70m+yX3a69RCc1ah4fOSEqpQf7mMsq5NXWKyEX7eA+jKxgrJNOZ0WG+258cmFfvKS9nNtgbOOmOuugSSGClEpxUro2XOhcRPQAAAFdBnw5FFSwj/wAAFmw9kmEx37x6KeUunhh7DTfN/FpDDOJnLDB6dzv0jc72DSOQxdGAG1lXWU1k5nrTPoj5ZQ50SlR8eTR5c3/8hQbimZeerQrHtOKoCpkAAABGAZ8tdEf/AAAjwzv6Smg65gzBg95pFgW/qQNLh3l+DX4+IXEv75UzbxmmTO9MkQcJAyEG1diay+5h13dW99wyP7HspVAVMQAAAEEBny9qR/8AACNEBWRf1YXyREIS4R086xRvAAmzRLx+9bcBnhld75AB7KPXzg8c06zN1Z6lY9SXj3yb2WIAeWCBgAAAAGtBmzRJqEFsmUwIX//+jLAAAEYUcNHtTvZaUinv/tZuzyjvh1ego94ujLeC9pQXuACrf7g+k0wAtWBdmqqXxXR9eL9yiQKruIODZ5pD95RqkPGmNTzWDwK8X9SHmlRCDP1oELVM5WD7BEOw2AAAAFpBn1JFFSwj/wAACG2K784R7r7PNrguQxz2FIAdA/Idph49djjXEQC2YM/ipe2V9IzQAs/dH+vGf2p+EKoBsfBAIm9gW3cnBmGikEWazut6+vteCW/ZPaeECTkAAAA4AZ9xdEf/AAAjrDlkG16YgpWS7Us1bfWPCZZt3PwsgPJHpSFn6f6DM1ou+gAOgDATJ8aTbdWEDjgAAABQAZ9zakf/AAAjvxr9kMNmiuO6Mg8i+0TtusoNbbre0DN4roLO86dsADUZ3BrVmn0bBeEx2hK5Cd/l8NsdBvHayPDH9murLS+9JuW2PqVQI2AAAABcQZt1SahBbJlMCGf//p4QAABFb517oAIxhNTXcEyDk54HebsG5HBYtHWPv/4w/7j5fGP0RT7wzK8CG1THaS96BBW4RgfgTozx7AFPSrc7kg9gMKUz6RclqgpliDkAAABsQZuZSeEKUmUwIZ/+nhAAAEV7xm+QBEPJnFijWUWXk7SCY5Kwhe687YpPrtteIWaHuB5+Wr2QoUBCZL+RK5uLVgymS5933O3A8PwisQyvDl4+fA38ymJpbvArTVmCBqGxnwz7ytFWnNoE7A2IAAAAVUGft0U0TCP/AAAWwFaQ3BXtkiG84tqc2GqOSQURFY11tLLHemvyesQiN5bnMu6uFACZmdfRhjbllB9q7+CQO8OcMmAQ//crVYbn6qAAIbYIURvhAk8AAAA6AZ/WdEf/AAANf09qpcjx9PYkfKwx14zkHJiImBaO/ZodeGe9COE8sjaDn6gAAAMAAAMAYhFPaVQFTQAAAD0Bn9hqR/8AACO/Gv2QwzX7diX0DAyvNNnCClhREn50h+rwB7glExrvEHTY+6Lao5cAAAMAAKCxYntKoCpgAAAAhEGb3UmoQWiZTAhf//6MsAAARjEsRDogAj3paKl6W8MBD1338KfY2bGnZJ9Ac+D6VWKQV3a/Kjn7LP3SHnZnLX3Kg/9YlfJ3cRlY/5dD07Oa0Ivm5JnlpPssFLuOztB4vba2fXYEoA1y/6HK8WeIxy9ynuJr4wjJka+ZNOVT3URltfNpqQAAADZBn/tFESwj/wAAFpWS5b0qqb6f/2gyBgW1GLkNhHmrYkoTWvz9ZYz4iMwbr37IDAySpsDuYqAAAAA1AZ4adEf/AAAjqenbUkCNbXqon0G4Fwcnw9UhIWQAJwz8O8kiMZvee//Y3nSFdJeiq0ggISsAAAApAZ4cakf/AAAjsewGuMJwzFDxADZcs4YYNji0LlvJbYG+1RRf5HFAD0kAAAB+QZoBSahBbJlMCF///oywAABGAtpZwAcbUl5ohuDaBJW4L5q1apFbOjx0A9puonSCWDTepSYKPYLaKfq+7QOTkvE7oiLjLTeDCb4bnX3HfRhFr/PlgswE2A3fAacUeMHsaZZKHPUzXDr3CGbbDAtI1B/gBjqjPimKGedPYjVaAAAAYkGeP0UVLCP/AAAWs0gstm98AFuBKcgocq0us9NTyG7KtuK7ZTElakASEQhpBft6Eiy39tZtoO7rWKP7ELfo5DhqTmgBZd4z9ueXCoOA4vbUBhQDwxI8gRQoLda0+hiSkgTBAAAAMwGeXnRH/wAAI6v4a0qrNGuyroc/tvsvvRTMScp9urM5ERoBNn/9kmuMiLtpPH7umGx3zQAAADQBnkBqR/8AACOeee6iO4FxUAFoz3sb+n2MADxol43rT0lxtGk8YvBSTMTVtuafhv8ix+RYAAAAwUGaRUmoQWyZTAhf//6MsAAASAFFJVUh7A1z0AHD9xDenk1/4gRZPFd6wJcFvnONBloJYd6CWop3UsZR/vvVKwezqYJF9C+U4ayqasQKWnT3dI72CLLeyzuzO6nPmhTkSytDNjwH8qvt7Pjzxq4v0ebUhW/TCFx4+UauULrgGNty/mNU46Z7GZC6LyyGZGFBrUTsafORPWzA5p3EdZ/5kFWPm8rj4eGYumPE+C8fE1T7T6PaydmGTOckLxA1ZLxGhW0AAABOQZ5jRRUsI/8AABdMRY50s/3sIcwgjRiCR1qcWpgxTQj5l+u0Pxa6JY69/Y5hT5E2JZOfJKQAbPX7mTKV4i9wteR6xMjl3Zq36LiUnMIwAAAAMwGegnRH/wAAIqxCRPzlggYvNdvGGmoGja4zQlXecQABNK4QadV58mCoPshUuph8s+P9MQAAADkBnoRqR/8AACS+9HYSQAbrsQlwontGBW3IR0mPpLpFUFdZukivUJ38lUfCuu8cQ7De1mNuIc/1AtsAAADgQZqJSahBbJlMCFf//jhAAAEU85zzLD3GfOl6tAAWiD1P1JIjvENNzKs8CnoZMNg+X4kG79/jUx0CW84oI9r0EtSpfmk+87iqmYHkKD8p18HsPqJ+GXM784m/RtZ1WZ05m6x79qjYQdd8JAKWBY0xdGA4BN/eWH1zYbHK/bK9k0o16L2UMTljR+UW+yILIZ1QCTH/QkFpM93sf/JcwBw4OAeeWwYYF6ScoAJPULANDTKB5GPg1/SEPJxlms2DL2xo/MpIE0+foA2I8PzsiaZKMM6DvTJdCmuI1afV109h3DkAAABgQZ6nRRUsI/8AABdLW3M/2xCoFq0ax7vYyM3Qb7Q7mrVvGMzNyhajdnafeulZuq2hqDGqYGoX8sKX64XPiyS03ATZg0Xx6VJ9e54rRAC2zR3diGNKQVg5LhQLjMfH3/+BAAAARAGexnRH/wAAJMCWgazLTHiRoqcFAHcuWh63tt4uxAmPLK9IMNu9rg1L7ewACcPXzOs9mbfgaGdhmJRFV8nv4bCg72fAAAAAUAGeyGpH/wAAJL2TTHABHmMZpQciP3ScPZtAhdzXDKxeYG/wKyC7qGIVYq28OC3Ksg87eV3ewDhwdRryVe8irVyvHUzTHsoetDdBMuOaVwbgAAAAiUGazEmoQWyZTAj//IQAABBZ1thr6h7aCsuuC/JgpD4ka2iAGrgwAJYON+m/nLGYIOloe7w0JbiQC2X5/a438yelqamVK0rDmVdMT5Sx9ZUxTOyCIiUKn9KNpQPb0UDw7OIRyZnJl6dIGF1Si+60BHyJ7rTigVRUsKCBcUIHFc/IUVfr5N3aFtIxAAAAZ0Ge6kUVLCP/AAAXOBAhgXgCtSiFN50dGTHEjJwkmhlhg0pJuqfhHK0hl+Fatw/VlCOr43rnMM1pbkFwj/YvTiyD/n48e+YZtpBQzKcbKuuoizTIMxwG4/tskP9X/qBo7Jbn2l6Wq2YAAABNAZ8Lakf/AAAkmZygMeJOhBO7MSj/kh5ZwhWhczuYgYiigk9WA5yNxYbnt85QkS8mBuMl6ziB1sV94WGbOgBR7ZlkCgA/jgPB5IOfMbgAAAUnbW9vdgAAAGxtdmhkAAAAAAAAAAAAAAAAAAAD6AAAA4QAAQAAAQAAAAAAAAAAAAAAAAEAAAAAAAAAAAAAAAAAAAABAAAAAAAAAAAAAAAAAABAAAAAAAAAAAAAAAAAAAAAAAAAAAAAAAAAAAAAAAAAAgAABFF0cmFrAAAAXHRraGQAAAADAAAAAAAAAAAAAAABAAAAAAAAA4QAAAAAAAAAAAAAAAAAAAAAAAEAAAAAAAAAAAAAAAAAAAABAAAAAAAAAAAAAAAAAABAAAAAAlgAAAGQAAAAAAAkZWR0cwAAABxlbHN0AAAAAAAAAAEAAAOEAAACAAABAAAAAAPJbWRpYQAAACBtZGhkAAAAAAAAAAAAAAAAAAAyAAAALQBVxAAAAAAALWhkbHIAAAAAAAAAAHZpZGUAAAAAAAAAAAAAAABWaWRlb0hhbmRsZXIAAAADdG1pbmYAAAAUdm1oZAAAAAEAAAAAAAAAAAAAACRkaW5mAAAAHGRyZWYAAAAAAAAAAQAAAAx1cmwgAAAAAQAAAzRzdGJsAAAAmHN0c2QAAAAAAAAAAQAAAIhhdmMxAAAAAAAAAAEAAAAAAAAAAAAAAAAAAAAAAlgBkABIAAAASAAAAAAAAAABAAAAAAAAAAAAAAAAAAAAAAAAAAAAAAAAAAAAAAAAAAAAGP//AAAAMmF2Y0MBZAAf/+EAGWdkAB+s2UCYM+XhAAADAAEAAAMAZA8YMZYBAAZo6+PLIsAAAAAYc3R0cwAAAAAAAAABAAAALQAAAQAAAAAUc3RzcwAAAAAAAAABAAAAAQAAAXBjdHRzAAAAAAAAACwAAAABAAACAAAAAAEAAAUAAAAAAQAAAgAAAAABAAAAAAAAAAEAAAEAAAAAAQAABQAAAAABAAACAAAAAAEAAAAAAAAAAQAAAQAAAAABAAAFAAAAAAEAAAIAAAAAAQAAAAAAAAABAAABAAAAAAEAAAUAAAAAAQAAAgAAAAABAAAAAAAAAAEAAAEAAAAAAQAABQAAAAABAAACAAAAAAEAAAAAAAAAAQAAAQAAAAABAAACAAAAAAEAAAUAAAAAAQAAAgAAAAABAAAAAAAAAAEAAAEAAAAAAQAABQAAAAABAAACAAAAAAEAAAAAAAAAAQAAAQAAAAABAAAFAAAAAAEAAAIAAAAAAQAAAAAAAAABAAABAAAAAAEAAAUAAAAAAQAAAgAAAAABAAAAAAAAAAEAAAEAAAAAAQAABQAAAAABAAACAAAAAAEAAAAAAAAAAQAAAQAAAAABAAAEAAAAAAIAAAEAAAAAHHN0c2MAAAAAAAAAAQAAAAEAAAAtAAAAAQAAAMhzdHN6AAAAAAAAAAAAAAAtAAAEmAAAALoAAABOAAAAQAAAADQAAACKAAAAWAAAADIAAAA4AAAA6QAAAFgAAAA6AAAAPQAAAJQAAABbAAAASgAAAEUAAABvAAAAXgAAADwAAABUAAAAYAAAAHAAAABZAAAAPgAAAEEAAACIAAAAOgAAADkAAAAtAAAAggAAAGYAAAA3AAAAOAAAAMUAAABSAAAANwAAAD0AAADkAAAAZAAAAEgAAABUAAAAjQAAAGsAAABRAAAAFHN0Y28AAAAAAAAAAQAAADAAAABidWR0YQAAAFptZXRhAAAAAAAAACFoZGxyAAAAAAAAAABtZGlyYXBwbAAAAAAAAAAAAAAAAC1pbHN0AAAAJal0b28AAAAdZGF0YQAAAAEAAAAATGF2ZjU3LjgzLjEwMA==\" type=\"video/mp4\" />\n",
              "             </video>"
            ],
            "text/plain": [
              "<IPython.core.display.HTML object>"
            ]
          },
          "metadata": {
            "tags": []
          }
        },
        {
          "output_type": "stream",
          "text": [
            "\n",
            "SHOWING VIDEO video/openaigym.video.11.2356.video000800.mp4\n"
          ],
          "name": "stdout"
        },
        {
          "output_type": "display_data",
          "data": {
            "text/html": [
              "<video alt=\"test\" autoplay \n",
              "                loop controls style=\"height: 400px;\">\n",
              "                <source src=\"data:video/mp4;base64,AAAAIGZ0eXBpc29tAAACAGlzb21pc28yYXZjMW1wNDEAAAAIZnJlZQAAIyxtZGF0AAACrgYF//+q3EXpvebZSLeWLNgg2SPu73gyNjQgLSBjb3JlIDE1MiByMjg1NCBlOWE1OTAzIC0gSC4yNjQvTVBFRy00IEFWQyBjb2RlYyAtIENvcHlsZWZ0IDIwMDMtMjAxNyAtIGh0dHA6Ly93d3cudmlkZW9sYW4ub3JnL3gyNjQuaHRtbCAtIG9wdGlvbnM6IGNhYmFjPTEgcmVmPTMgZGVibG9jaz0xOjA6MCBhbmFseXNlPTB4MzoweDExMyBtZT1oZXggc3VibWU9NyBwc3k9MSBwc3lfcmQ9MS4wMDowLjAwIG1peGVkX3JlZj0xIG1lX3JhbmdlPTE2IGNocm9tYV9tZT0xIHRyZWxsaXM9MSA4eDhkY3Q9MSBjcW09MCBkZWFkem9uZT0yMSwxMSBmYXN0X3Bza2lwPTEgY2hyb21hX3FwX29mZnNldD0tMiB0aHJlYWRzPTMgbG9va2FoZWFkX3RocmVhZHM9MSBzbGljZWRfdGhyZWFkcz0wIG5yPTAgZGVjaW1hdGU9MSBpbnRlcmxhY2VkPTAgYmx1cmF5X2NvbXBhdD0wIGNvbnN0cmFpbmVkX2ludHJhPTAgYmZyYW1lcz0zIGJfcHlyYW1pZD0yIGJfYWRhcHQ9MSBiX2JpYXM9MCBkaXJlY3Q9MSB3ZWlnaHRiPTEgb3Blbl9nb3A9MCB3ZWlnaHRwPTIga2V5aW50PTI1MCBrZXlpbnRfbWluPTI1IHNjZW5lY3V0PTQwIGludHJhX3JlZnJlc2g9MCByY19sb29rYWhlYWQ9NDAgcmM9Y3JmIG1idHJlZT0xIGNyZj0yMy4wIHFjb21wPTAuNjAgcXBtaW49MCBxcG1heD02OSBxcHN0ZXA9NCBpcF9yYXRpbz0xLjQwIGFxPTE6MS4wMACAAAACB2WIhAAz//727L4FNf2f0JcRLMXaSnA+KqSAgHc0wAAAAwAAAwAAFgn0I7DkqgN3QAAAHGAFBCwCPCVC2EhH2Olf8H/BKM9AZH/vorMgEgVdqHQ8zJM07id0A+KVBjDEh1pr4IETS6pWeLVoi1SnmmvipIb9ARsDnr49/6e193nHr4m+iW+CCgyHOu7XNrkaxLvBSl1lF7Ngo5e1rlgHExlwCucoo0WGbUFszYndjJqCwn3/IExsVwSWBFP5f3P0cCHGN3HIUgtJSq2CoGxPZAKJ41rLMnpQlq3y98UZD7kEJUaFiOcIDgT/GQj8cD/lgo96L4ESOGDvDB82dz9TaF1xb82ZGDVHcfycUFGbwxdBeAHouI1XEjYadzSjAOZCosPdUEj11AnV3UjIzFhTrN6/hIcWGOQEDelW+kpufqjtqErnbH7bxXEvrvgWO8fZe+7JVpZ+E/WCapszvtNLjcsYW70QHRmvO0Tn66IePnxTveP5htkIwQu91GpWqKLW1IZknYfU0oh7kt/fSBjQCbO0zwDARUhN6/s1W/A4ii+YpP0jWlQ9WvcacCzGVl+UKu+WLsqg9lqRWCgyLAp+/wn9bszTTTKABCQLOSLVIybJ9ISuI/CyKOemHsblixuBCGdFStDrAZ8yuMbeC+T0JyXt9iLVK5yPgYc45GwIlAAAAwAAAwAHFQAAAM5BmiRsQz/+nhAAAENT2sANpBpZz+OrZXW8CXvY0/lD0whmFdSzOMTpR0jpclWzJw49A3PPdOsVu/d6ry0CSjpB7YWFp92JU6KMWmwbNsVfh+omWAaQSC7ZkpTmrPc5OVS3/HPMuHl7ugg+FdTLyKotzrbJQCz5aaTIIkbgAhdXLG6YN0FojF/6Fm+BCXsDJcr5T2BWUPRW++O9m75j8AVEpEbo0PLfYztMUWsrKE5985ReimwdoAAAAwDNTNf1VTjxcp0njJKX2lrhV730gAAAAEpBnkJ4hH8AAAhxidynyphAtQCJtfqCLf81QbCiUPOQjXCaNi2rOnL6B5lh8SN3oShGKRir6qb6m26kaOPgAAADAAIF6f9TC2WNmQAAADYBnmF0R/8AAA160yMQAfQJmmFvMsX/OREwY6c6LMc7/BYE25vAAAADAAADAwm8ki8TXPhAOOAAAAAuAZ5jakf/AAANdPkFD/LGjQ/xvb8F+GAtXQbq+qTPJFitL/gAAAMDK/lpjwgdMQAAAKRBmmhJqEFomUwIX//+jLAAAEYC/SMAOkDEJkYgk0v5Vi51GhBsJlt+B2YeRoqkz1eepWZlIVm55Tz4rv0hLzVxmXQf+p9hF+07OK+k8z3y3nLIfwvAQMZFDDUlaXGQiOxKajgCxTnLBkYgdUT4P1UiSNhP4b46sPPyvSiM8p/VfnLG8NhYHpJnBuKTPWEUtWWG8f586yl+a70BBeQKnW4hnt7+7QAAADNBnoZFESwj/wAAFrxEqHrckWQhHE1wzDTs2wNHNxaa33XCJUrrTPDQIG+/FYeNRGbAP8EAAAAkAZ6ldEf/AAAFHPV52i/Ee4iQADNxLproRvn2RSqdr8/T4KaBAAAANwGep2pH/wAAI7HMDUqUzuJZVM+J0DZLAG4uafyw8N4+WFW4rl+ABMmfn1kJbckVH581GDKZngwAAABzQZqrSahBbJlMCGf//p4QAABFRHgXkAB0U7IxjykplUZhDgRsw223MJUYPRHUyIguAefaflGeeaBTxEOn8ySa4uu6c0awN2/tb/2qOoZx6MyluV2ZsGsnTe+Oma+8/BJgc3ynYNMKYKN8mixpWc5KwoLi0AAAADZBnslFFSwj/wAAFq06E2lNOLsEVJyMs91CiQaWqn6ReoLRRDP2X/7lYTDbhREW3aeC3+dd7ukAAAArAZ7qakf/AAAjvwQmbGdrwpAke1MxUdgqdCV8NygBMfjf3tQE9jsCB3zccAAAAFZBmu9JqEFsmUwIX//+jLAAAEYC9vJ6E0Kim3HMxmr0cHJ3pvbLxwUdPUV1JcJhMPNDBa38/jgAjVrhLrGyzTe92PRy+tT5QojT55vInocjIuz99QEbXAAAAE1Bnw1FFSwj/wAAFr5rqj/CmPSKfTPs10QdOI0FfS1NXw3rwd4gBbxtwBwttlzhgu/PQjVcZBORoex2wL9ktCWoJmdZp7gQWdXmfz6xUQAAACsBnyx0R/8AACPDF2Qp44HIS4qY3Bf0GEgHqIRX7fol0+Tua5wAkv44A3KhAAAAMgGfLmpH/wAAI72VwnilDYGDSHMWOKkaS02kXH/cR8UNWBRMB3x25bcoxLUSjjklXtuBAAAAdkGbM0moQWyZTAhf//6MsAAARhNe87gegCgF2ijcibz+/4ejXPYTuh2aRlDpdsUSdIXXYhnnftfRdtZzWsMayzgNgp2oYwpCQPmcSggiW4XJq/lYfxIWbBiPIfsMTmaJLtBpBCs2ZiZMSEFSOrE1+BbuXMGOIF0AAABEQZ9RRRUsI/8AABa1HMNE5gx4lWp4OkiAI/o1vBOy9epkevPxCyb79AvlPQuYnEwXYzScXUsWV7pJsNhjcSBZyP4LbMAAAAA2AZ9wdEf/AAAj1SEALCyvKK/gCHqHTS7ClyCPvPSxyF189KXAZ5Zdv4e8LqSOFHrJKAFlS+2ZAAAALwGfcmpH/wAABQ4Rq5lZBAC6gEIxwrhzmxmnmvV4PZaDzmMkZxMurcPrVjLa52FYAAAAgEGbd0moQWyZTAhf//6MsAAARnpvQa94PIx9dSFGZYoK7cddWj9VKWpYo6n1dz2D7ht0WFPVkTH6udJi3zeXz1175Jr26GDnEs9Pc8nqxRSDw64FZjMuWtcY/eRHolwZnULYz1faDAue3UD1dpwG5QqpDvQzl6yvWC1Zlg23l1HdAAAAMkGflUUVLCP/AAAWu5NqxELe2E+Aw3Ch28YAUUcFXlU4wXaBjMyT1IMGj0+1fDE/GcE3AAAAIgGftHRH/wAAI6v4W3gSnYwtQ/fun5k9C+86QCJCzllS2YAAAAAjAZ+2akf/AAAjvZVSi5nuhhgE7VKe44Q8NioNULDOxqVuSYEAAAB0QZu4SahBbJlMCF///oywAABEJU1t3EAHEdsKuJDlQga0mrha2DhfmIIhu+ocSNXp7YKBZ0HObRy2qor3UUbQra7ki2GuB+PXT1MFmmQ3LvLfRkjmz2RiE4fWYg2KONLY04sOOjYQuHPVs1Dk9ASI9yZbTsEAAADKQZvcSeEKUmUwIX/+jLAAAEQUUtM1ydR1TJnAENiprzqGYA3qY9Wag/pXHGsO9Qr6cPL+p1htg+j3n/a4Kv5yf2tCXyoguqVOg1owji+j+ayn/kyucoENcnntWuRUHjdrXPqtZySZoub/Qq9N03XivwepAH+9NeGpzoYXkxLHEPCW7Hxi9hC2v8nNB7LOdFW0s7U3B/+l6QCWtfxscw34zY+d7jZHaLVDa0PMXrvV7swnioWoDmABH/58PaAV3jRZ7jC8kfjT/Ht1wAAAAEZBn/pFNEwj/wAAFeONEHFktH4WitgxY2BzJX1GmY70MDhorhdWGJDXDGPa7DqFgX5stVNhKJT5SQMirOY6IxLDF5EjaeDBAAAARAGeGXRH/wAAIpiF22mRMjuWVDLghVgturMCJpGXec5/Zf/HRRRv74sxU8+LIV3kwIASvoXujb/PU9LmhG+25NoaKdtmAAAARwGeG2pH/wAAIq46fAAtcj4lbrwqU3uhA5S1GPnENfD4kOtD5Y9C/jSy2OMIe7iHJ+I4D4KfUcbjtJM2Wvgzoeh91WG2d23BAAAAh0GaHkmoQWiZTBTwv/6MsAAARBCT2JHAFaKUqdxOypJBeOOj/RcudAphFYjXOukIHFDIFCXK+fAvONkzld30sFctyBFkGEFeObJ461c0ZaQjPe+YKmY3btoJEXzEoaWJtTM70uge4Zy2v5SG7ctzPFavlHZph0I0enaEUYb8Duul8+DptcdcTwAAADcBnj1qR/8AACKeFr9hzBIDMtnu44y409tINOZRoJ5X9iGDgjvP3KXqGkRUV335V+pxTKEOYLgsAAAAmkGaIknhClJlMCF//oywAABEEKL9dWAI839PHnWFznCZWJ/N9gVagy97XwU0NLWJfmr1EsuFDWnbp+cLe7KGjicMUDWeBjv9ybJXDtG8FbsJJifq3f9x7unsVTWpR4iWESpOcsMkd/Q9KaimFHwMNQ7qVxOP6JBJCbZfedN9eem8qa7QOudT6MKf9LdBenbq2Oaj9t2UCBjebHAAAABhQZ5ARTRMI/8AABYh2dPgDjn6AbTULyU9jWXshVlpfCIh/4B+ykmab9STrUMzv/GuTQlmtP/MTdp1eu7OIOI8+GkrKtSBE1mCJXrldKLkhM6P3DakbwynHDgf15rJ8gK2zQAAADcBnn90R/8AACKpzo0W7FgBy9Af267O8cyJLiUz2eafxeZ+ccFEbpbHLecoP3uGso6oy01gxwtuAAAALwGeYWpH/wAAIr2WhAhPtNtmkJf0ZQPDYdzmkZ6E1AzZnJqJIWFkCKgv41DkgfwZAAAAb0GaZkmoQWiZTAhf//6MsAAARHpvRUpcSVzAAcWpQp6qfmPOql460weSkVDTdbHieIJ6I6Dvievx1W15e30jdP+9iIF1By6gd8ufRxjraubpilA52KSH2X9WbqcrTuSJSTj5zdyCif22o9pLV1megAAAAENBnoRFESwj/wAAFitfddP7+XZ+25qZ9ylm54HKVNO6V6JGEhntwjoq5nGmYBz2Pev8NdNRH5YHTF38+xJmmnTSRpc/AAAAMQGeo3RH/wAAIqnOeiPTXYHvDW+uHka3FYjmZff6gOIdzfnZDhedLsTpg99ycbE22YEAAAA+AZ6lakf/AAAisZJIdvBMzFXvDS4RihEV2VzUAVF+FOBtc6Mg3xaFK5uiwi36JvgMIcSmuC4sfDtYDUdq23EAAACRQZqoSahBbJlMFEwv//6MsAAAQgDRQ7ACLS2OXKpOSmefvmdd9xsiL+E7toatTtucrPwktmhbdBUIe1ZRQVifkg2pP++eSXVt0e2oZbBF/Iidr1WmAxh/obN//ItW8KnEVV671FlrwHCcLdzxTcDQHVV1HGySfECFupU0dILSbFtcUH8dgDr5/sS0n3MJOjjDuQAAAD0BnsdqR/8AACK+7QWF36ePfZdGen8eyHcnfy90g0WUdNlmW3fBNUB1ihXcpLaqlZiKFfnozUt5rIruqMFgAAAAgEGazEnhClJlMCF//oywAABEem8/3P6QW7ACwFKjqcDQ8xzt7wmmnCEIWsb9v8OW7m5bTE+w7MYELABOien9WJZnrNoUaLqoZ7DQZ3TK9vdA0K+Oxumasb4TkqzHM7WcdTAfPi7l6mgnuJ0w4/MkizflKBlDgXuPIpjrD9UlqkoPAAAAUkGe6kU0TCP/AAAWJRNb+HOvzUm/bgGlyVlnzdCAJnRhpNrTdm5PeHse2HYHsS4HOxyyzId7VRBJPh0dHTJopTlvYrw21eETw2xPJPl2OU3ab0EAAABIAZ8JdEf/AAAiq/Ok8iFjYvqJe/3ZKAolqVsPloEZmrmE3K7BLxvuRSAZ2l5hsbOpXAdPRv3L6yxAEQARdzUZOLZUkIXPt1D4AAAATgGfC2pH/wAAIUPCKbnmlfFcTh2JnLFGEcTkj91VsMgyC9KIyGAkUChksugM50Ed+PoXFrh3+3bcZ67j4uS0ACZrQ1AAo8a3p13cN8LegAAAAJFBmw5JqEFomUwU8L/+jLAAAEIQnWspg7fQCaUIigLmoCVUhZ5EieV8ws3DIQe4FpZnOXmEl8hYY0LLm0FcoPQjF7zxD8SireuVKDxNnf/99sBjyZzmJLPYCML/FzxrhU/18uUEcFZLRrArpmes7iIM0aLUBwlw6DIQBuzJVb+xX41aQDixNRNJE4W/Y+mIIOhBAAAATQGfLWpH/wAAIa1yQO/LACL2jt3RcfBby5kppfzRTu09mj6kd6y6f1b1we9F33vRzOEQNvO1Y7HoUj0shD56xPlYSAw/5my/G+mPxgnxAAAAY0GbMknhClJlMCF//oywAABCem891J9YPaDYYMED9uL6676HqcvZc8+Jp+dv4oyShIuXrnnccsY4zrQAlkvKNh/3STioU8wRWyIShRBKHKxEIJjP0/F51FgyyX3UwI1QCNRCRwAAAFhBn1BFNEwj/wAAFZU2yvMKKXT3esJPZyqDfHizc6Qp4lpE2L1MI/8aPMuzLpLYj12kTYFjrgy4AFs6k1M3D0ePBRAHRJilzvG4LLgzb18zkh8xqQKRJkuOAAAATQGfb3RH/wAAIalAfooQ1v7Oyl1bfAhO/ihU36n+vxiQZEiZtlSwaLhnub8STGFY1Q+8AJlZuAGBIW3UDHCh52C7BxgL80H4kKylCvRgAAAAOQGfcWpH/wAAILydEITKmiuQiKuPdQrseWpOvu4omDoSZhI6iZTZOH32I5+eX9SQ5L6QguNuaBcioQAAAGhBm3VJqEFomUwIX//+jLAAAEAQq5sglWQAdOBDFEE9i07b7INYPnON0Ey/fTetsFb936VI/RDM9iVERn2UZVmOGi1PvYeo1nJCEbgKiV9dqLSCVwEmdB8CFfE7IwT7I7aicfFEc7K/QAAAAEJBn5NFESwj/wAAFQIu8QthqvMAAtmo2RLgo1s92rtSGlternkC4IfdI9lIUV3amCaexnV5Qx4w9TivK/pa16VrccAAAABGAZ+0akf/AAAgrUXmcN9xGq9/GShmxIYuQ4q5FwRC6gLTxnUGNpzHtAAhr2KEGjqUS3VcK9lHfCMJsMMLZaJ9H9YQ+lwO2QAAAI9Bm7hJqEFsmUwIX//+jLAAAEB6b0F7hvZ2qAIjli+q9TOOBJEwwSUBCgBUUXC3SDAYogYeKq97bi3F/FBuuWlLdCI09nLWoF9l8w3VfDggYWCXlo07JhKgn1hlVVsT9ElMvp8DDcquMbCVDlJ0bbj3doyRgXdi7Z/zuit1JgoOc5S4w1FRc3JDa9L/XLq9gAAAAFZBn9ZFFSwj/wAAFQICw+N2NF4ec3glw+Xqb4NhgabIakFlY+q9MRSoF43MGMAAnbZUHMcN7KUvwdBWueKYQYnhQODKOOanvo4HEfziU1Ze/3j76aJzPwAAAEYBn/dqR/8AACCuLn77BY5y3JvBh+iyXnP5l92at4XUIc3V2Yhmi8PePiECQs8idwPLLyoJF3IKAD34w+RA4vUxdb8d5PdNAAAAXkGb+UmoQWyZTAhf//6MsAAAPl0KxeuZc7JZkCu9SApWlTyln7BLnfefA3FepBkifxtVzX7JHrJydFa3hE8pM+r5qD2g8Hv9wxl9mPiWsAl+X9v6NRgh2Mmp4zVMESgAAACoQZodSeEKUmUwIX/+jLAAAD5rFVTjgIREAcfmzYFP6OguxY0c40nWSAt3roKCCiNWU9R3p/caNiIs8EbuqFMUCLG9I2oP/rX4t7L3FCJHDYOVneRi0kXQR4AzSMDT+B0yWs8Ssr7sHeer3ssoeJwE2+/+lcuE95oS0XJPNzOnaTXLqg+pqbbCn2VWi7Olvv3iG4Ao2uaiIx/3lauFIrSKjsNXvEJrCWeRAAAASUGeO0U0TCP/AAAUfmWu0UAIx5QL9TA8RHDCKrIOQZMQ2QvB6VkcaoRViRDlsDjZ9/FSxBuqECtes/pBYr88jvRYtUhwJtdn13QAAAA+AZ5adEf/AAAfribbneNUb8KodQihqtacNvnol5r7LW/kYHDMAJo6OQ1s1r7S0/pd920VD0cdjUjKapmBHgMAAAA4AZ5cakf/AAAfxmNnqRMe/yyFQ2IdkRPCAaWk+4AW2eb5Gmmmk+6QSj0CQ+Qfxs+jp6RaAF2PlmEAAADQQZpeSahBaJlMCF///oywAAA+axQ+3oNnJPwGQBfjAyAYtAbdDshTgswSqdMS0z1c2L/7L5ke0LDPHJAiQmyh+65p11ZDJpyPfd+BP8M0p4Ca6WdqCtoHRuXrpzCcO11gHm9STqaHAoZm/jOSWyGj9oSvQxNxXbcOSB6SnSXVfmo71XdsAW475RNFqDbFjYyiT1zIhindiQkqYhpWkS7HzpRb+dtoHDnrhpV/nCLkm7ixpDwN5Mq4BcUUnzMm0KdxJ+JUUvFYsSZO7fCTb0aCGQAAAJNBmmJJ4QpSZTAhf/6MsAAAPrwnPdSokwA49qqaXxN/Gq9NuC+UUfGP+s0R2QXCvIzqhMwznrs79h99U9IsyMtbCl4/g8Do5YK4aBVMEWb5bOwECwikcQSA5s9g9Cy/ssGul+MajzAanFPkFnDXzmXVQeww7+NBxoUwJRJBYTwnJl3IgmP+vQ1So3bXGoKpkyDG4ZoAAABTQZ6ARTRMI/8AABR1JTjhDbF7PcJk2K2vce5DJFSIPpWRyThLEmG4ZBjhqfyZFd4K0STIDP2c1lyrY/NORjZy/d9ACsGsu6K3kNIpAjEZzd6ib0kAAABOAZ6/dEf/AAAftnL8Q8rKjBx8DlhMCjS2gqcXmnSzdhAL6e7+k7MM04pePgYlLKzJG/w+xA/GngUNHT41EAKjPOxaRd0zXQoFlJYDk33AAAAAQwGeoWpH/wAAHwjtsLk1ta66J0kh0wKWEIhV8GltOLOTWEv/psZVjhEw7wfXOIIlX/xOOSA4AI4oeaMZEUEDqMkld6UAAACLQZqkSahBaJlMFPC//oywAAA8/G3KACn9XJHC7hfBCoBQ+ukiHe678f9PSH+0NP9n5XkUGWHn1ufRoT/y/GXD5mzVr33sZIP6MbQh0rwu9GPIeM0yJ44PmLmxt+JmoSBoXZudA6b/7dcCZbZ9AeKX8+8olIGcnIXKmtLeo2ZAHEX1WikM8lwRfHVjgAAAADoBnsNqR/8AAB8I7bCsep+hLX4LFOL1g51EndaFsXLaYnAamrA7H8yZ5nrBGjeIeTjJ22M5mPOmlUj1AAAAn0GaxknhClJlMFLC//6MsAAAPPx0EgMAOi9WkmaP00+MGJd3JyCR6hfDkOW2EOFV5iA1SErjCDcyqwcTzuu7/1JKSgcD1N+2cJcpGG2v+1DNamPh3T/Yi/o6rfBKvQg9siiUZSDVUclAGLO51l5/bu+CyLwpwtqmZq4ILp8FsraSkCHbG5NZ0HYRJdE/ejqhu8oJrTy2zFaVtNmV+IsD+wAAAEwBnuVqR/8AAB8V2KzCTydsAqzVKSaUMSDIqhIyxXdGc0HaPyponbwLsRfpb1BWCzSQAAfwBnyGgaPoXCAenla0s7wRAPXmwHFOqvmBAAAAcUGa6knhDomUwIX//oywAAA9XCdE8kPpStqIQdIg72jT9wSg6EY5GUJ/NgA5RoYb+5LhgZfwY9u2E6HYV2PpldbMspBhARhC1JxRnLwvVcg7v6jkZxRsiIPWtS828xn1/qt2IHfaLJpq/XXAu/2O+9jZAAAAYEGfCEUVPCP/AAAT4i6VQqO9T2fAQQq2DlCqeIpihNMylZrIb5BCPr84zzkRIjBTj7SgbE/GNKfFyCsPq4nrCpaNkKnSeKOufy2CcUdT+tTADW4srenVuGlEsP2mjvb5gAAAAEYBnyd0R/8AAB8GpwiAHQqaNO9xnB8dgkgXzwbvCJjdLTVqJEmCWXXWlzmcivz1zT1HgT0c7Ta1261Cl0fAFBorbSiwvne0AAAAOgGfKWpH/wAAHwyLsER0LDScbwXKcWTxaZbHWbCciZFjsgiThg6HCKsj7hp2QIYwiTnD5yRCNrY1W+cAAABpQZsuSahBaJlMCF///oywAAA7qxW2uQAOPC7BVhojEV5n09NxW3zQpbIU806DWnCZQuVDCYimiXHsbf+hmmt7edIgE7ditnlIbW0Q3UdF4k/Al2jsmj639xLbvE1WEsTY5gByj9FGNFpgAAAAQEGfTEURLCP/AAATYGY3TjujqncviEGjAUMVGHYG378ugxp1ApVEfWx3dBYmop6mhhpC1bYvbRYzQCzWnULA8FgAAAA5AZ9rdEf/AAAeVsVHv9kc+yOUBperMmNcZBLCGaeS5P8lyOVwbeMpkXkOuYdbEwOzSVd+KtT9a3NdAAAAPQGfbWpH/wAAHmZjTGg8Sl9txpD3cDZhtJoVCjMDo5CiiS7Hcszha7KyoOy1l2dF7QrCj3N08xeT4r4IyC0AAACLQZtySahBbJlMCFf//jhAAADnp5/nb20KnVIPcPyT1KeHjq9w+uy01CdUhteG+nxflDVpvbbktjL0IWG+82ACMC30ckVT/wOKF7gqtcr0hG+O+5oyEMv75lD5XpNZlF+EAHkAYLecnLfH9RYYdyYrno3EXJx4bu4+j2OLNJ9hUC0YmwAed1EfweaNGQAAAGFBn5BFFSwj/wAAE1WoAySAQi93sACo9RU+e98Gito8C+T7vCVKXpNo7+UtLrAUIIj/6m1LezXu4gQsSUOrwvSrOrjX7INtZTJG99BnDEW+Vryh9PkkfqBvTsUpthosn+5TAAAARwGfr3RH/wAAHlakDF7CGDE7uqk4PdGXT541bajh5GWjWYXUHzfFDQOA3SqkbgEIAzxJWLmdk2WrjEpmpWJyXoHtiS6r4b/AAAAAQgGfsWpH/wAAHmZjNT/H9Xm6QoqfvgbDMwWhBKqz6TGmM58wDbXUI8QO7e8Jdx+8XW1ewuvQ+vRHhjuZk4kuo2tdIQAAAG9Bm7VJqEFsmUwI//yEAAAN36IrZI4Xcjn7c2hCEAZZjxhYoM9N1yPCEg/fWlr0XlVBtGSFeDxv/yAdIidn1MBMOVhtWTwXZSFIXGC67pumCnhgrP4QAPfTJyAEjd9MTlll3DxXPlv+/0gmngHUBbwAAABkQZ/TRRUsI/8AABNX6IOHYgZqgCt4gW2jiv18bclEgTCmjyDFim+zmTPW3IqgkMYNXYnh2Wu3Z1jf3nCVWeB6/Y1LBpB8cZURNZlY6flPaGFQMWIni+MyEdGf8yDScgJno5DKBwAAAEgBn/RqR/8AAB5cdY5GdWogSwc6fBXzeU48kZHC6wQPRw0nkdeH90sUHRmW0eI4aqWX7laFQfddtPRkX4AFkczf87eFC27d10kAAAb7bW9vdgAAAGxtdmhkAAAAAAAAAAAAAAAAAAAD6AAABrgAAQAAAQAAAAAAAAAAAAAAAAEAAAAAAAAAAAAAAAAAAAABAAAAAAAAAAAAAAAAAABAAAAAAAAAAAAAAAAAAAAAAAAAAAAAAAAAAAAAAAAAAgAABiV0cmFrAAAAXHRraGQAAAADAAAAAAAAAAAAAAABAAAAAAAABrgAAAAAAAAAAAAAAAAAAAAAAAEAAAAAAAAAAAAAAAAAAAABAAAAAAAAAAAAAAAAAABAAAAAAlgAAAGQAAAAAAAkZWR0cwAAABxlbHN0AAAAAAAAAAEAAAa4AAACAAABAAAAAAWdbWRpYQAAACBtZGhkAAAAAAAAAAAAAAAAAAAyAAAAVgBVxAAAAAAALWhkbHIAAAAAAAAAAHZpZGUAAAAAAAAAAAAAAABWaWRlb0hhbmRsZXIAAAAFSG1pbmYAAAAUdm1oZAAAAAEAAAAAAAAAAAAAACRkaW5mAAAAHGRyZWYAAAAAAAAAAQAAAAx1cmwgAAAAAQAABQhzdGJsAAAAmHN0c2QAAAAAAAAAAQAAAIhhdmMxAAAAAAAAAAEAAAAAAAAAAAAAAAAAAAAAAlgBkABIAAAASAAAAAAAAAABAAAAAAAAAAAAAAAAAAAAAAAAAAAAAAAAAAAAAAAAAAAAGP//AAAAMmF2Y0MBZAAf/+EAGWdkAB+s2UCYM+XhAAADAAEAAAMAZA8YMZYBAAZo6+PLIsAAAAAYc3R0cwAAAAAAAAABAAAAVgAAAQAAAAAUc3RzcwAAAAAAAAABAAAAAQAAAqBjdHRzAAAAAAAAAFIAAAABAAACAAAAAAEAAAUAAAAAAQAAAgAAAAABAAAAAAAAAAEAAAEAAAAAAQAABQAAAAABAAACAAAAAAEAAAAAAAAAAQAAAQAAAAABAAAEAAAAAAIAAAEAAAAAAQAABQAAAAABAAACAAAAAAEAAAAAAAAAAQAAAQAAAAABAAAFAAAAAAEAAAIAAAAAAQAAAAAAAAABAAABAAAAAAEAAAUAAAAAAQAAAgAAAAABAAAAAAAAAAEAAAEAAAAAAQAAAgAAAAABAAAFAAAAAAEAAAIAAAAAAQAAAAAAAAABAAABAAAAAAEAAAMAAAAAAQAAAQAAAAABAAAFAAAAAAEAAAIAAAAAAQAAAAAAAAABAAABAAAAAAEAAAUAAAAAAQAAAgAAAAABAAAAAAAAAAEAAAEAAAAAAQAAAwAAAAABAAABAAAAAAEAAAUAAAAAAQAAAgAAAAABAAAAAAAAAAEAAAEAAAAAAQAAAwAAAAABAAABAAAAAAEAAAUAAAAAAQAAAgAAAAABAAAAAAAAAAEAAAEAAAAAAQAABAAAAAACAAABAAAAAAEAAAQAAAAAAgAAAQAAAAABAAACAAAAAAEAAAUAAAAAAQAAAgAAAAABAAAAAAAAAAEAAAEAAAAAAQAAAgAAAAABAAAFAAAAAAEAAAIAAAAAAQAAAAAAAAABAAABAAAAAAEAAAMAAAAAAQAAAQAAAAABAAADAAAAAAEAAAEAAAAAAQAABQAAAAABAAACAAAAAAEAAAAAAAAAAQAAAQAAAAABAAAFAAAAAAEAAAIAAAAAAQAAAAAAAAABAAABAAAAAAEAAAUAAAAAAQAAAgAAAAABAAAAAAAAAAEAAAEAAAAAAQAABAAAAAACAAABAAAAABxzdHNjAAAAAAAAAAEAAAABAAAAVgAAAAEAAAFsc3RzegAAAAAAAAAAAAAAVgAABL0AAADSAAAATgAAADoAAAAyAAAAqAAAADcAAAAoAAAAOwAAAHcAAAA6AAAALwAAAFoAAABRAAAALwAAADYAAAB6AAAASAAAADoAAAAzAAAAhAAAADYAAAAmAAAAJwAAAHgAAADOAAAASgAAAEgAAABLAAAAiwAAADsAAACeAAAAZQAAADsAAAAzAAAAcwAAAEcAAAA1AAAAQgAAAJUAAABBAAAAhAAAAFYAAABMAAAAUgAAAJUAAABRAAAAZwAAAFwAAABRAAAAPQAAAGwAAABGAAAASgAAAJMAAABaAAAASgAAAGIAAACsAAAATQAAAEIAAAA8AAAA1AAAAJcAAABXAAAAUgAAAEcAAACPAAAAPgAAAKMAAABQAAAAdQAAAGQAAABKAAAAPgAAAG0AAABEAAAAPQAAAEEAAACPAAAAZQAAAEsAAABGAAAAcwAAAGgAAABMAAAAFHN0Y28AAAAAAAAAAQAAADAAAABidWR0YQAAAFptZXRhAAAAAAAAACFoZGxyAAAAAAAAAABtZGlyYXBwbAAAAAAAAAAAAAAAAC1pbHN0AAAAJal0b28AAAAdZGF0YQAAAAEAAAAATGF2ZjU3LjgzLjEwMA==\" type=\"video/mp4\" />\n",
              "             </video>"
            ],
            "text/plain": [
              "<IPython.core.display.HTML object>"
            ]
          },
          "metadata": {
            "tags": []
          }
        },
        {
          "output_type": "stream",
          "text": [
            "\n",
            "SHOWING VIDEO video/openaigym.video.11.2356.video000900.mp4\n"
          ],
          "name": "stdout"
        },
        {
          "output_type": "display_data",
          "data": {
            "text/html": [
              "<video alt=\"test\" autoplay \n",
              "                loop controls style=\"height: 400px;\">\n",
              "                <source src=\"data:video/mp4;base64,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\" type=\"video/mp4\" />\n",
              "             </video>"
            ],
            "text/plain": [
              "<IPython.core.display.HTML object>"
            ]
          },
          "metadata": {
            "tags": []
          }
        },
        {
          "output_type": "stream",
          "text": [
            "\n",
            "SHOWING VIDEO video/openaigym.video.11.2356.video001000.mp4\n"
          ],
          "name": "stdout"
        },
        {
          "output_type": "display_data",
          "data": {
            "text/html": [
              "<video alt=\"test\" autoplay \n",
              "                loop controls style=\"height: 400px;\">\n",
              "                <source src=\"data:video/mp4;base64,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\" type=\"video/mp4\" />\n",
              "             </video>"
            ],
            "text/plain": [
              "<IPython.core.display.HTML object>"
            ]
          },
          "metadata": {
            "tags": []
          }
        },
        {
          "output_type": "stream",
          "text": [
            "\n",
            "SHOWING VIDEO video/openaigym.video.11.2356.video001100.mp4\n"
          ],
          "name": "stdout"
        },
        {
          "output_type": "display_data",
          "data": {
            "text/html": [
              "<video alt=\"test\" autoplay \n",
              "                loop controls style=\"height: 400px;\">\n",
              "                <source src=\"data:video/mp4;base64,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\" type=\"video/mp4\" />\n",
              "             </video>"
            ],
            "text/plain": [
              "<IPython.core.display.HTML object>"
            ]
          },
          "metadata": {
            "tags": []
          }
        },
        {
          "output_type": "stream",
          "text": [
            "\n",
            "SHOWING VIDEO video/openaigym.video.11.2356.video001200.mp4\n"
          ],
          "name": "stdout"
        },
        {
          "output_type": "display_data",
          "data": {
            "text/html": [
              "<video alt=\"test\" autoplay \n",
              "                loop controls style=\"height: 400px;\">\n",
              "                <source src=\"data:video/mp4;base64,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\" type=\"video/mp4\" />\n",
              "             </video>"
            ],
            "text/plain": [
              "<IPython.core.display.HTML object>"
            ]
          },
          "metadata": {
            "tags": []
          }
        },
        {
          "output_type": "stream",
          "text": [
            "\n",
            "SHOWING VIDEO video/openaigym.video.11.2356.video001300.mp4\n"
          ],
          "name": "stdout"
        },
        {
          "output_type": "display_data",
          "data": {
            "text/html": [
              "<video alt=\"test\" autoplay \n",
              "                loop controls style=\"height: 400px;\">\n",
              "                <source src=\"data:video/mp4;base64,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\" type=\"video/mp4\" />\n",
              "             </video>"
            ],
            "text/plain": [
              "<IPython.core.display.HTML object>"
            ]
          },
          "metadata": {
            "tags": []
          }
        },
        {
          "output_type": "stream",
          "text": [
            "\n",
            "SHOWING VIDEO video/openaigym.video.11.2356.video001400.mp4\n"
          ],
          "name": "stdout"
        },
        {
          "output_type": "display_data",
          "data": {
            "text/html": [
              "<video alt=\"test\" autoplay \n",
              "                loop controls style=\"height: 400px;\">\n",
              "                <source src=\"data:video/mp4;base64,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\" type=\"video/mp4\" />\n",
              "             </video>"
            ],
            "text/plain": [
              "<IPython.core.display.HTML object>"
            ]
          },
          "metadata": {
            "tags": []
          }
        },
        {
          "output_type": "stream",
          "text": [
            "\n",
            "SHOWING VIDEO video/openaigym.video.11.2356.video001500.mp4\n"
          ],
          "name": "stdout"
        },
        {
          "output_type": "display_data",
          "data": {
            "text/html": [
              "<video alt=\"test\" autoplay \n",
              "                loop controls style=\"height: 400px;\">\n",
              "                <source src=\"data:video/mp4;base64,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\" type=\"video/mp4\" />\n",
              "             </video>"
            ],
            "text/plain": [
              "<IPython.core.display.HTML object>"
            ]
          },
          "metadata": {
            "tags": []
          }
        },
        {
          "output_type": "stream",
          "text": [
            "\n",
            "SHOWING VIDEO video/openaigym.video.11.2356.video001600.mp4\n"
          ],
          "name": "stdout"
        },
        {
          "output_type": "display_data",
          "data": {
            "text/html": [
              "<video alt=\"test\" autoplay \n",
              "                loop controls style=\"height: 400px;\">\n",
              "                <source src=\"data:video/mp4;base64,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\" type=\"video/mp4\" />\n",
              "             </video>"
            ],
            "text/plain": [
              "<IPython.core.display.HTML object>"
            ]
          },
          "metadata": {
            "tags": []
          }
        },
        {
          "output_type": "stream",
          "text": [
            "\n",
            "SHOWING VIDEO video/openaigym.video.11.2356.video001700.mp4\n"
          ],
          "name": "stdout"
        },
        {
          "output_type": "display_data",
          "data": {
            "text/html": [
              "<video alt=\"test\" autoplay \n",
              "                loop controls style=\"height: 400px;\">\n",
              "                <source src=\"data:video/mp4;base64,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\" type=\"video/mp4\" />\n",
              "             </video>"
            ],
            "text/plain": [
              "<IPython.core.display.HTML object>"
            ]
          },
          "metadata": {
            "tags": []
          }
        },
        {
          "output_type": "stream",
          "text": [
            "\n",
            "SHOWING VIDEO video/openaigym.video.11.2356.video001800.mp4\n"
          ],
          "name": "stdout"
        },
        {
          "output_type": "display_data",
          "data": {
            "text/html": [
              "<video alt=\"test\" autoplay \n",
              "                loop controls style=\"height: 400px;\">\n",
              "                <source src=\"data:video/mp4;base64,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\" type=\"video/mp4\" />\n",
              "             </video>"
            ],
            "text/plain": [
              "<IPython.core.display.HTML object>"
            ]
          },
          "metadata": {
            "tags": []
          }
        },
        {
          "output_type": "stream",
          "text": [
            "\n",
            "SHOWING VIDEO video/openaigym.video.11.2356.video001900.mp4\n"
          ],
          "name": "stdout"
        },
        {
          "output_type": "display_data",
          "data": {
            "text/html": [
              "<video alt=\"test\" autoplay \n",
              "                loop controls style=\"height: 400px;\">\n",
              "                <source src=\"data:video/mp4;base64,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\" type=\"video/mp4\" />\n",
              "             </video>"
            ],
            "text/plain": [
              "<IPython.core.display.HTML object>"
            ]
          },
          "metadata": {
            "tags": []
          }
        },
        {
          "output_type": "stream",
          "text": [
            "\n",
            "SHOWING VIDEO video/openaigym.video.11.2356.video002000.mp4\n"
          ],
          "name": "stdout"
        },
        {
          "output_type": "display_data",
          "data": {
            "text/html": [
              "<video alt=\"test\" autoplay \n",
              "                loop controls style=\"height: 400px;\">\n",
              "                <source src=\"data:video/mp4;base64,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\" type=\"video/mp4\" />\n",
              "             </video>"
            ],
            "text/plain": [
              "<IPython.core.display.HTML object>"
            ]
          },
          "metadata": {
            "tags": []
          }
        },
        {
          "output_type": "stream",
          "text": [
            "\n",
            "SHOWING VIDEO video/openaigym.video.11.2356.video002100.mp4\n"
          ],
          "name": "stdout"
        },
        {
          "output_type": "display_data",
          "data": {
            "text/html": [
              "<video alt=\"test\" autoplay \n",
              "                loop controls style=\"height: 400px;\">\n",
              "                <source src=\"data:video/mp4;base64,AAAAIGZ0eXBpc29tAAACAGlzb21pc28yYXZjMW1wNDEAAAAIZnJlZQAAIWVtZGF0AAACrgYF//+q3EXpvebZSLeWLNgg2SPu73gyNjQgLSBjb3JlIDE1MiByMjg1NCBlOWE1OTAzIC0gSC4yNjQvTVBFRy00IEFWQyBjb2RlYyAtIENvcHlsZWZ0IDIwMDMtMjAxNyAtIGh0dHA6Ly93d3cudmlkZW9sYW4ub3JnL3gyNjQuaHRtbCAtIG9wdGlvbnM6IGNhYmFjPTEgcmVmPTMgZGVibG9jaz0xOjA6MCBhbmFseXNlPTB4MzoweDExMyBtZT1oZXggc3VibWU9NyBwc3k9MSBwc3lfcmQ9MS4wMDowLjAwIG1peGVkX3JlZj0xIG1lX3JhbmdlPTE2IGNocm9tYV9tZT0xIHRyZWxsaXM9MSA4eDhkY3Q9MSBjcW09MCBkZWFkem9uZT0yMSwxMSBmYXN0X3Bza2lwPTEgY2hyb21hX3FwX29mZnNldD0tMiB0aHJlYWRzPTMgbG9va2FoZWFkX3RocmVhZHM9MSBzbGljZWRfdGhyZWFkcz0wIG5yPTAgZGVjaW1hdGU9MSBpbnRlcmxhY2VkPTAgYmx1cmF5X2NvbXBhdD0wIGNvbnN0cmFpbmVkX2ludHJhPTAgYmZyYW1lcz0zIGJfcHlyYW1pZD0yIGJfYWRhcHQ9MSBiX2JpYXM9MCBkaXJlY3Q9MSB3ZWlnaHRiPTEgb3Blbl9nb3A9MCB3ZWlnaHRwPTIga2V5aW50PTI1MCBrZXlpbnRfbWluPTI1IHNjZW5lY3V0PTQwIGludHJhX3JlZnJlc2g9MCByY19sb29rYWhlYWQ9NDAgcmM9Y3JmIG1idHJlZT0xIGNyZj0yMy4wIHFjb21wPTAuNjAgcXBtaW49MCBxcG1heD02OSBxcHN0ZXA9NCBpcF9yYXRpbz0xLjQwIGFxPTE6MS4wMACAAAACBmWIhAAz//727L4FNf2f0JcRLMXaSnA+KqSAgHc0wAAAAwAAAwAAFgn0I7DkqgN3QAAAHGAFBCwCPCVC2EhH2Olc/N/wery0DAr7n7tCi8vgdx6jvVQSAA6577Q6nbHtNk7dY0N0y1Q0CrEhZpyw1Xa4wulabToE/vS6tUIqvLvXm4TEW7L98YC1qRatCK03XuaZ1U00qvFtPuMEOkRGiAkjc7yV6FM+q9lAlxdC4XcOaKfThAb+3EbSx6EHbX3hubfvmGBkEaamq2rn+vPDGOASwAHqOiX2eoWyB+/dO/1DS5a86StyxRAOT43ZxyNWdWZlM4lw8XVOJmLEXe7HLi/nayaAe18ZZ9wrhG/WIjylGq+kV5NStyw6Jq22xBRg8hAtC0jEAvkS0Jsbo2tY9GpIPuejWW86It6LEN054gSPjmel90uztnHwS2Lxo8ynlCjrWlRMjnhl0SYP72jt5fTj+hJ8YfGUXUWQKb+NSLN6e998gIHWvgx0EqbkvbC4eJrJ1rOYu8zqTrW8V4JdM1D54c+7hOmJgzOv/RNfH6oYR3RkF3K+pgAAZnaq0YQsdfxWPg3/oNH+So//aWwU1RDNDNLdH8hBXYBs5DkTC4J4oFZ2XoSJo7ApLk+aYsTmCR/+c9elNvC1j3QqClk8JBj+1o4+1SManBtgbgDdIAAAAwAAAwHFAAAAzkGaJGxDP/6eEAAARXWEemACLw8E0tCuDSuIEytURS7P8OCIUEFgPLQdMuUkGP4X0Y1UMR+O6LorXwdNrwYrgX8xY749TK5m1lkwRySP73ZrmgyaSlC3yWAzvDnimwvM/TS2GBH9lONzQ4AshcIOHgnO2R7tkreP7bXZAv5usibJUfwEJgh3s08xB5/vZ/5YcVfPZvUQ8yziUGCIyufVfaS5FeiqRc9nz8HkWFSjRLjygomlt6LtVx1ofR5O2AAAahuNZoXU8yNuSBAQvh7+AAAAVEGeQniEfwAAFr5LsJYwdUAJNJCjQVgH1oD8g9MgNgoUn4BLOXRlgoEnrqfMxAnFB7oJNi8gqPs6h4xWJz1Xx9FdobjXbnwuAAADAALNL59elUB3QQAAADMBnmF0R/8AAA2H0GdgfwnH//gCHHaso06YTihd7fq+P28mQ9HyLmAAAAMAADQshzDCBJwAAABAAZ5jakf/AAAjvwQnYbu3rGgPtrnnRHACBHIjAC3AF/1fERxQ1orZ1oAyCLmJ7eEUFv+y84AAAGsHmlVwpVAg4QAAANJBmmhJqEFomUwIZ//+nhAAAEVvMiG6rAF+M3sRR1r/OKHoT/vGhvB7RvoQrYvVgR+k9x6DMqPCnKhAxhfy1BOSDdv5zc0wvPk+eTd+i3syi6DRBATEDUgTnbORrvD8d0ZQYOYO3mb5C7rgtPMGQY62A2g+Fp+6fzPybdWNXnkmgPbQfDSiLOFaYSpKm5vdXsLoRglshA512LMw6HhK8tmAPDnMtflV02OhMfaH108G4FRfm6Opws84gaDOMRUhFoSx3YesVl6HjDmB1w5lO70UrZ0AAABTQZ6GRREsI/8AABan/B1bRyzmWqub8HGj41mJ+HAAnF42iGB+cVC+Y+OY//8oZkMdmd+RwlPOUnLdF01XOyq13WDPZAsGqTvHj6VIHMnWFKnAxYEAAAA2AZ6ldEf/AAAjt/eQQAcWDXjE82uC1eIF1nBA6u0qHWyFX4967KI/uX/J/2y6HETHyFNpDNLxAAAANAGep2pH/wAAI7I02dg4Emz6J5yKk+oRYAEqCpa4X0LcBx6tJK9v7H3ez7Skn1VtqbEUDpgAAACeQZqsSahBbJlMCGf//p4QAABFRYekAHJtBikubQ///W1nYW23PbcVrHnaJetvkpyO1l3OMYww9lW1/F4s4Kxwv49vxYfAKza7FXlPaIhKbZS6QvokAuTiIG18aga32LvWB0yG8kTkcRalcc+cO2PJ9tDqx/ZsoRQ2sIdN0NanoxvjCrqUX5bXe8uv3xSSao7GaXkwKu4u1X3nx5B0IcoAAABKQZ7KRRUsI/8AABa1Kzm0p1nzYDpiU0BIYXBKGqo2Utw5oicG7e/xgp4AD27KWEExF51BW2SrY+2noGftWz2LpK5Al5y96qaTUEEAAAAuAZ7pdEf/AAAjwxd3FXleieK5n7fnf/RcQIABpPFhdaamNJlhM9sjNfpW2sQFJAAAADQBnutqR/8AAA2CMQUIqDVEoo4vBeXU9cOz5GRnLkvoWXNpm2O8D1YLaJXj8SGXvuBF55GAAAAAfkGa8EmoQWyZTAhf//6MsAAARgNvtwByjShGq79Pruibexv29m2/4Ne0q0W8lMncSdAVD78qsUqLPutkLONx8sTI/LgvTQugX6w8asMP/klX1t2/+WFQw6KISZqVSCoBd95AQJHw/gMZNVKeaGMSxg87vsNsJcvcJf4NW/pjoQAAAEdBnw5FFSwj/wAAFq6a0AHE2AhG/F7QhUcrA+Cte5ORls+Ayfb7WV/i277HIb8D+ylRC4DYjtrDrAK7u1YibXI46uoMtnK7oQAAAC4Bny10R/8AACPDF2QojgJfP6bSLCjix5LAzPFwawHdl+g2btYEtK9RVZwmopcRAAAAOwGfL2pH/wAAI7Iq96rLJBN1u5Fw6Uc5D0EwZrfybCV6wAB5t1jDMEHoOqjvij4kcFcD6rPKBsEBUANSAAAAfUGbM0moQWyZTAhn//6eEAAARUFGgAIuvxNgP1P4vbiM56ZIJ6M/FIDwJaRthC5fkVej6h28Zl62CezYofTukmxIZk6EtAKUXWA7qQ1ExRMuxsK2Z8obG2M1ueZf1gg6CxAoilPqw8WRCcAm/7QiNw8W5G+92sh54WKLHIG+AAAAMkGfUUUVLCP/AAAWvE1eFwiYt6PpuMlZVePcq1co+arWS0ZoVAAKaiXR3WXbGg0gNmfBAAAARAGfcmpH/wAADYJOxIWtUi4MV/thgfMsEFGPzDtHflX8sRfjJjAAHqmPo31hshkSChkuynlGblKXxPI6P0gru9mVw/lQAAAAfEGbd0moQWyZTAhn//6eEAAARUNt8yACJXsw4GNtMrDKCTzYfu/BK04UPSdD4erMIarA6Ma77JSN3u7EWINcig5SYHyhCmU3VqeIBXf6oXbrhiRS0FlVGW2vVxihrnDQdnYPJo9YGBRt25nIuLTyS9YynR34iUgXc0TPeAwAAABPQZ+VRRUsI/8AABbAWgII+klQEBiUTx+f7w7ltGmlPpgeoDnBElspPBVtjABIt0B0/qTwJ320U5x96iQSaAVc/n1x4rPLH9QQvzvzyc5fbQAAADYBn7R0R/8AACOr+Fk8Twn8l0EWifpUvxl3ewA3xhidaYRsM74M5QeBiN5x7qygBAMQV1F6E/wAAAA5AZ+2akf/AAAjtz8ck8n8d9nZ2VvSKIYuci9LSFv0npyD5FKnk+qjECbHYy/2L5DT4gBL/9GV/1gNAAAAsUGbu0moQWyZTAhn//6eEAAARbptrgnW+wowAcYxqMOuG6sedGLwzQJD8Tm1zkMfL8kVZ1QYQqbZj1gyYwA+H7DHszGI5TtB2VMylKen1v5ctL9LZc7qiOdpsijIgz7zHVvvyfK5KBE5vWIveYbp+iF4Q3tFhnEO93EWhH99nj+aL81es2LAPxlXewOv8t6jVHxGLIxW/UrpyNWzos/wX8UC82xSNCQT9ZZVU9kY13vz4QAAAF1Bn9lFFSwj/wAAFrKfBRG8kAHEIg2eZ+T2MtoaFSR2PjNvwxhrF+UW17NIet+cJqm7fnHIOOBv9CLbkqenBzS0JvkNH2+ny9ZpoJvRRvDbFxltEAc+x4W1zh4X5Y8AAAA9AZ/4dEf/AAAjqa6THff2onLDtqR1Yv9OdT9Hkh6HwY5GtWnryEOGNr3K4mJk3pL2ARneZ4ABOCyXkNgRYQAAADkBn/pqR/8AACOuMUSH0EQdbk30fV2pTr1OkT1AOl45PNNF2OafwYBvPDCPvlz5DM99QAfemKIU+4EAAACGQZv/SahBbJlMCGf//p4QAABDUONFuABxZf1bnDWsJ3sD+PrNbIf6bz4XUXIRUaB0bt9s9xFL91gFeMRXvUOQttUcQ3NUP/69UzOSSc1Y6MbP9ap3FNhBosG3Ad9NJPi3NBr4vdbDRaJ9T8381oaY7mMULmBeqo69O4OYeu7RFsb4SPfLp18AAABeQZ4dRRUsI/8AABYrYHLgAV+WjaBLsmJugH7FdyFKR43JtOx1PGZBu5uWBq6PmTQLoWdDY6trkcXNiBlZrdNUlBK3lRQ3RsZq3ehVszGJX6ORbMsM1IP87PqguluhswAAADMBnjx0R/8AACPC7LSIOdljmexgy+IhxLTpSiQerTEBFJfmgjkM0CxhE9S5cNLFyeZ+LowAAABPAZ4+akf/AAAjx7FT7MhhlMp4LXZtXIH6S6d9iSdKyuiyuazbDHPV+tTah/EiyXMBNCGt0AE6lTckbtVP/JCXs9MLYc4RX6W67SzNgc6WlQAAAJxBmiNJqEFsmUwIX//+jLAAAEQA5PJACMLeCVh4p2u9x6Bl1Ihmu8WVmDWch3/Y3RO3oqOWSx2YOUpAtzObAAhn008nF2msGL+UpCqUv+wvkH9ND7q/cDz2kPpfAbkY44Vtjx4X7C1+wOnHpC1vcmWv+vJ9n+pbdQ3UnGnqVr4pH3f54bzA9lAmHu1zsTPdYYOaXdqTab1LaNK2ATEAAABMQZ5BRRUsI/8AABa1GJBm7kLk7YRjkJ/0UCOJPf0UaJt41iUvivvqbCkcTAeA0o2B11Jkrnbjh6Woc4ZH+FHyhV+WX0D12nGJRxu/gwAAAEUBnmB0R/8AACOsGtWAC1l1WPiRKNVfj3FNlwDL1XuA/QSCkzWhAGfYFdaKscDW+Fr8qHiCvPC19i3dqQCJCd+Sv8m6zbcAAABNAZ5iakf/AAAivZZhESraC0T89lAg63R/J0EPXXgYPvh2GbqS0zuJ+Eaao1jLS8qEMpzXAA/boK9N01a5Xz/kVj552cOpqr6sO1n7zbMAAACTQZpmSahBbJlMCGf//p4QAABDb0PGOxIAiQ1qlT7zS+8yGhE5HLaQGG/9jfSoi7OEwGTmLfalLd/9P6uwEHWCfWEsZMYG60Ew3WMqP9HsduLJFe7s2ZffRy/D3vrU8uGg3THvf0nWQR5CxDTHLW8/CTsM/x7H+IAd22K1K/myExM8arLd2GPD1jY9RqUMeocINDbtAAAAW0GehEUVLCP/AAAWMDF94hID8do6r4ATOjGbMLwug+AzxwTgcpJBluCKO+duDJNMhL7zKCgZ9yLzji4fZXg9NOp7mg+COzYAjqNvurfrSB1+ZR8Kn72J0IXpbcEAAABJAZ6lakf/AAAinoHK11h1rQp9YEz5TEDj97F4JzJyvsvmeXDvWgO3iTADkOmsE0azoUCKpadcpf2m0q8dbagTwMMNd0alza3gwQAAAINBmqpJqEFsmUwIX//+jLAAAEQBT5LWAI1X1xB6PozkRN+mWxCUOmi1WGcnse6Tkg5fPyEo84yORKZfJlP7iRWv0mWm2HE2uoy1UhqOm9rKx/b2bKoea0IAaU5DgWDOCL9esKzOt7sHez/nVct1f0MbpWnMGY2sS5IWbyvouXu1rhN7twAAAEJBnshFFSwj/wAAFh0nG9r0NJlm0R0Wd7yBrcjsgThHgzpjVpsh2y5Hr/0ZeJe45lIIvBp1Sy+KQS6HHABc6W/xDegAAABLAZ7ndEf/AAAi1SEAIv8pOcagnlB+DfNStXT/xyLyrcnBObAyUmD3Wx8087MWYq///adcMkyWW1W5zu5A3Z9Vh+2BO/LjNRDaMQ2AAAAAMQGe6WpH/wAAIr2WAooA+yuMPz9tx0oN48s/KxdK5o8mOyTEPcBVJNXsVCRD4f2+KzcAAABcQZruSahBbJlMCF///oywAABEem9ID3jBqgCJgYjwwIXlyB/2tBvHVxKN0XMNfgyDK4OwlbRYNDSCiyKYIEvFuXACovGe7wtcNR82nN6id1Tc+nU3CE7p9ofOD4AAAABMQZ8MRRUsI/8AABYinwObnzQxxSHy55Pb8gjMPhMOdNnFDDwAm7C0hwdaGH2kZibQjQlQyYvgsgmokBkjOQorOZr/7PAFqq5NwJNU+AAAADkBnyt0R/8AACKpQGdAGZNalJ7FWijkAC6gEIxt3AWXxarXr/nfUdY9l4z15hl25mi7HOdKT6UR70EAAAAwAZ8takf/AAAisehhdDbibH8jmXqACKrNpj3DoL16Z/cdsTQ8+Q/2nu/sv/W7EJuDAAAAjUGbMEmoQWyZTBRMM//+nhAAAEFUoSYgADdgezpNIUxkElTPDLDR0kO6ryTmMXPKUJX6ViLIBWPrrn5tfKs8rpJMDzr1zi2fE6M4aF1JqnNuw/ZwcleGpkUaiV1pHcNtE7xMetN89B5V/WvNNfALOUr0WizNWS8Ix2z6ZjrWIzgmYsBFYqKXRGHTUuviJwAAACkBn09qR/8AACGuMvr9DE0tapqJ7MW8HssH3NqXmMLYQps9SsNo9fk29AAAAOhBm1RJ4QpSZTAhf/6MsAAAQgGfyWzJkl1Ol1b7/+bzoAW8dmOr+7E4g8QJIT9s0lo87ixuyQsfuAm/DsNy2xG8b7CXBI3HgEBkdoAsJvLBEOB6dvAMw6BZHjgnTFTXoZgjxpXiBnFvV1rKkXw+R9IHfvfqLLMP0Uvu7KFo8cgi/OZR1lXX9ZhF4+CAd3n/Xl1colFGUeRyhsH20nml5FH1Lf31CBMaNuweOukCG1vvgvVItVUye6fcMHQGjjBdySuOAqkVTJWD96nyE0fKxvjzslcqdWIBgEsaO6X829sN8XJQWkKiAqJuAAAAVkGfckU0TCP/AAAVTdVH5K2+B07gA/DwCMTW2YaQNw0VmVMTStt8lQSS2oYDSzl/eTqky6oXMNncCJkw98U/U49NM6AIEt5Q3JdavwzUohe18jhAnGNtAAAAMgGfkXRH/wAAIb/+6f1XRwrs/d/JGZBxhFiMWSUbMJ4UuyUZoufXArIzRQPeDojPqMqAAAAARgGfk2pH/wAAIdUhACLZvq5h7KFaEDM8kORL6rvN1DN13iiw8UFYpbnLco0T4dQagtjy2/ldZ2eFY/d9TcNDQL9sfH/vn44AAABuQZuYSahBaJlMCF///oywAABCFFc6gg8x0/yaAJfWStQe6PIqIHBUl4rjIxdwOOup7oXK/UfU/++rZ6a1MV4p76313wL+xrbi7fGaqSnJG1AUNzpUDRm8B0nMH24AJPah/ZJWVOF5NmVa2jWbYyEAAABSQZ+2RREsI/8AABWVDpCJj7Xzzf1ub+xLLZQr2PV0aBe9ex0n6MQD6+Y3acw5TickXax5XZmGHc6A3C4EAE5spWZgFYJvF0oDwZMYrBOj9gLjgAAAAEkBn9V0R/8AACG//msITFZIvDipURpNaIhNmoouaoZxYzDwpSod5pUrBSgSLLjcmieSPoPJAAft0FgW0A2NtOnS90VN32TwvixPAAAATAGf12pH/wAAIJ7uyoTOlee7d2fV/xHWb4Nhfo9OGpQ2LYjwZNGlqmSJu8AJltTLq9u6+o5Ovmzo/jZ2Bmh8dnaMHqS1s5T7qIz/17UAAACJQZvcSahBbJlMCF///oywAABAEKkbUOy3RgDjV6qbhHnwZ/UlKKF27Y2WM6vTaVXs3l9P62mKf2gGfrP3/qk1MsQX8CkMlkCvGUnDs3IZerwxbmbEALuktfT9YTwZiZqb7vTOM18myYgaVRggW//THJd6TZcCXqc9vTQ/Bvx/766Q6vOLvnHT/kAAAABRQZ/6RRUsI/8AABT61X1ExLG7x4cECN/WC5/lP5XJ0NAIpGOndeQsrG/NBy6TEKcOaDEM5ZRv17dQg6/TQRnTjIdS3NeGQAkQZshPD6BJtPyZAAAASgGeGXRH/wAAIKNqAs8IB7GkL6FKXU3IA/XxvIsR47Uwgay+uxuMTKVpC8a5S8X+jhk7N5fv34AE7dCtmL9DpUuX9gmLN8ApbR5IAAAAUQGeG2pH/wAAIJmZjEjUOj0o54xt21kCUi8SiarkgIMzwF8WIm4nR+d3gLvHHL6TzUACFNyzz+LabSzWILVY0mZMxzNbfkgdUB6fJ65d1vHkgQAAAHxBmh5JqEFsmUwUTC///oywAABAEJ1scN09ADolXwiGgTLr5jxHW3sRzs1Cp48g/kYR8WEkdBJhbtk3A3JryF6K7rDuYVPSStCf/6yzy8gpAQltJKY0qN+Uh7K5X0B7BUxFwewY+selnO8KpnEyTOLmOIDzI/MeJZcp+Kr9AAAAVAGePWpH/wAAIK1GQr0bamfTROkc2KzAfXljx23p1coC/oHSY8VO/dD7g94LGAAB7yWxpYEE4QjFV7DL/hgKB3i6pWQ3DorWJlUpb7ht1Lmkt2gKsAAAAF1BmiBJ4QpSZTBSwv/+jLAAAEB6bz3LrWD2LDVYUt3Py48S4MEr7u6Viz+a7fJtr3hFFKLUxIdeAsAstQARkeuD+71PAAdJXIOrj8C9AFUJQkj2hysHN+B8+IqREUgAAABNAZ5fakf/AAAgrUZCvSo3Odqrk66veWhI3Z3WWIlSdTAZcuUtywFR+79ACZWe8NovTV93Wo+snjJm+yHiw9k++unUlEeS5fZaL46KVmEAAADgQZpESeEOiZTAhf/+jLAAAD5cww4zgCJVCOQ0Igs+Mam+xvsQInkS3l62FnvOGoeID5y00h8gN5NweVK6x5drCzRuKAmuirs1j3EZuD2+WzIF/jslSdiIjBchJEZwInsf8sQmaaexl7qJYqNrIpi7QC2x2dXmyMOvVHcUi7IFAWB3JmbS3RhJU4/BvMlq47KrgO46DiklWc1+8dsHhomGoEF5a+QELxxF7kqoydQnLeuPdC0urGLugTyPXwTpVMX5h6NRAXBVFTx34+xJrECRYc+6BX6T0z/2YHtkbGLUJ8wAAAByQZ5iRRU8I/8AABR7P7BAAHF/SvcFG0tOnce25HBNmI5Fg843vUkq9UcJ636u63ixfWOGDo0G3uiFdJlrLAf9OobBrRkglvQ+y1Ufn7i8/Pl7lzJDomgZcNhATBN+vPjEDdB0uz/lrOIYsTjmj1NPoAsxAAAAWgGegXRH/wAAH6a458iRmY23ipR09ga40mzOy9UkOWisegKE7PJS4ONe8wrEYZTI//Ng3KgbyPj7mBkomVMvH4eukEyABqM+Wa3CC9v4VrTLJ68Bv+v3gtU34AAAAFIBnoNqR/8AAB+34rehWP1Ige5QDPJOO5LSo6ntTj3odCHRN3qc9zrQDAkTl0KRwKzzh9zCkPaEgizmaYH/hKbFN/TQAE6pP/rW1Dz3D1HEzj6ZAAAA2kGaiEmoQWiZTAhX//44QAAA8+/863cuBw8I54bEWP3un3KlEQAtbJLvfFU4CrzHE7Rznmtv///TOd6OpGGmwB/wwzHSS8CV5eRr7CSnFUL6UoLTQ0LKvYzwUZvojon4SdlEoLxJkXtjBUABjsViTbRRGU3oebYLkoGDxySt/ekk0kBI+KLZVLZXjvoKxiVO4+/1vkygAXaDaDvU5MC4lDWvGsUsbzz9Lt5XHEWhxJFE0441FN7D2N/r8t40DsYVTSxRRyoxmXgOoPhHrdm5biX6LzMS+2+zAV6BAAAAU0GepkURLCP/AAAUdRAbM7e9Qjw8OT6YfgHX6xnX89Rmzc3RvoGEEMYR2xxi7H09TO/74IBDuT7UJs2jzmf6xgZ9IiHxyzRFoq2bOBH+LkrNGArtAAAASwGexXRH/wAAH8dt/lCS6M4ieVCISBLqnWCwl06NfDeFmFTMyOJxrm/GySmPcchxSx29SwAEIpdco2ssLY8UC2TCGXKZUQ0fYq7PKQAAAEIBnsdqR/8AAB8eTHUxOEkqJQCaJwReu/CBY22T/05xdA1z3g/aPdNgIQc8bepdEAG0elBZbSxc3YszGjw+w42EumAAAABNQZrKSahBbJlMFEwn//3xAAADAkm95oYsrjd89OziRzxL8hb5vu9N4ERoSfllk4XnQ1wmk5XG7bWIITqk2lWijhB5wFaugCRQ8SbkUTQAAABUAZ7pakf/AAAfCAX6bbydudX9a3SwtKyZkecZ764j+SsYad27VsszVyO5deAW6b36B+/4AAH7M2D1aqbfGNM0hnIJ7LwXQdKhTuAxiBJJPVFHFELNAAAAXkGa7EnhClJlMFLH//yEAAAON6I/3xKCAFf15/Rh9PT8G0fNpLm0FVmUp24I7f/wA7ss6Fj8Uu/uzHEVJ2Q8RNb2HpaIZ2gfMwL3wOz8jHQLaXiHmYNWc4H6CJbfV2AAAABUAZ8Lakf/AAAfDLawL0ut+2RJIuBB6jQr90pxJf+tGYCmrs/OVWCgHe0cHDjwI3HZJmASZAA+Ulx3ut24sWfTDHsCfLFF3qEcGpzuH/2ynFb5R+9AAAAGn21vb3YAAABsbXZoZAAAAAAAAAAAAAAAAAAAA+gAAAYEAAEAAAEAAAAAAAAAAAAAAAABAAAAAAAAAAAAAAAAAAAAAQAAAAAAAAAAAAAAAAAAQAAAAAAAAAAAAAAAAAAAAAAAAAAAAAAAAAAAAAAAAAIAAAXJdHJhawAAAFx0a2hkAAAAAwAAAAAAAAAAAAAAAQAAAAAAAAYEAAAAAAAAAAAAAAAAAAAAAAABAAAAAAAAAAAAAAAAAAAAAQAAAAAAAAAAAAAAAAAAQAAAAAJYAAABkAAAAAAAJGVkdHMAAAAcZWxzdAAAAAAAAAABAAAGBAAAAgAAAQAAAAAFQW1kaWEAAAAgbWRoZAAAAAAAAAAAAAAAAAAAMgAAAE0AVcQAAAAAAC1oZGxyAAAAAAAAAAB2aWRlAAAAAAAAAAAAAAAAVmlkZW9IYW5kbGVyAAAABOxtaW5mAAAAFHZtaGQAAAABAAAAAAAAAAAAAAAkZGluZgAAABxkcmVmAAAAAAAAAAEAAAAMdXJsIAAAAAEAAASsc3RibAAAAJhzdHNkAAAAAAAAAAEAAACIYXZjMQAAAAAAAAABAAAAAAAAAAAAAAAAAAAAAAJYAZAASAAAAEgAAAAAAAAAAQAAAAAAAAAAAAAAAAAAAAAAAAAAAAAAAAAAAAAAAAAAABj//wAAADJhdmNDAWQAH//hABlnZAAfrNlAmDPl4QAAAwABAAADAGQPGDGWAQAGaOvjyyLAAAAAGHN0dHMAAAAAAAAAAQAAAE0AAAEAAAAAFHN0c3MAAAAAAAAAAQAAAAEAAAJoY3R0cwAAAAAAAABLAAAAAQAAAgAAAAABAAAFAAAAAAEAAAIAAAAAAQAAAAAAAAABAAABAAAAAAEAAAUAAAAAAQAAAgAAAAABAAAAAAAAAAEAAAEAAAAAAQAABQAAAAABAAACAAAAAAEAAAAAAAAAAQAAAQAAAAABAAAFAAAAAAEAAAIAAAAAAQAAAAAAAAABAAABAAAAAAEAAAQAAAAAAgAAAQAAAAABAAAFAAAAAAEAAAIAAAAAAQAAAAAAAAABAAABAAAAAAEAAAUAAAAAAQAAAgAAAAABAAAAAAAAAAEAAAEAAAAAAQAABQAAAAABAAACAAAAAAEAAAAAAAAAAQAAAQAAAAABAAAFAAAAAAEAAAIAAAAAAQAAAAAAAAABAAABAAAAAAEAAAQAAAAAAgAAAQAAAAABAAAFAAAAAAEAAAIAAAAAAQAAAAAAAAABAAABAAAAAAEAAAUAAAAAAQAAAgAAAAABAAAAAAAAAAEAAAEAAAAAAQAAAwAAAAABAAABAAAAAAEAAAUAAAAAAQAAAgAAAAABAAAAAAAAAAEAAAEAAAAAAQAABQAAAAABAAACAAAAAAEAAAAAAAAAAQAAAQAAAAABAAAFAAAAAAEAAAIAAAAAAQAAAAAAAAABAAABAAAAAAEAAAMAAAAAAQAAAQAAAAABAAADAAAAAAEAAAEAAAAAAQAABQAAAAABAAACAAAAAAEAAAAAAAAAAQAAAQAAAAABAAAFAAAAAAEAAAIAAAAAAQAAAAAAAAABAAABAAAAAAEAAAMAAAAAAQAAAQAAAAABAAADAAAAAAEAAAEAAAAAHHN0c2MAAAAAAAAAAQAAAAEAAABNAAAAAQAAAUhzdHN6AAAAAAAAAAAAAABNAAAEvAAAANIAAABYAAAANwAAAEQAAADWAAAAVwAAADoAAAA4AAAAogAAAE4AAAAyAAAAOAAAAIIAAABLAAAAMgAAAD8AAACBAAAANgAAAEgAAACAAAAAUwAAADoAAAA9AAAAtQAAAGEAAABBAAAAPQAAAIoAAABiAAAANwAAAFMAAACgAAAAUAAAAEkAAABRAAAAlwAAAF8AAABNAAAAhwAAAEYAAABPAAAANQAAAGAAAABQAAAAPQAAADQAAACRAAAALQAAAOwAAABaAAAANgAAAEoAAAByAAAAVgAAAE0AAABQAAAAjQAAAFUAAABOAAAAVQAAAIAAAABYAAAAYQAAAFEAAADkAAAAdgAAAF4AAABWAAAA3gAAAFcAAABPAAAARgAAAFEAAABYAAAAYgAAAFgAAAAUc3RjbwAAAAAAAAABAAAAMAAAAGJ1ZHRhAAAAWm1ldGEAAAAAAAAAIWhkbHIAAAAAAAAAAG1kaXJhcHBsAAAAAAAAAAAAAAAALWlsc3QAAAAlqXRvbwAAAB1kYXRhAAAAAQAAAABMYXZmNTcuODMuMTAw\" type=\"video/mp4\" />\n",
              "             </video>"
            ],
            "text/plain": [
              "<IPython.core.display.HTML object>"
            ]
          },
          "metadata": {
            "tags": []
          }
        },
        {
          "output_type": "stream",
          "text": [
            "\n",
            "SHOWING VIDEO video/openaigym.video.11.2356.video002200.mp4\n"
          ],
          "name": "stdout"
        },
        {
          "output_type": "display_data",
          "data": {
            "text/html": [
              "<video alt=\"test\" autoplay \n",
              "                loop controls style=\"height: 400px;\">\n",
              "                <source src=\"data:video/mp4;base64,AAAAIGZ0eXBpc29tAAACAGlzb21pc28yYXZjMW1wNDEAAAAIZnJlZQAALCRtZGF0AAACrgYF//+q3EXpvebZSLeWLNgg2SPu73gyNjQgLSBjb3JlIDE1MiByMjg1NCBlOWE1OTAzIC0gSC4yNjQvTVBFRy00IEFWQyBjb2RlYyAtIENvcHlsZWZ0IDIwMDMtMjAxNyAtIGh0dHA6Ly93d3cudmlkZW9sYW4ub3JnL3gyNjQuaHRtbCAtIG9wdGlvbnM6IGNhYmFjPTEgcmVmPTMgZGVibG9jaz0xOjA6MCBhbmFseXNlPTB4MzoweDExMyBtZT1oZXggc3VibWU9NyBwc3k9MSBwc3lfcmQ9MS4wMDowLjAwIG1peGVkX3JlZj0xIG1lX3JhbmdlPTE2IGNocm9tYV9tZT0xIHRyZWxsaXM9MSA4eDhkY3Q9MSBjcW09MCBkZWFkem9uZT0yMSwxMSBmYXN0X3Bza2lwPTEgY2hyb21hX3FwX29mZnNldD0tMiB0aHJlYWRzPTMgbG9va2FoZWFkX3RocmVhZHM9MSBzbGljZWRfdGhyZWFkcz0wIG5yPTAgZGVjaW1hdGU9MSBpbnRlcmxhY2VkPTAgYmx1cmF5X2NvbXBhdD0wIGNvbnN0cmFpbmVkX2ludHJhPTAgYmZyYW1lcz0zIGJfcHlyYW1pZD0yIGJfYWRhcHQ9MSBiX2JpYXM9MCBkaXJlY3Q9MSB3ZWlnaHRiPTEgb3Blbl9nb3A9MCB3ZWlnaHRwPTIga2V5aW50PTI1MCBrZXlpbnRfbWluPTI1IHNjZW5lY3V0PTQwIGludHJhX3JlZnJlc2g9MCByY19sb29rYWhlYWQ9NDAgcmM9Y3JmIG1idHJlZT0xIGNyZj0yMy4wIHFjb21wPTAuNjAgcXBtaW49MCBxcG1heD02OSBxcHN0ZXA9NCBpcF9yYXRpbz0xLjQwIGFxPTE6MS4wMACAAAACG2WIhAAv//72rvzLK0cLlS4dWXuzUfLoSXL9iDB9aAAAAwAAAwAAJuKiZ0WFMeJsgAAALmAIWElDyDzETFWKgS2k3gc8QBTAW8YLiQHnbZR9yS8YWrlhNmLcrccUDqGBL3cbL+jW0TPkNFlyol9Dwud0GaM2FzsMdXFS9ChNWapAV5CloBnAPeCojRgba0MnDRGb13MfhoA1597TitYXN5ujUFiKoC7Kw1LX6nWIEsgRXe3PVd5zuf5bcOPCaJyvjLNsg5ehhwFWoLWh8kNo4x3ormY7bA1yrbBy5eqRssTSBEW4HrJsAsi8ZD4foaq4uEtwa+KFQ4F9j8GmgC4rsYkAHt5TJzW/4jBxNa/oHbM0a2oaNEBQOM9IThYqRVmyAMhpobVUrOR4tI5n/urmnponu1MlAY4/X+IeHjkTSqtnxk2LwbrJN9RPnQrhz8UfpdloQKfQROvF9/X+g8MW/BVF6GiAh7tzm5+uyJPHkX4U5VypduFSb9VYIbRp483X8lLQQ48Na44sIMT3KR1z/HrYEL1XZ5UY6By51ZXOqzRwIhwFf5H7RN1E31fri+rk+oLRJM+RZNo1jTqf/L18rcagL5XC0AdjQBmQ6o8q7tjVMIosYlOyll4aHYbk7cIwMggDrSAZtxJBV0Yf8SBbgE/aVpI5RjM71IkwM5bf6PMgP8G004AADyAABIToAAADAAADAAADAAADAAQtAAAA50GaJGxC//6MsAAASApgMTtOMAVmpe6H0qqJgBW0OpNj/HSmnUuUst6ERK7hT5ih5P/AmgWeo/tH+HPEKnJfFSPvt7JW3tJ4l4G1+x2pgNWq4+Psru5116dhh1Z/EuPC9397aStguaAnQTOR2fl4/RsvReIcw1Pz8b7jV7UHq2Rif5q7e2+I3d61uhQlDNyZvJwArLZqHxLmgFdnJ8AxsZMnexxPcPJ3+Ty7Yjp2tJCOEMwyD1HkFVTR2pHojBPaaVwtreps+I1hwz8WmQ2sBJdYS5wliQvGoSYashOH7VNEx4hkPJeFbAAAAFNBnkJ4hH8AABdN80eqaDvSo4cWam9WORPJg+BxUUf9ley8FkRrv8RVYoLk+eZWNYQAfGl/AKp6XYAAAAMAEpok4POTcxQRGKeVl0SMAOsqmWABUwAAAD4BnmF0R/8AACOsQlbkxJJmGxiCILhH2mbnBd7EA1zgAAADAAADAGQOM6QG+vs/nJ8RtYANk9JRoyplgADUgAAAAE0BnmNqR/8AACSxzAHRjeNhDd1kaIOohNcVVuvBhyS9Xf1N6gmCrx73gBMfje+vgE6LE2b01F925/hAcWdScAAAAwAAAwAaQa4mlUA+YQAAAIZBmmhJqEFomUwIX//+jLAAAEgD1mwC1ESzcuheJsYwD6YfoK6p1HKt2pJfFB0u/eNUs9efFlKy/e/Yu9B73WCr9za1chx4spzqLz24HD88vlmo29Y7HlSHJxO1FD3qTHJD2txfsPDlwmwJFWr9fDcnTUW33gvBjh0h08FB13zpWkwMCAdCmwAAAFlBnoZFESwj/wAAF1BWhYBFFAz3oEC5SF6mGK3KoOWZgwuwM79s3fd9VoZywv/tT6QogBa0p/nwRjwLH0T3PqRU71fBdIAvRCnp3bakAAADACk30owpGWA+YQAAADcBnqV0R/8AAA3PXFVLnAZM/xMlqVOnqC89+dY41D6WNAPMh97+5tDq0KhD2gAADKdMW1rwgN6BAAAAMQGep2pH/wAAJL8acEb1IVsbuB2NRNhSHdTnVyd1ttL9rcIH3KAAAAMAAAMA4fVhA44AAACCQZqpSahBbJlMCGf//p4QAABHUfYeNgAsLD/KhhBZUnKfgYxWKl3otgvtcS8dAF0K04AaH96aeQveQ61K8ozKcOomcnYHko+y9prrQbAxXgDoo9LwVceWM0lMJulwkkYSeAOVlr/J/tBDlh4ZhYB6YnBspKlrR6j9KC3njgTBMP/okAAAAGhBms1J4QpSZTAhf/6MsAAARidMOjACw+npNiO0KNdav69hjRnPRdSvq+Oi9D/dCitOFTwSDV0UBuy2JU7I71EgAsWISSBE/MA6gcppJINENEw10+PH8XbIKYutY77p1X6+EYi/3/qQ4QAAAEZBnutFNEwj/wAACK/fyEu6+Y8Ij53XStZ62y88C/mx3wAcHGQnctr3ZAlLsjXy8RO474KLrQRTBrAMl9J3no5Qyt+snKHwAAAASgGfCnRH/wAADdXdLX4HHdUhwTkOfviWdAiaJi5qUZxxNaB5D7wAlfQr8H3QvcV9YCuIw832qvgBrE8ixTUKNbsPJd8ucEwvolKgAAAAMgGfDGpH/wAAI7I8v4nDj6rf85DpisMYkgWmSc3ZdCPFjhyb3E2kSfjewfj69l02Z5qRAAAAjkGbEEmoQWiZTAhn//6eEAAAR0UE9xxbdcScgqJEUHHwz3MY4Ya+oD9SK59/9NN2Wyf4YflwckZYrRnq9cAzbJohQPdfaEM97tO1quvpHyo8JvEupLhDm5iOg8tglRGMeJ7r0QTbRwU46N8JWZhC4CIi+Di04wuqkUiS7LcRvwtrdf9u2rvR+Ux6ewSlhUkAAAA7QZ8uRREsI/8AABdMTgMJUPgJ9l9TrtfdX82z8i5ztjyxn5wzWgDt7CYlVAx7FPEfqow9ADDFVOb0XXkAAAAfAZ9Pakf/AAAkscwQR5oF+/xw2uVvcwYZVoIdC1e1oAAAAP5Bm1RJqEFsmUwIZ//+nhAAAEdoskiLyAK1R9IlbM3rkK6suwF3omxfvav1EyA+n/w+v/KBeKJcmfEMrispJUGMrEEZIE+ykwxtYTXwY/vCB4nVU6DprJ65viuZUuvZ76TPSUkR4eaS1ZSgwcc/QKE2+c78jl4fpBLySD8mzFEjA5w8TsL6wAa+MblNOhbgXe3VSHfa0mKr7n+ztbZSOYUPS0GI2TNLBaXiBos4nUsMSJXh0DRlW1MjghD/HPm5GVdiJQ9zw5hYxxp2pV00Cnd1kZRLlqMb6JTGeT3HjglXP/TdmVPfHuOtQml13/NQfNnp/D0I5VZuDmWECiMo8AAAAHRBn3JFFSwj/wAAF0tbbqqQgARe8Tyd0lJwgkfmS7w9zkjS6UvIcpWZjC7Z8MCMItI3snrZOnax2J7D2fku8Uua1e9E8W3cwK35vHATvnL+eOLYwTKpq0zW4fRsPn767WKqqQFYCc1FZfcVXfR0gL38qkbztwAAAD4Bn5F0R/8AACTAmkj6ACMRx+czB2vT4hOByf+xI8bOHy+oXOu1BUHXQnvaGYsRvivYVAQ9B5oWzMzq2U+DgAAAAEABn5NqR/8AACS9JpdxkgNF7/3HLiADlVHOqmZcbxXkEl9rNk0+KN3jEWCRL8kkXa9AMTBpk5/kTVxgK3wW8/5UAAAApkGbmEmoQWyZTAhf//6MsAAASBRSkQbuAK35/0lsTmEqA4BkmjGwB++eWJGildUxysAOFAoLv1bHpLz31sIs5sVY+tjPgEvS6XKyHXkrWtPHahe1ufnYKOjIj9xzoABy58FSNld6p/xsSWrY5a422YmMw1STtO359U35jvXPbPxUEtOJxcsgy1wDhjlVzBzfJ5hVTdUy35r0MyzT8l2p+el9UALXaoEAAABVQZ+2RRUsI/8AABdOZDbAmnW8mXSF4dj6kVinTz2qr4BILvc1SBrhbQpyfmz0UMhoUssQtxr2G5BMgVbgTZ0MGgbg6asTm9Owi/nqOaDyqdfIMjIWfAAAADoBn9V0R/8AACSEUKuXaVfPUyMRNQMyJSEgfddtVjC4JDnxmZwsTRcjx9LE6NlqDCodteMyEWkRbTMxAAAALwGf12pH/wAAJL2DjQXDy0fpCY+4O4d9W4ADxFnuH8jseTn84aTKO2HF73X6Z/j/AAAAiEGb20moQWyZTAhn//6eEAAAR4GMQ2ScOAAcQv5XoLuyYfE6uAI5cN/zTX1AhvhBcjWN4Xp4PdNnpQDpGp5FlCiVYwoxnD99iHV0oZAFP1TzT8m8JC/GU5L/9Ck4XgOzdZm1imVveQbnMceBphjnN8XxUr++k/p01AVu06Z+xy7PspcKpQYjngwAAABCQZ/5RRUsI/8AABcNFtacm7EpsCh7KnfNfkTJstJWtIQaEcHPxKvlWNSRhXd1SkDKZ42m6WhzFxjUJXfjMW7jrX+BAAAAQgGeGmpH/wAAJJkwnlGOoCJubt3uXdrWouh6AO4HWUyEpBtAC7A6dkA7K14lABO2FU66TLQs8i+1eVevab2u1bdKSAAAAMBBmh9JqEFsmUwIZ//+nhAAAElD4NPgBQRwTujK3jWr1xyLoeglr4YPIcVWh80pOuvuZ3E5YVqX9iQKGHP2vrvh+WOb3b3S6nR795DM4sdLefRRaUr/TLDj7vSXDfYl3z8BFTzMLsHbDQNNZLpFofo9qDP26lZvc7DkcG5bXvQbPClrkZR6pEZWT8H9ravI/XfFEoKgakYiiRfVL/jxLOkbXzIkjyVp9GojY2M3LzFx1gtsWoEFwoQAJnOe+BIz6/kAAABlQZ49RRUsI/8AABfpd3ekrZAFuJe8T7oNJOHv3YEN2W9zc8HkYc8oBE+XgHrnNY30B9GTAZtXkeSM5u7ajrQBvgC0kftUiTHZH/qUM4xYFH9txli7X9JdET/XvaQINelhaV8fLFsAAABKAZ5cdEf/AAAkO37FpL586t9LR7KQ3+XWCywVTOlsA08Mul/mZsF4uOA8jWNKj6Uxwp5k3MmdQAft6M3p8cE1Ot0NcA0dw9gZHioAAAA7AZ5eakf/AAAlxtnO+UMZMbB2HeSFu6Vo1xC9bRQO4B4rvjKNxYp+xQjc1JBRlCuyksvt/EIZhWRg+vwAAACqQZpDSahBbJlMCF///oywAABKAVC8kALD6lCW9iPgPNMf9sw7tSu8HLZGX9Wgab6iHn+uZK/YLGMyExN0L/D1YIliIFp7+arrDvp0A7WMT0t8VBJFPg9sTKvyS6cmMiL5fWUMounZM/BH/bxW/6MDVV5DEIuW2YYx9n9RY1qrGLuT0RgxaUu44J8XgY2UDK5VGzLQeFJlRjsboosgBbwP4ll4MH3aUCFLjxcAAABTQZ5hRRUsI/8AABffdTQ4DkLda9LFHUoEibzI/rq0kxLig5A3hRbas/VhaNl/WEf3AcnFisc1OqBAX632DeuVoCMgX2PMZm//697WoyfgnIoqIsAAAAA+AZ6AdEf/AAAlq/TBXODi1CpqOSj7wygdVvrZcSmL4Gg+UeZ6Nr/w94U/lB4Q3nwMeGEs02g5JFwE380pJsEAAABBAZ6Cakf/AAAlnkSfKfVHLFiSAYLICggFQPXbVooN+Gr7JeOVprRlzjp05hZdLy9AbH5osL5ediDc9iDTVwS4JFgAAADCQZqHSahBbJlMCF///oywAABKAXBG82AG66m4w9syMih/0+T3kEQuSpUF5HYbMrB4J6K9lcHEfgCvYe4f/0u7ASgdOUYLd4X8/RUP+iJZBVIwfeMSM110crWjxRiPPBCyiVE4LL9/QGo12qEBueZ5yFbFzP9OXVjEyMuYAOI6Af+Ni7hRHbc8NklocFIXmRX/iHtS+IU8YHGMuY6REExmdK44q8ouhKmYvpzNSJ0jI9Kj6Ni6s8NX5JuNOUAKJWUpAtkAAABqQZ6lRRUsI/8AABiJhYt1i8AG6qb7xgxxlxVm00I7mmpkHAeGFAnAllYLB4y3DL9uK1ny4aqnKhlzuG61L+ab2YhORRghDFooZncglBQHyC2cCPt8wfrInp6XTjKiLjmsCzsQ25+Gzuu9/wAAAE4BnsR0R/8AACV4eoB5PrtsO3PaqlcPwZFNffxLrX0TEmHI5Yz3Phpbb3wwkHlgR4Ild4QGZpMAO82bFhkwAfeAoJo3ZJumbmrmgSmLmXkAAABZAZ7Gakf/AAAmvuZQX+7IlWhuy3Vs9dwY7S274zzJQa01K0y6YQQ1Y+VS7YfHnbFvM23wK/nqsSA8If1P/9AAA/EqOlUoR2aJdKA8/Ci/8Pf/13wr2wxzWUEAAAC/QZrKSahBbJlMCF///oywAABMFFPOsk7XOIgDlGhhjiIUH+KcuNQnyDoKMxBSy4z4ePaSygcTFs4mudvJ377YU8fIjRpw/cTB3IgOYLLl5D1LC/knI4DKc+j38Koa7rk28/jDnmAt3DJrTVfMuvaTaMuvnjskTU19R2A3iudkP/L1OxJ8YXV0Bq1avFRriWrdqjQb16gnssO5bb4XAXdlrMYGdqlCp7L1Af9ZmsGTmSw7y1dD/jsG06G2/csW+8AAAABkQZ7oRRUsI/8AABiN1RUYPQoxdFPPRInj0auL5TWQF4dXiTqkiQAIIov+8B318z5idXjjkaeIIOo319RAdeml0GT2+gJLsU3a0+uRhxsV1hxSGiTM/oml6453GORlk6TPZJTEXAAAAFoBnwlqR/8AACa9gyi7otuRmxc0B6BBqiawowLP6hd5YD2+2tiMgkJFpEuUPhBBY4cds8edoPge9nNvrKMtYb2YOAEQdCn/L05x0gdNx9EcYgG9rq9Qw7NAmyUAAAByQZsOSahBbJlMCF///oywAABMMOCEs/dvc6grsCACpK/Q8wpyxCqj60rvO/PXRPjhjsCn33GJ4OvYlgkwjUYdHXZVx9GcgQrR6vP5NQWr3KjZF0svG+dcpRJGLZH0Umy6kQdZvnOUehm60IgP7QEDapvhAAAAaUGfLEUVLCP/AAAYdz45y4jiSQAjiiBKZqNMuu1g9xioJtkL4QUDOa6wAzNn7duTK0qe5YbUgc30NOkTRW6zMfs8Y7js3nDaGF2xEo+VWg7Pjt9+nC2hGN73zHor38HTnY1IXIQ2fvuj4AAAAFABn0t0R/8AACapTJbdLtEN11htIYYTGdWgecKVxGi8ThQYZDhzBOPvwUdTLRJ7RJBopEALNSsXJyjWEGd/xpormgKNGJUuwuCAc7D2lmhKCQAAAEEBn01qR/8AACbG6OrDKb0+rNm2Du0wAWETe+vooRBK5wx3kmtBvpiVCJA7vfq4xzumz9QUPcZ2kfWQZuS5Db/KYQAAAGlBm09JqEFsmUwIZ//+nhAAAEtEWmxNvJ05Ook6m7zbdU2qPaVc1ahG0MG08q378i+WK3jQYczeFOYyEBNc1mnnFBzFcrjYlA6MuJVbicZJk5u//vTJKtkeib1c8jGWYVU2qxEQ5GS0EMEAAABpQZtzSeEKUmUwIZ/+nhAAAE1UpR3jrBADShygdVdVmXccF6joHLVWYd6nDlAi18cJfUul1eFoC3meSI8L/BBXerSa9zgoF48plWlNYtU28uJimHdcGSkbAef/4Up4valHmU3nZh5uaQbqAAAAQ0GfkUU0TCP/AAAZKYLTso3SLf2AVrGQnctr8/5iaYJ+v+w9hBabhCn8Z+DQOt89Uilk4+1UWBdkdf4lxFfw7NXxUA4AAAAtAZ+wdEf/AAAmqI632oTpLyLlZ8fz7fioz72M3NpMUrM6bmpiEBOH9HK7f7FhAAAAMAGfsmpH/wAAJ9aOpYrPhgoqZPi4qa0CuinDGDZycg7lTqaaqItXBIgxOS3Ew3x0GAAAAPdBm7dJqEFomUwIX//+jLAAAFAqfy3bNw50OvU8RAJlud8Q/nhQJUhPvT1cWbT1c09pjXaT4T9BlCYW7ZEZs5LMTMSx/QNOFKD8cld+v00IKF70hFXHhJKKV/RbmR4T0FVr0FVokgAC5RH+Pku5j/MiJY5DSNa4c0WZtp6noooKZJQO6PSdx5/0RSFAqjfJtCALiR0UxhfyDplmUAKBEwzPIUJMNtTZiYAWWroHyWvEZQl863x6EAXJC0W+2/Q5pO4WVYuYg3jxhfsjP+UU6n54+NkP/ypDXmDAKUk5Qx//qI4oIUVV/acsS1Wgj4TfSDBfxcerR9tAAAAAZ0Gf1UURLCP/AAAZyXCWmI2yd8QuHaD4KFBKOnzxBl4VE4xQENNQzk1XI7L1s2opvFKSOmjX+z07EdCFrx5ohHK3/hhlQAJxeNrl/2tkyHn0EJRQ1Lou6Q/t7/mF0LRR4/OyZgDXT4EAAABNAZ/0dEf/AAAnp3LY3v2h87S6iEceI62v5VucI8Oeeh77ta6HSLqY1BUNbTUoXC7rjDKL2BjsZAq3kAIU0vl3dvrg2UHZ7s9D2+QZ/4AAAABSAZ/2akf/AAAo+WuFMkgA3TFp7lL9xpFaVOXMZVXAhxUoavbQr6jOS7PkOjKnZ49SWSY9JVsfQ4ONNRNbrrRV+GjVPppgYS9LhMI/5G2QaCZxYQAAALVBm/tJqEFsmUwIX//+jLAAAFBCxjqHLkAIwMZg+U/ekW+OJwMhTputBCQwZ2jpqgWTlaVCYxYsOK7TkQTFb0p2z+unzgD0BacUDbLE3Fn4qrbnUuPb79oMla4pBBqBeiBpUHHBUxkNX0vuwgXzsn96ve0h2NMHvplZ1wbMoJWtbWmEh+xSfnOv4dJ4Qi4KSViJV36OllUzDOOfhZOc5x7+2AhOhzm1XYcxgbjGEFwoextAc8RFAAAAUkGeGUUVLCP/AAAZsB6+16Hvsnw0jxv6MFxVp0BQaP6DWHTNIbH1241f5yeEm/1s7YkZyJExtTEDB+D5gbzlp1jPGZtAgeUVFwnzVQgOS62gK6YAAABOAZ44dEf/AAAo+bXbvVlgBF+0UQWRw26dJCaiY0TNIEsrme+cVKXpY/3CKmcoRtwlYrDvZol25/bf5iNQ2gMpGYGbwEEj/tKsuatNOb0hAAAAUQGeOmpH/wAAKF2rUhyr23oaGEGDDyyL3Fm4J+pL8RwLZHcQDHjG3qL2Sf0F1beblCgUK80wCtVyg4eJkAnmQAJ1Sf/Ww6Ix9jXFrFS4ENWa7gAAAHtBmj9JqEFsmUwIX//+jLAAAFJqdD1nACMjyIp9/h9rliIRh2xCINKqKPV2l7j9GrLclIPUejvJ+y94Tk+iF5udr/56Y0NUHiD/Eu/I8KmbOURISvT8k2HY/JAMHTUZuAde0d1M3yU18sa8wgvD6EqTHTkPx8FX5I7nlWkAAABIQZ5dRRUsI/8AABptf5UHWveco3o/C1C6ik3Iem8w3+omzq+GOreTR+HqlYWQDHt0YLR59TDHTtgjqwr9aCm7cJGrXFgJo9gNAAAAVwGefHRH/wAAKh4yiqvpKJiWMDwTSYRNAfjh1OH1fDEf1uEVRqmRMA8pKYiU8w55i7xAAnNHz+DiwAXHnb1IbChLMS4NPQjlGazZ1A48EzuBGy9N2RnTLwAAAEQBnn5qR/8AACojKaOpgx1/Y8D/etrQb1MMYexsArBWTeKj2c6whwHWd52rgaJ/epdlq55vV5hkNKJW3Fq8pUNTuYqkLAAAAJhBmmNJqEFsmUwIV//+OEAAAUaODGNgCgFUFFOM/RgqZCRKQd3OjnB//bj2UvTUNcvobk7zTYeDT4WdW/5NIBnDOnTjuHGMTZVHF4s0DUZre2mBPDn7moC9P0YLxSU+jTFQUnjJOctezmsvcRzczPUpUAve6OtXOJtNVei+j2VfJHSgVVVeYWPV6UXhAiO3AjRGRUADWGw3QQAAAEhBnoFFFSwj/wAAGwl8jfJguAG38W3v1fv1btDWs6FZTweWsgmPpCnH3FmBTNLfgwQPEfJNGsPxLHdUWAt+KdlHISsvi81pMQcAAABbAZ6gdEf/AAAp/rv/dDmsbQ8GxiaKJb8HYG/YHWw18BLF+1dpcc4+UeHJGhs+rQvD2iQWuzIJkAE1HoR+Si7/ldSgkxFnpDS/fnpuJIbUvv4wSADpXLhc0dxHwQAAAFsBnqJqR/8AACsinNqc0GA8rGCYZFX+Vd9dhPHSdj+BPMPZ8ujaHz+2ibMKlQdYgWr+yb5PTbav1Sg2yISgAmbORB3sZWPSvkKuZdMrZXB7FhfMOKpY9ep20ZOAAAAAckGapUmoQWyZTBRMK//+OEAAAUaM8gE7vKyp86ww0JC/ym9zvAmmJ0YPJ3tAGV/KjtMTHtOUnJQD8HiuVFJQb4SWr3MAODEsd88DHkLcdi1zqnNM+AwZozkJgVdUqEp+vVCoCbPZWIb1hNcrF1qqV5hCaQAAAEUBnsRqR/8AACsjDnL+4R/ILTvKPPqXKwcTU6qTA9V0vvMSeaO9WWehsteVG6M1VRKEPIVlAFImfXNz9lmw3Lu/P13go3EAAACJQZrGSeEKUmUwIV/+OEAAAU+JCmYCxKO0kqK90d2NAC2hTQkDpmVIADPFwa5mudZVLE6cooBleTOW9Gaipi9oSSSKRtrr9BFupp4ex0fpKhxDvFujcKCTeHFYmS/P5MBE0v1v2UtGB9zkGBNVgTfd2+rbduW2MDGpOAD//qz1fD8JBVzefyrxPiMAAABzQZroSeEOiZTBTRMK//44QAABT41y2ZXnkzrEVW1Mf7eNTWA9o40STqs8yWPtsJ7nNoWJkxZHturREQL/zmCkdD1MkRLaACMCh0LVQ1wXPSlIbDnjcQ6hVJX46rgQnc53m4NxPCUEQMm2mc17PY0veg+c8QAAAEQBnwdqR/8AACxDDh/0qkeq6+YjEJGSX9UGPDzM/TaVpZ6HgbktedW9nl/ZHSb+Egs9qkSlcAH4A4hmCfZS4SfZW0P1gAAAAJRBmwlJ4Q8mUwIX//6MsAAAVumXu5ACMVGFvU0vwIpktzNKgtgqJldU833T5I290lKcNR+aE3+wpPa0IzJLQfA8bH7i8y6U+kmsTlPxifhsw9slKFZDSbBU01vGKJV2UymospQrDos+zWKNw61+sbytPTpkB5MaZmDMcmzbpHYhkGnrYFNuyk3RNWUoQZSGW27KpE/AAAAAnkGbLEnhDyZTAhf//oywAABZWGuUW9MPDJtzsOjnC9xhYJinPkSRnxWAm+5shNOj6eyRZ+czDvrFiJnGVO6N2Gu/j+AAHZDu2ga7iine2/6WDKROrIN7lAsiyLkJTLDStt8olSI/cXs11ikSwHZ7Yp1SnehD+BwsYQRmUcvQoqufNxzwkFBMpi62+eP5zyZGM5xe7flui6ZbMkfrnSPZAAAAYEGfSkURPCP/AAAcWGkcMVFsV9nOnpwHfJvFfxqvIYKcmZF7xEqFTraUv/aNyHYE3aGoR1TyfKJR75xADdxa0nCriyumF+i39ODuzpxGHmObihqcU9pR48NjKaz8KeOhbQAAAFIBn2tqR/8AAC1jDqyf6t1gBFueZujLi5KtNRotpdUIldGCjHx6/AwXh8i2WWCUYJ3NMjIqOkZbUP+8c0bmkvWP8HgVcrFzg8vAjwLOuvHnPGVlAAAAo0GbbkmoQWiZTBTwv/6MsAAAWW7Pfc2TzABw4Cdy0k8bSzq8s/YwpKn9VOIb64foaCn3T1YZhKdw4elrM7eQGxwRPN20lCSMCCAuBDys4rmo7at29hiX8JQi20vmeHXXOU9MsoG7xQCcLhXBS/TNjSt/qyATDeijcm1PgzJv35DyZLLYGKALrnQgDoOt01U1xkq/Qe0fhKDm/ZnRdLnLOnq1zbEAAABsAZ+Nakf/AAAtTngJ92t+RMss34oqMkItHhqUTB5qAEsLP14jm9ue6iuigMeU5IpJd6rhwkCC3WKAD9P8iGA9xHA1DjuqvYc71U+CPMghMrVdjnXLSbCIS6oI/10yLh+8VQp+k3D6QETJTOEHAAAAoEGbkUnhClJlMCF//oywAABbmGt6TwAjqAf3aAH2ejxPtv9h9E8xC4fekhCwNqTU1+toB62FaDV5+sByq+0C7UO0bkcBzUfLPs5EDFI3cSNSLJ9CUfhrpb7p2XqBNglyXdGtxQTD8vvXMnIvzv5rhDsN/HhfPE8Dl2yXZ3+7wgA5HftR61iPYuL789JQq0Xm6W0gTg2TUgjpuPLFzSS3RIsAAABgQZ+vRTRMI/8AABz8rdtrW/H0FeI2PPCjAwsAB7dd8CpufimBqh/Z93I5RrGLFnJO10mjTSRpf3nxYu3tezGMeeAlgu8jIPC8EXsE2dv0C+icSWVDhu71I3zy5FFM8zywAAAAOwGf0GpH/wAALpaOjK8PFrA+ZzO4ybigRM71g63AEarPD8W9g5hdGmh5k6tBopxQt3GoNEwPWpobXXkEAAAAZkGb1EmoQWiZTAhf//6MsAAAXaqEk86B6AJ+EyznEHq3ohF3UwcWOOqrDsdUUK2o5bv34GiurxNdfkoNK3MqKzKebCvJ7Oa9+VBg84/5FN91biDQfPx9/xgH5b8lF1b5y9F+B9K6bQAAAENBn/JFESwj/wAAHbhyJWzDw3/M4T+1R7Iv9bPJAoFogO/tsUL8t404W4m6ISE4xztxbgO3zgXmG/c5OjJiR7epJ7G4AAAAOwGeE2pH/wAAL7ee+vwOkJjGCjfuo44AqDlADbK0/SwD/xBW0NxFj1qmrElOyrl8Fuths2SF4kkubsLwAAAAiUGaGEmoQWyZTAhX//44QAABc46kF4CwAjI7AhzAYYryOKGn1/qr4mjOGOSfOY0jIG/lSopA0qd3m4C5SANq2HYBqclZSGwrlDwOdjtj79b0upzFk3vpXAfnAH88367K5S72bcv2l/wWAE42c2rarABGmoaZr9Bjq4M9Ul+v/eX7+V3gkIRzMz21AAAAVkGeNkUVLCP/AAAeaHrzPhasnO6VAG4JdT3OcS7aAFSkuc39ovfSPBK9hFq3BIAqioTw9txdR47xYyUmFkjIDyjdeZbz+91CPehu91GSYH8hQwajfuXgAAAASQGeVXRH/wAAL9HiVRHabFaQALifpdLAcRhPqmgjYP//bOIFn6A/vBSJ0OjVNn3bVOUwu0mavq6mhUh+wcJvGXL+/8VHZ6MEy7kAAAAqAZ5Xakf/AAAxD0BLOZB5Iw5Kmdih+/FSwBeUZCjd25jOMkOdTElS46lxAAAAuUGaW0moQWyZTAhX//44QAABfT6N42ADjeYtfEL3n9rs0TqtZkb7imWh/npjASBz+5u97n91PhQpfZ8tVND0RlPiqVelm13ebvPGL+qbNVlQGMxi5/yuNLoS4/MWW/VRKHQ8/K8ePNNHEt/SH3ZVvT5oCjD0aYlwgmWqGP+D37kHrZ2iDU8D/e2AOr74SWBvBU5O6kJz43O6SlAIPAQCm39uM4I3RKs2GdGOD7NAvSUZNvOXFVrZ7uI4AAAAT0GeeUUVLCP/AAAfGHrkcngAtwZKgouGYGx0xOQTqZajHi4UwEpy9mjsQku4PV6robutsKEs6B65NG/AFahTnUVPcXdsZVXOylpvdPjwqDEAAABFAZ6aakf/AAAyN8vn8ndpzCI+5mWrjTAAlin4E7lgiR/4/mJoBo8QeczySBeinViMZF3L81ubvZ7MmiVTHsKvsjhOtVjgAAAAnkGanEmoQWyZTAhX//44QAABfgfGhGk4b8eYm5h4dDigAnB+50HnK47PWgI8g4ERbHDnWX3aihQfRPH/Ey9gRmtWTXqk3UQmq2MTEeTa82LKddvG402LcRBfiWfJSFThNoRNklwarKGHxNsdn3M9xD0z4cfyK1mntAqzh8cVLbw9uTFpzTA84LLE/PPDfvprk4kNCZx1HoIEnitZ9frBAAAAr0GavknhClJlMFFSwj/94QAABfRL8YoAWCUXdRDfQ9884J1ptu1IzUElsVUNEtNB8kOyE1n5Wo9lWNqaBLLPB+9+rug6O/4ykfE3G5SKaVo6QIw6w0jQimjmucltrkN9jwirOseIMNX9vN4nj59bW2DkqyNmWh4M06pjptX8+PMrwPobtHOhLgyVD1I0AHDG4JMldouhhM7gwI+2SG9fQVymgBi4Imv7DsymwaB0jrEAAAB1AZ7dakf/AAAzd59fc1yOpACJhDiG+4QEnXokWTldF1rBkMiQzpTf3XxwstXnF5wBan6atUIo4AdhtjXWxQEwJO2KKyCKG6jC0P+Gz6t69AjmxfwlbHD8JHswwPNnDBvWNz61x7f+x415RdOQgP/pHbsG0HcQAAAAekGa30nhDomUwI///IQAABdFtpLxeAFb7FQrSNmzQFrrlfiAluZuu4AmuMRO5A9K/NSm2MUHKzRNB/srkqTim9d3evhr1wry53RnLO921Ad01xq4PFQTXghEZhekt5sKH8X/DAcEGexrSc5r9rcr2P4VmI2al2ck6krAAAAHW21vb3YAAABsbXZoZAAAAAAAAAAAAAAAAAAAA+gAAAeAAAEAAAEAAAAAAAAAAAAAAAABAAAAAAAAAAAAAAAAAAAAAQAAAAAAAAAAAAAAAAAAQAAAAAAAAAAAAAAAAAAAAAAAAAAAAAAAAAAAAAAAAAIAAAaFdHJhawAAAFx0a2hkAAAAAwAAAAAAAAAAAAAAAQAAAAAAAAeAAAAAAAAAAAAAAAAAAAAAAAABAAAAAAAAAAAAAAAAAAAAAQAAAAAAAAAAAAAAAAAAQAAAAAJYAAABkAAAAAAAJGVkdHMAAAAcZWxzdAAAAAAAAAABAAAHgAAAAgAAAQAAAAAF/W1kaWEAAAAgbWRoZAAAAAAAAAAAAAAAAAAAMgAAAGAAVcQAAAAAAC1oZGxyAAAAAAAAAAB2aWRlAAAAAAAAAAAAAAAAVmlkZW9IYW5kbGVyAAAABahtaW5mAAAAFHZtaGQAAAABAAAAAAAAAAAAAAAkZGluZgAAABxkcmVmAAAAAAAAAAEAAAAMdXJsIAAAAAEAAAVoc3RibAAAAJhzdHNkAAAAAAAAAAEAAACIYXZjMQAAAAAAAAABAAAAAAAAAAAAAAAAAAAAAAJYAZAASAAAAEgAAAAAAAAAAQAAAAAAAAAAAAAAAAAAAAAAAAAAAAAAAAAAAAAAAAAAABj//wAAADJhdmNDAWQAH//hABlnZAAfrNlAmDPl4QAAAwABAAADAGQPGDGWAQAGaOvjyyLAAAAAGHN0dHMAAAAAAAAAAQAAAGAAAAEAAAAAFHN0c3MAAAAAAAAAAQAAAAEAAALYY3R0cwAAAAAAAABZAAAAAQAAAgAAAAABAAAFAAAAAAEAAAIAAAAAAQAAAAAAAAABAAABAAAAAAEAAAUAAAAAAQAAAgAAAAABAAAAAAAAAAEAAAEAAAAAAQAAAgAAAAABAAAFAAAAAAEAAAIAAAAAAQAAAAAAAAABAAABAAAAAAEAAAQAAAAAAgAAAQAAAAABAAAFAAAAAAEAAAIAAAAAAQAAAAAAAAABAAABAAAAAAEAAAUAAAAAAQAAAgAAAAABAAAAAAAAAAEAAAEAAAAAAQAABAAAAAACAAABAAAAAAEAAAUAAAAAAQAAAgAAAAABAAAAAAAAAAEAAAEAAAAAAQAABQAAAAABAAACAAAAAAEAAAAAAAAAAQAAAQAAAAABAAAFAAAAAAEAAAIAAAAAAQAAAAAAAAABAAABAAAAAAEAAAQAAAAAAgAAAQAAAAABAAAFAAAAAAEAAAIAAAAAAQAAAAAAAAABAAABAAAAAAEAAAIAAAAAAQAABQAAAAABAAACAAAAAAEAAAAAAAAAAQAAAQAAAAABAAAFAAAAAAEAAAIAAAAAAQAAAAAAAAABAAABAAAAAAEAAAUAAAAAAQAAAgAAAAABAAAAAAAAAAEAAAEAAAAAAQAABQAAAAABAAACAAAAAAEAAAAAAAAAAQAAAQAAAAABAAAFAAAAAAEAAAIAAAAAAQAAAAAAAAABAAABAAAAAAEAAAMAAAAAAQAAAQAAAAABAAACAAAAAAEAAAMAAAAAAQAAAQAAAAABAAACAAAAAAEAAAQAAAAAAgAAAQAAAAABAAADAAAAAAEAAAEAAAAAAQAABAAAAAACAAABAAAAAAEAAAQAAAAAAgAAAQAAAAABAAAFAAAAAAEAAAIAAAAAAQAAAAAAAAABAAABAAAAAAEAAAQAAAAAAgAAAQAAAAABAAACAAAAAAEAAAMAAAAAAQAAAQAAAAABAAACAAAAABxzdHNjAAAAAAAAAAEAAAABAAAAYAAAAAEAAAGUc3RzegAAAAAAAAAAAAAAYAAABNEAAADrAAAAVwAAAEIAAABRAAAAigAAAF0AAAA7AAAANQAAAIYAAABsAAAASgAAAE4AAAA2AAAAkgAAAD8AAAAjAAABAgAAAHgAAABCAAAARAAAAKoAAABZAAAAPgAAADMAAACMAAAARgAAAEYAAADEAAAAaQAAAE4AAAA/AAAArgAAAFcAAABCAAAARQAAAMYAAABuAAAAUgAAAF0AAADDAAAAaAAAAF4AAAB2AAAAbQAAAFQAAABFAAAAbQAAAG0AAABHAAAAMQAAADQAAAD7AAAAawAAAFEAAABWAAAAuQAAAFYAAABSAAAAVQAAAH8AAABMAAAAWwAAAEgAAACcAAAATAAAAF8AAABfAAAAdgAAAEkAAACNAAAAdwAAAEgAAACYAAAAogAAAGQAAABWAAAApwAAAHAAAACkAAAAZAAAAD8AAABqAAAARwAAAD8AAACNAAAAWgAAAE0AAAAuAAAAvQAAAFMAAABJAAAAogAAALMAAAB5AAAAfgAAABRzdGNvAAAAAAAAAAEAAAAwAAAAYnVkdGEAAABabWV0YQAAAAAAAAAhaGRscgAAAAAAAAAAbWRpcmFwcGwAAAAAAAAAAAAAAAAtaWxzdAAAACWpdG9vAAAAHWRhdGEAAAABAAAAAExhdmY1Ny44My4xMDA=\" type=\"video/mp4\" />\n",
              "             </video>"
            ],
            "text/plain": [
              "<IPython.core.display.HTML object>"
            ]
          },
          "metadata": {
            "tags": []
          }
        },
        {
          "output_type": "stream",
          "text": [
            "\n",
            "SHOWING VIDEO video/openaigym.video.11.2356.video002300.mp4\n"
          ],
          "name": "stdout"
        },
        {
          "output_type": "display_data",
          "data": {
            "text/html": [
              "<video alt=\"test\" autoplay \n",
              "                loop controls style=\"height: 400px;\">\n",
              "                <source src=\"data:video/mp4;base64,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\" type=\"video/mp4\" />\n",
              "             </video>"
            ],
            "text/plain": [
              "<IPython.core.display.HTML object>"
            ]
          },
          "metadata": {
            "tags": []
          }
        },
        {
          "output_type": "stream",
          "text": [
            "\n",
            "SHOWING VIDEO video/openaigym.video.11.2356.video002400.mp4\n"
          ],
          "name": "stdout"
        },
        {
          "output_type": "display_data",
          "data": {
            "text/html": [
              "<video alt=\"test\" autoplay \n",
              "                loop controls style=\"height: 400px;\">\n",
              "                <source src=\"data:video/mp4;base64,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\" type=\"video/mp4\" />\n",
              "             </video>"
            ],
            "text/plain": [
              "<IPython.core.display.HTML object>"
            ]
          },
          "metadata": {
            "tags": []
          }
        },
        {
          "output_type": "stream",
          "text": [
            "\n",
            "SHOWING VIDEO video/openaigym.video.11.2356.video002500.mp4\n"
          ],
          "name": "stdout"
        },
        {
          "output_type": "display_data",
          "data": {
            "text/html": [
              "<video alt=\"test\" autoplay \n",
              "                loop controls style=\"height: 400px;\">\n",
              "                <source src=\"data:video/mp4;base64,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\" type=\"video/mp4\" />\n",
              "             </video>"
            ],
            "text/plain": [
              "<IPython.core.display.HTML object>"
            ]
          },
          "metadata": {
            "tags": []
          }
        },
        {
          "output_type": "stream",
          "text": [
            "\n",
            "SHOWING VIDEO video/openaigym.video.11.2356.video002600.mp4\n"
          ],
          "name": "stdout"
        },
        {
          "output_type": "display_data",
          "data": {
            "text/html": [
              "<video alt=\"test\" autoplay \n",
              "                loop controls style=\"height: 400px;\">\n",
              "                <source src=\"data:video/mp4;base64,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\" type=\"video/mp4\" />\n",
              "             </video>"
            ],
            "text/plain": [
              "<IPython.core.display.HTML object>"
            ]
          },
          "metadata": {
            "tags": []
          }
        },
        {
          "output_type": "stream",
          "text": [
            "\n",
            "SHOWING VIDEO video/openaigym.video.11.2356.video002700.mp4\n"
          ],
          "name": "stdout"
        },
        {
          "output_type": "display_data",
          "data": {
            "text/html": [
              "<video alt=\"test\" autoplay \n",
              "                loop controls style=\"height: 400px;\">\n",
              "                <source src=\"data:video/mp4;base64,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\" type=\"video/mp4\" />\n",
              "             </video>"
            ],
            "text/plain": [
              "<IPython.core.display.HTML object>"
            ]
          },
          "metadata": {
            "tags": []
          }
        },
        {
          "output_type": "stream",
          "text": [
            "\n",
            "SHOWING VIDEO video/openaigym.video.11.2356.video002800.mp4\n"
          ],
          "name": "stdout"
        },
        {
          "output_type": "display_data",
          "data": {
            "text/html": [
              "<video alt=\"test\" autoplay \n",
              "                loop controls style=\"height: 400px;\">\n",
              "                <source src=\"data:video/mp4;base64,AAAAIGZ0eXBpc29tAAACAGlzb21pc28yYXZjMW1wNDEAAAAIZnJlZQAAFUhtZGF0AAACrgYF//+q3EXpvebZSLeWLNgg2SPu73gyNjQgLSBjb3JlIDE1MiByMjg1NCBlOWE1OTAzIC0gSC4yNjQvTVBFRy00IEFWQyBjb2RlYyAtIENvcHlsZWZ0IDIwMDMtMjAxNyAtIGh0dHA6Ly93d3cudmlkZW9sYW4ub3JnL3gyNjQuaHRtbCAtIG9wdGlvbnM6IGNhYmFjPTEgcmVmPTMgZGVibG9jaz0xOjA6MCBhbmFseXNlPTB4MzoweDExMyBtZT1oZXggc3VibWU9NyBwc3k9MSBwc3lfcmQ9MS4wMDowLjAwIG1peGVkX3JlZj0xIG1lX3JhbmdlPTE2IGNocm9tYV9tZT0xIHRyZWxsaXM9MSA4eDhkY3Q9MSBjcW09MCBkZWFkem9uZT0yMSwxMSBmYXN0X3Bza2lwPTEgY2hyb21hX3FwX29mZnNldD0tMiB0aHJlYWRzPTMgbG9va2FoZWFkX3RocmVhZHM9MSBzbGljZWRfdGhyZWFkcz0wIG5yPTAgZGVjaW1hdGU9MSBpbnRlcmxhY2VkPTAgYmx1cmF5X2NvbXBhdD0wIGNvbnN0cmFpbmVkX2ludHJhPTAgYmZyYW1lcz0zIGJfcHlyYW1pZD0yIGJfYWRhcHQ9MSBiX2JpYXM9MCBkaXJlY3Q9MSB3ZWlnaHRiPTEgb3Blbl9nb3A9MCB3ZWlnaHRwPTIga2V5aW50PTI1MCBrZXlpbnRfbWluPTI1IHNjZW5lY3V0PTQwIGludHJhX3JlZnJlc2g9MCByY19sb29rYWhlYWQ9NDAgcmM9Y3JmIG1idHJlZT0xIGNyZj0yMy4wIHFjb21wPTAuNjAgcXBtaW49MCBxcG1heD02OSBxcHN0ZXA9NCBpcF9yYXRpbz0xLjQwIGFxPTE6MS4wMACAAAACGmWIhAAz//727L4FNf2f0JcRLMXaSnA+KqSAgHc0wAAAAwAAAwAAFgn0I7DkqgN3QAAAHGAFBCwCPCVC2EhH2OpnXwOssgEzAdGcIqgr148x/2fxp/d1A1QD5u+9nwDQFpHnQtf/dGFXDQlXaZu02CWSsl16mhy+CDJ5/rJ+TdS8xbfVtQkUeUZyaV6VR07P435S2rCU9l3TbBqOL7jf506AroFc48uZytba/3zC2ElqHm64dLgD6NfkMJJXvpqcMMg4YbkRn2LlwyIB3FgWweMQM0uPmNmpWCRmxUlwS0XulWLxPMjTJMmvls7c1CgwcBOWWnk36+h8pLpLO/kEeIad90hgi/pprAU6kUYr4Dwq4IUc1Pr56XGq3a2gQpGyYHfNAGVcvCD8wbwusQj60jYmJsdKhGBmgZ3Q/peE3JiBnDTQtQORIiqlGay/dqtNnWQtoIkpLmber9JfkPi3KfO7iBP58k++92QGCeBAKEC7Ri5ThmHBva93aFhGaXFpwu6yotEkl6Vwi/PEvWHC3KsBrRBfdYGmCBtCAQlw+/gu99g/x74aVvrtV585e4jN/Ji0DHr4Y7a0sHLM/8fEJc2dr6EjEMzTCLEMD8PDkAhFdKfsVRjssA3MYoLK1d3ektdyRUET/yu09F06WVHS6OpvxtqVkwAO3h/AtGRsiwfxkKMkAAA6gAAPWoAAAAMAAAMAAAMAAAMAGdEAAAC1QZokbEM//p4QAABFU9rABX6vpOSQKzvQxD7QktK+8AqJfWakoTeQ8ODRTd4UUJpq0ussOdKopmKd1MOfWJz9u4uoTqPS3jIlwAD6v6DIGjrI3HRNID73LAOUpP9AW7tu94Z7s0bIltuDrotyVpPx1JJHmY9QwjQrbjXzjOJV9C+WD0zv1aKyruBQKDy1wVGyjG7BqvAMclOKzJPTENWPINB1SQTmSV8kub2qaB0zg6L8KL8k2wAAAFBBnkJ4hH8AAAitfDV8ioR0175OGYYCc1OgfGwFeqmbNWziLULiTREItR0oyEgO+LzQ03QdavIhXyaUAtdZAVGYETeoAABkC8ebnaMsFc4W3QAAAD0BnmF0R/8AACO4w8Tu68KIYftkCW/NtlfB7cktwAJ0bAZJ2T2Ujz+yeaAAAAMAAAMAAFDkgAI5LaplgAO6AAAALQGeY2pH/wAADdSVLuFACc9aiH1H153yS0U1m6hVEAAAAwABHwABbFtTwgAM+QAAAKNBmmhJqEFomUwIZ//+nhAAAEe6bz3YViKyLcJhZo6SAEHlWjJYz+bWgKvDS/LNxhQhG8BDLDP8vkmlvDbr7wPm1EIenvU3Xb2JcHdoVY9AA70z5BH/HPUZCf3urnAhXRjTZshHLlJ+a4ezaa83k+ci2yB0LuX1Xhg0HIL2dSe07d2l3VMAAAMAAAMAMIzvuO9dx3X8dJzphBdtUyw5CXXJOiKBAAAAUEGehkURLCP/AAAXQywDozDFykoKdF3hBwWEOvFfe3HF6DDAK6sUQAhOEB6n0U/1rVPWHcBJyW6gQ/JgAAADAAByJQAAmzuAuZnbVKoHylvRAAAARAGepXRH/wAADc9QqwA88nAz6JaCID1yYFksm+BTwMBz4QwI9G9BuFAAAAMAAKzVJuO1EyylfM4HdAb0WBUebVKoADUhAAAAQgGep2pH/wAAJLHMCXBM/DJ8r0AC2/dvkROmfun8OLeY2+rTSCod9zF2j1G//lMwAAADAD59ugAAAwAZTVcqMsABQQAAAL9BmqxJqEFsmUwIZ//+nhAAAEdR/2xGPjcNcWZAF/IlBQTVsqGanjjIF07MPhQiJ59PCxXM/JEUdI2vpF6vqzDpF4B+xuVNaH8hV3G7Rthynv1a/JH03JkGnX1hGe18qPYpOm3zgD1V/9/ITuYL8FOqMBnIk7XSkHnNLE6trrHntCZUNB4OOmnRyysZvAAAAwAAAwAAIrh8u3wvGYOt/vw9P1w/w1k3OOOBVQhXdG0O7gvQ/rrUqgqzXxjsjgiygAAAAFFBnspFFSwj/wAAF0nI+AQnbCr6LZ6Ivf9c8pjA2IGo6TYQaHwWQ9+8952CKs4J4PgKlhMT3uWgQ4SI35wKCBAAAAMAACQAApwSa7anhBcMDFkAAAA6AZ7pdEf/AAAkq/hfYJuh8Z2wKXJWrRXPBJmd9rGgorgI/6U7Y8QcAAADAAADAL8AAX4MR9ipVAAPWAAAACUBnutqR/8AACSxy/x7VdZ2Dh5Stf0szUwPHcGVtmiH2izZwEvAAAAAsEGa8EmoQWyZTAhn//6eEAAAR0RZ9jEdgAjI99S9Nl28qvZIlv4YANt9D+Dmw9p2NfMx00AiEsLYTyDPFebr415aCiNZ5zIfCET17rvP4HsYfd9U+wmu63l573+vXjEOT1Y7mx8AUccp3ft6S+hhktV8xZGXL233bNlXc7BCq2dHdyOuKwV2GOTUe25iqD5DbvWsdjQNMu9Hsz7/NtluJIAAAAMADzfhRVGXLETMlb2hAAAAWEGfDkUVLCP/AAAXQ0f7cSMFiPeXDTqwAGj1bpSBWlUjfQC9Sa5WinnEAvmkIEkb0MvLYQ5FCy1pgtWa6rpn9vLu2pUOlnaYH6xuIAAAAwAATqu5dUqgIGEAAAAtAZ8tdEf/AAAkwxdohOrn0PJ4laJV7DNUBtZRSE3CNvam0HV6rpfeoczhi/bBAAAARgGfL2pH/wAAJLHME62hyfOPtMtjIFgeykhHRiErqQMSztAAfuO9Zz3P/3FTaPCc06EFkLoGRrl+gklcsQj4AAA38TPCAi4AAACkQZs0SahBbJlMCF///oywAABIAUUpIgAv9ryPZaY2MYN5LL4II7Z3v38DTKLrMKs6enMcY6H/+Wuoods1a3lYApFwxQ4hG1t5t3HdB3o5n8oV1AY812URAOnR8WaS0BsNj0OJKk/88L7kTDv4guiLt3bWZP0iW7STJalZQAUU7ub1iwGDFCcxyHHJGi9eZ8Gv2TqgX33YKAAAAwAAjwFqVh7ci9EAAABSQZ9SRRUsI/8AABdLY1xPNPHKZFMeXyneXrhzY9ZpSsrPyIJbfWTrMewkzc0Yk9Hxm7ksqWPnceZ8AWtjvy2uFY1vf3Tl7bAAAAMABZa1UqgH5QAAAE8Bn3F0R/8AACTAmR/OhcQ8FqGNB606ZEi3WcstxlWLWQUOAMOgdQ3eQ13r4ATJ7HSBFF3fTdp3z84EcUZ+jBfAAAADAAADAAXcVAxSqAfkAAAATAGfc2pH/wAAJK5nfAA47sgEXYJJTtW3czBlqQkTIH6Kkkp1qnEeaL0ZL2a8Zm+Czr9tdgPUgQIV8M8j7VzUjLZwU7I3LzeexeyW624AAAB/QZt4SahBbJlMCF///oywAABIKRs9xy7jAJkarE1ThHD0Ci9k2apDY5AWioF0cupLlXZxTQr/DHkw6cwT2xn0eDDvcjt0R84rqfwnE5yv2ewRzXyUXnItW7/w+H95pjbGE9GK0v2f1hJPfrn5Sar3VkMaKyQZBmDLRTLMr4/skQAAAFRBn5ZFFSwj/wAAF0uKpvkrp+vmszEL4fwnQQfUjsf3m77jte9SznGOcySBZCXU62CxyjO8NFWhzUNgBat3e5g3w9FlWp/vNVpWmJrqurFJ1LurpSoAAAA2AZ+1dEf/AAAkwwdFySg5709fZtR1NjpPnbdROvXSOPIZNTUL29nyAEyZ+N5hYtJL0pvdD6ThAAAAOQGft2pH/wAAJDuAoNPmvFoJMKvp9w8uqjASoZ7rWZ3DJJ+SZlSK93KTpYnMMmlvIc50+PyFuNGckQAAAIRBm7xJqEFsmUwIX//+jLAAAEgypencARMDDZKgTZ7WhmuMQ/Ya4WOSaA1+lEQAy9gzx89L5+nYyx1J/ihNFMTVvGu5b6gFDDIZX2dtAxGJIXZ8zxIAjf0IASkLrIvJNQeQecL7mJCIsEqAf+FJPSeK7sLAw9p9UNx30nyALWJ46EiDZRAAAABdQZ/aRRUsI/8AABdQWVNpQAsODgX+zbUIDKTzy7HY/F5FpA1zdsBY3jhqouPwxolNFnfmOiBrNPBXpCsFg6w0ejZxJJEyyxqrQHjxdteAiJIQ6LYaVpODuhdiQcAhAAAAUAGf+XRH/wAAJJIoKBP9GjjKfyy1MEVJ405dPVq23MzLWr/IvW/oNXfnxJA44Y1Q/IlaPcIATnd88MW2lu6TKCqikNYUKrmWjBaONio4jMSYAAAASwGf+2pH/wAAJL71GQ9CRMJ8ZAAtRG4RQ9swdzEDASRTrz82CrFiurZXhcH8/oEFSLGhCAUyN/jfnZ0IMF3C0I7WDEkIcq3fgRvakQAAALxBm/5JqEFsmUwUTC///oywAABH836IxYAcYwMGcgr2Y1v6fA+4ryW+R9cXXAkguQXnWJ+5s88IZbRBfZrOleWzbJd1JsrLh5NTTVJDs3Ncy9IBy7zyHSRGTMaZd1cvfEnUg00arSuuvjKCoEoCb22DC8F1KxRrB704RDGI1e17aAcOy/cA3B43kuMHsaZGraAqIZIeMVCTQtteAfHrVdl9W9ogwYVgdIF+ckXzLdJuxg7i11rNJUZX0+E3YQAAADkBnh1qR/8AACSx8e9NUkT5HcgEmIABc4ppWDpzKync3Fn9aPLOXmCv+7dxFmw5I453jhgjQ+0kBBYAAADwQZoCSeEKUmUwIX/+jLAAAEgUv9mQBJmnleLgAtE0iyPFPVfdAitv3Wydi9txK2U+sMB9YBRCWcnrlZGCvJmMk3AB0I7QQ9A7AZ/deLdZGWV4h+idQ484iKR7slR9i3uvevrGzjLQNe4MgT0sRBBX3Wx/e43QjdrFzGJWYEzVrNZninUdToUaSwyn/udqAkNZGZVCuaoRuBEv2aMdqnrB1AC1QOp1CN0SC5bFHF2PolbLALu5xgVJ3PLq+0I1xWEJFP8TAnqLIbd2pVCNfx5KJX/wrd5uyewF0tpIre63DxQrUmGdsnx6tqLf1HpvvjW4AAAAWUGeIEU0TCP/AAAXQ0gxkrflIu/6dVEXkKAof4VTio65cQsg8eLgPufErFFbsNQVI7WK4hVwAnalFrQuYe+hCNCOLvVavemd3SXh8Bq+GX5Z/5H7WXNrzOYtAAAARQGeX3RH/wAADde4gyLnA3thtZkAvY65W/5WS+5vQ7m190GTpqIr7kicPDU05YFKPCBvnYAPa0OgcVyF7v2u/ID8MMKo8AAAAE0BnkFqR/8AACO9hB23zeUZmdnIyafmckEeNkjnX4p0UmUoXzMrrc6eqKdgbh+Kk00W1+lMYAGwwhYcmLyBurS88/v45CO/Q0T47RJv7wAAAJhBmkVJqEFomUwIV//+OEAAARXFdd1bcABxtnLyHpLw2NT6ImFPDXZWwlZohCuxLsyyjpAZDsoPYzH6IEtIswQ+NuNezIZFeoAbK8+zbdDn3diQTAEPI6W92utx0rbDZryQ/GiMbqNlS/ZYMpALhFmH7PqH2q6fMFMLVY+YXSsDtSThxjP8AXVraRLuOouO6390CMXBODErKQAAAFlBnmNFESwj/wAAFzp1hNIAWzGI4gf2KyNgnmRuddztyQJ3zcqQW5+iwMZTbg/zVxFiOOUccGRZK7wwSlZREQpybvGfU8VSmpQlSw5SDL+yaXpAK5UmqvDPbQAAAEkBnoRqR/8AACO/H9wLtKD156FpV9Z+XVsQVKbuJAiBGaNtxc677w3GTRnZ/KaAj0U2G7g7swfE6+XwpihSNByA4v9q5e51qdOBAAAAjEGaiUmoQWyZTAj//IQAABBQwMxACw4uQSr9cgtqbVo4HznwvHb9rOEnv3P38yQuDaC520O8pStP3vvSExKLsYczUKzI0ukEmQfns9biNaVZ6T+XkzpM38oNgjS/H3Ft+DmhSR8LUT9lDxH6NOe7KUXtU7NkHx6UCz1y7ntLg/dHzR4Ghwc3D3E/HXFhAAAAg0Gep0UVLCP/AAAW/jfzQiAL6lhHfzsVOgsqCkIsceaaj0hblrvRrKKMOscimR7didGLBuGtNFEo3/uqZa2hv6IkhEgQu9oQnjl2xSIKV8kfikvZNx5zyXB14+k17mxofVaTOBTGfvCOV2nxAUjiClnhtUPuMbbUSRD3Hq21aEwxJ9+nAAAATgGexnRH/wAAJHisb1JbAV6KySUWKySxMtnE8ZsCctFTPnjnv7LOWgKfV+D+6EvLrMq0a3fGw/IqmGLzV5JroAH7mgadrj2c5cVPz2ynDwAAAEQBnshqR/8AAA4r9LcQXgQMwqu4s8c5Left3259ahWS0Qw22qSuRKY69c0JLZwCFXBEWQig/fzhWteiAE1tysQLNgzggAAABQNtb292AAAAbG12aGQAAAAAAAAAAAAAAAAAAAPoAAADSAABAAABAAAAAAAAAAAAAAAAAQAAAAAAAAAAAAAAAAAAAAEAAAAAAAAAAAAAAAAAAEAAAAAAAAAAAAAAAAAAAAAAAAAAAAAAAAAAAAAAAAACAAAELXRyYWsAAABcdGtoZAAAAAMAAAAAAAAAAAAAAAEAAAAAAAADSAAAAAAAAAAAAAAAAAAAAAAAAQAAAAAAAAAAAAAAAAAAAAEAAAAAAAAAAAAAAAAAAEAAAAACWAAAAZAAAAAAACRlZHRzAAAAHGVsc3QAAAAAAAAAAQAAA0gAAAIAAAEAAAAAA6VtZGlhAAAAIG1kaGQAAAAAAAAAAAAAAAAAADIAAAAqAFXEAAAAAAAtaGRscgAAAAAAAAAAdmlkZQAAAAAAAAAAAAAAAFZpZGVvSGFuZGxlcgAAAANQbWluZgAAABR2bWhkAAAAAQAAAAAAAAAAAAAAJGRpbmYAAAAcZHJlZgAAAAAAAAABAAAADHVybCAAAAABAAADEHN0YmwAAACYc3RzZAAAAAAAAAABAAAAiGF2YzEAAAAAAAAAAQAAAAAAAAAAAAAAAAAAAAACWAGQAEgAAABIAAAAAAAAAAEAAAAAAAAAAAAAAAAAAAAAAAAAAAAAAAAAAAAAAAAAAAAY//8AAAAyYXZjQwFkAB//4QAZZ2QAH6zZQJgz5eEAAAMAAQAAAwBkDxgxlgEABmjr48siwAAAABhzdHRzAAAAAAAAAAEAAAAqAAABAAAAABRzdHNzAAAAAAAAAAEAAAABAAABWGN0dHMAAAAAAAAAKQAAAAEAAAIAAAAAAQAABQAAAAABAAACAAAAAAEAAAAAAAAAAQAAAQAAAAABAAAFAAAAAAEAAAIAAAAAAQAAAAAAAAABAAABAAAAAAEAAAUAAAAAAQAAAgAAAAABAAAAAAAAAAEAAAEAAAAAAQAABQAAAAABAAACAAAAAAEAAAAAAAAAAQAAAQAAAAABAAAFAAAAAAEAAAIAAAAAAQAAAAAAAAABAAABAAAAAAEAAAUAAAAAAQAAAgAAAAABAAAAAAAAAAEAAAEAAAAAAQAABQAAAAABAAACAAAAAAEAAAAAAAAAAQAAAQAAAAABAAADAAAAAAEAAAEAAAAAAQAABQAAAAABAAACAAAAAAEAAAAAAAAAAQAAAQAAAAABAAAEAAAAAAIAAAEAAAAAAQAABQAAAAABAAACAAAAAAEAAAAAAAAAAQAAAQAAAAAcc3RzYwAAAAAAAAABAAAAAQAAACoAAAABAAAAvHN0c3oAAAAAAAAAAAAAACoAAATQAAAAuQAAAFQAAABBAAAAMQAAAKcAAABUAAAASAAAAEYAAADDAAAAVQAAAD4AAAApAAAAtAAAAFwAAAAxAAAASgAAAKgAAABWAAAAUwAAAFAAAACDAAAAWAAAADoAAAA9AAAAiAAAAGEAAABUAAAATwAAAMAAAAA9AAAA9AAAAF0AAABJAAAAUQAAAJwAAABdAAAATQAAAJAAAACHAAAAUgAAAEgAAAAUc3RjbwAAAAAAAAABAAAAMAAAAGJ1ZHRhAAAAWm1ldGEAAAAAAAAAIWhkbHIAAAAAAAAAAG1kaXJhcHBsAAAAAAAAAAAAAAAALWlsc3QAAAAlqXRvbwAAAB1kYXRhAAAAAQAAAABMYXZmNTcuODMuMTAw\" type=\"video/mp4\" />\n",
              "             </video>"
            ],
            "text/plain": [
              "<IPython.core.display.HTML object>"
            ]
          },
          "metadata": {
            "tags": []
          }
        },
        {
          "output_type": "stream",
          "text": [
            "\n",
            "SHOWING VIDEO video/openaigym.video.11.2356.video002900.mp4\n"
          ],
          "name": "stdout"
        },
        {
          "output_type": "display_data",
          "data": {
            "text/html": [
              "<video alt=\"test\" autoplay \n",
              "                loop controls style=\"height: 400px;\">\n",
              "                <source src=\"data:video/mp4;base64,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\" type=\"video/mp4\" />\n",
              "             </video>"
            ],
            "text/plain": [
              "<IPython.core.display.HTML object>"
            ]
          },
          "metadata": {
            "tags": []
          }
        }
      ]
    },
    {
      "cell_type": "markdown",
      "metadata": {
        "id": "JkG9iDZTIhzc"
      },
      "source": [
        "## Final test"
      ]
    },
    {
      "cell_type": "code",
      "metadata": {
        "id": "vJKgnu3_IjWE"
      },
      "source": [
        "# Initialize the Gym environment\n",
        "env = gym.make('CartPole-v1') \n",
        "env.seed(1) # Set a random seed for the environment (reproducible results)\n",
        "\n",
        "# This is for creating the output video in Colab, not required outside Colab\n",
        "env = wrap_env(env, video_callable=lambda episode_id: True) # Save a video every episode\n",
        "\n",
        "# Let's try for a total of 10 episodes\n",
        "for num_episode in range(10): \n",
        "    # Reset the environment and get the initial state\n",
        "    state = env.reset()\n",
        "    # Reset the score. The final score will be the total amount of steps before the pole falls\n",
        "    score = 0\n",
        "    done = False\n",
        "    # Go on until the pole falls off or the score reach 490\n",
        "    while not done:\n",
        "      # Choose the best action (temperature 0)\n",
        "      action, q_values = choose_action_softmax(policy_net, state, temperature=0)\n",
        "      # Apply the action and get the next state, the reward and a flag \"done\" that is True if the game is ended\n",
        "      next_state, reward, done, info = env.step(action)\n",
        "      # Visually render the environment\n",
        "      env.render()\n",
        "      # Update the final score (+1 for each step)\n",
        "      score += reward \n",
        "      # Set the current state for the next iteration\n",
        "      state = next_state\n",
        "      # Check if the episode ended (the pole fell down)\n",
        "    # Print the final score\n",
        "    print(f\"EPISODE {num_episode + 1} - FINAL SCORE: {score}\") \n",
        "env.close()"
      ],
      "execution_count": null,
      "outputs": []
    },
    {
      "cell_type": "code",
      "metadata": {
        "id": "mxdtGJutLqlw"
      },
      "source": [
        "# Display the videos, not required outside Colab\n",
        "show_videos()"
      ],
      "execution_count": null,
      "outputs": []
    }
  ]
}