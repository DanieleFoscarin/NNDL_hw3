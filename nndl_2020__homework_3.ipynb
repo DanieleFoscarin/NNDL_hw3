{
  "nbformat": 4,
  "nbformat_minor": 0,
  "metadata": {
    "colab": {
      "name": "nndl_2020__homework_3.ipynb",
      "provenance": [],
      "collapsed_sections": [],
      "toc_visible": true,
      "include_colab_link": true
    },
    "kernelspec": {
      "name": "python3",
      "display_name": "Python 3"
    }
  },
  "cells": [
    {
      "cell_type": "markdown",
      "metadata": {
        "id": "view-in-github",
        "colab_type": "text"
      },
      "source": [
        "<a href=\"https://colab.research.google.com/github/DanieleFoscarin/NNDL_hw3/blob/main/nndl_2020__homework_3.ipynb\" target=\"_parent\"><img src=\"https://colab.research.google.com/assets/colab-badge.svg\" alt=\"Open In Colab\"/></a>"
      ]
    },
    {
      "cell_type": "markdown",
      "metadata": {
        "id": "zYncZVOyF8Rb"
      },
      "source": [
        "#NEURAL NETWORKS AND DEEP LEARNING\n",
        "> M.Sc. ICT FOR LIFE AND HEALTH\n",
        "> \n",
        "> Department of Information Engineering\n",
        "\n",
        "> M.Sc. COMPUTER ENGINEERING\n",
        ">\n",
        "> Department of Information Engineering\n",
        "\n",
        "> M.Sc. AUTOMATION ENGINEERING\n",
        ">\n",
        "> Department of Information Engineering\n",
        " \n",
        "> M.Sc. PHYSICS OF DATA\n",
        ">\n",
        "> Department of Physics and Astronomy\n",
        " \n",
        "> M.Sc. COGNITIVE NEUROSCIENCE AND CLINICAL NEUROPSYCHOLOGY\n",
        ">\n",
        "> Department of General Psychology\n",
        "\n",
        "---\n",
        "A.A. 2020/21 (6 CFU) - Dr. Alberto Testolin, Dr. Matteo Gadaleta\n",
        "---\n"
      ]
    },
    {
      "cell_type": "markdown",
      "metadata": {
        "id": "AgHJFDwYvgHg"
      },
      "source": [
        "# Homework 3 - Deep Reinforcement Learning"
      ]
    },
    {
      "cell_type": "markdown",
      "metadata": {
        "id": "jMm9ZPM7w7ir"
      },
      "source": [
        "# Part 1"
      ]
    },
    {
      "cell_type": "markdown",
      "metadata": {
        "id": "poiXxYrdw-Nz"
      },
      "source": [
        "Prepare enviroment"
      ]
    },
    {
      "cell_type": "code",
      "metadata": {
        "id": "jBelL8nBZVsn",
        "colab": {
          "base_uri": "https://localhost:8080/"
        },
        "outputId": "6c8ac3a8-77d1-4e64-a007-a6c0ce6f3236"
      },
      "source": [
        "!pip install gym"
      ],
      "execution_count": 1,
      "outputs": [
        {
          "output_type": "stream",
          "text": [
            "Requirement already satisfied: gym in /usr/local/lib/python3.6/dist-packages (0.17.3)\n",
            "Requirement already satisfied: scipy in /usr/local/lib/python3.6/dist-packages (from gym) (1.4.1)\n",
            "Requirement already satisfied: pyglet<=1.5.0,>=1.4.0 in /usr/local/lib/python3.6/dist-packages (from gym) (1.5.0)\n",
            "Requirement already satisfied: numpy>=1.10.4 in /usr/local/lib/python3.6/dist-packages (from gym) (1.19.5)\n",
            "Requirement already satisfied: cloudpickle<1.7.0,>=1.2.0 in /usr/local/lib/python3.6/dist-packages (from gym) (1.3.0)\n",
            "Requirement already satisfied: future in /usr/local/lib/python3.6/dist-packages (from pyglet<=1.5.0,>=1.4.0->gym) (0.16.0)\n"
          ],
          "name": "stdout"
        }
      ]
    },
    {
      "cell_type": "code",
      "metadata": {
        "id": "a7EkHQ0VsNnJ"
      },
      "source": [
        "import random\n",
        "import torch\n",
        "import numpy as np\n",
        "import gym\n",
        "import matplotlib.pyplot as plt\n",
        "from tqdm.notebook import tqdm\n",
        "\n",
        "from torch import nn\n",
        "from collections import deque # this python module implements exactly what we need for the replay memeory"
      ],
      "execution_count": 2,
      "outputs": []
    },
    {
      "cell_type": "markdown",
      "metadata": {
        "id": "LKzDB1SPZYY1"
      },
      "source": [
        "## Enable gym environment rendering in Colab\n",
        "\n",
        "> This section is not required if you are executing the notebook in a local environment. It enables the video generation from Gym environments, and it is only required in Colab since we do not have access to a screen.\n",
        "\n",
        "Source: https://colab.research.google.com/drive/18LdlDDT87eb8cCTHZsXyS9ksQPzL3i6H"
      ]
    },
    {
      "cell_type": "code",
      "metadata": {
        "id": "V0HIwpatSteb",
        "colab": {
          "base_uri": "https://localhost:8080/"
        },
        "outputId": "38674169-09e7-4256-a3e4-e61977b12e52"
      },
      "source": [
        "!apt update\n",
        "!apt-get install python-opengl -y\n",
        "!apt install xvfb -y\n",
        "!pip install pyvirtualdisplay\n",
        "!pip install piglet"
      ],
      "execution_count": 3,
      "outputs": [
        {
          "output_type": "stream",
          "text": [
            "\u001b[33m\r0% [Working]\u001b[0m\r            \rHit:1 http://archive.ubuntu.com/ubuntu bionic InRelease\n",
            "\u001b[33m\r0% [Waiting for headers] [Connecting to security.ubuntu.com (91.189.91.38)] [Wa\u001b[0m\r                                                                               \rHit:2 http://archive.ubuntu.com/ubuntu bionic-updates InRelease\n",
            "\r                                                                               \rHit:3 https://cloud.r-project.org/bin/linux/ubuntu bionic-cran40/ InRelease\n",
            "\u001b[33m\r0% [Waiting for headers] [Connecting to security.ubuntu.com (91.189.91.38)] [Co\u001b[0m\u001b[33m\r0% [1 InRelease gpgv 242 kB] [Waiting for headers] [Connecting to security.ubun\u001b[0m\r                                                                               \rHit:4 http://archive.ubuntu.com/ubuntu bionic-backports InRelease\n",
            "\u001b[33m\r0% [1 InRelease gpgv 242 kB] [Connecting to security.ubuntu.com (91.189.91.38)]\u001b[0m\r                                                                               \rHit:5 http://ppa.launchpad.net/c2d4u.team/c2d4u4.0+/ubuntu bionic InRelease\n",
            "\u001b[33m\r                                                                               \r0% [1 InRelease gpgv 242 kB] [Waiting for headers] [Waiting for headers]\u001b[0m\r                                                                        \rHit:6 http://ppa.launchpad.net/cran/libgit2/ubuntu bionic InRelease\n",
            "\u001b[33m\r0% [1 InRelease gpgv 242 kB] [Waiting for headers] [Waiting for headers]\u001b[0m\r                                                                        \rHit:7 http://ppa.launchpad.net/graphics-drivers/ppa/ubuntu bionic InRelease\n",
            "\u001b[33m\r0% [1 InRelease gpgv 242 kB] [Waiting for headers] [Waiting for headers]\u001b[0m\r                                                                        \rGet:8 http://security.ubuntu.com/ubuntu bionic-security InRelease [88.7 kB]\n",
            "Ign:9 https://developer.download.nvidia.com/compute/cuda/repos/ubuntu1804/x86_64  InRelease\n",
            "Ign:10 https://developer.download.nvidia.com/compute/machine-learning/repos/ubuntu1804/x86_64  InRelease\n",
            "Hit:11 https://developer.download.nvidia.com/compute/cuda/repos/ubuntu1804/x86_64  Release\n",
            "Hit:12 https://developer.download.nvidia.com/compute/machine-learning/repos/ubuntu1804/x86_64  Release\n",
            "Fetched 88.7 kB in 2s (41.0 kB/s)\n",
            "Reading package lists... Done\n",
            "Building dependency tree       \n",
            "Reading state information... Done\n",
            "22 packages can be upgraded. Run 'apt list --upgradable' to see them.\n",
            "Reading package lists... Done\n",
            "Building dependency tree       \n",
            "Reading state information... Done\n",
            "python-opengl is already the newest version (3.1.0+dfsg-1).\n",
            "0 upgraded, 0 newly installed, 0 to remove and 22 not upgraded.\n",
            "Reading package lists... Done\n",
            "Building dependency tree       \n",
            "Reading state information... Done\n",
            "xvfb is already the newest version (2:1.19.6-1ubuntu4.8).\n",
            "0 upgraded, 0 newly installed, 0 to remove and 22 not upgraded.\n",
            "Requirement already satisfied: pyvirtualdisplay in /usr/local/lib/python3.6/dist-packages (2.0)\n",
            "Requirement already satisfied: EasyProcess in /usr/local/lib/python3.6/dist-packages (from pyvirtualdisplay) (0.3)\n",
            "Requirement already satisfied: piglet in /usr/local/lib/python3.6/dist-packages (1.0.0)\n",
            "Requirement already satisfied: piglet-templates in /usr/local/lib/python3.6/dist-packages (from piglet) (1.1.0)\n",
            "Requirement already satisfied: attrs in /usr/local/lib/python3.6/dist-packages (from piglet-templates->piglet) (20.3.0)\n",
            "Requirement already satisfied: Parsley in /usr/local/lib/python3.6/dist-packages (from piglet-templates->piglet) (1.3)\n",
            "Requirement already satisfied: markupsafe in /usr/local/lib/python3.6/dist-packages (from piglet-templates->piglet) (1.1.1)\n",
            "Requirement already satisfied: astunparse in /usr/local/lib/python3.6/dist-packages (from piglet-templates->piglet) (1.6.3)\n",
            "Requirement already satisfied: six<2.0,>=1.6.1 in /usr/local/lib/python3.6/dist-packages (from astunparse->piglet-templates->piglet) (1.15.0)\n",
            "Requirement already satisfied: wheel<1.0,>=0.23.0 in /usr/local/lib/python3.6/dist-packages (from astunparse->piglet-templates->piglet) (0.36.2)\n"
          ],
          "name": "stdout"
        }
      ]
    },
    {
      "cell_type": "code",
      "metadata": {
        "id": "jxM-vHKz1r_M"
      },
      "source": [
        "import glob\n",
        "import io\n",
        "import base64\n",
        "import os\n",
        "from IPython.display import HTML\n",
        "from IPython import display as ipythondisplay\n",
        "from pyvirtualdisplay import Display\n",
        "from gym.wrappers import Monitor"
      ],
      "execution_count": 4,
      "outputs": []
    },
    {
      "cell_type": "code",
      "metadata": {
        "id": "E0oXbzI2ZAfv",
        "colab": {
          "base_uri": "https://localhost:8080/"
        },
        "outputId": "88efbaa8-9f2c-4349-ec15-da5565f6ed1c"
      },
      "source": [
        "display = Display(visible=0, size=(1400, 900))\n",
        "display.start()"
      ],
      "execution_count": 5,
      "outputs": [
        {
          "output_type": "execute_result",
          "data": {
            "text/plain": [
              "<pyvirtualdisplay.display.Display at 0x7f4337b6c320>"
            ]
          },
          "metadata": {
            "tags": []
          },
          "execution_count": 5
        }
      ]
    },
    {
      "cell_type": "code",
      "metadata": {
        "id": "yr5j5rz0ZEJf"
      },
      "source": [
        "# This code creates a virtual display to draw game images on. \n",
        "# If you are running locally, just ignore it\n",
        "if type(os.environ.get(\"DISPLAY\")) is not str or len(os.environ.get(\"DISPLAY\"))==0:\n",
        "    !bash ../xvfb start\n",
        "    %env DISPLAY=:1"
      ],
      "execution_count": 6,
      "outputs": []
    },
    {
      "cell_type": "code",
      "metadata": {
        "id": "StaxWEA0Z-O1"
      },
      "source": [
        "\"\"\"\n",
        "Utility functions to enable video recording of gym environment and displaying it\n",
        "To enable video, just do \"env = wrap_env(env)\"\"\n",
        "\"\"\"\n",
        "\n",
        "def show_videos():\n",
        "  mp4list = glob.glob('video/*.mp4')\n",
        "  mp4list.sort()\n",
        "  for mp4 in mp4list:\n",
        "    print(f\"\\nSHOWING VIDEO {mp4}\")\n",
        "    video = io.open(mp4, 'r+b').read()\n",
        "    encoded = base64.b64encode(video)\n",
        "    ipythondisplay.display(HTML(data='''<video alt=\"test\" autoplay \n",
        "                loop controls style=\"height: 400px;\">\n",
        "                <source src=\"data:video/mp4;base64,{0}\" type=\"video/mp4\" />\n",
        "             </video>'''.format(encoded.decode('ascii'))))\n",
        "    \n",
        "def wrap_env(env, video_callable=None):\n",
        "  env = Monitor(env, './video', force=True, video_callable=video_callable)\n",
        "  return env"
      ],
      "execution_count": 7,
      "outputs": []
    },
    {
      "cell_type": "markdown",
      "metadata": {
        "id": "wA_0gAmJfFlT"
      },
      "source": [
        "## Experience replay (Replay Memory)"
      ]
    },
    {
      "cell_type": "markdown",
      "metadata": {
        "id": "dqPUYNrpZhPw"
      },
      "source": [
        "\"*To perform experience replay, we store the agent's experiences e_t=(s_t,a_t,r_t,s_t+1) at each time-step t in a data set D_t={e_1,…,e_t}. During learning, we apply Q-learning updates, on samples (or mini-batches) of experience (s,a,r,s′)∼U(D), drawn uniformly at random from the pool of stored samples.*\"\n",
        "\n",
        "Source: https://www.nature.com/articles/nature14236\n",
        "\n",
        "In practice, what we need is a queue with a predefined capacity. When we reach the maximum capacity, the oldest element in the queue will be replaced with the new one.\n",
        "\n",
        "This exact behavior is implemented by the `deque` object from the python `collections` library (https://docs.python.org/3/library/collections.html#collections.deque):\n",
        "\n",
        "\"*If maxlen is not specified or is None, deques may grow to an arbitrary length. Otherwise, the deque is bounded to the specified maximum length. Once a bounded length deque is full, when new items are added, a corresponding number of items are discarded from the opposite end.*\"\n",
        "\n",
        "The random sampling can be easily achieved using the `random.sample` method (https://docs.python.org/3/library/random.html). "
      ]
    },
    {
      "cell_type": "code",
      "metadata": {
        "id": "1axKWEBl8uik"
      },
      "source": [
        "class ReplayMemory(object):\n",
        "\n",
        "    def __init__(self, capacity):\n",
        "        self.memory = deque(maxlen=capacity) # Define a queue with maxlen \"capacity\"\n",
        "\n",
        "    def push(self, state, action, next_state, reward):\n",
        "        self.memory.append( (state, action, next_state, reward) ) # Add the tuple (state, action, next_state, reward) to the queue\n",
        "\n",
        "    def sample(self, batch_size):\n",
        "        batch_size = min(batch_size, len(self)) # Get all the samples if the requested batch_size is higher than the number of sample currently in the memory\n",
        "        return random.sample(self.memory, batch_size) # Randomly select \"batch_size\" samples\n",
        "\n",
        "    def __len__(self):\n",
        "        return len(self.memory) # Return the number of samples currently stored in the memory"
      ],
      "execution_count": 8,
      "outputs": []
    },
    {
      "cell_type": "markdown",
      "metadata": {
        "id": "74v3ChPPqox3"
      },
      "source": [
        "Test if it works as expected."
      ]
    },
    {
      "cell_type": "code",
      "metadata": {
        "id": "mtwQjNqjaT4E",
        "colab": {
          "base_uri": "https://localhost:8080/"
        },
        "outputId": "8460f72f-a00d-4aa2-9628-e5a3c0219be3"
      },
      "source": [
        "# Define the replay memory\n",
        "replay_mem = ReplayMemory(capacity=3)\n",
        "\n",
        "# Push some samples\n",
        "print(f\"CURRENT MEMORY SIZE: {len(replay_mem)}\")\n",
        "replay_mem.push(1,1,1,1)\n",
        "print(f\"CURRENT MEMORY SIZE: {len(replay_mem)}\")\n",
        "replay_mem.push(2,2,2,2)\n",
        "print(f\"CURRENT MEMORY SIZE: {len(replay_mem)}\")\n",
        "replay_mem.push(3,3,3,3)\n",
        "print(f\"CURRENT MEMORY SIZE: {len(replay_mem)}\")\n",
        "replay_mem.push(4,4,4,4)\n",
        "print(f\"CURRENT MEMORY SIZE: {len(replay_mem)}\")\n",
        "replay_mem.push(5,5,5,5)\n",
        "print(f\"CURRENT MEMORY SIZE: {len(replay_mem)}\")\n",
        "\n",
        "# Check the content of the memory\n",
        "print('\\nCONTENT OF THE MEMORY')\n",
        "print(replay_mem.memory)\n",
        "\n",
        "# Random sample\n",
        "print('\\nRANDOM SAMPLING')\n",
        "for i in range(5):\n",
        "  print(replay_mem.sample(2)) # Select 2 samples randomly from the memory"
      ],
      "execution_count": 9,
      "outputs": [
        {
          "output_type": "stream",
          "text": [
            "CURRENT MEMORY SIZE: 0\n",
            "CURRENT MEMORY SIZE: 1\n",
            "CURRENT MEMORY SIZE: 2\n",
            "CURRENT MEMORY SIZE: 3\n",
            "CURRENT MEMORY SIZE: 3\n",
            "CURRENT MEMORY SIZE: 3\n",
            "\n",
            "CONTENT OF THE MEMORY\n",
            "deque([(3, 3, 3, 3), (4, 4, 4, 4), (5, 5, 5, 5)], maxlen=3)\n",
            "\n",
            "RANDOM SAMPLING\n",
            "[(3, 3, 3, 3), (4, 4, 4, 4)]\n",
            "[(4, 4, 4, 4), (5, 5, 5, 5)]\n",
            "[(3, 3, 3, 3), (4, 4, 4, 4)]\n",
            "[(5, 5, 5, 5), (4, 4, 4, 4)]\n",
            "[(3, 3, 3, 3), (5, 5, 5, 5)]\n"
          ],
          "name": "stdout"
        }
      ]
    },
    {
      "cell_type": "markdown",
      "metadata": {
        "id": "lwWFTQntyPdE"
      },
      "source": [
        ""
      ]
    },
    {
      "cell_type": "markdown",
      "metadata": {
        "id": "Y-nBdx6KfKNE"
      },
      "source": [
        "## Policy network"
      ]
    },
    {
      "cell_type": "markdown",
      "metadata": {
        "id": "vt2uYYCSrL8q"
      },
      "source": [
        "The policy network takes a state as input, and provides the Q-value for each of the possible actions.\r\n",
        "\r\n",
        "Let's define a simple generic fully-connected feed forward network with `state_space_dim` inputs and `action_space_dim` outputs (e.g. 2 hidden layers with 64 neurons each). \r\n",
        "\r\n",
        "Be sure to keep a linear output activation."
      ]
    },
    {
      "cell_type": "markdown",
      "metadata": {
        "id": "-rdsRx6wfZw1"
      },
      "source": [
        "### Network definition"
      ]
    },
    {
      "cell_type": "code",
      "metadata": {
        "id": "W41rXekb8x7K"
      },
      "source": [
        "class DQN(nn.Module):\n",
        "\n",
        "    def __init__(self, state_space_dim, action_space_dim):\n",
        "        super().__init__()\n",
        "\n",
        "        self.linear = nn.Sequential(\n",
        "                nn.Linear(state_space_dim, 128),\n",
        "                nn.Tanh(),\n",
        "                nn.Linear(128, 128),\n",
        "                nn.Tanh(),\n",
        "                nn.Linear(128, action_space_dim)\n",
        "                )\n",
        "\n",
        "    def forward(self, x):\n",
        "        return self.linear(x)"
      ],
      "execution_count": 10,
      "outputs": []
    },
    {
      "cell_type": "code",
      "metadata": {
        "id": "tLPAsTT4gpeW"
      },
      "source": [
        "# Define an example network\n",
        "net = DQN(state_space_dim=4, action_space_dim=2)"
      ],
      "execution_count": 11,
      "outputs": []
    },
    {
      "cell_type": "markdown",
      "metadata": {
        "id": "ynfEXqjGfbpl"
      },
      "source": [
        "### Exploration Policy"
      ]
    },
    {
      "cell_type": "markdown",
      "metadata": {
        "id": "b1Hs7GrEw5FW"
      },
      "source": [
        "Starting from the estimated Q-values, we need to choose the proper action. This action may be the one expected to provide the highest long term reward (exploitation), or maybe we want to find a better policy by choosing a different action (exploration).\r\n",
        "\r\n",
        "The exploration policy controls this behavior, typically by varying a single parameter.\r\n",
        "\r\n",
        "Since our Q-values estimates are far from the true values at the beginning of the training, a high exploration is preferred in the initial phase.\r\n",
        "\r\n",
        "The steps are:\r\n",
        "\r\n",
        "`Current state -> Policy network -> Q-values -> Exploration Policy -> Action`"
      ]
    },
    {
      "cell_type": "markdown",
      "metadata": {
        "id": "3x-kRJbQfqBR"
      },
      "source": [
        "### Epsilon-greedy policy\n"
      ]
    },
    {
      "cell_type": "markdown",
      "metadata": {
        "id": "RFVPF0aMy3be"
      },
      "source": [
        "With an epsilon-greedy policy we choose a **non optimal** action with probability epsilon, otherwise choose the best action (the one corresponding to the highest Q-value)."
      ]
    },
    {
      "cell_type": "code",
      "metadata": {
        "id": "ZXfh_Ub1fv4c"
      },
      "source": [
        "def choose_action_epsilon_greedy(net, state, epsilon):\n",
        "    \n",
        "    if epsilon > 1 or epsilon < 0:\n",
        "        raise Exception('The epsilon value must be between 0 and 1')\n",
        "                \n",
        "    # Evaluate the network output from the current state\n",
        "    with torch.no_grad():\n",
        "        net.eval()\n",
        "        state = torch.tensor(state, dtype=torch.float32) # Convert the state to tensor\n",
        "        net_out = net(state)\n",
        "\n",
        "    # Get the best action (argmax of the network output)\n",
        "    best_action = int(net_out.argmax())\n",
        "    # Get the number of possible actions\n",
        "    action_space_dim = net_out.shape[-1]\n",
        "\n",
        "    # Select a non optimal action with probability epsilon, otherwise choose the best action\n",
        "    if random.random() < epsilon:\n",
        "        # List of non-optimal actions\n",
        "        non_optimal_actions = [a for a in range(action_space_dim) if a != best_action]\n",
        "        # Select randomly\n",
        "        action = random.choice(non_optimal_actions)\n",
        "    else:\n",
        "        # Select best action\n",
        "        action = best_action\n",
        "        \n",
        "    return action, net_out.numpy()"
      ],
      "execution_count": 12,
      "outputs": []
    },
    {
      "cell_type": "code",
      "metadata": {
        "id": "nklFJdMoiDVo",
        "colab": {
          "base_uri": "https://localhost:8080/"
        },
        "outputId": "73e47f5e-3536-4397-e6d1-87cf3bd2d317"
      },
      "source": [
        "# Test if it works as expected\n",
        "state = (0, 0, 0, 0)\n",
        "epsilon = 0.5\n",
        "chosen_action, q_values = choose_action_epsilon_greedy(net, state, epsilon)\n",
        "\n",
        "print(f\"ACTION: {chosen_action}\")\n",
        "print(f\"Q-VALUES: {q_values}\")"
      ],
      "execution_count": 13,
      "outputs": [
        {
          "output_type": "stream",
          "text": [
            "ACTION: 0\n",
            "Q-VALUES: [ 0.06721601 -0.15986145]\n"
          ],
          "name": "stdout"
        }
      ]
    },
    {
      "cell_type": "markdown",
      "metadata": {
        "id": "Vvxi7b82f0g4"
      },
      "source": [
        "### Softmax policy"
      ]
    },
    {
      "cell_type": "markdown",
      "metadata": {
        "id": "8I0r6m-p1UQG"
      },
      "source": [
        "With a softmax policy we choose the action based on a distribution obtained applying a softmax (with temperature $\\tau$) to the estimated Q-values. The highest the temperature, the more the distribution will converge to a random uniform distribution. At zero temperature, instead, the policy will always choose the action with the highest Q-value.\r\n",
        "\r\n",
        "> **HINT**\r\n",
        ">\r\n",
        "> To sample from a random (discrete) distribution you can use the numpy function `numpy.random.choice` (https://docs.scipy.org/doc//numpy-1.10.4/reference/generated/numpy.random.choice.html), by setting the parameter `p` properly.\r\n",
        "\r\n",
        "> **HINT**\r\n",
        ">\r\n",
        "> Even if the PyTorch softmax function does not support the temperature parameter directly, you can still use it and apply the temperature outside the function. Just look carefully at the softmax formula in the slide above.\r\n",
        "\r\n",
        "> **HINT**\r\n",
        ">\r\n",
        "> The softmax function may be numerically unstable with very low temperature values. In practice, it is suggested to set a minimum value for the temperature (e.g. 1e-8)."
      ]
    },
    {
      "cell_type": "code",
      "metadata": {
        "id": "taW_cjBsf4sW"
      },
      "source": [
        "def choose_action_softmax(net, state, temperature):\n",
        "    \n",
        "    if temperature < 0:\n",
        "        raise Exception('The temperature value must be greater than or equal to 0 ')\n",
        "        \n",
        "    # If the temperature is 0, just select the best action using the eps-greedy policy with epsilon = 0\n",
        "    if temperature == 0:\n",
        "        return choose_action_epsilon_greedy(net, state, 0)\n",
        "    \n",
        "    # Evaluate the network output from the current state\n",
        "    with torch.no_grad():\n",
        "        net.eval()\n",
        "        state = torch.tensor(state, dtype=torch.float32)\n",
        "        net_out = net(state)\n",
        "\n",
        "    # Apply softmax with temp\n",
        "    temperature = max(temperature, 1e-8) # set a minimum to the temperature for numerical stability\n",
        "    softmax_out = nn.functional.softmax(net_out / temperature, dim=0).numpy()\n",
        "                \n",
        "    # Sample the action using softmax output as mass pdf\n",
        "    all_possible_actions = np.arange(0, softmax_out.shape[-1])\n",
        "    action = np.random.choice(all_possible_actions, p=softmax_out) # this samples a random element from \"all_possible_actions\" with the probability distribution p (softmax_out in this case)\n",
        "    \n",
        "    return action, net_out.numpy()"
      ],
      "execution_count": 14,
      "outputs": []
    },
    {
      "cell_type": "code",
      "metadata": {
        "id": "CAIMqC5kldtB",
        "colab": {
          "base_uri": "https://localhost:8080/"
        },
        "outputId": "3598b1b5-c44e-4399-ba24-361554a4ca57"
      },
      "source": [
        "state = (0, 0, 0, 0)\n",
        "temperature = 1\n",
        "chosen_action, q_values = choose_action_softmax(net, state, temperature)\n",
        "\n",
        "print(f\"ACTION: {chosen_action}\")\n",
        "print(f\"Q-VALUES: {q_values}\")"
      ],
      "execution_count": 15,
      "outputs": [
        {
          "output_type": "stream",
          "text": [
            "ACTION: 0\n",
            "Q-VALUES: [ 0.06721601 -0.15986145]\n"
          ],
          "name": "stdout"
        }
      ]
    },
    {
      "cell_type": "markdown",
      "metadata": {
        "id": "QMXhJfZcpqIA"
      },
      "source": [
        "### Exploration profile"
      ]
    },
    {
      "cell_type": "markdown",
      "metadata": {
        "id": "7rOvTpcbMPnR"
      },
      "source": [
        "Let's consider, for example, an exponentially decreasing exploration profile using a softmax policy.\n",
        "\n",
        "$$\n",
        "\\text{softmax_temperature}  = \\text{initial_temperature} * \\text{exp_decay}^i \\qquad \\text{for $i$ = 1, 2, ..., num_iterations } \n",
        "$$\n",
        "\n",
        "Alternatively, you can consider an epsilon greedy policy. In this case the exploration would be controlled by the epsilon parameter, for which you should consider a different initial value (max 1). "
      ]
    },
    {
      "cell_type": "code",
      "metadata": {
        "id": "G-f78CC3ptt2",
        "colab": {
          "base_uri": "https://localhost:8080/",
          "height": 515
        },
        "outputId": "aa3e6034-f974-4b32-bd6e-9c2d34895c08"
      },
      "source": [
        "### Define exploration profile\n",
        "initial_value = 5\n",
        "num_iterations = 1000\n",
        "exp_decay = np.exp(-np.log(initial_value) / num_iterations * 4) # We compute the exponential decay in such a way the shape of the exploration profile does not depend on the number of iterations\n",
        "exploration_profile = [initial_value * (exp_decay ** i) for i in range(num_iterations)]\n",
        "\n",
        "### Plot exploration profile\n",
        "plt.figure(figsize=(12,8))\n",
        "plt.plot(exploration_profile)\n",
        "plt.grid()\n",
        "plt.xlabel('Iteration')\n",
        "plt.ylabel('Exploration profile (Softmax temperature)')"
      ],
      "execution_count": 16,
      "outputs": [
        {
          "output_type": "execute_result",
          "data": {
            "text/plain": [
              "Text(0, 0.5, 'Exploration profile (Softmax temperature)')"
            ]
          },
          "metadata": {
            "tags": []
          },
          "execution_count": 16
        },
        {
          "output_type": "display_data",
          "data": {
            "image/png": "[encoded data removed]",
            "text/plain": [
              "<Figure size 864x576 with 1 Axes>"
            ]
          },
          "metadata": {
            "tags": [],
            "needs_background": "light"
          }
        }
      ]
    },
    {
      "cell_type": "code",
      "metadata": {
        "colab": {
          "base_uri": "https://localhost:8080/",
          "height": 515
        },
        "id": "BLGXTxrpWuFe",
        "outputId": "db682161-ab67-471c-cd71-27c55d570e4e"
      },
      "source": [
        "### Define experimental exploration profile\r\n",
        "initial_value = 5\r\n",
        "num_iterations = 1000\r\n",
        "exp_decay = np.exp(-np.log(initial_value) / num_iterations * 4) # We compute the exponential decay in such a way the shape of the exploration profile does not depend on the number of iterations\r\n",
        "exploration_profile = [np.clip(initial_value * (exp_decay ** i) *np.abs(np.cos(i/15)), 1e-8, 10) for i in range(num_iterations)]\r\n",
        "\r\n",
        "\r\n",
        "### Plot exploration profile\r\n",
        "plt.figure(figsize=(12,8))\r\n",
        "plt.plot(exploration_profile)\r\n",
        "plt.grid()\r\n",
        "plt.xlabel('Iteration')\r\n",
        "plt.ylabel('Exploration profile (Softmax temperature)')"
      ],
      "execution_count": 17,
      "outputs": [
        {
          "output_type": "execute_result",
          "data": {
            "text/plain": [
              "Text(0, 0.5, 'Exploration profile (Softmax temperature)')"
            ]
          },
          "metadata": {
            "tags": []
          },
          "execution_count": 17
        },
        {
          "output_type": "display_data",
          "data": {
            "image/png": "[encoded data removed]",
            "text/plain": [
              "<Figure size 864x576 with 1 Axes>"
            ]
          },
          "metadata": {
            "tags": [],
            "needs_background": "light"
          }
        }
      ]
    },
    {
      "cell_type": "code",
      "metadata": {
        "id": "iX7JpFeObm08"
      },
      "source": [
        "# ### Define experimental exploration profile\r\n",
        "# initial_value = 3\r\n",
        "# num_iterations = 1000\r\n",
        "\r\n",
        "# def gaussian(x, mu, sig):\r\n",
        "#     return np.exp(-np.power(x - mu, 2.) / (2 * np.power(sig, 2.)))\r\n",
        "\r\n",
        "# exp_decay = np.exp(-np.log(initial_value) / num_iterations * 6) # We compute the exponential decay in such a way the shape of the exploration profile does not depend on the number of iterations\r\n",
        "# exploration_profile = [initial_value * (exp_decay ** i) *np.abs(np.cos(i/20)) + gaussian(i, 0, 200)*initial_value for i in range(num_iterations)] \r\n",
        "# # exploration_profile = [gaussian(x, 0, 200)*initial_value for x in range(num_iterations)]\r\n",
        "\r\n",
        "# ### Plot exploration profile\r\n",
        "# plt.figure(figsize=(12,8))\r\n",
        "# plt.plot(exploration_profile)\r\n",
        "# plt.grid()\r\n",
        "# plt.xlabel('Iteration')\r\n",
        "# plt.ylabel('Exploration profile (Softmax temperature)')"
      ],
      "execution_count": 18,
      "outputs": []
    },
    {
      "cell_type": "markdown",
      "metadata": {
        "id": "oXLB_rUCyoUT"
      },
      "source": [
        ""
      ]
    },
    {
      "cell_type": "markdown",
      "metadata": {
        "id": "zjKmdFhowRbj"
      },
      "source": [
        "## Gym Environment (CartPole-v1)"
      ]
    },
    {
      "cell_type": "markdown",
      "metadata": {
        "id": "uC_cbOXjEJlb"
      },
      "source": [
        "A pole is attached by an un-actuated joint to a cart, which moves along a frictionless track. The system is controlled by applying a force of +1 or -1 to the cart. The pendulum starts upright, and the goal is to prevent it from falling over. A reward of +1 is provided for every timestep that the pole remains upright. The episode ends when the pole is more than 15 degrees from vertical, or the cart moves more than 2.4 units from the center.\n",
        "\n",
        "https://gym.openai.com/envs/CartPole-v1/"
      ]
    },
    {
      "cell_type": "markdown",
      "metadata": {
        "id": "9FmV7DVqEikG"
      },
      "source": [
        "![image.png](data:image/png;base64,iVBORw0KGgoAAAANSUhEUgAAAiwAAAEaCAYAAAAyvAzEAAAgAElEQVR4Ae2dzXHcuhJGX5UCUjKOQFuHoLW2WikGrVWlILyyw/B1FnjVABtoNEAOORrNEJxzq3zJAfHTfRoEPoK08b/AfxCAAAQgAAEIQGDnBP63c/swDwIQgAAEIAABCAQEC50AAhCAAAQgAIHdE0Cw7D5EGAgBCEAAAhCAAIKFPgABCEAAAhCAwO4JIFh2HyIMhAAEIAABCEAAwUIfgAAEIAABCEBg9wQQLLsPEQZCAAIQgAAEIIBgoQ9AAAIQgAAEILB7AgiW3YcIAyEAAQhAAAIQQLDQByAAAQhAAAIQ2D0BBMvuQ4SBEIAABCAAAQggWOgDEIAABCAAAQjsngCCZfchwkAIQAACEIAABBAs9AEIQAACEIAABHZPAMGy+xBhIAQgAAEIQAACCBb6AAQgAAEIQAACuyeAYNl9iDAQAhCAAAQgAAEEy0If+O/jOTz8/Az/LeThEgQgAAEIQAAC30/gMoLlz1t4eHya/ryFX5PdMuH/+Pj7/V6c3cLv8PJY7PXVIFg8EX5DAAIQgAAEbkPg64Ll32f48fgc3v8lB+wkP7pguU1IaBUCEIAABCAAAU/gy4KlFSV/w/vPJGDStc/woqsvr79L+9WqTBE8MYO9Zl7JNPVN1yT9wdYdzMpJFFS6+vOUV3x+vZa0vDqU65Dy03XTfjLeXHt8Ci9/JpekndfP8P5T6/UrN6ncvlecSng4gwAEIAABCOyJwJcFi0z8edKePNO0KCTyKxcRMpq3iJoGhkz8RiRYMVLXF4K2E6xAkQpF8GTxYVvw7RphY7PpubMlBOuDZJLyk9iahJGyENtqcYJgUawcIQABCEAAAlsJfLtgsZO2CA79LRO6rGzoBK+GJ1GiqxTTcRIftrzm12MRL1bIyNUkFPIqigqMWHCrYGnz53aduFmyVW3mCAEIQAACEIDAOgJfFiztxFxWMfy1PLkb27xw8WVM1rB0LYhgiMLmd3gxKzSx/rzaUmxL9bYCxLYX6zR1NSs5wYgjBEuFjh8QgAAEIACBSxL4smCJk3p+7ROiqNC/ClwLDBEH7luVyZMqX3y14r//SBmrfA0FESNv4deft7yKI1lEsOiqTnxVVNkwb1Os3omQ5pVQtNW8EjLiprVV2jK2NPaTAAEIQAACEIDAHIGvC5YwiZTOR6oyaZdXMfb1T5q8y7VaoMyVa0VA7VYq50RRFBX6akk+iq2vV23pSowto37NXMuvtJy4aW1FsNTR4hcEIAABCEBgPYGLCJb1zZETAhCAAAQgAAEIbCeAYNnOjBIQgAAEIAABCFyZAILlysBpDgIQgAAEIACB7QQQLNuZUQICEIAABCAAgSsTQLBcGTjNQQACEIAABCCwnQCCZTszSkAAAhCAAAQgcGUCCJYrA6c5CEAAAhCAAAS2E0CwbGdGCQhAAAIQgAAErkwAwXJl4DQHAQhAAAIQgMB2AgiW7cwoAQEIQAACEIDAlQkgWK4MnOYgAAEIQAACENhOAMGyndn1S7h9ipYMaPcwWsrNNQhAAAIQgMAYBMYRLL0NCR/thoo3Bu7tMzs3f82y+R2ldePGvAFjbEh2rd4Rl685T2kIQAACEIBAJDCOYMkBm5/Ac5ZbnLhVkF+vT+HHx98vWzJbTxRIb+HltSNOpmu/vtw6FUAAAhCAAAT2QeAQgiWuNLz+LkTNhC3XXj4+w4/Hp/Agf5p8U/rjW/ATvIiFh7UrJR3BUlY+0qpHbP/RCJk/b+Hh8Tm8/0umpxUTa4eIM/tbXSyrKGJjaUevhzCXXnJwBgEIQAACEBiHwCEESwj1xC4Tv65u1CKgTPS+TBDx4MTJZsGiosgJI6lH7QnB2hBCbDeKqNqH2IXEJiuwpn4VfZrS54SJzTNOd8RSCEAAAhCAQJ/AQQSLXVEQQVBWJax4EQT5d1zd0NWV6egESx/ZTGpnhSWJFLGnrKJUNkxVRWHU+x6nJ1jM6pEUnxMsRQjN2EsyBCAAAQhAYCAChxEsQSZyWXX49xlezLcjWaBMQcmrHT0x8JXAOcFSBMMawfIcXl6f21c7HRvjyoldydFztxLj/f6Ka5SFAAQgAAEI3JrAcQRLfNXyFt4/3vI3IQK3nrjtB7v2vB+GuPKxdtXFCZYsjKZVkPJKSNot351EARLFRs8eSSurRT0r51ZY5tJ7dZAGAQhAAAIQ2DuBAwmWJE78dyh+RaL6QNW9FiqiIoVts2DR1Q73DUv6Xqa8fsrtxPaNIIm/69dHVvj0OlNXmLjXRr1ypEEAAhCAAARGIjCgYJnH25u86xWW+bL7vdJbeVmy1n3Uu5SVaxCAAAQgAIFBCBxCsMSVEPvXhQ388QVLiN/l/Fj5auoQ/pr4cQoBCEAAAhAQAocQLIQSAhCAAAQgAIFjE0CwHDu+eAcBCEAAAhA4BAEEyyHCiBMQgAAEIACBYxNAsBw7vngHAQhAAAIQOAQBBMshwogTEIAABCAAgWMTQLAcO754BwEIQAACEDgEAQTLIcKIExCAAAQgAIFjE0CwHDu+eAcBCEAAAhA4BAEEyyHCiBMQgAAEIACBYxNAsBw7vjfzLu7htPJf572ZkTR8YQL1xp4XrpzqIACBOycwkGBJg+FD3Nk4Ra23d9Bw8aw2YDQbIbrdn/fo1xJ/BMseI/YVm9IeVeX+S/dj3sgzVo1g+Qphys4QcJvCxrHlxC72MzWRPDiBwQTLc/jxs0zqSxPmEHGJuyqX3ZmrSX5wwTIEf4zcQEAEy3P48foZ/pNSf97Cy+tbqAXLhurICoG1BP68hR8/n8PLHynwN7y/voUXMw+srYZ84xMYTLC8hV/SeT/+RvJFsMiTXREyMpimJ8GU/vL6FB4en8P7x1t4mNkk8RahFIGivqT206Tw/q9sePgebRf7jX8hPcmKL40/dsXGvpKJTD7D+89URuuLIsmsWoVYt7Y1PVVP7TxofbYNvZbtM7Zp/gy3rq/4/ju8/PwMxdci4nJRTm5MIN1Lcg9J//z1mu5FXXFJT72pb6WJZTJXhPdr2+9u7AzND0QgjZOf4UXGqX+f4eXjdxTPeZzMY9CTGU/TOJTHmPhw+DSJnoGcx9SKwHiCRSbUaSJcJ1hSJ5a8ccLNYqbicJMfxf7SfE5zN5gVFukGTqKtlCwiJz4BhxBsmSjiRLSJGJqupZs5TUS/tKIFPr7dbKuWtcfOCpHkzwOIPCn91AGkHlwqu22dnN+QwHTfxQmjTB4/KrErQkZjOpnq+nHdB27oDk0PQ0DGAxHBIpKLYC5jWXHEPPDFxDK2Nf2yFOJsIAIDCpY0EacOrINj6ZiRfZ50S3rusPna7aOUbTKm5DQ/4dvf4oM8VbjJIk705mmjyrPgd24ztBOOXNOVHL+aY8sZF9KptTem+MEkxXGraGraIeFKBPRBwQhNibHrg02fcP3Ai94rGU8zAxNQwRIfuvLDqgqW9LBTxihNnxyeGSsHxnHXpg8pWGRZUAbKMjgWYRKjmSfnkp7z5mu3j3s7eJtJ3Q305TWXsdvdjG19Lq+bXPLVPPHopDRdifXr6yErMNL1zDRXZE68/XFFpR5Mir0lTrGGHcXIeHTnp65vCI0mxq3g9XlKzO8cJ+6vJiB9pnrNaB6sZAwqD25m/NTa5RMC+dZqbuzTfByHIDCmYIkdVj76syssOhlOijt20DIR5sl1T5OhDPj524/pFY5+9+EmA7G/vE4xfcvmc/WZXPEjyXJjV1fSh2zyEZv5PijmEFZqz/TdjLVh1iYpbO2amqvzpzilgajEKbfLADNR28mhE8+5GFeTiyuHYNlJPAcyI4/dxmZNq8aU+ICl88A0Bk3ja5XP1MPpWASGFSzpmwwVLNNkH1+HTB/XjiBY9DsTfY2TxYHebOZ1jJnA5eYrS6CFgXQ9mRC6104ItVTO3OyxH6fl/1SfvD92HwlHgaS2TCsxVdp0Lds+icnJ3yJ+ECy7Hzac8Ij2mjTfJ+NH7ubjcftdVYn77r3GwB0QkL5ViWCzwhJFs46f8eNuHcPsA5E4kX7T93YQ0C+YMJBg+YKXFIUABCAAAQhAYGgCCJahw4fxEIAABCAAgfsggGC5jzjjJQQgAAEIQGBoAgiWocOH8RCAAAQgAIH7IIBguY844yUEIAABCEBgaAIIlqHDh/EQgAAEIACB+yCAYLmPOOMlBCAAAQhAYGgCCJahw4fxEIAABCAAgfsggGC5jzjjJQQgAAEIQGBoAgiWocOH8RCAAAQgAIH7IIBguY844yUEIAABCEBgaAIIlqHDt1/j495Edm+kNabGzcvK7tBripAHAhCAAATug8BggsVuxqebXI0eKOvTk9kd+Uy/zIZ062qoNyTMm9atKzyba06wSPrsBmQIllmeo1xIm2i2m9X17Xd9L2+S2c9N6r0T0LFy5UON24h1dty5d6wD+T+UYKm2CI+dcWXH3W1AphvwkgP1WYKlcJwTGpdCuChYLtUI9dyGwHRPvnR21+0ZVN3PQe6FozyE9Lwl7asE4tj0+hZeHst4NV9nGlvLLs8ijteUm6+RK7cnMJBgcR0uPo2vfZK7PeiuBYuiS58mnsKDbJ9uXq+kSf8zvOi26vGayz9dO/1U4bg6m+IgUbWjntRPx6Udk25srraB1/oedYKytreDypwNv16fw/vHW+Lz+DS/cqMmc/xGAmWCECFSJor5JmNctY+4fjdfiit3SSD3DzdeLcCQfvigD4MyX2hfWyjDpX0TGEewSIedOpwOdO8rB8bdhkBuIr2hThgpPqsoSBN4mdirCcJwOlHldLkeAGLdapO7ye01a0+3nRk7lsvVtsR6F2yIA5IOQnlA61pD4jcTsH2j6o+n2pX4ioDVOJ7Kz/U7JFDEcAidMWKBSOyX0r90TFvIy6X9ExhOsPz6eM6db9PAuMNY2EG+Z16ckPNqRFlBWJz0Z4RCr/6UJgPAtIrjJo6mHVu3TjRzA4HNaxpv6jTXeoNRk9/UW8d/20BWNcuPlQTqvqICOq2ezQjopZpjH0rlJM4PLNkv0brba7Fv5HFm/X0ey01COI6liOLh+9A4giUqa6uUreoeNA5u9aDywgzmkm4nbntelZEfZkJvrnUT5geApp1e3XPCpZfX+dGa09qyZAOCpSV4ixSJUVwlscJXzvMk07OqvX8lnlkE9YqQdocEUj/p9a/l144ylugrZ8HW9rc7hDm8ywMJlhCqCcpN6GNGQm6qmUG6EjN1vmYSt86LUNj0pNqKhFxdZUPi352EeuKklzYJlm4dsdGOLQs2VP1h41Jx9pGTixOo45KqlzS/giJpRaAwoVw8EIessDNGNA+z4rjvT1LOCphDwjm8U0MJlvTKQF9fHKXzyY2kPtl3+fbJ4i28u29YykDf9tE0OaQ6l/Klkr0BoNRp67LfGVTpj+YjyyiYjD/Nk7b1V2No06ayZvm2asull6esZT+KR5x9NwGJV4lLai3FsLw2Sql13E/31e+2nPr3T6B3n0/9yK/oubHI98n9+4qFnsBggsWbz28IQAACEIAABO6BAILlHqKMjxCAAAQgAIHBCSBYBg8g5kMAAhCAAATugQCC5R6ijI8QgAAEIACBwQkgWAYPIOZDAAIQgAAE7oEAguUeooyPEIAABCAAgcEJIFgGDyDmQwACEIAABO6BAILlHqKMjxCAAAQgAIHBCSBYBg8g5kMAAhCAAATugQCC5R6ijI8QgAAEIACBwQkgWAYPIOZDAAIQgAAE7oEAguUeojyKj4fY0HIU2NgJAQhAYCwCwwkW3QjvOBul2U0O7eaHZ3akmV2S+7X5HU1TLmF8iq/sGK1bvl9sU7E5wbLJp76npH4vAb0vtU/YjTJPtWz70vxO3qdq4fpxCdSbZEofOzU+WRa2b24pZ+vgfB8EBhIsZXJdM6HuA+8pKyax4ncZPVVs6frGyT1OFlX7MjjoLspLDaVrEouLCZa55jb6NFcN6d9NYFvfSdZIGb+L83fbSf1DEpAHGrNb+yofGDtWYRol00CCpSA9jGCRm2l2sJ5feRGR8ePjM7w8PqVVjngTu/zTtZNPFN4GPyjEVQ/bTomDnPUES/XE7AcYW1/23dpuJy+bPtmgT1fe7pDyfrt4qt3nV0WgI1gkTq+f4f2nxs/GN4Qg130fqerkBwQmAn5sCiHIWPPyIePo1L+qh68QgpTxaQAdlgCC5Zah23AzJZHyN1qbBEEZ+CvRsHkCqCf6Sgy6umK77uav2hbr3KBSlZH6skjpgZ952nZ2aMmq7Zk8mpfjNQjMCJbHsgpX+pfkVRGjx/Ure9fwhjZ2RsCNLWJdPRaa/hfHGu1Xeixj5s48w5yVBBAsK0F9R7ZqMu80IIN7/iZAVxamm3R25eSMibvYIeKlTBppMKht8E8rlWjo2Wbskfpm7Y7+bxMs9ulJ6mZ1pdOJLppUi4w2lmbC0HZN/CWp6QPuuhbjCIGGwIxgKf2wHr9i+Q0PhU17JOyOAILlliHp3IDZHLlmViPsQG/Pc349OWcC0DJ6nOpabGfKc1PBEl8DyVPT3/D++hn+UwYcb0QAwXIj8PfRbGe8rMcoBMvROwKC5aYRTk+s5QnBGFPdnHW++iY1ZeRURIcROu7qzM90o7+8uhWQFXV5weJfCcVVIn2N5ERYa4z42Vm2XbBDWMg77JeP9LqsrZOU6xFAsFyP9R22VI2Jyf96LESwHL1XDCVY4uRXvfcury/GDVQSI/nVT/4AUW4+fR3zFt7N65T6Jm09t5y6YqgtMr0LbnlKW9k29y2CTX8wf7PItu+/6q/rU3HiGEiMM4dkrK2z8imKmdbujoskfSMBG5/YLzR+Eh8955XQN0bgyFW344OOAfVYiGA5ci8Q34YSLEcPBv6dQUCeunQF54ziFIEABCAAgTEIIFjGiBNWegLx9VK7EuOz8RsCEIAABI5BAMFyjDjiBQQgAAEIQODQBBAshw4vzkEAAhCAAASOQQDBcow44gUEIAABCEDg0AQQLIcOL85BAAIQgAAEjkEAwXKMOOIFBCAAAQhA4NAEECyHDi/OQQACEIAABI5BAMFyjDjiBQQgAAEIQODQBBAshw4vzkEAAhCAAASOQQDBcow44gUEIAABCEDg0AQQLIcOL85BAAK3IiD7K738uVXrF2yX7S8uCPNSVcn+SroX26Xq/MZ6LtSHBhMsdhOsI2x4Z/2RjQ7X+WQ3ELzUgJjqXNf+crc2PplN75bLcHV8Anazzo39aNpmQTe0Syy0H/m6NH3aGPRa+0htHHDj/bTaNuuT91doKNtzJiip+5xydY8U8VXHp77+7b/iJqdTzDeOKzpeVmNlrs+xyemprWv5LDaubyv1h8qf3EeS3fW14/ShoQSLBFUDETvhxo777TfV5gbqwWSrT5d7gpMb4C38+vO24aY54azbpfdEbi4PTqCa0OKg7yaCWf/kHngOL69mwM7l07X3f6Vw1U4cpHsTfMl/sbMtgiXbv671U+NaHBde384UHvUYs86iXq42Fr1c35NWt514/F7X1BSLF7vaJbGUuaOJkxcCl2J32lTxaa1g6fpvx+74AFDff0fpQ0MJlirs0tkOJliCu4FiJ3ucf6roCpbYWefLVAz1h7QrT4OeaUz/DO8/p/qqJzW5mTU9Hasbztc1tSU2P0zlqvxqC8cBCbiBfeqD+nCx5JAKkP6AXU9UUk+8J/S+lz5W9cm5lpJ97x/Pue9l22IdM33SXVu7K3jflznbXLq/b7KPjrErVv/UFRn1y0xes+OD1K/509Hfn1/yqzZw2y+x2axWpTHE+DRbWxEg3bEysy0VxLq1LWlX+1rJ0p5F+2bGScv70b0idNc877YhSRGfTol011eyny6938CUutCHYn3aV2wcfJmnKm5S8Vf70LCCJQ5c2rEWwe/5Yt2BKp/czVJdm1xqbkLpSOYG65Xp0ZB8aQB3N8PUMXVwl/b0prLnwdka23C2SJq0o+V1mVvr7tlF2iAETKxjn/v5Gd7tE+2cG6bf1H1DC8j90RmcdaA3fV1L9I9ST+m7jTDPhWz/d21Lm6vGG1tHrnj1SeSX20kTQLpH6rFiqcLq3gymnImTlLdtVWVMXKp25tKrTJf/UfpG4vHj43PVapP3rxlr4vhmJ9xkeywn4i3H4YRPsT+Wflrs9eVcLIzYni/j6nAxdFfTzypOF+5Dtj9Ja6Yty9s/fGc7Tf6ctuFkTMESO0jb0Tb4vZOs0oFVqT5Var7pwJ2OKoOMvQljh7H1rbrp6gG2ate1aa+dHOBcWRUourqiR2v/ToKCGbME6v6axecU61+ygjEN8r5vtlVKXacG+TpPrMPc+6m/rxkHpJ65fLVP+TsyacdOWP5369CUUt9PNpsw0X7ffXI3vkm56F+2YckH24rPV34nXsYGMz6cvJ+lieaetu1+33kad37Hld7V4k1sNTHv9keXRzyIjCYhHOO1RhQv9Y3YhmWe+mHy6W+G5n/nC/7kVAxie/V9Vfpx6Qu+2vq3z2d+xz5q/SnzVmSn/bXDNrZxyv7akObXeIIlAisBaTwaKsF0BGd304E7gfY3YVPG1dn9GTtWvwP6AcrWHztnFkedeDT2zg/kXbtIHIiA9GP7RGqf6mbc6A18Ukc1QUi9tm+19VYT7UxTwT8VmnxxUtJB1i63+0nI/zZ11Kdn9vNmXEu+ZoGT77X6IaVuW375MaX8tvevL3fyfpYCqxn42r/4O7Ixfscxa06AprZqf8z4lmM9CTAjahK75f7W9WSWS4phFvYmNj4W/ne3HUlsxlWTcxrLy0Pg5fvQYh+Y4qR9tthhbJxlZfIsnI4lWGJAbIda8GyIS2UwacyVwJrBux5YU24vWGaX4ZrKS0J7oxib3M1R8q4YlF1ZaVHKF7VfbOBsfAJVX4wDVz2hxP5bTQ61z6Vv2XTpi/X9LvWUCSANyN2B0VZjJooqOYRQ1RftntqLY436IHZYQeZrqX/3fanzVL9WjWvmvqwK+x81k4p75ZMtt+J+nu7fwt6W/+7z2vfokxUeMb7L8ZEyTT9peNTsWgEz4+fsJFzXF8c/vQfs+B7tsP16pp2YPBer1EcbH6uqao7VpepHbXfVhyLr+p7Uol3GenE6br43XPmBBEuCqOpNj8sBct7u7udyB0odZXo68OLFPHHlZWwVBebaMp+6Yyqe3PHkRjLt2s6Wbj7z5KITy3TzaXziMQ8uPoY6IWjLHMclkAbMFPd2QKsHvdZL27fSRGH7ll15se2sHeQX7jPbX1/lw8lie7n/0t+gWy22Y51r+7a/J5Lf7X274IPHGYWX1lOX8/ettuPT7ZiSqpd6Chvf5Lf/Nj7ZB7li2wbBYmOuY6WOUe6a8ln0b1awTKtSUxv1tzcm7j8/g7xOXSsGY6zU3smw0lfLfdPWV/eFkz5Ndr/8ceVsLOy3YS5dxoKa39f70ECCZREvF69KwHVg/6R6VVtoDAL7I9CbVPZnpVp0+n6WCbGdALU8x+sS6D9oXtcG35rYVAtafw9cog8hWDx3fq8i0Ch6p/hXVUImCByYgNwj9RPmfp1dvJ+XVhD269LBLWtF5q0dblbpzOr84rcvGwxHsGyARVYIQAACEIAABG5DAMFyG+60CgEIQAACEIDABgIIlg2wyAoBCEAAAhCAwG0IIFhuw51WIQABCEAAAhDYQADBsgEWWSEAAQhAAAIQuA0BBMttuNMqBCAAAQhAAAIbCCBYNsAiKwQgAAEIQAACtyGAYLkNd1qFAAQgAAEIQGADAQTLBlhkhQAEIAABCEDgNgQQLLfhTqt3QiD+64/2X3y8E79xEwIQgMClCQwlWOp/+rfet+DSYK5Tn/zzymWzqnbDsb4VlsOl/unvVOc3MzWbY33fviTC1PuxZu8NsxmZ7qjax78pdU6wSPr3Mdhk4kUyN/+0+waRZvvz6g0GL2I1lYxBwI+T2/Y1sn3zSPfcGLG7rJVDCZbKdZn8NgyKVdnd/Kj3g5ib3ObMvdxeJTJZpx1pr3FDf/dkLVwqPzbtnlvHZI79V9O/m8FX7TuvfE8snqrpOrxPWcH1AQicM+bLvT/8PDFAbK5k4rCCJU7uw2+45wZrN7FGH3UFpnPTdQWLWcVYLeikXWHpb+6Y/hnef+oq0Fv4lTum2K7p6RhFgqujNzH30uxT0EO1wpEYvX88B9muvN2yPBtUTtzA5vuKbasSNrEGF5Op1qVY9K8ZPjZ2wsdx05U1b2eMR8WiuLjPM/HZrW4t9qHQ9rl9OoZVeyDg7msxSe6Zlw9zT/k5Qcr4tD34gg1nERhOsJTJxk6eZ/m+g0L15FhNWO7mrK5NljeCpSMW1tys8ab/I5W6LcKnyVVfO0l7OsHb87gTp07KHRu0jAKX9nyaXovHapBJE3/O7+qvyuUfduKsXwfVbdfXUvE6Jtke9W8aJDNXF6dsgp7M2FvboZnrtvt5NO8ej5b7ZN9sH5K8teBV4bZHz7BpBwQ695rcI+UBx/S/qd/pQ046HmHO2EEcbmjCcIIls5LOO9TTZ7bcnLhB202KeZKWEp2JzwuWdPO6SeDk00UtUqpJ0rVpr11asDS2Z7uF0faBpthnyyeBUg9iT0EFWQqMzZ9SrN8xxXDxMUglzP9NXpManwyr+E4XS31i63a/bRuXP6/7a2u/XO+ssGzs15e3mxoPQWBGsJR+WI9l0Wcpk8eSQ1C4ayfGFSyhMzgOF8p2clQXliZJzVMmt5TSlNGMS0eZUP2Trk4wbrK19ct5mfjNJLVQRs2w9cS0aIOpoxpk5hlpfd2j1qHHmKkzoDWF2/a69k6MfAya6hwPvd7UqRckvwyw/z7Dy8dfTR3k2Lknnf+N3+76II5i5i0IyL2sY9PUft2fOvd3df/fwmjavCSBcQVLp/NeEsx16monx9yu808mRv+k0EyWMvhvXI2ob3hp3djkJpOStzMwqOHWhnheXiNpllLPlGLLxNdS1ldjj1aw6pjKvbzWKyjStudYV9dpbyEWsT43iOMqni0AABPzSURBVFb1OYZ6bd4OYfsW3j/ewvs/zT3KUdgZ4SlmO/+7sV/iN4rr2Pn9BNx9KA3W/akzLkkZVli+PzZXamEowRInbV0NOMQg15kcTeDn/K3SI48yScSJUBk91pO1qXo6lRu8zZOF0MJk49ux3x8U+2TiLd+rtGVK26XMc5ysyyCzzKj1qaSkOv1rleRzWR3S69KOe51m+lix76l5yuteiyLM1VcNnLa9Ej+xPnIybReP9ntWMRCOav9CH4reuOv79RDLbkfA3ivpntLXQHKv6HnzDZ4YjGC5Xdi+oeWhBMs3+E+VZxFoRYRMWGXgOKtSCk0EhGX9XQ1oIAABCEAAwUIfOItA80RdrR6cVeXdF1KmCL+77woAgAAEOgQQLB0oJEEAAhCAAAQgsC8CCJZ9xQNrIAABCEAAAhDoEECwdKCQBAEIQAACEIDAvgggWPYVD6yBAAQgAAEIQKBDAMHSgUISBCAAAQhAAAL7IoBg2Vc8sAYCEIAABCAAgQ4BBEsHCkkQgAAEIAABCOyLAIJlX/HAGghAAAIQgAAEOgQQLB0oJEEAAhCAAAQgsC8CCJZ9xQNrIAABCEAAAhDoEECwdKCQBAEIQAACEIDAvgggWPYVD6yBAAQgAAEIQKBDAMHSgUISBCAAAQhAAAL7IoBg2Vc8sAYCEIAABCAAgQ4BBEsHCkkQgAAEIAABCOyLAIJlX/HAGghAAAIQgAAEOgQQLB0oJEEAAhCAAAQgsC8CCJZ9xQNrIAABCEAAAhDoEECwdKCQBAEIQAACEIDAvgggWPYVD6yBAAQgAAEIQKBDAMHSgUISBCAAAQhAAAL7IoBg2Vc8sAYCEIAABCAAgQ4BBEsHCkkQgAAEIAABCOyLAIJlX/HAGghAAAIQgAAEOgQQLB0oJEEAAhCAAAQgsC8CCJZ9xQNrIAABCEAAAhDoEECwdKCQBAEIQAACEIDAvgggWPYVD6yBAAQgAAEIQKBDAMHSgUISBCAAAQhAAAL7IrBbwfLfx3N4+PkZ/tsXL6yBAAQgAAEIQOAGBC4mWKLAeHwO7//WevE7vDy+hV8z2REsM2BIhgAEIAABCNwhgQsJlr/h/edb+PXnLfz4+LsS47JgWVkJ2SAAAQhAAAIQuAMClxEs/z7Dj9ffIcjRv8b58xYeHp+mP2lF5der/jZHKR//EyEzpfu6grn2+BRe/miEfoeXn5/hPddrV3pETPXaSWXTytD8So+2wBECEIAABCAAgdsRuIhgkUk/iQcRB0YsiICZfe1zYoWlET9JeFQiJb+CSkJGV3eiCFEBJIJJzzucESwdKCRBAAIQgAAEdkbgAoKlFikiAKxw0PPW762Cpc0vKzVJwLhrVqRE0fTEB7xtAEiBAAQgAAEIDEPg64JFBYG+xpHj9CrHipeWiBMZPkOzwtLmXyVYtF61s3nNpBk4QgACEIAABCCwVwJfFiytKDHCIn6/Mvd9iOQzr488oUawuFdCUYBoedOm1GNXWKp6Xb4QAq+EKkD8gAAEIAABCOySwBcFixMRk4tl5UMFgX70WouXJBama/qdia6E2BWbmWv19yymbiNYqjYen/LrKo0GgkVJcIQABCAAAQjsl8AXBct+HcMyCEAAAhCAAASOQwDBcpxY4gkEIAABCEDgsAQQLIcNLY5BAAIQgAAEjkMAwXKcWOIJBCAAAQhA4LAEECyHDS2OQQACEIAABI5DAMFynFjiCQQgAAEIQOCwBBAshw0tjkEAAhCAAASOQwDBcpxY4gkEIAABCEDgsAQQLIcNLY5BAAIQgAAEjkMAwXKcWOIJBCAAAQhA4LAEECyHDS2OQQACEIAABI5DAMFytVimfZd+fPy9WosXbajZjHK+dtmfaVg/593iCgQgAAEI3JDAOIKltyni41MoGyDekGLe9Vk3eWw3WQzh9oLlfCHR21lb0tRf3TVbY9DfFFOvcoQABCAAAQhsJTCOYMme9SbPfPFmJ7UYuL046YGobezl6KfJ7tt+xUTqUrEo5w8/P8N/tngUmGYHbXuNcwhAAAIQgMBGAocQLHHCfP1dXDeTZZxYPz7DD10NaPLpKkE7ucpE3UzEpZXqTNqpJvU/b6WsnE/tV3mkBnPt4dGvVNhVjLKalNr6LCscVizY+jS9uzpl2qquew5ig0+rXA9Bymtb5pLwU1FjkjmFAAQgAAEIbCZwCMESQj2pWvEg5w95wrWvKuoyUTi4SfdLgsWIJo2KtSuliT1GOGjGeLS2VhdC7VMIWRg44RDzGYHWti/1nuAgAsjUUVuSfvl2NM9cul7nCAEIQAACEFhL4CCCxUza8VuRsiLgJ+n8265E6OqLEyxrIUq+XK8WWiVYkt2y+tKsRDjxodV225ouRoGgvujRiI3GRil3isMpwRLLF97Wzli3ab+6xg8IQAACEIDABgKHESzxtYRMjv8+w4v5mzh+kpbViPha5tREvAGiZPXt9FZsmjymjbiaY4XLmYKleeVk2ui2f4rD0vUoVuZWiDpMjC2cQgACEIAABLYQOI5gmVZW3j/ewvu/gqCepOX1h06w9rzkt2fnvxKSuttVk9oW21I6r6/365CcdT5TT2dVx1xNr5KaFY9THOR6ZwUltqUsbSvlPL+qKkmcQQACEIAABM4icCDBkiZy/5GsTO76wWvz6iWuEOhHt+3fhNkqWOba8TYUO5IoKeWcMIiioNinr41mBUvnr1drmdQ7bHtGbKzgUK/cpO9rit3JxqqtE+LprN5KIQhAAAIQuFsCAwqW+Vj1nuiXJvf5mrhSEzi1ClPn1n9zphIwPgu/IQABCEAAAhsIHEKwxJWQx3aFRDggWDb0hqWssmKy8qNkmC+B5BoEIAABCJxD4BCC5RzHKQMBCEAAAhCAwDgEECzjxApLIQABCEAAAndLAMFyt6HHcQhAAAIQgMA4BBAs48QKSyEAAQhAAAJ3SwDBcrehx3EIQAACEIDAOAQQLOPECkshAAEIQAACd0sAwXK3ocdxCEAAAhCAwDgEECzjxApLIQABCEAAAndLAMFyt6HHcQhAAAIQgMA4BBAsO4+V/Kuxfn+knZuMeRCAAAQgAIGLExhIsEwb95ndhnt7B12c0MYK0zYBbhPDxTrEr/n8CJZFeFyEAAQgAIE7ITCYYHkOP36WyX1/guV3ePn5GX59PIf1G/8tC5Y76Ye4CQEIQAACEFgkMJhgeQu//ryFHx9/o1NFsLhJ/89beIgrMSn95fUpPDw+h/ePt/Aws0niIqW1F9W23L4pKGmPYof8SaIrrcZo2nTMK0hi+5TWbDporj0+FXEkGxS+fob3n1pnEXfGEk4hAAEIQAACwxEYT7CEtIrxXwhhnWBJuzhHcSATf09MXChsv16fw/s/qcwJKBESs699XF5vS7NL8t8oSMoKjpSf2o3tFAEjPqu489XyGwIQgAAEIDASgQEFSwjyXYdM2OsES1nNiJP8twmWWngU25K988KhLtd0nkawtPlzWy6vcJpvt2mJBAhAAAIQgMBuCQwpWIJMzK+/9yVYqlc+9eudZeHQCpCqtzgR0qze2JUml3e53aoVfkAAAhCAAAR2TWBMwRIn6bcg36akVyMy6dvXMU/VNyy/7KT+TSsseZVDw23FQxQzc9+TWNu1sDnaemKyeyUk19V3lxfBYjhyCgEIQAACQxMYVrCEaUVDv+WQyTl90Dp9XGs+uv1+wdITHSIsVESl10L+o1vtOcV2FVohxFUk/ehWj/pBbhQp+mGtirapjPlAF8GihDlCAAIQgMDoBAYSLKOjxn4IQAACEIAABM4lgGA5lxzlIAABCEAAAhC4GgEEy9VQ0xAEIAABCEAAAucSQLCcS45yEIAABCAAAQhcjQCC5WqoaQgCEIAABCAAgXMJIFjOJUc5CEAAAhCAAASuRgDBcjXUNAQBCEAAAhCAwLkEECznkqMcBCAAAQhAAAJXI4BguRpqGoIABCAAAQhA4FwCCJZzyVEOAhCAAAQgAIGrEUCwXA01DUEAAhCAAAQgcC4BBMu55CgHAQhAAAIQgMDVCAwmWNJOxXmTw39X43S6Ibch4cPj3O7Mp6uKOdzOyytLXT7bOXacU2bJ8pn6mh2yl+o4ec32re2xE1t0c8sfH39TazN2nzSFDBCAAAQg0BAYSrDIpFBNBl8VBQ2OLyS4ySlOYLq78jnVuvrOqeIiZc6x45wyS8bO1HdZwaIGyM7bGwXLjH1xx22ze7a2wBECEIAABLYTGEiwuInkz1t8on35s93pbynhJy2xb5qs/vt4LkIryJP8c3jX1aHJj2bVaKrvPT+5r51EhVN52s98pD6TnoWf2vOReIod6ZpdcSj1lXI9iqfK1NeX65L66/x+BSMKlo/iV1Wf5bpJNLh+pm4u1SfXKnG6bLdWyRECEIAABNYTGEewGEEgAkDEgEzmeUJe7/P35DT2SQN2NWhesMjEZsSLtWwSGDoJ2/pstvo8TZSnmdh2p8k1T7huwnZ+1e3N/JopU/uw1tYQ5lYqpL786i3ymkSdaz/2l+zfjM052fkv6XP1xTaLmEuCyghLVy43wQkEIAABCGwmMJxg+SViZZp8ZMI6PTlvZnJeAT95mQlyXrAkYSMTXeOHm+zqOmZMdGXqXPXKy8OjCiUrXuoS8ddinZ38ktQt07azyqfZ+hK7wq0IjShQzGpSFBImHjNWT8mlHs13sr5mhWUq2eWgtXKEAAQgAIEtBMYRLGGacPPEs+EJfQuRc/MuTE71xNxO3NJkWi0wwsXVV9cxY6QrY3PF+it2xxYsujJlGaw77wuWxfoQLOvQkgsCEIDAFwgMJFjcE3X8psAsv38BwkWKLoiF+IQ+iYX0tK5ioW65EiWuvupaXcz8SqKurDqUSyJY8qQb2akNfQGVS4od53yE2ilT2TAJ0J6tuW09mbFB6ivljdCYya/VLR9NPZrxVH1LgqXDQavlCAEIQAAC6wkMJViCrrLE5X6dcNc7+605ZVKb/bgzCYn0auLTfLdi0qNPRoC5+tYJlul1jHkdkif0OOlO31u8WhtOCBaz+iP2Z9FzAmZc0ZnsKGVqf0v6icpmbJgVLCGEJAzL9yWZw2xTtW0xViaei/XNCZYZu2dN4AIEIAABCMwSGEywzPrBBQhAAAIQgAAEDkwAwXLg4OIaBCAAAQhA4CgEECxHiSR+QAACEIAABA5MAMFy4ODiGgQgAAEIQOAoBBAsR4kkfkAAAhCAAAQOTADBcuDg4hoEIAABCEDgKAQQLEeJJH5AAAIQgAAEDkwAwXLg4OIaBCAAAQhA4CgEECxHiSR+QAACEIAABA5MAMFy4ODiGgQgAAEIQOAoBBAsR4kkfkAAAhCAAAQOTADBcuDg4tplCcT9hMz+QpetndogAAEIQGCJwHCCRTfV27Jx3hKAi12zmwv6jQzPacRtfnhOFRcpc44d55RZMnamvnrzw6UKLnNtk2CZsVktkbp214fVOI4QgAAEdkhgIMEiuwo/Bdl1Vyaq3Q32boKKwur19/khd/WdX9EXS55jxzlllsycqe/agmXJxObajM2aD8GiJDhCAAIQWEdgIMFSHBpBsIQ/b+Fhen1QT04ivJ7D+7/JH8kXV2SewsOjSZ8mvPdXSZc/b+FXQbBw9ju85PqSwIuZpT6TXgTfZM9HsSNdSwKx2JbsKOV6JpwqU19frkvqr/OrLVouCpaP4pemR8ss11WvcaSt5/DecJDaDNOmLnNt4hvtmIufi0PyycS9h5U0CEAAAhAICJZLdYJpgvpvqs+KqnnBMk2SKl6sLdPEppOwrc9mq8/TBC+rUMv/2XZTmYe8GiQTsBFHzq/leqerM2VqH9baGkJYqC8LuchrstvlF/7FvzkPTnCQYq5eSap8MiI15n0sK4FVvhBC3SfmbCIdAhCAAASUAIJFSXz1GCdMXQ15qibIenKyYiFNePKU3YgMNznWdcwY68rUufxKgD7V1/bUZfqTdJPHJ3TtaNtZ5ZPU3a0vsSvcitCSenU1Jh+zIPPG6u/WPr2Sjx07KiHiBYtZjfG++t+5DU4gAAEIQKBLAMHSxXJGYmcy01rqyak/McrEVwkXV19dh9bsjq6MvRrrz5O2tcGe2xLT+UKdndwpqVumbWeVT1Jjt75lwaIrU7M2Nhda+5osHTvEhyyKOq/0dMXN++p/N22RAAEIQAACFQEES4XjCz86k5nWFie1SSykCU5XNzRHOlaTmKuvulYXM7/SKkpZdSiXmpWAPLmemKjFDvuKqFQ5fzZTprJh+i6kZ2tT8UJ9pXxZYUmvY8xrrabCXsIJDlLExSR9Y9OPpc/r4xf7QRaQPXtIgwAEIAABS2AowaKrEN0nWuvVLc6bycwaYV7HvH6aj25Nuv+w1tXnJzxbe3UeJ/fyaipP6Da9suH0RG25r1256Jep/V1bl/jXq0/Ssn9RABWREgWB+ci45KtomR8LHCw7rbMSoIV3/nD6ZPwsixnRY6zjFAIQgMC9ExhKsNx7sPB/bwREdBSRJNaJiNoixPbmEfZAAAIQ2CsBBMteI4NdQxCwKz9x5Y/XPEPEDSMhAIHxCCBYxosZFkMAAhCAAATujgCC5e5CjsMQgAAEIACB8QggWMaLGRZDAAIQgAAE7o4AguXuQo7DEIAABCAAgfEIIFjGixkWQwACEIAABO6OAILl7kKOwxCAAAQgAIHxCCBYxosZFkMAAhCAAATujgCC5e5CjsMQgAAEIACB8QggWMaLGRZDAAIQgAAE7o4AguXuQo7DEIAABCAAgfEIIFjGixkWQwACEIAABO6OAILl7kKOwxCAAAQgAIHxCCBYxosZFkMAAhCAAATujsD/ATfzVff5W8ZeAAAAAElFTkSuQmCC)"
      ]
    },
    {
      "cell_type": "code",
      "metadata": {
        "id": "Ar0yNaNrCnjn",
        "colab": {
          "base_uri": "https://localhost:8080/"
        },
        "outputId": "f21f2edd-4a4c-471f-ce30-006b1af9ae55"
      },
      "source": [
        "### Create environment\n",
        "env = gym.make('CartPole-v1') # Initialize the Gym environment\n",
        "env.seed(0) # Set a random seed for the environment (reproducible results)\n",
        "\n",
        "# Get the shapes of the state space (observation_space) and action space (action_space)\n",
        "state_space_dim = env.observation_space.shape[0]\n",
        "action_space_dim = env.action_space.n\n",
        "\n",
        "print(f\"STATE SPACE SIZE: {state_space_dim}\")\n",
        "print(f\"ACTION SPACE SIZE: {action_space_dim}\")"
      ],
      "execution_count": 19,
      "outputs": [
        {
          "output_type": "stream",
          "text": [
            "STATE SPACE SIZE: 4\n",
            "ACTION SPACE SIZE: 2\n"
          ],
          "name": "stdout"
        }
      ]
    },
    {
      "cell_type": "markdown",
      "metadata": {
        "id": "GR0X30SQwwC7"
      },
      "source": [
        "### Random agent"
      ]
    },
    {
      "cell_type": "markdown",
      "metadata": {
        "id": "eJP0ggFyOLLG"
      },
      "source": [
        "First of all, to check that the environment is working properly, let's try with an agent which simply choose an action randomly."
      ]
    },
    {
      "cell_type": "code",
      "metadata": {
        "id": "2g4NatpgSpbc",
        "colab": {
          "base_uri": "https://localhost:8080/"
        },
        "outputId": "39193964-e348-4930-96d7-12ee792c70d3"
      },
      "source": [
        "# Initialize the Gym environment\n",
        "env = gym.make('CartPole-v1') \n",
        "env.seed(0) # Set a random seed for the environment (reproducible results)\n",
        "\n",
        "# This is for creating the output video in Colab, not required outside Colab\n",
        "env = wrap_env(env, video_callable=lambda episode_id: True)\n",
        "\n",
        "# Let's try for a total of 10 episodes\n",
        "for num_episode in range(10): \n",
        "    # Reset the environment and get the initial state\n",
        "    state = env.reset()\n",
        "    # Reset the score. The final score will be the total amount of steps before the pole falls\n",
        "    score = 0\n",
        "    done = False\n",
        "    # Go on until the pole falls off or the score reach 490\n",
        "    while not done and score < 490:\n",
        "      # Choose a random action\n",
        "      action = random.choice([0, 1])\n",
        "      # Apply the action and get the next state, the reward and a flag \"done\" that is True if the game is ended\n",
        "      next_state, reward, done, info = env.step(action)\n",
        "      # Visually render the environment (optional, comment this line to speed up the simulation)\n",
        "      env.render()\n",
        "      # Update the final score (+1 for each step)\n",
        "      score += reward \n",
        "      # Set the current state for the next iteration\n",
        "      state = next_state\n",
        "      # Check if the episode ended (the pole fell down)\n",
        "    # Print the final score\n",
        "    print(f\"EPISODE {num_episode + 1} - FINAL SCORE: {score}\") \n",
        "\n",
        "env.close()\n"
      ],
      "execution_count": 20,
      "outputs": [
        {
          "output_type": "stream",
          "text": [
            "EPISODE 1 - FINAL SCORE: 10.0\n",
            "EPISODE 2 - FINAL SCORE: 44.0\n",
            "EPISODE 3 - FINAL SCORE: 16.0\n",
            "EPISODE 4 - FINAL SCORE: 15.0\n",
            "EPISODE 5 - FINAL SCORE: 27.0\n",
            "EPISODE 6 - FINAL SCORE: 12.0\n",
            "EPISODE 7 - FINAL SCORE: 19.0\n",
            "EPISODE 8 - FINAL SCORE: 14.0\n",
            "EPISODE 9 - FINAL SCORE: 10.0\n",
            "EPISODE 10 - FINAL SCORE: 18.0\n"
          ],
          "name": "stdout"
        }
      ]
    },
    {
      "cell_type": "code",
      "metadata": {
        "id": "AnX-nFLiVPH6",
        "colab": {
          "base_uri": "https://localhost:8080/",
          "height": 0
        },
        "outputId": "2122b348-6a4e-46dd-f69b-19c4b84b1f88"
      },
      "source": [
        "# Display the videos, not required outside Colab\n",
        "show_videos()"
      ],
      "execution_count": 21,
      "outputs": [
        {
          "output_type": "stream",
          "text": [
            "\n",
            "SHOWING VIDEO video/openaigym.video.0.7037.video000000.mp4\n"
          ],
          "name": "stdout"
        },
        {
          "output_type": "display_data",
          "data": {
            "text/html": [
              "<video alt=\"test\" autoplay \n",
              "                loop controls style=\"height: 400px;\">\n",
              "                <source src=\"data:video/mp4;base64,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\" type=\"video/mp4\" />\n",
              "             </video>"
            ],
            "text/plain": [
              "<IPython.core.display.HTML object>"
            ]
          },
          "metadata": {
            "tags": []
          }
        },
        {
          "output_type": "stream",
          "text": [
            "\n",
            "SHOWING VIDEO video/openaigym.video.0.7037.video000001.mp4\n"
          ],
          "name": "stdout"
        },
        {
          "output_type": "display_data",
          "data": {
            "text/html": [
              "<video alt=\"test\" autoplay \n",
              "                loop controls style=\"height: 400px;\">\n",
              "                <source src=\"data:video/mp4;base64,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\" type=\"video/mp4\" />\n",
              "             </video>"
            ],
            "text/plain": [
              "<IPython.core.display.HTML object>"
            ]
          },
          "metadata": {
            "tags": []
          }
        },
        {
          "output_type": "stream",
          "text": [
            "\n",
            "SHOWING VIDEO video/openaigym.video.0.7037.video000002.mp4\n"
          ],
          "name": "stdout"
        },
        {
          "output_type": "display_data",
          "data": {
            "text/html": [
              "<video alt=\"test\" autoplay \n",
              "                loop controls style=\"height: 400px;\">\n",
              "                <source src=\"data:video/mp4;base64,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\" type=\"video/mp4\" />\n",
              "             </video>"
            ],
            "text/plain": [
              "<IPython.core.display.HTML object>"
            ]
          },
          "metadata": {
            "tags": []
          }
        },
        {
          "output_type": "stream",
          "text": [
            "\n",
            "SHOWING VIDEO video/openaigym.video.0.7037.video000003.mp4\n"
          ],
          "name": "stdout"
        },
        {
          "output_type": "display_data",
          "data": {
            "text/html": [
              "<video alt=\"test\" autoplay \n",
              "                loop controls style=\"height: 400px;\">\n",
              "                <source src=\"data:video/mp4;base64,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\" type=\"video/mp4\" />\n",
              "             </video>"
            ],
            "text/plain": [
              "<IPython.core.display.HTML object>"
            ]
          },
          "metadata": {
            "tags": []
          }
        },
        {
          "output_type": "stream",
          "text": [
            "\n",
            "SHOWING VIDEO video/openaigym.video.0.7037.video000004.mp4\n"
          ],
          "name": "stdout"
        },
        {
          "output_type": "display_data",
          "data": {
            "text/html": [
              "<video alt=\"test\" autoplay \n",
              "                loop controls style=\"height: 400px;\">\n",
              "                <source src=\"data:video/mp4;base64,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\" type=\"video/mp4\" />\n",
              "             </video>"
            ],
            "text/plain": [
              "<IPython.core.display.HTML object>"
            ]
          },
          "metadata": {
            "tags": []
          }
        },
        {
          "output_type": "stream",
          "text": [
            "\n",
            "SHOWING VIDEO video/openaigym.video.0.7037.video000005.mp4\n"
          ],
          "name": "stdout"
        },
        {
          "output_type": "display_data",
          "data": {
            "text/html": [
              "<video alt=\"test\" autoplay \n",
              "                loop controls style=\"height: 400px;\">\n",
              "                <source src=\"data:video/mp4;base64,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\" type=\"video/mp4\" />\n",
              "             </video>"
            ],
            "text/plain": [
              "<IPython.core.display.HTML object>"
            ]
          },
          "metadata": {
            "tags": []
          }
        },
        {
          "output_type": "stream",
          "text": [
            "\n",
            "SHOWING VIDEO video/openaigym.video.0.7037.video000006.mp4\n"
          ],
          "name": "stdout"
        },
        {
          "output_type": "display_data",
          "data": {
            "text/html": [
              "<video alt=\"test\" autoplay \n",
              "                loop controls style=\"height: 400px;\">\n",
              "                <source src=\"data:video/mp4;base64,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\" type=\"video/mp4\" />\n",
              "             </video>"
            ],
            "text/plain": [
              "<IPython.core.display.HTML object>"
            ]
          },
          "metadata": {
            "tags": []
          }
        },
        {
          "output_type": "stream",
          "text": [
            "\n",
            "SHOWING VIDEO video/openaigym.video.0.7037.video000007.mp4\n"
          ],
          "name": "stdout"
        },
        {
          "output_type": "display_data",
          "data": {
            "text/html": [
              "<video alt=\"test\" autoplay \n",
              "                loop controls style=\"height: 400px;\">\n",
              "                <source src=\"data:video/mp4;base64,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\" type=\"video/mp4\" />\n",
              "             </video>"
            ],
            "text/plain": [
              "<IPython.core.display.HTML object>"
            ]
          },
          "metadata": {
            "tags": []
          }
        },
        {
          "output_type": "stream",
          "text": [
            "\n",
            "SHOWING VIDEO video/openaigym.video.0.7037.video000008.mp4\n"
          ],
          "name": "stdout"
        },
        {
          "output_type": "display_data",
          "data": {
            "text/html": [
              "<video alt=\"test\" autoplay \n",
              "                loop controls style=\"height: 400px;\">\n",
              "                <source src=\"data:video/mp4;base64,AAAAIGZ0eXBpc29tAAACAGlzb21pc28yYXZjMW1wNDEAAAAIZnJlZQAACPdtZGF0AAACrgYF//+q3EXpvebZSLeWLNgg2SPu73gyNjQgLSBjb3JlIDE1MiByMjg1NCBlOWE1OTAzIC0gSC4yNjQvTVBFRy00IEFWQyBjb2RlYyAtIENvcHlsZWZ0IDIwMDMtMjAxNyAtIGh0dHA6Ly93d3cudmlkZW9sYW4ub3JnL3gyNjQuaHRtbCAtIG9wdGlvbnM6IGNhYmFjPTEgcmVmPTMgZGVibG9jaz0xOjA6MCBhbmFseXNlPTB4MzoweDExMyBtZT1oZXggc3VibWU9NyBwc3k9MSBwc3lfcmQ9MS4wMDowLjAwIG1peGVkX3JlZj0xIG1lX3JhbmdlPTE2IGNocm9tYV9tZT0xIHRyZWxsaXM9MSA4eDhkY3Q9MSBjcW09MCBkZWFkem9uZT0yMSwxMSBmYXN0X3Bza2lwPTEgY2hyb21hX3FwX29mZnNldD0tMiB0aHJlYWRzPTMgbG9va2FoZWFkX3RocmVhZHM9MSBzbGljZWRfdGhyZWFkcz0wIG5yPTAgZGVjaW1hdGU9MSBpbnRlcmxhY2VkPTAgYmx1cmF5X2NvbXBhdD0wIGNvbnN0cmFpbmVkX2ludHJhPTAgYmZyYW1lcz0zIGJfcHlyYW1pZD0yIGJfYWRhcHQ9MSBiX2JpYXM9MCBkaXJlY3Q9MSB3ZWlnaHRiPTEgb3Blbl9nb3A9MCB3ZWlnaHRwPTIga2V5aW50PTI1MCBrZXlpbnRfbWluPTI1IHNjZW5lY3V0PTQwIGludHJhX3JlZnJlc2g9MCByY19sb29rYWhlYWQ9NDAgcmM9Y3JmIG1idHJlZT0xIGNyZj0yMy4wIHFjb21wPTAuNjAgcXBtaW49MCBxcG1heD02OSBxcHN0ZXA9NCBpcF9yYXRpbz0xLjQwIGFxPTE6MS4wMACAAAABxGWIhAAv//72rvzLK0cLlS4dWXuzUfLoSXL9iDB9aAAAAwAAAwAAJuKiZ0WFMeJsgAAALmAIWElDyDzETFWKgSvGXwer5gACv3NbaZ7C7fA4fk2J2ST1hj2q968ss1talPgcajB/TMsssQjq6pf2Z85svUe2ioiCLVjO/vG/sUnksPy/5B/65PWQxEg1tRHXYONZXzNu4Yyicn8EnGV4kacHaH6X3QtXbZ0LaCK/YktEfdYTTfsLQRTuNv30//UXnAW/srgjZ9hXA8X1IRVN/Dt3n0NBcKAFvgJApdtv53GHOWkUnu5EsjZtqCSEMAJpGcde1tMCPHu3ClZx+dG5PALqlNaBUC7K/sH8PxkjPsCsKELSLT7gW6wvF8sbwdk0Pg0uzCh7ma3ZEML09nXpt5sUtWlvGJ/MPh9BB3bkLZZIQ16MvnOFAUqzaZezycKTaTskz7pTHzOiLdECSrixPTaVCQcW7MNlIIua5+2BsqsRFuOqcA7CgupComWIYbdNOivcTm70AFjeSSyAFi6y1SZRS0iG/Yf4fB/rO95XmkFl9PQrcIMDu1WcsDlYfdnjQlj9PiAnFBP+DQAEAAADAAADAAGBAAAA20GaJGxC//6MsAAARgpsRgA4hnxkr3j+wDdV3CPIlI4vVt8Oy2Wrf5kedfTq8y6ZQFdHawxHRZE/3JXNJS8dVPY2z5HHHsq6vW7Y/Nfxzsc90U0zG0Cf2NSI2+C79Ok8HJXKjLkmJvmFEgYG/yROyEVR5WO/QcYAzfv9UcGktH1CGpp9dz5EjdCejUX6I8BNz5EilIoMB+WhK8jJxaVO8FSJxSCJUGSYF63qA/FyNU+2BCtPEHKGNlAYP76BJuHHvdemUthHcHjWqUPzN2Dd8U2HGe7VNU/QuICRgAAAAEtBnkJ4hH8AABa+S7BHz7z6uDH4ebfFMqJhCCKIE1wvxS+g5rLhKmH+S9KuqzgAAAMAAnvMVQ9sEHzZ2JnDJbKJFnIk34xbVMsACykAAAAtAZ5hdEf/AAAFHnG3yyy1Mww8fGxN6b/CLisAAAMAAAMAAAktcAB0+alUAAyoAAAARAGeY2pH/wAAI78EJxjN64x0WcHAAuolasmXOua5l9SkeyJjm6FNXHQTlm8rKf8wTPBVRyXazAAAAwAAAwBseFMVQD5hAAAAzEGaaEmoQWiZTAhP//3xAAADAp+4IshCis1XsGwtTn1x0mGgBa2E5XVCN3zASukR5sC+JaojTJLqx9FOjvyVsAn+cju1m2M6dt3N8Xvgw7XCfPeM1xWCibFYHliuZmMNcyghB3BPHSs2VJvXKXfA0jfyF6NleYiAMqI1bKONTVnwlsKQ7LjvhV/5SbmRnzu1z2qxVesTqPHOlO7aAVpbywRJuy9n/tTDv2K7lPRzQEyDH/Pv7POWTKK3AAADAAADAEeNlKPUYf7PCeECTwAAAHBBnoZFESwj/wAAFruMakAOPYxZQEf1KyIYZE4GghsvEfc7QSeSaP86X6vAogE++WCOckw1Fu/Oo03WYuQVU308DMsU/ruAJ0iujWf1lrQBLSz3Y4rqYczYnH5EIdrNSuFsxrwxQAAF/mgxu6uSqAg5AAAASAGepXRH/wAAI6NrzUcSFh6+keFsCmZq/bcQlqqyuM8DwZxIXKkFSQXqbwHrtFvHwFT2DloYJDgAAAMAAAMAA4iY77gW7LAg4QAAAFwBnqdqR/8AACM7foR1F3ecgER86jjtE7GIIOVxdEUfPTMXLVyOaG48L3/HGB2CLfXKAjcADaKccuC2HoljtcAezFOHIneVzytJC5AAAAMAAAMAN3FrT5e2pZYDFgAAAIpBmqpJqEFsmUwUTH/8hAAAD92ZZvOjRWxbn3MtE/iIubAlpIADecqlVTvzdXbGIAWrAL61gxDrFvGU0oRtpeycNXXCnjMNXT4HUQ35iD+H8Xh4ju4T8ihce/seZrTzgt9VGSnrTJT/gxwoAWXGdWutFzWtvOOHiH2clA1fGQMu6mIdm6IZzyCiE4AAAABMAZ7Jakf/AAAjroIXf9bG6fJlpaz3WlqO1ROhLe2oMHA5bOPy6kgWj7O7mUfMSmx5ifM+Z2Bv3yNdMtBqZqtfV0/FxCD7AYw1c+cnewAAA5dtb292AAAAbG12aGQAAAAAAAAAAAAAAAAAAAPoAAAA3AABAAABAAAAAAAAAAAAAAAAAQAAAAAAAAAAAAAAAAAAAAEAAAAAAAAAAAAAAAAAAEAAAAAAAAAAAAAAAAAAAAAAAAAAAAAAAAAAAAAAAAACAAACwXRyYWsAAABcdGtoZAAAAAMAAAAAAAAAAAAAAAEAAAAAAAAA3AAAAAAAAAAAAAAAAAAAAAAAAQAAAAAAAAAAAAAAAAAAAAEAAAAAAAAAAAAAAAAAAEAAAAACWAAAAZAAAAAAACRlZHRzAAAAHGVsc3QAAAAAAAAAAQAAANwAAAIAAAEAAAAAAjltZGlhAAAAIG1kaGQAAAAAAAAAAAAAAAAAADIAAAALAFXEAAAAAAAtaGRscgAAAAAAAAAAdmlkZQAAAAAAAAAAAAAAAFZpZGVvSGFuZGxlcgAAAAHkbWluZgAAABR2bWhkAAAAAQAAAAAAAAAAAAAAJGRpbmYAAAAcZHJlZgAAAAAAAAABAAAADHVybCAAAAABAAABpHN0YmwAAACYc3RzZAAAAAAAAAABAAAAiGF2YzEAAAAAAAAAAQAAAAAAAAAAAAAAAAAAAAACWAGQAEgAAABIAAAAAAAAAAEAAAAAAAAAAAAAAAAAAAAAAAAAAAAAAAAAAAAAAAAAAAAY//8AAAAyYXZjQwFkAB//4QAZZ2QAH6zZQJgz5eEAAAMAAQAAAwBkDxgxlgEABmjr48siwAAAABhzdHRzAAAAAAAAAAEAAAALAAABAAAAABRzdHNzAAAAAAAAAAEAAAABAAAAaGN0dHMAAAAAAAAACwAAAAEAAAIAAAAAAQAABQAAAAABAAACAAAAAAEAAAAAAAAAAQAAAQAAAAABAAAFAAAAAAEAAAIAAAAAAQAAAAAAAAABAAABAAAAAAEAAAMAAAAAAQAAAQAAAAAcc3RzYwAAAAAAAAABAAAAAQAAAAsAAAABAAAAQHN0c3oAAAAAAAAAAAAAAAsAAAR6AAAA3wAAAE8AAAAxAAAASAAAANAAAAB0AAAATAAAAGAAAACOAAAAUAAAABRzdGNvAAAAAAAAAAEAAAAwAAAAYnVkdGEAAABabWV0YQAAAAAAAAAhaGRscgAAAAAAAAAAbWRpcmFwcGwAAAAAAAAAAAAAAAAtaWxzdAAAACWpdG9vAAAAHWRhdGEAAAABAAAAAExhdmY1Ny44My4xMDA=\" type=\"video/mp4\" />\n",
              "             </video>"
            ],
            "text/plain": [
              "<IPython.core.display.HTML object>"
            ]
          },
          "metadata": {
            "tags": []
          }
        },
        {
          "output_type": "stream",
          "text": [
            "\n",
            "SHOWING VIDEO video/openaigym.video.0.7037.video000009.mp4\n"
          ],
          "name": "stdout"
        },
        {
          "output_type": "display_data",
          "data": {
            "text/html": [
              "<video alt=\"test\" autoplay \n",
              "                loop controls style=\"height: 400px;\">\n",
              "                <source src=\"data:video/mp4;base64,AAAAIGZ0eXBpc29tAAACAGlzb21pc28yYXZjMW1wNDEAAAAIZnJlZQAACyxtZGF0AAACrgYF//+q3EXpvebZSLeWLNgg2SPu73gyNjQgLSBjb3JlIDE1MiByMjg1NCBlOWE1OTAzIC0gSC4yNjQvTVBFRy00IEFWQyBjb2RlYyAtIENvcHlsZWZ0IDIwMDMtMjAxNyAtIGh0dHA6Ly93d3cudmlkZW9sYW4ub3JnL3gyNjQuaHRtbCAtIG9wdGlvbnM6IGNhYmFjPTEgcmVmPTMgZGVibG9jaz0xOjA6MCBhbmFseXNlPTB4MzoweDExMyBtZT1oZXggc3VibWU9NyBwc3k9MSBwc3lfcmQ9MS4wMDowLjAwIG1peGVkX3JlZj0xIG1lX3JhbmdlPTE2IGNocm9tYV9tZT0xIHRyZWxsaXM9MSA4eDhkY3Q9MSBjcW09MCBkZWFkem9uZT0yMSwxMSBmYXN0X3Bza2lwPTEgY2hyb21hX3FwX29mZnNldD0tMiB0aHJlYWRzPTMgbG9va2FoZWFkX3RocmVhZHM9MSBzbGljZWRfdGhyZWFkcz0wIG5yPTAgZGVjaW1hdGU9MSBpbnRlcmxhY2VkPTAgYmx1cmF5X2NvbXBhdD0wIGNvbnN0cmFpbmVkX2ludHJhPTAgYmZyYW1lcz0zIGJfcHlyYW1pZD0yIGJfYWRhcHQ9MSBiX2JpYXM9MCBkaXJlY3Q9MSB3ZWlnaHRiPTEgb3Blbl9nb3A9MCB3ZWlnaHRwPTIga2V5aW50PTI1MCBrZXlpbnRfbWluPTI1IHNjZW5lY3V0PTQwIGludHJhX3JlZnJlc2g9MCByY19sb29rYWhlYWQ9NDAgcmM9Y3JmIG1idHJlZT0xIGNyZj0yMy4wIHFjb21wPTAuNjAgcXBtaW49MCBxcG1heD02OSBxcHN0ZXA9NCBpcF9yYXRpbz0xLjQwIGFxPTE6MS4wMACAAAABd2WIhAAz//727L4FNf2f0JcRLMXaSnA+KqSAgHc0wAAAAwAAAwAAFgn0I7DkqgN3QAAAHGAFBCwCPCVC2EhH2OkN/wOssgDldp7oAQ/Fz/ZwIfZxvHWQLZFdKhsxwesAQwLB/nXsolVLaZy65Bw72nrqYfH69cJYG020EPdaHtMx/7GVyYBSMyZd/EJ18wObCq/kUUsbL446J4Tc0YE3UHJgLXB0nY1VznGK/ro+zC9SC2TiS00Pa5aL10BGyPhFsJr/uCXfsq5lSeeOqz0eLn6ZpZIUA6zOCBOSRNs0q59UgZD8kiFnQgkiPOFSGSKETlnATubsiQW80wUgs7dv2+QXV6x9na/wPUBH0o7vS7Y1aILvfHcYVDk63I68vrnJ+1ZrMOBJIF0ebm+9zj0pSh1s4gTLw4t6GSAeDip3wNuKodC5Z4imJcVtVjOBWD/EJVN7DFFHvb+be+xmRpzSHGx7P2HXgGODytzN0ahtgAAAAwAAAwAYEQAAALFBmiRsQv/+jLAAAEYdvTuAOX9REsg1h0cMJd2kRsHOY0qAb561lOn3Kfgz0/LlevQ/qvfmGaR2gL1oR/UjF+zCnDB930/fiJT8sK2KBoWjkuUBQQCupbAresn8P4tyAV/FuBCeSwDv/rEdP+IjZUQI5RQlhjrBhPhCyr7YrhciEnrwcfFYbxBGlrEd+zpclePJNCK5H8K2HEAAAEL+B706UPOp6hGp5iRf7U2PsIqvucAAAAA3QZ5CeIR/AAAWtStDoQR4DRIYSFxE3Ly4CiIATR41Taamh4jp+ZVuXgLAAAADAJqpWID+p6cf4QAAACoBnmF0R/8AACOwq7GCxfVahRx4IDIC/5wwAAADAAADABEjin9lVTe4u4AAAABFAZ5jakf/AAADAeZ+lsGPJClWLl4wO0pdKg0i+szBKfgwATrAX9M8YSCO7WQpP3M63dZOHZkyAAADAADAw4QPZDIywFtBAAAAoUGaaEmoQWiZTAhf//6MsAAARhR2/5wBErKMTk3j/KBMgdtXKyulW6KQCfDR532/jF/+BoFRcbL5WV+b0fpu8AJhQv/Nf//1DXAcGd4aunf3LdShGfpWWwBUMjvcGT17LoOsUa0WBXhfrcbxFDRKVJ8b7JEGyP5Slf5qJZauOa0Il61EdvD3bPbQ9Kvbzia+rM4A+Fs6EF0e2wby55z1PysPAAAAXUGehkURLCP/AAAWu5R5hIAX9vZMneAuaFdP/+58dk59QJySUvXY/8UWWhFTbUNyaizdmtjxzQ96/Fn0keXBM36n+5KMYDKN/g4Ve250mCsGRO2BdFuiu1DmZJ8y8QAAADsBnqV0R/8AACOr+FwumhYphM/YN8lqKqCNvIOoGv4+otYAQFUOMBpx320LZ28GPGmqFE9v+WDmA3QekQAAADUBnqdqR/8AACK/H4lCQrnSPzVsd4ZJNEIuNlY9sCMVukkyTgyk86TAAJ1lFl+NhIy43yhNTAAAAPZBmqxJqEFsmUwIX//+jLAAAEZ6bz/xI+ADjeFM4FsJa8nwBtnWvHANhV1/mJuhy7fPQ1pHZW63bq3//A23DMHcQKW2XBCFZek3m+Q1U708fPayZwPKQi3JWasnrUTp0WKc94SKwhZuLYIIB19hS5bgLTYpf/5sVBtLc1dfmjfgz4fPh03up3002mZbNHUxsMlJ2iH7OrF5l4ZGB7H2BNU8HFJnKeviJTORdt5CFJGbEVjbCdddTgAFB+j7QlsANHuSnI2BmjmDhPDDhohBP1qV/edr9e5qI8ascBWNFttajTf6MBHV3c0LCs8ZjH9w03QgYHGNWIoAAABJQZ7KRRUsI/8AABa7nFEP9j6uVBw6DVHBPa9jLSHVkuYdrEQZqGW6Dv7KaJE3xXRd4MbAQOuaMsu6mB/oX95O65vA4tJDL8rRtQAAAEcBnul0R/8AACPVIQAsLZbeYU1PEAKVwnJeUyrneEUtdFB44X/Jmg6SUC9iFE9PvA9wCZg35giG/sDfM0Inyx0AhYYRt2qamAAAADwBnutqR/8AACOuMBDW0M7/ZJWpBSsuTi6B7209PS3a9S01g8h99eUbn81j4jsTajBbkNW7lxZ+YgTWc2YAAACZQZrwSahBbJlMCE///fEAAAMCjOnFISF0TWG3tlQXklBdGQAtaN3hw1dUGEPt5MeZc9JRezYnrpRBoYyoiUCB7/AacETrBBihmRN9+B2aODo1CGxyQIOnwOSlg9Ug7XsdI+CBOs7g0fnvaSdfIqpdmlQCDcfjPCbG/TyeksFG4y8OJjObuisSdcmqSdPGWhTz0lOsTiZzL81tAAAAYEGfDkUVLCP/AAAWd5SrkmUSAA4wUD5OU+5arw3HNSd8rXA3S2fn2QYFbCbDXpWCPRqB5Y4hucSUKVSR010acnT4oBkZv149+RAovLf9FtioUt3pTbQmumrOWuqt99ykWQAAAEQBny10R/8AAA2HtZowLuvvLp6JoW2PRSqbmzOTosOzZq97lxyOMsFJNiSv404BAA/Pp9/ARubPSp4NRegG/o5GljteXQAAAEgBny9qR/8AACKuM0LfoDAMWnAZYpoAaREif5ih5yqIJ5ICBGoYMlKu4J8kXu23Vtr7oAJS7sRyXoLfqXNrjPrF9iIfXJ7JBJgAAABfQZsySahBbJlMFEx//IQAAA+FvUhb9rzjFkQqzPrM8gRIE6UAOAz2EUiy27BpIpiRQ+IMP8yyK3L4UgeVIKR6ijMAIGVj+xjoewoACztsC1VgO7d1UBjYv4CKgT6ZN4AAAABEAZ9Rakf/AAAinvIBIGGU9FtDz8qFH1YRHZ0h25MrjE96HNa/LAwIwQjsDd2j/DhpqgAJXrKmMhksyT6WraL3JC8QFqUAAAP3bW9vdgAAAGxtdmhkAAAAAAAAAAAAAAAAAAAD6AAAAXwAAQAAAQAAAAAAAAAAAAAAAAEAAAAAAAAAAAAAAAAAAAABAAAAAAAAAAAAAAAAAABAAAAAAAAAAAAAAAAAAAAAAAAAAAAAAAAAAAAAAAAAAgAAAyF0cmFrAAAAXHRraGQAAAADAAAAAAAAAAAAAAABAAAAAAAAAXwAAAAAAAAAAAAAAAAAAAAAAAEAAAAAAAAAAAAAAAAAAAABAAAAAAAAAAAAAAAAAABAAAAAAlgAAAGQAAAAAAAkZWR0cwAAABxlbHN0AAAAAAAAAAEAAAF8AAACAAABAAAAAAKZbWRpYQAAACBtZGhkAAAAAAAAAAAAAAAAAAAyAAAAEwBVxAAAAAAALWhkbHIAAAAAAAAAAHZpZGUAAAAAAAAAAAAAAABWaWRlb0hhbmRsZXIAAAACRG1pbmYAAAAUdm1oZAAAAAEAAAAAAAAAAAAAACRkaW5mAAAAHGRyZWYAAAAAAAAAAQAAAAx1cmwgAAAAAQAAAgRzdGJsAAAAmHN0c2QAAAAAAAAAAQAAAIhhdmMxAAAAAAAAAAEAAAAAAAAAAAAAAAAAAAAAAlgBkABIAAAASAAAAAAAAAABAAAAAAAAAAAAAAAAAAAAAAAAAAAAAAAAAAAAAAAAAAAAGP//AAAAMmF2Y0MBZAAf/+EAGWdkAB+s2UCYM+XhAAADAAEAAAMAZA8YMZYBAAZo6+PLIsAAAAAYc3R0cwAAAAAAAAABAAAAEwAAAQAAAAAUc3RzcwAAAAAAAAABAAAAAQAAAKhjdHRzAAAAAAAAABMAAAABAAACAAAAAAEAAAUAAAAAAQAAAgAAAAABAAAAAAAAAAEAAAEAAAAAAQAABQAAAAABAAACAAAAAAEAAAAAAAAAAQAAAQAAAAABAAAFAAAAAAEAAAIAAAAAAQAAAAAAAAABAAABAAAAAAEAAAUAAAAAAQAAAgAAAAABAAAAAAAAAAEAAAEAAAAAAQAAAwAAAAABAAABAAAAABxzdHNjAAAAAAAAAAEAAAABAAAAEwAAAAEAAABgc3RzegAAAAAAAAAAAAAAEwAABC0AAAC1AAAAOwAAAC4AAABJAAAApQAAAGEAAAA/AAAAOQAAAPoAAABNAAAASwAAAEAAAACdAAAAZAAAAEgAAABMAAAAYwAAAEgAAAAUc3RjbwAAAAAAAAABAAAAMAAAAGJ1ZHRhAAAAWm1ldGEAAAAAAAAAIWhkbHIAAAAAAAAAAG1kaXJhcHBsAAAAAAAAAAAAAAAALWlsc3QAAAAlqXRvbwAAAB1kYXRhAAAAAQAAAABMYXZmNTcuODMuMTAw\" type=\"video/mp4\" />\n",
              "             </video>"
            ],
            "text/plain": [
              "<IPython.core.display.HTML object>"
            ]
          },
          "metadata": {
            "tags": []
          }
        }
      ]
    },
    {
      "cell_type": "markdown",
      "metadata": {
        "id": "Vh5bNeCPyzeq"
      },
      "source": [
        ""
      ]
    },
    {
      "cell_type": "markdown",
      "metadata": {
        "id": "9KXpjzf2vdeL"
      },
      "source": [
        "## Network update"
      ]
    },
    {
      "cell_type": "markdown",
      "metadata": {
        "id": "NZ3P9MKjxCAL"
      },
      "source": [
        "### Initialization"
      ]
    },
    {
      "cell_type": "markdown",
      "metadata": {
        "id": "Y7gSKTn-ymDZ"
      },
      "source": [
        "In this case we will use the Huber loss as loss function (https://pytorch.org/docs/stable/generated/torch.nn.SmoothL1Loss.html). The Huber loss uses a squared term if the absolute element-wise error falls below beta and an L1 term otherwise. It is less sensitive to outliers than the MSELoss and in some cases prevents exploding gradients."
      ]
    },
    {
      "cell_type": "code",
      "metadata": {
        "id": "lVpk-g0i9d-B"
      },
      "source": [
        "# Set random seeds\n",
        "torch.manual_seed(0)\n",
        "np.random.seed(0)\n",
        "random.seed(0)\n",
        "\n",
        "### PARAMETERS\n",
        "gamma = 0.97   # gamma parameter for the long term reward\n",
        "replay_memory_capacity = 10000   # Replay memory capacity\n",
        "lr = 1e-2   # Optimizer learning rate\n",
        "target_net_update_steps = 10   # Number of episodes to wait before updating the target network\n",
        "batch_size = 128   # Number of samples to take from the replay memory for each update\n",
        "bad_state_penalty = 0   # Penalty to the reward when we are in a bad state (in this case when the pole falls down) \n",
        "min_samples_for_training = 1000   # Minimum samples in the replay memory to enable the training"
      ],
      "execution_count": 22,
      "outputs": []
    },
    {
      "cell_type": "code",
      "metadata": {
        "id": "2k3ZQuh8xHo7"
      },
      "source": [
        "### Initialize the replay memory\n",
        "replay_mem = ReplayMemory(replay_memory_capacity)    \n",
        "\n",
        "### Initialize the policy network\n",
        "policy_net = DQN(state_space_dim, action_space_dim)\n",
        "\n",
        "### Initialize the target network with the same weights of the policy network\n",
        "target_net = DQN(state_space_dim, action_space_dim)\n",
        "target_net.load_state_dict(policy_net.state_dict()) # This will copy the weights of the policy network to the target network\n",
        "\n",
        "### Initialize the optimizer\n",
        "optimizer = torch.optim.SGD(policy_net.parameters(), lr=lr) # The optimizer will update ONLY the parameters of the policy network\n",
        "\n",
        "### Initialize the loss function (Huber loss)\n",
        "loss_fn = nn.SmoothL1Loss()"
      ],
      "execution_count": 23,
      "outputs": []
    },
    {
      "cell_type": "markdown",
      "metadata": {
        "id": "LQUTrt8DzJXO"
      },
      "source": [
        "### Update function"
      ]
    },
    {
      "cell_type": "code",
      "metadata": {
        "id": "Sj1hEvPOvkBX"
      },
      "source": [
        "def update_step(policy_net, target_net, replay_mem, gamma, optimizer, loss_fn, batch_size):\n",
        "        \n",
        "    # Sample the data from the replay memory\n",
        "    batch = replay_mem.sample(batch_size)\n",
        "    batch_size = len(batch)\n",
        "\n",
        "    # Create tensors for each element of the batch\n",
        "    states      = torch.tensor([s[0] for s in batch], dtype=torch.float32)\n",
        "    actions     = torch.tensor([s[1] for s in batch], dtype=torch.int64)\n",
        "    rewards     = torch.tensor([s[3] for s in batch], dtype=torch.float32)\n",
        "\n",
        "    # Compute a mask of non-final states (all the elements where the next state is not None)\n",
        "    non_final_next_states = torch.tensor([s[2] for s in batch if s[2] is not None], dtype=torch.float32) # the next state can be None if the game has ended\n",
        "    non_final_mask = torch.tensor([s[2] is not None for s in batch], dtype=torch.bool)\n",
        "\n",
        "    # Compute all the Q values (forward pass)\n",
        "    policy_net.train()\n",
        "    q_values = policy_net(states)\n",
        "    # Select the proper Q value for the corresponding action taken Q(s_t, a)\n",
        "    state_action_values = q_values.gather(1, actions.unsqueeze(1))\n",
        "\n",
        "    # Compute the value function of the next states using the target network V(s_{t+1}) = max_a( Q_target(s_{t+1}, a)) )\n",
        "    with torch.no_grad():\n",
        "      target_net.eval()\n",
        "      q_values_target = target_net(non_final_next_states)\n",
        "    next_state_max_q_values = torch.zeros(batch_size)\n",
        "    next_state_max_q_values[non_final_mask] = q_values_target.max(dim=1)[0]\n",
        "\n",
        "    # Compute the expected Q values\n",
        "    expected_state_action_values = rewards + (next_state_max_q_values * gamma)\n",
        "    expected_state_action_values = expected_state_action_values.unsqueeze(1) # Set the required tensor shape\n",
        "\n",
        "    # Compute the Huber loss\n",
        "    loss = loss_fn(state_action_values, expected_state_action_values)\n",
        "\n",
        "    # Optimize the model\n",
        "    optimizer.zero_grad()\n",
        "    loss.backward()\n",
        "    # Apply gradient clipping (clip all the gradients greater than 2 for training stability)\n",
        "    nn.utils.clip_grad_norm_(policy_net.parameters(), 2)\n",
        "    optimizer.step()"
      ],
      "execution_count": 24,
      "outputs": []
    },
    {
      "cell_type": "markdown",
      "metadata": {
        "id": "03Ab0RMB5CCC"
      },
      "source": [
        "### Training loop"
      ]
    },
    {
      "cell_type": "code",
      "metadata": {
        "id": "WF6Zf53FoRDZ",
        "colab": {
          "base_uri": "https://localhost:8080/"
        },
        "outputId": "b19f6c0c-b0ed-49ae-fe2e-066fadcbe5be"
      },
      "source": [
        "# Initialize the Gym environment\n",
        "env = gym.make('CartPole-v1') \n",
        "env.seed(0) # Set a random seed for the environment (reproducible results)\n",
        "\n",
        "# This is for creating the output video in Colab, not required outside Colab\n",
        "env = wrap_env(env, video_callable=lambda episode_id: episode_id % 100 == 0) # Save a video every 100 episodes\n",
        "\n",
        "score_record = []\n",
        "win_counter = 0\n",
        "for episode_num, tau in enumerate(exploration_profile):\n",
        "\n",
        "    # Reset the environment and get the initial state\n",
        "    state = env.reset()\n",
        "    # Reset the score. The final score will be the total amount of steps before the pole falls\n",
        "    score = 0\n",
        "    done = False\n",
        "\n",
        "    # Go on until the pole falls off\n",
        "    while not done:\n",
        "\n",
        "      # Choose the action following the policy\n",
        "      action, q_values = choose_action_softmax(policy_net, state, temperature=tau)\n",
        "      \n",
        "      # Apply the action and get the next state, the reward and a flag \"done\" that is True if the game is ended\n",
        "      next_state, reward, done, info = env.step(action)\n",
        "\n",
        "      # We apply a (linear) penalty when the cart is far from center\n",
        "      pos_weight = 1\n",
        "      reward = reward - pos_weight * np.abs(state[0]) \n",
        "\n",
        "      # Update the final score (+1 for each step)\n",
        "      score += 1\n",
        "\n",
        "      # Apply penalty for bad state\n",
        "      if done: # if the pole has fallen down \n",
        "          reward += bad_state_penalty\n",
        "          next_state = None\n",
        "\n",
        "      # Update the replay memory\n",
        "      replay_mem.push(state, action, next_state, reward)\n",
        "\n",
        "      # Update the network\n",
        "      if len(replay_mem) > min_samples_for_training: # we enable the training only if we have enough samples in the replay memory, otherwise the training will use the same samples too often\n",
        "          update_step(policy_net, target_net, replay_mem, gamma, optimizer, loss_fn, batch_size)\n",
        "\n",
        "      # Visually render the environment (disable to speed up the training)\n",
        "      env.render()\n",
        "\n",
        "      # Set the current state for the next iteration\n",
        "      state = next_state\n",
        "\n",
        "    # Update the target network every target_net_update_steps episodes\n",
        "    if episode_num % target_net_update_steps == 0:\n",
        "        print('Updating target network...')\n",
        "        target_net.load_state_dict(policy_net.state_dict()) # This will copy the weights of the policy network to the target network\n",
        "        win_counter = 0\n",
        "    score_record.append(score)\n",
        "\n",
        "    if score == 500:\n",
        "        win_counter +=1\n",
        "    # Print the final score\n",
        "    print(f\"EPISODE: {episode_num + 1} - FINAL SCORE: {score} - Temperature: {tau}\") # Print the final score\n",
        "\n",
        "    #exit if we have 10 consecutive wins with the same net\n",
        "    if win_counter == target_net_update_steps:\n",
        "        break\n",
        "env.close()"
      ],
      "execution_count": 25,
      "outputs": [
        {
          "output_type": "stream",
          "text": [
            "Updating target network...\n",
            "EPISODE: 1 - FINAL SCORE: 12 - Temperature: 5.0\n",
            "EPISODE: 2 - FINAL SCORE: 17 - Temperature: 4.956878909303475\n",
            "EPISODE: 3 - FINAL SCORE: 41 - Temperature: 4.892224251658155\n",
            "EPISODE: 4 - FINAL SCORE: 19 - Temperature: 4.8065995720467605\n",
            "EPISODE: 5 - FINAL SCORE: 24 - Temperature: 4.700654637293583\n",
            "EPISODE: 6 - FINAL SCORE: 16 - Temperature: 4.575121438016088\n",
            "EPISODE: 7 - FINAL SCORE: 30 - Temperature: 4.430809875377982\n",
            "EPISODE: 8 - FINAL SCORE: 29 - Temperature: 4.268603155893598\n",
            "EPISODE: 9 - FINAL SCORE: 15 - Temperature: 4.0894529185367725\n",
            "EPISODE: 10 - FINAL SCORE: 21 - Temperature: 3.8943741192898633\n",
            "Updating target network...\n",
            "EPISODE: 11 - FINAL SCORE: 31 - Temperature: 3.6844396990276795\n",
            "EPISODE: 12 - FINAL SCORE: 59 - Temperature: 3.4607750612652044\n",
            "EPISODE: 13 - FINAL SCORE: 29 - Temperature: 3.2245523868057067\n",
            "EPISODE: 14 - FINAL SCORE: 26 - Temperature: 2.976984812706694\n",
            "EPISODE: 15 - FINAL SCORE: 18 - Temperature: 2.719320503234903\n",
            "EPISODE: 16 - FINAL SCORE: 14 - Temperature: 2.4528366406087745\n",
            "EPISODE: 17 - FINAL SCORE: 17 - Temperature: 2.1788333633286343\n",
            "EPISODE: 18 - FINAL SCORE: 27 - Temperature: 1.8986276797726471\n",
            "EPISODE: 19 - FINAL SCORE: 20 - Temperature: 1.6135473844927504\n",
            "EPISODE: 20 - FINAL SCORE: 67 - Temperature: 1.324925004281781\n",
            "Updating target network...\n",
            "EPISODE: 21 - FINAL SCORE: 16 - Temperature: 1.0340918006040238\n",
            "EPISODE: 22 - FINAL SCORE: 25 - Temperature: 0.7423718543901106\n",
            "EPISODE: 23 - FINAL SCORE: 18 - Temperature: 0.45107625849758587\n",
            "EPISODE: 24 - FINAL SCORE: 24 - Temperature: 0.16149744233508384\n",
            "EPISODE: 25 - FINAL SCORE: 28 - Temperature: 0.12509634775419462\n",
            "EPISODE: 26 - FINAL SCORE: 24 - Temperature: 0.40746638974986565\n",
            "EPISODE: 27 - FINAL SCORE: 42 - Temperature: 0.684408627336534\n",
            "EPISODE: 28 - FINAL SCORE: 23 - Temperature: 0.9547585910604998\n",
            "EPISODE: 29 - FINAL SCORE: 25 - Temperature: 1.2173960801522796\n",
            "EPISODE: 30 - FINAL SCORE: 11 - Temperature: 1.471249587217028\n",
            "Updating target network...\n",
            "EPISODE: 31 - FINAL SCORE: 26 - Temperature: 1.7153004493682755\n",
            "EPISODE: 32 - FINAL SCORE: 27 - Temperature: 1.948586710809348\n",
            "EPISODE: 33 - FINAL SCORE: 18 - Temperature: 2.1702066833442912\n",
            "EPISODE: 34 - FINAL SCORE: 53 - Temperature: 2.3793221928189556\n",
            "EPISODE: 35 - FINAL SCORE: 41 - Temperature: 2.5751615010456885\n",
            "EPISODE: 36 - FINAL SCORE: 12 - Temperature: 2.757021894344653\n",
            "EPISODE: 37 - FINAL SCORE: 22 - Temperature: 2.924271931433529\n",
            "EPISODE: 38 - FINAL SCORE: 19 - Temperature: 3.0763533450082057\n",
            "EPISODE: 39 - FINAL SCORE: 21 - Temperature: 3.21278259297228\n",
            "EPISODE: 40 - FINAL SCORE: 14 - Temperature: 3.333152056886011\n",
            "Updating target network...\n",
            "EPISODE: 41 - FINAL SCORE: 13 - Temperature: 3.437130886808127\n",
            "EPISODE: 42 - FINAL SCORE: 16 - Temperature: 3.5244654932900663\n",
            "EPISODE: 43 - FINAL SCORE: 14 - Temperature: 3.594979688844491\n",
            "EPISODE: 44 - FINAL SCORE: 71 - Temperature: 3.6485744827420974\n",
            "EPISODE: 45 - FINAL SCORE: 22 - Temperature: 3.6852275344858887\n",
            "EPISODE: 46 - FINAL SCORE: 29 - Temperature: 3.704992272764537\n",
            "EPISODE: 47 - FINAL SCORE: 10 - Temperature: 3.7079966880897652\n",
            "EPISODE: 48 - FINAL SCORE: 34 - Temperature: 3.6944418086717\n",
            "EPISODE: 49 - FINAL SCORE: 11 - Temperature: 3.6645998703752025\n",
            "EPISODE: 50 - FINAL SCORE: 19 - Temperature: 3.6188121928244765\n",
            "Updating target network...\n",
            "EPISODE: 51 - FINAL SCORE: 19 - Temperature: 3.5574867748781585\n",
            "EPISODE: 52 - FINAL SCORE: 14 - Temperature: 3.4810956237782404\n",
            "EPISODE: 53 - FINAL SCORE: 29 - Temperature: 3.3901718332798234\n",
            "EPISODE: 54 - FINAL SCORE: 34 - Temperature: 3.2853064269912884\n",
            "EPISODE: 55 - FINAL SCORE: 18 - Temperature: 3.167144983992919\n",
            "EPISODE: 56 - FINAL SCORE: 22 - Temperature: 3.0363840645537463\n",
            "EPISODE: 57 - FINAL SCORE: 16 - Temperature: 2.8937674544290424\n",
            "EPISODE: 58 - FINAL SCORE: 14 - Temperature: 2.7400822467927783\n",
            "EPISODE: 59 - FINAL SCORE: 26 - Temperature: 2.5761547813389805\n",
            "EPISODE: 60 - FINAL SCORE: 11 - Temperature: 2.402846460472454\n",
            "Updating target network...\n",
            "EPISODE: 61 - FINAL SCORE: 14 - Temperature: 2.221049462802049\n",
            "EPISODE: 62 - FINAL SCORE: 30 - Temperature: 2.0316823743487147\n",
            "EPISODE: 63 - FINAL SCORE: 15 - Temperature: 1.835685757985981\n",
            "EPISODE: 64 - FINAL SCORE: 12 - Temperature: 1.6340176816433123\n",
            "EPISODE: 65 - FINAL SCORE: 20 - Temperature: 1.4276492257237805\n",
            "EPISODE: 66 - FINAL SCORE: 26 - Temperature: 1.217559990018571\n",
            "EPISODE: 67 - FINAL SCORE: 10 - Temperature: 1.0047336201435149\n",
            "EPISODE: 68 - FINAL SCORE: 48 - Temperature: 0.790153373179757\n",
            "EPISODE: 69 - FINAL SCORE: 32 - Temperature: 0.5747977417741181\n",
            "EPISODE: 70 - FINAL SCORE: 34 - Temperature: 0.35963615544801353\n",
            "Updating target network...\n",
            "EPISODE: 71 - FINAL SCORE: 22 - Temperature: 0.14562477727983938\n",
            "EPISODE: 72 - FINAL SCORE: 96 - Temperature: 0.06629758653150714\n",
            "EPISODE: 73 - FINAL SCORE: 141 - Temperature: 0.2752134474412948\n",
            "EPISODE: 74 - FINAL SCORE: 14 - Temperature: 0.4802304496834118\n",
            "EPISODE: 75 - FINAL SCORE: 21 - Temperature: 0.6804850246097867\n",
            "EPISODE: 76 - FINAL SCORE: 24 - Temperature: 0.8751458700198699\n",
            "EPISODE: 77 - FINAL SCORE: 29 - Temperature: 1.063417241217075\n",
            "EPISODE: 78 - FINAL SCORE: 55 - Temperature: 1.2445420415375046\n",
            "EPISODE: 79 - FINAL SCORE: 21 - Temperature: 1.4178047011465815\n",
            "EPISODE: 80 - FINAL SCORE: 21 - Temperature: 1.5825338339859005\n",
            "Updating target network...\n",
            "EPISODE: 81 - FINAL SCORE: 12 - Temperature: 1.7381046638704318\n",
            "EPISODE: 82 - FINAL SCORE: 17 - Temperature: 1.8839412118799694\n",
            "EPISODE: 83 - FINAL SCORE: 15 - Temperature: 2.019518238352702\n",
            "EPISODE: 84 - FINAL SCORE: 17 - Temperature: 2.1443629339678165\n",
            "EPISODE: 85 - FINAL SCORE: 17 - Temperature: 2.2580563555924233\n",
            "EPISODE: 86 - FINAL SCORE: 30 - Temperature: 2.3602346037606896\n",
            "EPISODE: 87 - FINAL SCORE: 21 - Temperature: 2.4505897398442387\n",
            "EPISODE: 88 - FINAL SCORE: 13 - Temperature: 2.528870442157516\n",
            "EPISODE: 89 - FINAL SCORE: 36 - Temperature: 2.5948824014146594\n",
            "EPISODE: 90 - FINAL SCORE: 26 - Temperature: 2.648488457110403\n",
            "Updating target network...\n",
            "EPISODE: 91 - FINAL SCORE: 19 - Temperature: 2.689608477531711\n",
            "EPISODE: 92 - FINAL SCORE: 18 - Temperature: 2.7182189872144904\n",
            "EPISODE: 93 - FINAL SCORE: 44 - Temperature: 2.7343525467361487\n",
            "EPISODE: 94 - FINAL SCORE: 25 - Temperature: 2.7380968907756666\n",
            "EPISODE: 95 - FINAL SCORE: 32 - Temperature: 2.7295938313740318\n",
            "EPISODE: 96 - FINAL SCORE: 26 - Temperature: 2.709037934285277\n",
            "EPISODE: 97 - FINAL SCORE: 17 - Temperature: 2.676674977218457\n",
            "EPISODE: 98 - FINAL SCORE: 15 - Temperature: 2.632800199630082\n",
            "EPISODE: 99 - FINAL SCORE: 34 - Temperature: 2.5777563545316817\n",
            "EPISODE: 100 - FINAL SCORE: 34 - Temperature: 2.511931573525427\n",
            "Updating target network...\n",
            "EPISODE: 101 - FINAL SCORE: 27 - Temperature: 2.4357570569694382\n",
            "EPISODE: 102 - FINAL SCORE: 41 - Temperature: 2.349704601801295\n",
            "EPISODE: 103 - FINAL SCORE: 23 - Temperature: 2.2542839801112593\n",
            "EPISODE: 104 - FINAL SCORE: 19 - Temperature: 2.1500401820542825\n",
            "EPISODE: 105 - FINAL SCORE: 25 - Temperature: 2.037550537120387\n",
            "EPISODE: 106 - FINAL SCORE: 11 - Temperature: 1.9174217281457004\n",
            "EPISODE: 107 - FINAL SCORE: 17 - Temperature: 1.7902867127402542\n",
            "EPISODE: 108 - FINAL SCORE: 21 - Temperature: 1.6568015670334577\n",
            "EPISODE: 109 - FINAL SCORE: 14 - Temperature: 1.5176422667936336\n",
            "EPISODE: 110 - FINAL SCORE: 29 - Temperature: 1.3735014210643708\n",
            "Updating target network...\n",
            "EPISODE: 111 - FINAL SCORE: 39 - Temperature: 1.2250849734783653\n",
            "EPISODE: 112 - FINAL SCORE: 11 - Temperature: 1.0731088863594034\n",
            "EPISODE: 113 - FINAL SCORE: 45 - Temperature: 0.9182958226065867\n",
            "EPISODE: 114 - FINAL SCORE: 31 - Temperature: 0.7613718401728902\n",
            "EPISODE: 115 - FINAL SCORE: 55 - Temperature: 0.6030631137046167\n",
            "EPISODE: 116 - FINAL SCORE: 39 - Temperature: 0.4440926976008846\n",
            "EPISODE: 117 - FINAL SCORE: 58 - Temperature: 0.2851773443853604\n",
            "EPISODE: 118 - FINAL SCORE: 74 - Temperature: 0.12702439185824974\n",
            "EPISODE: 119 - FINAL SCORE: 49 - Temperature: 0.029671267982132408\n",
            "EPISODE: 120 - FINAL SCORE: 53 - Temperature: 0.18423012578944284\n",
            "Updating target network...\n",
            "EPISODE: 121 - FINAL SCORE: 19 - Temperature: 0.3359908856114401\n",
            "EPISODE: 122 - FINAL SCORE: 66 - Temperature: 0.48431317826935116\n",
            "EPISODE: 123 - FINAL SCORE: 21 - Temperature: 0.6285801467864776\n",
            "EPISODE: 124 - FINAL SCORE: 14 - Temperature: 0.76820089398365\n",
            "EPISODE: 125 - FINAL SCORE: 21 - Temperature: 0.9026127830996318\n",
            "EPISODE: 126 - FINAL SCORE: 15 - Temperature: 1.031283583066364\n",
            "EPISODE: 127 - FINAL SCORE: 13 - Temperature: 1.1537134508682223\n",
            "EPISODE: 128 - FINAL SCORE: 29 - Temperature: 1.2694367442370604\n",
            "EPISODE: 129 - FINAL SCORE: 55 - Temperature: 1.378023658777194\n",
            "EPISODE: 130 - FINAL SCORE: 56 - Temperature: 1.4790816844722108\n",
            "Updating target network...\n",
            "EPISODE: 131 - FINAL SCORE: 42 - Temperature: 1.5722568773948347\n",
            "EPISODE: 132 - FINAL SCORE: 17 - Temperature: 1.6572349433178815\n",
            "EPISODE: 133 - FINAL SCORE: 38 - Temperature: 1.73374213080466\n",
            "EPISODE: 134 - FINAL SCORE: 9 - Temperature: 1.8015459322369913\n",
            "EPISODE: 135 - FINAL SCORE: 10 - Temperature: 1.8604555921145216\n",
            "EPISODE: 136 - FINAL SCORE: 11 - Temperature: 1.9103224228261453\n",
            "EPISODE: 137 - FINAL SCORE: 26 - Temperature: 1.9510399289496625\n",
            "EPISODE: 138 - FINAL SCORE: 19 - Temperature: 1.9825437419753429\n",
            "EPISODE: 139 - FINAL SCORE: 25 - Temperature: 2.0048113681694697\n",
            "EPISODE: 140 - FINAL SCORE: 18 - Temperature: 2.0178617530917484\n",
            "Updating target network...\n",
            "EPISODE: 141 - FINAL SCORE: 57 - Temperature: 2.0217546670523947\n",
            "EPISODE: 142 - FINAL SCORE: 13 - Temperature: 2.016589916537706\n",
            "EPISODE: 143 - FINAL SCORE: 21 - Temperature: 2.002506387343935\n",
            "EPISODE: 144 - FINAL SCORE: 14 - Temperature: 1.9796809258357373\n",
            "EPISODE: 145 - FINAL SCORE: 18 - Temperature: 1.9483270653845468\n",
            "EPISODE: 146 - FINAL SCORE: 14 - Temperature: 1.9086936056418193\n",
            "EPISODE: 147 - FINAL SCORE: 36 - Temperature: 1.8610630528598173\n",
            "EPISODE: 148 - FINAL SCORE: 12 - Temperature: 1.8057499299866473\n",
            "EPISODE: 149 - FINAL SCORE: 15 - Temperature: 1.7430989657308573\n",
            "EPISODE: 150 - FINAL SCORE: 79 - Temperature: 1.6734831722124672\n",
            "Updating target network...\n",
            "EPISODE: 151 - FINAL SCORE: 54 - Temperature: 1.5973018211907388\n",
            "EPISODE: 152 - FINAL SCORE: 48 - Temperature: 1.5149783291830214\n",
            "EPISODE: 153 - FINAL SCORE: 41 - Temperature: 1.4269580620630151\n",
            "EPISODE: 154 - FINAL SCORE: 15 - Temperature: 1.3337060699500956\n",
            "EPISODE: 155 - FINAL SCORE: 10 - Temperature: 1.235704763373603\n",
            "EPISODE: 156 - FINAL SCORE: 19 - Temperature: 1.1334515418171565\n",
            "EPISODE: 157 - FINAL SCORE: 79 - Temperature: 1.0274563858181025\n",
            "EPISODE: 158 - FINAL SCORE: 37 - Temperature: 0.9182394238167023\n",
            "EPISODE: 159 - FINAL SCORE: 20 - Temperature: 0.8063284849188797\n",
            "EPISODE: 160 - FINAL SCORE: 23 - Temperature: 0.6922566486563303\n",
            "Updating target network...\n",
            "EPISODE: 161 - FINAL SCORE: 13 - Temperature: 0.5765598026993739\n",
            "EPISODE: 162 - FINAL SCORE: 40 - Temperature: 0.45977421930233475\n",
            "EPISODE: 163 - FINAL SCORE: 84 - Temperature: 0.34243416103988034\n",
            "EPISODE: 164 - FINAL SCORE: 46 - Temperature: 0.22506952612717304\n",
            "EPISODE: 165 - FINAL SCORE: 100 - Temperature: 0.10820354330860318\n",
            "EPISODE: 166 - FINAL SCORE: 95 - Temperature: 0.00764947404862231\n",
            "EPISODE: 167 - FINAL SCORE: 76 - Temperature: 0.12198630540692035\n",
            "EPISODE: 168 - FINAL SCORE: 76 - Temperature: 0.23431692323094505\n",
            "EPISODE: 169 - FINAL SCORE: 50 - Temperature: 0.34416650751176375\n",
            "EPISODE: 170 - FINAL SCORE: 80 - Temperature: 0.45107736676264915\n",
            "Updating target network...\n",
            "EPISODE: 171 - FINAL SCORE: 62 - Temperature: 0.5546107581240414\n",
            "EPISODE: 172 - FINAL SCORE: 18 - Temperature: 0.6543485997589975\n",
            "EPISODE: 173 - FINAL SCORE: 103 - Temperature: 0.7498950692874728\n",
            "EPISODE: 174 - FINAL SCORE: 68 - Temperature: 0.8408780825956061\n",
            "EPISODE: 175 - FINAL SCORE: 48 - Temperature: 0.9269506479615642\n",
            "EPISODE: 176 - FINAL SCORE: 24 - Temperature: 1.0077920910597558\n",
            "EPISODE: 177 - FINAL SCORE: 34 - Temperature: 1.083109147037297\n",
            "EPISODE: 178 - FINAL SCORE: 47 - Temperature: 1.1526369164975576\n",
            "EPISODE: 179 - FINAL SCORE: 35 - Temperature: 1.2161396828724604\n",
            "EPISODE: 180 - FINAL SCORE: 10 - Temperature: 1.2734115893150295\n",
            "Updating target network...\n",
            "EPISODE: 181 - FINAL SCORE: 44 - Temperature: 1.324277173893434\n",
            "EPISODE: 182 - FINAL SCORE: 26 - Temperature: 1.3685917625147572\n",
            "EPISODE: 183 - FINAL SCORE: 30 - Temperature: 1.4062417196478858\n",
            "EPISODE: 184 - FINAL SCORE: 12 - Temperature: 1.437144557547595\n",
            "EPISODE: 185 - FINAL SCORE: 44 - Temperature: 1.4612489053033844\n",
            "EPISODE: 186 - FINAL SCORE: 20 - Temperature: 1.478534339644216\n",
            "EPISODE: 187 - FINAL SCORE: 39 - Temperature: 1.4890110800215641\n",
            "EPISODE: 188 - FINAL SCORE: 21 - Temperature: 1.492719551065586\n",
            "EPISODE: 189 - FINAL SCORE: 33 - Temperature: 1.4897298160605887\n",
            "EPISODE: 190 - FINAL SCORE: 19 - Temperature: 1.4801408856139606\n",
            "Updating target network...\n",
            "EPISODE: 191 - FINAL SCORE: 13 - Temperature: 1.4640799061954137\n",
            "EPISODE: 192 - FINAL SCORE: 25 - Temperature: 1.4417012336987964\n",
            "EPISODE: 193 - FINAL SCORE: 29 - Temperature: 1.4131853976250888\n",
            "EPISODE: 194 - FINAL SCORE: 34 - Temperature: 1.3787379619009175\n",
            "EPISODE: 195 - FINAL SCORE: 13 - Temperature: 1.3385882887305007\n",
            "EPISODE: 196 - FINAL SCORE: 32 - Temperature: 1.2929882122291487\n",
            "EPISODE: 197 - FINAL SCORE: 46 - Temperature: 1.2422106289020507\n",
            "EPISODE: 198 - FINAL SCORE: 58 - Temperature: 1.1865480123122272\n",
            "EPISODE: 199 - FINAL SCORE: 26 - Temperature: 1.126310859525341\n",
            "EPISODE: 200 - FINAL SCORE: 17 - Temperature: 1.0618260771259542\n",
            "Updating target network...\n",
            "EPISODE: 201 - FINAL SCORE: 14 - Temperature: 0.993435314769358\n",
            "EPISODE: 202 - FINAL SCORE: 12 - Temperature: 0.9214932543649281\n",
            "EPISODE: 203 - FINAL SCORE: 31 - Temperature: 0.8463658630811361\n",
            "EPISODE: 204 - FINAL SCORE: 115 - Temperature: 0.7684286184186949\n",
            "EPISODE: 205 - FINAL SCORE: 28 - Temperature: 0.6880647136173134\n",
            "EPISODE: 206 - FINAL SCORE: 53 - Temperature: 0.6056632516433998\n",
            "EPISODE: 207 - FINAL SCORE: 19 - Temperature: 0.5216174359514282\n",
            "EPISODE: 208 - FINAL SCORE: 33 - Temperature: 0.4363227661212424\n",
            "EPISODE: 209 - FINAL SCORE: 62 - Temperature: 0.35017524634821556\n",
            "EPISODE: 210 - FINAL SCORE: 96 - Temperature: 0.26356961460381745\n",
            "Updating target network...\n",
            "EPISODE: 211 - FINAL SCORE: 51 - Temperature: 0.17689760009211752\n",
            "EPISODE: 212 - FINAL SCORE: 98 - Temperature: 0.09054621640404638\n",
            "EPISODE: 213 - FINAL SCORE: 111 - Temperature: 0.004896097517545948\n",
            "EPISODE: 214 - FINAL SCORE: 41 - Temperature: 0.0796801164906235\n",
            "EPISODE: 215 - FINAL SCORE: 75 - Temperature: 0.16281933746497204\n",
            "EPISODE: 216 - FINAL SCORE: 108 - Temperature: 0.24416952470137918\n",
            "EPISODE: 217 - FINAL SCORE: 32 - Temperature: 0.3233911121233832\n",
            "EPISODE: 218 - FINAL SCORE: 54 - Temperature: 0.40015836162032653\n",
            "EPISODE: 219 - FINAL SCORE: 12 - Temperature: 0.47416063746224546\n",
            "EPISODE: 220 - FINAL SCORE: 27 - Temperature: 0.5451035971230387\n",
            "Updating target network...\n",
            "EPISODE: 221 - FINAL SCORE: 62 - Temperature: 0.6127102942756304\n",
            "EPISODE: 222 - FINAL SCORE: 66 - Temperature: 0.676722190168347\n",
            "EPISODE: 223 - FINAL SCORE: 13 - Temperature: 0.7369000700484336\n",
            "EPISODE: 224 - FINAL SCORE: 41 - Temperature: 0.7930248617643322\n",
            "EPISODE: 225 - FINAL SCORE: 12 - Temperature: 0.8448983541509143\n",
            "EPISODE: 226 - FINAL SCORE: 36 - Temperature: 0.8923438132789681\n",
            "EPISODE: 227 - FINAL SCORE: 24 - Temperature: 0.9352064951299003\n",
            "EPISODE: 228 - FINAL SCORE: 25 - Temperature: 0.973354053736474\n",
            "EPISODE: 229 - FINAL SCORE: 33 - Temperature: 1.0066768443084164\n",
            "EPISODE: 230 - FINAL SCORE: 50 - Temperature: 1.035088121335795\n",
            "Updating target network...\n",
            "EPISODE: 231 - FINAL SCORE: 65 - Temperature: 1.0585241321310512\n",
            "EPISODE: 232 - FINAL SCORE: 58 - Temperature: 1.0769441067305934\n",
            "EPISODE: 233 - FINAL SCORE: 45 - Temperature: 1.0903301455267775\n",
            "EPISODE: 234 - FINAL SCORE: 32 - Temperature: 1.0986870064392864\n",
            "EPISODE: 235 - FINAL SCORE: 20 - Temperature: 1.1020417938593385\n",
            "EPISODE: 236 - FINAL SCORE: 50 - Temperature: 1.1004435520092377\n",
            "EPISODE: 237 - FINAL SCORE: 38 - Temperature: 1.093962765751857\n",
            "EPISODE: 238 - FINAL SCORE: 16 - Temperature: 1.0826907722581698\n",
            "EPISODE: 239 - FINAL SCORE: 26 - Temperature: 1.0667390872945144\n",
            "EPISODE: 240 - FINAL SCORE: 21 - Temperature: 1.046238650223565\n",
            "Updating target network...\n",
            "EPISODE: 241 - FINAL SCORE: 17 - Temperature: 1.0213389921227785\n",
            "EPISODE: 242 - FINAL SCORE: 56 - Temperature: 0.9922073317102879\n",
            "EPISODE: 243 - FINAL SCORE: 17 - Temperature: 0.9590276040298795\n",
            "EPISODE: 244 - FINAL SCORE: 42 - Temperature: 0.9219994270829234\n",
            "EPISODE: 245 - FINAL SCORE: 41 - Temperature: 0.8813370118052382\n",
            "EPISODE: 246 - FINAL SCORE: 23 - Temperature: 0.8372680209702396\n",
            "EPISODE: 247 - FINAL SCORE: 51 - Temperature: 0.7900323827558795\n",
            "EPISODE: 248 - FINAL SCORE: 29 - Temperature: 0.7398810648414713\n",
            "EPISODE: 249 - FINAL SCORE: 27 - Temperature: 0.6870748150013111\n",
            "EPISODE: 250 - FINAL SCORE: 28 - Temperature: 0.6318828742349641\n",
            "Updating target network...\n",
            "EPISODE: 251 - FINAL SCORE: 12 - Temperature: 0.574581668519116\n",
            "EPISODE: 252 - FINAL SCORE: 67 - Temperature: 0.5154534852833943\n",
            "EPISODE: 253 - FINAL SCORE: 17 - Temperature: 0.45478514070246817\n",
            "EPISODE: 254 - FINAL SCORE: 34 - Temperature: 0.39286664385976167\n",
            "EPISODE: 255 - FINAL SCORE: 44 - Temperature: 0.32998986377457856\n",
            "EPISODE: 256 - FINAL SCORE: 24 - Temperature: 0.2664472051950223\n",
            "EPISODE: 257 - FINAL SCORE: 124 - Temperature: 0.2025302989445337\n",
            "EPISODE: 258 - FINAL SCORE: 84 - Temperature: 0.13852871247098014\n",
            "EPISODE: 259 - FINAL SCORE: 190 - Temperature: 0.07472868608495342\n",
            "EPISODE: 260 - FINAL SCORE: 150 - Temperature: 0.011411900189283543\n",
            "Updating target network...\n",
            "EPISODE: 261 - FINAL SCORE: 158 - Temperature: 0.051145721404131525\n",
            "EPISODE: 262 - FINAL SCORE: 117 - Temperature: 0.11267516720006114\n",
            "EPISODE: 263 - FINAL SCORE: 37 - Temperature: 0.17291544816291082\n",
            "EPISODE: 264 - FINAL SCORE: 175 - Temperature: 0.23161465791386066\n",
            "EPISODE: 265 - FINAL SCORE: 24 - Temperature: 0.2885309788974353\n",
            "EPISODE: 266 - FINAL SCORE: 26 - Temperature: 0.34343363072582256\n",
            "EPISODE: 267 - FINAL SCORE: 60 - Temperature: 0.396103757215277\n",
            "EPISODE: 268 - FINAL SCORE: 21 - Temperature: 0.4463352489468055\n",
            "EPISODE: 269 - FINAL SCORE: 60 - Temperature: 0.49393549851105717\n",
            "EPISODE: 270 - FINAL SCORE: 20 - Temperature: 0.5387260859336239\n",
            "Updating target network...\n",
            "EPISODE: 271 - FINAL SCORE: 34 - Temperature: 0.5805433921200565\n",
            "EPISODE: 272 - FINAL SCORE: 18 - Temperature: 0.6192391385082567\n",
            "EPISODE: 273 - FINAL SCORE: 21 - Temperature: 0.6546808514678686\n",
            "EPISODE: 274 - FINAL SCORE: 53 - Temperature: 0.6867522503402589\n",
            "EPISODE: 275 - FINAL SCORE: 26 - Temperature: 0.7153535583670528\n",
            "EPISODE: 276 - FINAL SCORE: 20 - Temperature: 0.740401736108377\n",
            "EPISODE: 277 - FINAL SCORE: 73 - Temperature: 0.7618306373024086\n",
            "EPISODE: 278 - FINAL SCORE: 38 - Temperature: 0.7795910874640101\n",
            "EPISODE: 279 - FINAL SCORE: 58 - Temperature: 0.7936508858606514\n",
            "EPISODE: 280 - FINAL SCORE: 32 - Temperature: 0.8039947318370453\n",
            "Updating target network...\n",
            "EPISODE: 281 - FINAL SCORE: 34 - Temperature: 0.81062407678457\n",
            "EPISODE: 282 - FINAL SCORE: 17 - Temperature: 0.8135569033662311\n",
            "EPISODE: 283 - FINAL SCORE: 86 - Temperature: 0.8128274339114486\n",
            "EPISODE: 284 - FINAL SCORE: 17 - Temperature: 0.8084857701860342\n",
            "EPISODE: 285 - FINAL SCORE: 55 - Temperature: 0.8005974670202601\n",
            "EPISODE: 286 - FINAL SCORE: 24 - Temperature: 0.7892430425408654\n",
            "EPISODE: 287 - FINAL SCORE: 11 - Temperature: 0.7745174280001632\n",
            "EPISODE: 288 - FINAL SCORE: 31 - Temperature: 0.7565293604262513\n",
            "EPISODE: 289 - FINAL SCORE: 11 - Temperature: 0.7354007215318453\n",
            "EPISODE: 290 - FINAL SCORE: 50 - Temperature: 0.7112658265147083\n",
            "Updating target network...\n",
            "EPISODE: 291 - FINAL SCORE: 70 - Temperature: 0.6842706665594481\n",
            "EPISODE: 292 - FINAL SCORE: 33 - Temperature: 0.6545721090079796\n",
            "EPISODE: 293 - FINAL SCORE: 97 - Temperature: 0.6223370593038174\n",
            "EPISODE: 294 - FINAL SCORE: 87 - Temperature: 0.5877415889331474\n",
            "EPISODE: 295 - FINAL SCORE: 45 - Temperature: 0.5509700336831241\n",
            "EPISODE: 296 - FINAL SCORE: 77 - Temperature: 0.5122140666147782\n",
            "EPISODE: 297 - FINAL SCORE: 72 - Temperature: 0.47167175020438246\n",
            "EPISODE: 298 - FINAL SCORE: 43 - Temperature: 0.4295465721429027\n",
            "EPISODE: 299 - FINAL SCORE: 85 - Temperature: 0.3860464692985688\n",
            "EPISODE: 300 - FINAL SCORE: 29 - Temperature: 0.34138284434269606\n",
            "Updating target network...\n",
            "EPISODE: 301 - FINAL SCORE: 36 - Temperature: 0.2957695795140091\n",
            "EPISODE: 302 - FINAL SCORE: 52 - Temperature: 0.24942205195221423\n",
            "EPISODE: 303 - FINAL SCORE: 83 - Temperature: 0.20255615496789597\n",
            "EPISODE: 304 - FINAL SCORE: 71 - Temperature: 0.1553873295334948\n",
            "EPISODE: 305 - FINAL SCORE: 153 - Temperature: 0.10812961017976741\n",
            "EPISODE: 306 - FINAL SCORE: 157 - Temperature: 0.06099468936442026\n",
            "EPISODE: 307 - FINAL SCORE: 265 - Temperature: 0.014191004245275647\n",
            "EPISODE: 308 - FINAL SCORE: 166 - Temperature: 0.03207715035979621\n",
            "EPISODE: 309 - FINAL SCORE: 236 - Temperature: 0.07761047920901011\n",
            "EPISODE: 310 - FINAL SCORE: 200 - Temperature: 0.12221551063074218\n",
            "Updating target network...\n",
            "EPISODE: 311 - FINAL SCORE: 207 - Temperature: 0.1657053840295715\n",
            "EPISODE: 312 - FINAL SCORE: 108 - Temperature: 0.207900597862321\n",
            "EPISODE: 313 - FINAL SCORE: 108 - Temperature: 0.2486297152572576\n",
            "EPISODE: 314 - FINAL SCORE: 16 - Temperature: 0.28773002467444225\n",
            "EPISODE: 315 - FINAL SCORE: 15 - Temperature: 0.32504815323883934\n",
            "EPISODE: 316 - FINAL SCORE: 61 - Temperature: 0.36044063061895537\n",
            "EPISODE: 317 - FINAL SCORE: 86 - Temperature: 0.3937744015713337\n",
            "EPISODE: 318 - FINAL SCORE: 25 - Temperature: 0.42492728552399484\n",
            "EPISODE: 319 - FINAL SCORE: 117 - Temperature: 0.4537883818286937\n",
            "EPISODE: 320 - FINAL SCORE: 78 - Temperature: 0.48025841957146226\n",
            "Updating target network...\n",
            "EPISODE: 321 - FINAL SCORE: 13 - Temperature: 0.5042500510921306\n",
            "EPISODE: 322 - FINAL SCORE: 22 - Temperature: 0.5256880886251915\n",
            "EPISODE: 323 - FINAL SCORE: 13 - Temperature: 0.5445096837353081\n",
            "EPISODE: 324 - FINAL SCORE: 83 - Temperature: 0.5606644494798219\n",
            "EPISODE: 325 - FINAL SCORE: 42 - Temperature: 0.574114525486659\n",
            "EPISODE: 326 - FINAL SCORE: 54 - Temperature: 0.584834586387975\n",
            "EPISODE: 327 - FINAL SCORE: 18 - Temperature: 0.592811794296593\n",
            "EPISODE: 328 - FINAL SCORE: 28 - Temperature: 0.5980456962528472\n",
            "EPISODE: 329 - FINAL SCORE: 44 - Temperature: 0.6005480678027414\n",
            "EPISODE: 330 - FINAL SCORE: 12 - Temperature: 0.6003427040934958\n",
            "Updating target network...\n",
            "EPISODE: 331 - FINAL SCORE: 104 - Temperature: 0.5974651600886562\n",
            "EPISODE: 332 - FINAL SCORE: 17 - Temperature: 0.5919624417111427\n",
            "EPISODE: 333 - FINAL SCORE: 32 - Temperature: 0.5838926499181154\n",
            "EPISODE: 334 - FINAL SCORE: 34 - Temperature: 0.5733245798956152\n",
            "EPISODE: 335 - FINAL SCORE: 29 - Temperature: 0.5603372777329009\n",
            "EPISODE: 336 - FINAL SCORE: 90 - Temperature: 0.5450195570956716\n",
            "EPISODE: 337 - FINAL SCORE: 23 - Temperature: 0.5274694785633524\n",
            "EPISODE: 338 - FINAL SCORE: 20 - Temperature: 0.5077937944278758\n",
            "EPISODE: 339 - FINAL SCORE: 90 - Temperature: 0.48610736186949044\n",
            "EPISODE: 340 - FINAL SCORE: 122 - Temperature: 0.46253252752873103\n",
            "Updating target network...\n",
            "EPISODE: 341 - FINAL SCORE: 14 - Temperature: 0.4371984865824799\n",
            "EPISODE: 342 - FINAL SCORE: 78 - Temperature: 0.410240619505928\n",
            "EPISODE: 343 - FINAL SCORE: 20 - Temperature: 0.38179980976091654\n",
            "EPISODE: 344 - FINAL SCORE: 18 - Temperature: 0.3520217456946923\n",
            "EPISODE: 345 - FINAL SCORE: 89 - Temperature: 0.32105620996143935\n",
            "EPISODE: 346 - FINAL SCORE: 116 - Temperature: 0.2890563597921655\n",
            "EPISODE: 347 - FINAL SCORE: 132 - Temperature: 0.2561780014367569\n",
            "EPISODE: 348 - FINAL SCORE: 58 - Temperature: 0.22257886208545344\n",
            "EPISODE: 349 - FINAL SCORE: 135 - Temperature: 0.18841786254592335\n",
            "EPISODE: 350 - FINAL SCORE: 31 - Temperature: 0.15385439390683234\n",
            "Updating target network...\n",
            "EPISODE: 351 - FINAL SCORE: 144 - Temperature: 0.11904760135971179\n",
            "EPISODE: 352 - FINAL SCORE: 154 - Temperature: 0.08415567827845795\n",
            "EPISODE: 353 - FINAL SCORE: 113 - Temperature: 0.04933517357044246\n",
            "EPISODE: 354 - FINAL SCORE: 127 - Temperature: 0.01474031521552412\n",
            "EPISODE: 355 - FINAL SCORE: 125 - Temperature: 0.019477647200168532\n",
            "EPISODE: 356 - FINAL SCORE: 125 - Temperature: 0.05317107826939126\n",
            "EPISODE: 357 - FINAL SCORE: 121 - Temperature: 0.08619656831248335\n",
            "EPISODE: 358 - FINAL SCORE: 277 - Temperature: 0.11841551827495972\n",
            "EPISODE: 359 - FINAL SCORE: 67 - Temperature: 0.1496946957089403\n",
            "EPISODE: 360 - FINAL SCORE: 97 - Temperature: 0.17990675973118356\n",
            "Updating target network...\n",
            "EPISODE: 361 - FINAL SCORE: 64 - Temperature: 0.20893075301567304\n",
            "EPISODE: 362 - FINAL SCORE: 56 - Temperature: 0.2366525590504254\n",
            "EPISODE: 363 - FINAL SCORE: 36 - Temperature: 0.2629653230656004\n",
            "EPISODE: 364 - FINAL SCORE: 33 - Temperature: 0.28776983522223376\n",
            "EPISODE: 365 - FINAL SCORE: 11 - Temperature: 0.3109748748371063\n",
            "EPISODE: 366 - FINAL SCORE: 68 - Temperature: 0.3324975146085296\n",
            "EPISODE: 367 - FINAL SCORE: 70 - Temperature: 0.35226338399928797\n",
            "EPISODE: 368 - FINAL SCORE: 87 - Temperature: 0.37020689112574295\n",
            "EPISODE: 369 - FINAL SCORE: 56 - Temperature: 0.38627140269531135\n",
            "EPISODE: 370 - FINAL SCORE: 132 - Temperature: 0.4004093817272913\n",
            "Updating target network...\n",
            "EPISODE: 371 - FINAL SCORE: 27 - Temperature: 0.4125824829835161\n",
            "EPISODE: 372 - FINAL SCORE: 46 - Temperature: 0.4227616062246455\n",
            "EPISODE: 373 - FINAL SCORE: 24 - Temperature: 0.43092690759436203\n",
            "EPISODE: 374 - FINAL SCORE: 67 - Temperature: 0.4370677696164143\n",
            "EPISODE: 375 - FINAL SCORE: 40 - Temperature: 0.44118273046764794\n",
            "EPISODE: 376 - FINAL SCORE: 25 - Temperature: 0.4432793733631292\n",
            "EPISODE: 377 - FINAL SCORE: 50 - Temperature: 0.443374177056485\n",
            "EPISODE: 378 - FINAL SCORE: 100 - Temperature: 0.4414923286190037\n",
            "EPISODE: 379 - FINAL SCORE: 29 - Temperature: 0.4376674998142183\n",
            "EPISODE: 380 - FINAL SCORE: 17 - Temperature: 0.4319415885300523\n",
            "Updating target network...\n",
            "EPISODE: 381 - FINAL SCORE: 135 - Temperature: 0.4243644268675821\n",
            "EPISODE: 382 - FINAL SCORE: 47 - Temperature: 0.4149934576135831\n",
            "EPISODE: 383 - FINAL SCORE: 37 - Temperature: 0.40389338094278715\n",
            "EPISODE: 384 - FINAL SCORE: 95 - Temperature: 0.3911357733048088\n",
            "EPISODE: 385 - FINAL SCORE: 66 - Temperature: 0.37679868054962196\n",
            "EPISODE: 386 - FINAL SCORE: 57 - Temperature: 0.3609661874339598\n",
            "EPISODE: 387 - FINAL SCORE: 21 - Temperature: 0.34372796572885767\n",
            "EPISODE: 388 - FINAL SCORE: 52 - Temperature: 0.3251788032154769\n",
            "EPISODE: 389 - FINAL SCORE: 42 - Temperature: 0.30541811591225415\n",
            "EPISODE: 390 - FINAL SCORE: 104 - Temperature: 0.28454944592115117\n",
            "Updating target network...\n",
            "EPISODE: 391 - FINAL SCORE: 93 - Temperature: 0.26267994731431094\n",
            "EPISODE: 392 - FINAL SCORE: 112 - Temperature: 0.2399198625047318\n",
            "EPISODE: 393 - FINAL SCORE: 30 - Temperature: 0.21638199155571408\n",
            "EPISODE: 394 - FINAL SCORE: 40 - Temperature: 0.19218115688388465\n",
            "EPISODE: 395 - FINAL SCORE: 31 - Temperature: 0.16743366579972982\n",
            "EPISODE: 396 - FINAL SCORE: 22 - Temperature: 0.14225677330793352\n",
            "EPISODE: 397 - FINAL SCORE: 79 - Temperature: 0.11676814755767295\n",
            "EPISODE: 398 - FINAL SCORE: 86 - Temperature: 0.09108534029064003\n",
            "EPISODE: 399 - FINAL SCORE: 99 - Temperature: 0.06532526458225309\n",
            "EPISODE: 400 - FINAL SCORE: 79 - Temperature: 0.03960368210967245\n",
            "Updating target network...\n",
            "EPISODE: 401 - FINAL SCORE: 89 - Temperature: 0.014034702109184562\n",
            "EPISODE: 402 - FINAL SCORE: 90 - Temperature: 0.011269705894181253\n",
            "EPISODE: 403 - FINAL SCORE: 78 - Temperature: 0.03620018358999353\n",
            "EPISODE: 404 - FINAL SCORE: 122 - Temperature: 0.060650437719648564\n",
            "EPISODE: 405 - FINAL SCORE: 73 - Temperature: 0.0845176744514354\n",
            "EPISODE: 406 - FINAL SCORE: 43 - Temperature: 0.10770301260707112\n",
            "EPISODE: 407 - FINAL SCORE: 104 - Temperature: 0.13011187416914086\n",
            "EPISODE: 408 - FINAL SCORE: 38 - Temperature: 0.1516543506201946\n",
            "EPISODE: 409 - FINAL SCORE: 72 - Temperature: 0.17224554379047316\n",
            "EPISODE: 410 - FINAL SCORE: 23 - Temperature: 0.19180588002173765\n",
            "Updating target network...\n",
            "EPISODE: 411 - FINAL SCORE: 74 - Temperature: 0.21026139658882223\n",
            "EPISODE: 412 - FINAL SCORE: 36 - Temperature: 0.22754399945767406\n",
            "EPISODE: 413 - FINAL SCORE: 43 - Temperature: 0.24359169159813887\n",
            "EPISODE: 414 - FINAL SCORE: 37 - Temperature: 0.2583487712109457\n",
            "EPISODE: 415 - FINAL SCORE: 104 - Temperature: 0.2717659993705781\n",
            "EPISODE: 416 - FINAL SCORE: 26 - Temperature: 0.2838007367283789\n",
            "EPISODE: 417 - FINAL SCORE: 47 - Temperature: 0.29441704906260596\n",
            "EPISODE: 418 - FINAL SCORE: 32 - Temperature: 0.3035857816037184\n",
            "EPISODE: 419 - FINAL SCORE: 42 - Temperature: 0.3112846022031905\n",
            "EPISODE: 420 - FINAL SCORE: 22 - Temperature: 0.31749801355210017\n",
            "Updating target network...\n",
            "EPISODE: 421 - FINAL SCORE: 35 - Temperature: 0.32221733479100034\n",
            "EPISODE: 422 - FINAL SCORE: 43 - Temperature: 0.3254406529845822\n",
            "EPISODE: 423 - FINAL SCORE: 19 - Temperature: 0.3271727450628566\n",
            "EPISODE: 424 - FINAL SCORE: 117 - Temperature: 0.3274249709544592\n",
            "EPISODE: 425 - FINAL SCORE: 28 - Temperature: 0.32621513875676095\n",
            "EPISODE: 426 - FINAL SCORE: 57 - Temperature: 0.3235673429012459\n",
            "EPISODE: 427 - FINAL SCORE: 37 - Temperature: 0.3195117763806761\n",
            "EPISODE: 428 - FINAL SCORE: 41 - Temperature: 0.31408451820648514\n",
            "EPISODE: 429 - FINAL SCORE: 73 - Temperature: 0.307327297360257\n",
            "EPISODE: 430 - FINAL SCORE: 16 - Temperature: 0.29928723459170803\n",
            "Updating target network...\n",
            "EPISODE: 431 - FINAL SCORE: 51 - Temperature: 0.2900165634969886\n",
            "EPISODE: 432 - FINAL SCORE: 40 - Temperature: 0.27957233238510076\n",
            "EPISODE: 433 - FINAL SCORE: 47 - Temperature: 0.26801608850653164\n",
            "EPISODE: 434 - FINAL SCORE: 17 - Temperature: 0.2554135462766519\n",
            "EPISODE: 435 - FINAL SCORE: 73 - Temperature: 0.24183424117685293\n",
            "EPISODE: 436 - FINAL SCORE: 49 - Temperature: 0.22735117105868044\n",
            "EPISODE: 437 - FINAL SCORE: 43 - Temperature: 0.2120404266102743\n",
            "EPISODE: 438 - FINAL SCORE: 163 - Temperature: 0.1959808127702063\n",
            "EPISODE: 439 - FINAL SCORE: 32 - Temperature: 0.17925346289130387\n",
            "EPISODE: 440 - FINAL SCORE: 72 - Temperature: 0.16194144746628922\n",
            "Updating target network...\n",
            "EPISODE: 441 - FINAL SCORE: 55 - Temperature: 0.14412937922811536\n",
            "EPISODE: 442 - FINAL SCORE: 58 - Temperature: 0.12590301643083904\n",
            "EPISODE: 443 - FINAL SCORE: 48 - Temperature: 0.1073488661018773\n",
            "EPISODE: 444 - FINAL SCORE: 90 - Temperature: 0.0885537890337088\n",
            "EPISODE: 445 - FINAL SCORE: 87 - Temperature: 0.06960460825271986\n",
            "EPISODE: 446 - FINAL SCORE: 500 - Temperature: 0.05058772266515244\n",
            "EPISODE: 447 - FINAL SCORE: 209 - Temperature: 0.0315887275353304\n",
            "EPISODE: 448 - FINAL SCORE: 106 - Temperature: 0.01269204339969169\n",
            "EPISODE: 449 - FINAL SCORE: 217 - Temperature: 0.006019445037925062\n",
            "EPISODE: 450 - FINAL SCORE: 83 - Temperature: 0.02446473854854043\n",
            "Updating target network...\n",
            "EPISODE: 451 - FINAL SCORE: 500 - Temperature: 0.04256506014665921\n",
            "EPISODE: 452 - FINAL SCORE: 500 - Temperature: 0.060244177649491054\n",
            "EPISODE: 453 - FINAL SCORE: 267 - Temperature: 0.07742871077139492\n",
            "EPISODE: 454 - FINAL SCORE: 319 - Temperature: 0.09404842158313845\n",
            "EPISODE: 455 - FINAL SCORE: 101 - Temperature: 0.11003648725465372\n",
            "EPISODE: 456 - FINAL SCORE: 114 - Temperature: 0.1253297540927395\n",
            "EPISODE: 457 - FINAL SCORE: 61 - Temperature: 0.13986897198114678\n",
            "EPISODE: 458 - FINAL SCORE: 118 - Temperature: 0.15359900842921836\n",
            "EPISODE: 459 - FINAL SCORE: 87 - Temperature: 0.1664690415362643\n",
            "EPISODE: 460 - FINAL SCORE: 149 - Temperature: 0.17843273128165196\n",
            "Updating target network...\n",
            "EPISODE: 461 - FINAL SCORE: 50 - Temperature: 0.18944836865472334\n",
            "EPISODE: 462 - FINAL SCORE: 33 - Temperature: 0.19947900224357493\n",
            "EPISODE: 463 - FINAL SCORE: 9 - Temperature: 0.20849254200706835\n",
            "EPISODE: 464 - FINAL SCORE: 80 - Temperature: 0.21646184005960717\n",
            "EPISODE: 465 - FINAL SCORE: 91 - Temperature: 0.22336474840282255\n",
            "EPISODE: 466 - FINAL SCORE: 95 - Temperature: 0.22918415364186404\n",
            "EPISODE: 467 - FINAL SCORE: 58 - Temperature: 0.2339079888260515\n",
            "EPISODE: 468 - FINAL SCORE: 27 - Temperature: 0.23752922265378243\n",
            "EPISODE: 469 - FINAL SCORE: 96 - Temperature: 0.24004582637936803\n",
            "EPISODE: 470 - FINAL SCORE: 101 - Temperature: 0.24146071885450315\n",
            "Updating target network...\n",
            "EPISODE: 471 - FINAL SCORE: 60 - Temperature: 0.24178169022895926\n",
            "EPISODE: 472 - FINAL SCORE: 70 - Temperature: 0.24102130492346024\n",
            "EPISODE: 473 - FINAL SCORE: 94 - Temperature: 0.2391967845722139\n",
            "EPISODE: 474 - FINAL SCORE: 137 - Temperature: 0.2363298717128915\n",
            "EPISODE: 475 - FINAL SCORE: 63 - Temperature: 0.23244667507767838\n",
            "EPISODE: 476 - FINAL SCORE: 35 - Temperature: 0.22757749741007224\n",
            "EPISODE: 477 - FINAL SCORE: 60 - Temperature: 0.2217566467981341\n",
            "EPISODE: 478 - FINAL SCORE: 21 - Temperature: 0.21502223257566425\n",
            "EPISODE: 479 - FINAL SCORE: 130 - Temperature: 0.2074159468980801\n",
            "EPISODE: 480 - FINAL SCORE: 110 - Temperature: 0.19898283314944126\n",
            "Updating target network...\n",
            "EPISODE: 481 - FINAL SCORE: 91 - Temperature: 0.18977104238094553\n",
            "EPISODE: 482 - FINAL SCORE: 28 - Temperature: 0.17983157901918845\n",
            "EPISODE: 483 - FINAL SCORE: 146 - Temperature: 0.1692180371144503\n",
            "EPISODE: 484 - FINAL SCORE: 124 - Temperature: 0.15798632842515797\n",
            "EPISODE: 485 - FINAL SCORE: 142 - Temperature: 0.1461944036544932\n",
            "EPISODE: 486 - FINAL SCORE: 111 - Temperature: 0.13390196816874347\n",
            "EPISODE: 487 - FINAL SCORE: 500 - Temperature: 0.12117019353463189\n",
            "EPISODE: 488 - FINAL SCORE: 143 - Temperature: 0.10806142621431408\n",
            "EPISODE: 489 - FINAL SCORE: 335 - Temperature: 0.09463889475234127\n",
            "EPISODE: 490 - FINAL SCORE: 339 - Temperature: 0.08096641677846171\n",
            "Updating target network...\n",
            "EPISODE: 491 - FINAL SCORE: 97 - Temperature: 0.06710810713409714\n",
            "EPISODE: 492 - FINAL SCORE: 166 - Temperature: 0.05312808840850911\n",
            "EPISODE: 493 - FINAL SCORE: 148 - Temperature: 0.03909020514356931\n",
            "EPISODE: 494 - FINAL SCORE: 205 - Temperature: 0.025057742933507588\n",
            "EPISODE: 495 - FINAL SCORE: 217 - Temperature: 0.01109315360860431\n",
            "EPISODE: 496 - FINAL SCORE: 500 - Temperature: 0.002742212350615801\n",
            "EPISODE: 497 - FINAL SCORE: 444 - Temperature: 0.016388365068922897\n",
            "EPISODE: 498 - FINAL SCORE: 85 - Temperature: 0.029786925153155026\n",
            "EPISODE: 499 - FINAL SCORE: 116 - Temperature: 0.04288136319687446\n",
            "EPISODE: 500 - FINAL SCORE: 100 - Temperature: 0.0556172279784783\n",
            "Updating target network...\n",
            "EPISODE: 501 - FINAL SCORE: 132 - Temperature: 0.06794236248071356\n",
            "EPISODE: 502 - FINAL SCORE: 100 - Temperature: 0.07980710692488592\n",
            "EPISODE: 503 - FINAL SCORE: 258 - Temperature: 0.09116448808131428\n",
            "EPISODE: 504 - FINAL SCORE: 285 - Temperature: 0.10197039418808918\n",
            "EPISODE: 505 - FINAL SCORE: 74 - Temperature: 0.11218373488294432\n",
            "EPISODE: 506 - FINAL SCORE: 82 - Temperature: 0.12176658562735682\n",
            "EPISODE: 507 - FINAL SCORE: 77 - Temperature: 0.13068431617782747\n",
            "EPISODE: 508 - FINAL SCORE: 195 - Temperature: 0.1389057027359897\n",
            "EPISODE: 509 - FINAL SCORE: 100 - Temperature: 0.146403023486696\n",
            "EPISODE: 510 - FINAL SCORE: 145 - Temperature: 0.1531521373109\n",
            "Updating target network...\n",
            "EPISODE: 511 - FINAL SCORE: 82 - Temperature: 0.15913254553790596\n",
            "EPISODE: 512 - FINAL SCORE: 104 - Temperature: 0.1643274366788001\n",
            "EPISODE: 513 - FINAL SCORE: 105 - Temperature: 0.16872371415949783\n",
            "EPISODE: 514 - FINAL SCORE: 154 - Temperature: 0.17231200714731867\n",
            "EPISODE: 515 - FINAL SCORE: 108 - Temperature: 0.17508666463913172\n",
            "EPISODE: 516 - FINAL SCORE: 72 - Temperature: 0.17704573305155846\n",
            "EPISODE: 517 - FINAL SCORE: 78 - Temperature: 0.17819091762412234\n",
            "EPISODE: 518 - FINAL SCORE: 102 - Temperature: 0.17852752801440544\n",
            "EPISODE: 519 - FINAL SCORE: 116 - Temperature: 0.17806440852983133\n",
            "EPISODE: 520 - FINAL SCORE: 126 - Temperature: 0.17681385350347661\n",
            "Updating target network...\n",
            "EPISODE: 521 - FINAL SCORE: 58 - Temperature: 0.17479150838099658\n",
            "EPISODE: 522 - FINAL SCORE: 138 - Temperature: 0.17201625714217\n",
            "EPISODE: 523 - FINAL SCORE: 74 - Temperature: 0.1685100967334731\n",
            "EPISODE: 524 - FINAL SCORE: 85 - Temperature: 0.16429799923730912\n",
            "EPISODE: 525 - FINAL SCORE: 241 - Temperature: 0.15940776254888409\n",
            "EPISODE: 526 - FINAL SCORE: 167 - Temperature: 0.1538698503730465\n",
            "EPISODE: 527 - FINAL SCORE: 90 - Temperature: 0.14771722239061882\n",
            "EPISODE: 528 - FINAL SCORE: 97 - Temperature: 0.14098515547666202\n",
            "EPISODE: 529 - FINAL SCORE: 69 - Temperature: 0.13371105688170423\n",
            "EPISODE: 530 - FINAL SCORE: 115 - Temperature: 0.12593427031112328\n",
            "Updating target network...\n",
            "EPISODE: 531 - FINAL SCORE: 128 - Temperature: 0.11769587585752816\n",
            "EPISODE: 532 - FINAL SCORE: 172 - Temperature: 0.10903848475619302\n",
            "EPISODE: 533 - FINAL SCORE: 102 - Temperature: 0.10000602994420994\n",
            "EPISODE: 534 - FINAL SCORE: 69 - Temperature: 0.09064355341022491\n",
            "EPISODE: 535 - FINAL SCORE: 100 - Temperature: 0.08099699132324514\n",
            "EPISODE: 536 - FINAL SCORE: 318 - Temperature: 0.07111295792630927\n",
            "EPISODE: 537 - FINAL SCORE: 184 - Temperature: 0.061038529173647306\n",
            "EPISODE: 538 - FINAL SCORE: 258 - Temperature: 0.05082102707863974\n",
            "EPISODE: 539 - FINAL SCORE: 500 - Temperature: 0.040507805724281976\n",
            "EPISODE: 540 - FINAL SCORE: 330 - Temperature: 0.030146039868341277\n",
            "Updating target network...\n",
            "EPISODE: 541 - FINAL SCORE: 348 - Temperature: 0.019782517051842523\n",
            "EPISODE: 542 - FINAL SCORE: 333 - Temperature: 0.009463434092350976\n",
            "EPISODE: 543 - FINAL SCORE: 298 - Temperature: 0.0007658011873511757\n",
            "EPISODE: 544 - FINAL SCORE: 282 - Temperature: 0.010860762178768798\n",
            "EPISODE: 545 - FINAL SCORE: 314 - Temperature: 0.0207781888763604\n",
            "EPISODE: 546 - FINAL SCORE: 269 - Temperature: 0.03047616569678769\n",
            "EPISODE: 547 - FINAL SCORE: 301 - Temperature: 0.03991429103328233\n",
            "EPISODE: 548 - FINAL SCORE: 230 - Temperature: 0.04905383789545223\n",
            "EPISODE: 549 - FINAL SCORE: 197 - Temperature: 0.05785790503281209\n",
            "EPISODE: 550 - FINAL SCORE: 469 - Temperature: 0.0662915579904865\n",
            "Updating target network...\n",
            "EPISODE: 551 - FINAL SCORE: 186 - Temperature: 0.07432195959738189\n",
            "EPISODE: 552 - FINAL SCORE: 455 - Temperature: 0.08191848944066235\n",
            "EPISODE: 553 - FINAL SCORE: 111 - Temperature: 0.08905285193508321\n",
            "EPISODE: 554 - FINAL SCORE: 101 - Temperature: 0.09569917265161633\n",
            "EPISODE: 555 - FINAL SCORE: 163 - Temperature: 0.1018340826263504\n",
            "EPISODE: 556 - FINAL SCORE: 144 - Temperature: 0.10743679042782332\n",
            "EPISODE: 557 - FINAL SCORE: 158 - Temperature: 0.11248914181827616\n",
            "EPISODE: 558 - FINAL SCORE: 121 - Temperature: 0.1169756669017384\n",
            "EPISODE: 559 - FINAL SCORE: 104 - Temperature: 0.12088361470895066\n",
            "EPISODE: 560 - FINAL SCORE: 116 - Temperature: 0.12420297522574801\n",
            "Updating target network...\n",
            "EPISODE: 561 - FINAL SCORE: 49 - Temperature: 0.1269264889274059\n",
            "EPISODE: 562 - FINAL SCORE: 131 - Temperature: 0.12904964393628932\n",
            "EPISODE: 563 - FINAL SCORE: 108 - Temperature: 0.13057066097381775\n",
            "EPISODE: 564 - FINAL SCORE: 13 - Temperature: 0.13149046632992686\n",
            "EPISODE: 565 - FINAL SCORE: 74 - Temperature: 0.1318126531237626\n",
            "EPISODE: 566 - FINAL SCORE: 101 - Temperature: 0.13154343117799117\n",
            "EPISODE: 567 - FINAL SCORE: 68 - Temperature: 0.13069156587572975\n",
            "EPISODE: 568 - FINAL SCORE: 25 - Temperature: 0.12926830641346054\n",
            "EPISODE: 569 - FINAL SCORE: 145 - Temperature: 0.12728730390525295\n",
            "EPISODE: 570 - FINAL SCORE: 188 - Temperature: 0.12476451983301051\n",
            "Updating target network...\n",
            "EPISODE: 571 - FINAL SCORE: 77 - Temperature: 0.12171812537414022\n",
            "EPISODE: 572 - FINAL SCORE: 137 - Temperature: 0.11816839217189487\n",
            "EPISODE: 573 - FINAL SCORE: 49 - Temperature: 0.11413757514452841\n",
            "EPISODE: 574 - FINAL SCORE: 256 - Temperature: 0.10964978795725065\n",
            "EPISODE: 575 - FINAL SCORE: 112 - Temperature: 0.10473087180568304\n",
            "EPISODE: 576 - FINAL SCORE: 178 - Temperature: 0.09940825818100144\n",
            "EPISODE: 577 - FINAL SCORE: 68 - Temperature: 0.09371082630521663\n",
            "EPISODE: 578 - FINAL SCORE: 17 - Temperature: 0.08766875593995531\n",
            "EPISODE: 579 - FINAL SCORE: 59 - Temperature: 0.08131337628374985\n",
            "EPISODE: 580 - FINAL SCORE: 45 - Temperature: 0.0746770116810922\n",
            "Updating target network...\n",
            "EPISODE: 581 - FINAL SCORE: 82 - Temperature: 0.06779282487149618\n",
            "EPISODE: 582 - FINAL SCORE: 137 - Temperature: 0.06069465850841742\n",
            "EPISODE: 583 - FINAL SCORE: 243 - Temperature: 0.053416875676292754\n",
            "EPISODE: 584 - FINAL SCORE: 297 - Temperature: 0.04599420012906584\n",
            "EPISODE: 585 - FINAL SCORE: 335 - Temperature: 0.03846155696559627\n",
            "EPISODE: 586 - FINAL SCORE: 464 - Temperature: 0.030853914446205735\n",
            "EPISODE: 587 - FINAL SCORE: 302 - Temperature: 0.023206127640566808\n",
            "EPISODE: 588 - FINAL SCORE: 297 - Temperature: 0.015552784580109226\n",
            "EPISODE: 589 - FINAL SCORE: 355 - Temperature: 0.007928055568373598\n",
            "EPISODE: 590 - FINAL SCORE: 336 - Temperature: 0.00036554628031416713\n",
            "Updating target network...\n",
            "EPISODE: 591 - FINAL SCORE: 323 - Temperature: 0.007101844743429954\n",
            "EPISODE: 592 - FINAL SCORE: 500 - Temperature: 0.014442063628565427\n",
            "EPISODE: 593 - FINAL SCORE: 500 - Temperature: 0.02162403317636147\n",
            "EPISODE: 594 - FINAL SCORE: 500 - Temperature: 0.028617778832517905\n",
            "EPISODE: 595 - FINAL SCORE: 500 - Temperature: 0.03539454813173325\n",
            "EPISODE: 596 - FINAL SCORE: 500 - Temperature: 0.041926923169231946\n",
            "EPISODE: 597 - FINAL SCORE: 500 - Temperature: 0.04818892568736757\n",
            "EPISODE: 598 - FINAL SCORE: 500 - Temperature: 0.05415611440354355\n",
            "EPISODE: 599 - FINAL SCORE: 500 - Temperature: 0.05980567424508948\n",
            "EPISODE: 600 - FINAL SCORE: 322 - Temperature: 0.06511649719702184\n",
            "Updating target network...\n",
            "EPISODE: 601 - FINAL SCORE: 332 - Temperature: 0.07006925450979197\n",
            "EPISODE: 602 - FINAL SCORE: 500 - Temperature: 0.07464646005581355\n",
            "EPISODE: 603 - FINAL SCORE: 500 - Temperature: 0.07883252466573565\n",
            "EPISODE: 604 - FINAL SCORE: 338 - Temperature: 0.08261380131775699\n",
            "EPISODE: 605 - FINAL SCORE: 304 - Temperature: 0.08597862109565431\n",
            "EPISODE: 606 - FINAL SCORE: 281 - Temperature: 0.08891731987342223\n",
            "EPISODE: 607 - FINAL SCORE: 104 - Temperature: 0.09142225572625277\n",
            "EPISODE: 608 - FINAL SCORE: 214 - Temperature: 0.09348781710893064\n",
            "EPISODE: 609 - FINAL SCORE: 154 - Temperature: 0.09511042188330643\n",
            "EPISODE: 610 - FINAL SCORE: 159 - Temperature: 0.09628850731625885\n",
            "Updating target network...\n",
            "EPISODE: 611 - FINAL SCORE: 207 - Temperature: 0.09702251120821447\n",
            "EPISODE: 612 - FINAL SCORE: 93 - Temperature: 0.09731484434978069\n",
            "EPISODE: 613 - FINAL SCORE: 105 - Temperature: 0.09716985454014368\n",
            "EPISODE: 614 - FINAL SCORE: 182 - Temperature: 0.09659378243550033\n",
            "EPISODE: 615 - FINAL SCORE: 163 - Temperature: 0.09559470952875578\n",
            "EPISODE: 616 - FINAL SCORE: 321 - Temperature: 0.0941824985929267\n",
            "EPISODE: 617 - FINAL SCORE: 230 - Temperature: 0.09236872695001486\n",
            "EPISODE: 618 - FINAL SCORE: 176 - Temperature: 0.09016661295445183\n",
            "EPISODE: 619 - FINAL SCORE: 250 - Temperature: 0.08759093610547117\n",
            "EPISODE: 620 - FINAL SCORE: 500 - Temperature: 0.08465795122585236\n",
            "Updating target network...\n",
            "EPISODE: 621 - FINAL SCORE: 122 - Temperature: 0.08138529716531392\n",
            "EPISODE: 622 - FINAL SCORE: 409 - Temperature: 0.07779190050537764\n",
            "EPISODE: 623 - FINAL SCORE: 500 - Temperature: 0.07389787475868173\n",
            "EPISODE: 624 - FINAL SCORE: 500 - Temperature: 0.06972441556950566\n",
            "EPISODE: 625 - FINAL SCORE: 500 - Temperature: 0.06529369243358345\n",
            "EPISODE: 626 - FINAL SCORE: 500 - Temperature: 0.0606287374641842\n",
            "EPISODE: 627 - FINAL SCORE: 500 - Temperature: 0.05575333173783373\n",
            "EPISODE: 628 - FINAL SCORE: 500 - Temperature: 0.05069188975703724\n",
            "EPISODE: 629 - FINAL SCORE: 500 - Temperature: 0.04546934256885028\n",
            "EPISODE: 630 - FINAL SCORE: 500 - Temperature: 0.040111020077270486\n",
            "Updating target network...\n",
            "EPISODE: 631 - FINAL SCORE: 500 - Temperature: 0.0346425330841008\n",
            "EPISODE: 632 - FINAL SCORE: 500 - Temperature: 0.02908965558733704\n",
            "EPISODE: 633 - FINAL SCORE: 500 - Temperature: 0.02347820785818787\n",
            "EPISODE: 634 - FINAL SCORE: 500 - Temperature: 0.017833940807717732\n",
            "EPISODE: 635 - FINAL SCORE: 500 - Temperature: 0.012182422141821393\n",
            "EPISODE: 636 - FINAL SCORE: 500 - Temperature: 0.0065489247888703625\n",
            "EPISODE: 637 - FINAL SCORE: 447 - Temperature: 0.0009583180680819707\n",
            "EPISODE: 638 - FINAL SCORE: 500 - Temperature: 0.0045650379515737565\n",
            "EPISODE: 639 - FINAL SCORE: 500 - Temperature: 0.00999739447204663\n",
            "EPISODE: 640 - FINAL SCORE: 500 - Temperature: 0.01531571195824312\n",
            "Updating target network...\n",
            "EPISODE: 641 - FINAL SCORE: 500 - Temperature: 0.02049775371634664\n",
            "EPISODE: 642 - FINAL SCORE: 500 - Temperature: 0.025522174697969177\n",
            "EPISODE: 643 - FINAL SCORE: 422 - Temperature: 0.03036860519552779\n",
            "EPISODE: 644 - FINAL SCORE: 500 - Temperature: 0.03501772912131817\n",
            "EPISODE: 645 - FINAL SCORE: 500 - Temperature: 0.039451356590788564\n",
            "EPISODE: 646 - FINAL SCORE: 500 - Temperature: 0.043652490559504833\n",
            "EPISODE: 647 - FINAL SCORE: 500 - Temperature: 0.04760538729296261\n",
            "EPISODE: 648 - FINAL SCORE: 500 - Temperature: 0.05129561047873434\n",
            "EPISODE: 649 - FINAL SCORE: 500 - Temperature: 0.054710078821184144\n",
            "EPISODE: 650 - FINAL SCORE: 500 - Temperature: 0.057837106990067354\n",
            "Updating target network...\n",
            "EPISODE: 651 - FINAL SCORE: 500 - Temperature: 0.060666439825603324\n",
            "EPISODE: 652 - FINAL SCORE: 450 - Temperature: 0.06318927973387947\n",
            "EPISODE: 653 - FINAL SCORE: 429 - Temperature: 0.06539830723765477\n",
            "EPISODE: 654 - FINAL SCORE: 500 - Temperature: 0.06728769467855135\n",
            "EPISODE: 655 - FINAL SCORE: 500 - Temperature: 0.06885311309720824\n",
            "EPISODE: 656 - FINAL SCORE: 500 - Temperature: 0.07009173234800836\n",
            "EPISODE: 657 - FINAL SCORE: 344 - Temperature: 0.0710022145344255\n",
            "EPISODE: 658 - FINAL SCORE: 500 - Temperature: 0.07158470087968158\n",
            "EPISODE: 659 - FINAL SCORE: 309 - Temperature: 0.07184079217520001\n",
            "EPISODE: 660 - FINAL SCORE: 298 - Temperature: 0.07177352297612001\n",
            "Updating target network...\n",
            "EPISODE: 661 - FINAL SCORE: 500 - Temperature: 0.07138732973884086\n",
            "EPISODE: 662 - FINAL SCORE: 500 - Temperature: 0.07068801312005461\n",
            "EPISODE: 663 - FINAL SCORE: 500 - Temperature: 0.06968269467993635\n",
            "EPISODE: 664 - FINAL SCORE: 500 - Temperature: 0.06837976825398626\n",
            "EPISODE: 665 - FINAL SCORE: 500 - Temperature: 0.06678884627838888\n",
            "EPISODE: 666 - FINAL SCORE: 500 - Temperature: 0.06492070137259365\n",
            "EPISODE: 667 - FINAL SCORE: 500 - Temperature: 0.06278720350006996\n",
            "EPISODE: 668 - FINAL SCORE: 378 - Temperature: 0.06040125304378009\n",
            "EPISODE: 669 - FINAL SCORE: 500 - Temperature: 0.057776710146817095\n",
            "EPISODE: 670 - FINAL SCORE: 500 - Temperature: 0.054928320680802584\n",
            "Updating target network...\n",
            "EPISODE: 671 - FINAL SCORE: 500 - Temperature: 0.05187163921503704\n",
            "EPISODE: 672 - FINAL SCORE: 322 - Temperature: 0.048622949367973206\n",
            "EPISODE: 673 - FINAL SCORE: 371 - Temperature: 0.045199181929379856\n",
            "EPISODE: 674 - FINAL SCORE: 500 - Temperature: 0.04161783114651068\n",
            "EPISODE: 675 - FINAL SCORE: 500 - Temperature: 0.03789686957075992\n",
            "EPISODE: 676 - FINAL SCORE: 487 - Temperature: 0.03405466186260817\n",
            "EPISODE: 677 - FINAL SCORE: 500 - Temperature: 0.03010987795223465\n",
            "EPISODE: 678 - FINAL SCORE: 314 - Temperature: 0.026081405950940252\n",
            "EPISODE: 679 - FINAL SCORE: 480 - Temperature: 0.021988265204592832\n",
            "EPISODE: 680 - FINAL SCORE: 378 - Temperature: 0.017849519874669803\n",
            "Updating target network...\n",
            "EPISODE: 681 - FINAL SCORE: 414 - Temperature: 0.01368419342517511\n",
            "EPISODE: 682 - FINAL SCORE: 262 - Temperature: 0.009511184384855289\n",
            "EPISODE: 683 - FINAL SCORE: 491 - Temperature: 0.005349183743705117\n",
            "EPISODE: 684 - FINAL SCORE: 470 - Temperature: 0.0012165943309062138\n",
            "EPISODE: 685 - FINAL SCORE: 411 - Temperature: 0.002868547491954588\n",
            "EPISODE: 686 - FINAL SCORE: 454 - Temperature: 0.006888647503099209\n",
            "EPISODE: 687 - FINAL SCORE: 325 - Temperature: 0.010826626354767343\n",
            "EPISODE: 688 - FINAL SCORE: 281 - Temperature: 0.014665989082927587\n",
            "EPISODE: 689 - FINAL SCORE: 500 - Temperature: 0.018390891124057042\n",
            "EPISODE: 690 - FINAL SCORE: 335 - Temperature: 0.02198620058952517\n",
            "Updating target network...\n",
            "EPISODE: 691 - FINAL SCORE: 500 - Temperature: 0.02543755656801002\n",
            "EPISODE: 692 - FINAL SCORE: 287 - Temperature: 0.02873142324698303\n",
            "EPISODE: 693 - FINAL SCORE: 346 - Temperature: 0.031855139665622326\n",
            "EPISODE: 694 - FINAL SCORE: 315 - Temperature: 0.03479696493336489\n",
            "EPISODE: 695 - FINAL SCORE: 318 - Temperature: 0.03754611877063248\n",
            "EPISODE: 696 - FINAL SCORE: 375 - Temperature: 0.04009281725095522\n",
            "EPISODE: 697 - FINAL SCORE: 500 - Temperature: 0.04242830364662307\n",
            "EPISODE: 698 - FINAL SCORE: 500 - Temperature: 0.04454487430308389\n",
            "EPISODE: 699 - FINAL SCORE: 327 - Temperature: 0.04643589949039313\n",
            "EPISODE: 700 - FINAL SCORE: 500 - Temperature: 0.04809583920307955\n",
            "Updating target network...\n",
            "EPISODE: 701 - FINAL SCORE: 500 - Temperature: 0.04952025390264751\n",
            "EPISODE: 702 - FINAL SCORE: 500 - Temperature: 0.050705810219559486\n",
            "EPISODE: 703 - FINAL SCORE: 500 - Temperature: 0.05165028165376999\n",
            "EPISODE: 704 - FINAL SCORE: 500 - Temperature: 0.05235254433467915\n",
            "EPISODE: 705 - FINAL SCORE: 500 - Temperature: 0.05281256792259686\n",
            "EPISODE: 706 - FINAL SCORE: 451 - Temperature: 0.05303140175441455\n",
            "EPISODE: 707 - FINAL SCORE: 500 - Temperature: 0.053011156356049347\n",
            "EPISODE: 708 - FINAL SCORE: 500 - Temperature: 0.05275498046330653\n",
            "EPISODE: 709 - FINAL SCORE: 500 - Temperature: 0.0522670337110024\n",
            "EPISODE: 710 - FINAL SCORE: 500 - Temperature: 0.05155245516744649\n",
            "Updating target network...\n",
            "EPISODE: 711 - FINAL SCORE: 433 - Temperature: 0.05061732790762684\n",
            "EPISODE: 712 - FINAL SCORE: 500 - Temperature: 0.04946863983361858\n",
            "EPISODE: 713 - FINAL SCORE: 500 - Temperature: 0.04811424096478712\n",
            "EPISODE: 714 - FINAL SCORE: 500 - Temperature: 0.046562797433242\n",
            "EPISODE: 715 - FINAL SCORE: 500 - Temperature: 0.044823742431659805\n",
            "EPISODE: 716 - FINAL SCORE: 500 - Temperature: 0.042907224371018564\n",
            "EPISODE: 717 - FINAL SCORE: 482 - Temperature: 0.04082405251491425\n",
            "EPISODE: 718 - FINAL SCORE: 500 - Temperature: 0.03858564036497086\n",
            "EPISODE: 719 - FINAL SCORE: 402 - Temperature: 0.03620394707835337\n",
            "EPISODE: 720 - FINAL SCORE: 500 - Temperature: 0.0336914172035771\n",
            "Updating target network...\n",
            "EPISODE: 721 - FINAL SCORE: 500 - Temperature: 0.03106091902462607\n",
            "EPISODE: 722 - FINAL SCORE: 500 - Temperature: 0.02832568180589688\n",
            "EPISODE: 723 - FINAL SCORE: 500 - Temperature: 0.02549923223162716\n",
            "EPISODE: 724 - FINAL SCORE: 500 - Temperature: 0.022595330333307753\n",
            "EPISODE: 725 - FINAL SCORE: 500 - Temperature: 0.01962790519710521\n",
            "EPISODE: 726 - FINAL SCORE: 500 - Temperature: 0.016610990740555266\n",
            "EPISODE: 727 - FINAL SCORE: 500 - Temperature: 0.013558661843794976\n",
            "EPISODE: 728 - FINAL SCORE: 500 - Temperature: 0.010484971115353644\n",
            "EPISODE: 729 - FINAL SCORE: 500 - Temperature: 0.007403886566132369\n",
            "EPISODE: 730 - FINAL SCORE: 500 - Temperature: 0.0043292304576353635\n"
          ],
          "name": "stdout"
        }
      ]
    },
    {
      "cell_type": "code",
      "metadata": {
        "colab": {
          "base_uri": "https://localhost:8080/",
          "height": 283
        },
        "id": "5xIRGZjD77D2",
        "outputId": "657731a6-6dd9-4f03-cf50-eb1da36c3815"
      },
      "source": [
        "plt.plot(score_record)"
      ],
      "execution_count": 26,
      "outputs": [
        {
          "output_type": "execute_result",
          "data": {
            "text/plain": [
              "[<matplotlib.lines.Line2D at 0x7f4321282748>]"
            ]
          },
          "metadata": {
            "tags": []
          },
          "execution_count": 26
        },
        {
          "output_type": "display_data",
          "data": {
            "image/png": "[encoded data removed]",
            "text/plain": [
              "<Figure size 432x288 with 1 Axes>"
            ]
          },
          "metadata": {
            "tags": [],
            "needs_background": "light"
          }
        }
      ]
    },
    {
      "cell_type": "code",
      "metadata": {
        "id": "7FQjjVTiP2T6",
        "colab": {
          "base_uri": "https://localhost:8080/",
          "height": 1000
        },
        "outputId": "785623be-3180-4b8b-eae8-58863f70d3f3"
      },
      "source": [
        "# Display the videos, not required outside Colab\n",
        "show_videos()"
      ],
      "execution_count": 27,
      "outputs": [
        {
          "output_type": "stream",
          "text": [
            "\n",
            "SHOWING VIDEO video/openaigym.video.1.7037.video000000.mp4\n"
          ],
          "name": "stdout"
        },
        {
          "output_type": "display_data",
          "data": {
            "text/html": [
              "<video alt=\"test\" autoplay \n",
              "                loop controls style=\"height: 400px;\">\n",
              "                <source src=\"data:video/mp4;base64,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\" type=\"video/mp4\" />\n",
              "             </video>"
            ],
            "text/plain": [
              "<IPython.core.display.HTML object>"
            ]
          },
          "metadata": {
            "tags": []
          }
        },
        {
          "output_type": "stream",
          "text": [
            "\n",
            "SHOWING VIDEO video/openaigym.video.1.7037.video000100.mp4\n"
          ],
          "name": "stdout"
        },
        {
          "output_type": "display_data",
          "data": {
            "text/html": [
              "<video alt=\"test\" autoplay \n",
              "                loop controls style=\"height: 400px;\">\n",
              "                <source src=\"data:video/mp4;base64,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\" type=\"video/mp4\" />\n",
              "             </video>"
            ],
            "text/plain": [
              "<IPython.core.display.HTML object>"
            ]
          },
          "metadata": {
            "tags": []
          }
        },
        {
          "output_type": "stream",
          "text": [
            "\n",
            "SHOWING VIDEO video/openaigym.video.1.7037.video000200.mp4\n"
          ],
          "name": "stdout"
        },
        {
          "output_type": "display_data",
          "data": {
            "text/html": [
              "<video alt=\"test\" autoplay \n",
              "                loop controls style=\"height: 400px;\">\n",
              "                <source src=\"data:video/mp4;base64,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\" type=\"video/mp4\" />\n",
              "             </video>"
            ],
            "text/plain": [
              "<IPython.core.display.HTML object>"
            ]
          },
          "metadata": {
            "tags": []
          }
        },
        {
          "output_type": "stream",
          "text": [
            "\n",
            "SHOWING VIDEO video/openaigym.video.1.7037.video000300.mp4\n"
          ],
          "name": "stdout"
        },
        {
          "output_type": "display_data",
          "data": {
            "text/html": [
              "<video alt=\"test\" autoplay \n",
              "                loop controls style=\"height: 400px;\">\n",
              "                <source src=\"data:video/mp4;base64,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\" type=\"video/mp4\" />\n",
              "             </video>"
            ],
            "text/plain": [
              "<IPython.core.display.HTML object>"
            ]
          },
          "metadata": {
            "tags": []
          }
        },
        {
          "output_type": "stream",
          "text": [
            "\n",
            "SHOWING VIDEO video/openaigym.video.1.7037.video000400.mp4\n"
          ],
          "name": "stdout"
        },
        {
          "output_type": "display_data",
          "data": {
            "text/html": [
              "<video alt=\"test\" autoplay \n",
              "                loop controls style=\"height: 400px;\">\n",
              "                <source src=\"data:video/mp4;base64,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\" type=\"video/mp4\" />\n",
              "             </video>"
            ],
            "text/plain": [
              "<IPython.core.display.HTML object>"
            ]
          },
          "metadata": {
            "tags": []
          }
        },
        {
          "output_type": "stream",
          "text": [
            "\n",
            "SHOWING VIDEO video/openaigym.video.1.7037.video000500.mp4\n"
          ],
          "name": "stdout"
        },
        {
          "output_type": "display_data",
          "data": {
            "text/html": [
              "<video alt=\"test\" autoplay \n",
              "                loop controls style=\"height: 400px;\">\n",
              "                <source src=\"data:video/mp4;base64,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\" type=\"video/mp4\" />\n",
              "             </video>"
            ],
            "text/plain": [
              "<IPython.core.display.HTML object>"
            ]
          },
          "metadata": {
            "tags": []
          }
        },
        {
          "output_type": "stream",
          "text": [
            "\n",
            "SHOWING VIDEO video/openaigym.video.1.7037.video000600.mp4\n"
          ],
          "name": "stdout"
        },
        {
          "output_type": "display_data",
          "data": {
            "text/html": [
              "<video alt=\"test\" autoplay \n",
              "                loop controls style=\"height: 400px;\">\n",
              "                <source src=\"data:video/mp4;base64,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\" type=\"video/mp4\" />\n",
              "             </video>"
            ],
            "text/plain": [
              "<IPython.core.display.HTML object>"
            ]
          },
          "metadata": {
            "tags": []
          }
        },
        {
          "output_type": "stream",
          "text": [
            "\n",
            "SHOWING VIDEO video/openaigym.video.1.7037.video000700.mp4\n"
          ],
          "name": "stdout"
        },
        {
          "output_type": "display_data",
          "data": {
            "text/html": [
              "<video alt=\"test\" autoplay \n",
              "                loop controls style=\"height: 400px;\">\n",
              "                <source src=\"data:video/mp4;base64,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\" type=\"video/mp4\" />\n",
              "             </video>"
            ],
            "text/plain": [
              "<IPython.core.display.HTML object>"
            ]
          },
          "metadata": {
            "tags": []
          }
        }
      ]
    },
    {
      "cell_type": "markdown",
      "metadata": {
        "id": "JkG9iDZTIhzc"
      },
      "source": [
        "## Final test"
      ]
    },
    {
      "cell_type": "code",
      "metadata": {
        "id": "vJKgnu3_IjWE",
        "colab": {
          "base_uri": "https://localhost:8080/"
        },
        "outputId": "ba1c12a5-e149-452d-969a-54aafa137433"
      },
      "source": [
        "# Initialize the Gym environment\n",
        "env = gym.make('CartPole-v1') \n",
        "env.seed(1) # Set a random seed for the environment (reproducible results)\n",
        "\n",
        "# This is for creating the output video in Colab, not required outside Colab\n",
        "env = wrap_env(env, video_callable=lambda episode_id: True) # Save a video every episode\n",
        "\n",
        "# Let's try for a total of 10 episodes\n",
        "for num_episode in range(10): \n",
        "    # Reset the environment and get the initial state\n",
        "    state = env.reset()\n",
        "    # Reset the score. The final score will be the total amount of steps before the pole falls\n",
        "    score = 0\n",
        "    done = False\n",
        "    # Go on until the pole falls off or the score reach 490\n",
        "    while not done:\n",
        "      # Choose the best action (temperature 0)\n",
        "      action, q_values = choose_action_softmax(policy_net, state, temperature=0)\n",
        "      # Apply the action and get the next state, the reward and a flag \"done\" that is True if the game is ended\n",
        "      next_state, reward, done, info = env.step(action)\n",
        "      # Visually render the environment\n",
        "      env.render()\n",
        "      # Update the final score (+1 for each step)\n",
        "      score += reward \n",
        "      # Set the current state for the next iteration\n",
        "      state = next_state\n",
        "      # Check if the episode ended (the pole fell down)\n",
        "    # Print the final score\n",
        "    print(f\"EPISODE {num_episode + 1} - FINAL SCORE: {score}\") \n",
        "env.close()"
      ],
      "execution_count": null,
      "outputs": [
        {
          "output_type": "stream",
          "text": [
            "EPISODE 1 - FINAL SCORE: 500.0\n",
            "EPISODE 2 - FINAL SCORE: 500.0\n",
            "EPISODE 3 - FINAL SCORE: 500.0\n",
            "EPISODE 4 - FINAL SCORE: 500.0\n"
          ],
          "name": "stdout"
        }
      ]
    },
    {
      "cell_type": "code",
      "metadata": {
        "id": "mxdtGJutLqlw"
      },
      "source": [
        "# Display the videos, not required outside Colab\n",
        "show_videos()"
      ],
      "execution_count": null,
      "outputs": []
    },
    {
      "cell_type": "code",
      "metadata": {
        "id": "hGbVwpVfSr4p"
      },
      "source": [
        ""
      ],
      "execution_count": null,
      "outputs": []
    }
  ]
}