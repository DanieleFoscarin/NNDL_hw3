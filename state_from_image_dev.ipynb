{
  "nbformat": 4,
  "nbformat_minor": 0,
  "metadata": {
    "colab": {
      "name": "state_from_image_dev.ipynb",
      "provenance": [],
      "mount_file_id": "1NYSUT7SZhGIuxbBETG3n_linDiAtmyRT",
      "authorship_tag": "ABX9TyN+py+v0qJsKWbrFNlkj76M",
      "include_colab_link": true
    },
    "kernelspec": {
      "name": "python3",
      "display_name": "Python 3"
    }
  },
  "cells": [
    {
      "cell_type": "markdown",
      "metadata": {
        "id": "view-in-github",
        "colab_type": "text"
      },
      "source": [
        "<a href=\"https://colab.research.google.com/github/DanieleFoscarin/NNDL_hw3/blob/main/state_from_image_dev.ipynb\" target=\"_parent\"><img src=\"https://colab.research.google.com/assets/colab-badge.svg\" alt=\"Open In Colab\"/></a>"
      ]
    },
    {
      "cell_type": "code",
      "metadata": {
        "id": "YPo2_p_-KkLB"
      },
      "source": [
        "import numpy as np\r\n",
        "import matplotlib.pyplot as plt\r\n"
      ],
      "execution_count": 2,
      "outputs": []
    },
    {
      "cell_type": "code",
      "metadata": {
        "colab": {
          "base_uri": "https://localhost:8080/",
          "height": 269
        },
        "id": "6Dmzuu3LLa6f",
        "outputId": "251c62ff-7580-4141-b527-9133aca47793"
      },
      "source": [
        "frame = np.load(\"/content/drive/MyDrive/UNI_ICT/NNDL/NNDL_hw3_data/fame.npy\")\r\n",
        "plt.imshow(frame)\r\n",
        "plt.grid()"
      ],
      "execution_count": 4,
      "outputs": [
        {
          "output_type": "display_data",
          "data": {
            "image/png": "[encoded data removed]",
            "text/plain": [
              "<Figure size 432x288 with 1 Axes>"
            ]
          },
          "metadata": {
            "tags": [],
            "needs_background": "light"
          }
        }
      ]
    },
    {
      "cell_type": "code",
      "metadata": {
        "colab": {
          "base_uri": "https://localhost:8080/",
          "height": 290
        },
        "id": "iIfUBGTjMHUZ",
        "outputId": "3c992fc8-58bd-41ef-8685-4851bfaa02ef"
      },
      "source": [
        "img = frame[160:300]\r\n",
        "plt.imshow(img[:,:,0])\r\n",
        "# plt.imshow(img[:,0])\r\n",
        "print(img[:,:,0])\r\n",
        "# print(np.shape(frame))\r\n",
        "# print(np.shape(frame)[1])\r\n",
        "print(np.mean(np.arange(600)[img[139,:,0]<255]))\r\n",
        "print(np.argmax(img[:,1:159,0]))\r\n",
        "# print(frame[frame[301,:,0]<255])"
      ],
      "execution_count": 55,
      "outputs": [
        {
          "output_type": "stream",
          "text": [
            "[[255 255 255 ... 255 255 255]\n",
            " [255 255 255 ... 255 255 255]\n",
            " [255 255 255 ... 255 255 255]\n",
            " ...\n",
            " [255 255 255 ... 255 255 255]\n",
            " [255 255 255 ... 255 255 255]\n",
            " [255 255 255 ... 255 255 255]]\n",
            "516.5\n",
            "0\n"
          ],
          "name": "stdout"
        },
        {
          "output_type": "display_data",
          "data": {
            "image/png": "[encoded data removed]",
            "text/plain": [
              "<Figure size 432x288 with 1 Axes>"
            ]
          },
          "metadata": {
            "tags": [],
            "needs_background": "light"
          }
        }
      ]
    },
    {
      "cell_type": "code",
      "metadata": {
        "colab": {
          "base_uri": "https://localhost:8080/"
        },
        "id": "OyMbzOyWLoEE",
        "outputId": "c2b5fdba-8aee-4207-dc6c-6d3ae42be4b7"
      },
      "source": [
        "def state_from_image(frame):\r\n",
        "    #maybe define object once outside\r\n",
        "    # detector = cv2.SimpleBlobDetector_create()\r\n",
        "    # cart_pos = detector.detect(frame)\r\n",
        "    frame = frame[160:300]\r\n",
        "    cart_pos = np.mean(np.arange(600)[frame[139,:,0]<255])\r\n",
        "\r\n",
        "    return cart_pos\r\n",
        "\r\n",
        "\r\n",
        "state = state_from_image(frame)\r\n",
        "print(state)"
      ],
      "execution_count": 54,
      "outputs": [
        {
          "output_type": "stream",
          "text": [
            "516.5\n"
          ],
          "name": "stdout"
        }
      ]
    }
  ]
}