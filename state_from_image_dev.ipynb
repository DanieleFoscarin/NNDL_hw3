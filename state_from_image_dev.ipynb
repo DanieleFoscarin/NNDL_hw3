{
  "nbformat": 4,
  "nbformat_minor": 0,
  "metadata": {
    "colab": {
      "name": "state_from_image_dev.ipynb",
      "provenance": [],
      "mount_file_id": "1NYSUT7SZhGIuxbBETG3n_linDiAtmyRT",
      "authorship_tag": "ABX9TyPm0Q643DtxxAqcXXf746CS",
      "include_colab_link": true
    },
    "kernelspec": {
      "name": "python3",
      "display_name": "Python 3"
    }
  },
  "cells": [
    {
      "cell_type": "markdown",
      "metadata": {
        "id": "view-in-github",
        "colab_type": "text"
      },
      "source": [
        "<a href=\"https://colab.research.google.com/github/DanieleFoscarin/NNDL_hw3/blob/main/state_from_image_dev.ipynb\" target=\"_parent\"><img src=\"https://colab.research.google.com/assets/colab-badge.svg\" alt=\"Open In Colab\"/></a>"
      ]
    },
    {
      "cell_type": "code",
      "metadata": {
        "id": "YPo2_p_-KkLB"
      },
      "source": [
        "import numpy as np\r\n",
        "import matplotlib.pyplot as plt\r\n"
      ],
      "execution_count": 1,
      "outputs": []
    },
    {
      "cell_type": "code",
      "metadata": {
        "id": "-qrJcotnTwgD",
        "outputId": "0276afcb-888e-4399-8fda-89d0acd14fbd",
        "colab": {
          "base_uri": "https://localhost:8080/"
        }
      },
      "source": [
        "from google.colab import drive\n",
        "drive.mount('/content/drive')"
      ],
      "execution_count": 3,
      "outputs": [
        {
          "output_type": "stream",
          "text": [
            "Mounted at /content/drive\n"
          ],
          "name": "stdout"
        }
      ]
    },
    {
      "cell_type": "code",
      "metadata": {
        "colab": {
          "base_uri": "https://localhost:8080/",
          "height": 287
        },
        "id": "6Dmzuu3LLa6f",
        "outputId": "b77a2543-1c8d-489f-e138-f9bd3a3f4135"
      },
      "source": [
        "frame = np.load(\"/content/drive/MyDrive/UNI_ICT/NNDL/NNDL_hw3_data/fame.npy\")\r\n",
        "plt.imshow(frame)\r\n",
        "plt.grid()\r\n",
        "print(np.shape(frame))"
      ],
      "execution_count": 30,
      "outputs": [
        {
          "output_type": "stream",
          "text": [
            "(400, 600, 3)\n"
          ],
          "name": "stdout"
        },
        {
          "output_type": "display_data",
          "data": {
            "image/png": "[encoded data removed]",
            "text/plain": [
              "<Figure size 432x288 with 1 Axes>"
            ]
          },
          "metadata": {
            "tags": [],
            "needs_background": "light"
          }
        }
      ]
    },
    {
      "cell_type": "code",
      "metadata": {
        "id": "E5VNVe-TUfwo",
        "outputId": "c6da0060-db0b-47d2-9413-d68d191a5ad8",
        "colab": {
          "base_uri": "https://localhost:8080/",
          "height": 269
        }
      },
      "source": [
        "frame_2 = frame.copy()\r\n",
        "frame_2[:,2:,:] = frame[:,:-2,:]\r\n",
        "frame_2[:,0:2,:] = frame[:,-3:-1,:]\r\n",
        "\r\n",
        "plt.imshow(frame_2)\r\n",
        "plt.grid()"
      ],
      "execution_count": 31,
      "outputs": [
        {
          "output_type": "display_data",
          "data": {
            "image/png": "[encoded data removed]",
            "text/plain": [
              "<Figure size 432x288 with 1 Axes>"
            ]
          },
          "metadata": {
            "tags": [],
            "needs_background": "light"
          }
        }
      ]
    },
    {
      "cell_type": "code",
      "metadata": {
        "colab": {
          "base_uri": "https://localhost:8080/",
          "height": 323
        },
        "id": "iIfUBGTjMHUZ",
        "outputId": "84677b9a-813c-43a5-ab8e-4b1190e90111"
      },
      "source": [
        "# we consider frame1 the old and frame2 the current\r\n",
        "# frame1 = frame.copy\r\n",
        "\r\n",
        "frame1 = frame[160:300]\r\n",
        "frame2 = frame_2[160:300]\r\n",
        "cart_pos1 = np.mean(np.arange(600)[frame1[139,:,0]<255])\r\n",
        "cart_pos2 = np.mean(np.arange(600)[frame2[139,:,0]<255])\r\n",
        "\r\n",
        "cart_vel = cart_pos2 - cart_pos1\r\n",
        "\r\n",
        "# resctrict the searched area in the neighborhood of the cart\r\n",
        "flat_search1 = frame1[:,int(np.clip(cart_pos1-60, 0 ,np.shape(frame1)[1])):int(np.clip(cart_pos1+60, 0 ,np.shape(frame1)[1])),0]\r\n",
        "flat_search2 = frame2[:,int(np.clip(cart_pos1-60, 0 ,np.shape(frame2)[1])):int(np.clip(cart_pos1+60, 0 ,np.shape(frame2)[1])),0]\r\n",
        "plt.imshow(flat_search1)\r\n",
        "print(np.shape(flat_search1))\r\n",
        "\r\n",
        "#reshape varying the last dimension first\r\n",
        "flat_search1 = np.reshape(flat_search1, (120*140,1))\r\n",
        "flat_search2 = np.reshape(flat_search2, (120*140,1))\r\n",
        "\r\n",
        "idx1 = np.argmax(flat_search1<255)\r\n",
        "point1 = [idx1//120, idx1%120] \r\n",
        "point1 = (point1[0], point1[1]-60)\r\n",
        "pole_pos1 = (point1[0], cart_pos1 + point1[1])\r\n",
        "\r\n",
        "idx2 = np.argmax(flat_search1<255)\r\n",
        "point2 = [idx2//120, idx2%120]\r\n",
        "point2 = (point2[0], point2[1]-60)\r\n",
        "pole_pos2 = (point2[0], cart_pos2 + point2[1])\r\n",
        "\r\n",
        "print(pole_pos1, pole_pos2)\r\n",
        "print(np.shape(flat_search1))\r\n",
        "\r\n",
        "# pole_pos = "
      ],
      "execution_count": 44,
      "outputs": [
        {
          "output_type": "stream",
          "text": [
            "(140, 120)\n",
            "[14, 81]\n",
            "(16800, 1)\n"
          ],
          "name": "stdout"
        },
        {
          "output_type": "display_data",
          "data": {
            "image/png": "[encoded data removed]",
            "text/plain": [
              "<Figure size 432x288 with 1 Axes>"
            ]
          },
          "metadata": {
            "tags": [],
            "needs_background": "light"
          }
        }
      ]
    },
    {
      "cell_type": "markdown",
      "metadata": {
        "id": "D8NzVVxaUJZR"
      },
      "source": [
        "need \r\n",
        "\r\n",
        "\r\n",
        "*   cart position\r\n",
        "*   cart velocity\r\n",
        "*   pole angle\r\n",
        "*   pole angular velocity \r\n"
      ]
    },
    {
      "cell_type": "code",
      "metadata": {
        "colab": {
          "base_uri": "https://localhost:8080/",
          "height": 346
        },
        "id": "OyMbzOyWLoEE",
        "outputId": "d99323d9-d34c-448f-fc3f-05518386b984"
      },
      "source": [
        "def state_from_image(frame1, frame2):\r\n",
        "    # we consider frame1 the old and frame2 the current\r\n",
        "    frame1 = frame1[160:300]\r\n",
        "    frame2 = frame2[160:300]\r\n",
        "    cart_pos1 = np.mean(np.arange(600)[frame1[139,:,0]<255])\r\n",
        "    cart_pos2 = np.mean(np.arange(600)[frame2[139,:,0]<255])\r\n",
        "\r\n",
        "    cart_vel = cart_pos2 - cart_pos1\r\n",
        "\r\n",
        "    \r\n",
        "\r\n",
        "    return cart_pos2, cart_vel\r\n",
        "\r\n",
        "\r\n",
        "state = state_from_image(frame, frame2)\r\n",
        "print(state)"
      ],
      "execution_count": 21,
      "outputs": [
        {
          "output_type": "error",
          "ename": "IndexError",
          "evalue": "ignored",
          "traceback": [
            "\u001b[0;31m---------------------------------------------------------------------------\u001b[0m",
            "\u001b[0;31mIndexError\u001b[0m                                Traceback (most recent call last)",
            "\u001b[0;32m<ipython-input-21-5c9b56474e24>\u001b[0m in \u001b[0;36m<module>\u001b[0;34m()\u001b[0m\n\u001b[1;32m     13\u001b[0m \u001b[0;34m\u001b[0m\u001b[0m\n\u001b[1;32m     14\u001b[0m \u001b[0;34m\u001b[0m\u001b[0m\n\u001b[0;32m---> 15\u001b[0;31m \u001b[0mstate\u001b[0m \u001b[0;34m=\u001b[0m \u001b[0mstate_from_image\u001b[0m\u001b[0;34m(\u001b[0m\u001b[0mframe\u001b[0m\u001b[0;34m,\u001b[0m \u001b[0mframe2\u001b[0m\u001b[0;34m)\u001b[0m\u001b[0;34m\u001b[0m\u001b[0;34m\u001b[0m\u001b[0m\n\u001b[0m\u001b[1;32m     16\u001b[0m \u001b[0mprint\u001b[0m\u001b[0;34m(\u001b[0m\u001b[0mstate\u001b[0m\u001b[0;34m)\u001b[0m\u001b[0;34m\u001b[0m\u001b[0;34m\u001b[0m\u001b[0m\n",
            "\u001b[0;32m<ipython-input-21-5c9b56474e24>\u001b[0m in \u001b[0;36mstate_from_image\u001b[0;34m(frame1, frame2)\u001b[0m\n\u001b[1;32m      4\u001b[0m     \u001b[0mframe2\u001b[0m \u001b[0;34m=\u001b[0m \u001b[0mframe2\u001b[0m\u001b[0;34m[\u001b[0m\u001b[0;36m160\u001b[0m\u001b[0;34m:\u001b[0m\u001b[0;36m300\u001b[0m\u001b[0;34m]\u001b[0m\u001b[0;34m\u001b[0m\u001b[0;34m\u001b[0m\u001b[0m\n\u001b[1;32m      5\u001b[0m     \u001b[0mcart_pos1\u001b[0m \u001b[0;34m=\u001b[0m \u001b[0mnp\u001b[0m\u001b[0;34m.\u001b[0m\u001b[0mmean\u001b[0m\u001b[0;34m(\u001b[0m\u001b[0mnp\u001b[0m\u001b[0;34m.\u001b[0m\u001b[0marange\u001b[0m\u001b[0;34m(\u001b[0m\u001b[0;36m600\u001b[0m\u001b[0;34m)\u001b[0m\u001b[0;34m[\u001b[0m\u001b[0mframe1\u001b[0m\u001b[0;34m[\u001b[0m\u001b[0;36m139\u001b[0m\u001b[0;34m,\u001b[0m\u001b[0;34m:\u001b[0m\u001b[0;34m,\u001b[0m\u001b[0;36m0\u001b[0m\u001b[0;34m]\u001b[0m\u001b[0;34m<\u001b[0m\u001b[0;36m255\u001b[0m\u001b[0;34m]\u001b[0m\u001b[0;34m)\u001b[0m\u001b[0;34m\u001b[0m\u001b[0;34m\u001b[0m\u001b[0m\n\u001b[0;32m----> 6\u001b[0;31m     \u001b[0mcart_pos2\u001b[0m \u001b[0;34m=\u001b[0m \u001b[0mnp\u001b[0m\u001b[0;34m.\u001b[0m\u001b[0mmean\u001b[0m\u001b[0;34m(\u001b[0m\u001b[0mnp\u001b[0m\u001b[0;34m.\u001b[0m\u001b[0marange\u001b[0m\u001b[0;34m(\u001b[0m\u001b[0;36m600\u001b[0m\u001b[0;34m)\u001b[0m\u001b[0;34m[\u001b[0m\u001b[0mframe2\u001b[0m\u001b[0;34m[\u001b[0m\u001b[0;36m139\u001b[0m\u001b[0;34m,\u001b[0m\u001b[0;34m:\u001b[0m\u001b[0;34m,\u001b[0m\u001b[0;36m0\u001b[0m\u001b[0;34m]\u001b[0m\u001b[0;34m<\u001b[0m\u001b[0;36m255\u001b[0m\u001b[0;34m]\u001b[0m\u001b[0;34m)\u001b[0m\u001b[0;34m\u001b[0m\u001b[0;34m\u001b[0m\u001b[0m\n\u001b[0m\u001b[1;32m      7\u001b[0m \u001b[0;34m\u001b[0m\u001b[0m\n\u001b[1;32m      8\u001b[0m     \u001b[0mcart_vel\u001b[0m \u001b[0;34m=\u001b[0m \u001b[0mcart_pos2\u001b[0m \u001b[0;34m-\u001b[0m \u001b[0mcart_pos1\u001b[0m\u001b[0;34m\u001b[0m\u001b[0;34m\u001b[0m\u001b[0m\n",
            "\u001b[0;31mIndexError\u001b[0m: index 139 is out of bounds for axis 0 with size 0"
          ]
        }
      ]
    }
  ]
}